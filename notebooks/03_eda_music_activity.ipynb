{
 "cells": [
  {
   "cell_type": "markdown",
   "id": "a1013021",
   "metadata": {},
   "source": [
    "#### Exploratory Data Analysis & Key Insights\n",
    "Dataset:    \n",
    "- _music_activity_city.csv_   \n",
    "- _music_activity_day.csv_\n",
    "- _music_activity_city_day.csv_\n",
    "- _music_activity_time_city.csv_\n",
    "- _music_activity_time_day.csv_\n",
    "- _music_activity_time_city_day.csv_     \n",
    "- _music_clean_\n",
    "\n",
    "Author: Luis Sergio Pastrana Lemus  \n",
    "Date: 2025-04-23"
   ]
  },
  {
   "cell_type": "markdown",
   "id": "8f19462b",
   "metadata": {},
   "source": [
    "## __1. Libraries__"
   ]
  },
  {
   "cell_type": "code",
   "execution_count": 1,
   "id": "94199476",
   "metadata": {},
   "outputs": [],
   "source": [
    "from IPython.display import display, HTML\n",
    "import os\n",
    "import pandas as pd\n",
    "from pathlib import Path\n",
    "import sys\n",
    "\n",
    "# Define project root dynamically, gets the current directory from whick the notebook belongs and moves one level upper\n",
    "project_root = Path.cwd().parent\n",
    "\n",
    "# Add src to sys.path if it is not already\n",
    "if str(project_root) not in sys.path:\n",
    "    sys.path.append(str(project_root))\n",
    "\n",
    "# Import function directly (more controlled than import *)\n",
    "from src import *"
   ]
  },
  {
   "cell_type": "markdown",
   "id": "cf3f11d4",
   "metadata": {},
   "source": [
    "## __2. Path to Data file__"
   ]
  },
  {
   "cell_type": "code",
   "execution_count": 2,
   "id": "1767a2de",
   "metadata": {},
   "outputs": [],
   "source": [
    "# Build route to data file and upload\n",
    "data_file_path = project_root / \"data\" / \"processed\" / \"music_activity\"\n",
    "df_music_activity_city = load_dataset_from_csv(data_file_path, \"music_activity_city.csv\", sep=',', header='infer', keep_default_na=False)\n",
    "df_music_activity_day = load_dataset_from_csv(data_file_path, \"music_activity_day.csv\", sep=',', header='infer', keep_default_na=False)\n",
    "df_music_activity_city_day = load_dataset_from_csv(data_file_path, \"music_activity_city_day.csv\", sep=',', header='infer', keep_default_na=False)\n",
    "df_music_activity_time_city = load_dataset_from_csv(data_file_path, \"music_activity_time_city.csv\", sep=',', header='infer', keep_default_na=False)\n",
    "df_music_activity_time_day = load_dataset_from_csv(data_file_path, \"music_activity_time_day.csv\", sep=',', header='infer', keep_default_na=False)\n",
    "df_music_activity_time_city_day = load_dataset_from_csv(data_file_path, \"music_activity_time_city_day.csv\", sep=',', header='infer', keep_default_na=False)\n",
    "\n",
    "data_file_path = project_root / \"data\" / \"processed\"\n",
    "df_music = load_dataset_from_csv(data_file_path, \"music_clean.csv\", sep=',', header='infer', keep_default_na=False)"
   ]
  },
  {
   "cell_type": "markdown",
   "id": "da9ebca7",
   "metadata": {},
   "source": [
    "## __3. Exploratory Data Analysis__"
   ]
  },
  {
   "cell_type": "markdown",
   "id": "ccf94753",
   "metadata": {},
   "source": [
    "### 3.1  Descriptive Statistics"
   ]
  },
  {
   "cell_type": "markdown",
   "id": "14db2021",
   "metadata": {},
   "source": [
    "<table>\n",
    "  <thead>\n",
    "    <tr>\n",
    "      <th>CV (%)</th>\n",
    "      <th>Interpretation</th>\n",
    "    </tr>\n",
    "  </thead>\n",
    "  <tbody>\n",
    "    <tr>\n",
    "      <td><small><strong>0–10%</strong></small></td>\n",
    "      <td><small><strong>Very low</strong> variability → <strong>very reliable</strong> Mean</small></td>\n",
    "    </tr>\n",
    "    <tr>\n",
    "      <td><small><strong>10–20%</strong></small></td>\n",
    "      <td><small><strong>Moderate</strong> variability → <strong>reliable</strong> Mean</small></td>\n",
    "    </tr>\n",
    "    <tr>\n",
    "      <td><small><strong>20–30%</strong></small></td>\n",
    "      <td><small><strong>Considerable</strong> variability → <strong>some what skewed</strong> Mean</small></td>\n",
    "    </tr>\n",
    "    <tr>\n",
    "      <td><small><strong>>30%</strong></small></td>\n",
    "      <td><small>High<strong> variability</strong> → <strong>prefer</strong> Median</small></td>\n",
    "    </tr>\n",
    "  </tbody>\n",
    "</table>\n"
   ]
  },
  {
   "cell_type": "markdown",
   "id": "7716c535",
   "metadata": {},
   "source": [
    "#### 3.1.1 Descriptive statistics for Music Activity per City"
   ]
  },
  {
   "cell_type": "code",
   "execution_count": 3,
   "id": "add13c8a",
   "metadata": {},
   "outputs": [
    {
     "data": {
      "application/vnd.microsoft.datawrangler.viewer.v0+json": {
       "columns": [
        {
         "name": "index",
         "rawType": "object",
         "type": "string"
        },
        {
         "name": "total_tracks",
         "rawType": "float64",
         "type": "float"
        },
        {
         "name": "tracks",
         "rawType": "float64",
         "type": "float"
        },
        {
         "name": "users",
         "rawType": "float64",
         "type": "float"
        }
       ],
       "ref": "dfd68387-3624-41b6-828a-788d3780b599",
       "rows": [
        [
         "count",
         "2.0",
         "2.0",
         "2.0"
        ],
        [
         "mean",
         "29995.5",
         "21807.0",
         "20681.0"
        ],
        [
         "std",
         "16797.321587086437",
         "10466.594575123276",
         "11862.423361185522"
        ],
        [
         "min",
         "18118.0",
         "14406.0",
         "12293.0"
        ],
        [
         "25%",
         "24056.75",
         "18106.5",
         "16487.0"
        ],
        [
         "50%",
         "29995.5",
         "21807.0",
         "20681.0"
        ],
        [
         "75%",
         "35934.25",
         "25507.5",
         "24875.0"
        ],
        [
         "max",
         "41873.0",
         "29208.0",
         "29069.0"
        ]
       ],
       "shape": {
        "columns": 3,
        "rows": 8
       }
      },
      "text/html": [
       "<div>\n",
       "<style scoped>\n",
       "    .dataframe tbody tr th:only-of-type {\n",
       "        vertical-align: middle;\n",
       "    }\n",
       "\n",
       "    .dataframe tbody tr th {\n",
       "        vertical-align: top;\n",
       "    }\n",
       "\n",
       "    .dataframe thead th {\n",
       "        text-align: right;\n",
       "    }\n",
       "</style>\n",
       "<table border=\"1\" class=\"dataframe\">\n",
       "  <thead>\n",
       "    <tr style=\"text-align: right;\">\n",
       "      <th></th>\n",
       "      <th>total_tracks</th>\n",
       "      <th>tracks</th>\n",
       "      <th>users</th>\n",
       "    </tr>\n",
       "  </thead>\n",
       "  <tbody>\n",
       "    <tr>\n",
       "      <th>count</th>\n",
       "      <td>2.000000</td>\n",
       "      <td>2.000000</td>\n",
       "      <td>2.000000</td>\n",
       "    </tr>\n",
       "    <tr>\n",
       "      <th>mean</th>\n",
       "      <td>29995.500000</td>\n",
       "      <td>21807.000000</td>\n",
       "      <td>20681.000000</td>\n",
       "    </tr>\n",
       "    <tr>\n",
       "      <th>std</th>\n",
       "      <td>16797.321587</td>\n",
       "      <td>10466.594575</td>\n",
       "      <td>11862.423361</td>\n",
       "    </tr>\n",
       "    <tr>\n",
       "      <th>min</th>\n",
       "      <td>18118.000000</td>\n",
       "      <td>14406.000000</td>\n",
       "      <td>12293.000000</td>\n",
       "    </tr>\n",
       "    <tr>\n",
       "      <th>25%</th>\n",
       "      <td>24056.750000</td>\n",
       "      <td>18106.500000</td>\n",
       "      <td>16487.000000</td>\n",
       "    </tr>\n",
       "    <tr>\n",
       "      <th>50%</th>\n",
       "      <td>29995.500000</td>\n",
       "      <td>21807.000000</td>\n",
       "      <td>20681.000000</td>\n",
       "    </tr>\n",
       "    <tr>\n",
       "      <th>75%</th>\n",
       "      <td>35934.250000</td>\n",
       "      <td>25507.500000</td>\n",
       "      <td>24875.000000</td>\n",
       "    </tr>\n",
       "    <tr>\n",
       "      <th>max</th>\n",
       "      <td>41873.000000</td>\n",
       "      <td>29208.000000</td>\n",
       "      <td>29069.000000</td>\n",
       "    </tr>\n",
       "  </tbody>\n",
       "</table>\n",
       "</div>"
      ],
      "text/plain": [
       "       total_tracks        tracks         users\n",
       "count      2.000000      2.000000      2.000000\n",
       "mean   29995.500000  21807.000000  20681.000000\n",
       "std    16797.321587  10466.594575  11862.423361\n",
       "min    18118.000000  14406.000000  12293.000000\n",
       "25%    24056.750000  18106.500000  16487.000000\n",
       "50%    29995.500000  21807.000000  20681.000000\n",
       "75%    35934.250000  25507.500000  24875.000000\n",
       "max    41873.000000  29208.000000  29069.000000"
      ]
     },
     "execution_count": 3,
     "metadata": {},
     "output_type": "execute_result"
    }
   ],
   "source": [
    "df_music_activity_city.describe()"
   ]
  },
  {
   "cell_type": "code",
   "execution_count": 4,
   "id": "9c29769e",
   "metadata": {},
   "outputs": [
    {
     "data": {
      "text/html": [
       "> Coefficient of variation for column <i>'total_tracks'</i>: <b>56.00 %</b>"
      ],
      "text/plain": [
       "<IPython.core.display.HTML object>"
      ]
     },
     "metadata": {},
     "output_type": "display_data"
    },
    {
     "data": {
      "text/html": [
       "> High variability: <i>mean may be misleading</i>. Recommended central measure: <b>median</b>."
      ],
      "text/plain": [
       "<IPython.core.display.HTML object>"
      ]
     },
     "metadata": {},
     "output_type": "display_data"
    },
    {
     "name": "stdout",
     "output_type": "stream",
     "text": [
      "\n"
     ]
    }
   ],
   "source": [
    "# Evaluate the coefficient of variation to select the proper measure of central tendency\n",
    "evaluate_central_trend(df_music_activity_city, 'total_tracks')"
   ]
  },
  {
   "cell_type": "code",
   "execution_count": 5,
   "id": "dbad7293",
   "metadata": {},
   "outputs": [
    {
     "data": {
      "text/html": [
       "> Coefficient of variation for column <i>'tracks'</i>: <b>48.00 %</b>"
      ],
      "text/plain": [
       "<IPython.core.display.HTML object>"
      ]
     },
     "metadata": {},
     "output_type": "display_data"
    },
    {
     "data": {
      "text/html": [
       "> High variability: <i>mean may be misleading</i>. Recommended central measure: <b>median</b>."
      ],
      "text/plain": [
       "<IPython.core.display.HTML object>"
      ]
     },
     "metadata": {},
     "output_type": "display_data"
    },
    {
     "name": "stdout",
     "output_type": "stream",
     "text": [
      "\n"
     ]
    }
   ],
   "source": [
    "evaluate_central_trend(df_music_activity_city, 'tracks')"
   ]
  },
  {
   "cell_type": "code",
   "execution_count": 6,
   "id": "d09cd5e8",
   "metadata": {},
   "outputs": [
    {
     "data": {
      "text/html": [
       "> Coefficient of variation for column <i>'users'</i>: <b>57.36 %</b>"
      ],
      "text/plain": [
       "<IPython.core.display.HTML object>"
      ]
     },
     "metadata": {},
     "output_type": "display_data"
    },
    {
     "data": {
      "text/html": [
       "> High variability: <i>mean may be misleading</i>. Recommended central measure: <b>median</b>."
      ],
      "text/plain": [
       "<IPython.core.display.HTML object>"
      ]
     },
     "metadata": {},
     "output_type": "display_data"
    },
    {
     "name": "stdout",
     "output_type": "stream",
     "text": [
      "\n"
     ]
    }
   ],
   "source": [
    "evaluate_central_trend(df_music_activity_city, 'users')"
   ]
  },
  {
   "cell_type": "code",
   "execution_count": 7,
   "id": "a969a213",
   "metadata": {},
   "outputs": [
    {
     "data": {
      "text/html": [
       "> Lower outlier threshold for column <i>'total_tracks'</i>: <b>6240.5</b>"
      ],
      "text/plain": [
       "<IPython.core.display.HTML object>"
      ]
     },
     "metadata": {},
     "output_type": "display_data"
    },
    {
     "data": {
      "text/html": [
       "> Upper outlier threshold for column <i>'total_tracks'</i>: <b>53750.5</b>"
      ],
      "text/plain": [
       "<IPython.core.display.HTML object>"
      ]
     },
     "metadata": {},
     "output_type": "display_data"
    },
    {
     "data": {
      "text/html": [
       "> No outliers found in column <i>'total_tracks'</i>."
      ],
      "text/plain": [
       "<IPython.core.display.HTML object>"
      ]
     },
     "metadata": {},
     "output_type": "display_data"
    },
    {
     "data": {
      "text/plain": [
       "(Empty DataFrame\n",
       " Columns: [city, total_tracks, tracks, users]\n",
       " Index: [],\n",
       " Empty DataFrame\n",
       " Columns: [city, total_tracks, tracks, users]\n",
       " Index: [])"
      ]
     },
     "execution_count": 7,
     "metadata": {},
     "output_type": "execute_result"
    }
   ],
   "source": [
    "# Evaluate boundary thresholds and detect potential outliers\n",
    "outlier_limit_bounds(df_music_activity_city, 'total_tracks', bound='both')"
   ]
  },
  {
   "cell_type": "code",
   "execution_count": 8,
   "id": "dc822344",
   "metadata": {},
   "outputs": [
    {
     "data": {
      "text/html": [
       "> Lower outlier threshold for column <i>'total_tracks'</i>: <b>16439.5</b>"
      ],
      "text/plain": [
       "<IPython.core.display.HTML object>"
      ]
     },
     "metadata": {},
     "output_type": "display_data"
    },
    {
     "data": {
      "text/html": [
       "> Upper outlier threshold for column <i>'total_tracks'</i>: <b>23955.5</b>"
      ],
      "text/plain": [
       "<IPython.core.display.HTML object>"
      ]
     },
     "metadata": {},
     "output_type": "display_data"
    },
    {
     "data": {
      "text/html": [
       "> No outliers found in column <i>'total_tracks'</i>."
      ],
      "text/plain": [
       "<IPython.core.display.HTML object>"
      ]
     },
     "metadata": {},
     "output_type": "display_data"
    },
    {
     "data": {
      "text/plain": [
       "(Empty DataFrame\n",
       " Columns: [day, total_tracks, tracks, users]\n",
       " Index: [],\n",
       " Empty DataFrame\n",
       " Columns: [day, total_tracks, tracks, users]\n",
       " Index: [])"
      ]
     },
     "execution_count": 8,
     "metadata": {},
     "output_type": "execute_result"
    }
   ],
   "source": [
    "outlier_limit_bounds(df_music_activity_day, 'total_tracks', bound='both')"
   ]
  },
  {
   "cell_type": "code",
   "execution_count": 9,
   "id": "aa590c2a",
   "metadata": {},
   "outputs": [
    {
     "data": {
      "text/html": [
       "> Lower outlier threshold for column <i>'users'</i>: <b>3905.0</b>"
      ],
      "text/plain": [
       "<IPython.core.display.HTML object>"
      ]
     },
     "metadata": {},
     "output_type": "display_data"
    },
    {
     "data": {
      "text/html": [
       "> Upper outlier threshold for column <i>'users'</i>: <b>37457.0</b>"
      ],
      "text/plain": [
       "<IPython.core.display.HTML object>"
      ]
     },
     "metadata": {},
     "output_type": "display_data"
    },
    {
     "data": {
      "text/html": [
       "> No outliers found in column <i>'users'</i>."
      ],
      "text/plain": [
       "<IPython.core.display.HTML object>"
      ]
     },
     "metadata": {},
     "output_type": "display_data"
    },
    {
     "data": {
      "text/plain": [
       "(Empty DataFrame\n",
       " Columns: [city, total_tracks, tracks, users]\n",
       " Index: [],\n",
       " Empty DataFrame\n",
       " Columns: [city, total_tracks, tracks, users]\n",
       " Index: [])"
      ]
     },
     "execution_count": 9,
     "metadata": {},
     "output_type": "execute_result"
    }
   ],
   "source": [
    "outlier_limit_bounds(df_music_activity_city, 'users', bound='both')"
   ]
  },
  {
   "cell_type": "markdown",
   "id": "5b25eb55",
   "metadata": {},
   "source": [
    "#### 3.1.2 Descriptive statistics for Music Activity per Day"
   ]
  },
  {
   "cell_type": "code",
   "execution_count": 10,
   "id": "742ec7d0",
   "metadata": {},
   "outputs": [
    {
     "data": {
      "application/vnd.microsoft.datawrangler.viewer.v0+json": {
       "columns": [
        {
         "name": "index",
         "rawType": "object",
         "type": "string"
        },
        {
         "name": "total_tracks",
         "rawType": "float64",
         "type": "float"
        },
        {
         "name": "tracks",
         "rawType": "float64",
         "type": "float"
        },
        {
         "name": "users",
         "rawType": "float64",
         "type": "float"
        }
       ],
       "ref": "3df419b5-c4b7-4759-be64-d3c3014b5108",
       "rows": [
        [
         "count",
         "3.0",
         "3.0",
         "3.0"
        ],
        [
         "mean",
         "19997.0",
         "16027.0",
         "15296.0"
        ],
        [
         "std",
         "2003.258345795669",
         "1463.1291808996225",
         "1587.86114002453"
        ],
        [
         "min",
         "17717.0",
         "14370.0",
         "13490.0"
        ],
        [
         "25%",
         "19258.0",
         "15470.0",
         "14707.5"
        ],
        [
         "50%",
         "20799.0",
         "16570.0",
         "15925.0"
        ],
        [
         "75%",
         "21137.0",
         "16855.5",
         "16199.0"
        ],
        [
         "max",
         "21475.0",
         "17141.0",
         "16473.0"
        ]
       ],
       "shape": {
        "columns": 3,
        "rows": 8
       }
      },
      "text/html": [
       "<div>\n",
       "<style scoped>\n",
       "    .dataframe tbody tr th:only-of-type {\n",
       "        vertical-align: middle;\n",
       "    }\n",
       "\n",
       "    .dataframe tbody tr th {\n",
       "        vertical-align: top;\n",
       "    }\n",
       "\n",
       "    .dataframe thead th {\n",
       "        text-align: right;\n",
       "    }\n",
       "</style>\n",
       "<table border=\"1\" class=\"dataframe\">\n",
       "  <thead>\n",
       "    <tr style=\"text-align: right;\">\n",
       "      <th></th>\n",
       "      <th>total_tracks</th>\n",
       "      <th>tracks</th>\n",
       "      <th>users</th>\n",
       "    </tr>\n",
       "  </thead>\n",
       "  <tbody>\n",
       "    <tr>\n",
       "      <th>count</th>\n",
       "      <td>3.000000</td>\n",
       "      <td>3.000000</td>\n",
       "      <td>3.00000</td>\n",
       "    </tr>\n",
       "    <tr>\n",
       "      <th>mean</th>\n",
       "      <td>19997.000000</td>\n",
       "      <td>16027.000000</td>\n",
       "      <td>15296.00000</td>\n",
       "    </tr>\n",
       "    <tr>\n",
       "      <th>std</th>\n",
       "      <td>2003.258346</td>\n",
       "      <td>1463.129181</td>\n",
       "      <td>1587.86114</td>\n",
       "    </tr>\n",
       "    <tr>\n",
       "      <th>min</th>\n",
       "      <td>17717.000000</td>\n",
       "      <td>14370.000000</td>\n",
       "      <td>13490.00000</td>\n",
       "    </tr>\n",
       "    <tr>\n",
       "      <th>25%</th>\n",
       "      <td>19258.000000</td>\n",
       "      <td>15470.000000</td>\n",
       "      <td>14707.50000</td>\n",
       "    </tr>\n",
       "    <tr>\n",
       "      <th>50%</th>\n",
       "      <td>20799.000000</td>\n",
       "      <td>16570.000000</td>\n",
       "      <td>15925.00000</td>\n",
       "    </tr>\n",
       "    <tr>\n",
       "      <th>75%</th>\n",
       "      <td>21137.000000</td>\n",
       "      <td>16855.500000</td>\n",
       "      <td>16199.00000</td>\n",
       "    </tr>\n",
       "    <tr>\n",
       "      <th>max</th>\n",
       "      <td>21475.000000</td>\n",
       "      <td>17141.000000</td>\n",
       "      <td>16473.00000</td>\n",
       "    </tr>\n",
       "  </tbody>\n",
       "</table>\n",
       "</div>"
      ],
      "text/plain": [
       "       total_tracks        tracks        users\n",
       "count      3.000000      3.000000      3.00000\n",
       "mean   19997.000000  16027.000000  15296.00000\n",
       "std     2003.258346   1463.129181   1587.86114\n",
       "min    17717.000000  14370.000000  13490.00000\n",
       "25%    19258.000000  15470.000000  14707.50000\n",
       "50%    20799.000000  16570.000000  15925.00000\n",
       "75%    21137.000000  16855.500000  16199.00000\n",
       "max    21475.000000  17141.000000  16473.00000"
      ]
     },
     "execution_count": 10,
     "metadata": {},
     "output_type": "execute_result"
    }
   ],
   "source": [
    "df_music_activity_day.describe()"
   ]
  },
  {
   "cell_type": "code",
   "execution_count": 11,
   "id": "107ce691",
   "metadata": {},
   "outputs": [
    {
     "data": {
      "text/html": [
       "> Coefficient of variation for column <i>'total_tracks'</i>: <b>10.02 %</b>"
      ],
      "text/plain": [
       "<IPython.core.display.HTML object>"
      ]
     },
     "metadata": {},
     "output_type": "display_data"
    },
    {
     "data": {
      "text/html": [
       "> Moderate variability: <i>reasonably reliable mean</i>. Recommended central measure: <b>mean</b>."
      ],
      "text/plain": [
       "<IPython.core.display.HTML object>"
      ]
     },
     "metadata": {},
     "output_type": "display_data"
    },
    {
     "name": "stdout",
     "output_type": "stream",
     "text": [
      "\n"
     ]
    }
   ],
   "source": [
    "# Evaluate the coefficient of variation to select the proper measure of central tendency\n",
    "evaluate_central_trend(df_music_activity_day, 'total_tracks')"
   ]
  },
  {
   "cell_type": "code",
   "execution_count": 12,
   "id": "a128fd07",
   "metadata": {},
   "outputs": [
    {
     "data": {
      "text/html": [
       "> Coefficient of variation for column <i>'tracks'</i>: <b>9.13 %</b>"
      ],
      "text/plain": [
       "<IPython.core.display.HTML object>"
      ]
     },
     "metadata": {},
     "output_type": "display_data"
    },
    {
     "data": {
      "text/html": [
       "> Very low variability: <i>highly reliable mean</i>. Recommended central measure: <b>mean</b>."
      ],
      "text/plain": [
       "<IPython.core.display.HTML object>"
      ]
     },
     "metadata": {},
     "output_type": "display_data"
    },
    {
     "name": "stdout",
     "output_type": "stream",
     "text": [
      "\n"
     ]
    }
   ],
   "source": [
    "evaluate_central_trend(df_music_activity_day, 'tracks')"
   ]
  },
  {
   "cell_type": "code",
   "execution_count": 13,
   "id": "f5e2e8fa",
   "metadata": {},
   "outputs": [
    {
     "data": {
      "text/html": [
       "> Coefficient of variation for column <i>'users'</i>: <b>10.38 %</b>"
      ],
      "text/plain": [
       "<IPython.core.display.HTML object>"
      ]
     },
     "metadata": {},
     "output_type": "display_data"
    },
    {
     "data": {
      "text/html": [
       "> Moderate variability: <i>reasonably reliable mean</i>. Recommended central measure: <b>mean</b>."
      ],
      "text/plain": [
       "<IPython.core.display.HTML object>"
      ]
     },
     "metadata": {},
     "output_type": "display_data"
    },
    {
     "name": "stdout",
     "output_type": "stream",
     "text": [
      "\n"
     ]
    }
   ],
   "source": [
    "evaluate_central_trend(df_music_activity_day, 'users')"
   ]
  },
  {
   "cell_type": "code",
   "execution_count": 14,
   "id": "ce514cee",
   "metadata": {},
   "outputs": [
    {
     "data": {
      "text/html": [
       "> Lower outlier threshold for column <i>'total_tracks'</i>: <b>16439.5</b>"
      ],
      "text/plain": [
       "<IPython.core.display.HTML object>"
      ]
     },
     "metadata": {},
     "output_type": "display_data"
    },
    {
     "data": {
      "text/html": [
       "> Upper outlier threshold for column <i>'total_tracks'</i>: <b>23955.5</b>"
      ],
      "text/plain": [
       "<IPython.core.display.HTML object>"
      ]
     },
     "metadata": {},
     "output_type": "display_data"
    },
    {
     "data": {
      "text/html": [
       "> No outliers found in column <i>'total_tracks'</i>."
      ],
      "text/plain": [
       "<IPython.core.display.HTML object>"
      ]
     },
     "metadata": {},
     "output_type": "display_data"
    },
    {
     "data": {
      "text/plain": [
       "(Empty DataFrame\n",
       " Columns: [day, total_tracks, tracks, users]\n",
       " Index: [],\n",
       " Empty DataFrame\n",
       " Columns: [day, total_tracks, tracks, users]\n",
       " Index: [])"
      ]
     },
     "execution_count": 14,
     "metadata": {},
     "output_type": "execute_result"
    }
   ],
   "source": [
    "# Evaluate boundary thresholds and detect potential outliers\n",
    "outlier_limit_bounds(df_music_activity_day, 'total_tracks', bound='both')"
   ]
  },
  {
   "cell_type": "code",
   "execution_count": 15,
   "id": "5bad2c64",
   "metadata": {},
   "outputs": [
    {
     "data": {
      "text/html": [
       "> Lower outlier threshold for column <i>'tracks'</i>: <b>13391.75</b>"
      ],
      "text/plain": [
       "<IPython.core.display.HTML object>"
      ]
     },
     "metadata": {},
     "output_type": "display_data"
    },
    {
     "data": {
      "text/html": [
       "> Upper outlier threshold for column <i>'tracks'</i>: <b>18933.75</b>"
      ],
      "text/plain": [
       "<IPython.core.display.HTML object>"
      ]
     },
     "metadata": {},
     "output_type": "display_data"
    },
    {
     "data": {
      "text/html": [
       "> No outliers found in column <i>'tracks'</i>."
      ],
      "text/plain": [
       "<IPython.core.display.HTML object>"
      ]
     },
     "metadata": {},
     "output_type": "display_data"
    },
    {
     "data": {
      "text/plain": [
       "(Empty DataFrame\n",
       " Columns: [day, total_tracks, tracks, users]\n",
       " Index: [],\n",
       " Empty DataFrame\n",
       " Columns: [day, total_tracks, tracks, users]\n",
       " Index: [])"
      ]
     },
     "execution_count": 15,
     "metadata": {},
     "output_type": "execute_result"
    }
   ],
   "source": [
    "outlier_limit_bounds(df_music_activity_day, 'tracks', bound='both')"
   ]
  },
  {
   "cell_type": "code",
   "execution_count": 16,
   "id": "5f96fe33",
   "metadata": {},
   "outputs": [
    {
     "data": {
      "text/html": [
       "> Lower outlier threshold for column <i>'users'</i>: <b>12470.25</b>"
      ],
      "text/plain": [
       "<IPython.core.display.HTML object>"
      ]
     },
     "metadata": {},
     "output_type": "display_data"
    },
    {
     "data": {
      "text/html": [
       "> Upper outlier threshold for column <i>'users'</i>: <b>18436.25</b>"
      ],
      "text/plain": [
       "<IPython.core.display.HTML object>"
      ]
     },
     "metadata": {},
     "output_type": "display_data"
    },
    {
     "data": {
      "text/html": [
       "> No outliers found in column <i>'users'</i>."
      ],
      "text/plain": [
       "<IPython.core.display.HTML object>"
      ]
     },
     "metadata": {},
     "output_type": "display_data"
    },
    {
     "data": {
      "text/plain": [
       "(Empty DataFrame\n",
       " Columns: [day, total_tracks, tracks, users]\n",
       " Index: [],\n",
       " Empty DataFrame\n",
       " Columns: [day, total_tracks, tracks, users]\n",
       " Index: [])"
      ]
     },
     "execution_count": 16,
     "metadata": {},
     "output_type": "execute_result"
    }
   ],
   "source": [
    "outlier_limit_bounds(df_music_activity_day, 'users', bound='both')"
   ]
  },
  {
   "cell_type": "markdown",
   "id": "c73df920",
   "metadata": {},
   "source": [
    "#### 3.1.3 Descriptive statistics for Music Activity per City and Day"
   ]
  },
  {
   "cell_type": "code",
   "execution_count": 17,
   "id": "73b17ced",
   "metadata": {},
   "outputs": [
    {
     "data": {
      "application/vnd.microsoft.datawrangler.viewer.v0+json": {
       "columns": [
        {
         "name": "index",
         "rawType": "object",
         "type": "string"
        },
        {
         "name": "total_tracks",
         "rawType": "float64",
         "type": "float"
        },
        {
         "name": "tracks",
         "rawType": "float64",
         "type": "float"
        },
        {
         "name": "users",
         "rawType": "float64",
         "type": "float"
        }
       ],
       "ref": "44bff9b9-aac8-45c2-b900-c0e8d54b386d",
       "rows": [
        [
         "count",
         "6.0",
         "6.0",
         "6.0"
        ],
        [
         "mean",
         "9998.5",
         "8482.666666666666",
         "7650.166666666667"
        ],
        [
         "std",
         "4684.310525573641",
         "3647.659834286452",
         "3599.581609946726"
        ],
        [
         "min",
         "5462.0",
         "4896.0",
         "4186.0"
        ],
        [
         "25%",
         "6057.0",
         "5419.75",
         "4629.5"
        ],
        [
         "50%",
         "8858.5",
         "7645.5",
         "6745.5"
        ],
        [
         "75%",
         "14214.5",
         "11753.75",
         "10888.75"
        ],
        [
         "max",
         "15689.0",
         "12908.0",
         "12030.0"
        ]
       ],
       "shape": {
        "columns": 3,
        "rows": 8
       }
      },
      "text/html": [
       "<div>\n",
       "<style scoped>\n",
       "    .dataframe tbody tr th:only-of-type {\n",
       "        vertical-align: middle;\n",
       "    }\n",
       "\n",
       "    .dataframe tbody tr th {\n",
       "        vertical-align: top;\n",
       "    }\n",
       "\n",
       "    .dataframe thead th {\n",
       "        text-align: right;\n",
       "    }\n",
       "</style>\n",
       "<table border=\"1\" class=\"dataframe\">\n",
       "  <thead>\n",
       "    <tr style=\"text-align: right;\">\n",
       "      <th></th>\n",
       "      <th>total_tracks</th>\n",
       "      <th>tracks</th>\n",
       "      <th>users</th>\n",
       "    </tr>\n",
       "  </thead>\n",
       "  <tbody>\n",
       "    <tr>\n",
       "      <th>count</th>\n",
       "      <td>6.000000</td>\n",
       "      <td>6.000000</td>\n",
       "      <td>6.000000</td>\n",
       "    </tr>\n",
       "    <tr>\n",
       "      <th>mean</th>\n",
       "      <td>9998.500000</td>\n",
       "      <td>8482.666667</td>\n",
       "      <td>7650.166667</td>\n",
       "    </tr>\n",
       "    <tr>\n",
       "      <th>std</th>\n",
       "      <td>4684.310526</td>\n",
       "      <td>3647.659834</td>\n",
       "      <td>3599.581610</td>\n",
       "    </tr>\n",
       "    <tr>\n",
       "      <th>min</th>\n",
       "      <td>5462.000000</td>\n",
       "      <td>4896.000000</td>\n",
       "      <td>4186.000000</td>\n",
       "    </tr>\n",
       "    <tr>\n",
       "      <th>25%</th>\n",
       "      <td>6057.000000</td>\n",
       "      <td>5419.750000</td>\n",
       "      <td>4629.500000</td>\n",
       "    </tr>\n",
       "    <tr>\n",
       "      <th>50%</th>\n",
       "      <td>8858.500000</td>\n",
       "      <td>7645.500000</td>\n",
       "      <td>6745.500000</td>\n",
       "    </tr>\n",
       "    <tr>\n",
       "      <th>75%</th>\n",
       "      <td>14214.500000</td>\n",
       "      <td>11753.750000</td>\n",
       "      <td>10888.750000</td>\n",
       "    </tr>\n",
       "    <tr>\n",
       "      <th>max</th>\n",
       "      <td>15689.000000</td>\n",
       "      <td>12908.000000</td>\n",
       "      <td>12030.000000</td>\n",
       "    </tr>\n",
       "  </tbody>\n",
       "</table>\n",
       "</div>"
      ],
      "text/plain": [
       "       total_tracks        tracks         users\n",
       "count      6.000000      6.000000      6.000000\n",
       "mean    9998.500000   8482.666667   7650.166667\n",
       "std     4684.310526   3647.659834   3599.581610\n",
       "min     5462.000000   4896.000000   4186.000000\n",
       "25%     6057.000000   5419.750000   4629.500000\n",
       "50%     8858.500000   7645.500000   6745.500000\n",
       "75%    14214.500000  11753.750000  10888.750000\n",
       "max    15689.000000  12908.000000  12030.000000"
      ]
     },
     "execution_count": 17,
     "metadata": {},
     "output_type": "execute_result"
    }
   ],
   "source": [
    "df_music_activity_city_day.describe()"
   ]
  },
  {
   "cell_type": "code",
   "execution_count": 18,
   "id": "9378de2e",
   "metadata": {},
   "outputs": [
    {
     "data": {
      "text/html": [
       "> Coefficient of variation for column <i>'total_tracks'</i>: <b>46.85 %</b>"
      ],
      "text/plain": [
       "<IPython.core.display.HTML object>"
      ]
     },
     "metadata": {},
     "output_type": "display_data"
    },
    {
     "data": {
      "text/html": [
       "> High variability: <i>mean may be misleading</i>. Recommended central measure: <b>median</b>."
      ],
      "text/plain": [
       "<IPython.core.display.HTML object>"
      ]
     },
     "metadata": {},
     "output_type": "display_data"
    },
    {
     "name": "stdout",
     "output_type": "stream",
     "text": [
      "\n"
     ]
    }
   ],
   "source": [
    "# Evaluate the coefficient of variation to select the proper measure of central tendency\n",
    "evaluate_central_trend(df_music_activity_city_day, 'total_tracks')"
   ]
  },
  {
   "cell_type": "code",
   "execution_count": 19,
   "id": "308dc89c",
   "metadata": {},
   "outputs": [
    {
     "data": {
      "text/html": [
       "> Coefficient of variation for column <i>'tracks'</i>: <b>43.00 %</b>"
      ],
      "text/plain": [
       "<IPython.core.display.HTML object>"
      ]
     },
     "metadata": {},
     "output_type": "display_data"
    },
    {
     "data": {
      "text/html": [
       "> High variability: <i>mean may be misleading</i>. Recommended central measure: <b>median</b>."
      ],
      "text/plain": [
       "<IPython.core.display.HTML object>"
      ]
     },
     "metadata": {},
     "output_type": "display_data"
    },
    {
     "name": "stdout",
     "output_type": "stream",
     "text": [
      "\n"
     ]
    }
   ],
   "source": [
    "evaluate_central_trend(df_music_activity_city_day, 'tracks')"
   ]
  },
  {
   "cell_type": "code",
   "execution_count": 20,
   "id": "a809d252",
   "metadata": {},
   "outputs": [
    {
     "data": {
      "text/html": [
       "> Coefficient of variation for column <i>'users'</i>: <b>47.05 %</b>"
      ],
      "text/plain": [
       "<IPython.core.display.HTML object>"
      ]
     },
     "metadata": {},
     "output_type": "display_data"
    },
    {
     "data": {
      "text/html": [
       "> High variability: <i>mean may be misleading</i>. Recommended central measure: <b>median</b>."
      ],
      "text/plain": [
       "<IPython.core.display.HTML object>"
      ]
     },
     "metadata": {},
     "output_type": "display_data"
    },
    {
     "name": "stdout",
     "output_type": "stream",
     "text": [
      "\n"
     ]
    }
   ],
   "source": [
    "evaluate_central_trend(df_music_activity_city_day, 'users')"
   ]
  },
  {
   "cell_type": "code",
   "execution_count": 21,
   "id": "1dc3289d",
   "metadata": {},
   "outputs": [
    {
     "data": {
      "text/html": [
       "> Lower outlier threshold for column <i>'total_tracks'</i>: <b>0</b>"
      ],
      "text/plain": [
       "<IPython.core.display.HTML object>"
      ]
     },
     "metadata": {},
     "output_type": "display_data"
    },
    {
     "data": {
      "text/html": [
       "> Upper outlier threshold for column <i>'total_tracks'</i>: <b>26450.75</b>"
      ],
      "text/plain": [
       "<IPython.core.display.HTML object>"
      ]
     },
     "metadata": {},
     "output_type": "display_data"
    },
    {
     "data": {
      "text/html": [
       "> No outliers found in column <i>'total_tracks'</i>."
      ],
      "text/plain": [
       "<IPython.core.display.HTML object>"
      ]
     },
     "metadata": {},
     "output_type": "display_data"
    },
    {
     "data": {
      "text/plain": [
       "(Empty DataFrame\n",
       " Columns: [city, day, total_tracks, tracks, users]\n",
       " Index: [],\n",
       " Empty DataFrame\n",
       " Columns: [city, day, total_tracks, tracks, users]\n",
       " Index: [])"
      ]
     },
     "execution_count": 21,
     "metadata": {},
     "output_type": "execute_result"
    }
   ],
   "source": [
    "# Evaluate boundary thresholds and detect potential outliers\n",
    "outlier_limit_bounds(df_music_activity_city_day, 'total_tracks', bound='both', clamp_zero=True)"
   ]
  },
  {
   "cell_type": "code",
   "execution_count": 22,
   "id": "71ada63f",
   "metadata": {},
   "outputs": [
    {
     "data": {
      "text/html": [
       "> Lower outlier threshold for column <i>'tracks'</i>: <b>0</b>"
      ],
      "text/plain": [
       "<IPython.core.display.HTML object>"
      ]
     },
     "metadata": {},
     "output_type": "display_data"
    },
    {
     "data": {
      "text/html": [
       "> Upper outlier threshold for column <i>'tracks'</i>: <b>21254.75</b>"
      ],
      "text/plain": [
       "<IPython.core.display.HTML object>"
      ]
     },
     "metadata": {},
     "output_type": "display_data"
    },
    {
     "data": {
      "text/html": [
       "> No outliers found in column <i>'tracks'</i>."
      ],
      "text/plain": [
       "<IPython.core.display.HTML object>"
      ]
     },
     "metadata": {},
     "output_type": "display_data"
    },
    {
     "data": {
      "text/plain": [
       "(Empty DataFrame\n",
       " Columns: [city, day, total_tracks, tracks, users]\n",
       " Index: [],\n",
       " Empty DataFrame\n",
       " Columns: [city, day, total_tracks, tracks, users]\n",
       " Index: [])"
      ]
     },
     "execution_count": 22,
     "metadata": {},
     "output_type": "execute_result"
    }
   ],
   "source": [
    "outlier_limit_bounds(df_music_activity_city_day, 'tracks', bound='both', clamp_zero=True)"
   ]
  },
  {
   "cell_type": "code",
   "execution_count": 23,
   "id": "df29ef18",
   "metadata": {},
   "outputs": [
    {
     "data": {
      "text/html": [
       "> Lower outlier threshold for column <i>'users'</i>: <b>0</b>"
      ],
      "text/plain": [
       "<IPython.core.display.HTML object>"
      ]
     },
     "metadata": {},
     "output_type": "display_data"
    },
    {
     "data": {
      "text/html": [
       "> Upper outlier threshold for column <i>'users'</i>: <b>20277.625</b>"
      ],
      "text/plain": [
       "<IPython.core.display.HTML object>"
      ]
     },
     "metadata": {},
     "output_type": "display_data"
    },
    {
     "data": {
      "text/html": [
       "> No outliers found in column <i>'users'</i>."
      ],
      "text/plain": [
       "<IPython.core.display.HTML object>"
      ]
     },
     "metadata": {},
     "output_type": "display_data"
    },
    {
     "data": {
      "text/plain": [
       "(Empty DataFrame\n",
       " Columns: [city, day, total_tracks, tracks, users]\n",
       " Index: [],\n",
       " Empty DataFrame\n",
       " Columns: [city, day, total_tracks, tracks, users]\n",
       " Index: [])"
      ]
     },
     "execution_count": 23,
     "metadata": {},
     "output_type": "execute_result"
    }
   ],
   "source": [
    "outlier_limit_bounds(df_music_activity_city_day, 'users', bound='both', clamp_zero=True)"
   ]
  },
  {
   "cell_type": "markdown",
   "id": "027fc366",
   "metadata": {},
   "source": [
    "#### 3.1.4 Descriptive statistics for Music Activity per Time and City"
   ]
  },
  {
   "cell_type": "code",
   "execution_count": 24,
   "id": "e851dcc6",
   "metadata": {},
   "outputs": [
    {
     "data": {
      "application/vnd.microsoft.datawrangler.viewer.v0+json": {
       "columns": [
        {
         "name": "index",
         "rawType": "object",
         "type": "string"
        },
        {
         "name": "hour",
         "rawType": "float64",
         "type": "float"
        },
        {
         "name": "total_tracks",
         "rawType": "float64",
         "type": "float"
        },
        {
         "name": "tracks",
         "rawType": "float64",
         "type": "float"
        },
        {
         "name": "users",
         "rawType": "float64",
         "type": "float"
        }
       ],
       "ref": "ddfa7f92-d51e-4085-aa0c-a1c31769e636",
       "rows": [
        [
         "count",
         "18.0",
         "18.0",
         "18.0",
         "18.0"
        ],
        [
         "mean",
         "14.666666666666666",
         "3332.8333333333335",
         "2961.6111111111113",
         "2666.6666666666665"
        ],
        [
         "std",
         "5.133511583357983",
         "2892.110876769667",
         "2515.752773294679",
         "2306.980685301232"
        ],
        [
         "min",
         "8.0",
         "41.0",
         "41.0",
         "41.0"
        ],
        [
         "25%",
         "10.0",
         "123.0",
         "123.0",
         "119.25"
        ],
        [
         "50%",
         "14.0",
         "3097.0",
         "2880.0",
         "2462.0"
        ],
        [
         "75%",
         "20.0",
         "6634.5",
         "5749.5",
         "5242.25"
        ],
        [
         "max",
         "22.0",
         "7394.0",
         "6466.0",
         "5853.0"
        ]
       ],
       "shape": {
        "columns": 4,
        "rows": 8
       }
      },
      "text/html": [
       "<div>\n",
       "<style scoped>\n",
       "    .dataframe tbody tr th:only-of-type {\n",
       "        vertical-align: middle;\n",
       "    }\n",
       "\n",
       "    .dataframe tbody tr th {\n",
       "        vertical-align: top;\n",
       "    }\n",
       "\n",
       "    .dataframe thead th {\n",
       "        text-align: right;\n",
       "    }\n",
       "</style>\n",
       "<table border=\"1\" class=\"dataframe\">\n",
       "  <thead>\n",
       "    <tr style=\"text-align: right;\">\n",
       "      <th></th>\n",
       "      <th>hour</th>\n",
       "      <th>total_tracks</th>\n",
       "      <th>tracks</th>\n",
       "      <th>users</th>\n",
       "    </tr>\n",
       "  </thead>\n",
       "  <tbody>\n",
       "    <tr>\n",
       "      <th>count</th>\n",
       "      <td>18.000000</td>\n",
       "      <td>18.000000</td>\n",
       "      <td>18.000000</td>\n",
       "      <td>18.000000</td>\n",
       "    </tr>\n",
       "    <tr>\n",
       "      <th>mean</th>\n",
       "      <td>14.666667</td>\n",
       "      <td>3332.833333</td>\n",
       "      <td>2961.611111</td>\n",
       "      <td>2666.666667</td>\n",
       "    </tr>\n",
       "    <tr>\n",
       "      <th>std</th>\n",
       "      <td>5.133512</td>\n",
       "      <td>2892.110877</td>\n",
       "      <td>2515.752773</td>\n",
       "      <td>2306.980685</td>\n",
       "    </tr>\n",
       "    <tr>\n",
       "      <th>min</th>\n",
       "      <td>8.000000</td>\n",
       "      <td>41.000000</td>\n",
       "      <td>41.000000</td>\n",
       "      <td>41.000000</td>\n",
       "    </tr>\n",
       "    <tr>\n",
       "      <th>25%</th>\n",
       "      <td>10.000000</td>\n",
       "      <td>123.000000</td>\n",
       "      <td>123.000000</td>\n",
       "      <td>119.250000</td>\n",
       "    </tr>\n",
       "    <tr>\n",
       "      <th>50%</th>\n",
       "      <td>14.000000</td>\n",
       "      <td>3097.000000</td>\n",
       "      <td>2880.000000</td>\n",
       "      <td>2462.000000</td>\n",
       "    </tr>\n",
       "    <tr>\n",
       "      <th>75%</th>\n",
       "      <td>20.000000</td>\n",
       "      <td>6634.500000</td>\n",
       "      <td>5749.500000</td>\n",
       "      <td>5242.250000</td>\n",
       "    </tr>\n",
       "    <tr>\n",
       "      <th>max</th>\n",
       "      <td>22.000000</td>\n",
       "      <td>7394.000000</td>\n",
       "      <td>6466.000000</td>\n",
       "      <td>5853.000000</td>\n",
       "    </tr>\n",
       "  </tbody>\n",
       "</table>\n",
       "</div>"
      ],
      "text/plain": [
       "            hour  total_tracks       tracks        users\n",
       "count  18.000000     18.000000    18.000000    18.000000\n",
       "mean   14.666667   3332.833333  2961.611111  2666.666667\n",
       "std     5.133512   2892.110877  2515.752773  2306.980685\n",
       "min     8.000000     41.000000    41.000000    41.000000\n",
       "25%    10.000000    123.000000   123.000000   119.250000\n",
       "50%    14.000000   3097.000000  2880.000000  2462.000000\n",
       "75%    20.000000   6634.500000  5749.500000  5242.250000\n",
       "max    22.000000   7394.000000  6466.000000  5853.000000"
      ]
     },
     "execution_count": 24,
     "metadata": {},
     "output_type": "execute_result"
    }
   ],
   "source": [
    "df_music_activity_time_city.describe()"
   ]
  },
  {
   "cell_type": "code",
   "execution_count": 25,
   "id": "bdb4ed18",
   "metadata": {},
   "outputs": [
    {
     "data": {
      "text/html": [
       "> Coefficient of variation for column <i>'hour'</i>: <b>35.00 %</b>"
      ],
      "text/plain": [
       "<IPython.core.display.HTML object>"
      ]
     },
     "metadata": {},
     "output_type": "display_data"
    },
    {
     "data": {
      "text/html": [
       "> High variability: <i>mean may be misleading</i>. Recommended central measure: <b>median</b>."
      ],
      "text/plain": [
       "<IPython.core.display.HTML object>"
      ]
     },
     "metadata": {},
     "output_type": "display_data"
    },
    {
     "name": "stdout",
     "output_type": "stream",
     "text": [
      "\n"
     ]
    }
   ],
   "source": [
    "# Evaluate the coefficient of variation to select the proper measure of central tendency\n",
    "evaluate_central_trend(df_music_activity_time_city, 'hour')"
   ]
  },
  {
   "cell_type": "code",
   "execution_count": 26,
   "id": "aa270a60",
   "metadata": {},
   "outputs": [
    {
     "data": {
      "text/html": [
       "> Coefficient of variation for column <i>'total_tracks'</i>: <b>86.78 %</b>"
      ],
      "text/plain": [
       "<IPython.core.display.HTML object>"
      ]
     },
     "metadata": {},
     "output_type": "display_data"
    },
    {
     "data": {
      "text/html": [
       "> High variability: <i>mean may be misleading</i>. Recommended central measure: <b>median</b>."
      ],
      "text/plain": [
       "<IPython.core.display.HTML object>"
      ]
     },
     "metadata": {},
     "output_type": "display_data"
    },
    {
     "name": "stdout",
     "output_type": "stream",
     "text": [
      "\n"
     ]
    }
   ],
   "source": [
    "evaluate_central_trend(df_music_activity_time_city, 'total_tracks')"
   ]
  },
  {
   "cell_type": "code",
   "execution_count": 27,
   "id": "9d01f846",
   "metadata": {},
   "outputs": [
    {
     "data": {
      "text/html": [
       "> Coefficient of variation for column <i>'tracks'</i>: <b>84.95 %</b>"
      ],
      "text/plain": [
       "<IPython.core.display.HTML object>"
      ]
     },
     "metadata": {},
     "output_type": "display_data"
    },
    {
     "data": {
      "text/html": [
       "> High variability: <i>mean may be misleading</i>. Recommended central measure: <b>median</b>."
      ],
      "text/plain": [
       "<IPython.core.display.HTML object>"
      ]
     },
     "metadata": {},
     "output_type": "display_data"
    },
    {
     "name": "stdout",
     "output_type": "stream",
     "text": [
      "\n"
     ]
    }
   ],
   "source": [
    "evaluate_central_trend(df_music_activity_time_city, 'tracks')"
   ]
  },
  {
   "cell_type": "code",
   "execution_count": 28,
   "id": "3c44de57",
   "metadata": {},
   "outputs": [
    {
     "data": {
      "text/html": [
       "> Coefficient of variation for column <i>'users'</i>: <b>86.51 %</b>"
      ],
      "text/plain": [
       "<IPython.core.display.HTML object>"
      ]
     },
     "metadata": {},
     "output_type": "display_data"
    },
    {
     "data": {
      "text/html": [
       "> High variability: <i>mean may be misleading</i>. Recommended central measure: <b>median</b>."
      ],
      "text/plain": [
       "<IPython.core.display.HTML object>"
      ]
     },
     "metadata": {},
     "output_type": "display_data"
    },
    {
     "name": "stdout",
     "output_type": "stream",
     "text": [
      "\n"
     ]
    }
   ],
   "source": [
    "evaluate_central_trend(df_music_activity_time_city, 'users')"
   ]
  },
  {
   "cell_type": "code",
   "execution_count": 29,
   "id": "9d8bb6e0",
   "metadata": {},
   "outputs": [
    {
     "data": {
      "text/html": [
       "> Lower outlier threshold for column <i>'hour'</i>: <b>0</b>"
      ],
      "text/plain": [
       "<IPython.core.display.HTML object>"
      ]
     },
     "metadata": {},
     "output_type": "display_data"
    },
    {
     "data": {
      "text/html": [
       "> Upper outlier threshold for column <i>'hour'</i>: <b>35.0</b>"
      ],
      "text/plain": [
       "<IPython.core.display.HTML object>"
      ]
     },
     "metadata": {},
     "output_type": "display_data"
    },
    {
     "data": {
      "text/html": [
       "> No outliers found in column <i>'hour'</i>."
      ],
      "text/plain": [
       "<IPython.core.display.HTML object>"
      ]
     },
     "metadata": {},
     "output_type": "display_data"
    },
    {
     "data": {
      "text/plain": [
       "(Empty DataFrame\n",
       " Columns: [city, hour, total_tracks, tracks, users]\n",
       " Index: [],\n",
       " Empty DataFrame\n",
       " Columns: [city, hour, total_tracks, tracks, users]\n",
       " Index: [])"
      ]
     },
     "execution_count": 29,
     "metadata": {},
     "output_type": "execute_result"
    }
   ],
   "source": [
    "# Evaluate boundary thresholds and detect potential outliers\n",
    "outlier_limit_bounds(df_music_activity_time_city, 'hour', bound='both', clamp_zero=True)"
   ]
  },
  {
   "cell_type": "code",
   "execution_count": 30,
   "id": "5f715fd8",
   "metadata": {},
   "outputs": [
    {
     "data": {
      "text/html": [
       "> Lower outlier threshold for column <i>'total_tracks'</i>: <b>0</b>"
      ],
      "text/plain": [
       "<IPython.core.display.HTML object>"
      ]
     },
     "metadata": {},
     "output_type": "display_data"
    },
    {
     "data": {
      "text/html": [
       "> Upper outlier threshold for column <i>'total_tracks'</i>: <b>16401.75</b>"
      ],
      "text/plain": [
       "<IPython.core.display.HTML object>"
      ]
     },
     "metadata": {},
     "output_type": "display_data"
    },
    {
     "data": {
      "text/html": [
       "> No outliers found in column <i>'total_tracks'</i>."
      ],
      "text/plain": [
       "<IPython.core.display.HTML object>"
      ]
     },
     "metadata": {},
     "output_type": "display_data"
    },
    {
     "data": {
      "text/plain": [
       "(Empty DataFrame\n",
       " Columns: [city, hour, total_tracks, tracks, users]\n",
       " Index: [],\n",
       " Empty DataFrame\n",
       " Columns: [city, hour, total_tracks, tracks, users]\n",
       " Index: [])"
      ]
     },
     "execution_count": 30,
     "metadata": {},
     "output_type": "execute_result"
    }
   ],
   "source": [
    "outlier_limit_bounds(df_music_activity_time_city, 'total_tracks', bound='both', clamp_zero=True)"
   ]
  },
  {
   "cell_type": "code",
   "execution_count": 31,
   "id": "2c5a9cb6",
   "metadata": {},
   "outputs": [
    {
     "data": {
      "text/html": [
       "> Lower outlier threshold for column <i>'tracks'</i>: <b>0</b>"
      ],
      "text/plain": [
       "<IPython.core.display.HTML object>"
      ]
     },
     "metadata": {},
     "output_type": "display_data"
    },
    {
     "data": {
      "text/html": [
       "> Upper outlier threshold for column <i>'tracks'</i>: <b>14189.25</b>"
      ],
      "text/plain": [
       "<IPython.core.display.HTML object>"
      ]
     },
     "metadata": {},
     "output_type": "display_data"
    },
    {
     "data": {
      "text/html": [
       "> No outliers found in column <i>'tracks'</i>."
      ],
      "text/plain": [
       "<IPython.core.display.HTML object>"
      ]
     },
     "metadata": {},
     "output_type": "display_data"
    },
    {
     "data": {
      "text/plain": [
       "(Empty DataFrame\n",
       " Columns: [city, hour, total_tracks, tracks, users]\n",
       " Index: [],\n",
       " Empty DataFrame\n",
       " Columns: [city, hour, total_tracks, tracks, users]\n",
       " Index: [])"
      ]
     },
     "execution_count": 31,
     "metadata": {},
     "output_type": "execute_result"
    }
   ],
   "source": [
    "outlier_limit_bounds(df_music_activity_time_city, 'tracks', bound='both', clamp_zero=True)"
   ]
  },
  {
   "cell_type": "code",
   "execution_count": 32,
   "id": "ae862d4e",
   "metadata": {},
   "outputs": [
    {
     "data": {
      "text/html": [
       "> Lower outlier threshold for column <i>'users'</i>: <b>0</b>"
      ],
      "text/plain": [
       "<IPython.core.display.HTML object>"
      ]
     },
     "metadata": {},
     "output_type": "display_data"
    },
    {
     "data": {
      "text/html": [
       "> Upper outlier threshold for column <i>'users'</i>: <b>12926.75</b>"
      ],
      "text/plain": [
       "<IPython.core.display.HTML object>"
      ]
     },
     "metadata": {},
     "output_type": "display_data"
    },
    {
     "data": {
      "text/html": [
       "> No outliers found in column <i>'users'</i>."
      ],
      "text/plain": [
       "<IPython.core.display.HTML object>"
      ]
     },
     "metadata": {},
     "output_type": "display_data"
    },
    {
     "data": {
      "text/plain": [
       "(Empty DataFrame\n",
       " Columns: [city, hour, total_tracks, tracks, users]\n",
       " Index: [],\n",
       " Empty DataFrame\n",
       " Columns: [city, hour, total_tracks, tracks, users]\n",
       " Index: [])"
      ]
     },
     "execution_count": 32,
     "metadata": {},
     "output_type": "execute_result"
    }
   ],
   "source": [
    "outlier_limit_bounds(df_music_activity_time_city, 'users', bound='both', clamp_zero=True)"
   ]
  },
  {
   "cell_type": "markdown",
   "id": "c0d25a35",
   "metadata": {},
   "source": [
    "#### 3.1.5 Descriptive statistics for Music Activity per Time and Day"
   ]
  },
  {
   "cell_type": "code",
   "execution_count": 33,
   "id": "53d03091",
   "metadata": {},
   "outputs": [
    {
     "data": {
      "application/vnd.microsoft.datawrangler.viewer.v0+json": {
       "columns": [
        {
         "name": "index",
         "rawType": "object",
         "type": "string"
        },
        {
         "name": "hour",
         "rawType": "float64",
         "type": "float"
        },
        {
         "name": "total_tracks",
         "rawType": "float64",
         "type": "float"
        },
        {
         "name": "tracks",
         "rawType": "float64",
         "type": "float"
        },
        {
         "name": "users",
         "rawType": "float64",
         "type": "float"
        }
       ],
       "ref": "4cb3366d-6a6a-479b-a73f-c86f02be5564",
       "rows": [
        [
         "count",
         "27.0",
         "27.0",
         "27.0",
         "27.0"
        ],
        [
         "mean",
         "14.666666666666666",
         "2221.8888888888887",
         "2044.7037037037037",
         "1846.7777777777778"
        ],
        [
         "std",
         "5.08391127441794",
         "1588.0670237099162",
         "1457.0429172395927",
         "1314.7536280855445"
        ],
        [
         "min",
         "8.0",
         "43.0",
         "43.0",
         "42.0"
        ],
        [
         "25%",
         "10.0",
         "63.5",
         "63.5",
         "59.5"
        ],
        [
         "50%",
         "14.0",
         "3218.0",
         "2989.0",
         "2649.0"
        ],
        [
         "75%",
         "20.0",
         "3453.5",
         "3190.0",
         "2865.5"
        ],
        [
         "max",
         "22.0",
         "3701.0",
         "3406.0",
         "3077.0"
        ]
       ],
       "shape": {
        "columns": 4,
        "rows": 8
       }
      },
      "text/html": [
       "<div>\n",
       "<style scoped>\n",
       "    .dataframe tbody tr th:only-of-type {\n",
       "        vertical-align: middle;\n",
       "    }\n",
       "\n",
       "    .dataframe tbody tr th {\n",
       "        vertical-align: top;\n",
       "    }\n",
       "\n",
       "    .dataframe thead th {\n",
       "        text-align: right;\n",
       "    }\n",
       "</style>\n",
       "<table border=\"1\" class=\"dataframe\">\n",
       "  <thead>\n",
       "    <tr style=\"text-align: right;\">\n",
       "      <th></th>\n",
       "      <th>hour</th>\n",
       "      <th>total_tracks</th>\n",
       "      <th>tracks</th>\n",
       "      <th>users</th>\n",
       "    </tr>\n",
       "  </thead>\n",
       "  <tbody>\n",
       "    <tr>\n",
       "      <th>count</th>\n",
       "      <td>27.000000</td>\n",
       "      <td>27.000000</td>\n",
       "      <td>27.000000</td>\n",
       "      <td>27.000000</td>\n",
       "    </tr>\n",
       "    <tr>\n",
       "      <th>mean</th>\n",
       "      <td>14.666667</td>\n",
       "      <td>2221.888889</td>\n",
       "      <td>2044.703704</td>\n",
       "      <td>1846.777778</td>\n",
       "    </tr>\n",
       "    <tr>\n",
       "      <th>std</th>\n",
       "      <td>5.083911</td>\n",
       "      <td>1588.067024</td>\n",
       "      <td>1457.042917</td>\n",
       "      <td>1314.753628</td>\n",
       "    </tr>\n",
       "    <tr>\n",
       "      <th>min</th>\n",
       "      <td>8.000000</td>\n",
       "      <td>43.000000</td>\n",
       "      <td>43.000000</td>\n",
       "      <td>42.000000</td>\n",
       "    </tr>\n",
       "    <tr>\n",
       "      <th>25%</th>\n",
       "      <td>10.000000</td>\n",
       "      <td>63.500000</td>\n",
       "      <td>63.500000</td>\n",
       "      <td>59.500000</td>\n",
       "    </tr>\n",
       "    <tr>\n",
       "      <th>50%</th>\n",
       "      <td>14.000000</td>\n",
       "      <td>3218.000000</td>\n",
       "      <td>2989.000000</td>\n",
       "      <td>2649.000000</td>\n",
       "    </tr>\n",
       "    <tr>\n",
       "      <th>75%</th>\n",
       "      <td>20.000000</td>\n",
       "      <td>3453.500000</td>\n",
       "      <td>3190.000000</td>\n",
       "      <td>2865.500000</td>\n",
       "    </tr>\n",
       "    <tr>\n",
       "      <th>max</th>\n",
       "      <td>22.000000</td>\n",
       "      <td>3701.000000</td>\n",
       "      <td>3406.000000</td>\n",
       "      <td>3077.000000</td>\n",
       "    </tr>\n",
       "  </tbody>\n",
       "</table>\n",
       "</div>"
      ],
      "text/plain": [
       "            hour  total_tracks       tracks        users\n",
       "count  27.000000     27.000000    27.000000    27.000000\n",
       "mean   14.666667   2221.888889  2044.703704  1846.777778\n",
       "std     5.083911   1588.067024  1457.042917  1314.753628\n",
       "min     8.000000     43.000000    43.000000    42.000000\n",
       "25%    10.000000     63.500000    63.500000    59.500000\n",
       "50%    14.000000   3218.000000  2989.000000  2649.000000\n",
       "75%    20.000000   3453.500000  3190.000000  2865.500000\n",
       "max    22.000000   3701.000000  3406.000000  3077.000000"
      ]
     },
     "execution_count": 33,
     "metadata": {},
     "output_type": "execute_result"
    }
   ],
   "source": [
    "df_music_activity_time_day.describe()"
   ]
  },
  {
   "cell_type": "code",
   "execution_count": 34,
   "id": "1430bc5e",
   "metadata": {},
   "outputs": [
    {
     "data": {
      "text/html": [
       "> Coefficient of variation for column <i>'hour'</i>: <b>34.66 %</b>"
      ],
      "text/plain": [
       "<IPython.core.display.HTML object>"
      ]
     },
     "metadata": {},
     "output_type": "display_data"
    },
    {
     "data": {
      "text/html": [
       "> High variability: <i>mean may be misleading</i>. Recommended central measure: <b>median</b>."
      ],
      "text/plain": [
       "<IPython.core.display.HTML object>"
      ]
     },
     "metadata": {},
     "output_type": "display_data"
    },
    {
     "name": "stdout",
     "output_type": "stream",
     "text": [
      "\n"
     ]
    }
   ],
   "source": [
    "# Evaluate the coefficient of variation to select the proper measure of central tendency\n",
    "evaluate_central_trend(df_music_activity_time_day, 'hour')"
   ]
  },
  {
   "cell_type": "code",
   "execution_count": 35,
   "id": "ed1d3dd1",
   "metadata": {},
   "outputs": [
    {
     "data": {
      "text/html": [
       "> Coefficient of variation for column <i>'total_tracks'</i>: <b>71.47 %</b>"
      ],
      "text/plain": [
       "<IPython.core.display.HTML object>"
      ]
     },
     "metadata": {},
     "output_type": "display_data"
    },
    {
     "data": {
      "text/html": [
       "> High variability: <i>mean may be misleading</i>. Recommended central measure: <b>median</b>."
      ],
      "text/plain": [
       "<IPython.core.display.HTML object>"
      ]
     },
     "metadata": {},
     "output_type": "display_data"
    },
    {
     "name": "stdout",
     "output_type": "stream",
     "text": [
      "\n"
     ]
    }
   ],
   "source": [
    "evaluate_central_trend(df_music_activity_time_day, 'total_tracks')"
   ]
  },
  {
   "cell_type": "code",
   "execution_count": 36,
   "id": "84386098",
   "metadata": {},
   "outputs": [
    {
     "data": {
      "text/html": [
       "> Coefficient of variation for column <i>'tracks'</i>: <b>71.26 %</b>"
      ],
      "text/plain": [
       "<IPython.core.display.HTML object>"
      ]
     },
     "metadata": {},
     "output_type": "display_data"
    },
    {
     "data": {
      "text/html": [
       "> High variability: <i>mean may be misleading</i>. Recommended central measure: <b>median</b>."
      ],
      "text/plain": [
       "<IPython.core.display.HTML object>"
      ]
     },
     "metadata": {},
     "output_type": "display_data"
    },
    {
     "name": "stdout",
     "output_type": "stream",
     "text": [
      "\n"
     ]
    }
   ],
   "source": [
    "evaluate_central_trend(df_music_activity_time_day, 'tracks')"
   ]
  },
  {
   "cell_type": "code",
   "execution_count": 37,
   "id": "c83172a6",
   "metadata": {},
   "outputs": [
    {
     "data": {
      "text/html": [
       "> Coefficient of variation for column <i>'users'</i>: <b>71.19 %</b>"
      ],
      "text/plain": [
       "<IPython.core.display.HTML object>"
      ]
     },
     "metadata": {},
     "output_type": "display_data"
    },
    {
     "data": {
      "text/html": [
       "> High variability: <i>mean may be misleading</i>. Recommended central measure: <b>median</b>."
      ],
      "text/plain": [
       "<IPython.core.display.HTML object>"
      ]
     },
     "metadata": {},
     "output_type": "display_data"
    },
    {
     "name": "stdout",
     "output_type": "stream",
     "text": [
      "\n"
     ]
    }
   ],
   "source": [
    "evaluate_central_trend(df_music_activity_time_day, 'users')"
   ]
  },
  {
   "cell_type": "code",
   "execution_count": 38,
   "id": "7777bbac",
   "metadata": {},
   "outputs": [
    {
     "data": {
      "text/html": [
       "> Lower outlier threshold for column <i>'hour'</i>: <b>0</b>"
      ],
      "text/plain": [
       "<IPython.core.display.HTML object>"
      ]
     },
     "metadata": {},
     "output_type": "display_data"
    },
    {
     "data": {
      "text/html": [
       "> Upper outlier threshold for column <i>'hour'</i>: <b>35.0</b>"
      ],
      "text/plain": [
       "<IPython.core.display.HTML object>"
      ]
     },
     "metadata": {},
     "output_type": "display_data"
    },
    {
     "data": {
      "text/html": [
       "> No outliers found in column <i>'hour'</i>."
      ],
      "text/plain": [
       "<IPython.core.display.HTML object>"
      ]
     },
     "metadata": {},
     "output_type": "display_data"
    },
    {
     "data": {
      "text/plain": [
       "(Empty DataFrame\n",
       " Columns: [day, hour, total_tracks, tracks, users]\n",
       " Index: [],\n",
       " Empty DataFrame\n",
       " Columns: [day, hour, total_tracks, tracks, users]\n",
       " Index: [])"
      ]
     },
     "execution_count": 38,
     "metadata": {},
     "output_type": "execute_result"
    }
   ],
   "source": [
    "# Evaluate boundary thresholds and detect potential outliers\n",
    "outlier_limit_bounds(df_music_activity_time_day, 'hour', bound='both', clamp_zero=True)"
   ]
  },
  {
   "cell_type": "code",
   "execution_count": 39,
   "id": "b2262544",
   "metadata": {},
   "outputs": [
    {
     "data": {
      "text/html": [
       "> Lower outlier threshold for column <i>'total_tracks'</i>: <b>0</b>"
      ],
      "text/plain": [
       "<IPython.core.display.HTML object>"
      ]
     },
     "metadata": {},
     "output_type": "display_data"
    },
    {
     "data": {
      "text/html": [
       "> Upper outlier threshold for column <i>'total_tracks'</i>: <b>8538.5</b>"
      ],
      "text/plain": [
       "<IPython.core.display.HTML object>"
      ]
     },
     "metadata": {},
     "output_type": "display_data"
    },
    {
     "data": {
      "text/html": [
       "> No outliers found in column <i>'total_tracks'</i>."
      ],
      "text/plain": [
       "<IPython.core.display.HTML object>"
      ]
     },
     "metadata": {},
     "output_type": "display_data"
    },
    {
     "data": {
      "text/plain": [
       "(Empty DataFrame\n",
       " Columns: [day, hour, total_tracks, tracks, users]\n",
       " Index: [],\n",
       " Empty DataFrame\n",
       " Columns: [day, hour, total_tracks, tracks, users]\n",
       " Index: [])"
      ]
     },
     "execution_count": 39,
     "metadata": {},
     "output_type": "execute_result"
    }
   ],
   "source": [
    "outlier_limit_bounds(df_music_activity_time_day, 'total_tracks', bound='both', clamp_zero=True)"
   ]
  },
  {
   "cell_type": "code",
   "execution_count": 40,
   "id": "815c4334",
   "metadata": {},
   "outputs": [
    {
     "data": {
      "text/html": [
       "> Lower outlier threshold for column <i>'tracks'</i>: <b>0</b>"
      ],
      "text/plain": [
       "<IPython.core.display.HTML object>"
      ]
     },
     "metadata": {},
     "output_type": "display_data"
    },
    {
     "data": {
      "text/html": [
       "> Upper outlier threshold for column <i>'tracks'</i>: <b>7879.75</b>"
      ],
      "text/plain": [
       "<IPython.core.display.HTML object>"
      ]
     },
     "metadata": {},
     "output_type": "display_data"
    },
    {
     "data": {
      "text/html": [
       "> No outliers found in column <i>'tracks'</i>."
      ],
      "text/plain": [
       "<IPython.core.display.HTML object>"
      ]
     },
     "metadata": {},
     "output_type": "display_data"
    },
    {
     "data": {
      "text/plain": [
       "(Empty DataFrame\n",
       " Columns: [day, hour, total_tracks, tracks, users]\n",
       " Index: [],\n",
       " Empty DataFrame\n",
       " Columns: [day, hour, total_tracks, tracks, users]\n",
       " Index: [])"
      ]
     },
     "execution_count": 40,
     "metadata": {},
     "output_type": "execute_result"
    }
   ],
   "source": [
    "outlier_limit_bounds(df_music_activity_time_day, 'tracks', bound='both', clamp_zero=True)"
   ]
  },
  {
   "cell_type": "code",
   "execution_count": 41,
   "id": "3fe5cb5b",
   "metadata": {},
   "outputs": [
    {
     "data": {
      "text/html": [
       "> Lower outlier threshold for column <i>'users'</i>: <b>0</b>"
      ],
      "text/plain": [
       "<IPython.core.display.HTML object>"
      ]
     },
     "metadata": {},
     "output_type": "display_data"
    },
    {
     "data": {
      "text/html": [
       "> Upper outlier threshold for column <i>'users'</i>: <b>7074.5</b>"
      ],
      "text/plain": [
       "<IPython.core.display.HTML object>"
      ]
     },
     "metadata": {},
     "output_type": "display_data"
    },
    {
     "data": {
      "text/html": [
       "> No outliers found in column <i>'users'</i>."
      ],
      "text/plain": [
       "<IPython.core.display.HTML object>"
      ]
     },
     "metadata": {},
     "output_type": "display_data"
    },
    {
     "data": {
      "text/plain": [
       "(Empty DataFrame\n",
       " Columns: [day, hour, total_tracks, tracks, users]\n",
       " Index: [],\n",
       " Empty DataFrame\n",
       " Columns: [day, hour, total_tracks, tracks, users]\n",
       " Index: [])"
      ]
     },
     "execution_count": 41,
     "metadata": {},
     "output_type": "execute_result"
    }
   ],
   "source": [
    "outlier_limit_bounds(df_music_activity_time_day, 'users', bound='both', clamp_zero=True)"
   ]
  },
  {
   "cell_type": "markdown",
   "id": "5cdaa217",
   "metadata": {},
   "source": [
    "#### 3.1.6 Descriptive statistics for Music Activity per Time, City and Day"
   ]
  },
  {
   "cell_type": "code",
   "execution_count": 42,
   "id": "d58bef83",
   "metadata": {},
   "outputs": [
    {
     "data": {
      "application/vnd.microsoft.datawrangler.viewer.v0+json": {
       "columns": [
        {
         "name": "index",
         "rawType": "object",
         "type": "string"
        },
        {
         "name": "hour",
         "rawType": "float64",
         "type": "float"
        },
        {
         "name": "total_tracks",
         "rawType": "float64",
         "type": "float"
        },
        {
         "name": "tracks",
         "rawType": "float64",
         "type": "float"
        },
        {
         "name": "users",
         "rawType": "float64",
         "type": "float"
        }
       ],
       "ref": "d2ae60a0-94fa-4eb3-9dc9-5baed14a1a97",
       "rows": [
        [
         "count",
         "54.0",
         "54.0",
         "54.0",
         "54.0"
        ],
        [
         "mean",
         "14.666666666666666",
         "1110.9444444444443",
         "1047.148148148148",
         "923.3888888888889"
        ],
        [
         "std",
         "5.035721454373517",
         "974.0974616432762",
         "904.9162873282686",
         "805.6107355495609"
        ],
        [
         "min",
         "8.0",
         "10.0",
         "10.0",
         "10.0"
        ],
        [
         "25%",
         "10.0",
         "40.5",
         "40.25",
         "39.25"
        ],
        [
         "50%",
         "14.0",
         "1001.0",
         "967.5",
         "832.5"
        ],
        [
         "75%",
         "20.0",
         "2011.0",
         "1898.5",
         "1657.75"
        ],
        [
         "max",
         "22.0",
         "2708.0",
         "2521.0",
         "2217.0"
        ]
       ],
       "shape": {
        "columns": 4,
        "rows": 8
       }
      },
      "text/html": [
       "<div>\n",
       "<style scoped>\n",
       "    .dataframe tbody tr th:only-of-type {\n",
       "        vertical-align: middle;\n",
       "    }\n",
       "\n",
       "    .dataframe tbody tr th {\n",
       "        vertical-align: top;\n",
       "    }\n",
       "\n",
       "    .dataframe thead th {\n",
       "        text-align: right;\n",
       "    }\n",
       "</style>\n",
       "<table border=\"1\" class=\"dataframe\">\n",
       "  <thead>\n",
       "    <tr style=\"text-align: right;\">\n",
       "      <th></th>\n",
       "      <th>hour</th>\n",
       "      <th>total_tracks</th>\n",
       "      <th>tracks</th>\n",
       "      <th>users</th>\n",
       "    </tr>\n",
       "  </thead>\n",
       "  <tbody>\n",
       "    <tr>\n",
       "      <th>count</th>\n",
       "      <td>54.000000</td>\n",
       "      <td>54.000000</td>\n",
       "      <td>54.000000</td>\n",
       "      <td>54.000000</td>\n",
       "    </tr>\n",
       "    <tr>\n",
       "      <th>mean</th>\n",
       "      <td>14.666667</td>\n",
       "      <td>1110.944444</td>\n",
       "      <td>1047.148148</td>\n",
       "      <td>923.388889</td>\n",
       "    </tr>\n",
       "    <tr>\n",
       "      <th>std</th>\n",
       "      <td>5.035721</td>\n",
       "      <td>974.097462</td>\n",
       "      <td>904.916287</td>\n",
       "      <td>805.610736</td>\n",
       "    </tr>\n",
       "    <tr>\n",
       "      <th>min</th>\n",
       "      <td>8.000000</td>\n",
       "      <td>10.000000</td>\n",
       "      <td>10.000000</td>\n",
       "      <td>10.000000</td>\n",
       "    </tr>\n",
       "    <tr>\n",
       "      <th>25%</th>\n",
       "      <td>10.000000</td>\n",
       "      <td>40.500000</td>\n",
       "      <td>40.250000</td>\n",
       "      <td>39.250000</td>\n",
       "    </tr>\n",
       "    <tr>\n",
       "      <th>50%</th>\n",
       "      <td>14.000000</td>\n",
       "      <td>1001.000000</td>\n",
       "      <td>967.500000</td>\n",
       "      <td>832.500000</td>\n",
       "    </tr>\n",
       "    <tr>\n",
       "      <th>75%</th>\n",
       "      <td>20.000000</td>\n",
       "      <td>2011.000000</td>\n",
       "      <td>1898.500000</td>\n",
       "      <td>1657.750000</td>\n",
       "    </tr>\n",
       "    <tr>\n",
       "      <th>max</th>\n",
       "      <td>22.000000</td>\n",
       "      <td>2708.000000</td>\n",
       "      <td>2521.000000</td>\n",
       "      <td>2217.000000</td>\n",
       "    </tr>\n",
       "  </tbody>\n",
       "</table>\n",
       "</div>"
      ],
      "text/plain": [
       "            hour  total_tracks       tracks        users\n",
       "count  54.000000     54.000000    54.000000    54.000000\n",
       "mean   14.666667   1110.944444  1047.148148   923.388889\n",
       "std     5.035721    974.097462   904.916287   805.610736\n",
       "min     8.000000     10.000000    10.000000    10.000000\n",
       "25%    10.000000     40.500000    40.250000    39.250000\n",
       "50%    14.000000   1001.000000   967.500000   832.500000\n",
       "75%    20.000000   2011.000000  1898.500000  1657.750000\n",
       "max    22.000000   2708.000000  2521.000000  2217.000000"
      ]
     },
     "execution_count": 42,
     "metadata": {},
     "output_type": "execute_result"
    }
   ],
   "source": [
    "df_music_activity_time_city_day.describe()"
   ]
  },
  {
   "cell_type": "code",
   "execution_count": 43,
   "id": "d28f3959",
   "metadata": {},
   "outputs": [
    {
     "data": {
      "text/html": [
       "> Coefficient of variation for column <i>'hour'</i>: <b>34.33 %</b>"
      ],
      "text/plain": [
       "<IPython.core.display.HTML object>"
      ]
     },
     "metadata": {},
     "output_type": "display_data"
    },
    {
     "data": {
      "text/html": [
       "> High variability: <i>mean may be misleading</i>. Recommended central measure: <b>median</b>."
      ],
      "text/plain": [
       "<IPython.core.display.HTML object>"
      ]
     },
     "metadata": {},
     "output_type": "display_data"
    },
    {
     "name": "stdout",
     "output_type": "stream",
     "text": [
      "\n"
     ]
    }
   ],
   "source": [
    "# Evaluate the coefficient of variation to select the proper measure of central tendency\n",
    "evaluate_central_trend(df_music_activity_time_city_day, 'hour')"
   ]
  },
  {
   "cell_type": "code",
   "execution_count": 44,
   "id": "6b693f23",
   "metadata": {},
   "outputs": [
    {
     "data": {
      "text/html": [
       "> Coefficient of variation for column <i>'total_tracks'</i>: <b>87.68 %</b>"
      ],
      "text/plain": [
       "<IPython.core.display.HTML object>"
      ]
     },
     "metadata": {},
     "output_type": "display_data"
    },
    {
     "data": {
      "text/html": [
       "> High variability: <i>mean may be misleading</i>. Recommended central measure: <b>median</b>."
      ],
      "text/plain": [
       "<IPython.core.display.HTML object>"
      ]
     },
     "metadata": {},
     "output_type": "display_data"
    },
    {
     "name": "stdout",
     "output_type": "stream",
     "text": [
      "\n"
     ]
    }
   ],
   "source": [
    "evaluate_central_trend(df_music_activity_time_city_day, 'total_tracks')"
   ]
  },
  {
   "cell_type": "code",
   "execution_count": 45,
   "id": "162ab725",
   "metadata": {},
   "outputs": [
    {
     "data": {
      "text/html": [
       "> Coefficient of variation for column <i>'tracks'</i>: <b>86.42 %</b>"
      ],
      "text/plain": [
       "<IPython.core.display.HTML object>"
      ]
     },
     "metadata": {},
     "output_type": "display_data"
    },
    {
     "data": {
      "text/html": [
       "> High variability: <i>mean may be misleading</i>. Recommended central measure: <b>median</b>."
      ],
      "text/plain": [
       "<IPython.core.display.HTML object>"
      ]
     },
     "metadata": {},
     "output_type": "display_data"
    },
    {
     "name": "stdout",
     "output_type": "stream",
     "text": [
      "\n"
     ]
    }
   ],
   "source": [
    "evaluate_central_trend(df_music_activity_time_city_day, 'tracks')"
   ]
  },
  {
   "cell_type": "code",
   "execution_count": 46,
   "id": "30ac71e4",
   "metadata": {},
   "outputs": [
    {
     "data": {
      "text/html": [
       "> Coefficient of variation for column <i>'users'</i>: <b>87.25 %</b>"
      ],
      "text/plain": [
       "<IPython.core.display.HTML object>"
      ]
     },
     "metadata": {},
     "output_type": "display_data"
    },
    {
     "data": {
      "text/html": [
       "> High variability: <i>mean may be misleading</i>. Recommended central measure: <b>median</b>."
      ],
      "text/plain": [
       "<IPython.core.display.HTML object>"
      ]
     },
     "metadata": {},
     "output_type": "display_data"
    },
    {
     "name": "stdout",
     "output_type": "stream",
     "text": [
      "\n"
     ]
    }
   ],
   "source": [
    "evaluate_central_trend(df_music_activity_time_city_day, 'users')"
   ]
  },
  {
   "cell_type": "code",
   "execution_count": 47,
   "id": "cc7d920a",
   "metadata": {},
   "outputs": [
    {
     "data": {
      "text/html": [
       "> Lower outlier threshold for column <i>'hour'</i>: <b>0</b>"
      ],
      "text/plain": [
       "<IPython.core.display.HTML object>"
      ]
     },
     "metadata": {},
     "output_type": "display_data"
    },
    {
     "data": {
      "text/html": [
       "> Upper outlier threshold for column <i>'hour'</i>: <b>35.0</b>"
      ],
      "text/plain": [
       "<IPython.core.display.HTML object>"
      ]
     },
     "metadata": {},
     "output_type": "display_data"
    },
    {
     "data": {
      "text/html": [
       "> No outliers found in column <i>'hour'</i>."
      ],
      "text/plain": [
       "<IPython.core.display.HTML object>"
      ]
     },
     "metadata": {},
     "output_type": "display_data"
    },
    {
     "data": {
      "text/plain": [
       "(Empty DataFrame\n",
       " Columns: [city, day, hour, total_tracks, tracks, users]\n",
       " Index: [],\n",
       " Empty DataFrame\n",
       " Columns: [city, day, hour, total_tracks, tracks, users]\n",
       " Index: [])"
      ]
     },
     "execution_count": 47,
     "metadata": {},
     "output_type": "execute_result"
    }
   ],
   "source": [
    "# Evaluate boundary thresholds and detect potential outliers\n",
    "outlier_limit_bounds(df_music_activity_time_city_day, 'hour', bound='both', clamp_zero=True)"
   ]
  },
  {
   "cell_type": "code",
   "execution_count": 48,
   "id": "ede2caa5",
   "metadata": {},
   "outputs": [
    {
     "data": {
      "text/html": [
       "> Lower outlier threshold for column <i>'total_tracks'</i>: <b>0</b>"
      ],
      "text/plain": [
       "<IPython.core.display.HTML object>"
      ]
     },
     "metadata": {},
     "output_type": "display_data"
    },
    {
     "data": {
      "text/html": [
       "> Upper outlier threshold for column <i>'total_tracks'</i>: <b>4966.75</b>"
      ],
      "text/plain": [
       "<IPython.core.display.HTML object>"
      ]
     },
     "metadata": {},
     "output_type": "display_data"
    },
    {
     "data": {
      "text/html": [
       "> No outliers found in column <i>'total_tracks'</i>."
      ],
      "text/plain": [
       "<IPython.core.display.HTML object>"
      ]
     },
     "metadata": {},
     "output_type": "display_data"
    },
    {
     "data": {
      "text/plain": [
       "(Empty DataFrame\n",
       " Columns: [city, day, hour, total_tracks, tracks, users]\n",
       " Index: [],\n",
       " Empty DataFrame\n",
       " Columns: [city, day, hour, total_tracks, tracks, users]\n",
       " Index: [])"
      ]
     },
     "execution_count": 48,
     "metadata": {},
     "output_type": "execute_result"
    }
   ],
   "source": [
    "outlier_limit_bounds(df_music_activity_time_city_day, 'total_tracks', bound='both', clamp_zero=True)"
   ]
  },
  {
   "cell_type": "code",
   "execution_count": 49,
   "id": "a4bf76c8",
   "metadata": {},
   "outputs": [
    {
     "data": {
      "text/html": [
       "> Lower outlier threshold for column <i>'tracks'</i>: <b>0</b>"
      ],
      "text/plain": [
       "<IPython.core.display.HTML object>"
      ]
     },
     "metadata": {},
     "output_type": "display_data"
    },
    {
     "data": {
      "text/html": [
       "> Upper outlier threshold for column <i>'tracks'</i>: <b>4685.875</b>"
      ],
      "text/plain": [
       "<IPython.core.display.HTML object>"
      ]
     },
     "metadata": {},
     "output_type": "display_data"
    },
    {
     "data": {
      "text/html": [
       "> No outliers found in column <i>'tracks'</i>."
      ],
      "text/plain": [
       "<IPython.core.display.HTML object>"
      ]
     },
     "metadata": {},
     "output_type": "display_data"
    },
    {
     "data": {
      "text/plain": [
       "(Empty DataFrame\n",
       " Columns: [city, day, hour, total_tracks, tracks, users]\n",
       " Index: [],\n",
       " Empty DataFrame\n",
       " Columns: [city, day, hour, total_tracks, tracks, users]\n",
       " Index: [])"
      ]
     },
     "execution_count": 49,
     "metadata": {},
     "output_type": "execute_result"
    }
   ],
   "source": [
    "outlier_limit_bounds(df_music_activity_time_city_day, 'tracks', bound='both', clamp_zero=True)"
   ]
  },
  {
   "cell_type": "code",
   "execution_count": 50,
   "id": "ee08494d",
   "metadata": {},
   "outputs": [
    {
     "data": {
      "text/html": [
       "> Lower outlier threshold for column <i>'users'</i>: <b>0</b>"
      ],
      "text/plain": [
       "<IPython.core.display.HTML object>"
      ]
     },
     "metadata": {},
     "output_type": "display_data"
    },
    {
     "data": {
      "text/html": [
       "> Upper outlier threshold for column <i>'users'</i>: <b>4085.5</b>"
      ],
      "text/plain": [
       "<IPython.core.display.HTML object>"
      ]
     },
     "metadata": {},
     "output_type": "display_data"
    },
    {
     "data": {
      "text/html": [
       "> No outliers found in column <i>'users'</i>."
      ],
      "text/plain": [
       "<IPython.core.display.HTML object>"
      ]
     },
     "metadata": {},
     "output_type": "display_data"
    },
    {
     "data": {
      "text/plain": [
       "(Empty DataFrame\n",
       " Columns: [city, day, hour, total_tracks, tracks, users]\n",
       " Index: [],\n",
       " Empty DataFrame\n",
       " Columns: [city, day, hour, total_tracks, tracks, users]\n",
       " Index: [])"
      ]
     },
     "execution_count": 50,
     "metadata": {},
     "output_type": "execute_result"
    }
   ],
   "source": [
    "outlier_limit_bounds(df_music_activity_time_city_day, 'users', bound='both', clamp_zero=True)"
   ]
  },
  {
   "cell_type": "markdown",
   "id": "1fb0d3e0",
   "metadata": {},
   "source": [
    "### 3.2 Data Visualization: Distributions and Relationships"
   ]
  },
  {
   "cell_type": "markdown",
   "id": "8943a335",
   "metadata": {},
   "source": [
    "#### 3.2.1 Covariance and Correlation Analysis "
   ]
  },
  {
   "cell_type": "markdown",
   "id": "7806eb2d",
   "metadata": {},
   "source": [
    "##### 3.2.1.1 Covariance Matrix"
   ]
  },
  {
   "cell_type": "code",
   "execution_count": 51,
   "id": "502a7142",
   "metadata": {},
   "outputs": [
    {
     "data": {
      "application/vnd.microsoft.datawrangler.viewer.v0+json": {
       "columns": [
        {
         "name": "index",
         "rawType": "object",
         "type": "string"
        },
        {
         "name": "total_tracks",
         "rawType": "float64",
         "type": "float"
        },
        {
         "name": "tracks",
         "rawType": "float64",
         "type": "float"
        },
        {
         "name": "users",
         "rawType": "float64",
         "type": "float"
        }
       ],
       "ref": "2f7f6473-9f6e-417a-8b35-93aa96cfa96f",
       "rows": [
        [
         "total_tracks",
         "21942765.1",
         "17084995.8",
         "16860696.499999996"
        ],
        [
         "tracks",
         "17084995.8",
         "13305422.266666668",
         "13127959.866666667"
        ],
        [
         "users",
         "16860696.499999996",
         "13127959.866666667",
         "12956987.766666668"
        ]
       ],
       "shape": {
        "columns": 3,
        "rows": 3
       }
      },
      "text/html": [
       "<div>\n",
       "<style scoped>\n",
       "    .dataframe tbody tr th:only-of-type {\n",
       "        vertical-align: middle;\n",
       "    }\n",
       "\n",
       "    .dataframe tbody tr th {\n",
       "        vertical-align: top;\n",
       "    }\n",
       "\n",
       "    .dataframe thead th {\n",
       "        text-align: right;\n",
       "    }\n",
       "</style>\n",
       "<table border=\"1\" class=\"dataframe\">\n",
       "  <thead>\n",
       "    <tr style=\"text-align: right;\">\n",
       "      <th></th>\n",
       "      <th>total_tracks</th>\n",
       "      <th>tracks</th>\n",
       "      <th>users</th>\n",
       "    </tr>\n",
       "  </thead>\n",
       "  <tbody>\n",
       "    <tr>\n",
       "      <th>total_tracks</th>\n",
       "      <td>21942765.1</td>\n",
       "      <td>1.708500e+07</td>\n",
       "      <td>1.686070e+07</td>\n",
       "    </tr>\n",
       "    <tr>\n",
       "      <th>tracks</th>\n",
       "      <td>17084995.8</td>\n",
       "      <td>1.330542e+07</td>\n",
       "      <td>1.312796e+07</td>\n",
       "    </tr>\n",
       "    <tr>\n",
       "      <th>users</th>\n",
       "      <td>16860696.5</td>\n",
       "      <td>1.312796e+07</td>\n",
       "      <td>1.295699e+07</td>\n",
       "    </tr>\n",
       "  </tbody>\n",
       "</table>\n",
       "</div>"
      ],
      "text/plain": [
       "              total_tracks        tracks         users\n",
       "total_tracks    21942765.1  1.708500e+07  1.686070e+07\n",
       "tracks          17084995.8  1.330542e+07  1.312796e+07\n",
       "users           16860696.5  1.312796e+07  1.295699e+07"
      ]
     },
     "execution_count": 51,
     "metadata": {},
     "output_type": "execute_result"
    }
   ],
   "source": [
    "# Covariance for music activity per city and day\n",
    "df_music_activity_city_day[['total_tracks', 'tracks', 'users']].cov()"
   ]
  },
  {
   "cell_type": "code",
   "execution_count": 52,
   "id": "743e5005",
   "metadata": {},
   "outputs": [
    {
     "data": {
      "image/png": "[encoded data removed]",
      "text/plain": [
       "<Figure size 2250x900 with 12 Axes>"
      ]
     },
     "metadata": {},
     "output_type": "display_data"
    }
   ],
   "source": [
    "plot_pairplot(df_music_activity_city_day[['total_tracks', 'tracks', 'users']])"
   ]
  },
  {
   "cell_type": "code",
   "execution_count": 53,
   "id": "4244787f",
   "metadata": {},
   "outputs": [
    {
     "data": {
      "application/vnd.microsoft.datawrangler.viewer.v0+json": {
       "columns": [
        {
         "name": "index",
         "rawType": "object",
         "type": "string"
        },
        {
         "name": "hour",
         "rawType": "float64",
         "type": "float"
        },
        {
         "name": "total_tracks",
         "rawType": "float64",
         "type": "float"
        },
        {
         "name": "tracks",
         "rawType": "float64",
         "type": "float"
        },
        {
         "name": "users",
         "rawType": "float64",
         "type": "float"
        }
       ],
       "ref": "6ec74b88-8385-4302-aeeb-c43b358358c3",
       "rows": [
        [
         "hour",
         "25.358490566037734",
         "-371.5094339622642",
         "-333.15723270440253",
         "-367.5283018867926"
        ],
        [
         "total_tracks",
         "-371.5094339622642",
         "948865.864779874",
         "881235.6876310273",
         "784339.0786163522"
        ],
        [
         "tracks",
         "-333.15723270440253",
         "881235.6876310273",
         "818873.4870719777",
         "728476.9790356393"
        ],
        [
         "users",
         "-367.5283018867926",
         "784339.0786163522",
         "728476.9790356393",
         "649008.6572327046"
        ]
       ],
       "shape": {
        "columns": 4,
        "rows": 4
       }
      },
      "text/html": [
       "<div>\n",
       "<style scoped>\n",
       "    .dataframe tbody tr th:only-of-type {\n",
       "        vertical-align: middle;\n",
       "    }\n",
       "\n",
       "    .dataframe tbody tr th {\n",
       "        vertical-align: top;\n",
       "    }\n",
       "\n",
       "    .dataframe thead th {\n",
       "        text-align: right;\n",
       "    }\n",
       "</style>\n",
       "<table border=\"1\" class=\"dataframe\">\n",
       "  <thead>\n",
       "    <tr style=\"text-align: right;\">\n",
       "      <th></th>\n",
       "      <th>hour</th>\n",
       "      <th>total_tracks</th>\n",
       "      <th>tracks</th>\n",
       "      <th>users</th>\n",
       "    </tr>\n",
       "  </thead>\n",
       "  <tbody>\n",
       "    <tr>\n",
       "      <th>hour</th>\n",
       "      <td>25.358491</td>\n",
       "      <td>-371.509434</td>\n",
       "      <td>-333.157233</td>\n",
       "      <td>-367.528302</td>\n",
       "    </tr>\n",
       "    <tr>\n",
       "      <th>total_tracks</th>\n",
       "      <td>-371.509434</td>\n",
       "      <td>948865.864780</td>\n",
       "      <td>881235.687631</td>\n",
       "      <td>784339.078616</td>\n",
       "    </tr>\n",
       "    <tr>\n",
       "      <th>tracks</th>\n",
       "      <td>-333.157233</td>\n",
       "      <td>881235.687631</td>\n",
       "      <td>818873.487072</td>\n",
       "      <td>728476.979036</td>\n",
       "    </tr>\n",
       "    <tr>\n",
       "      <th>users</th>\n",
       "      <td>-367.528302</td>\n",
       "      <td>784339.078616</td>\n",
       "      <td>728476.979036</td>\n",
       "      <td>649008.657233</td>\n",
       "    </tr>\n",
       "  </tbody>\n",
       "</table>\n",
       "</div>"
      ],
      "text/plain": [
       "                    hour   total_tracks         tracks          users\n",
       "hour           25.358491    -371.509434    -333.157233    -367.528302\n",
       "total_tracks -371.509434  948865.864780  881235.687631  784339.078616\n",
       "tracks       -333.157233  881235.687631  818873.487072  728476.979036\n",
       "users        -367.528302  784339.078616  728476.979036  649008.657233"
      ]
     },
     "execution_count": 53,
     "metadata": {},
     "output_type": "execute_result"
    }
   ],
   "source": [
    "# Covariance for music activity per time, city and day\n",
    "df_music_activity_time_city_day[['hour', 'total_tracks', 'tracks', 'users']].cov()"
   ]
  },
  {
   "cell_type": "code",
   "execution_count": 54,
   "id": "816f8e49",
   "metadata": {},
   "outputs": [
    {
     "data": {
      "image/png": "[encoded data removed]",
      "text/plain": [
       "<Figure size 3000x1200 with 20 Axes>"
      ]
     },
     "metadata": {},
     "output_type": "display_data"
    }
   ],
   "source": [
    "plot_pairplot(df_music_activity_time_city_day[['hour', 'total_tracks', 'tracks', 'users']])"
   ]
  },
  {
   "cell_type": "markdown",
   "id": "85307bc4",
   "metadata": {},
   "source": [
    "##### 3.2.1.2 Correlation Matrix"
   ]
  },
  {
   "cell_type": "markdown",
   "id": "6608f86b",
   "metadata": {},
   "source": [
    "| Correlation Value     | Interpretation                |\n",
    "| --------------------- | ----------------------------- |\n",
    "| `+0.7` to `+1.0`      | Strong positive correlation   |\n",
    "| `+0.3` to `+0.7`      | Moderate positive correlation |\n",
    "| `0.0` to `+0.3`       | Weak positive correlation     |\n",
    "| `0`                   | No correlation                |\n",
    "| `-0.3` to `0`         | Weak negative correlation     |\n",
    "| `-0.7` to `-0.3`      | Moderate negative correlation |\n",
    "| `-1.0` to `-0.7`      | Strong negative correlation   |\n"
   ]
  },
  {
   "cell_type": "code",
   "execution_count": 55,
   "id": "cb1e56c8",
   "metadata": {},
   "outputs": [
    {
     "data": {
      "application/vnd.microsoft.datawrangler.viewer.v0+json": {
       "columns": [
        {
         "name": "index",
         "rawType": "object",
         "type": "string"
        },
        {
         "name": "total_tracks",
         "rawType": "float64",
         "type": "float"
        },
        {
         "name": "tracks",
         "rawType": "float64",
         "type": "float"
        },
        {
         "name": "users",
         "rawType": "float64",
         "type": "float"
        }
       ],
       "ref": "b0181b46-b4ff-46ae-9af1-6c032127ee96",
       "rows": [
        [
         "total_tracks",
         "1.0",
         "0.999896085958939",
         "0.999948906077743"
        ],
        [
         "tracks",
         "0.999896085958939",
         "1.0",
         "0.9998408694338474"
        ],
        [
         "users",
         "0.999948906077743",
         "0.9998408694338474",
         "1.0"
        ]
       ],
       "shape": {
        "columns": 3,
        "rows": 3
       }
      },
      "text/html": [
       "<div>\n",
       "<style scoped>\n",
       "    .dataframe tbody tr th:only-of-type {\n",
       "        vertical-align: middle;\n",
       "    }\n",
       "\n",
       "    .dataframe tbody tr th {\n",
       "        vertical-align: top;\n",
       "    }\n",
       "\n",
       "    .dataframe thead th {\n",
       "        text-align: right;\n",
       "    }\n",
       "</style>\n",
       "<table border=\"1\" class=\"dataframe\">\n",
       "  <thead>\n",
       "    <tr style=\"text-align: right;\">\n",
       "      <th></th>\n",
       "      <th>total_tracks</th>\n",
       "      <th>tracks</th>\n",
       "      <th>users</th>\n",
       "    </tr>\n",
       "  </thead>\n",
       "  <tbody>\n",
       "    <tr>\n",
       "      <th>total_tracks</th>\n",
       "      <td>1.000000</td>\n",
       "      <td>0.999896</td>\n",
       "      <td>0.999949</td>\n",
       "    </tr>\n",
       "    <tr>\n",
       "      <th>tracks</th>\n",
       "      <td>0.999896</td>\n",
       "      <td>1.000000</td>\n",
       "      <td>0.999841</td>\n",
       "    </tr>\n",
       "    <tr>\n",
       "      <th>users</th>\n",
       "      <td>0.999949</td>\n",
       "      <td>0.999841</td>\n",
       "      <td>1.000000</td>\n",
       "    </tr>\n",
       "  </tbody>\n",
       "</table>\n",
       "</div>"
      ],
      "text/plain": [
       "              total_tracks    tracks     users\n",
       "total_tracks      1.000000  0.999896  0.999949\n",
       "tracks            0.999896  1.000000  0.999841\n",
       "users             0.999949  0.999841  1.000000"
      ]
     },
     "execution_count": 55,
     "metadata": {},
     "output_type": "execute_result"
    }
   ],
   "source": [
    "# Correlation for music activity per city and day\n",
    "df_music_activity_city_day[['total_tracks', 'tracks', 'users']].corr()"
   ]
  },
  {
   "cell_type": "code",
   "execution_count": 56,
   "id": "d085ab8f",
   "metadata": {},
   "outputs": [
    {
     "data": {
      "image/png": "[encoded data removed]",
      "text/plain": [
       "<Figure size 1500x700 with 9 Axes>"
      ]
     },
     "metadata": {},
     "output_type": "display_data"
    }
   ],
   "source": [
    "plot_scatter_matrix(df_music_activity_city_day[['total_tracks', 'tracks', 'users']])"
   ]
  },
  {
   "cell_type": "code",
   "execution_count": 57,
   "id": "4928c4f6",
   "metadata": {},
   "outputs": [
    {
     "data": {
      "text/html": [
       "> Correlation (<i>total_tracks</i>, <i>tracks</i>): <b>1.00</b><br><b>Strong positive correlation</b>"
      ],
      "text/plain": [
       "<IPython.core.display.HTML object>"
      ]
     },
     "metadata": {},
     "output_type": "display_data"
    },
    {
     "data": {
      "text/html": [
       "> Correlation (<i>total_tracks</i>, <i>users</i>): <b>1.00</b><br><b>Strong positive correlation</b>"
      ],
      "text/plain": [
       "<IPython.core.display.HTML object>"
      ]
     },
     "metadata": {},
     "output_type": "display_data"
    },
    {
     "data": {
      "text/html": [
       "> Correlation (<i>tracks</i>, <i>total_tracks</i>): <b>1.00</b><br><b>Strong positive correlation</b>"
      ],
      "text/plain": [
       "<IPython.core.display.HTML object>"
      ]
     },
     "metadata": {},
     "output_type": "display_data"
    },
    {
     "data": {
      "text/html": [
       "> Correlation (<i>tracks</i>, <i>users</i>): <b>1.00</b><br><b>Strong positive correlation</b>"
      ],
      "text/plain": [
       "<IPython.core.display.HTML object>"
      ]
     },
     "metadata": {},
     "output_type": "display_data"
    },
    {
     "data": {
      "text/html": [
       "> Correlation (<i>users</i>, <i>total_tracks</i>): <b>1.00</b><br><b>Strong positive correlation</b>"
      ],
      "text/plain": [
       "<IPython.core.display.HTML object>"
      ]
     },
     "metadata": {},
     "output_type": "display_data"
    },
    {
     "data": {
      "text/html": [
       "> Correlation (<i>users</i>, <i>tracks</i>): <b>1.00</b><br><b>Strong positive correlation</b>"
      ],
      "text/plain": [
       "<IPython.core.display.HTML object>"
      ]
     },
     "metadata": {},
     "output_type": "display_data"
    }
   ],
   "source": [
    "evaluate_correlation(df_music_activity_city_day[['total_tracks', 'tracks', 'users']])"
   ]
  },
  {
   "cell_type": "code",
   "execution_count": 58,
   "id": "4aaf22b1",
   "metadata": {},
   "outputs": [
    {
     "data": {
      "application/vnd.microsoft.datawrangler.viewer.v0+json": {
       "columns": [
        {
         "name": "index",
         "rawType": "object",
         "type": "string"
        },
        {
         "name": "hour",
         "rawType": "float64",
         "type": "float"
        },
        {
         "name": "total_tracks",
         "rawType": "float64",
         "type": "float"
        },
        {
         "name": "tracks",
         "rawType": "float64",
         "type": "float"
        },
        {
         "name": "users",
         "rawType": "float64",
         "type": "float"
        }
       ],
       "ref": "5ef2727a-aecd-4bdb-a41a-b61b94e5ce51",
       "rows": [
        [
         "hour",
         "1.0",
         "-0.0757365879064497",
         "-0.07311039687917205",
         "-0.09059491950489436"
        ],
        [
         "total_tracks",
         "-0.0757365879064497",
         "1.0",
         "0.9997266282064571",
         "0.9994848074298188"
        ],
        [
         "tracks",
         "-0.07311039687917205",
         "0.9997266282064571",
         "1.0",
         "0.9992684646193137"
        ],
        [
         "users",
         "-0.09059491950489436",
         "0.9994848074298188",
         "0.9992684646193137",
         "1.0"
        ]
       ],
       "shape": {
        "columns": 4,
        "rows": 4
       }
      },
      "text/html": [
       "<div>\n",
       "<style scoped>\n",
       "    .dataframe tbody tr th:only-of-type {\n",
       "        vertical-align: middle;\n",
       "    }\n",
       "\n",
       "    .dataframe tbody tr th {\n",
       "        vertical-align: top;\n",
       "    }\n",
       "\n",
       "    .dataframe thead th {\n",
       "        text-align: right;\n",
       "    }\n",
       "</style>\n",
       "<table border=\"1\" class=\"dataframe\">\n",
       "  <thead>\n",
       "    <tr style=\"text-align: right;\">\n",
       "      <th></th>\n",
       "      <th>hour</th>\n",
       "      <th>total_tracks</th>\n",
       "      <th>tracks</th>\n",
       "      <th>users</th>\n",
       "    </tr>\n",
       "  </thead>\n",
       "  <tbody>\n",
       "    <tr>\n",
       "      <th>hour</th>\n",
       "      <td>1.000000</td>\n",
       "      <td>-0.075737</td>\n",
       "      <td>-0.073110</td>\n",
       "      <td>-0.090595</td>\n",
       "    </tr>\n",
       "    <tr>\n",
       "      <th>total_tracks</th>\n",
       "      <td>-0.075737</td>\n",
       "      <td>1.000000</td>\n",
       "      <td>0.999727</td>\n",
       "      <td>0.999485</td>\n",
       "    </tr>\n",
       "    <tr>\n",
       "      <th>tracks</th>\n",
       "      <td>-0.073110</td>\n",
       "      <td>0.999727</td>\n",
       "      <td>1.000000</td>\n",
       "      <td>0.999268</td>\n",
       "    </tr>\n",
       "    <tr>\n",
       "      <th>users</th>\n",
       "      <td>-0.090595</td>\n",
       "      <td>0.999485</td>\n",
       "      <td>0.999268</td>\n",
       "      <td>1.000000</td>\n",
       "    </tr>\n",
       "  </tbody>\n",
       "</table>\n",
       "</div>"
      ],
      "text/plain": [
       "                  hour  total_tracks    tracks     users\n",
       "hour          1.000000     -0.075737 -0.073110 -0.090595\n",
       "total_tracks -0.075737      1.000000  0.999727  0.999485\n",
       "tracks       -0.073110      0.999727  1.000000  0.999268\n",
       "users        -0.090595      0.999485  0.999268  1.000000"
      ]
     },
     "execution_count": 58,
     "metadata": {},
     "output_type": "execute_result"
    }
   ],
   "source": [
    "# Correlation for music activity per time, city and day\n",
    "df_music_activity_time_city_day[['hour', 'total_tracks', 'tracks', 'users']].corr()"
   ]
  },
  {
   "cell_type": "code",
   "execution_count": 59,
   "id": "84708511",
   "metadata": {},
   "outputs": [
    {
     "data": {
      "image/png": "[encoded data removed]",
      "text/plain": [
       "<Figure size 1500x700 with 16 Axes>"
      ]
     },
     "metadata": {},
     "output_type": "display_data"
    }
   ],
   "source": [
    "plot_scatter_matrix(df_music_activity_time_city_day[['hour', 'total_tracks', 'tracks', 'users']])"
   ]
  },
  {
   "cell_type": "code",
   "execution_count": null,
   "id": "15e069fa",
   "metadata": {},
   "outputs": [
    {
     "data": {
      "text/html": [
       "> Correlation (<i>total_tracks</i>, <i>tracks</i>): <b>1.00</b><br><b>Strong positive correlation</b>"
      ],
      "text/plain": [
       "<IPython.core.display.HTML object>"
      ]
     },
     "metadata": {},
     "output_type": "display_data"
    },
    {
     "data": {
      "text/html": [
       "> Correlation (<i>total_tracks</i>, <i>users</i>): <b>1.00</b><br><b>Strong positive correlation</b>"
      ],
      "text/plain": [
       "<IPython.core.display.HTML object>"
      ]
     },
     "metadata": {},
     "output_type": "display_data"
    },
    {
     "data": {
      "text/html": [
       "> Correlation (<i>tracks</i>, <i>total_tracks</i>): <b>1.00</b><br><b>Strong positive correlation</b>"
      ],
      "text/plain": [
       "<IPython.core.display.HTML object>"
      ]
     },
     "metadata": {},
     "output_type": "display_data"
    },
    {
     "data": {
      "text/html": [
       "> Correlation (<i>tracks</i>, <i>users</i>): <b>1.00</b><br><b>Strong positive correlation</b>"
      ],
      "text/plain": [
       "<IPython.core.display.HTML object>"
      ]
     },
     "metadata": {},
     "output_type": "display_data"
    },
    {
     "data": {
      "text/html": [
       "> Correlation (<i>users</i>, <i>total_tracks</i>): <b>1.00</b><br><b>Strong positive correlation</b>"
      ],
      "text/plain": [
       "<IPython.core.display.HTML object>"
      ]
     },
     "metadata": {},
     "output_type": "display_data"
    },
    {
     "data": {
      "text/html": [
       "> Correlation (<i>users</i>, <i>tracks</i>): <b>1.00</b><br><b>Strong positive correlation</b>"
      ],
      "text/plain": [
       "<IPython.core.display.HTML object>"
      ]
     },
     "metadata": {},
     "output_type": "display_data"
    }
   ],
   "source": [
    "evaluate_correlation(df_music_activity_time_city_day[['hour', 'total_tracks', 'tracks', 'users']])"
   ]
  },
  {
   "cell_type": "markdown",
   "id": "7bc91fb5",
   "metadata": {},
   "source": [
    "#### 3.2.2 Data visualization for Music Activity per City"
   ]
  },
  {
   "cell_type": "code",
   "execution_count": 61,
   "id": "e9847fa8",
   "metadata": {},
   "outputs": [
    {
     "data": {
      "image/png": "[encoded data removed]",
      "text/plain": [
       "<Figure size 1500x700 with 1 Axes>"
      ]
     },
     "metadata": {},
     "output_type": "display_data"
    }
   ],
   "source": [
    "# Music Activity per City: Total Plays, Unique Tracks, and Unique Listeners\n",
    "plot_grouped_bars_indx(df_music_activity_city, index_name='city', title='Music Activity per City', ylabel='Activity Count')"
   ]
  },
  {
   "cell_type": "markdown",
   "id": "87ffed4b",
   "metadata": {},
   "source": [
    "#### 3.2.3 Data visualization for Music Activity per day"
   ]
  },
  {
   "cell_type": "code",
   "execution_count": 62,
   "id": "223fcda1",
   "metadata": {},
   "outputs": [
    {
     "data": {
      "image/png": "[encoded data removed]",
      "text/plain": [
       "<Figure size 1500x700 with 1 Axes>"
      ]
     },
     "metadata": {},
     "output_type": "display_data"
    }
   ],
   "source": [
    "# Music Activity per Day: Total Plays, Unique Tracks, and Unique Listeners\n",
    "plot_grouped_bars_indx(df_music_activity_day, index_name='day', title='Music Activity per Day', ylabel='Activity Count')"
   ]
  },
  {
   "cell_type": "markdown",
   "id": "81da6f51",
   "metadata": {},
   "source": [
    "#### 3.2.4 Data visualization for Music Activity per City and Day"
   ]
  },
  {
   "cell_type": "code",
   "execution_count": 63,
   "id": "a49214fe",
   "metadata": {},
   "outputs": [
    {
     "data": {
      "application/vnd.microsoft.datawrangler.viewer.v0+json": {
       "columns": [
        {
         "name": "('city', 'day')",
         "rawType": "object",
         "type": "unknown"
        },
        {
         "name": "total_tracks",
         "rawType": "int64",
         "type": "integer"
        },
        {
         "name": "tracks",
         "rawType": "int64",
         "type": "integer"
        },
        {
         "name": "users",
         "rawType": "int64",
         "type": "integer"
        }
       ],
       "ref": "b66961cb-d568-493a-8672-e942393ece43",
       "rows": [
        [
         "('shelbyville', 'friday')",
         "5786",
         "5208",
         "4447"
        ],
        [
         "('shelbyville', 'monday')",
         "5462",
         "4896",
         "4186"
        ],
        [
         "('shelbyville', 'wednesday')",
         "6870",
         "6055",
         "5177"
        ],
        [
         "('springfield', 'friday')",
         "15689",
         "12908",
         "12030"
        ],
        [
         "('springfield', 'monday')",
         "15337",
         "12593",
         "11747"
        ],
        [
         "('springfield', 'wednesday')",
         "10847",
         "9236",
         "8314"
        ]
       ],
       "shape": {
        "columns": 3,
        "rows": 6
       }
      },
      "text/html": [
       "<div>\n",
       "<style scoped>\n",
       "    .dataframe tbody tr th:only-of-type {\n",
       "        vertical-align: middle;\n",
       "    }\n",
       "\n",
       "    .dataframe tbody tr th {\n",
       "        vertical-align: top;\n",
       "    }\n",
       "\n",
       "    .dataframe thead th {\n",
       "        text-align: right;\n",
       "    }\n",
       "</style>\n",
       "<table border=\"1\" class=\"dataframe\">\n",
       "  <thead>\n",
       "    <tr style=\"text-align: right;\">\n",
       "      <th></th>\n",
       "      <th></th>\n",
       "      <th>total_tracks</th>\n",
       "      <th>tracks</th>\n",
       "      <th>users</th>\n",
       "    </tr>\n",
       "    <tr>\n",
       "      <th>city</th>\n",
       "      <th>day</th>\n",
       "      <th></th>\n",
       "      <th></th>\n",
       "      <th></th>\n",
       "    </tr>\n",
       "  </thead>\n",
       "  <tbody>\n",
       "    <tr>\n",
       "      <th rowspan=\"3\" valign=\"top\">shelbyville</th>\n",
       "      <th>friday</th>\n",
       "      <td>5786</td>\n",
       "      <td>5208</td>\n",
       "      <td>4447</td>\n",
       "    </tr>\n",
       "    <tr>\n",
       "      <th>monday</th>\n",
       "      <td>5462</td>\n",
       "      <td>4896</td>\n",
       "      <td>4186</td>\n",
       "    </tr>\n",
       "    <tr>\n",
       "      <th>wednesday</th>\n",
       "      <td>6870</td>\n",
       "      <td>6055</td>\n",
       "      <td>5177</td>\n",
       "    </tr>\n",
       "    <tr>\n",
       "      <th rowspan=\"3\" valign=\"top\">springfield</th>\n",
       "      <th>friday</th>\n",
       "      <td>15689</td>\n",
       "      <td>12908</td>\n",
       "      <td>12030</td>\n",
       "    </tr>\n",
       "    <tr>\n",
       "      <th>monday</th>\n",
       "      <td>15337</td>\n",
       "      <td>12593</td>\n",
       "      <td>11747</td>\n",
       "    </tr>\n",
       "    <tr>\n",
       "      <th>wednesday</th>\n",
       "      <td>10847</td>\n",
       "      <td>9236</td>\n",
       "      <td>8314</td>\n",
       "    </tr>\n",
       "  </tbody>\n",
       "</table>\n",
       "</div>"
      ],
      "text/plain": [
       "                       total_tracks  tracks  users\n",
       "city        day                                   \n",
       "shelbyville friday             5786    5208   4447\n",
       "            monday             5462    4896   4186\n",
       "            wednesday          6870    6055   5177\n",
       "springfield friday            15689   12908  12030\n",
       "            monday            15337   12593  11747\n",
       "            wednesday         10847    9236   8314"
      ]
     },
     "execution_count": 63,
     "metadata": {},
     "output_type": "execute_result"
    }
   ],
   "source": [
    "df_music_activity_city_day = df_music_activity_city_day.set_index(['city', 'day'])\n",
    "df_music_activity_city_day"
   ]
  },
  {
   "cell_type": "code",
   "execution_count": 64,
   "id": "6247141b",
   "metadata": {},
   "outputs": [
    {
     "data": {
      "image/png": "[encoded data removed]",
      "text/plain": [
       "<Figure size 1500x700 with 1 Axes>"
      ]
     },
     "metadata": {},
     "output_type": "display_data"
    }
   ],
   "source": [
    "# Music Activity per City and Day: Total Plays, Unique Tracks, and Unique Listeners\n",
    "plot_grouped_bars(df_music_activity_city_day, title='Music Activity per City and Day', ylabel='Activity Count')"
   ]
  },
  {
   "cell_type": "markdown",
   "id": "568af391",
   "metadata": {},
   "source": [
    "#### 3.2.5 Data visualization for Music Activity per Time and City"
   ]
  },
  {
   "cell_type": "code",
   "execution_count": 65,
   "id": "9d04b2cb",
   "metadata": {},
   "outputs": [
    {
     "data": {
      "application/vnd.microsoft.datawrangler.viewer.v0+json": {
       "columns": [
        {
         "name": "('city', 'hour')",
         "rawType": "object",
         "type": "unknown"
        },
        {
         "name": "total_tracks",
         "rawType": "int64",
         "type": "integer"
        },
        {
         "name": "tracks",
         "rawType": "int64",
         "type": "integer"
        },
        {
         "name": "users",
         "rawType": "int64",
         "type": "integer"
        }
       ],
       "ref": "87909359-ad8f-47b1-a5b9-0669625287d2",
       "rows": [
        [
         "('shelbyville', np.int64(8))",
         "2553",
         "2335",
         "2030"
        ],
        [
         "('shelbyville', np.int64(9))",
         "2661",
         "2435",
         "2111"
        ],
        [
         "('shelbyville', np.int64(10))",
         "41",
         "41",
         "41"
        ],
        [
         "('shelbyville', np.int64(13))",
         "3120",
         "2912",
         "2522"
        ],
        [
         "('shelbyville', np.int64(14))",
         "3341",
         "3066",
         "2706"
        ],
        [
         "('shelbyville', np.int64(15))",
         "48",
         "48",
         "47"
        ],
        [
         "('shelbyville', np.int64(20))",
         "3223",
         "2996",
         "2576"
        ],
        [
         "('shelbyville', np.int64(21))",
         "3074",
         "2848",
         "2402"
        ],
        [
         "('shelbyville', np.int64(22))",
         "57",
         "57",
         "56"
        ],
        [
         "('springfield', np.int64(8))",
         "6690",
         "5718",
         "5264"
        ],
        [
         "('springfield', np.int64(9))",
         "6642",
         "5779",
         "5384"
        ],
        [
         "('springfield', np.int64(10))",
         "122",
         "122",
         "120"
        ],
        [
         "('springfield', np.int64(13))",
         "6981",
         "6181",
         "5640"
        ],
        [
         "('springfield', np.int64(14))",
         "7194",
         "6308",
         "5853"
        ],
        [
         "('springfield', np.int64(15))",
         "126",
         "126",
         "119"
        ],
        [
         "('springfield', np.int64(20))",
         "7394",
         "6466",
         "5848"
        ],
        [
         "('springfield', np.int64(21))",
         "6612",
         "5760",
         "5177"
        ],
        [
         "('springfield', np.int64(22))",
         "112",
         "111",
         "104"
        ]
       ],
       "shape": {
        "columns": 3,
        "rows": 18
       }
      },
      "text/html": [
       "<div>\n",
       "<style scoped>\n",
       "    .dataframe tbody tr th:only-of-type {\n",
       "        vertical-align: middle;\n",
       "    }\n",
       "\n",
       "    .dataframe tbody tr th {\n",
       "        vertical-align: top;\n",
       "    }\n",
       "\n",
       "    .dataframe thead th {\n",
       "        text-align: right;\n",
       "    }\n",
       "</style>\n",
       "<table border=\"1\" class=\"dataframe\">\n",
       "  <thead>\n",
       "    <tr style=\"text-align: right;\">\n",
       "      <th></th>\n",
       "      <th></th>\n",
       "      <th>total_tracks</th>\n",
       "      <th>tracks</th>\n",
       "      <th>users</th>\n",
       "    </tr>\n",
       "    <tr>\n",
       "      <th>city</th>\n",
       "      <th>hour</th>\n",
       "      <th></th>\n",
       "      <th></th>\n",
       "      <th></th>\n",
       "    </tr>\n",
       "  </thead>\n",
       "  <tbody>\n",
       "    <tr>\n",
       "      <th rowspan=\"9\" valign=\"top\">shelbyville</th>\n",
       "      <th>8</th>\n",
       "      <td>2553</td>\n",
       "      <td>2335</td>\n",
       "      <td>2030</td>\n",
       "    </tr>\n",
       "    <tr>\n",
       "      <th>9</th>\n",
       "      <td>2661</td>\n",
       "      <td>2435</td>\n",
       "      <td>2111</td>\n",
       "    </tr>\n",
       "    <tr>\n",
       "      <th>10</th>\n",
       "      <td>41</td>\n",
       "      <td>41</td>\n",
       "      <td>41</td>\n",
       "    </tr>\n",
       "    <tr>\n",
       "      <th>13</th>\n",
       "      <td>3120</td>\n",
       "      <td>2912</td>\n",
       "      <td>2522</td>\n",
       "    </tr>\n",
       "    <tr>\n",
       "      <th>14</th>\n",
       "      <td>3341</td>\n",
       "      <td>3066</td>\n",
       "      <td>2706</td>\n",
       "    </tr>\n",
       "    <tr>\n",
       "      <th>15</th>\n",
       "      <td>48</td>\n",
       "      <td>48</td>\n",
       "      <td>47</td>\n",
       "    </tr>\n",
       "    <tr>\n",
       "      <th>20</th>\n",
       "      <td>3223</td>\n",
       "      <td>2996</td>\n",
       "      <td>2576</td>\n",
       "    </tr>\n",
       "    <tr>\n",
       "      <th>21</th>\n",
       "      <td>3074</td>\n",
       "      <td>2848</td>\n",
       "      <td>2402</td>\n",
       "    </tr>\n",
       "    <tr>\n",
       "      <th>22</th>\n",
       "      <td>57</td>\n",
       "      <td>57</td>\n",
       "      <td>56</td>\n",
       "    </tr>\n",
       "    <tr>\n",
       "      <th rowspan=\"9\" valign=\"top\">springfield</th>\n",
       "      <th>8</th>\n",
       "      <td>6690</td>\n",
       "      <td>5718</td>\n",
       "      <td>5264</td>\n",
       "    </tr>\n",
       "    <tr>\n",
       "      <th>9</th>\n",
       "      <td>6642</td>\n",
       "      <td>5779</td>\n",
       "      <td>5384</td>\n",
       "    </tr>\n",
       "    <tr>\n",
       "      <th>10</th>\n",
       "      <td>122</td>\n",
       "      <td>122</td>\n",
       "      <td>120</td>\n",
       "    </tr>\n",
       "    <tr>\n",
       "      <th>13</th>\n",
       "      <td>6981</td>\n",
       "      <td>6181</td>\n",
       "      <td>5640</td>\n",
       "    </tr>\n",
       "    <tr>\n",
       "      <th>14</th>\n",
       "      <td>7194</td>\n",
       "      <td>6308</td>\n",
       "      <td>5853</td>\n",
       "    </tr>\n",
       "    <tr>\n",
       "      <th>15</th>\n",
       "      <td>126</td>\n",
       "      <td>126</td>\n",
       "      <td>119</td>\n",
       "    </tr>\n",
       "    <tr>\n",
       "      <th>20</th>\n",
       "      <td>7394</td>\n",
       "      <td>6466</td>\n",
       "      <td>5848</td>\n",
       "    </tr>\n",
       "    <tr>\n",
       "      <th>21</th>\n",
       "      <td>6612</td>\n",
       "      <td>5760</td>\n",
       "      <td>5177</td>\n",
       "    </tr>\n",
       "    <tr>\n",
       "      <th>22</th>\n",
       "      <td>112</td>\n",
       "      <td>111</td>\n",
       "      <td>104</td>\n",
       "    </tr>\n",
       "  </tbody>\n",
       "</table>\n",
       "</div>"
      ],
      "text/plain": [
       "                  total_tracks  tracks  users\n",
       "city        hour                             \n",
       "shelbyville 8             2553    2335   2030\n",
       "            9             2661    2435   2111\n",
       "            10              41      41     41\n",
       "            13            3120    2912   2522\n",
       "            14            3341    3066   2706\n",
       "            15              48      48     47\n",
       "            20            3223    2996   2576\n",
       "            21            3074    2848   2402\n",
       "            22              57      57     56\n",
       "springfield 8             6690    5718   5264\n",
       "            9             6642    5779   5384\n",
       "            10             122     122    120\n",
       "            13            6981    6181   5640\n",
       "            14            7194    6308   5853\n",
       "            15             126     126    119\n",
       "            20            7394    6466   5848\n",
       "            21            6612    5760   5177\n",
       "            22             112     111    104"
      ]
     },
     "execution_count": 65,
     "metadata": {},
     "output_type": "execute_result"
    }
   ],
   "source": [
    "df_music_activity_time_city = df_music_activity_time_city.set_index(['city', 'hour'])\n",
    "df_music_activity_time_city"
   ]
  },
  {
   "cell_type": "code",
   "execution_count": 66,
   "id": "5baa0015",
   "metadata": {},
   "outputs": [
    {
     "data": {
      "image/png": "[encoded data removed]",
      "text/plain": [
       "<Figure size 1500x700 with 1 Axes>"
      ]
     },
     "metadata": {},
     "output_type": "display_data"
    }
   ],
   "source": [
    "# Music Activity per Time and City: Total Plays, Unique Tracks, and Unique Listeners\n",
    "plot_grouped_bars(df_music_activity_time_city, title='Music Activity per Time and City', ylabel='Activity Count', x_rotation=75)"
   ]
  },
  {
   "cell_type": "markdown",
   "id": "4a62ce51",
   "metadata": {},
   "source": [
    "#### 3.2.6 Data visualization for Music Activity per Time and Day"
   ]
  },
  {
   "cell_type": "code",
   "execution_count": 67,
   "id": "0b66cc30",
   "metadata": {},
   "outputs": [
    {
     "data": {
      "application/vnd.microsoft.datawrangler.viewer.v0+json": {
       "columns": [
        {
         "name": "('day', 'hour')",
         "rawType": "object",
         "type": "unknown"
        },
        {
         "name": "total_tracks",
         "rawType": "int64",
         "type": "integer"
        },
        {
         "name": "tracks",
         "rawType": "int64",
         "type": "integer"
        },
        {
         "name": "users",
         "rawType": "int64",
         "type": "integer"
        }
       ],
       "ref": "41d79458-a180-4b23-9ad1-a43a1cc2faf8",
       "rows": [
        [
         "('friday', np.int64(8))",
         "3508",
         "3170",
         "2886"
        ],
        [
         "('friday', np.int64(9))",
         "3523",
         "3230",
         "2947"
        ],
        [
         "('friday', np.int64(10))",
         "70",
         "70",
         "70"
        ],
        [
         "('friday', np.int64(13))",
         "3456",
         "3212",
         "2943"
        ],
        [
         "('friday', np.int64(14))",
         "3639",
         "3333",
         "3077"
        ],
        [
         "('friday', np.int64(15))",
         "64",
         "64",
         "61"
        ],
        [
         "('friday', np.int64(20))",
         "3701",
         "3394",
         "3042"
        ],
        [
         "('friday', np.int64(21))",
         "3451",
         "3161",
         "2796"
        ],
        [
         "('friday', np.int64(22))",
         "63",
         "63",
         "57"
        ],
        [
         "('monday', np.int64(8))",
         "3326",
         "3000",
         "2810"
        ],
        [
         "('monday', np.int64(9))",
         "3275",
         "2988",
         "2779"
        ],
        [
         "('monday', np.int64(10))",
         "50",
         "50",
         "49"
        ],
        [
         "('monday', np.int64(13))",
         "3431",
         "3210",
         "2845"
        ],
        [
         "('monday', np.int64(14))",
         "3605",
         "3276",
         "3004"
        ],
        [
         "('monday', np.int64(15))",
         "61",
         "61",
         "58"
        ],
        [
         "('monday', np.int64(20))",
         "3698",
         "3406",
         "3016"
        ],
        [
         "('monday', np.int64(21))",
         "3293",
         "3025",
         "2664"
        ],
        [
         "('monday', np.int64(22))",
         "60",
         "59",
         "57"
        ],
        [
         "('wednesday', np.int64(8))",
         "2409",
         "2242",
         "2022"
        ],
        [
         "('wednesday', np.int64(9))",
         "2505",
         "2312",
         "2110"
        ],
        [
         "('wednesday', np.int64(10))",
         "43",
         "43",
         "42"
        ],
        [
         "('wednesday', np.int64(13))",
         "3214",
         "2998",
         "2649"
        ],
        [
         "('wednesday', np.int64(14))",
         "3291",
         "3045",
         "2789"
        ],
        [
         "('wednesday', np.int64(15))",
         "49",
         "49",
         "49"
        ],
        [
         "('wednesday', np.int64(20))",
         "3218",
         "2989",
         "2649"
        ],
        [
         "('wednesday', np.int64(21))",
         "2942",
         "2711",
         "2346"
        ],
        [
         "('wednesday', np.int64(22))",
         "46",
         "46",
         "46"
        ]
       ],
       "shape": {
        "columns": 3,
        "rows": 27
       }
      },
      "text/html": [
       "<div>\n",
       "<style scoped>\n",
       "    .dataframe tbody tr th:only-of-type {\n",
       "        vertical-align: middle;\n",
       "    }\n",
       "\n",
       "    .dataframe tbody tr th {\n",
       "        vertical-align: top;\n",
       "    }\n",
       "\n",
       "    .dataframe thead th {\n",
       "        text-align: right;\n",
       "    }\n",
       "</style>\n",
       "<table border=\"1\" class=\"dataframe\">\n",
       "  <thead>\n",
       "    <tr style=\"text-align: right;\">\n",
       "      <th></th>\n",
       "      <th></th>\n",
       "      <th>total_tracks</th>\n",
       "      <th>tracks</th>\n",
       "      <th>users</th>\n",
       "    </tr>\n",
       "    <tr>\n",
       "      <th>day</th>\n",
       "      <th>hour</th>\n",
       "      <th></th>\n",
       "      <th></th>\n",
       "      <th></th>\n",
       "    </tr>\n",
       "  </thead>\n",
       "  <tbody>\n",
       "    <tr>\n",
       "      <th rowspan=\"5\" valign=\"top\">friday</th>\n",
       "      <th>8</th>\n",
       "      <td>3508</td>\n",
       "      <td>3170</td>\n",
       "      <td>2886</td>\n",
       "    </tr>\n",
       "    <tr>\n",
       "      <th>9</th>\n",
       "      <td>3523</td>\n",
       "      <td>3230</td>\n",
       "      <td>2947</td>\n",
       "    </tr>\n",
       "    <tr>\n",
       "      <th>10</th>\n",
       "      <td>70</td>\n",
       "      <td>70</td>\n",
       "      <td>70</td>\n",
       "    </tr>\n",
       "    <tr>\n",
       "      <th>13</th>\n",
       "      <td>3456</td>\n",
       "      <td>3212</td>\n",
       "      <td>2943</td>\n",
       "    </tr>\n",
       "    <tr>\n",
       "      <th>14</th>\n",
       "      <td>3639</td>\n",
       "      <td>3333</td>\n",
       "      <td>3077</td>\n",
       "    </tr>\n",
       "    <tr>\n",
       "      <th>...</th>\n",
       "      <th>...</th>\n",
       "      <td>...</td>\n",
       "      <td>...</td>\n",
       "      <td>...</td>\n",
       "    </tr>\n",
       "    <tr>\n",
       "      <th rowspan=\"5\" valign=\"top\">wednesday</th>\n",
       "      <th>14</th>\n",
       "      <td>3291</td>\n",
       "      <td>3045</td>\n",
       "      <td>2789</td>\n",
       "    </tr>\n",
       "    <tr>\n",
       "      <th>15</th>\n",
       "      <td>49</td>\n",
       "      <td>49</td>\n",
       "      <td>49</td>\n",
       "    </tr>\n",
       "    <tr>\n",
       "      <th>20</th>\n",
       "      <td>3218</td>\n",
       "      <td>2989</td>\n",
       "      <td>2649</td>\n",
       "    </tr>\n",
       "    <tr>\n",
       "      <th>21</th>\n",
       "      <td>2942</td>\n",
       "      <td>2711</td>\n",
       "      <td>2346</td>\n",
       "    </tr>\n",
       "    <tr>\n",
       "      <th>22</th>\n",
       "      <td>46</td>\n",
       "      <td>46</td>\n",
       "      <td>46</td>\n",
       "    </tr>\n",
       "  </tbody>\n",
       "</table>\n",
       "<p>27 rows × 3 columns</p>\n",
       "</div>"
      ],
      "text/plain": [
       "                total_tracks  tracks  users\n",
       "day       hour                             \n",
       "friday    8             3508    3170   2886\n",
       "          9             3523    3230   2947\n",
       "          10              70      70     70\n",
       "          13            3456    3212   2943\n",
       "          14            3639    3333   3077\n",
       "...                      ...     ...    ...\n",
       "wednesday 14            3291    3045   2789\n",
       "          15              49      49     49\n",
       "          20            3218    2989   2649\n",
       "          21            2942    2711   2346\n",
       "          22              46      46     46\n",
       "\n",
       "[27 rows x 3 columns]"
      ]
     },
     "execution_count": 67,
     "metadata": {},
     "output_type": "execute_result"
    }
   ],
   "source": [
    "df_music_activity_time_day = df_music_activity_time_day.set_index(['day', 'hour'])\n",
    "df_music_activity_time_day"
   ]
  },
  {
   "cell_type": "code",
   "execution_count": 68,
   "id": "a6ade182",
   "metadata": {},
   "outputs": [
    {
     "data": {
      "image/png": "[encoded data removed]",
      "text/plain": [
       "<Figure size 1500x700 with 1 Axes>"
      ]
     },
     "metadata": {},
     "output_type": "display_data"
    }
   ],
   "source": [
    "# Music Activity per Time and Day: Total Plays, Unique Tracks, and Unique Listeners\n",
    "plot_grouped_bars(df_music_activity_time_day, title='Music Activity per Time and Day', ylabel='Activity Count', x_rotation=75)"
   ]
  },
  {
   "cell_type": "markdown",
   "id": "53926ce8",
   "metadata": {},
   "source": [
    "#### 3.2.7 Data visualization for Music Activity per Time, City and Day"
   ]
  },
  {
   "cell_type": "code",
   "execution_count": 69,
   "id": "5eba97de",
   "metadata": {},
   "outputs": [
    {
     "data": {
      "application/vnd.microsoft.datawrangler.viewer.v0+json": {
       "columns": [
        {
         "name": "('city', 'day', 'hour')",
         "rawType": "object",
         "type": "unknown"
        },
        {
         "name": "total_tracks",
         "rawType": "int64",
         "type": "integer"
        },
        {
         "name": "tracks",
         "rawType": "int64",
         "type": "integer"
        },
        {
         "name": "users",
         "rawType": "int64",
         "type": "integer"
        }
       ],
       "ref": "b78839ec-f385-4597-b4e6-cfa41d35a302",
       "rows": [
        [
         "('shelbyville', 'friday', np.int64(8))",
         "832",
         "809",
         "689"
        ],
        [
         "('shelbyville', 'friday', np.int64(9))",
         "848",
         "823",
         "730"
        ],
        [
         "('shelbyville', 'friday', np.int64(10))",
         "18",
         "18",
         "18"
        ],
        [
         "('shelbyville', 'friday', np.int64(13))",
         "1020",
         "987",
         "853"
        ],
        [
         "('shelbyville', 'friday', np.int64(14))",
         "1033",
         "990",
         "871"
        ],
        [
         "('shelbyville', 'friday', np.int64(15))",
         "16",
         "16",
         "16"
        ],
        [
         "('shelbyville', 'friday', np.int64(20))",
         "1002",
         "974",
         "839"
        ],
        [
         "('shelbyville', 'friday', np.int64(21))",
         "1000",
         "964",
         "806"
        ],
        [
         "('shelbyville', 'friday', np.int64(22))",
         "17",
         "17",
         "17"
        ],
        [
         "('shelbyville', 'monday', np.int64(8))",
         "750",
         "717",
         "644"
        ],
        [
         "('shelbyville', 'monday', np.int64(9))",
         "800",
         "762",
         "655"
        ],
        [
         "('shelbyville', 'monday', np.int64(10))",
         "10",
         "10",
         "10"
        ],
        [
         "('shelbyville', 'monday', np.int64(13))",
         "911",
         "886",
         "770"
        ],
        [
         "('shelbyville', 'monday', np.int64(14))",
         "1036",
         "985",
         "867"
        ],
        [
         "('shelbyville', 'monday', np.int64(15))",
         "21",
         "21",
         "20"
        ],
        [
         "('shelbyville', 'monday', np.int64(20))",
         "990",
         "966",
         "827"
        ],
        [
         "('shelbyville', 'monday', np.int64(21))",
         "926",
         "897",
         "768"
        ],
        [
         "('shelbyville', 'monday', np.int64(22))",
         "18",
         "18",
         "17"
        ],
        [
         "('shelbyville', 'wednesday', np.int64(8))",
         "971",
         "929",
         "816"
        ],
        [
         "('shelbyville', 'wednesday', np.int64(9))",
         "1013",
         "969",
         "838"
        ],
        [
         "('shelbyville', 'wednesday', np.int64(10))",
         "13",
         "13",
         "13"
        ],
        [
         "('shelbyville', 'wednesday', np.int64(13))",
         "1189",
         "1148",
         "986"
        ],
        [
         "('shelbyville', 'wednesday', np.int64(14))",
         "1272",
         "1220",
         "1074"
        ],
        [
         "('shelbyville', 'wednesday', np.int64(15))",
         "11",
         "11",
         "11"
        ],
        [
         "('shelbyville', 'wednesday', np.int64(20))",
         "1231",
         "1185",
         "1007"
        ],
        [
         "('shelbyville', 'wednesday', np.int64(21))",
         "1148",
         "1106",
         "920"
        ],
        [
         "('shelbyville', 'wednesday', np.int64(22))",
         "22",
         "22",
         "22"
        ],
        [
         "('springfield', 'friday', np.int64(8))",
         "2676",
         "2429",
         "2197"
        ],
        [
         "('springfield', 'friday', np.int64(9))",
         "2675",
         "2469",
         "2217"
        ],
        [
         "('springfield', 'friday', np.int64(10))",
         "52",
         "52",
         "52"
        ],
        [
         "('springfield', 'friday', np.int64(13))",
         "2436",
         "2290",
         "2090"
        ],
        [
         "('springfield', 'friday', np.int64(14))",
         "2606",
         "2442",
         "2206"
        ],
        [
         "('springfield', 'friday', np.int64(15))",
         "48",
         "48",
         "45"
        ],
        [
         "('springfield', 'friday', np.int64(20))",
         "2699",
         "2502",
         "2203"
        ],
        [
         "('springfield', 'friday', np.int64(21))",
         "2451",
         "2276",
         "1990"
        ],
        [
         "('springfield', 'friday', np.int64(22))",
         "46",
         "46",
         "40"
        ],
        [
         "('springfield', 'monday', np.int64(8))",
         "2576",
         "2360",
         "2166"
        ],
        [
         "('springfield', 'monday', np.int64(9))",
         "2475",
         "2291",
         "2124"
        ],
        [
         "('springfield', 'monday', np.int64(10))",
         "40",
         "40",
         "39"
        ],
        [
         "('springfield', 'monday', np.int64(13))",
         "2520",
         "2372",
         "2075"
        ],
        [
         "('springfield', 'monday', np.int64(14))",
         "2569",
         "2392",
         "2137"
        ],
        [
         "('springfield', 'monday', np.int64(15))",
         "40",
         "40",
         "38"
        ],
        [
         "('springfield', 'monday', np.int64(20))",
         "2708",
         "2521",
         "2189"
        ],
        [
         "('springfield', 'monday', np.int64(21))",
         "2367",
         "2208",
         "1896"
        ],
        [
         "('springfield', 'monday', np.int64(22))",
         "42",
         "41",
         "40"
        ],
        [
         "('springfield', 'wednesday', np.int64(8))",
         "1438",
         "1372",
         "1206"
        ],
        [
         "('springfield', 'wednesday', np.int64(9))",
         "1492",
         "1407",
         "1272"
        ],
        [
         "('springfield', 'wednesday', np.int64(10))",
         "30",
         "30",
         "29"
        ],
        [
         "('springfield', 'wednesday', np.int64(13))",
         "2025",
         "1929",
         "1663"
        ],
        [
         "('springfield', 'wednesday', np.int64(14))",
         "2019",
         "1903",
         "1715"
        ]
       ],
       "shape": {
        "columns": 3,
        "rows": 54
       }
      },
      "text/html": [
       "<div>\n",
       "<style scoped>\n",
       "    .dataframe tbody tr th:only-of-type {\n",
       "        vertical-align: middle;\n",
       "    }\n",
       "\n",
       "    .dataframe tbody tr th {\n",
       "        vertical-align: top;\n",
       "    }\n",
       "\n",
       "    .dataframe thead th {\n",
       "        text-align: right;\n",
       "    }\n",
       "</style>\n",
       "<table border=\"1\" class=\"dataframe\">\n",
       "  <thead>\n",
       "    <tr style=\"text-align: right;\">\n",
       "      <th></th>\n",
       "      <th></th>\n",
       "      <th></th>\n",
       "      <th>total_tracks</th>\n",
       "      <th>tracks</th>\n",
       "      <th>users</th>\n",
       "    </tr>\n",
       "    <tr>\n",
       "      <th>city</th>\n",
       "      <th>day</th>\n",
       "      <th>hour</th>\n",
       "      <th></th>\n",
       "      <th></th>\n",
       "      <th></th>\n",
       "    </tr>\n",
       "  </thead>\n",
       "  <tbody>\n",
       "    <tr>\n",
       "      <th rowspan=\"5\" valign=\"top\">shelbyville</th>\n",
       "      <th rowspan=\"5\" valign=\"top\">friday</th>\n",
       "      <th>8</th>\n",
       "      <td>832</td>\n",
       "      <td>809</td>\n",
       "      <td>689</td>\n",
       "    </tr>\n",
       "    <tr>\n",
       "      <th>9</th>\n",
       "      <td>848</td>\n",
       "      <td>823</td>\n",
       "      <td>730</td>\n",
       "    </tr>\n",
       "    <tr>\n",
       "      <th>10</th>\n",
       "      <td>18</td>\n",
       "      <td>18</td>\n",
       "      <td>18</td>\n",
       "    </tr>\n",
       "    <tr>\n",
       "      <th>13</th>\n",
       "      <td>1020</td>\n",
       "      <td>987</td>\n",
       "      <td>853</td>\n",
       "    </tr>\n",
       "    <tr>\n",
       "      <th>14</th>\n",
       "      <td>1033</td>\n",
       "      <td>990</td>\n",
       "      <td>871</td>\n",
       "    </tr>\n",
       "    <tr>\n",
       "      <th>...</th>\n",
       "      <th>...</th>\n",
       "      <th>...</th>\n",
       "      <td>...</td>\n",
       "      <td>...</td>\n",
       "      <td>...</td>\n",
       "    </tr>\n",
       "    <tr>\n",
       "      <th rowspan=\"5\" valign=\"top\">springfield</th>\n",
       "      <th rowspan=\"5\" valign=\"top\">wednesday</th>\n",
       "      <th>14</th>\n",
       "      <td>2019</td>\n",
       "      <td>1903</td>\n",
       "      <td>1715</td>\n",
       "    </tr>\n",
       "    <tr>\n",
       "      <th>15</th>\n",
       "      <td>38</td>\n",
       "      <td>38</td>\n",
       "      <td>38</td>\n",
       "    </tr>\n",
       "    <tr>\n",
       "      <th>20</th>\n",
       "      <td>1987</td>\n",
       "      <td>1885</td>\n",
       "      <td>1642</td>\n",
       "    </tr>\n",
       "    <tr>\n",
       "      <th>21</th>\n",
       "      <td>1794</td>\n",
       "      <td>1676</td>\n",
       "      <td>1426</td>\n",
       "    </tr>\n",
       "    <tr>\n",
       "      <th>22</th>\n",
       "      <td>24</td>\n",
       "      <td>24</td>\n",
       "      <td>24</td>\n",
       "    </tr>\n",
       "  </tbody>\n",
       "</table>\n",
       "<p>54 rows × 3 columns</p>\n",
       "</div>"
      ],
      "text/plain": [
       "                            total_tracks  tracks  users\n",
       "city        day       hour                             \n",
       "shelbyville friday    8              832     809    689\n",
       "                      9              848     823    730\n",
       "                      10              18      18     18\n",
       "                      13            1020     987    853\n",
       "                      14            1033     990    871\n",
       "...                                  ...     ...    ...\n",
       "springfield wednesday 14            2019    1903   1715\n",
       "                      15              38      38     38\n",
       "                      20            1987    1885   1642\n",
       "                      21            1794    1676   1426\n",
       "                      22              24      24     24\n",
       "\n",
       "[54 rows x 3 columns]"
      ]
     },
     "execution_count": 69,
     "metadata": {},
     "output_type": "execute_result"
    }
   ],
   "source": [
    "df_music_activity_time_city_day = df_music_activity_time_city_day.set_index(['city','day', 'hour'])\n",
    "df_music_activity_time_city_day"
   ]
  },
  {
   "cell_type": "code",
   "execution_count": 70,
   "id": "dbc7912f",
   "metadata": {},
   "outputs": [
    {
     "data": {
      "image/png": "[encoded data removed]",
      "text/plain": [
       "<Figure size 1500x700 with 1 Axes>"
      ]
     },
     "metadata": {},
     "output_type": "display_data"
    }
   ],
   "source": [
    "# Music Activity per Time , City and Day: Total Plays, Unique Tracks, and Unique Listeners\n",
    "plot_grouped_bars(df_music_activity_time_city_day, title='Music Activity per Time, City and Day', ylabel='Activity Count', x_rotation=90)"
   ]
  },
  {
   "cell_type": "markdown",
   "id": "9e82ace3",
   "metadata": {},
   "source": [
    "## 4. Conclusions and key insights"
   ]
  },
  {
   "cell_type": "markdown",
   "id": "3ae4b02d",
   "metadata": {},
   "source": [
    "This exploratory data analysis reveals several important insights into music activity across cities, days, and time periods:\n",
    "\n",
    "### 🎯 Key Findings\n",
    "\n",
    "- **User and Track Behavior Are Closely Correlated**:  \n",
    "  Correlation analysis shows a strong linear relationship between the number of users and total tracks played, indicating usage intensity is fairly consistent across the user base.\n",
    "\n",
    "- **High Variability Across Cities and Days**:  \n",
    "  Coefficient of Variation (CV) highlights notable variability in activity patterns. Some cities show low variation, while others have high spikes or drops, suggesting possible influence of local trends or events.\n",
    "\n",
    "- **Time of Day Impacts Engagement**:  \n",
    "  Activity trends differ by time blocks, with clear peak hours visible in multiple visualizations. These can be valuable for targeting content or platform optimizations.\n",
    "\n",
    "- **No Strong Outliers Detected**:  \n",
    "  Most activity values fall within acceptable IQR thresholds. Where variation exists, it’s typically moderate and context-driven.\n",
    "\n",
    "### 🧠 Conclusion: User Activity Patterns by Day and City\n",
    "\n",
    "Analysis of user engagement across different cities and weekdays reveals clear behavioral differences. \n",
    "\n",
    "- Some cities show consistent activity throughout the week, while others experience significant peaks or drops on specific days.\n",
    "- For example, **Springfield** exhibits higher activity on Fridays, suggesting end-of-week engagement, while **Shelbyville** remains more stable across weekdays.\n",
    "- These trends may reflect local habits, promotional schedules, or platform usage preferences.\n"
   ]
  }
 ],
 "metadata": {
  "kernelspec": {
   "display_name": "Win11_Python-Mature-PipVenv-Github-3.10",
   "language": "python",
   "name": "python3"
  },
  "language_info": {
   "codemirror_mode": {
    "name": "ipython",
    "version": 3
   },
   "file_extension": ".py",
   "mimetype": "text/x-python",
   "name": "python",
   "nbconvert_exporter": "python",
   "pygments_lexer": "ipython3",
   "version": "3.10.0"
  }
 },
 "nbformat": 4,
 "nbformat_minor": 5
}
