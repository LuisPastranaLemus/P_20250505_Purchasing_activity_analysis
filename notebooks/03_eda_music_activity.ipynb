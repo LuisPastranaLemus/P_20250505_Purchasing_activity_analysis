{
 "cells": [
  {
   "cell_type": "markdown",
   "id": "a1013021",
   "metadata": {},
   "source": [
    "#### Feature Engineering  \n",
    "\n",
    "Dataset: \n",
    "\n",
    "- _orders_activity_day.csv_\n",
    "- _orders_activity_frequency.csv_\n",
    "- _orders_activity_time.csv_\n",
    "\n",
    "- _product_preference.csv_\n",
    "- _product_purchase_quantity.csv_\n",
    "- _produc_reorder_rate_by_position.csv_\n",
    "- _product_repurchase.csv_\n",
    "- _product_user_segment_repurchase_rate.csv_\n",
    "\n",
    "Author: Luis Sergio Pastrana Lemus  \n",
    "Date: 2025-05-05"
   ]
  },
  {
   "cell_type": "markdown",
   "id": "8f19462b",
   "metadata": {},
   "source": [
    "## __1. Libraries__"
   ]
  },
  {
   "cell_type": "code",
   "execution_count": 1,
   "id": "94199476",
   "metadata": {},
   "outputs": [],
   "source": [
    "from IPython.display import display, HTML\n",
    "import os\n",
    "import pandas as pd\n",
    "from pathlib import Path\n",
    "import sys\n",
    "\n",
    "# Define project root dynamically, gets the current directory from whick the notebook belongs and moves one level upper\n",
    "project_root = Path.cwd().parent\n",
    "\n",
    "# Add src to sys.path if it is not already\n",
    "if str(project_root) not in sys.path:\n",
    "    sys.path.append(str(project_root))\n",
    "\n",
    "# Import function directly (more controlled than import *)\n",
    "from src import *"
   ]
  },
  {
   "cell_type": "markdown",
   "id": "cf3f11d4",
   "metadata": {},
   "source": [
    "## __2. Path to Data file__"
   ]
  },
  {
   "cell_type": "code",
   "execution_count": 2,
   "id": "1767a2de",
   "metadata": {},
   "outputs": [],
   "source": [
    "# Build route to data file and upload\n",
    "data_file_path = project_root / \"data\" / \"processed\" / \"order_activity\"\n",
    "\n",
    "df_orders_activity_day = load_dataset_from_csv(data_file_path, \"orders_activity_day.csv\", sep=',', header='infer')\n",
    "df_orders_activity_frequency = load_dataset_from_csv(data_file_path, \"orders_activity_frequency.csv\", sep=',', header='infer')\n",
    "df_orders_activity_time = load_dataset_from_csv(data_file_path, \"orders_activity_time.csv\", sep=',', header='infer')\n",
    "\n",
    "data_file_path = project_root / \"data\" / \"processed\" / \"product_activity\"\n",
    "\n",
    "df_product_preference = load_dataset_from_csv(data_file_path, \"product_preference.csv\", sep=',', header='infer')\n",
    "df_product_purchase_quantity = load_dataset_from_csv(data_file_path, \"product_purchase_quantity.csv\", sep=',', header='infer')\n",
    "df_product_reorder_rate_by_position = load_dataset_from_csv(data_file_path, \"product_reorder_rate_by_position.csv\", sep=',', header='infer')\n",
    "df_product_repurchase = load_dataset_from_csv(data_file_path, \"product_repurchase.csv\", sep=',', header='infer')\n",
    "df_product_user_segment_repurchase_rate = load_dataset_from_csv(data_file_path, \"product_user_segment_repurchase_rate.csv\", sep=',', header='infer')\n"
   ]
  },
  {
   "cell_type": "markdown",
   "id": "da9ebca7",
   "metadata": {},
   "source": [
    "## __3. Exploratory Data Analysis__"
   ]
  },
  {
   "cell_type": "markdown",
   "id": "ccf94753",
   "metadata": {},
   "source": [
    "### 3.1  Descriptive Statistics"
   ]
  },
  {
   "cell_type": "markdown",
   "id": "14db2021",
   "metadata": {},
   "source": [
    "<table>\n",
    "  <thead>\n",
    "    <tr>\n",
    "      <th>CV (%)</th>\n",
    "      <th>Interpretation</th>\n",
    "    </tr>\n",
    "  </thead>\n",
    "  <tbody>\n",
    "    <tr>\n",
    "      <td><small><strong>0–10%</strong></small></td>\n",
    "      <td><small><strong>Very low</strong> variability → <strong>very reliable</strong> Mean</small></td>\n",
    "    </tr>\n",
    "    <tr>\n",
    "      <td><small><strong>10–20%</strong></small></td>\n",
    "      <td><small><strong>Moderate</strong> variability → <strong>reliable</strong> Mean</small></td>\n",
    "    </tr>\n",
    "    <tr>\n",
    "      <td><small><strong>20–30%</strong></small></td>\n",
    "      <td><small><strong>Considerable</strong> variability → <strong>some what skewed</strong> Mean</small></td>\n",
    "    </tr>\n",
    "    <tr>\n",
    "      <td><small><strong>>30%</strong></small></td>\n",
    "      <td><small>High<strong> variability</strong> → <strong>prefer</strong> Median</small></td>\n",
    "    </tr>\n",
    "  </tbody>\n",
    "</table>\n"
   ]
  },
  {
   "cell_type": "markdown",
   "id": "7716c535",
   "metadata": {},
   "source": [
    "#### 3.1.1 Descriptive statistics for Orders Activity per day"
   ]
  },
  {
   "cell_type": "code",
   "execution_count": 3,
   "id": "add13c8a",
   "metadata": {},
   "outputs": [
    {
     "data": {
      "application/vnd.microsoft.datawrangler.viewer.v0+json": {
       "columns": [
        {
         "name": "index",
         "rawType": "object",
         "type": "string"
        },
        {
         "name": "total_orders",
         "rawType": "float64",
         "type": "float"
        }
       ],
       "ref": "40d3af79-a87c-410a-a80e-0680b602f69b",
       "rows": [
        [
         "count",
         "7.0"
        ],
        [
         "mean",
         "68421.71428571429"
        ],
        [
         "std",
         "10247.547409246854"
        ],
        [
         "min",
         "59810.0"
        ],
        [
         "25%",
         "61773.0"
        ],
        [
         "50%",
         "63488.0"
        ],
        [
         "75%",
         "74009.0"
        ],
        [
         "max",
         "84090.0"
        ]
       ],
       "shape": {
        "columns": 1,
        "rows": 8
       }
      },
      "text/html": [
       "<div>\n",
       "<style scoped>\n",
       "    .dataframe tbody tr th:only-of-type {\n",
       "        vertical-align: middle;\n",
       "    }\n",
       "\n",
       "    .dataframe tbody tr th {\n",
       "        vertical-align: top;\n",
       "    }\n",
       "\n",
       "    .dataframe thead th {\n",
       "        text-align: right;\n",
       "    }\n",
       "</style>\n",
       "<table border=\"1\" class=\"dataframe\">\n",
       "  <thead>\n",
       "    <tr style=\"text-align: right;\">\n",
       "      <th></th>\n",
       "      <th>total_orders</th>\n",
       "    </tr>\n",
       "  </thead>\n",
       "  <tbody>\n",
       "    <tr>\n",
       "      <th>count</th>\n",
       "      <td>7.000000</td>\n",
       "    </tr>\n",
       "    <tr>\n",
       "      <th>mean</th>\n",
       "      <td>68421.714286</td>\n",
       "    </tr>\n",
       "    <tr>\n",
       "      <th>std</th>\n",
       "      <td>10247.547409</td>\n",
       "    </tr>\n",
       "    <tr>\n",
       "      <th>min</th>\n",
       "      <td>59810.000000</td>\n",
       "    </tr>\n",
       "    <tr>\n",
       "      <th>25%</th>\n",
       "      <td>61773.000000</td>\n",
       "    </tr>\n",
       "    <tr>\n",
       "      <th>50%</th>\n",
       "      <td>63488.000000</td>\n",
       "    </tr>\n",
       "    <tr>\n",
       "      <th>75%</th>\n",
       "      <td>74009.000000</td>\n",
       "    </tr>\n",
       "    <tr>\n",
       "      <th>max</th>\n",
       "      <td>84090.000000</td>\n",
       "    </tr>\n",
       "  </tbody>\n",
       "</table>\n",
       "</div>"
      ],
      "text/plain": [
       "       total_orders\n",
       "count      7.000000\n",
       "mean   68421.714286\n",
       "std    10247.547409\n",
       "min    59810.000000\n",
       "25%    61773.000000\n",
       "50%    63488.000000\n",
       "75%    74009.000000\n",
       "max    84090.000000"
      ]
     },
     "execution_count": 3,
     "metadata": {},
     "output_type": "execute_result"
    }
   ],
   "source": [
    "df_orders_activity_day.describe()"
   ]
  },
  {
   "cell_type": "code",
   "execution_count": 5,
   "id": "9c29769e",
   "metadata": {},
   "outputs": [
    {
     "data": {
      "text/html": [
       "> Coefficient of variation for column <i>'total_orders'</i>: <b>14.98 %</b>"
      ],
      "text/plain": [
       "<IPython.core.display.HTML object>"
      ]
     },
     "metadata": {},
     "output_type": "display_data"
    },
    {
     "data": {
      "text/html": [
       "> Moderate variability: <i>reasonably reliable mean</i>. Recommended central measure: <b>mean</b>."
      ],
      "text/plain": [
       "<IPython.core.display.HTML object>"
      ]
     },
     "metadata": {},
     "output_type": "display_data"
    },
    {
     "name": "stdout",
     "output_type": "stream",
     "text": [
      "\n"
     ]
    }
   ],
   "source": [
    "# Evaluate the coefficient of variation to select the proper measure of central tendency\n",
    "evaluate_central_trend(df_orders_activity_day, 'total_orders')"
   ]
  },
  {
   "cell_type": "code",
   "execution_count": 6,
   "id": "a969a213",
   "metadata": {},
   "outputs": [
    {
     "data": {
      "text/html": [
       "> Lower outlier threshold for column <i>'total_orders'</i>: <b>43419.0</b>"
      ],
      "text/plain": [
       "<IPython.core.display.HTML object>"
      ]
     },
     "metadata": {},
     "output_type": "display_data"
    },
    {
     "data": {
      "text/html": [
       "> Upper outlier threshold for column <i>'total_orders'</i>: <b>92363.0</b>"
      ],
      "text/plain": [
       "<IPython.core.display.HTML object>"
      ]
     },
     "metadata": {},
     "output_type": "display_data"
    },
    {
     "data": {
      "text/html": [
       "> No outliers found in column <i>'total_orders'</i>."
      ],
      "text/plain": [
       "<IPython.core.display.HTML object>"
      ]
     },
     "metadata": {},
     "output_type": "display_data"
    },
    {
     "data": {
      "text/plain": [
       "(Empty DataFrame\n",
       " Columns: [order_dow, total_orders]\n",
       " Index: [],\n",
       " Empty DataFrame\n",
       " Columns: [order_dow, total_orders]\n",
       " Index: [])"
      ]
     },
     "execution_count": 6,
     "metadata": {},
     "output_type": "execute_result"
    }
   ],
   "source": [
    "# Evaluate boundary thresholds and detect potential outliers\n",
    "outlier_limit_bounds(df_orders_activity_day, 'total_orders', bound='both')"
   ]
  },
  {
   "cell_type": "markdown",
   "id": "5b25eb55",
   "metadata": {},
   "source": [
    "#### 3.1.2 Descriptive statistics for Orders Activity per Time"
   ]
  },
  {
   "cell_type": "code",
   "execution_count": 7,
   "id": "742ec7d0",
   "metadata": {},
   "outputs": [
    {
     "data": {
      "application/vnd.microsoft.datawrangler.viewer.v0+json": {
       "columns": [
        {
         "name": "index",
         "rawType": "object",
         "type": "string"
        },
        {
         "name": "order_hour_of_day",
         "rawType": "float64",
         "type": "float"
        },
        {
         "name": "total_orders",
         "rawType": "float64",
         "type": "float"
        }
       ],
       "ref": "acc1e700-46d5-4c04-b5f2-74f8931aa7a8",
       "rows": [
        [
         "count",
         "24.0",
         "24.0"
        ],
        [
         "mean",
         "11.5",
         "19956.333333333332"
        ],
        [
         "std",
         "7.0710678118654755",
         "15984.910152381532"
        ],
        [
         "min",
         "0.0",
         "765.0"
        ],
        [
         "25%",
         "5.75",
         "3956.25"
        ],
        [
         "50%",
         "11.5",
         "17085.5"
        ],
        [
         "75%",
         "17.25",
         "38053.5"
        ],
        [
         "max",
         "23.0",
         "40578.0"
        ]
       ],
       "shape": {
        "columns": 2,
        "rows": 8
       }
      },
      "text/html": [
       "<div>\n",
       "<style scoped>\n",
       "    .dataframe tbody tr th:only-of-type {\n",
       "        vertical-align: middle;\n",
       "    }\n",
       "\n",
       "    .dataframe tbody tr th {\n",
       "        vertical-align: top;\n",
       "    }\n",
       "\n",
       "    .dataframe thead th {\n",
       "        text-align: right;\n",
       "    }\n",
       "</style>\n",
       "<table border=\"1\" class=\"dataframe\">\n",
       "  <thead>\n",
       "    <tr style=\"text-align: right;\">\n",
       "      <th></th>\n",
       "      <th>order_hour_of_day</th>\n",
       "      <th>total_orders</th>\n",
       "    </tr>\n",
       "  </thead>\n",
       "  <tbody>\n",
       "    <tr>\n",
       "      <th>count</th>\n",
       "      <td>24.000000</td>\n",
       "      <td>24.000000</td>\n",
       "    </tr>\n",
       "    <tr>\n",
       "      <th>mean</th>\n",
       "      <td>11.500000</td>\n",
       "      <td>19956.333333</td>\n",
       "    </tr>\n",
       "    <tr>\n",
       "      <th>std</th>\n",
       "      <td>7.071068</td>\n",
       "      <td>15984.910152</td>\n",
       "    </tr>\n",
       "    <tr>\n",
       "      <th>min</th>\n",
       "      <td>0.000000</td>\n",
       "      <td>765.000000</td>\n",
       "    </tr>\n",
       "    <tr>\n",
       "      <th>25%</th>\n",
       "      <td>5.750000</td>\n",
       "      <td>3956.250000</td>\n",
       "    </tr>\n",
       "    <tr>\n",
       "      <th>50%</th>\n",
       "      <td>11.500000</td>\n",
       "      <td>17085.500000</td>\n",
       "    </tr>\n",
       "    <tr>\n",
       "      <th>75%</th>\n",
       "      <td>17.250000</td>\n",
       "      <td>38053.500000</td>\n",
       "    </tr>\n",
       "    <tr>\n",
       "      <th>max</th>\n",
       "      <td>23.000000</td>\n",
       "      <td>40578.000000</td>\n",
       "    </tr>\n",
       "  </tbody>\n",
       "</table>\n",
       "</div>"
      ],
      "text/plain": [
       "       order_hour_of_day  total_orders\n",
       "count       24.000000        24.000000\n",
       "mean        11.500000     19956.333333\n",
       "std          7.071068     15984.910152\n",
       "min          0.000000       765.000000\n",
       "25%          5.750000      3956.250000\n",
       "50%         11.500000     17085.500000\n",
       "75%         17.250000     38053.500000\n",
       "max         23.000000     40578.000000"
      ]
     },
     "execution_count": 7,
     "metadata": {},
     "output_type": "execute_result"
    }
   ],
   "source": [
    "df_orders_activity_time.describe()"
   ]
  },
  {
   "cell_type": "code",
   "execution_count": 8,
   "id": "107ce691",
   "metadata": {},
   "outputs": [
    {
     "data": {
      "text/html": [
       "> Coefficient of variation for column <i>'total_orders'</i>: <b>80.10 %</b>"
      ],
      "text/plain": [
       "<IPython.core.display.HTML object>"
      ]
     },
     "metadata": {},
     "output_type": "display_data"
    },
    {
     "data": {
      "text/html": [
       "> High variability: <i>mean may be misleading</i>. Recommended central measure: <b>median</b>."
      ],
      "text/plain": [
       "<IPython.core.display.HTML object>"
      ]
     },
     "metadata": {},
     "output_type": "display_data"
    },
    {
     "name": "stdout",
     "output_type": "stream",
     "text": [
      "\n"
     ]
    }
   ],
   "source": [
    "# Evaluate the coefficient of variation to select the proper measure of central tendency\n",
    "evaluate_central_trend(df_orders_activity_time, 'total_orders')"
   ]
  },
  {
   "cell_type": "code",
   "execution_count": 10,
   "id": "ce514cee",
   "metadata": {},
   "outputs": [
    {
     "data": {
      "text/html": [
       "> Lower outlier threshold for column <i>'total_orders'</i>: <b>0</b>"
      ],
      "text/plain": [
       "<IPython.core.display.HTML object>"
      ]
     },
     "metadata": {},
     "output_type": "display_data"
    },
    {
     "data": {
      "text/html": [
       "> Upper outlier threshold for column <i>'total_orders'</i>: <b>89199.375</b>"
      ],
      "text/plain": [
       "<IPython.core.display.HTML object>"
      ]
     },
     "metadata": {},
     "output_type": "display_data"
    },
    {
     "data": {
      "text/html": [
       "> No outliers found in column <i>'total_orders'</i>."
      ],
      "text/plain": [
       "<IPython.core.display.HTML object>"
      ]
     },
     "metadata": {},
     "output_type": "display_data"
    },
    {
     "data": {
      "text/plain": [
       "(Empty DataFrame\n",
       " Columns: [order_hour_of_day, total_orders]\n",
       " Index: [],\n",
       " Empty DataFrame\n",
       " Columns: [order_hour_of_day, total_orders]\n",
       " Index: [])"
      ]
     },
     "execution_count": 10,
     "metadata": {},
     "output_type": "execute_result"
    }
   ],
   "source": [
    "# Evaluate boundary thresholds and detect potential outliers\n",
    "outlier_limit_bounds(df_orders_activity_time, 'total_orders', bound='both', clamp_zero=True)"
   ]
  },
  {
   "cell_type": "markdown",
   "id": "c73df920",
   "metadata": {},
   "source": [
    "#### 3.1.3 Descriptive statistics for Orders Activity Frequency"
   ]
  },
  {
   "cell_type": "code",
   "execution_count": 11,
   "id": "73b17ced",
   "metadata": {},
   "outputs": [
    {
     "data": {
      "application/vnd.microsoft.datawrangler.viewer.v0+json": {
       "columns": [
        {
         "name": "index",
         "rawType": "object",
         "type": "string"
        },
        {
         "name": "avg_frequency_order",
         "rawType": "float64",
         "type": "float"
        }
       ],
       "ref": "2e3c5607-0848-41d1-bb3e-ddffed59fe35",
       "rows": [
        [
         "count",
         "157437.0"
        ],
        [
         "mean",
         "12.85228111322081"
        ],
        [
         "std",
         "8.87648344257138"
        ],
        [
         "min",
         "0.0"
        ],
        [
         "25%",
         "6.0"
        ],
        [
         "50%",
         "10.8"
        ],
        [
         "75%",
         "18.33333333333333"
        ],
        [
         "max",
         "30.0"
        ]
       ],
       "shape": {
        "columns": 1,
        "rows": 8
       }
      },
      "text/html": [
       "<div>\n",
       "<style scoped>\n",
       "    .dataframe tbody tr th:only-of-type {\n",
       "        vertical-align: middle;\n",
       "    }\n",
       "\n",
       "    .dataframe tbody tr th {\n",
       "        vertical-align: top;\n",
       "    }\n",
       "\n",
       "    .dataframe thead th {\n",
       "        text-align: right;\n",
       "    }\n",
       "</style>\n",
       "<table border=\"1\" class=\"dataframe\">\n",
       "  <thead>\n",
       "    <tr style=\"text-align: right;\">\n",
       "      <th></th>\n",
       "      <th>avg_frequency_order</th>\n",
       "    </tr>\n",
       "  </thead>\n",
       "  <tbody>\n",
       "    <tr>\n",
       "      <th>count</th>\n",
       "      <td>157437.000000</td>\n",
       "    </tr>\n",
       "    <tr>\n",
       "      <th>mean</th>\n",
       "      <td>12.852281</td>\n",
       "    </tr>\n",
       "    <tr>\n",
       "      <th>std</th>\n",
       "      <td>8.876483</td>\n",
       "    </tr>\n",
       "    <tr>\n",
       "      <th>min</th>\n",
       "      <td>0.000000</td>\n",
       "    </tr>\n",
       "    <tr>\n",
       "      <th>25%</th>\n",
       "      <td>6.000000</td>\n",
       "    </tr>\n",
       "    <tr>\n",
       "      <th>50%</th>\n",
       "      <td>10.800000</td>\n",
       "    </tr>\n",
       "    <tr>\n",
       "      <th>75%</th>\n",
       "      <td>18.333333</td>\n",
       "    </tr>\n",
       "    <tr>\n",
       "      <th>max</th>\n",
       "      <td>30.000000</td>\n",
       "    </tr>\n",
       "  </tbody>\n",
       "</table>\n",
       "</div>"
      ],
      "text/plain": [
       "       avg_frequency_order\n",
       "count   157437.000000     \n",
       "mean        12.852281     \n",
       "std          8.876483     \n",
       "min          0.000000     \n",
       "25%          6.000000     \n",
       "50%         10.800000     \n",
       "75%         18.333333     \n",
       "max         30.000000     "
      ]
     },
     "execution_count": 11,
     "metadata": {},
     "output_type": "execute_result"
    }
   ],
   "source": [
    "df_orders_activity_frequency.describe()"
   ]
  },
  {
   "cell_type": "code",
   "execution_count": 12,
   "id": "9378de2e",
   "metadata": {},
   "outputs": [
    {
     "data": {
      "text/html": [
       "> Coefficient of variation for column <i>'avg_frequency_order'</i>: <b>69.07 %</b>"
      ],
      "text/plain": [
       "<IPython.core.display.HTML object>"
      ]
     },
     "metadata": {},
     "output_type": "display_data"
    },
    {
     "data": {
      "text/html": [
       "> High variability: <i>mean may be misleading</i>. Recommended central measure: <b>median</b>."
      ],
      "text/plain": [
       "<IPython.core.display.HTML object>"
      ]
     },
     "metadata": {},
     "output_type": "display_data"
    },
    {
     "name": "stdout",
     "output_type": "stream",
     "text": [
      "\n"
     ]
    }
   ],
   "source": [
    "# Evaluate the coefficient of variation to select the proper measure of central tendency\n",
    "evaluate_central_trend(df_orders_activity_frequency, 'avg_frequency_order')"
   ]
  },
  {
   "cell_type": "code",
   "execution_count": 14,
   "id": "1dc3289d",
   "metadata": {},
   "outputs": [
    {
     "data": {
      "text/html": [
       "> Lower outlier threshold for column <i>'avg_frequency_order'</i>: <b>0</b>"
      ],
      "text/plain": [
       "<IPython.core.display.HTML object>"
      ]
     },
     "metadata": {},
     "output_type": "display_data"
    },
    {
     "data": {
      "text/html": [
       "> Upper outlier threshold for column <i>'avg_frequency_order'</i>: <b>36.83333333333332</b>"
      ],
      "text/plain": [
       "<IPython.core.display.HTML object>"
      ]
     },
     "metadata": {},
     "output_type": "display_data"
    },
    {
     "data": {
      "text/html": [
       "> No outliers found in column <i>'avg_frequency_order'</i>."
      ],
      "text/plain": [
       "<IPython.core.display.HTML object>"
      ]
     },
     "metadata": {},
     "output_type": "display_data"
    },
    {
     "data": {
      "text/plain": [
       "(Empty DataFrame\n",
       " Columns: [avg_frequency_order]\n",
       " Index: [],\n",
       " Empty DataFrame\n",
       " Columns: [avg_frequency_order]\n",
       " Index: [])"
      ]
     },
     "execution_count": 14,
     "metadata": {},
     "output_type": "execute_result"
    }
   ],
   "source": [
    "# Evaluate boundary thresholds and detect potential outliers\n",
    "outlier_limit_bounds(df_orders_activity_frequency, 'avg_frequency_order', bound='both', clamp_zero=True)"
   ]
  },
  {
   "cell_type": "markdown",
   "id": "027fc366",
   "metadata": {},
   "source": [
    "#### 3.1.4 Descriptive statistics for Product Preference"
   ]
  },
  {
   "cell_type": "code",
   "execution_count": 19,
   "id": "e4ff80a6",
   "metadata": {},
   "outputs": [
    {
     "data": {
      "text/plain": [
       "Index(['product_id', 'first_add_count', 'product_name', 'total_orders', 'first_add_rate'], dtype='object')"
      ]
     },
     "execution_count": 19,
     "metadata": {},
     "output_type": "execute_result"
    }
   ],
   "source": [
    "df_product_preference.columns"
   ]
  },
  {
   "cell_type": "code",
   "execution_count": 20,
   "id": "e851dcc6",
   "metadata": {},
   "outputs": [
    {
     "data": {
      "application/vnd.microsoft.datawrangler.viewer.v0+json": {
       "columns": [
        {
         "name": "index",
         "rawType": "object",
         "type": "string"
        },
        {
         "name": "first_add_count",
         "rawType": "float64",
         "type": "float"
        },
        {
         "name": "total_orders",
         "rawType": "float64",
         "type": "float"
        },
        {
         "name": "first_add_rate",
         "rawType": "float64",
         "type": "float"
        }
       ],
       "ref": "ba66d4c5-6afd-439b-91de-32d8fd2f0c25",
       "rows": [
        [
         "count",
         "26760.0",
         "26760.0",
         "26760.0"
        ],
        [
         "mean",
         "16.817862481315395",
         "165.84278774289984",
         "0.16190357349287995"
        ],
        [
         "std",
         "142.68416193976472",
         "908.1558870173026",
         "0.1704078094017614"
        ],
        [
         "min",
         "1.0",
         "1.0",
         "0.0075187969924812"
        ],
        [
         "25%",
         "1.0",
         "11.0",
         "0.0669180184747099"
        ],
        [
         "50%",
         "3.0",
         "31.0",
         "0.1067786302395209"
        ],
        [
         "75%",
         "8.0",
         "96.0",
         "0.1851851851851851"
        ],
        [
         "max",
         "15562.0",
         "66050.0",
         "1.0"
        ]
       ],
       "shape": {
        "columns": 3,
        "rows": 8
       }
      },
      "text/html": [
       "<div>\n",
       "<style scoped>\n",
       "    .dataframe tbody tr th:only-of-type {\n",
       "        vertical-align: middle;\n",
       "    }\n",
       "\n",
       "    .dataframe tbody tr th {\n",
       "        vertical-align: top;\n",
       "    }\n",
       "\n",
       "    .dataframe thead th {\n",
       "        text-align: right;\n",
       "    }\n",
       "</style>\n",
       "<table border=\"1\" class=\"dataframe\">\n",
       "  <thead>\n",
       "    <tr style=\"text-align: right;\">\n",
       "      <th></th>\n",
       "      <th>first_add_count</th>\n",
       "      <th>total_orders</th>\n",
       "      <th>first_add_rate</th>\n",
       "    </tr>\n",
       "  </thead>\n",
       "  <tbody>\n",
       "    <tr>\n",
       "      <th>count</th>\n",
       "      <td>26760.000000</td>\n",
       "      <td>26760.000000</td>\n",
       "      <td>26760.000000</td>\n",
       "    </tr>\n",
       "    <tr>\n",
       "      <th>mean</th>\n",
       "      <td>16.817862</td>\n",
       "      <td>165.842788</td>\n",
       "      <td>0.161904</td>\n",
       "    </tr>\n",
       "    <tr>\n",
       "      <th>std</th>\n",
       "      <td>142.684162</td>\n",
       "      <td>908.155887</td>\n",
       "      <td>0.170408</td>\n",
       "    </tr>\n",
       "    <tr>\n",
       "      <th>min</th>\n",
       "      <td>1.000000</td>\n",
       "      <td>1.000000</td>\n",
       "      <td>0.007519</td>\n",
       "    </tr>\n",
       "    <tr>\n",
       "      <th>25%</th>\n",
       "      <td>1.000000</td>\n",
       "      <td>11.000000</td>\n",
       "      <td>0.066918</td>\n",
       "    </tr>\n",
       "    <tr>\n",
       "      <th>50%</th>\n",
       "      <td>3.000000</td>\n",
       "      <td>31.000000</td>\n",
       "      <td>0.106779</td>\n",
       "    </tr>\n",
       "    <tr>\n",
       "      <th>75%</th>\n",
       "      <td>8.000000</td>\n",
       "      <td>96.000000</td>\n",
       "      <td>0.185185</td>\n",
       "    </tr>\n",
       "    <tr>\n",
       "      <th>max</th>\n",
       "      <td>15562.000000</td>\n",
       "      <td>66050.000000</td>\n",
       "      <td>1.000000</td>\n",
       "    </tr>\n",
       "  </tbody>\n",
       "</table>\n",
       "</div>"
      ],
      "text/plain": [
       "       first_add_count  total_orders  first_add_rate\n",
       "count    26760.000000   26760.000000    26760.000000\n",
       "mean        16.817862     165.842788        0.161904\n",
       "std        142.684162     908.155887        0.170408\n",
       "min          1.000000       1.000000        0.007519\n",
       "25%          1.000000      11.000000        0.066918\n",
       "50%          3.000000      31.000000        0.106779\n",
       "75%          8.000000      96.000000        0.185185\n",
       "max      15562.000000   66050.000000        1.000000"
      ]
     },
     "execution_count": 20,
     "metadata": {},
     "output_type": "execute_result"
    }
   ],
   "source": [
    "df_product_preference[['first_add_count', 'total_orders', 'first_add_rate']].describe()"
   ]
  },
  {
   "cell_type": "code",
   "execution_count": 22,
   "id": "bdb4ed18",
   "metadata": {},
   "outputs": [
    {
     "data": {
      "text/html": [
       "> Coefficient of variation for column <i>'first_add_count'</i>: <b>848.41 %</b>"
      ],
      "text/plain": [
       "<IPython.core.display.HTML object>"
      ]
     },
     "metadata": {},
     "output_type": "display_data"
    },
    {
     "data": {
      "text/html": [
       "> High variability: <i>mean may be misleading</i>. Recommended central measure: <b>median</b>."
      ],
      "text/plain": [
       "<IPython.core.display.HTML object>"
      ]
     },
     "metadata": {},
     "output_type": "display_data"
    },
    {
     "name": "stdout",
     "output_type": "stream",
     "text": [
      "\n"
     ]
    }
   ],
   "source": [
    "# Evaluate the coefficient of variation to select the proper measure of central tendency\n",
    "evaluate_central_trend(df_product_preference, 'first_add_count')"
   ]
  },
  {
   "cell_type": "code",
   "execution_count": 23,
   "id": "aa270a60",
   "metadata": {},
   "outputs": [
    {
     "data": {
      "text/html": [
       "> Coefficient of variation for column <i>'total_orders'</i>: <b>547.60 %</b>"
      ],
      "text/plain": [
       "<IPython.core.display.HTML object>"
      ]
     },
     "metadata": {},
     "output_type": "display_data"
    },
    {
     "data": {
      "text/html": [
       "> High variability: <i>mean may be misleading</i>. Recommended central measure: <b>median</b>."
      ],
      "text/plain": [
       "<IPython.core.display.HTML object>"
      ]
     },
     "metadata": {},
     "output_type": "display_data"
    },
    {
     "name": "stdout",
     "output_type": "stream",
     "text": [
      "\n"
     ]
    }
   ],
   "source": [
    "evaluate_central_trend(df_product_preference, 'total_orders')"
   ]
  },
  {
   "cell_type": "code",
   "execution_count": 24,
   "id": "9d01f846",
   "metadata": {},
   "outputs": [
    {
     "data": {
      "text/html": [
       "> Coefficient of variation for column <i>'first_add_rate'</i>: <b>105.25 %</b>"
      ],
      "text/plain": [
       "<IPython.core.display.HTML object>"
      ]
     },
     "metadata": {},
     "output_type": "display_data"
    },
    {
     "data": {
      "text/html": [
       "> High variability: <i>mean may be misleading</i>. Recommended central measure: <b>median</b>."
      ],
      "text/plain": [
       "<IPython.core.display.HTML object>"
      ]
     },
     "metadata": {},
     "output_type": "display_data"
    },
    {
     "name": "stdout",
     "output_type": "stream",
     "text": [
      "\n"
     ]
    }
   ],
   "source": [
    "evaluate_central_trend(df_product_preference, 'first_add_rate')"
   ]
  },
  {
   "cell_type": "code",
   "execution_count": 27,
   "id": "9d8bb6e0",
   "metadata": {},
   "outputs": [
    {
     "data": {
      "text/html": [
       "> Upper outlier threshold for column <i>'first_add_count'</i>: <b>18.5</b>"
      ],
      "text/plain": [
       "<IPython.core.display.HTML object>"
      ]
     },
     "metadata": {},
     "output_type": "display_data"
    },
    {
     "data": {
      "application/vnd.microsoft.datawrangler.viewer.v0+json": {
       "columns": [
        {
         "name": "index",
         "rawType": "int64",
         "type": "integer"
        },
        {
         "name": "product_id",
         "rawType": "int64",
         "type": "integer"
        },
        {
         "name": "first_add_count",
         "rawType": "int64",
         "type": "integer"
        },
        {
         "name": "product_name",
         "rawType": "object",
         "type": "string"
        },
        {
         "name": "total_orders",
         "rawType": "int64",
         "type": "integer"
        },
        {
         "name": "first_add_rate",
         "rawType": "float64",
         "type": "float"
        }
       ],
       "ref": "1d2be7cc-1310-454d-bdb7-fec88d9b35dc",
       "rows": [
        [
         "0",
         "24852",
         "15562",
         "banana",
         "66050",
         "0.2356093868281605"
        ],
        [
         "1",
         "13176",
         "11026",
         "bag_of_organic_bananas",
         "53297",
         "0.2068784359344803"
        ],
        [
         "2",
         "27845",
         "4363",
         "organic_whole_milk",
         "19600",
         "0.2226020408163265"
        ],
        [
         "3",
         "21137",
         "3946",
         "organic_strawberries",
         "37039",
         "0.1065363535732606"
        ],
        [
         "4",
         "47209",
         "3390",
         "organic_hass_avocado",
         "29773",
         "0.1138615524132603"
        ],
        [
         "5",
         "21903",
         "3336",
         "organic_baby_spinach",
         "33971",
         "0.0982014070825115"
        ],
        [
         "6",
         "47766",
         "3044",
         "organic_avocado",
         "24689",
         "0.12329377455547"
        ],
        [
         "7",
         "19660",
         "2336",
         "spring_water",
         "7675",
         "0.3043648208469055"
        ],
        [
         "8",
         "16797",
         "2308",
         "strawberries",
         "20018",
         "0.115296233389949"
        ],
        [
         "9",
         "27966",
         "2024",
         "organic_raspberries",
         "19197",
         "0.1054331405948846"
        ],
        [
         "10",
         "44632",
         "1914",
         "sparkling_water_grapefruit",
         "10577",
         "0.180958683936844"
        ],
        [
         "11",
         "49235",
         "1797",
         "organic_half_half",
         "10752",
         "0.1671316964285714"
        ],
        [
         "12",
         "47626",
         "1737",
         "large_lemon",
         "21495",
         "0.0808094905792044"
        ],
        [
         "13",
         "196",
         "1733",
         "soda",
         "5043",
         "0.3436446559587547"
        ],
        [
         "14",
         "38689",
         "1397",
         "organic_reduced_fat_milk",
         "5032",
         "0.2776232114467408"
        ],
        [
         "15",
         "26209",
         "1370",
         "limes",
         "19690",
         "0.0695784662265109"
        ],
        [
         "16",
         "12341",
         "1340",
         "hass_avocados",
         "7112",
         "0.1884139482564679"
        ],
        [
         "17",
         "5785",
         "1310",
         "organic_reduced_fat_2_milk",
         "6635",
         "0.1974378296910324"
        ],
        [
         "18",
         "27086",
         "1309",
         "half_half",
         "9588",
         "0.1365248226950354"
        ],
        [
         "19",
         "22935",
         "1246",
         "organic_yellow_onion",
         "15898",
         "0.0783746383192854"
        ],
        [
         "20",
         "43352",
         "1246",
         "raspberries",
         "8056",
         "0.1546673286991062"
        ],
        [
         "21",
         "8277",
         "1200",
         "apple_honeycrisp_organic",
         "11993",
         "0.1000583673809722"
        ],
        [
         "22",
         "39275",
         "1185",
         "organic_blueberries",
         "13879",
         "0.0853807911232797"
        ],
        [
         "23",
         "28204",
         "1183",
         "organic_fuji_apple",
         "12544",
         "0.0943080357142857"
        ],
        [
         "24",
         "33198",
         "1175",
         "sparkling_natural_mineral_water",
         "5941",
         "0.1977781518262918"
        ],
        [
         "25",
         "4210",
         "1166",
         "whole_milk",
         "5070",
         "0.2299802761341222"
        ],
        [
         "26",
         "35951",
         "1146",
         "organic_unsweetened_almond_milk",
         "8145",
         "0.1406998158379374"
        ],
        [
         "27",
         "24838",
         "1127",
         "unsweetened_almondmilk",
         "6958",
         "0.1619718309859155"
        ],
        [
         "28",
         "49683",
         "1078",
         "cucumber_kirby",
         "13675",
         "0.0788299817184643"
        ],
        [
         "29",
         "23909",
         "1057",
         "2_reduced_fat_milk",
         "5137",
         "0.2057621179676854"
        ],
        [
         "30",
         "28985",
         "1052",
         "michigan_organic_kale",
         "9469",
         "0.1110993769141408"
        ],
        [
         "31",
         "11520",
         "1045",
         "large_alfresco_eggs",
         "5730",
         "0.1823734729493892"
        ],
        [
         "32",
         "24964",
         "1035",
         "organic_garlic",
         "15292",
         "0.0676824483390007"
        ],
        [
         "33",
         "45066",
         "997",
         "honeycrisp_apple",
         "11089",
         "0.0899089187483091"
        ],
        [
         "34",
         "5876",
         "985",
         "organic_lemon",
         "12232",
         "0.0805264879005886"
        ],
        [
         "35",
         "3957",
         "975",
         "100_raw_coconut_water",
         "5291",
         "0.1842751842751842"
        ],
        [
         "36",
         "5479",
         "972",
         "italian_sparkling_mineral_water",
         "4301",
         "0.2259939548942106"
        ],
        [
         "37",
         "4920",
         "948",
         "seedless_red_grapes",
         "11755",
         "0.0806465333900467"
        ],
        [
         "38",
         "45007",
         "941",
         "organic_zucchini",
         "14584",
         "0.0645227646736149"
        ],
        [
         "39",
         "6184",
         "932",
         "clementines",
         "4331",
         "0.2151927961209882"
        ],
        [
         "40",
         "19057",
         "924",
         "organic_large_extra_fancy_fuji_apple",
         "10651",
         "0.0867524176133696"
        ],
        [
         "41",
         "5077",
         "913",
         "100_whole_wheat_bread",
         "8429",
         "0.1083165262783248"
        ],
        [
         "42",
         "4605",
         "879",
         "yellow_onions",
         "10400",
         "0.0845192307692307"
        ],
        [
         "43",
         "25890",
         "848",
         "boneless_skinless_chicken_breasts",
         "7149",
         "0.1186179885298643"
        ],
        [
         "44",
         "37646",
         "841",
         "organic_gala_apples",
         "10215",
         "0.0823299069995105"
        ],
        [
         "45",
         "35221",
         "838",
         "lime_sparkling_water",
         "6533",
         "0.1282718506046226"
        ],
        [
         "46",
         "21616",
         "808",
         "organic_baby_arugula",
         "10172",
         "0.0794337396775462"
        ],
        [
         "47",
         "43154",
         "804",
         "sparkling_mineral_water",
         "2563",
         "0.3136948888021849"
        ],
        [
         "48",
         "1463",
         "799",
         "organic_milk",
         "3841",
         "0.2080187451184587"
        ],
        [
         "49",
         "47144",
         "795",
         "unsweetened_original_almond_breeze_almond_milk",
         "4958",
         "0.1603469140782573"
        ]
       ],
       "shape": {
        "columns": 5,
        "rows": 3645
       }
      },
      "text/html": [
       "<div>\n",
       "<style scoped>\n",
       "    .dataframe tbody tr th:only-of-type {\n",
       "        vertical-align: middle;\n",
       "    }\n",
       "\n",
       "    .dataframe tbody tr th {\n",
       "        vertical-align: top;\n",
       "    }\n",
       "\n",
       "    .dataframe thead th {\n",
       "        text-align: right;\n",
       "    }\n",
       "</style>\n",
       "<table border=\"1\" class=\"dataframe\">\n",
       "  <thead>\n",
       "    <tr style=\"text-align: right;\">\n",
       "      <th></th>\n",
       "      <th>product_id</th>\n",
       "      <th>first_add_count</th>\n",
       "      <th>product_name</th>\n",
       "      <th>total_orders</th>\n",
       "      <th>first_add_rate</th>\n",
       "    </tr>\n",
       "  </thead>\n",
       "  <tbody>\n",
       "    <tr>\n",
       "      <th>0</th>\n",
       "      <td>24852</td>\n",
       "      <td>15562</td>\n",
       "      <td>banana</td>\n",
       "      <td>66050</td>\n",
       "      <td>0.235609</td>\n",
       "    </tr>\n",
       "    <tr>\n",
       "      <th>1</th>\n",
       "      <td>13176</td>\n",
       "      <td>11026</td>\n",
       "      <td>bag_of_orga...</td>\n",
       "      <td>53297</td>\n",
       "      <td>0.206878</td>\n",
       "    </tr>\n",
       "    <tr>\n",
       "      <th>2</th>\n",
       "      <td>27845</td>\n",
       "      <td>4363</td>\n",
       "      <td>organic_who...</td>\n",
       "      <td>19600</td>\n",
       "      <td>0.222602</td>\n",
       "    </tr>\n",
       "    <tr>\n",
       "      <th>3</th>\n",
       "      <td>21137</td>\n",
       "      <td>3946</td>\n",
       "      <td>organic_str...</td>\n",
       "      <td>37039</td>\n",
       "      <td>0.106536</td>\n",
       "    </tr>\n",
       "    <tr>\n",
       "      <th>4</th>\n",
       "      <td>47209</td>\n",
       "      <td>3390</td>\n",
       "      <td>organic_has...</td>\n",
       "      <td>29773</td>\n",
       "      <td>0.113862</td>\n",
       "    </tr>\n",
       "    <tr>\n",
       "      <th>...</th>\n",
       "      <td>...</td>\n",
       "      <td>...</td>\n",
       "      <td>...</td>\n",
       "      <td>...</td>\n",
       "      <td>...</td>\n",
       "    </tr>\n",
       "    <tr>\n",
       "      <th>3640</th>\n",
       "      <td>40287</td>\n",
       "      <td>19</td>\n",
       "      <td>original_po...</td>\n",
       "      <td>331</td>\n",
       "      <td>0.057402</td>\n",
       "    </tr>\n",
       "    <tr>\n",
       "      <th>3641</th>\n",
       "      <td>45246</td>\n",
       "      <td>19</td>\n",
       "      <td>high_protei...</td>\n",
       "      <td>198</td>\n",
       "      <td>0.095960</td>\n",
       "    </tr>\n",
       "    <tr>\n",
       "      <th>3642</th>\n",
       "      <td>5422</td>\n",
       "      <td>19</td>\n",
       "      <td>deluxe_ever...</td>\n",
       "      <td>354</td>\n",
       "      <td>0.053672</td>\n",
       "    </tr>\n",
       "    <tr>\n",
       "      <th>3643</th>\n",
       "      <td>10333</td>\n",
       "      <td>19</td>\n",
       "      <td>rice_krispi...</td>\n",
       "      <td>300</td>\n",
       "      <td>0.063333</td>\n",
       "    </tr>\n",
       "    <tr>\n",
       "      <th>3644</th>\n",
       "      <td>19904</td>\n",
       "      <td>19</td>\n",
       "      <td>organic_cre...</td>\n",
       "      <td>306</td>\n",
       "      <td>0.062092</td>\n",
       "    </tr>\n",
       "  </tbody>\n",
       "</table>\n",
       "<p>3645 rows × 5 columns</p>\n",
       "</div>"
      ],
      "text/plain": [
       "      product_id  first_add_count    product_name  total_orders  first_add_rate\n",
       "0          24852           15562           banana         66050        0.235609\n",
       "1          13176           11026   bag_of_orga...         53297        0.206878\n",
       "2          27845            4363   organic_who...         19600        0.222602\n",
       "3          21137            3946   organic_str...         37039        0.106536\n",
       "4          47209            3390   organic_has...         29773        0.113862\n",
       "...          ...             ...              ...           ...             ...\n",
       "3640       40287              19   original_po...           331        0.057402\n",
       "3641       45246              19   high_protei...           198        0.095960\n",
       "3642        5422              19   deluxe_ever...           354        0.053672\n",
       "3643       10333              19   rice_krispi...           300        0.063333\n",
       "3644       19904              19   organic_cre...           306        0.062092\n",
       "\n",
       "[3645 rows x 5 columns]"
      ]
     },
     "execution_count": 27,
     "metadata": {},
     "output_type": "execute_result"
    }
   ],
   "source": [
    "# Evaluate boundary thresholds and detect potential outliers\n",
    "outlier_limit_bounds(df_product_preference, 'first_add_count', bound='upper')"
   ]
  },
  {
   "cell_type": "code",
   "execution_count": 31,
   "id": "5f715fd8",
   "metadata": {},
   "outputs": [
    {
     "data": {
      "text/html": [
       "> Upper outlier threshold for column <i>'total_orders'</i>: <b>223.5</b>"
      ],
      "text/plain": [
       "<IPython.core.display.HTML object>"
      ]
     },
     "metadata": {},
     "output_type": "display_data"
    },
    {
     "data": {
      "application/vnd.microsoft.datawrangler.viewer.v0+json": {
       "columns": [
        {
         "name": "index",
         "rawType": "int64",
         "type": "integer"
        },
        {
         "name": "product_id",
         "rawType": "int64",
         "type": "integer"
        },
        {
         "name": "first_add_count",
         "rawType": "int64",
         "type": "integer"
        },
        {
         "name": "product_name",
         "rawType": "object",
         "type": "string"
        },
        {
         "name": "total_orders",
         "rawType": "int64",
         "type": "integer"
        },
        {
         "name": "first_add_rate",
         "rawType": "float64",
         "type": "float"
        }
       ],
       "ref": "5d849126-e635-4545-b437-bb87c9855af1",
       "rows": [
        [
         "0",
         "24852",
         "15562",
         "banana",
         "66050",
         "0.2356093868281605"
        ],
        [
         "1",
         "13176",
         "11026",
         "bag_of_organic_bananas",
         "53297",
         "0.2068784359344803"
        ],
        [
         "2",
         "27845",
         "4363",
         "organic_whole_milk",
         "19600",
         "0.2226020408163265"
        ],
        [
         "3",
         "21137",
         "3946",
         "organic_strawberries",
         "37039",
         "0.1065363535732606"
        ],
        [
         "4",
         "47209",
         "3390",
         "organic_hass_avocado",
         "29773",
         "0.1138615524132603"
        ],
        [
         "5",
         "21903",
         "3336",
         "organic_baby_spinach",
         "33971",
         "0.0982014070825115"
        ],
        [
         "6",
         "47766",
         "3044",
         "organic_avocado",
         "24689",
         "0.12329377455547"
        ],
        [
         "7",
         "19660",
         "2336",
         "spring_water",
         "7675",
         "0.3043648208469055"
        ],
        [
         "8",
         "16797",
         "2308",
         "strawberries",
         "20018",
         "0.115296233389949"
        ],
        [
         "9",
         "27966",
         "2024",
         "organic_raspberries",
         "19197",
         "0.1054331405948846"
        ],
        [
         "10",
         "44632",
         "1914",
         "sparkling_water_grapefruit",
         "10577",
         "0.180958683936844"
        ],
        [
         "11",
         "49235",
         "1797",
         "organic_half_half",
         "10752",
         "0.1671316964285714"
        ],
        [
         "12",
         "47626",
         "1737",
         "large_lemon",
         "21495",
         "0.0808094905792044"
        ],
        [
         "13",
         "196",
         "1733",
         "soda",
         "5043",
         "0.3436446559587547"
        ],
        [
         "14",
         "38689",
         "1397",
         "organic_reduced_fat_milk",
         "5032",
         "0.2776232114467408"
        ],
        [
         "15",
         "26209",
         "1370",
         "limes",
         "19690",
         "0.0695784662265109"
        ],
        [
         "16",
         "12341",
         "1340",
         "hass_avocados",
         "7112",
         "0.1884139482564679"
        ],
        [
         "17",
         "5785",
         "1310",
         "organic_reduced_fat_2_milk",
         "6635",
         "0.1974378296910324"
        ],
        [
         "18",
         "27086",
         "1309",
         "half_half",
         "9588",
         "0.1365248226950354"
        ],
        [
         "19",
         "22935",
         "1246",
         "organic_yellow_onion",
         "15898",
         "0.0783746383192854"
        ],
        [
         "20",
         "43352",
         "1246",
         "raspberries",
         "8056",
         "0.1546673286991062"
        ],
        [
         "21",
         "8277",
         "1200",
         "apple_honeycrisp_organic",
         "11993",
         "0.1000583673809722"
        ],
        [
         "22",
         "39275",
         "1185",
         "organic_blueberries",
         "13879",
         "0.0853807911232797"
        ],
        [
         "23",
         "28204",
         "1183",
         "organic_fuji_apple",
         "12544",
         "0.0943080357142857"
        ],
        [
         "24",
         "33198",
         "1175",
         "sparkling_natural_mineral_water",
         "5941",
         "0.1977781518262918"
        ],
        [
         "25",
         "4210",
         "1166",
         "whole_milk",
         "5070",
         "0.2299802761341222"
        ],
        [
         "26",
         "35951",
         "1146",
         "organic_unsweetened_almond_milk",
         "8145",
         "0.1406998158379374"
        ],
        [
         "27",
         "24838",
         "1127",
         "unsweetened_almondmilk",
         "6958",
         "0.1619718309859155"
        ],
        [
         "28",
         "49683",
         "1078",
         "cucumber_kirby",
         "13675",
         "0.0788299817184643"
        ],
        [
         "29",
         "23909",
         "1057",
         "2_reduced_fat_milk",
         "5137",
         "0.2057621179676854"
        ],
        [
         "30",
         "28985",
         "1052",
         "michigan_organic_kale",
         "9469",
         "0.1110993769141408"
        ],
        [
         "31",
         "11520",
         "1045",
         "large_alfresco_eggs",
         "5730",
         "0.1823734729493892"
        ],
        [
         "32",
         "24964",
         "1035",
         "organic_garlic",
         "15292",
         "0.0676824483390007"
        ],
        [
         "33",
         "45066",
         "997",
         "honeycrisp_apple",
         "11089",
         "0.0899089187483091"
        ],
        [
         "34",
         "5876",
         "985",
         "organic_lemon",
         "12232",
         "0.0805264879005886"
        ],
        [
         "35",
         "3957",
         "975",
         "100_raw_coconut_water",
         "5291",
         "0.1842751842751842"
        ],
        [
         "36",
         "5479",
         "972",
         "italian_sparkling_mineral_water",
         "4301",
         "0.2259939548942106"
        ],
        [
         "37",
         "4920",
         "948",
         "seedless_red_grapes",
         "11755",
         "0.0806465333900467"
        ],
        [
         "38",
         "45007",
         "941",
         "organic_zucchini",
         "14584",
         "0.0645227646736149"
        ],
        [
         "39",
         "6184",
         "932",
         "clementines",
         "4331",
         "0.2151927961209882"
        ],
        [
         "40",
         "19057",
         "924",
         "organic_large_extra_fancy_fuji_apple",
         "10651",
         "0.0867524176133696"
        ],
        [
         "41",
         "5077",
         "913",
         "100_whole_wheat_bread",
         "8429",
         "0.1083165262783248"
        ],
        [
         "42",
         "4605",
         "879",
         "yellow_onions",
         "10400",
         "0.0845192307692307"
        ],
        [
         "43",
         "25890",
         "848",
         "boneless_skinless_chicken_breasts",
         "7149",
         "0.1186179885298643"
        ],
        [
         "44",
         "37646",
         "841",
         "organic_gala_apples",
         "10215",
         "0.0823299069995105"
        ],
        [
         "45",
         "35221",
         "838",
         "lime_sparkling_water",
         "6533",
         "0.1282718506046226"
        ],
        [
         "46",
         "21616",
         "808",
         "organic_baby_arugula",
         "10172",
         "0.0794337396775462"
        ],
        [
         "47",
         "43154",
         "804",
         "sparkling_mineral_water",
         "2563",
         "0.3136948888021849"
        ],
        [
         "48",
         "1463",
         "799",
         "organic_milk",
         "3841",
         "0.2080187451184587"
        ],
        [
         "49",
         "47144",
         "795",
         "unsweetened_original_almond_breeze_almond_milk",
         "4958",
         "0.1603469140782573"
        ]
       ],
       "shape": {
        "columns": 5,
        "rows": 3405
       }
      },
      "text/html": [
       "<div>\n",
       "<style scoped>\n",
       "    .dataframe tbody tr th:only-of-type {\n",
       "        vertical-align: middle;\n",
       "    }\n",
       "\n",
       "    .dataframe tbody tr th {\n",
       "        vertical-align: top;\n",
       "    }\n",
       "\n",
       "    .dataframe thead th {\n",
       "        text-align: right;\n",
       "    }\n",
       "</style>\n",
       "<table border=\"1\" class=\"dataframe\">\n",
       "  <thead>\n",
       "    <tr style=\"text-align: right;\">\n",
       "      <th></th>\n",
       "      <th>product_id</th>\n",
       "      <th>first_add_count</th>\n",
       "      <th>product_name</th>\n",
       "      <th>total_orders</th>\n",
       "      <th>first_add_rate</th>\n",
       "    </tr>\n",
       "  </thead>\n",
       "  <tbody>\n",
       "    <tr>\n",
       "      <th>0</th>\n",
       "      <td>24852</td>\n",
       "      <td>15562</td>\n",
       "      <td>banana</td>\n",
       "      <td>66050</td>\n",
       "      <td>0.235609</td>\n",
       "    </tr>\n",
       "    <tr>\n",
       "      <th>1</th>\n",
       "      <td>13176</td>\n",
       "      <td>11026</td>\n",
       "      <td>bag_of_orga...</td>\n",
       "      <td>53297</td>\n",
       "      <td>0.206878</td>\n",
       "    </tr>\n",
       "    <tr>\n",
       "      <th>2</th>\n",
       "      <td>27845</td>\n",
       "      <td>4363</td>\n",
       "      <td>organic_who...</td>\n",
       "      <td>19600</td>\n",
       "      <td>0.222602</td>\n",
       "    </tr>\n",
       "    <tr>\n",
       "      <th>3</th>\n",
       "      <td>21137</td>\n",
       "      <td>3946</td>\n",
       "      <td>organic_str...</td>\n",
       "      <td>37039</td>\n",
       "      <td>0.106536</td>\n",
       "    </tr>\n",
       "    <tr>\n",
       "      <th>4</th>\n",
       "      <td>47209</td>\n",
       "      <td>3390</td>\n",
       "      <td>organic_has...</td>\n",
       "      <td>29773</td>\n",
       "      <td>0.113862</td>\n",
       "    </tr>\n",
       "    <tr>\n",
       "      <th>...</th>\n",
       "      <td>...</td>\n",
       "      <td>...</td>\n",
       "      <td>...</td>\n",
       "      <td>...</td>\n",
       "      <td>...</td>\n",
       "    </tr>\n",
       "    <tr>\n",
       "      <th>9610</th>\n",
       "      <td>24142</td>\n",
       "      <td>5</td>\n",
       "      <td>broccoli_cuts</td>\n",
       "      <td>230</td>\n",
       "      <td>0.021739</td>\n",
       "    </tr>\n",
       "    <tr>\n",
       "      <th>10060</th>\n",
       "      <td>6891</td>\n",
       "      <td>5</td>\n",
       "      <td>apple_peach...</td>\n",
       "      <td>229</td>\n",
       "      <td>0.021834</td>\n",
       "    </tr>\n",
       "    <tr>\n",
       "      <th>11420</th>\n",
       "      <td>38248</td>\n",
       "      <td>4</td>\n",
       "      <td>vegetable_t...</td>\n",
       "      <td>279</td>\n",
       "      <td>0.014337</td>\n",
       "    </tr>\n",
       "    <tr>\n",
       "      <th>13806</th>\n",
       "      <td>6188</td>\n",
       "      <td>3</td>\n",
       "      <td>organic_app...</td>\n",
       "      <td>271</td>\n",
       "      <td>0.011070</td>\n",
       "    </tr>\n",
       "    <tr>\n",
       "      <th>15947</th>\n",
       "      <td>29557</td>\n",
       "      <td>2</td>\n",
       "      <td>apples_pump...</td>\n",
       "      <td>241</td>\n",
       "      <td>0.008299</td>\n",
       "    </tr>\n",
       "  </tbody>\n",
       "</table>\n",
       "<p>3405 rows × 5 columns</p>\n",
       "</div>"
      ],
      "text/plain": [
       "       product_id  first_add_count    product_name  total_orders  first_add_rate\n",
       "0           24852           15562           banana         66050        0.235609\n",
       "1           13176           11026   bag_of_orga...         53297        0.206878\n",
       "2           27845            4363   organic_who...         19600        0.222602\n",
       "3           21137            3946   organic_str...         37039        0.106536\n",
       "4           47209            3390   organic_has...         29773        0.113862\n",
       "...           ...             ...              ...           ...             ...\n",
       "9610        24142               5    broccoli_cuts           230        0.021739\n",
       "10060        6891               5   apple_peach...           229        0.021834\n",
       "11420       38248               4   vegetable_t...           279        0.014337\n",
       "13806        6188               3   organic_app...           271        0.011070\n",
       "15947       29557               2   apples_pump...           241        0.008299\n",
       "\n",
       "[3405 rows x 5 columns]"
      ]
     },
     "execution_count": 31,
     "metadata": {},
     "output_type": "execute_result"
    }
   ],
   "source": [
    "outlier_limit_bounds(df_product_preference, 'total_orders', bound='upper')"
   ]
  },
  {
   "cell_type": "code",
   "execution_count": 32,
   "id": "2c5a9cb6",
   "metadata": {},
   "outputs": [
    {
     "data": {
      "text/html": [
       "> Upper outlier threshold for column <i>'first_add_rate'</i>: <b>0.3625859352508979</b>"
      ],
      "text/plain": [
       "<IPython.core.display.HTML object>"
      ]
     },
     "metadata": {},
     "output_type": "display_data"
    },
    {
     "data": {
      "application/vnd.microsoft.datawrangler.viewer.v0+json": {
       "columns": [
        {
         "name": "index",
         "rawType": "int64",
         "type": "integer"
        },
        {
         "name": "product_id",
         "rawType": "int64",
         "type": "integer"
        },
        {
         "name": "first_add_count",
         "rawType": "int64",
         "type": "integer"
        },
        {
         "name": "product_name",
         "rawType": "object",
         "type": "string"
        },
        {
         "name": "total_orders",
         "rawType": "int64",
         "type": "integer"
        },
        {
         "name": "first_add_rate",
         "rawType": "float64",
         "type": "float"
        }
       ],
       "ref": "bbe044dc-5b1f-4722-bd4f-2a106eca8cf1",
       "rows": [
        [
         "99",
         "20940",
         "475",
         "organic_low_fat_milk",
         "1174",
         "0.4045996592844974"
        ],
        [
         "167",
         "22802",
         "331",
         "mineral_water",
         "856",
         "0.3866822429906542"
        ],
        [
         "185",
         "40939",
         "299",
         "drinking_water",
         "773",
         "0.3868046571798189"
        ],
        [
         "190",
         "45190",
         "295",
         "vodka",
         "793",
         "0.3720050441361917"
        ],
        [
         "396",
         "35470",
         "163",
         "water_mineral",
         "331",
         "0.4924471299093655"
        ],
        [
         "727",
         "1729",
         "96",
         "2_lactose_free_milk",
         "242",
         "0.396694214876033"
        ],
        [
         "788",
         "17924",
         "90",
         "seltzer_water",
         "247",
         "0.3643724696356275"
        ],
        [
         "795",
         "45004",
         "90",
         "white_multifold_towels",
         "220",
         "0.4090909090909091"
        ],
        [
         "838",
         "11885",
         "85",
         "sparkling_water_bottles",
         "205",
         "0.4146341463414634"
        ],
        [
         "900",
         "29509",
         "80",
         "80_vodka_holiday_edition",
         "202",
         "0.396039603960396"
        ],
        [
         "1118",
         "6729",
         "65",
         "cookie_tray",
         "179",
         "0.3631284916201117"
        ],
        [
         "1730",
         "3399",
         "42",
         "pain_relief_tablets",
         "105",
         "0.4"
        ],
        [
         "1757",
         "42791",
         "41",
         "minis_to_go_natural_spring_water",
         "94",
         "0.4361702127659574"
        ],
        [
         "1999",
         "13128",
         "36",
         "purified_alkalkine_water_with_minerals_ph10",
         "98",
         "0.3673469387755102"
        ],
        [
         "2284",
         "11345",
         "31",
         "irish_whiskey_ireland",
         "68",
         "0.4558823529411764"
        ],
        [
         "2401",
         "19565",
         "30",
         "truvia_sweetener_packets",
         "75",
         "0.4"
        ],
        [
         "2520",
         "37059",
         "28",
         "lemon_lime_blossom_ocean_fresh_scent_disinfecting_wipes",
         "70",
         "0.4"
        ],
        [
         "2599",
         "14408",
         "27",
         "unflavored_oral_electrolyte_solution",
         "57",
         "0.4736842105263157"
        ],
        [
         "2607",
         "17469",
         "27",
         "lo_carb_energy_drink",
         "63",
         "0.4285714285714285"
        ],
        [
         "2633",
         "17330",
         "27",
         "light",
         "73",
         "0.3698630136986301"
        ],
        [
         "2638",
         "35496",
         "27",
         "real2_alkalized_water_500_ml",
         "69",
         "0.391304347826087"
        ],
        [
         "2738",
         "13895",
         "25",
         "london_dry_gin_england",
         "59",
         "0.423728813559322"
        ],
        [
         "2768",
         "6848",
         "25",
         "party_tumblers",
         "54",
         "0.4629629629629629"
        ],
        [
         "3048",
         "29659",
         "23",
         "early_result_pregnancy_test",
         "59",
         "0.3898305084745763"
        ],
        [
         "3159",
         "10148",
         "22",
         "superior_puerto_rican_rum",
         "47",
         "0.4680851063829787"
        ],
        [
         "3247",
         "38365",
         "21",
         "size_5_cruisers_diapers_super_pack",
         "55",
         "0.3818181818181818"
        ],
        [
         "3263",
         "26754",
         "21",
         "single_malt_scotch_whiskey",
         "44",
         "0.4772727272727273"
        ],
        [
         "3413",
         "1993",
         "20",
         "cheesecake",
         "46",
         "0.4347826086956521"
        ],
        [
         "3448",
         "4100",
         "20",
         "organic_dark_roast",
         "50",
         "0.4"
        ],
        [
         "3533",
         "4843",
         "19",
         "rye_whiskey",
         "33",
         "0.5757575757575758"
        ],
        [
         "3608",
         "6359",
         "19",
         "mango_nectar_with_alphonso_mangos",
         "44",
         "0.4318181818181818"
        ],
        [
         "3739",
         "40462",
         "18",
         "cleanse",
         "37",
         "0.4864864864864865"
        ],
        [
         "3816",
         "14771",
         "18",
         "non_dairy_french_vanilla_singles_creamer",
         "49",
         "0.3673469387755102"
        ],
        [
         "3903",
         "37656",
         "17",
         "fresh_fruit_tart",
         "44",
         "0.3863636363636363"
        ],
        [
         "3959",
         "34568",
         "17",
         "bourbon_kentucky_frontier_whiskey",
         "44",
         "0.3863636363636363"
        ],
        [
         "4118",
         "10031",
         "16",
         "homestyle_orange_juice",
         "43",
         "0.3720930232558139"
        ],
        [
         "4215",
         "16425",
         "16",
         "organic_lowafat_1_milk",
         "40",
         "0.4"
        ],
        [
         "4250",
         "40183",
         "15",
         "organic_grade_a_raw_whole_milk",
         "38",
         "0.3947368421052631"
        ],
        [
         "4328",
         "29869",
         "15",
         "new_zealand_artesian_water",
         "39",
         "0.3846153846153846"
        ],
        [
         "4332",
         "19343",
         "15",
         "antiseptic_mouth_rinse",
         "40",
         "0.375"
        ],
        [
         "4392",
         "46669",
         "15",
         "ibuprofen",
         "40",
         "0.375"
        ],
        [
         "4509",
         "25304",
         "14",
         "nuestro_tequila",
         "33",
         "0.4242424242424242"
        ],
        [
         "4520",
         "42603",
         "14",
         "infant_formula_powder",
         "35",
         "0.4"
        ],
        [
         "4555",
         "23767",
         "14",
         "imported_light_beer",
         "37",
         "0.3783783783783784"
        ],
        [
         "4593",
         "44579",
         "14",
         "all_purpose_unbleached_flour",
         "37",
         "0.3783783783783784"
        ],
        [
         "4621",
         "31380",
         "14",
         "omeprazole_acid_reducer_tablets",
         "36",
         "0.3888888888888889"
        ],
        [
         "4844",
         "34048",
         "13",
         "extra_dry_california_champagne",
         "33",
         "0.3939393939393939"
        ],
        [
         "4857",
         "36833",
         "13",
         "original_cheese",
         "35",
         "0.3714285714285714"
        ],
        [
         "4930",
         "7270",
         "13",
         "brandy",
         "31",
         "0.4193548387096774"
        ],
        [
         "4949",
         "2150",
         "13",
         "sauvignon_blanc_mendocino_2007",
         "35",
         "0.3714285714285714"
        ]
       ],
       "shape": {
        "columns": 5,
        "rows": 2121
       }
      },
      "text/html": [
       "<div>\n",
       "<style scoped>\n",
       "    .dataframe tbody tr th:only-of-type {\n",
       "        vertical-align: middle;\n",
       "    }\n",
       "\n",
       "    .dataframe tbody tr th {\n",
       "        vertical-align: top;\n",
       "    }\n",
       "\n",
       "    .dataframe thead th {\n",
       "        text-align: right;\n",
       "    }\n",
       "</style>\n",
       "<table border=\"1\" class=\"dataframe\">\n",
       "  <thead>\n",
       "    <tr style=\"text-align: right;\">\n",
       "      <th></th>\n",
       "      <th>product_id</th>\n",
       "      <th>first_add_count</th>\n",
       "      <th>product_name</th>\n",
       "      <th>total_orders</th>\n",
       "      <th>first_add_rate</th>\n",
       "    </tr>\n",
       "  </thead>\n",
       "  <tbody>\n",
       "    <tr>\n",
       "      <th>99</th>\n",
       "      <td>20940</td>\n",
       "      <td>475</td>\n",
       "      <td>organic_low...</td>\n",
       "      <td>1174</td>\n",
       "      <td>0.404600</td>\n",
       "    </tr>\n",
       "    <tr>\n",
       "      <th>167</th>\n",
       "      <td>22802</td>\n",
       "      <td>331</td>\n",
       "      <td>mineral_water</td>\n",
       "      <td>856</td>\n",
       "      <td>0.386682</td>\n",
       "    </tr>\n",
       "    <tr>\n",
       "      <th>185</th>\n",
       "      <td>40939</td>\n",
       "      <td>299</td>\n",
       "      <td>drinking_water</td>\n",
       "      <td>773</td>\n",
       "      <td>0.386805</td>\n",
       "    </tr>\n",
       "    <tr>\n",
       "      <th>190</th>\n",
       "      <td>45190</td>\n",
       "      <td>295</td>\n",
       "      <td>vodka</td>\n",
       "      <td>793</td>\n",
       "      <td>0.372005</td>\n",
       "    </tr>\n",
       "    <tr>\n",
       "      <th>396</th>\n",
       "      <td>35470</td>\n",
       "      <td>163</td>\n",
       "      <td>water_mineral</td>\n",
       "      <td>331</td>\n",
       "      <td>0.492447</td>\n",
       "    </tr>\n",
       "    <tr>\n",
       "      <th>...</th>\n",
       "      <td>...</td>\n",
       "      <td>...</td>\n",
       "      <td>...</td>\n",
       "      <td>...</td>\n",
       "      <td>...</td>\n",
       "    </tr>\n",
       "    <tr>\n",
       "      <th>26748</th>\n",
       "      <td>34074</td>\n",
       "      <td>1</td>\n",
       "      <td>16_bean_sou...</td>\n",
       "      <td>1</td>\n",
       "      <td>1.000000</td>\n",
       "    </tr>\n",
       "    <tr>\n",
       "      <th>26750</th>\n",
       "      <td>49685</td>\n",
       "      <td>1</td>\n",
       "      <td>en_croute_r...</td>\n",
       "      <td>2</td>\n",
       "      <td>0.500000</td>\n",
       "    </tr>\n",
       "    <tr>\n",
       "      <th>26752</th>\n",
       "      <td>49650</td>\n",
       "      <td>1</td>\n",
       "      <td>california_...</td>\n",
       "      <td>1</td>\n",
       "      <td>1.000000</td>\n",
       "    </tr>\n",
       "    <tr>\n",
       "      <th>26754</th>\n",
       "      <td>48</td>\n",
       "      <td>1</td>\n",
       "      <td>school_glue...</td>\n",
       "      <td>1</td>\n",
       "      <td>1.000000</td>\n",
       "    </tr>\n",
       "    <tr>\n",
       "      <th>26758</th>\n",
       "      <td>21942</td>\n",
       "      <td>1</td>\n",
       "      <td>dry_roasted...</td>\n",
       "      <td>1</td>\n",
       "      <td>1.000000</td>\n",
       "    </tr>\n",
       "  </tbody>\n",
       "</table>\n",
       "<p>2121 rows × 5 columns</p>\n",
       "</div>"
      ],
      "text/plain": [
       "       product_id  first_add_count    product_name  total_orders  first_add_rate\n",
       "99          20940             475   organic_low...          1174        0.404600\n",
       "167         22802             331    mineral_water           856        0.386682\n",
       "185         40939             299   drinking_water           773        0.386805\n",
       "190         45190             295            vodka           793        0.372005\n",
       "396         35470             163    water_mineral           331        0.492447\n",
       "...           ...             ...              ...           ...             ...\n",
       "26748       34074               1   16_bean_sou...             1        1.000000\n",
       "26750       49685               1   en_croute_r...             2        0.500000\n",
       "26752       49650               1   california_...             1        1.000000\n",
       "26754          48               1   school_glue...             1        1.000000\n",
       "26758       21942               1   dry_roasted...             1        1.000000\n",
       "\n",
       "[2121 rows x 5 columns]"
      ]
     },
     "execution_count": 32,
     "metadata": {},
     "output_type": "execute_result"
    }
   ],
   "source": [
    "outlier_limit_bounds(df_product_preference, 'first_add_rate', bound='upper')"
   ]
  },
  {
   "cell_type": "markdown",
   "id": "c0d25a35",
   "metadata": {},
   "source": [
    "#### 3.1.5 Descriptive statistics for Product Purchase Quantity"
   ]
  },
  {
   "cell_type": "code",
   "execution_count": 34,
   "id": "53d03091",
   "metadata": {},
   "outputs": [
    {
     "data": {
      "application/vnd.microsoft.datawrangler.viewer.v0+json": {
       "columns": [
        {
         "name": "index",
         "rawType": "object",
         "type": "string"
        },
        {
         "name": "total_products",
         "rawType": "float64",
         "type": "float"
        }
       ],
       "ref": "c3179861-4fd8-4639-a531-768eb79f13f4",
       "rows": [
        [
         "count",
         "450046.0"
        ],
        [
         "mean",
         "10.098983215049127"
        ],
        [
         "std",
         "7.540206471179234"
        ],
        [
         "min",
         "1.0"
        ],
        [
         "25%",
         "5.0"
        ],
        [
         "50%",
         "8.0"
        ],
        [
         "75%",
         "14.0"
        ],
        [
         "max",
         "127.0"
        ]
       ],
       "shape": {
        "columns": 1,
        "rows": 8
       }
      },
      "text/plain": [
       "count    450046.000000\n",
       "mean         10.098983\n",
       "std           7.540206\n",
       "min           1.000000\n",
       "25%           5.000000\n",
       "50%           8.000000\n",
       "75%          14.000000\n",
       "max         127.000000\n",
       "Name: total_products, dtype: float64"
      ]
     },
     "execution_count": 34,
     "metadata": {},
     "output_type": "execute_result"
    }
   ],
   "source": [
    "df_product_purchase_quantity['total_products'].describe()"
   ]
  },
  {
   "cell_type": "code",
   "execution_count": 35,
   "id": "1430bc5e",
   "metadata": {},
   "outputs": [
    {
     "data": {
      "text/html": [
       "> Coefficient of variation for column <i>'total_products'</i>: <b>74.66 %</b>"
      ],
      "text/plain": [
       "<IPython.core.display.HTML object>"
      ]
     },
     "metadata": {},
     "output_type": "display_data"
    },
    {
     "data": {
      "text/html": [
       "> High variability: <i>mean may be misleading</i>. Recommended central measure: <b>median</b>."
      ],
      "text/plain": [
       "<IPython.core.display.HTML object>"
      ]
     },
     "metadata": {},
     "output_type": "display_data"
    },
    {
     "name": "stdout",
     "output_type": "stream",
     "text": [
      "\n"
     ]
    }
   ],
   "source": [
    "# Evaluate the coefficient of variation to select the proper measure of central tendency\n",
    "evaluate_central_trend(df_product_purchase_quantity, 'total_products')"
   ]
  },
  {
   "cell_type": "code",
   "execution_count": 38,
   "id": "7777bbac",
   "metadata": {},
   "outputs": [
    {
     "data": {
      "text/html": [
       "> Upper outlier threshold for column <i>'total_products'</i>: <b>27.5</b>"
      ],
      "text/plain": [
       "<IPython.core.display.HTML object>"
      ]
     },
     "metadata": {},
     "output_type": "display_data"
    },
    {
     "data": {
      "application/vnd.microsoft.datawrangler.viewer.v0+json": {
       "columns": [
        {
         "name": "index",
         "rawType": "int64",
         "type": "integer"
        },
        {
         "name": "order_id",
         "rawType": "int64",
         "type": "integer"
        },
        {
         "name": "total_products",
         "rawType": "int64",
         "type": "integer"
        }
       ],
       "ref": "c37306d2-d446-4cfd-a948-8c9955c5e276",
       "rows": [
        [
         "40",
         "315",
         "38"
        ],
        [
         "81",
         "549",
         "36"
        ],
        [
         "106",
         "742",
         "45"
        ],
        [
         "109",
         "771",
         "31"
        ],
        [
         "154",
         "1115",
         "33"
        ],
        [
         "220",
         "1497",
         "37"
        ],
        [
         "223",
         "1509",
         "52"
        ],
        [
         "234",
         "1581",
         "30"
        ],
        [
         "276",
         "1870",
         "38"
        ],
        [
         "309",
         "2139",
         "30"
        ],
        [
         "343",
         "2441",
         "45"
        ],
        [
         "360",
         "2626",
         "33"
        ],
        [
         "373",
         "2717",
         "38"
        ],
        [
         "427",
         "3162",
         "41"
        ],
        [
         "487",
         "3647",
         "28"
        ],
        [
         "521",
         "3935",
         "34"
        ],
        [
         "614",
         "4669",
         "41"
        ],
        [
         "615",
         "4670",
         "29"
        ],
        [
         "636",
         "4837",
         "28"
        ],
        [
         "656",
         "4996",
         "29"
        ],
        [
         "680",
         "5172",
         "31"
        ],
        [
         "701",
         "5255",
         "35"
        ],
        [
         "732",
         "5452",
         "28"
        ],
        [
         "742",
         "5509",
         "28"
        ],
        [
         "788",
         "5909",
         "32"
        ],
        [
         "902",
         "6705",
         "33"
        ],
        [
         "972",
         "7186",
         "32"
        ],
        [
         "991",
         "7310",
         "31"
        ],
        [
         "1056",
         "7810",
         "32"
        ],
        [
         "1084",
         "8026",
         "37"
        ],
        [
         "1235",
         "9048",
         "30"
        ],
        [
         "1250",
         "9172",
         "33"
        ],
        [
         "1259",
         "9239",
         "32"
        ],
        [
         "1266",
         "9289",
         "29"
        ],
        [
         "1274",
         "9310",
         "65"
        ],
        [
         "1327",
         "9693",
         "40"
        ],
        [
         "1362",
         "10013",
         "33"
        ],
        [
         "1374",
         "10114",
         "29"
        ],
        [
         "1379",
         "10153",
         "28"
        ],
        [
         "1397",
         "10272",
         "28"
        ],
        [
         "1453",
         "10706",
         "28"
        ],
        [
         "1481",
         "10882",
         "33"
        ],
        [
         "1503",
         "11048",
         "38"
        ],
        [
         "1513",
         "11130",
         "32"
        ],
        [
         "1549",
         "11413",
         "29"
        ],
        [
         "1569",
         "11584",
         "44"
        ],
        [
         "1637",
         "12033",
         "34"
        ],
        [
         "1720",
         "12623",
         "34"
        ],
        [
         "1728",
         "12669",
         "31"
        ],
        [
         "1736",
         "12725",
         "31"
        ]
       ],
       "shape": {
        "columns": 2,
        "rows": 14903
       }
      },
      "text/html": [
       "<div>\n",
       "<style scoped>\n",
       "    .dataframe tbody tr th:only-of-type {\n",
       "        vertical-align: middle;\n",
       "    }\n",
       "\n",
       "    .dataframe tbody tr th {\n",
       "        vertical-align: top;\n",
       "    }\n",
       "\n",
       "    .dataframe thead th {\n",
       "        text-align: right;\n",
       "    }\n",
       "</style>\n",
       "<table border=\"1\" class=\"dataframe\">\n",
       "  <thead>\n",
       "    <tr style=\"text-align: right;\">\n",
       "      <th></th>\n",
       "      <th>order_id</th>\n",
       "      <th>total_products</th>\n",
       "    </tr>\n",
       "  </thead>\n",
       "  <tbody>\n",
       "    <tr>\n",
       "      <th>40</th>\n",
       "      <td>315</td>\n",
       "      <td>38</td>\n",
       "    </tr>\n",
       "    <tr>\n",
       "      <th>81</th>\n",
       "      <td>549</td>\n",
       "      <td>36</td>\n",
       "    </tr>\n",
       "    <tr>\n",
       "      <th>106</th>\n",
       "      <td>742</td>\n",
       "      <td>45</td>\n",
       "    </tr>\n",
       "    <tr>\n",
       "      <th>109</th>\n",
       "      <td>771</td>\n",
       "      <td>31</td>\n",
       "    </tr>\n",
       "    <tr>\n",
       "      <th>154</th>\n",
       "      <td>1115</td>\n",
       "      <td>33</td>\n",
       "    </tr>\n",
       "    <tr>\n",
       "      <th>...</th>\n",
       "      <td>...</td>\n",
       "      <td>...</td>\n",
       "    </tr>\n",
       "    <tr>\n",
       "      <th>449902</th>\n",
       "      <td>3420040</td>\n",
       "      <td>28</td>\n",
       "    </tr>\n",
       "    <tr>\n",
       "      <th>449963</th>\n",
       "      <td>3420499</td>\n",
       "      <td>29</td>\n",
       "    </tr>\n",
       "    <tr>\n",
       "      <th>449974</th>\n",
       "      <td>3420540</td>\n",
       "      <td>33</td>\n",
       "    </tr>\n",
       "    <tr>\n",
       "      <th>449993</th>\n",
       "      <td>3420673</td>\n",
       "      <td>28</td>\n",
       "    </tr>\n",
       "    <tr>\n",
       "      <th>450025</th>\n",
       "      <td>3420933</td>\n",
       "      <td>28</td>\n",
       "    </tr>\n",
       "  </tbody>\n",
       "</table>\n",
       "<p>14903 rows × 2 columns</p>\n",
       "</div>"
      ],
      "text/plain": [
       "        order_id  total_products\n",
       "40           315              38\n",
       "81           549              36\n",
       "106          742              45\n",
       "109          771              31\n",
       "154         1115              33\n",
       "...          ...             ...\n",
       "449902   3420040              28\n",
       "449963   3420499              29\n",
       "449974   3420540              33\n",
       "449993   3420673              28\n",
       "450025   3420933              28\n",
       "\n",
       "[14903 rows x 2 columns]"
      ]
     },
     "execution_count": 38,
     "metadata": {},
     "output_type": "execute_result"
    }
   ],
   "source": [
    "# Evaluate boundary thresholds and detect potential outliers\n",
    "outlier_limit_bounds(df_product_purchase_quantity, 'total_products', bound='upper')"
   ]
  },
  {
   "cell_type": "markdown",
   "id": "5cdaa217",
   "metadata": {},
   "source": [
    "#### 3.1.6 Descriptive statistics for Product reorder rate by position"
   ]
  },
  {
   "cell_type": "code",
   "execution_count": 39,
   "id": "8d396fe9",
   "metadata": {},
   "outputs": [
    {
     "data": {
      "application/vnd.microsoft.datawrangler.viewer.v0+json": {
       "columns": [
        {
         "name": "index",
         "rawType": "object",
         "type": "string"
        },
        {
         "name": "add_to_cart_order",
         "rawType": "float64",
         "type": "float"
        },
        {
         "name": "reorder_rate",
         "rawType": "float64",
         "type": "float"
        },
        {
         "name": "product_count",
         "rawType": "float64",
         "type": "float"
        }
       ],
       "ref": "373aa7df-4aba-4ead-aad6-910ce447e426",
       "rows": [
        [
         "count",
         "64.0",
         "64.0",
         "64.0"
        ],
        [
         "mean",
         "32.5",
         "0.47109943259583165",
         "71002.671875"
        ],
        [
         "std",
         "18.618986725025255",
         "0.07435623584443622",
         "120986.306623578"
        ],
        [
         "min",
         "1.0",
         "0.3596491228070175",
         "75.0"
        ],
        [
         "25%",
         "16.75",
         "0.41645244140823423",
         "643.5"
        ],
        [
         "50%",
         "32.5",
         "0.44715112453308303",
         "7335.5"
        ],
        [
         "75%",
         "48.25",
         "0.49774291251914676",
         "78626.25"
        ],
        [
         "max",
         "64.0",
         "0.6786195188936242",
         "450046.0"
        ]
       ],
       "shape": {
        "columns": 3,
        "rows": 8
       }
      },
      "text/html": [
       "<div>\n",
       "<style scoped>\n",
       "    .dataframe tbody tr th:only-of-type {\n",
       "        vertical-align: middle;\n",
       "    }\n",
       "\n",
       "    .dataframe tbody tr th {\n",
       "        vertical-align: top;\n",
       "    }\n",
       "\n",
       "    .dataframe thead th {\n",
       "        text-align: right;\n",
       "    }\n",
       "</style>\n",
       "<table border=\"1\" class=\"dataframe\">\n",
       "  <thead>\n",
       "    <tr style=\"text-align: right;\">\n",
       "      <th></th>\n",
       "      <th>add_to_cart_order</th>\n",
       "      <th>reorder_rate</th>\n",
       "      <th>product_count</th>\n",
       "    </tr>\n",
       "  </thead>\n",
       "  <tbody>\n",
       "    <tr>\n",
       "      <th>count</th>\n",
       "      <td>64.000000</td>\n",
       "      <td>64.000000</td>\n",
       "      <td>64.000000</td>\n",
       "    </tr>\n",
       "    <tr>\n",
       "      <th>mean</th>\n",
       "      <td>32.500000</td>\n",
       "      <td>0.471099</td>\n",
       "      <td>71002.671875</td>\n",
       "    </tr>\n",
       "    <tr>\n",
       "      <th>std</th>\n",
       "      <td>18.618987</td>\n",
       "      <td>0.074356</td>\n",
       "      <td>120986.306624</td>\n",
       "    </tr>\n",
       "    <tr>\n",
       "      <th>min</th>\n",
       "      <td>1.000000</td>\n",
       "      <td>0.359649</td>\n",
       "      <td>75.000000</td>\n",
       "    </tr>\n",
       "    <tr>\n",
       "      <th>25%</th>\n",
       "      <td>16.750000</td>\n",
       "      <td>0.416452</td>\n",
       "      <td>643.500000</td>\n",
       "    </tr>\n",
       "    <tr>\n",
       "      <th>50%</th>\n",
       "      <td>32.500000</td>\n",
       "      <td>0.447151</td>\n",
       "      <td>7335.500000</td>\n",
       "    </tr>\n",
       "    <tr>\n",
       "      <th>75%</th>\n",
       "      <td>48.250000</td>\n",
       "      <td>0.497743</td>\n",
       "      <td>78626.250000</td>\n",
       "    </tr>\n",
       "    <tr>\n",
       "      <th>max</th>\n",
       "      <td>64.000000</td>\n",
       "      <td>0.678620</td>\n",
       "      <td>450046.000000</td>\n",
       "    </tr>\n",
       "  </tbody>\n",
       "</table>\n",
       "</div>"
      ],
      "text/plain": [
       "       add_to_cart_order  reorder_rate  product_count\n",
       "count       64.000000        64.000000      64.000000\n",
       "mean        32.500000         0.471099   71002.671875\n",
       "std         18.618987         0.074356  120986.306624\n",
       "min          1.000000         0.359649      75.000000\n",
       "25%         16.750000         0.416452     643.500000\n",
       "50%         32.500000         0.447151    7335.500000\n",
       "75%         48.250000         0.497743   78626.250000\n",
       "max         64.000000         0.678620  450046.000000"
      ]
     },
     "execution_count": 39,
     "metadata": {},
     "output_type": "execute_result"
    }
   ],
   "source": [
    "df_product_reorder_rate_by_position.describe()"
   ]
  },
  {
   "cell_type": "code",
   "execution_count": 40,
   "id": "d28f3959",
   "metadata": {},
   "outputs": [
    {
     "data": {
      "text/html": [
       "> Coefficient of variation for column <i>'add_to_cart_order'</i>: <b>57.29 %</b>"
      ],
      "text/plain": [
       "<IPython.core.display.HTML object>"
      ]
     },
     "metadata": {},
     "output_type": "display_data"
    },
    {
     "data": {
      "text/html": [
       "> High variability: <i>mean may be misleading</i>. Recommended central measure: <b>median</b>."
      ],
      "text/plain": [
       "<IPython.core.display.HTML object>"
      ]
     },
     "metadata": {},
     "output_type": "display_data"
    },
    {
     "name": "stdout",
     "output_type": "stream",
     "text": [
      "\n"
     ]
    }
   ],
   "source": [
    "# Evaluate the coefficient of variation to select the proper measure of central tendency\n",
    "evaluate_central_trend(df_product_reorder_rate_by_position, 'add_to_cart_order')"
   ]
  },
  {
   "cell_type": "code",
   "execution_count": 41,
   "id": "6b693f23",
   "metadata": {},
   "outputs": [
    {
     "data": {
      "text/html": [
       "> Coefficient of variation for column <i>'reorder_rate'</i>: <b>15.78 %</b>"
      ],
      "text/plain": [
       "<IPython.core.display.HTML object>"
      ]
     },
     "metadata": {},
     "output_type": "display_data"
    },
    {
     "data": {
      "text/html": [
       "> Moderate variability: <i>reasonably reliable mean</i>. Recommended central measure: <b>mean</b>."
      ],
      "text/plain": [
       "<IPython.core.display.HTML object>"
      ]
     },
     "metadata": {},
     "output_type": "display_data"
    },
    {
     "name": "stdout",
     "output_type": "stream",
     "text": [
      "\n"
     ]
    }
   ],
   "source": [
    "evaluate_central_trend(df_product_reorder_rate_by_position, 'reorder_rate')"
   ]
  },
  {
   "cell_type": "code",
   "execution_count": 42,
   "id": "162ab725",
   "metadata": {},
   "outputs": [
    {
     "data": {
      "text/html": [
       "> Coefficient of variation for column <i>'product_count'</i>: <b>170.40 %</b>"
      ],
      "text/plain": [
       "<IPython.core.display.HTML object>"
      ]
     },
     "metadata": {},
     "output_type": "display_data"
    },
    {
     "data": {
      "text/html": [
       "> High variability: <i>mean may be misleading</i>. Recommended central measure: <b>median</b>."
      ],
      "text/plain": [
       "<IPython.core.display.HTML object>"
      ]
     },
     "metadata": {},
     "output_type": "display_data"
    },
    {
     "name": "stdout",
     "output_type": "stream",
     "text": [
      "\n"
     ]
    }
   ],
   "source": [
    "evaluate_central_trend(df_product_reorder_rate_by_position, 'product_count')"
   ]
  },
  {
   "cell_type": "code",
   "execution_count": 47,
   "id": "cc7d920a",
   "metadata": {},
   "outputs": [
    {
     "data": {
      "text/html": [
       "> Lower outlier threshold for column <i>'add_to_cart_order'</i>: <b>0</b>"
      ],
      "text/plain": [
       "<IPython.core.display.HTML object>"
      ]
     },
     "metadata": {},
     "output_type": "display_data"
    },
    {
     "data": {
      "text/html": [
       "> Upper outlier threshold for column <i>'add_to_cart_order'</i>: <b>95.5</b>"
      ],
      "text/plain": [
       "<IPython.core.display.HTML object>"
      ]
     },
     "metadata": {},
     "output_type": "display_data"
    },
    {
     "data": {
      "text/html": [
       "> No outliers found in column <i>'add_to_cart_order'</i>."
      ],
      "text/plain": [
       "<IPython.core.display.HTML object>"
      ]
     },
     "metadata": {},
     "output_type": "display_data"
    },
    {
     "data": {
      "text/plain": [
       "(Empty DataFrame\n",
       " Columns: [add_to_cart_order, reorder_rate, product_count]\n",
       " Index: [],\n",
       " Empty DataFrame\n",
       " Columns: [add_to_cart_order, reorder_rate, product_count]\n",
       " Index: [])"
      ]
     },
     "execution_count": 47,
     "metadata": {},
     "output_type": "execute_result"
    }
   ],
   "source": [
    "# Evaluate boundary thresholds and detect potential outliers\n",
    "outlier_limit_bounds(df_product_reorder_rate_by_position, 'add_to_cart_order', bound='both', clamp_zero=True)"
   ]
  },
  {
   "cell_type": "code",
   "execution_count": 48,
   "id": "ede2caa5",
   "metadata": {},
   "outputs": [
    {
     "data": {
      "text/html": [
       "> Lower outlier threshold for column <i>'reorder_rate'</i>: <b>0.29451673474186546</b>"
      ],
      "text/plain": [
       "<IPython.core.display.HTML object>"
      ]
     },
     "metadata": {},
     "output_type": "display_data"
    },
    {
     "data": {
      "text/html": [
       "> Upper outlier threshold for column <i>'reorder_rate'</i>: <b>0.6196786191855156</b>"
      ],
      "text/plain": [
       "<IPython.core.display.HTML object>"
      ]
     },
     "metadata": {},
     "output_type": "display_data"
    },
    {
     "data": {
      "text/plain": [
       "(Empty DataFrame\n",
       " Columns: [add_to_cart_order, reorder_rate, product_count]\n",
       " Index: [],\n",
       "    add_to_cart_order  reorder_rate  product_count\n",
       " 0               1         0.678620         450046\n",
       " 1               2         0.677059         428199\n",
       " 2               3         0.658986         401907\n",
       " 3               4         0.637511         372861)"
      ]
     },
     "execution_count": 48,
     "metadata": {},
     "output_type": "execute_result"
    }
   ],
   "source": [
    "outlier_limit_bounds(df_product_reorder_rate_by_position, 'reorder_rate', bound='both')"
   ]
  },
  {
   "cell_type": "code",
   "execution_count": 51,
   "id": "a4bf76c8",
   "metadata": {},
   "outputs": [
    {
     "data": {
      "text/html": [
       "> Upper outlier threshold for column <i>'product_count'</i>: <b>195600.375</b>"
      ],
      "text/plain": [
       "<IPython.core.display.HTML object>"
      ]
     },
     "metadata": {},
     "output_type": "display_data"
    },
    {
     "data": {
      "application/vnd.microsoft.datawrangler.viewer.v0+json": {
       "columns": [
        {
         "name": "index",
         "rawType": "int64",
         "type": "integer"
        },
        {
         "name": "add_to_cart_order",
         "rawType": "int64",
         "type": "integer"
        },
        {
         "name": "reorder_rate",
         "rawType": "float64",
         "type": "float"
        },
        {
         "name": "product_count",
         "rawType": "int64",
         "type": "integer"
        }
       ],
       "ref": "d0bed058-f457-4297-ada5-690b314a53cb",
       "rows": [
        [
         "0",
         "1",
         "0.6786195188936242",
         "450046"
        ],
        [
         "1",
         "2",
         "0.6770590309645749",
         "428199"
        ],
        [
         "2",
         "3",
         "0.6589857852687313",
         "401907"
        ],
        [
         "3",
         "4",
         "0.6375110295793875",
         "372861"
        ],
        [
         "4",
         "5",
         "0.617482965533181",
         "341807"
        ],
        [
         "5",
         "6",
         "0.6023350673155116",
         "309884"
        ],
        [
         "6",
         "7",
         "0.5867117683851811",
         "278186"
        ],
        [
         "7",
         "8",
         "0.5743398392652124",
         "247364"
        ],
        [
         "8",
         "9",
         "0.5628150348451959",
         "218825"
        ]
       ],
       "shape": {
        "columns": 3,
        "rows": 9
       }
      },
      "text/html": [
       "<div>\n",
       "<style scoped>\n",
       "    .dataframe tbody tr th:only-of-type {\n",
       "        vertical-align: middle;\n",
       "    }\n",
       "\n",
       "    .dataframe tbody tr th {\n",
       "        vertical-align: top;\n",
       "    }\n",
       "\n",
       "    .dataframe thead th {\n",
       "        text-align: right;\n",
       "    }\n",
       "</style>\n",
       "<table border=\"1\" class=\"dataframe\">\n",
       "  <thead>\n",
       "    <tr style=\"text-align: right;\">\n",
       "      <th></th>\n",
       "      <th>add_to_cart_order</th>\n",
       "      <th>reorder_rate</th>\n",
       "      <th>product_count</th>\n",
       "    </tr>\n",
       "  </thead>\n",
       "  <tbody>\n",
       "    <tr>\n",
       "      <th>0</th>\n",
       "      <td>1</td>\n",
       "      <td>0.678620</td>\n",
       "      <td>450046</td>\n",
       "    </tr>\n",
       "    <tr>\n",
       "      <th>1</th>\n",
       "      <td>2</td>\n",
       "      <td>0.677059</td>\n",
       "      <td>428199</td>\n",
       "    </tr>\n",
       "    <tr>\n",
       "      <th>2</th>\n",
       "      <td>3</td>\n",
       "      <td>0.658986</td>\n",
       "      <td>401907</td>\n",
       "    </tr>\n",
       "    <tr>\n",
       "      <th>3</th>\n",
       "      <td>4</td>\n",
       "      <td>0.637511</td>\n",
       "      <td>372861</td>\n",
       "    </tr>\n",
       "    <tr>\n",
       "      <th>4</th>\n",
       "      <td>5</td>\n",
       "      <td>0.617483</td>\n",
       "      <td>341807</td>\n",
       "    </tr>\n",
       "    <tr>\n",
       "      <th>5</th>\n",
       "      <td>6</td>\n",
       "      <td>0.602335</td>\n",
       "      <td>309884</td>\n",
       "    </tr>\n",
       "    <tr>\n",
       "      <th>6</th>\n",
       "      <td>7</td>\n",
       "      <td>0.586712</td>\n",
       "      <td>278186</td>\n",
       "    </tr>\n",
       "    <tr>\n",
       "      <th>7</th>\n",
       "      <td>8</td>\n",
       "      <td>0.574340</td>\n",
       "      <td>247364</td>\n",
       "    </tr>\n",
       "    <tr>\n",
       "      <th>8</th>\n",
       "      <td>9</td>\n",
       "      <td>0.562815</td>\n",
       "      <td>218825</td>\n",
       "    </tr>\n",
       "  </tbody>\n",
       "</table>\n",
       "</div>"
      ],
      "text/plain": [
       "   add_to_cart_order  reorder_rate  product_count\n",
       "0               1         0.678620         450046\n",
       "1               2         0.677059         428199\n",
       "2               3         0.658986         401907\n",
       "3               4         0.637511         372861\n",
       "4               5         0.617483         341807\n",
       "5               6         0.602335         309884\n",
       "6               7         0.586712         278186\n",
       "7               8         0.574340         247364\n",
       "8               9         0.562815         218825"
      ]
     },
     "execution_count": 51,
     "metadata": {},
     "output_type": "execute_result"
    }
   ],
   "source": [
    "outlier_limit_bounds(df_product_reorder_rate_by_position, 'product_count', bound='upper')"
   ]
  },
  {
   "cell_type": "markdown",
   "id": "a08a073c",
   "metadata": {},
   "source": [
    "#### 3.1.7 Descriptive statistics for Product Repurchase"
   ]
  },
  {
   "cell_type": "code",
   "execution_count": 54,
   "id": "fc591336",
   "metadata": {},
   "outputs": [
    {
     "data": {
      "application/vnd.microsoft.datawrangler.viewer.v0+json": {
       "columns": [
        {
         "name": "index",
         "rawType": "object",
         "type": "string"
        },
        {
         "name": "times_reordered",
         "rawType": "float64",
         "type": "float"
        },
        {
         "name": "total_orders",
         "rawType": "float64",
         "type": "float"
        },
        {
         "name": "repurchase_rate",
         "rawType": "float64",
         "type": "float"
        }
       ],
       "ref": "e7a18bf3-0de5-4254-9f66-f00d27250513",
       "rows": [
        [
         "count",
         "45573.0",
         "45573.0",
         "45573.0"
        ],
        [
         "mean",
         "58.89096614223334",
         "99.73025695038729",
         "0.38670677893645"
        ],
        [
         "std",
         "526.9430659153699",
         "700.3683412129039",
         "0.27213201708514967"
        ],
        [
         "min",
         "0.0",
         "1.0",
         "0.0"
        ],
        [
         "25%",
         "1.0",
         "3.0",
         "0.1666666666666666"
        ],
        [
         "50%",
         "4.0",
         "10.0",
         "0.4081632653061224"
        ],
        [
         "75%",
         "19.0",
         "42.0",
         "0.5757575757575758"
        ],
        [
         "max",
         "55763.0",
         "66050.0",
         "1.0"
        ]
       ],
       "shape": {
        "columns": 3,
        "rows": 8
       }
      },
      "text/html": [
       "<div>\n",
       "<style scoped>\n",
       "    .dataframe tbody tr th:only-of-type {\n",
       "        vertical-align: middle;\n",
       "    }\n",
       "\n",
       "    .dataframe tbody tr th {\n",
       "        vertical-align: top;\n",
       "    }\n",
       "\n",
       "    .dataframe thead th {\n",
       "        text-align: right;\n",
       "    }\n",
       "</style>\n",
       "<table border=\"1\" class=\"dataframe\">\n",
       "  <thead>\n",
       "    <tr style=\"text-align: right;\">\n",
       "      <th></th>\n",
       "      <th>times_reordered</th>\n",
       "      <th>total_orders</th>\n",
       "      <th>repurchase_rate</th>\n",
       "    </tr>\n",
       "  </thead>\n",
       "  <tbody>\n",
       "    <tr>\n",
       "      <th>count</th>\n",
       "      <td>45573.000000</td>\n",
       "      <td>45573.000000</td>\n",
       "      <td>45573.000000</td>\n",
       "    </tr>\n",
       "    <tr>\n",
       "      <th>mean</th>\n",
       "      <td>58.890966</td>\n",
       "      <td>99.730257</td>\n",
       "      <td>0.386707</td>\n",
       "    </tr>\n",
       "    <tr>\n",
       "      <th>std</th>\n",
       "      <td>526.943066</td>\n",
       "      <td>700.368341</td>\n",
       "      <td>0.272132</td>\n",
       "    </tr>\n",
       "    <tr>\n",
       "      <th>min</th>\n",
       "      <td>0.000000</td>\n",
       "      <td>1.000000</td>\n",
       "      <td>0.000000</td>\n",
       "    </tr>\n",
       "    <tr>\n",
       "      <th>25%</th>\n",
       "      <td>1.000000</td>\n",
       "      <td>3.000000</td>\n",
       "      <td>0.166667</td>\n",
       "    </tr>\n",
       "    <tr>\n",
       "      <th>50%</th>\n",
       "      <td>4.000000</td>\n",
       "      <td>10.000000</td>\n",
       "      <td>0.408163</td>\n",
       "    </tr>\n",
       "    <tr>\n",
       "      <th>75%</th>\n",
       "      <td>19.000000</td>\n",
       "      <td>42.000000</td>\n",
       "      <td>0.575758</td>\n",
       "    </tr>\n",
       "    <tr>\n",
       "      <th>max</th>\n",
       "      <td>55763.000000</td>\n",
       "      <td>66050.000000</td>\n",
       "      <td>1.000000</td>\n",
       "    </tr>\n",
       "  </tbody>\n",
       "</table>\n",
       "</div>"
      ],
      "text/plain": [
       "       times_reordered  total_orders  repurchase_rate\n",
       "count    45573.000000   45573.000000    45573.000000 \n",
       "mean        58.890966      99.730257        0.386707 \n",
       "std        526.943066     700.368341        0.272132 \n",
       "min          0.000000       1.000000        0.000000 \n",
       "25%          1.000000       3.000000        0.166667 \n",
       "50%          4.000000      10.000000        0.408163 \n",
       "75%         19.000000      42.000000        0.575758 \n",
       "max      55763.000000   66050.000000        1.000000 "
      ]
     },
     "execution_count": 54,
     "metadata": {},
     "output_type": "execute_result"
    }
   ],
   "source": [
    "df_product_repurchase[['times_reordered', 'total_orders', 'repurchase_rate']].describe()"
   ]
  },
  {
   "cell_type": "code",
   "execution_count": 55,
   "id": "a2db17c9",
   "metadata": {},
   "outputs": [
    {
     "data": {
      "text/html": [
       "> Coefficient of variation for column <i>'times_reordered'</i>: <b>894.78 %</b>"
      ],
      "text/plain": [
       "<IPython.core.display.HTML object>"
      ]
     },
     "metadata": {},
     "output_type": "display_data"
    },
    {
     "data": {
      "text/html": [
       "> High variability: <i>mean may be misleading</i>. Recommended central measure: <b>median</b>."
      ],
      "text/plain": [
       "<IPython.core.display.HTML object>"
      ]
     },
     "metadata": {},
     "output_type": "display_data"
    },
    {
     "name": "stdout",
     "output_type": "stream",
     "text": [
      "\n"
     ]
    }
   ],
   "source": [
    "# Evaluate the coefficient of variation to select the proper measure of central tendency\n",
    "evaluate_central_trend(df_product_repurchase, 'times_reordered')"
   ]
  },
  {
   "cell_type": "code",
   "execution_count": 56,
   "id": "3f681cab",
   "metadata": {},
   "outputs": [
    {
     "data": {
      "text/html": [
       "> Coefficient of variation for column <i>'total_orders'</i>: <b>702.26 %</b>"
      ],
      "text/plain": [
       "<IPython.core.display.HTML object>"
      ]
     },
     "metadata": {},
     "output_type": "display_data"
    },
    {
     "data": {
      "text/html": [
       "> High variability: <i>mean may be misleading</i>. Recommended central measure: <b>median</b>."
      ],
      "text/plain": [
       "<IPython.core.display.HTML object>"
      ]
     },
     "metadata": {},
     "output_type": "display_data"
    },
    {
     "name": "stdout",
     "output_type": "stream",
     "text": [
      "\n"
     ]
    }
   ],
   "source": [
    "evaluate_central_trend(df_product_repurchase, 'total_orders')"
   ]
  },
  {
   "cell_type": "code",
   "execution_count": 57,
   "id": "822ffc6e",
   "metadata": {},
   "outputs": [
    {
     "data": {
      "text/html": [
       "> Coefficient of variation for column <i>'repurchase_rate'</i>: <b>70.37 %</b>"
      ],
      "text/plain": [
       "<IPython.core.display.HTML object>"
      ]
     },
     "metadata": {},
     "output_type": "display_data"
    },
    {
     "data": {
      "text/html": [
       "> High variability: <i>mean may be misleading</i>. Recommended central measure: <b>median</b>."
      ],
      "text/plain": [
       "<IPython.core.display.HTML object>"
      ]
     },
     "metadata": {},
     "output_type": "display_data"
    },
    {
     "name": "stdout",
     "output_type": "stream",
     "text": [
      "\n"
     ]
    }
   ],
   "source": [
    "evaluate_central_trend(df_product_repurchase, 'repurchase_rate')"
   ]
  },
  {
   "cell_type": "code",
   "execution_count": 61,
   "id": "cf6ca094",
   "metadata": {},
   "outputs": [
    {
     "data": {
      "text/html": [
       "> Upper outlier threshold for column <i>'times_reordered'</i>: <b>46.0</b>"
      ],
      "text/plain": [
       "<IPython.core.display.HTML object>"
      ]
     },
     "metadata": {},
     "output_type": "display_data"
    },
    {
     "data": {
      "application/vnd.microsoft.datawrangler.viewer.v0+json": {
       "columns": [
        {
         "name": "index",
         "rawType": "int64",
         "type": "integer"
        },
        {
         "name": "product_id",
         "rawType": "int64",
         "type": "integer"
        },
        {
         "name": "times_reordered",
         "rawType": "int64",
         "type": "integer"
        },
        {
         "name": "total_orders",
         "rawType": "int64",
         "type": "integer"
        },
        {
         "name": "repurchase_rate",
         "rawType": "float64",
         "type": "float"
        },
        {
         "name": "product_name",
         "rawType": "object",
         "type": "string"
        }
       ],
       "ref": "fc68f33e-940c-4c57-aac0-0348f5db9a5d",
       "rows": [
        [
         "0",
         "1",
         "158",
         "280",
         "0.5642857142857143",
         "chocolate_sandwich_cookies"
        ],
        [
         "7",
         "10",
         "151",
         "337",
         "0.4480712166172106",
         "sparkling_orange_juice_prickly_pear_beverage"
        ],
        [
         "17",
         "23",
         "56",
         "147",
         "0.3809523809523809",
         "organic_turkey_burgers"
        ],
        [
         "19",
         "25",
         "199",
         "295",
         "0.6745762711864407",
         "salted_caramel_lean_protein_fiber_bar"
        ],
        [
         "22",
         "28",
         "60",
         "117",
         "0.5128205128205128",
         "wheat_chex_cereal"
        ],
        [
         "28",
         "34",
         "543",
         "917",
         "0.5921483097055616",
         "peanut_butter_cereal"
        ],
        [
         "31",
         "37",
         "50",
         "110",
         "0.4545454545454545",
         "noodle_soup_mix_with_chicken_broth"
        ],
        [
         "38",
         "45",
         "1677",
         "2594",
         "0.6464919043947571",
         "european_cucumber"
        ],
        [
         "42",
         "49",
         "172",
         "303",
         "0.5676567656765676",
         "vegetarian_grain_meat_sausages_italian_4_ct"
        ],
        [
         "47",
         "54",
         "96",
         "159",
         "0.6037735849056604",
         "24_7_performance_cat_litter"
        ],
        [
         "56",
         "63",
         "82",
         "149",
         "0.5503355704697986",
         "banana_sweet_potato_organic_teething_wafers"
        ],
        [
         "70",
         "79",
         "284",
         "519",
         "0.5472061657032755",
         "wild_albacore_tuna_no_salt_added"
        ],
        [
         "76",
         "87",
         "53",
         "124",
         "0.4274193548387097",
         "classics_earl_grey_tea"
        ],
        [
         "81",
         "93",
         "165",
         "254",
         "0.6496062992125984",
         "uncured_cracked_pepper_beef"
        ],
        [
         "82",
         "94",
         "75",
         "112",
         "0.6696428571428571",
         "organic_blueberry_blitz_fruit_veggie_smoothie_mashups"
        ],
        [
         "83",
         "95",
         "52",
         "368",
         "0.1413043478260869",
         "organic_rice_vinegar"
        ],
        [
         "103",
         "116",
         "385",
         "585",
         "0.6581196581196581",
         "english_muffins"
        ],
        [
         "104",
         "117",
         "419",
         "504",
         "0.8313492063492064",
         "petit_suisse_fruit"
        ],
        [
         "108",
         "121",
         "79",
         "166",
         "0.4759036144578313",
         "sharp_cheddar"
        ],
        [
         "115",
         "128",
         "81",
         "151",
         "0.5364238410596026",
         "organic_wild_blueberries"
        ],
        [
         "117",
         "130",
         "332",
         "514",
         "0.6459143968871596",
         "vanilla_milk_chocolate_almond_ice_cream_bars_multi_pack"
        ],
        [
         "127",
         "141",
         "331",
         "502",
         "0.6593625498007968",
         "restaurant_style_organic_chia_quinoa_tortilla_chips"
        ],
        [
         "133",
         "148",
         "381",
         "680",
         "0.5602941176470588",
         "nectarines"
        ],
        [
         "144",
         "160",
         "84",
         "451",
         "0.1862527716186252",
         "100_recycled_aluminum_foil"
        ],
        [
         "145",
         "162",
         "445",
         "667",
         "0.6671664167916042",
         "organic_mini_homestyle_waffles"
        ],
        [
         "148",
         "165",
         "71",
         "205",
         "0.3463414634146341",
         "wild_chanterelle_mushroom_ravioli"
        ],
        [
         "151",
         "169",
         "130",
         "242",
         "0.5371900826446281",
         "extra_sharp_cheddar_cheese"
        ],
        [
         "164",
         "184",
         "64",
         "151",
         "0.423841059602649",
         "kisses_milk_chocolate_candy"
        ],
        [
         "174",
         "194",
         "48",
         "65",
         "0.7384615384615385",
         "lamb_rib_chops"
        ],
        [
         "176",
         "196",
         "3885",
         "5043",
         "0.7703747769185009",
         "soda"
        ],
        [
         "182",
         "204",
         "322",
         "677",
         "0.4756277695716396",
         "free_clear_natural_laundry_detergent_for_sensitive_skin"
        ],
        [
         "185",
         "207",
         "54",
         "116",
         "0.4655172413793103",
         "minis_candy_bars"
        ],
        [
         "188",
         "210",
         "350",
         "604",
         "0.5794701986754967",
         "homemade_hot_arrabbiata_fra_diavolo_sauce"
        ],
        [
         "203",
         "226",
         "89",
         "234",
         "0.3803418803418803",
         "shaved_parmesan_cheese"
        ],
        [
         "205",
         "228",
         "131",
         "221",
         "0.5927601809954751",
         "organic_soups_lentil"
        ],
        [
         "225",
         "248",
         "394",
         "933",
         "0.4222936763129689",
         "dried_sweetened_cranberries"
        ],
        [
         "234",
         "258",
         "163",
         "294",
         "0.5544217687074829",
         "vegetable_pot_pie"
        ],
        [
         "235",
         "260",
         "2114",
         "3348",
         "0.6314217443249701",
         "cantaloupe"
        ],
        [
         "236",
         "261",
         "103",
         "212",
         "0.4858490566037736",
         "organic_southwestern_burrito"
        ],
        [
         "239",
         "264",
         "260",
         "397",
         "0.654911838790932",
         "non_fat_blueberry_on_the_bottom_greek_yogurt"
        ],
        [
         "245",
         "273",
         "108",
         "191",
         "0.5654450261780105",
         "thin_stackers_brown_rice_salt_free"
        ],
        [
         "246",
         "274",
         "84",
         "315",
         "0.2666666666666666",
         "snack_bags"
        ],
        [
         "248",
         "276",
         "130",
         "350",
         "0.3714285714285714",
         "french_vanilla_ice_cream"
        ],
        [
         "249",
         "277",
         "315",
         "459",
         "0.6862745098039216",
         "diet_root_beer"
        ],
        [
         "252",
         "280",
         "58",
         "156",
         "0.3717948717948718",
         "makeup_remover_cleansing_towelettes"
        ],
        [
         "255",
         "283",
         "194",
         "435",
         "0.4459770114942529",
         "organic_whole_wheat_elbows"
        ],
        [
         "259",
         "287",
         "302",
         "433",
         "0.6974595842956121",
         "turkey"
        ],
        [
         "265",
         "294",
         "80",
         "142",
         "0.5633802816901409",
         "minis_original_saltine_crackers"
        ],
        [
         "278",
         "310",
         "102",
         "159",
         "0.6415094339622641",
         "crackers_puffed_corn_quinoa_sesame"
        ],
        [
         "279",
         "311",
         "660",
         "1161",
         "0.5684754521963824",
         "naturals_savory_turkey_breakfast_sausage"
        ]
       ],
       "shape": {
        "columns": 5,
        "rows": 6738
       }
      },
      "text/html": [
       "<div>\n",
       "<style scoped>\n",
       "    .dataframe tbody tr th:only-of-type {\n",
       "        vertical-align: middle;\n",
       "    }\n",
       "\n",
       "    .dataframe tbody tr th {\n",
       "        vertical-align: top;\n",
       "    }\n",
       "\n",
       "    .dataframe thead th {\n",
       "        text-align: right;\n",
       "    }\n",
       "</style>\n",
       "<table border=\"1\" class=\"dataframe\">\n",
       "  <thead>\n",
       "    <tr style=\"text-align: right;\">\n",
       "      <th></th>\n",
       "      <th>product_id</th>\n",
       "      <th>times_reordered</th>\n",
       "      <th>total_orders</th>\n",
       "      <th>repurchase_rate</th>\n",
       "      <th>product_name</th>\n",
       "    </tr>\n",
       "  </thead>\n",
       "  <tbody>\n",
       "    <tr>\n",
       "      <th>0</th>\n",
       "      <td>1</td>\n",
       "      <td>158</td>\n",
       "      <td>280</td>\n",
       "      <td>0.564286</td>\n",
       "      <td>chocolate_s...</td>\n",
       "    </tr>\n",
       "    <tr>\n",
       "      <th>7</th>\n",
       "      <td>10</td>\n",
       "      <td>151</td>\n",
       "      <td>337</td>\n",
       "      <td>0.448071</td>\n",
       "      <td>sparkling_o...</td>\n",
       "    </tr>\n",
       "    <tr>\n",
       "      <th>17</th>\n",
       "      <td>23</td>\n",
       "      <td>56</td>\n",
       "      <td>147</td>\n",
       "      <td>0.380952</td>\n",
       "      <td>organic_tur...</td>\n",
       "    </tr>\n",
       "    <tr>\n",
       "      <th>19</th>\n",
       "      <td>25</td>\n",
       "      <td>199</td>\n",
       "      <td>295</td>\n",
       "      <td>0.674576</td>\n",
       "      <td>salted_cara...</td>\n",
       "    </tr>\n",
       "    <tr>\n",
       "      <th>22</th>\n",
       "      <td>28</td>\n",
       "      <td>60</td>\n",
       "      <td>117</td>\n",
       "      <td>0.512821</td>\n",
       "      <td>wheat_chex_...</td>\n",
       "    </tr>\n",
       "    <tr>\n",
       "      <th>...</th>\n",
       "      <td>...</td>\n",
       "      <td>...</td>\n",
       "      <td>...</td>\n",
       "      <td>...</td>\n",
       "      <td>...</td>\n",
       "    </tr>\n",
       "    <tr>\n",
       "      <th>45511</th>\n",
       "      <td>49628</td>\n",
       "      <td>448</td>\n",
       "      <td>671</td>\n",
       "      <td>0.667660</td>\n",
       "      <td>yoghurt_blu...</td>\n",
       "    </tr>\n",
       "    <tr>\n",
       "      <th>45522</th>\n",
       "      <td>49640</td>\n",
       "      <td>74</td>\n",
       "      <td>134</td>\n",
       "      <td>0.552239</td>\n",
       "      <td>sourdough_loaf</td>\n",
       "    </tr>\n",
       "    <tr>\n",
       "      <th>45536</th>\n",
       "      <td>49655</td>\n",
       "      <td>56</td>\n",
       "      <td>130</td>\n",
       "      <td>0.430769</td>\n",
       "      <td>apple_cider</td>\n",
       "    </tr>\n",
       "    <tr>\n",
       "      <th>45546</th>\n",
       "      <td>49667</td>\n",
       "      <td>127</td>\n",
       "      <td>236</td>\n",
       "      <td>0.538136</td>\n",
       "      <td>enchilada_w...</td>\n",
       "    </tr>\n",
       "    <tr>\n",
       "      <th>45561</th>\n",
       "      <td>49683</td>\n",
       "      <td>9538</td>\n",
       "      <td>13675</td>\n",
       "      <td>0.697477</td>\n",
       "      <td>cucumber_kirby</td>\n",
       "    </tr>\n",
       "  </tbody>\n",
       "</table>\n",
       "<p>6738 rows × 5 columns</p>\n",
       "</div>"
      ],
      "text/plain": [
       "       product_id  times_reordered  total_orders  repurchase_rate    product_name\n",
       "0               1             158            280        0.564286   chocolate_s...\n",
       "7              10             151            337        0.448071   sparkling_o...\n",
       "17             23              56            147        0.380952   organic_tur...\n",
       "19             25             199            295        0.674576   salted_cara...\n",
       "22             28              60            117        0.512821   wheat_chex_...\n",
       "...           ...             ...            ...             ...              ...\n",
       "45511       49628             448            671        0.667660   yoghurt_blu...\n",
       "45522       49640              74            134        0.552239   sourdough_loaf\n",
       "45536       49655              56            130        0.430769      apple_cider\n",
       "45546       49667             127            236        0.538136   enchilada_w...\n",
       "45561       49683            9538          13675        0.697477   cucumber_kirby\n",
       "\n",
       "[6738 rows x 5 columns]"
      ]
     },
     "execution_count": 61,
     "metadata": {},
     "output_type": "execute_result"
    }
   ],
   "source": [
    "# Evaluate boundary thresholds and detect potential outliers\n",
    "outlier_limit_bounds(df_product_repurchase, 'times_reordered', bound='upper')"
   ]
  },
  {
   "cell_type": "code",
   "execution_count": 64,
   "id": "7498d19b",
   "metadata": {},
   "outputs": [
    {
     "data": {
      "text/html": [
       "> Upper outlier threshold for column <i>'total_orders'</i>: <b>100.5</b>"
      ],
      "text/plain": [
       "<IPython.core.display.HTML object>"
      ]
     },
     "metadata": {},
     "output_type": "display_data"
    },
    {
     "data": {
      "application/vnd.microsoft.datawrangler.viewer.v0+json": {
       "columns": [
        {
         "name": "index",
         "rawType": "int64",
         "type": "integer"
        },
        {
         "name": "product_id",
         "rawType": "int64",
         "type": "integer"
        },
        {
         "name": "times_reordered",
         "rawType": "int64",
         "type": "integer"
        },
        {
         "name": "total_orders",
         "rawType": "int64",
         "type": "integer"
        },
        {
         "name": "repurchase_rate",
         "rawType": "float64",
         "type": "float"
        },
        {
         "name": "product_name",
         "rawType": "object",
         "type": "string"
        }
       ],
       "ref": "5813c9b1-748d-40f1-ae1e-9abedc1b5013",
       "rows": [
        [
         "0",
         "1",
         "158",
         "280",
         "0.5642857142857143",
         "chocolate_sandwich_cookies"
        ],
        [
         "7",
         "10",
         "151",
         "337",
         "0.4480712166172106",
         "sparkling_orange_juice_prickly_pear_beverage"
        ],
        [
         "17",
         "23",
         "56",
         "147",
         "0.3809523809523809",
         "organic_turkey_burgers"
        ],
        [
         "19",
         "25",
         "199",
         "295",
         "0.6745762711864407",
         "salted_caramel_lean_protein_fiber_bar"
        ],
        [
         "22",
         "28",
         "60",
         "117",
         "0.5128205128205128",
         "wheat_chex_cereal"
        ],
        [
         "28",
         "34",
         "543",
         "917",
         "0.5921483097055616",
         "peanut_butter_cereal"
        ],
        [
         "31",
         "37",
         "50",
         "110",
         "0.4545454545454545",
         "noodle_soup_mix_with_chicken_broth"
        ],
        [
         "38",
         "45",
         "1677",
         "2594",
         "0.6464919043947571",
         "european_cucumber"
        ],
        [
         "42",
         "49",
         "172",
         "303",
         "0.5676567656765676",
         "vegetarian_grain_meat_sausages_italian_4_ct"
        ],
        [
         "47",
         "54",
         "96",
         "159",
         "0.6037735849056604",
         "24_7_performance_cat_litter"
        ],
        [
         "56",
         "63",
         "82",
         "149",
         "0.5503355704697986",
         "banana_sweet_potato_organic_teething_wafers"
        ],
        [
         "70",
         "79",
         "284",
         "519",
         "0.5472061657032755",
         "wild_albacore_tuna_no_salt_added"
        ],
        [
         "76",
         "87",
         "53",
         "124",
         "0.4274193548387097",
         "classics_earl_grey_tea"
        ],
        [
         "81",
         "93",
         "165",
         "254",
         "0.6496062992125984",
         "uncured_cracked_pepper_beef"
        ],
        [
         "82",
         "94",
         "75",
         "112",
         "0.6696428571428571",
         "organic_blueberry_blitz_fruit_veggie_smoothie_mashups"
        ],
        [
         "83",
         "95",
         "52",
         "368",
         "0.1413043478260869",
         "organic_rice_vinegar"
        ],
        [
         "103",
         "116",
         "385",
         "585",
         "0.6581196581196581",
         "english_muffins"
        ],
        [
         "104",
         "117",
         "419",
         "504",
         "0.8313492063492064",
         "petit_suisse_fruit"
        ],
        [
         "108",
         "121",
         "79",
         "166",
         "0.4759036144578313",
         "sharp_cheddar"
        ],
        [
         "110",
         "123",
         "8",
         "128",
         "0.0625",
         "sherry_reserve_vinegar"
        ],
        [
         "115",
         "128",
         "81",
         "151",
         "0.5364238410596026",
         "organic_wild_blueberries"
        ],
        [
         "117",
         "130",
         "332",
         "514",
         "0.6459143968871596",
         "vanilla_milk_chocolate_almond_ice_cream_bars_multi_pack"
        ],
        [
         "127",
         "141",
         "331",
         "502",
         "0.6593625498007968",
         "restaurant_style_organic_chia_quinoa_tortilla_chips"
        ],
        [
         "133",
         "148",
         "381",
         "680",
         "0.5602941176470588",
         "nectarines"
        ],
        [
         "144",
         "160",
         "84",
         "451",
         "0.1862527716186252",
         "100_recycled_aluminum_foil"
        ],
        [
         "145",
         "162",
         "445",
         "667",
         "0.6671664167916042",
         "organic_mini_homestyle_waffles"
        ],
        [
         "148",
         "165",
         "71",
         "205",
         "0.3463414634146341",
         "wild_chanterelle_mushroom_ravioli"
        ],
        [
         "151",
         "169",
         "130",
         "242",
         "0.5371900826446281",
         "extra_sharp_cheddar_cheese"
        ],
        [
         "164",
         "184",
         "64",
         "151",
         "0.423841059602649",
         "kisses_milk_chocolate_candy"
        ],
        [
         "176",
         "196",
         "3885",
         "5043",
         "0.7703747769185009",
         "soda"
        ],
        [
         "182",
         "204",
         "322",
         "677",
         "0.4756277695716396",
         "free_clear_natural_laundry_detergent_for_sensitive_skin"
        ],
        [
         "185",
         "207",
         "54",
         "116",
         "0.4655172413793103",
         "minis_candy_bars"
        ],
        [
         "188",
         "210",
         "350",
         "604",
         "0.5794701986754967",
         "homemade_hot_arrabbiata_fra_diavolo_sauce"
        ],
        [
         "203",
         "226",
         "89",
         "234",
         "0.3803418803418803",
         "shaved_parmesan_cheese"
        ],
        [
         "205",
         "228",
         "131",
         "221",
         "0.5927601809954751",
         "organic_soups_lentil"
        ],
        [
         "223",
         "246",
         "29",
         "117",
         "0.2478632478632478",
         "triple_acting_laundry_stain_remover"
        ],
        [
         "225",
         "248",
         "394",
         "933",
         "0.4222936763129689",
         "dried_sweetened_cranberries"
        ],
        [
         "234",
         "258",
         "163",
         "294",
         "0.5544217687074829",
         "vegetable_pot_pie"
        ],
        [
         "235",
         "260",
         "2114",
         "3348",
         "0.6314217443249701",
         "cantaloupe"
        ],
        [
         "236",
         "261",
         "103",
         "212",
         "0.4858490566037736",
         "organic_southwestern_burrito"
        ],
        [
         "239",
         "264",
         "260",
         "397",
         "0.654911838790932",
         "non_fat_blueberry_on_the_bottom_greek_yogurt"
        ],
        [
         "245",
         "273",
         "108",
         "191",
         "0.5654450261780105",
         "thin_stackers_brown_rice_salt_free"
        ],
        [
         "246",
         "274",
         "84",
         "315",
         "0.2666666666666666",
         "snack_bags"
        ],
        [
         "248",
         "276",
         "130",
         "350",
         "0.3714285714285714",
         "french_vanilla_ice_cream"
        ],
        [
         "249",
         "277",
         "315",
         "459",
         "0.6862745098039216",
         "diet_root_beer"
        ],
        [
         "250",
         "278",
         "39",
         "128",
         "0.3046875",
         "instant_mashed_potatoes"
        ],
        [
         "252",
         "280",
         "58",
         "156",
         "0.3717948717948718",
         "makeup_remover_cleansing_towelettes"
        ],
        [
         "255",
         "283",
         "194",
         "435",
         "0.4459770114942529",
         "organic_whole_wheat_elbows"
        ],
        [
         "259",
         "287",
         "302",
         "433",
         "0.6974595842956121",
         "turkey"
        ],
        [
         "265",
         "294",
         "80",
         "142",
         "0.5633802816901409",
         "minis_original_saltine_crackers"
        ]
       ],
       "shape": {
        "columns": 5,
        "rows": 6479
       }
      },
      "text/html": [
       "<div>\n",
       "<style scoped>\n",
       "    .dataframe tbody tr th:only-of-type {\n",
       "        vertical-align: middle;\n",
       "    }\n",
       "\n",
       "    .dataframe tbody tr th {\n",
       "        vertical-align: top;\n",
       "    }\n",
       "\n",
       "    .dataframe thead th {\n",
       "        text-align: right;\n",
       "    }\n",
       "</style>\n",
       "<table border=\"1\" class=\"dataframe\">\n",
       "  <thead>\n",
       "    <tr style=\"text-align: right;\">\n",
       "      <th></th>\n",
       "      <th>product_id</th>\n",
       "      <th>times_reordered</th>\n",
       "      <th>total_orders</th>\n",
       "      <th>repurchase_rate</th>\n",
       "      <th>product_name</th>\n",
       "    </tr>\n",
       "  </thead>\n",
       "  <tbody>\n",
       "    <tr>\n",
       "      <th>0</th>\n",
       "      <td>1</td>\n",
       "      <td>158</td>\n",
       "      <td>280</td>\n",
       "      <td>0.564286</td>\n",
       "      <td>chocolate_s...</td>\n",
       "    </tr>\n",
       "    <tr>\n",
       "      <th>7</th>\n",
       "      <td>10</td>\n",
       "      <td>151</td>\n",
       "      <td>337</td>\n",
       "      <td>0.448071</td>\n",
       "      <td>sparkling_o...</td>\n",
       "    </tr>\n",
       "    <tr>\n",
       "      <th>17</th>\n",
       "      <td>23</td>\n",
       "      <td>56</td>\n",
       "      <td>147</td>\n",
       "      <td>0.380952</td>\n",
       "      <td>organic_tur...</td>\n",
       "    </tr>\n",
       "    <tr>\n",
       "      <th>19</th>\n",
       "      <td>25</td>\n",
       "      <td>199</td>\n",
       "      <td>295</td>\n",
       "      <td>0.674576</td>\n",
       "      <td>salted_cara...</td>\n",
       "    </tr>\n",
       "    <tr>\n",
       "      <th>22</th>\n",
       "      <td>28</td>\n",
       "      <td>60</td>\n",
       "      <td>117</td>\n",
       "      <td>0.512821</td>\n",
       "      <td>wheat_chex_...</td>\n",
       "    </tr>\n",
       "    <tr>\n",
       "      <th>...</th>\n",
       "      <td>...</td>\n",
       "      <td>...</td>\n",
       "      <td>...</td>\n",
       "      <td>...</td>\n",
       "      <td>...</td>\n",
       "    </tr>\n",
       "    <tr>\n",
       "      <th>45522</th>\n",
       "      <td>49640</td>\n",
       "      <td>74</td>\n",
       "      <td>134</td>\n",
       "      <td>0.552239</td>\n",
       "      <td>sourdough_loaf</td>\n",
       "    </tr>\n",
       "    <tr>\n",
       "      <th>45536</th>\n",
       "      <td>49655</td>\n",
       "      <td>56</td>\n",
       "      <td>130</td>\n",
       "      <td>0.430769</td>\n",
       "      <td>apple_cider</td>\n",
       "    </tr>\n",
       "    <tr>\n",
       "      <th>45546</th>\n",
       "      <td>49667</td>\n",
       "      <td>127</td>\n",
       "      <td>236</td>\n",
       "      <td>0.538136</td>\n",
       "      <td>enchilada_w...</td>\n",
       "    </tr>\n",
       "    <tr>\n",
       "      <th>45558</th>\n",
       "      <td>49680</td>\n",
       "      <td>42</td>\n",
       "      <td>147</td>\n",
       "      <td>0.285714</td>\n",
       "      <td>all_natural...</td>\n",
       "    </tr>\n",
       "    <tr>\n",
       "      <th>45561</th>\n",
       "      <td>49683</td>\n",
       "      <td>9538</td>\n",
       "      <td>13675</td>\n",
       "      <td>0.697477</td>\n",
       "      <td>cucumber_kirby</td>\n",
       "    </tr>\n",
       "  </tbody>\n",
       "</table>\n",
       "<p>6479 rows × 5 columns</p>\n",
       "</div>"
      ],
      "text/plain": [
       "       product_id  times_reordered  total_orders  repurchase_rate    product_name\n",
       "0               1             158            280        0.564286   chocolate_s...\n",
       "7              10             151            337        0.448071   sparkling_o...\n",
       "17             23              56            147        0.380952   organic_tur...\n",
       "19             25             199            295        0.674576   salted_cara...\n",
       "22             28              60            117        0.512821   wheat_chex_...\n",
       "...           ...             ...            ...             ...              ...\n",
       "45522       49640              74            134        0.552239   sourdough_loaf\n",
       "45536       49655              56            130        0.430769      apple_cider\n",
       "45546       49667             127            236        0.538136   enchilada_w...\n",
       "45558       49680              42            147        0.285714   all_natural...\n",
       "45561       49683            9538          13675        0.697477   cucumber_kirby\n",
       "\n",
       "[6479 rows x 5 columns]"
      ]
     },
     "execution_count": 64,
     "metadata": {},
     "output_type": "execute_result"
    }
   ],
   "source": [
    "outlier_limit_bounds(df_product_repurchase, 'total_orders', bound='upper')"
   ]
  },
  {
   "cell_type": "code",
   "execution_count": 68,
   "id": "8736f130",
   "metadata": {},
   "outputs": [
    {
     "data": {
      "text/html": [
       "> Lower outlier threshold for column <i>'repurchase_rate'</i>: <b>0</b>"
      ],
      "text/plain": [
       "<IPython.core.display.HTML object>"
      ]
     },
     "metadata": {},
     "output_type": "display_data"
    },
    {
     "data": {
      "text/html": [
       "> Upper outlier threshold for column <i>'repurchase_rate'</i>: <b>1.1893939393939394</b>"
      ],
      "text/plain": [
       "<IPython.core.display.HTML object>"
      ]
     },
     "metadata": {},
     "output_type": "display_data"
    },
    {
     "data": {
      "text/html": [
       "> No outliers found in column <i>'repurchase_rate'</i>."
      ],
      "text/plain": [
       "<IPython.core.display.HTML object>"
      ]
     },
     "metadata": {},
     "output_type": "display_data"
    },
    {
     "data": {
      "text/plain": [
       "(Empty DataFrame\n",
       " Columns: [product_id, times_reordered, total_orders, repurchase_rate, product_name]\n",
       " Index: [],\n",
       " Empty DataFrame\n",
       " Columns: [product_id, times_reordered, total_orders, repurchase_rate, product_name]\n",
       " Index: [])"
      ]
     },
     "execution_count": 68,
     "metadata": {},
     "output_type": "execute_result"
    }
   ],
   "source": [
    "outlier_limit_bounds(df_product_repurchase, 'repurchase_rate', bound='both', clamp_zero=True)"
   ]
  },
  {
   "cell_type": "markdown",
   "id": "e8e9ae95",
   "metadata": {},
   "source": [
    "#### 3.1.8 Descriptive statistics for Product User Segment Repurchase Rate"
   ]
  },
  {
   "cell_type": "code",
   "execution_count": 70,
   "id": "1ab822ff",
   "metadata": {},
   "outputs": [
    {
     "data": {
      "application/vnd.microsoft.datawrangler.viewer.v0+json": {
       "columns": [
        {
         "name": "index",
         "rawType": "object",
         "type": "string"
        },
        {
         "name": "total_reorders",
         "rawType": "float64",
         "type": "float"
        },
        {
         "name": "total_products",
         "rawType": "float64",
         "type": "float"
        },
        {
         "name": "repurchase_rate",
         "rawType": "float64",
         "type": "float"
        }
       ],
       "ref": "4816a87d-3631-47c9-a9ac-2cbe23cfb639",
       "rows": [
        [
         "count",
         "149626.0",
         "149626.0",
         "149626.0"
        ],
        [
         "mean",
         "17.93697619397698",
         "30.375783620493763",
         "0.4948531736151642"
        ],
        [
         "std",
         "27.793624661655357",
         "35.873511362463795",
         "0.29268506149487494"
        ],
        [
         "min",
         "0.0",
         "1.0",
         "0.0"
        ],
        [
         "25%",
         "2.0",
         "9.0",
         "0.2727272727272727"
        ],
        [
         "50%",
         "8.0",
         "18.0",
         "0.5"
        ],
        [
         "75%",
         "21.0",
         "38.0",
         "0.7241379310344828"
        ],
        [
         "max",
         "477.0",
         "580.0",
         "1.0"
        ]
       ],
       "shape": {
        "columns": 3,
        "rows": 8
       }
      },
      "text/html": [
       "<div>\n",
       "<style scoped>\n",
       "    .dataframe tbody tr th:only-of-type {\n",
       "        vertical-align: middle;\n",
       "    }\n",
       "\n",
       "    .dataframe tbody tr th {\n",
       "        vertical-align: top;\n",
       "    }\n",
       "\n",
       "    .dataframe thead th {\n",
       "        text-align: right;\n",
       "    }\n",
       "</style>\n",
       "<table border=\"1\" class=\"dataframe\">\n",
       "  <thead>\n",
       "    <tr style=\"text-align: right;\">\n",
       "      <th></th>\n",
       "      <th>total_reorders</th>\n",
       "      <th>total_products</th>\n",
       "      <th>repurchase_rate</th>\n",
       "    </tr>\n",
       "  </thead>\n",
       "  <tbody>\n",
       "    <tr>\n",
       "      <th>count</th>\n",
       "      <td>149626.000000</td>\n",
       "      <td>149626.000000</td>\n",
       "      <td>149626.000000</td>\n",
       "    </tr>\n",
       "    <tr>\n",
       "      <th>mean</th>\n",
       "      <td>17.936976</td>\n",
       "      <td>30.375784</td>\n",
       "      <td>0.494853</td>\n",
       "    </tr>\n",
       "    <tr>\n",
       "      <th>std</th>\n",
       "      <td>27.793625</td>\n",
       "      <td>35.873511</td>\n",
       "      <td>0.292685</td>\n",
       "    </tr>\n",
       "    <tr>\n",
       "      <th>min</th>\n",
       "      <td>0.000000</td>\n",
       "      <td>1.000000</td>\n",
       "      <td>0.000000</td>\n",
       "    </tr>\n",
       "    <tr>\n",
       "      <th>25%</th>\n",
       "      <td>2.000000</td>\n",
       "      <td>9.000000</td>\n",
       "      <td>0.272727</td>\n",
       "    </tr>\n",
       "    <tr>\n",
       "      <th>50%</th>\n",
       "      <td>8.000000</td>\n",
       "      <td>18.000000</td>\n",
       "      <td>0.500000</td>\n",
       "    </tr>\n",
       "    <tr>\n",
       "      <th>75%</th>\n",
       "      <td>21.000000</td>\n",
       "      <td>38.000000</td>\n",
       "      <td>0.724138</td>\n",
       "    </tr>\n",
       "    <tr>\n",
       "      <th>max</th>\n",
       "      <td>477.000000</td>\n",
       "      <td>580.000000</td>\n",
       "      <td>1.000000</td>\n",
       "    </tr>\n",
       "  </tbody>\n",
       "</table>\n",
       "</div>"
      ],
      "text/plain": [
       "       total_reorders  total_products  repurchase_rate\n",
       "count   149626.000000   149626.000000   149626.000000 \n",
       "mean        17.936976       30.375784        0.494853 \n",
       "std         27.793625       35.873511        0.292685 \n",
       "min          0.000000        1.000000        0.000000 \n",
       "25%          2.000000        9.000000        0.272727 \n",
       "50%          8.000000       18.000000        0.500000 \n",
       "75%         21.000000       38.000000        0.724138 \n",
       "max        477.000000      580.000000        1.000000 "
      ]
     },
     "execution_count": 70,
     "metadata": {},
     "output_type": "execute_result"
    }
   ],
   "source": [
    "df_product_user_segment_repurchase_rate.describe()"
   ]
  },
  {
   "cell_type": "code",
   "execution_count": 72,
   "id": "12a73ebd",
   "metadata": {},
   "outputs": [
    {
     "data": {
      "text/html": [
       "> Coefficient of variation for column <i>'total_reorders'</i>: <b>154.95 %</b>"
      ],
      "text/plain": [
       "<IPython.core.display.HTML object>"
      ]
     },
     "metadata": {},
     "output_type": "display_data"
    },
    {
     "data": {
      "text/html": [
       "> High variability: <i>mean may be misleading</i>. Recommended central measure: <b>median</b>."
      ],
      "text/plain": [
       "<IPython.core.display.HTML object>"
      ]
     },
     "metadata": {},
     "output_type": "display_data"
    },
    {
     "name": "stdout",
     "output_type": "stream",
     "text": [
      "\n"
     ]
    }
   ],
   "source": [
    "# Evaluate the coefficient of variation to select the proper measure of central tendency\n",
    "evaluate_central_trend(df_product_user_segment_repurchase_rate, 'total_reorders')"
   ]
  },
  {
   "cell_type": "code",
   "execution_count": 73,
   "id": "5499641b",
   "metadata": {},
   "outputs": [
    {
     "data": {
      "text/html": [
       "> Coefficient of variation for column <i>'total_products'</i>: <b>118.10 %</b>"
      ],
      "text/plain": [
       "<IPython.core.display.HTML object>"
      ]
     },
     "metadata": {},
     "output_type": "display_data"
    },
    {
     "data": {
      "text/html": [
       "> High variability: <i>mean may be misleading</i>. Recommended central measure: <b>median</b>."
      ],
      "text/plain": [
       "<IPython.core.display.HTML object>"
      ]
     },
     "metadata": {},
     "output_type": "display_data"
    },
    {
     "name": "stdout",
     "output_type": "stream",
     "text": [
      "\n"
     ]
    }
   ],
   "source": [
    "evaluate_central_trend(df_product_user_segment_repurchase_rate, 'total_products')"
   ]
  },
  {
   "cell_type": "code",
   "execution_count": 74,
   "id": "ead0c39b",
   "metadata": {},
   "outputs": [
    {
     "data": {
      "text/html": [
       "> Coefficient of variation for column <i>'repurchase_rate'</i>: <b>59.15 %</b>"
      ],
      "text/plain": [
       "<IPython.core.display.HTML object>"
      ]
     },
     "metadata": {},
     "output_type": "display_data"
    },
    {
     "data": {
      "text/html": [
       "> High variability: <i>mean may be misleading</i>. Recommended central measure: <b>median</b>."
      ],
      "text/plain": [
       "<IPython.core.display.HTML object>"
      ]
     },
     "metadata": {},
     "output_type": "display_data"
    },
    {
     "name": "stdout",
     "output_type": "stream",
     "text": [
      "\n"
     ]
    }
   ],
   "source": [
    "evaluate_central_trend(df_product_user_segment_repurchase_rate, 'repurchase_rate')"
   ]
  },
  {
   "cell_type": "code",
   "execution_count": 77,
   "id": "6bf12adb",
   "metadata": {},
   "outputs": [
    {
     "data": {
      "text/html": [
       "> Upper outlier threshold for column <i>'total_reorders'</i>: <b>49.5</b>"
      ],
      "text/plain": [
       "<IPython.core.display.HTML object>"
      ]
     },
     "metadata": {},
     "output_type": "display_data"
    },
    {
     "data": {
      "application/vnd.microsoft.datawrangler.viewer.v0+json": {
       "columns": [
        {
         "name": "index",
         "rawType": "int64",
         "type": "integer"
        },
        {
         "name": "total_reorders",
         "rawType": "int64",
         "type": "integer"
        },
        {
         "name": "total_products",
         "rawType": "int64",
         "type": "integer"
        },
        {
         "name": "repurchase_rate",
         "rawType": "float64",
         "type": "float"
        },
        {
         "name": "repurchase_segment",
         "rawType": "object",
         "type": "string"
        }
       ],
       "ref": "4b9adc4e-22ef-45ea-9b55-164088ce7d63",
       "rows": [
        [
         "18",
         "56",
         "85",
         "0.6588235294117647",
         "High"
        ],
        [
         "34",
         "51",
         "72",
         "0.7083333333333334",
         "High"
        ],
        [
         "36",
         "51",
         "83",
         "0.6144578313253012",
         "High"
        ],
        [
         "67",
         "89",
         "115",
         "0.7739130434782608",
         "Very High"
        ],
        [
         "98",
         "67",
         "121",
         "0.5537190082644629",
         "High"
        ],
        [
         "101",
         "116",
         "173",
         "0.6705202312138728",
         "High"
        ],
        [
         "111",
         "105",
         "141",
         "0.7446808510638298",
         "High"
        ],
        [
         "113",
         "68",
         "102",
         "0.6666666666666666",
         "High"
        ],
        [
         "150",
         "51",
         "75",
         "0.68",
         "High"
        ],
        [
         "155",
         "183",
         "220",
         "0.8318181818181818",
         "Very High"
        ],
        [
         "158",
         "67",
         "98",
         "0.6836734693877551",
         "High"
        ],
        [
         "167",
         "130",
         "161",
         "0.8074534161490683",
         "Very High"
        ],
        [
         "171",
         "50",
         "72",
         "0.6944444444444444",
         "High"
        ],
        [
         "192",
         "53",
         "68",
         "0.7794117647058824",
         "Very High"
        ],
        [
         "212",
         "67",
         "74",
         "0.9054054054054054",
         "Very High"
        ],
        [
         "213",
         "155",
         "239",
         "0.6485355648535565",
         "High"
        ],
        [
         "230",
         "125",
         "147",
         "0.8503401360544217",
         "Very High"
        ],
        [
         "236",
         "58",
         "87",
         "0.6666666666666666",
         "High"
        ],
        [
         "238",
         "93",
         "126",
         "0.7380952380952381",
         "High"
        ],
        [
         "241",
         "61",
         "104",
         "0.5865384615384616",
         "High"
        ],
        [
         "247",
         "69",
         "118",
         "0.5847457627118644",
         "High"
        ],
        [
         "268",
         "54",
         "81",
         "0.6666666666666666",
         "High"
        ],
        [
         "283",
         "63",
         "78",
         "0.8076923076923077",
         "Very High"
        ],
        [
         "295",
         "107",
         "131",
         "0.816793893129771",
         "Very High"
        ],
        [
         "311",
         "63",
         "81",
         "0.7777777777777778",
         "Very High"
        ],
        [
         "322",
         "89",
         "104",
         "0.8557692307692307",
         "Very High"
        ],
        [
         "325",
         "83",
         "88",
         "0.9431818181818182",
         "Very High"
        ],
        [
         "331",
         "51",
         "58",
         "0.8793103448275862",
         "Very High"
        ],
        [
         "338",
         "161",
         "206",
         "0.7815533980582524",
         "Very High"
        ],
        [
         "341",
         "53",
         "67",
         "0.7910447761194029",
         "Very High"
        ],
        [
         "351",
         "56",
         "73",
         "0.7671232876712328",
         "Very High"
        ],
        [
         "366",
         "53",
         "73",
         "0.726027397260274",
         "High"
        ],
        [
         "377",
         "119",
         "128",
         "0.9296875",
         "Very High"
        ],
        [
         "437",
         "78",
         "120",
         "0.65",
         "High"
        ],
        [
         "447",
         "92",
         "104",
         "0.8846153846153846",
         "Very High"
        ],
        [
         "456",
         "96",
         "165",
         "0.5818181818181818",
         "High"
        ],
        [
         "474",
         "91",
         "116",
         "0.7844827586206896",
         "Very High"
        ],
        [
         "482",
         "84",
         "100",
         "0.84",
         "Very High"
        ],
        [
         "488",
         "111",
         "142",
         "0.7816901408450704",
         "Very High"
        ],
        [
         "493",
         "53",
         "67",
         "0.7910447761194029",
         "Very High"
        ],
        [
         "497",
         "53",
         "81",
         "0.654320987654321",
         "High"
        ],
        [
         "504",
         "108",
         "147",
         "0.7346938775510204",
         "High"
        ],
        [
         "512",
         "77",
         "103",
         "0.7475728155339806",
         "High"
        ],
        [
         "528",
         "55",
         "133",
         "0.4135338345864661",
         "Moderate"
        ],
        [
         "534",
         "50",
         "57",
         "0.8771929824561403",
         "Very High"
        ],
        [
         "557",
         "56",
         "66",
         "0.8484848484848485",
         "Very High"
        ],
        [
         "574",
         "127",
         "133",
         "0.9548872180451128",
         "Very High"
        ],
        [
         "593",
         "77",
         "93",
         "0.8279569892473119",
         "Very High"
        ],
        [
         "611",
         "90",
         "128",
         "0.703125",
         "High"
        ],
        [
         "616",
         "50",
         "57",
         "0.8771929824561403",
         "Very High"
        ]
       ],
       "shape": {
        "columns": 4,
        "rows": 13951
       }
      },
      "text/html": [
       "<div>\n",
       "<style scoped>\n",
       "    .dataframe tbody tr th:only-of-type {\n",
       "        vertical-align: middle;\n",
       "    }\n",
       "\n",
       "    .dataframe tbody tr th {\n",
       "        vertical-align: top;\n",
       "    }\n",
       "\n",
       "    .dataframe thead th {\n",
       "        text-align: right;\n",
       "    }\n",
       "</style>\n",
       "<table border=\"1\" class=\"dataframe\">\n",
       "  <thead>\n",
       "    <tr style=\"text-align: right;\">\n",
       "      <th></th>\n",
       "      <th>total_reorders</th>\n",
       "      <th>total_products</th>\n",
       "      <th>repurchase_rate</th>\n",
       "      <th>repurchase_segment</th>\n",
       "    </tr>\n",
       "  </thead>\n",
       "  <tbody>\n",
       "    <tr>\n",
       "      <th>18</th>\n",
       "      <td>56</td>\n",
       "      <td>85</td>\n",
       "      <td>0.658824</td>\n",
       "      <td>High</td>\n",
       "    </tr>\n",
       "    <tr>\n",
       "      <th>34</th>\n",
       "      <td>51</td>\n",
       "      <td>72</td>\n",
       "      <td>0.708333</td>\n",
       "      <td>High</td>\n",
       "    </tr>\n",
       "    <tr>\n",
       "      <th>36</th>\n",
       "      <td>51</td>\n",
       "      <td>83</td>\n",
       "      <td>0.614458</td>\n",
       "      <td>High</td>\n",
       "    </tr>\n",
       "    <tr>\n",
       "      <th>67</th>\n",
       "      <td>89</td>\n",
       "      <td>115</td>\n",
       "      <td>0.773913</td>\n",
       "      <td>Very High</td>\n",
       "    </tr>\n",
       "    <tr>\n",
       "      <th>98</th>\n",
       "      <td>67</td>\n",
       "      <td>121</td>\n",
       "      <td>0.553719</td>\n",
       "      <td>High</td>\n",
       "    </tr>\n",
       "    <tr>\n",
       "      <th>...</th>\n",
       "      <td>...</td>\n",
       "      <td>...</td>\n",
       "      <td>...</td>\n",
       "      <td>...</td>\n",
       "    </tr>\n",
       "    <tr>\n",
       "      <th>149544</th>\n",
       "      <td>63</td>\n",
       "      <td>91</td>\n",
       "      <td>0.692308</td>\n",
       "      <td>High</td>\n",
       "    </tr>\n",
       "    <tr>\n",
       "      <th>149545</th>\n",
       "      <td>57</td>\n",
       "      <td>88</td>\n",
       "      <td>0.647727</td>\n",
       "      <td>High</td>\n",
       "    </tr>\n",
       "    <tr>\n",
       "      <th>149548</th>\n",
       "      <td>91</td>\n",
       "      <td>161</td>\n",
       "      <td>0.565217</td>\n",
       "      <td>High</td>\n",
       "    </tr>\n",
       "    <tr>\n",
       "      <th>149611</th>\n",
       "      <td>53</td>\n",
       "      <td>97</td>\n",
       "      <td>0.546392</td>\n",
       "      <td>High</td>\n",
       "    </tr>\n",
       "    <tr>\n",
       "      <th>149624</th>\n",
       "      <td>87</td>\n",
       "      <td>125</td>\n",
       "      <td>0.696000</td>\n",
       "      <td>High</td>\n",
       "    </tr>\n",
       "  </tbody>\n",
       "</table>\n",
       "<p>13951 rows × 4 columns</p>\n",
       "</div>"
      ],
      "text/plain": [
       "        total_reorders  total_products  repurchase_rate repurchase_segment\n",
       "18                  56              85        0.658824             High   \n",
       "34                  51              72        0.708333             High   \n",
       "36                  51              83        0.614458             High   \n",
       "67                  89             115        0.773913        Very High   \n",
       "98                  67             121        0.553719             High   \n",
       "...                ...             ...             ...              ...   \n",
       "149544              63              91        0.692308             High   \n",
       "149545              57              88        0.647727             High   \n",
       "149548              91             161        0.565217             High   \n",
       "149611              53              97        0.546392             High   \n",
       "149624              87             125        0.696000             High   \n",
       "\n",
       "[13951 rows x 4 columns]"
      ]
     },
     "execution_count": 77,
     "metadata": {},
     "output_type": "execute_result"
    }
   ],
   "source": [
    "# Evaluate boundary thresholds and detect potential outliers\n",
    "outlier_limit_bounds(df_product_user_segment_repurchase_rate, 'total_reorders', bound='upper')"
   ]
  },
  {
   "cell_type": "code",
   "execution_count": 78,
   "id": "08d995d8",
   "metadata": {},
   "outputs": [
    {
     "data": {
      "text/html": [
       "> Upper outlier threshold for column <i>'total_products'</i>: <b>81.5</b>"
      ],
      "text/plain": [
       "<IPython.core.display.HTML object>"
      ]
     },
     "metadata": {},
     "output_type": "display_data"
    },
    {
     "data": {
      "application/vnd.microsoft.datawrangler.viewer.v0+json": {
       "columns": [
        {
         "name": "index",
         "rawType": "int64",
         "type": "integer"
        },
        {
         "name": "total_reorders",
         "rawType": "int64",
         "type": "integer"
        },
        {
         "name": "total_products",
         "rawType": "int64",
         "type": "integer"
        },
        {
         "name": "repurchase_rate",
         "rawType": "float64",
         "type": "float"
        },
        {
         "name": "repurchase_segment",
         "rawType": "object",
         "type": "string"
        }
       ],
       "ref": "533d3d84-8f4c-4565-8a3c-4604f674ec42",
       "rows": [
        [
         "18",
         "56",
         "85",
         "0.6588235294117647",
         "High"
        ],
        [
         "22",
         "28",
         "92",
         "0.3043478260869565",
         "Moderate"
        ],
        [
         "36",
         "51",
         "83",
         "0.6144578313253012",
         "High"
        ],
        [
         "67",
         "89",
         "115",
         "0.7739130434782608",
         "Very High"
        ],
        [
         "98",
         "67",
         "121",
         "0.5537190082644629",
         "High"
        ],
        [
         "101",
         "116",
         "173",
         "0.6705202312138728",
         "High"
        ],
        [
         "111",
         "105",
         "141",
         "0.7446808510638298",
         "High"
        ],
        [
         "113",
         "68",
         "102",
         "0.6666666666666666",
         "High"
        ],
        [
         "145",
         "42",
         "83",
         "0.5060240963855421",
         "High"
        ],
        [
         "155",
         "183",
         "220",
         "0.8318181818181818",
         "Very High"
        ],
        [
         "158",
         "67",
         "98",
         "0.6836734693877551",
         "High"
        ],
        [
         "167",
         "130",
         "161",
         "0.8074534161490683",
         "Very High"
        ],
        [
         "213",
         "155",
         "239",
         "0.6485355648535565",
         "High"
        ],
        [
         "230",
         "125",
         "147",
         "0.8503401360544217",
         "Very High"
        ],
        [
         "236",
         "58",
         "87",
         "0.6666666666666666",
         "High"
        ],
        [
         "238",
         "93",
         "126",
         "0.7380952380952381",
         "High"
        ],
        [
         "241",
         "61",
         "104",
         "0.5865384615384616",
         "High"
        ],
        [
         "247",
         "69",
         "118",
         "0.5847457627118644",
         "High"
        ],
        [
         "291",
         "49",
         "106",
         "0.4622641509433962",
         "Moderate"
        ],
        [
         "295",
         "107",
         "131",
         "0.816793893129771",
         "Very High"
        ],
        [
         "322",
         "89",
         "104",
         "0.8557692307692307",
         "Very High"
        ],
        [
         "325",
         "83",
         "88",
         "0.9431818181818182",
         "Very High"
        ],
        [
         "329",
         "49",
         "85",
         "0.5764705882352941",
         "High"
        ],
        [
         "338",
         "161",
         "206",
         "0.7815533980582524",
         "Very High"
        ],
        [
         "357",
         "38",
         "91",
         "0.4175824175824176",
         "Moderate"
        ],
        [
         "377",
         "119",
         "128",
         "0.9296875",
         "Very High"
        ],
        [
         "437",
         "78",
         "120",
         "0.65",
         "High"
        ],
        [
         "447",
         "92",
         "104",
         "0.8846153846153846",
         "Very High"
        ],
        [
         "456",
         "96",
         "165",
         "0.5818181818181818",
         "High"
        ],
        [
         "474",
         "91",
         "116",
         "0.7844827586206896",
         "Very High"
        ],
        [
         "479",
         "49",
         "92",
         "0.532608695652174",
         "High"
        ],
        [
         "482",
         "84",
         "100",
         "0.84",
         "Very High"
        ],
        [
         "488",
         "111",
         "142",
         "0.7816901408450704",
         "Very High"
        ],
        [
         "504",
         "108",
         "147",
         "0.7346938775510204",
         "High"
        ],
        [
         "512",
         "77",
         "103",
         "0.7475728155339806",
         "High"
        ],
        [
         "528",
         "55",
         "133",
         "0.4135338345864661",
         "Moderate"
        ],
        [
         "574",
         "127",
         "133",
         "0.9548872180451128",
         "Very High"
        ],
        [
         "593",
         "77",
         "93",
         "0.8279569892473119",
         "Very High"
        ],
        [
         "611",
         "90",
         "128",
         "0.703125",
         "High"
        ],
        [
         "619",
         "69",
         "92",
         "0.75",
         "High"
        ],
        [
         "622",
         "98",
         "115",
         "0.8521739130434782",
         "Very High"
        ],
        [
         "625",
         "74",
         "89",
         "0.8314606741573034",
         "Very High"
        ],
        [
         "632",
         "62",
         "94",
         "0.6595744680851063",
         "High"
        ],
        [
         "656",
         "177",
         "240",
         "0.7375",
         "High"
        ],
        [
         "702",
         "88",
         "109",
         "0.8073394495412844",
         "Very High"
        ],
        [
         "705",
         "100",
         "128",
         "0.78125",
         "Very High"
        ],
        [
         "726",
         "113",
         "177",
         "0.6384180790960452",
         "High"
        ],
        [
         "730",
         "171",
         "224",
         "0.7633928571428571",
         "Very High"
        ],
        [
         "739",
         "120",
         "168",
         "0.7142857142857143",
         "High"
        ],
        [
         "752",
         "101",
         "153",
         "0.6601307189542484",
         "High"
        ]
       ],
       "shape": {
        "columns": 4,
        "rows": 11713
       }
      },
      "text/html": [
       "<div>\n",
       "<style scoped>\n",
       "    .dataframe tbody tr th:only-of-type {\n",
       "        vertical-align: middle;\n",
       "    }\n",
       "\n",
       "    .dataframe tbody tr th {\n",
       "        vertical-align: top;\n",
       "    }\n",
       "\n",
       "    .dataframe thead th {\n",
       "        text-align: right;\n",
       "    }\n",
       "</style>\n",
       "<table border=\"1\" class=\"dataframe\">\n",
       "  <thead>\n",
       "    <tr style=\"text-align: right;\">\n",
       "      <th></th>\n",
       "      <th>total_reorders</th>\n",
       "      <th>total_products</th>\n",
       "      <th>repurchase_rate</th>\n",
       "      <th>repurchase_segment</th>\n",
       "    </tr>\n",
       "  </thead>\n",
       "  <tbody>\n",
       "    <tr>\n",
       "      <th>18</th>\n",
       "      <td>56</td>\n",
       "      <td>85</td>\n",
       "      <td>0.658824</td>\n",
       "      <td>High</td>\n",
       "    </tr>\n",
       "    <tr>\n",
       "      <th>22</th>\n",
       "      <td>28</td>\n",
       "      <td>92</td>\n",
       "      <td>0.304348</td>\n",
       "      <td>Moderate</td>\n",
       "    </tr>\n",
       "    <tr>\n",
       "      <th>36</th>\n",
       "      <td>51</td>\n",
       "      <td>83</td>\n",
       "      <td>0.614458</td>\n",
       "      <td>High</td>\n",
       "    </tr>\n",
       "    <tr>\n",
       "      <th>67</th>\n",
       "      <td>89</td>\n",
       "      <td>115</td>\n",
       "      <td>0.773913</td>\n",
       "      <td>Very High</td>\n",
       "    </tr>\n",
       "    <tr>\n",
       "      <th>98</th>\n",
       "      <td>67</td>\n",
       "      <td>121</td>\n",
       "      <td>0.553719</td>\n",
       "      <td>High</td>\n",
       "    </tr>\n",
       "    <tr>\n",
       "      <th>...</th>\n",
       "      <td>...</td>\n",
       "      <td>...</td>\n",
       "      <td>...</td>\n",
       "      <td>...</td>\n",
       "    </tr>\n",
       "    <tr>\n",
       "      <th>149545</th>\n",
       "      <td>57</td>\n",
       "      <td>88</td>\n",
       "      <td>0.647727</td>\n",
       "      <td>High</td>\n",
       "    </tr>\n",
       "    <tr>\n",
       "      <th>149548</th>\n",
       "      <td>91</td>\n",
       "      <td>161</td>\n",
       "      <td>0.565217</td>\n",
       "      <td>High</td>\n",
       "    </tr>\n",
       "    <tr>\n",
       "      <th>149596</th>\n",
       "      <td>47</td>\n",
       "      <td>111</td>\n",
       "      <td>0.423423</td>\n",
       "      <td>Moderate</td>\n",
       "    </tr>\n",
       "    <tr>\n",
       "      <th>149611</th>\n",
       "      <td>53</td>\n",
       "      <td>97</td>\n",
       "      <td>0.546392</td>\n",
       "      <td>High</td>\n",
       "    </tr>\n",
       "    <tr>\n",
       "      <th>149624</th>\n",
       "      <td>87</td>\n",
       "      <td>125</td>\n",
       "      <td>0.696000</td>\n",
       "      <td>High</td>\n",
       "    </tr>\n",
       "  </tbody>\n",
       "</table>\n",
       "<p>11713 rows × 4 columns</p>\n",
       "</div>"
      ],
      "text/plain": [
       "        total_reorders  total_products  repurchase_rate repurchase_segment\n",
       "18                  56              85        0.658824             High   \n",
       "22                  28              92        0.304348         Moderate   \n",
       "36                  51              83        0.614458             High   \n",
       "67                  89             115        0.773913        Very High   \n",
       "98                  67             121        0.553719             High   \n",
       "...                ...             ...             ...              ...   \n",
       "149545              57              88        0.647727             High   \n",
       "149548              91             161        0.565217             High   \n",
       "149596              47             111        0.423423         Moderate   \n",
       "149611              53              97        0.546392             High   \n",
       "149624              87             125        0.696000             High   \n",
       "\n",
       "[11713 rows x 4 columns]"
      ]
     },
     "execution_count": 78,
     "metadata": {},
     "output_type": "execute_result"
    }
   ],
   "source": [
    "outlier_limit_bounds(df_product_user_segment_repurchase_rate, 'total_products', bound='upper')"
   ]
  },
  {
   "cell_type": "code",
   "execution_count": 82,
   "id": "16e4ac82",
   "metadata": {},
   "outputs": [
    {
     "data": {
      "text/html": [
       "> Lower outlier threshold for column <i>'repurchase_rate'</i>: <b>0</b>"
      ],
      "text/plain": [
       "<IPython.core.display.HTML object>"
      ]
     },
     "metadata": {},
     "output_type": "display_data"
    },
    {
     "data": {
      "text/html": [
       "> Upper outlier threshold for column <i>'repurchase_rate'</i>: <b>1.4012539184952977</b>"
      ],
      "text/plain": [
       "<IPython.core.display.HTML object>"
      ]
     },
     "metadata": {},
     "output_type": "display_data"
    },
    {
     "data": {
      "text/html": [
       "> No outliers found in column <i>'repurchase_rate'</i>."
      ],
      "text/plain": [
       "<IPython.core.display.HTML object>"
      ]
     },
     "metadata": {},
     "output_type": "display_data"
    },
    {
     "data": {
      "text/plain": [
       "(Empty DataFrame\n",
       " Columns: [total_reorders, total_products, repurchase_rate, repurchase_segment]\n",
       " Index: [],\n",
       " Empty DataFrame\n",
       " Columns: [total_reorders, total_products, repurchase_rate, repurchase_segment]\n",
       " Index: [])"
      ]
     },
     "execution_count": 82,
     "metadata": {},
     "output_type": "execute_result"
    }
   ],
   "source": [
    "outlier_limit_bounds(df_product_user_segment_repurchase_rate, 'repurchase_rate', bound='both', clamp_zero=True)"
   ]
  },
  {
   "cell_type": "markdown",
   "id": "1fb0d3e0",
   "metadata": {},
   "source": [
    "### 3.2 Data Visualization: Distributions and Relationships"
   ]
  },
  {
   "cell_type": "markdown",
   "id": "8943a335",
   "metadata": {},
   "source": [
    "#### 3.2.1 Covariance and Correlation Analysis "
   ]
  },
  {
   "cell_type": "markdown",
   "id": "7806eb2d",
   "metadata": {},
   "source": [
    "##### 3.2.1.1 Covariance Matrix"
   ]
  },
  {
   "cell_type": "code",
   "execution_count": 83,
   "id": "502a7142",
   "metadata": {},
   "outputs": [
    {
     "data": {
      "application/vnd.microsoft.datawrangler.viewer.v0+json": {
       "columns": [
        {
         "name": "index",
         "rawType": "object",
         "type": "string"
        },
        {
         "name": "first_add_count",
         "rawType": "float64",
         "type": "float"
        },
        {
         "name": "total_orders",
         "rawType": "float64",
         "type": "float"
        },
        {
         "name": "first_add_rate",
         "rawType": "float64",
         "type": "float"
        }
       ],
       "ref": "3b221106-8942-4fb3-8fd9-e41a91f85bef",
       "rows": [
        [
         "first_add_count",
         "20358.770068453214",
         "116382.37877900737",
         "-0.4168717601045904"
        ],
        [
         "total_orders",
         "116382.37877900737",
         "824747.1151241835",
         "-10.033052419501743"
        ],
        [
         "first_add_rate",
         "-0.4168717601045904",
         "-10.033052419501743",
         "0.029038821505107035"
        ]
       ],
       "shape": {
        "columns": 3,
        "rows": 3
       }
      },
      "text/html": [
       "<div>\n",
       "<style scoped>\n",
       "    .dataframe tbody tr th:only-of-type {\n",
       "        vertical-align: middle;\n",
       "    }\n",
       "\n",
       "    .dataframe tbody tr th {\n",
       "        vertical-align: top;\n",
       "    }\n",
       "\n",
       "    .dataframe thead th {\n",
       "        text-align: right;\n",
       "    }\n",
       "</style>\n",
       "<table border=\"1\" class=\"dataframe\">\n",
       "  <thead>\n",
       "    <tr style=\"text-align: right;\">\n",
       "      <th></th>\n",
       "      <th>first_add_count</th>\n",
       "      <th>total_orders</th>\n",
       "      <th>first_add_rate</th>\n",
       "    </tr>\n",
       "  </thead>\n",
       "  <tbody>\n",
       "    <tr>\n",
       "      <th>first_add_count</th>\n",
       "      <td>20358.770068</td>\n",
       "      <td>116382.378779</td>\n",
       "      <td>-0.416872</td>\n",
       "    </tr>\n",
       "    <tr>\n",
       "      <th>total_orders</th>\n",
       "      <td>116382.378779</td>\n",
       "      <td>824747.115124</td>\n",
       "      <td>-10.033052</td>\n",
       "    </tr>\n",
       "    <tr>\n",
       "      <th>first_add_rate</th>\n",
       "      <td>-0.416872</td>\n",
       "      <td>-10.033052</td>\n",
       "      <td>0.029039</td>\n",
       "    </tr>\n",
       "  </tbody>\n",
       "</table>\n",
       "</div>"
      ],
      "text/plain": [
       "                 first_add_count   total_orders  first_add_rate\n",
       "first_add_count    20358.770068   116382.378779       -0.416872\n",
       "total_orders      116382.378779   824747.115124      -10.033052\n",
       "first_add_rate        -0.416872      -10.033052        0.029039"
      ]
     },
     "execution_count": 83,
     "metadata": {},
     "output_type": "execute_result"
    }
   ],
   "source": [
    "# Covariance for product preference\n",
    "df_product_preference[['first_add_count', 'total_orders', 'first_add_rate']].cov()"
   ]
  },
  {
   "cell_type": "code",
   "execution_count": 84,
   "id": "743e5005",
   "metadata": {},
   "outputs": [
    {
     "data": {
      "image/png": "[encoded data removed]",
      "text/plain": [
       "<Figure size 2250x900 with 12 Axes>"
      ]
     },
     "metadata": {},
     "output_type": "display_data"
    }
   ],
   "source": [
    "plot_pairplot(df_product_preference[['first_add_count', 'total_orders', 'first_add_rate']])"
   ]
  },
  {
   "cell_type": "code",
   "execution_count": 87,
   "id": "4244787f",
   "metadata": {},
   "outputs": [
    {
     "data": {
      "application/vnd.microsoft.datawrangler.viewer.v0+json": {
       "columns": [
        {
         "name": "index",
         "rawType": "object",
         "type": "string"
        },
        {
         "name": "add_to_cart_order",
         "rawType": "float64",
         "type": "float"
        },
        {
         "name": "reorder_rate",
         "rawType": "float64",
         "type": "float"
        },
        {
         "name": "product_count",
         "rawType": "float64",
         "type": "float"
        }
       ],
       "ref": "4336f6f2-0107-4037-9d96-61160170745d",
       "rows": [
        [
         "add_to_cart_order",
         "346.66666666666663",
         "-1.0984737611613058",
         "-1741811.8015873015"
        ],
        [
         "reorder_rate",
         "-1.0984737611613058",
         "0.005528849808953423",
         "8615.279687009004"
        ],
        [
         "product_count",
         "-1741811.8015873015",
         "8615.279687009004",
         "14637686390.414434"
        ]
       ],
       "shape": {
        "columns": 3,
        "rows": 3
       }
      },
      "text/html": [
       "<div>\n",
       "<style scoped>\n",
       "    .dataframe tbody tr th:only-of-type {\n",
       "        vertical-align: middle;\n",
       "    }\n",
       "\n",
       "    .dataframe tbody tr th {\n",
       "        vertical-align: top;\n",
       "    }\n",
       "\n",
       "    .dataframe thead th {\n",
       "        text-align: right;\n",
       "    }\n",
       "</style>\n",
       "<table border=\"1\" class=\"dataframe\">\n",
       "  <thead>\n",
       "    <tr style=\"text-align: right;\">\n",
       "      <th></th>\n",
       "      <th>add_to_cart_order</th>\n",
       "      <th>reorder_rate</th>\n",
       "      <th>product_count</th>\n",
       "    </tr>\n",
       "  </thead>\n",
       "  <tbody>\n",
       "    <tr>\n",
       "      <th>add_to_cart_order</th>\n",
       "      <td>3.466667e+02</td>\n",
       "      <td>-1.098474</td>\n",
       "      <td>-1.741812e+06</td>\n",
       "    </tr>\n",
       "    <tr>\n",
       "      <th>reorder_rate</th>\n",
       "      <td>-1.098474e+00</td>\n",
       "      <td>0.005529</td>\n",
       "      <td>8.615280e+03</td>\n",
       "    </tr>\n",
       "    <tr>\n",
       "      <th>product_count</th>\n",
       "      <td>-1.741812e+06</td>\n",
       "      <td>8615.279687</td>\n",
       "      <td>1.463769e+10</td>\n",
       "    </tr>\n",
       "  </tbody>\n",
       "</table>\n",
       "</div>"
      ],
      "text/plain": [
       "                 add_to_cart_order  reorder_rate  product_count\n",
       "add_to_cart_...    3.466667e+02        -1.098474  -1.741812e+06\n",
       "reorder_rate      -1.098474e+00         0.005529   8.615280e+03\n",
       "product_count     -1.741812e+06      8615.279687   1.463769e+10"
      ]
     },
     "execution_count": 87,
     "metadata": {},
     "output_type": "execute_result"
    }
   ],
   "source": [
    "# Covariance for product reorder rate by position\n",
    "df_product_reorder_rate_by_position[['add_to_cart_order', 'reorder_rate', 'product_count']].cov()"
   ]
  },
  {
   "cell_type": "code",
   "execution_count": 88,
   "id": "816f8e49",
   "metadata": {},
   "outputs": [
    {
     "data": {
      "image/png": "[encoded data removed]",
      "text/plain": [
       "<Figure size 2250x900 with 12 Axes>"
      ]
     },
     "metadata": {},
     "output_type": "display_data"
    }
   ],
   "source": [
    "plot_pairplot(df_product_reorder_rate_by_position[['add_to_cart_order', 'reorder_rate', 'product_count']])"
   ]
  },
  {
   "cell_type": "code",
   "execution_count": null,
   "id": "417cc098",
   "metadata": {},
   "outputs": [],
   "source": [
    "# Covariance for product repurchase\n",
    "df_product_repurchase[['add_to_cart_order', 'reorder_rate', 'product_count']].cov()"
   ]
  },
  {
   "cell_type": "markdown",
   "id": "85307bc4",
   "metadata": {},
   "source": [
    "##### 3.2.1.2 Correlation Matrix"
   ]
  },
  {
   "cell_type": "markdown",
   "id": "6608f86b",
   "metadata": {},
   "source": [
    "| Correlation Value     | Interpretation                |\n",
    "| --------------------- | ----------------------------- |\n",
    "| `+0.7` to `+1.0`      | Strong positive correlation   |\n",
    "| `+0.3` to `+0.7`      | Moderate positive correlation |\n",
    "| `0.0` to `+0.3`       | Weak positive correlation     |\n",
    "| `0`                   | No correlation                |\n",
    "| `-0.3` to `0`         | Weak negative correlation     |\n",
    "| `-0.7` to `-0.3`      | Moderate negative correlation |\n",
    "| `-1.0` to `-0.7`      | Strong negative correlation   |\n"
   ]
  },
  {
   "cell_type": "code",
   "execution_count": null,
   "id": "cb1e56c8",
   "metadata": {},
   "outputs": [],
   "source": [
    "# Correlation for music activity per city and day\n",
    "df_music_activity_city_day[['total_tracks', 'tracks', 'users']].corr()"
   ]
  },
  {
   "cell_type": "code",
   "execution_count": null,
   "id": "d085ab8f",
   "metadata": {},
   "outputs": [],
   "source": [
    "plot_scatter_matrix(df_music_activity_city_day[['total_tracks', 'tracks', 'users']])"
   ]
  },
  {
   "cell_type": "code",
   "execution_count": null,
   "id": "4928c4f6",
   "metadata": {},
   "outputs": [],
   "source": [
    "evaluate_correlation(df_music_activity_city_day[['total_tracks', 'tracks', 'users']])"
   ]
  },
  {
   "cell_type": "code",
   "execution_count": null,
   "id": "4aaf22b1",
   "metadata": {},
   "outputs": [],
   "source": [
    "# Correlation for music activity per time, city and day\n",
    "df_music_activity_time_city_day[['hour', 'total_tracks', 'tracks', 'users']].corr()"
   ]
  },
  {
   "cell_type": "code",
   "execution_count": null,
   "id": "84708511",
   "metadata": {},
   "outputs": [],
   "source": [
    "plot_scatter_matrix(df_music_activity_time_city_day[['hour', 'total_tracks', 'tracks', 'users']])"
   ]
  },
  {
   "cell_type": "code",
   "execution_count": null,
   "id": "15e069fa",
   "metadata": {},
   "outputs": [],
   "source": [
    "evaluate_correlation(df_music_activity_time_city_day[['hour', 'total_tracks', 'tracks', 'users']])"
   ]
  },
  {
   "cell_type": "markdown",
   "id": "7bc91fb5",
   "metadata": {},
   "source": [
    "#### 3.2.2 Data visualization for Music Activity per City"
   ]
  },
  {
   "cell_type": "code",
   "execution_count": null,
   "id": "e9847fa8",
   "metadata": {},
   "outputs": [],
   "source": [
    "# Music Activity per City: Total Plays, Unique Tracks, and Unique Listeners\n",
    "plot_grouped_bars_indx(df_music_activity_city, index_name='city', title='Music Activity per City', ylabel='Activity Count')"
   ]
  },
  {
   "cell_type": "markdown",
   "id": "87ffed4b",
   "metadata": {},
   "source": [
    "#### 3.2.3 Data visualization for Music Activity per day"
   ]
  },
  {
   "cell_type": "code",
   "execution_count": null,
   "id": "223fcda1",
   "metadata": {},
   "outputs": [],
   "source": [
    "# Music Activity per Day: Total Plays, Unique Tracks, and Unique Listeners\n",
    "plot_grouped_bars_indx(df_music_activity_day, index_name='day', title='Music Activity per Day', ylabel='Activity Count')"
   ]
  },
  {
   "cell_type": "markdown",
   "id": "81da6f51",
   "metadata": {},
   "source": [
    "#### 3.2.4 Data visualization for Music Activity per City and Day"
   ]
  },
  {
   "cell_type": "code",
   "execution_count": null,
   "id": "a49214fe",
   "metadata": {},
   "outputs": [],
   "source": [
    "df_music_activity_city_day = df_music_activity_city_day.set_index(['city', 'day'])\n",
    "df_music_activity_city_day"
   ]
  },
  {
   "cell_type": "code",
   "execution_count": null,
   "id": "6247141b",
   "metadata": {},
   "outputs": [],
   "source": [
    "# Music Activity per City and Day: Total Plays, Unique Tracks, and Unique Listeners\n",
    "plot_grouped_bars(df_music_activity_city_day, title='Music Activity per City and Day', ylabel='Activity Count')"
   ]
  },
  {
   "cell_type": "markdown",
   "id": "568af391",
   "metadata": {},
   "source": [
    "#### 3.2.5 Data visualization for Music Activity per Time and City"
   ]
  },
  {
   "cell_type": "code",
   "execution_count": null,
   "id": "9d04b2cb",
   "metadata": {},
   "outputs": [],
   "source": [
    "df_music_activity_time_city = df_music_activity_time_city.set_index(['city', 'hour'])\n",
    "df_music_activity_time_city"
   ]
  },
  {
   "cell_type": "code",
   "execution_count": null,
   "id": "5baa0015",
   "metadata": {},
   "outputs": [],
   "source": [
    "# Music Activity per Time and City: Total Plays, Unique Tracks, and Unique Listeners\n",
    "plot_grouped_bars(df_music_activity_time_city, title='Music Activity per Time and City', ylabel='Activity Count', x_rotation=75)"
   ]
  },
  {
   "cell_type": "markdown",
   "id": "4a62ce51",
   "metadata": {},
   "source": [
    "#### 3.2.6 Data visualization for Music Activity per Time and Day"
   ]
  },
  {
   "cell_type": "code",
   "execution_count": null,
   "id": "0b66cc30",
   "metadata": {},
   "outputs": [],
   "source": [
    "df_music_activity_time_day = df_music_activity_time_day.set_index(['day', 'hour'])\n",
    "df_music_activity_time_day"
   ]
  },
  {
   "cell_type": "code",
   "execution_count": null,
   "id": "a6ade182",
   "metadata": {},
   "outputs": [],
   "source": [
    "# Music Activity per Time and Day: Total Plays, Unique Tracks, and Unique Listeners\n",
    "plot_grouped_bars(df_music_activity_time_day, title='Music Activity per Time and Day', ylabel='Activity Count', x_rotation=75)"
   ]
  },
  {
   "cell_type": "markdown",
   "id": "53926ce8",
   "metadata": {},
   "source": [
    "#### 3.2.7 Data visualization for Music Activity per Time, City and Day"
   ]
  },
  {
   "cell_type": "code",
   "execution_count": null,
   "id": "5eba97de",
   "metadata": {},
   "outputs": [],
   "source": [
    "df_music_activity_time_city_day = df_music_activity_time_city_day.set_index(['city','day', 'hour'])\n",
    "df_music_activity_time_city_day"
   ]
  },
  {
   "cell_type": "code",
   "execution_count": null,
   "id": "dbc7912f",
   "metadata": {},
   "outputs": [],
   "source": [
    "# Music Activity per Time , City and Day: Total Plays, Unique Tracks, and Unique Listeners\n",
    "plot_grouped_bars(df_music_activity_time_city_day, title='Music Activity per Time, City and Day', ylabel='Activity Count', x_rotation=90)"
   ]
  },
  {
   "cell_type": "markdown",
   "id": "9e82ace3",
   "metadata": {},
   "source": [
    "## 4. Conclusions and key insights"
   ]
  },
  {
   "cell_type": "markdown",
   "id": "3ae4b02d",
   "metadata": {},
   "source": [
    "This exploratory data analysis reveals several important insights into music activity across cities, days, and time periods:\n",
    "\n",
    "### 🎯 Key Findings\n",
    "\n",
    "- **User and Track Behavior Are Closely Correlated**:  \n",
    "  Correlation analysis shows a strong linear relationship between the number of users and total tracks played, indicating usage intensity is fairly consistent across the user base.\n",
    "\n",
    "- **High Variability Across Cities and Days**:  \n",
    "  Coefficient of Variation (CV) highlights notable variability in activity patterns. Some cities show low variation, while others have high spikes or drops, suggesting possible influence of local trends or events.\n",
    "\n",
    "- **Time of Day Impacts Engagement**:  \n",
    "  Activity trends differ by time blocks, with clear peak hours visible in multiple visualizations. These can be valuable for targeting content or platform optimizations.\n",
    "\n",
    "- **No Strong Outliers Detected**:  \n",
    "  Most activity values fall within acceptable IQR thresholds. Where variation exists, it’s typically moderate and context-driven.\n",
    "\n",
    "### 🧠 Conclusion: User Activity Patterns by Day and City\n",
    "\n",
    "Analysis of user engagement across different cities and weekdays reveals clear behavioral differences. \n",
    "\n",
    "- Some cities show consistent activity throughout the week, while others experience significant peaks or drops on specific days.\n",
    "- For example, **Springfield** exhibits higher activity on Fridays, suggesting end-of-week engagement, while **Shelbyville** remains more stable across weekdays.\n",
    "- These trends may reflect local habits, promotional schedules, or platform usage preferences.\n"
   ]
  }
 ],
 "metadata": {
  "kernelspec": {
   "display_name": "Win11_Python-Mature-PipVenv-Github-3.10",
   "language": "python",
   "name": "python3"
  },
  "language_info": {
   "codemirror_mode": {
    "name": "ipython",
    "version": 3
   },
   "file_extension": ".py",
   "mimetype": "text/x-python",
   "name": "python",
   "nbconvert_exporter": "python",
   "pygments_lexer": "ipython3",
   "version": "3.10.0"
  }
 },
 "nbformat": 4,
 "nbformat_minor": 5
}
