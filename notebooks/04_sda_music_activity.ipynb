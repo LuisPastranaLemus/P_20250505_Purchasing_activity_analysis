{
 "cells": [
  {
   "cell_type": "markdown",
   "id": "911331c4",
   "metadata": {},
   "source": [
    "#### Statistical Data Analysis\n",
    "Dataset: _music_clean.csv_  \n",
    "Author: Luis Sergio Pastrana Lemus  \n",
    "Date: 2025-04-23"
   ]
  },
  {
   "cell_type": "markdown",
   "id": "8aa46ca9",
   "metadata": {},
   "source": [
    "## __1. Libraries__"
   ]
  },
  {
   "cell_type": "code",
   "execution_count": 1,
   "id": "9a1c1750",
   "metadata": {},
   "outputs": [],
   "source": [
    "from IPython.display import display, HTML\n",
    "import os\n",
    "import pandas as pd\n",
    "from pathlib import Path\n",
    "import scipy.stats as st\n",
    "import statsmodels.api as sm\n",
    "from statsmodels.formula.api import ols\n",
    "import sys\n",
    "\n",
    "\n",
    "# Define project root dynamically, gets the current directory from whick the notebook belongs and moves one level upper\n",
    "project_root = Path.cwd().parent\n",
    "\n",
    "# Add src to sys.path if it is not already\n",
    "if str(project_root) not in sys.path:\n",
    "    sys.path.append(str(project_root))\n",
    "\n",
    "# Import function directly (more controlled than import *)\n",
    "from src import *"
   ]
  },
  {
   "cell_type": "markdown",
   "id": "b2219c83",
   "metadata": {},
   "source": [
    "## __2. Path to Data file__"
   ]
  },
  {
   "cell_type": "code",
   "execution_count": 2,
   "id": "d7fa5a07",
   "metadata": {},
   "outputs": [],
   "source": [
    "# Build route to data file and upload\n",
    "data_file_path = project_root / \"data\" / \"processed\"\n",
    "df_music = load_dataset_from_csv(data_file_path, \"music_clean.csv\", sep=',', header='infer', keep_default_na=False)"
   ]
  },
  {
   "cell_type": "markdown",
   "id": "39cb9aa4",
   "metadata": {},
   "source": [
    "## __3. Statistical Data Analysis__"
   ]
  },
  {
   "cell_type": "markdown",
   "id": "d1f217d4",
   "metadata": {},
   "source": [
    "### 3.1  Inferential Tests\n",
    "\n",
    "Hypothesis: User activity varies by day of the week and city"
   ]
  },
  {
   "cell_type": "markdown",
   "id": "267aa045",
   "metadata": {},
   "source": [
    "#### 3.1.1  Hypothesis testing: User activity varies by city"
   ]
  },
  {
   "cell_type": "code",
   "execution_count": 3,
   "id": "3efc4747",
   "metadata": {},
   "outputs": [],
   "source": [
    "# Hypothesis: User activity varies by city.\n",
    "\n",
    "# 1. Propose Hypotheses H0, H1\n",
    "# H0: User activity does not vary by city, user activity is the same (==)\n",
    "# H1: User activity varies by city, user activity is different (!=)\n",
    "\n",
    "# Prepare data by city for t-test\n",
    "df_music['track_count'] = 1\n",
    "city_grouped = df_music.groupby(['city', 'userid'])['track_count'].sum().reset_index()\n",
    "\n",
    "springfield_music_activity = city_grouped.loc[(city_grouped['city'] == 'springfield'), 'track_count']\n",
    "shelbyville_music_activity = city_grouped.loc[(city_grouped['city'] == 'shelbyville'), 'track_count']\n",
    "\n",
    "# 2. Specify Significance or Confidence\n",
    "# alpha = 5%\n",
    "# confidence = 95%\n",
    "\n",
    "alpha = 0.05"
   ]
  },
  {
   "cell_type": "code",
   "execution_count": 4,
   "id": "519cb8b0",
   "metadata": {},
   "outputs": [
    {
     "data": {
      "text/html": [
       "<b>Levene's Test</b> – Statistic: 5.9387, P-value: 0.0148"
      ],
      "text/plain": [
       "<IPython.core.display.HTML object>"
      ]
     },
     "metadata": {},
     "output_type": "display_data"
    },
    {
     "data": {
      "text/html": [
       "<i>Null Hypothesis H₀ is rejected: the variances are different → use equal_var=False</i>"
      ],
      "text/plain": [
       "<IPython.core.display.HTML object>"
      ]
     },
     "metadata": {},
     "output_type": "display_data"
    }
   ],
   "source": [
    "# Levene's test, to ensure that the variances of different samples are equal. \n",
    "# Preventing Tests Like ANOVA and t-Tests from Being Incorrect\n",
    "\n",
    "levene_stat, levene_p = st.levene(springfield_music_activity, shelbyville_music_activity)\n",
    "display(HTML(f\"<b>Levene's Test</b> – Statistic: {levene_stat:.4f}, P-value: {levene_p:.4f}\"))\n",
    "\n",
    "# Determining Equality of Variances\n",
    "if levene_p < 0.05:\n",
    "    equal_var = False\n",
    "    display(HTML(\"<i>Null Hypothesis H₀ is rejected: the variances are different → use equal_var=False</i>\"))\n",
    "else:\n",
    "    equal_var = True\n",
    "    display(HTML(\"<i>Null Hypothesis H₀ is not rejected: the variances are equal → use equal_var=True</i>\"))"
   ]
  },
  {
   "cell_type": "code",
   "execution_count": 5,
   "id": "20a6df4b",
   "metadata": {},
   "outputs": [
    {
     "data": {
      "text/html": [
       "T-statistic: <b>-2.4481</b>"
      ],
      "text/plain": [
       "<IPython.core.display.HTML object>"
      ]
     },
     "metadata": {},
     "output_type": "display_data"
    },
    {
     "data": {
      "text/html": [
       "P-value: <b>0.0144</b>"
      ],
      "text/plain": [
       "<IPython.core.display.HTML object>"
      ]
     },
     "metadata": {},
     "output_type": "display_data"
    },
    {
     "data": {
      "text/html": [
       "The <i>'null hypothesis' is rejected</i>, <b>accepting 'alternative hypothesis'</b>, because there is sufficient statistical evidence to affirm that <b>User music activity differ by city.</b>"
      ],
      "text/plain": [
       "<IPython.core.display.HTML object>"
      ]
     },
     "metadata": {},
     "output_type": "display_data"
    }
   ],
   "source": [
    "# 3. Calculate critical and test values, define acceptance and rejection zones\n",
    "\n",
    "t_stat_city, p_val_city = st.ttest_ind(springfield_music_activity, shelbyville_music_activity, equal_var=False)\n",
    "\n",
    "display(HTML(f\"T-statistic: <b>{t_stat_city:.4f}</b>\"))\n",
    "display(HTML(f\"P-value: <b>{p_val_city:.4f}</b>\"))\n",
    "\n",
    "# 4. Decision and Conclusion\n",
    "\n",
    "if p_val_city < alpha:\n",
    "    display(HTML(\"The <i>'null hypothesis' is rejected</i>, <b>accepting 'alternative hypothesis'</b>, because there is sufficient statistical evidence to affirm that <b>User music activity differ by city.</b>\"))\n",
    "else:\n",
    "    display(HTML(\"The <i>'null hypothesis' is not rejected</i>, <b>accepting 'null hypothesis'</b>, indicating insufficient evidence to conclude that <b>user music activity differs by city</b>.\"))"
   ]
  },
  {
   "cell_type": "markdown",
   "id": "2fe59a42",
   "metadata": {},
   "source": [
    "#### 3.1.2 Hypothesis testing: User activity varies by day of week and city"
   ]
  },
  {
   "cell_type": "code",
   "execution_count": 6,
   "id": "3cca3ff9",
   "metadata": {},
   "outputs": [],
   "source": [
    "# Hypothesis: User activity varies by day of week and city.\n",
    "\n",
    "# 1. Propose Hypotheses H0, H1\n",
    "# H0: User activity does not vary by day of week and city, user activity is the same (==)\n",
    "# H1: User activity varies by day of week and city, user activity is different (!=)\n",
    "\n",
    "# Prepare data by city for ANOVA\n",
    "day_city_grouped = df_music.groupby(['city', 'day', 'userid'])['track_count'].sum().reset_index()\n",
    "\n",
    "# 2. Specify Significance or Confidence\n",
    "# alpha = 5%\n",
    "# confidence = 95%\n",
    "\n",
    "alpha = 0.05"
   ]
  },
  {
   "cell_type": "code",
   "execution_count": 7,
   "id": "f699fd97",
   "metadata": {},
   "outputs": [
    {
     "data": {
      "text/html": [
       "The <i>'null hypothesis' is not rejected</i>, <b>accepting 'null hypothesis'</b>, indicating insufficient evidence to conclude that <b>user music activity differs by city</b>."
      ],
      "text/plain": [
       "<IPython.core.display.HTML object>"
      ]
     },
     "metadata": {},
     "output_type": "display_data"
    },
    {
     "data": {
      "text/html": [
       "The <i>'null hypothesis' is not rejected</i>, <b>accepting 'null hypothesis'</b>, indicating insufficient evidence to conclude that <b>user music activity differs by day of the week</b>."
      ],
      "text/plain": [
       "<IPython.core.display.HTML object>"
      ]
     },
     "metadata": {},
     "output_type": "display_data"
    },
    {
     "data": {
      "text/html": [
       "The <i>'null hypothesis' is not rejected</i>, <b>accepting 'null hypothesis'</b>, indicating insufficient evidence to conclude that <b>an interaction effect exists between city and day on user music activity</b>."
      ],
      "text/plain": [
       "<IPython.core.display.HTML object>"
      ]
     },
     "metadata": {},
     "output_type": "display_data"
    }
   ],
   "source": [
    "# 3. Calculate critical and test values, define acceptance and rejection zones\n",
    "\n",
    "# Run two-way ANOVA\n",
    "model = ols('track_count ~ C(city) + C(day) + C(city):C(day)', data=day_city_grouped).fit()\n",
    "anova_table = sm.stats.anova_lm(model, typ=2)\n",
    "\n",
    "# 4. Decision and Conclusion\n",
    "\n",
    "# City effect\n",
    "if anova_table.loc['C(city)', 'PR(>F)'] < alpha:\n",
    "    display(HTML(\"The <i>'null hypothesis' is rejected</i>, <b>accepting 'alternative hypothesis'</b>, because there is sufficient statistical evidence to affirm that <b>User music activity differ by city.</b>\"))\n",
    "else:\n",
    "    display(HTML(\"The <i>'null hypothesis' is not rejected</i>, <b>accepting 'null hypothesis'</b>, indicating insufficient evidence to conclude that <b>user music activity differs by city</b>.\"))\n",
    "\n",
    "# Day effect\n",
    "if anova_table.loc['C(day)', 'PR(>F)'] < alpha:\n",
    "    display(HTML(\"The <i>'null hypothesis' is rejected</i>, <b>accepting 'alternative hypothesis'</b>, because there is sufficient statistical evidence to affirm that <b>User music activity differ by day of the week.</b>\"))\n",
    "else:\n",
    "    display(HTML(\"The <i>'null hypothesis' is not rejected</i>, <b>accepting 'null hypothesis'</b>, indicating insufficient evidence to conclude that <b>user music activity differs by day of the week</b>.\"))\n",
    "\n",
    "# Interaction effect\n",
    "if anova_table.loc['C(city):C(day)', 'PR(>F)'] < alpha:\n",
    "    display(HTML(\"The <i>'null hypothesis' is rejected</i>, <b>accepting 'alternative hypothesis'</b>, because there is sufficient statistical evidence to affirm that <b>there is an interaction effect between city and day on user music activity.</b>\"))\n",
    "else:\n",
    "    display(HTML(\"The <i>'null hypothesis' is not rejected</i>, <b>accepting 'null hypothesis'</b>, indicating insufficient evidence to conclude that <b>an interaction effect exists between city and day on user music activity</b>.\"))\n",
    "    "
   ]
  },
  {
   "cell_type": "markdown",
   "id": "b27f1c3f",
   "metadata": {},
   "source": [
    "## 4. Conclusion of Statistical Data Analysis – Music Activity\n",
    "\n",
    "This analysis aimed to assess user music activity patterns across different cities and days of the week.\n",
    "\n",
    "Descriptive Statistics highlighted clear differences in user behavior, with Springfield consistently showing higher user engagement metrics compared to Shelbyville.\n",
    "\n",
    "A T-test confirmed that the difference in total tracks between Springfield and Shelbyville is statistically significant, indicating user activity is not equal across cities.\n",
    "\n",
    "Based on the two-way ANOVA test conducted on user music activity data, we assessed the influence of two categorical variables — city and day of the week — along with their interaction.\n",
    "\n",
    "The statistical results indicated that city has a significant effect on user activity (measured through track counts).\n",
    "\n",
    "However, the variation across days of the week and the interaction between city and day did not yield statistically significant differences.\n",
    "\n",
    "These findings seem to contrast slightly with the exploratory data analysis (EDA), which visually suggested small differences in user activity between days (e.g., Friday vs. Wednesday). This apparent discrepancy can be explained by the fact that visual analysis captures perceived trends, while statistical tests quantify whether such trends are strong enough to rule out random variation.\n",
    "\n",
    "To support the validity of the ANOVA assumptions, Levene’s test for equality of variances was not considered. In two-way ANOVA, this assumption still matters; however, Levene’s test becomes more complex due to the interaction of two factors. Unlike one-way ANOVA (with one grouping variable), two-way ANOVA involves multiple group combinations (e.g., combinations of city × day). That means:\n",
    "\n",
    "- Levene’s test would need to check all combinations of the two categorical variables.\n",
    "- If variances differ significantly across these subgroups, a Welch’s ANOVA or generalized linear model (GLM) is preferred."
   ]
  }
 ],
 "metadata": {
  "kernelspec": {
   "display_name": "Win11_Python-Mature-PipVenv-Github-3.10",
   "language": "python",
   "name": "python3"
  },
  "language_info": {
   "codemirror_mode": {
    "name": "ipython",
    "version": 3
   },
   "file_extension": ".py",
   "mimetype": "text/x-python",
   "name": "python",
   "nbconvert_exporter": "python",
   "pygments_lexer": "ipython3",
   "version": "3.10.0"
  }
 },
 "nbformat": 4,
 "nbformat_minor": 5
}
