{
 "cells": [
  {
   "cell_type": "markdown",
   "id": "7b58c6ef",
   "metadata": {},
   "source": [
    "#### Data set cleaning\n",
    "Dataset: \n",
    "- _instacart.zip_\n",
    "- _aisles.csv_\n",
    "- _departments.csv_\n",
    "- _instacart_orders.csv_\n",
    "- _order_products.csv_\n",
    "- _products_\n",
    "\n",
    "Author: Luis Sergio Pastrana Lemus  \n",
    "Date: 2025-05-05"
   ]
  },
  {
   "cell_type": "markdown",
   "id": "ca32144c",
   "metadata": {},
   "source": [
    "# Data Cleaning – Purchasing Activity Dataset"
   ]
  },
  {
   "cell_type": "markdown",
   "id": "1b9932f3",
   "metadata": {},
   "source": [
    "## __1. Libraries__"
   ]
  },
  {
   "cell_type": "code",
   "execution_count": 1,
   "id": "25981453",
   "metadata": {},
   "outputs": [],
   "source": [
    "from IPython.display import display, HTML\n",
    "import os\n",
    "import pandas as pd\n",
    "from pathlib import Path\n",
    "import sys\n",
    "\n",
    "# Define project root dynamically, gets the current directory from whick the notebook belongs and moves one level upper\n",
    "project_root = Path.cwd().parent\n",
    "\n",
    "# Add src to sys.path if it is not already\n",
    "if str(project_root) not in sys.path:\n",
    "    sys.path.append(str(project_root))\n",
    "\n",
    "# Import function directly (more controlled than import *)\n",
    "from src import *"
   ]
  },
  {
   "cell_type": "markdown",
   "id": "80a9b14e",
   "metadata": {},
   "source": [
    "## __2. Path to Data file__"
   ]
  },
  {
   "cell_type": "code",
   "execution_count": 2,
   "id": "198282e9",
   "metadata": {},
   "outputs": [],
   "source": [
    "# Build route to data file and upload\n",
    "data_file_path = project_root / \"data\" / \"raw\" / \"instacart.zip\"\n",
    "df_aisles = load_dataset_from_zip(data_file_path, \"aisles.csv\", sep=';', header='infer', keep_default_na=False)\n",
    "df_departments = load_dataset_from_zip(data_file_path, \"departments.csv\", sep=';', header='infer', keep_default_na=False)\n",
    "df_orders = load_dataset_from_zip(data_file_path, \"instacart_orders.csv\", sep=';', header='infer', keep_default_na=False)\n",
    "df_order_products = load_dataset_from_zip(data_file_path, \"order_products.csv\", sep=';', header='infer', keep_default_na=False)\n",
    "df_products = load_dataset_from_zip(data_file_path, \"products.csv\", sep=';', header='infer', keep_default_na=False)"
   ]
  },
  {
   "cell_type": "markdown",
   "id": "c8293e31",
   "metadata": {},
   "source": [
    "##### `LSPL`\n",
    "\n",
    "**Note:** `keep_default_na=False` is used to later convert missing values to `pd.NA`.  \n",
    "This is beneficial because `pd.NA` provides:\n",
    "\n",
    "- Consistency across data types  \n",
    "- Type integrity preservation  \n",
    "- Cleaner logical operations  \n",
    "- Improved control over missing data\n",
    "\n",
    "Since high performance or heavy computation is not required here, using `pd.NA` is appropriate."
   ]
  },
  {
   "cell_type": "code",
   "execution_count": 3,
   "id": "3edd5dd5",
   "metadata": {},
   "outputs": [],
   "source": [
    "# Format notebook output\n",
    "format_notebook()"
   ]
  },
  {
   "cell_type": "markdown",
   "id": "76255815",
   "metadata": {},
   "source": [
    "## __3. Data set cleaning__"
   ]
  },
  {
   "cell_type": "code",
   "execution_count": 4,
   "id": "dd602d96",
   "metadata": {},
   "outputs": [
    {
     "name": "stdout",
     "output_type": "stream",
     "text": [
      "<class 'pandas.core.frame.DataFrame'>\n",
      "RangeIndex: 134 entries, 0 to 133\n",
      "Data columns (total 2 columns):\n",
      " #   Column    Non-Null Count  Dtype \n",
      "---  ------    --------------  ----- \n",
      " 0   Aisle id  134 non-null    int64 \n",
      " 1   AISLE     134 non-null    object\n",
      "dtypes: int64(1), object(1)\n",
      "memory usage: 2.2+ KB\n"
     ]
    }
   ],
   "source": [
    "df_aisles.info()"
   ]
  },
  {
   "cell_type": "code",
   "execution_count": 5,
   "id": "8fc761ca",
   "metadata": {},
   "outputs": [
    {
     "name": "stdout",
     "output_type": "stream",
     "text": [
      "<class 'pandas.core.frame.DataFrame'>\n",
      "RangeIndex: 21 entries, 0 to 20\n",
      "Data columns (total 2 columns):\n",
      " #   Column         Non-Null Count  Dtype \n",
      "---  ------         --------------  ----- \n",
      " 0   Department ID  21 non-null     int64 \n",
      " 1   DEPARTMENT     21 non-null     object\n",
      "dtypes: int64(1), object(1)\n",
      "memory usage: 464.0+ bytes\n"
     ]
    }
   ],
   "source": [
    "df_departments.info()"
   ]
  },
  {
   "cell_type": "code",
   "execution_count": 6,
   "id": "81be8408",
   "metadata": {},
   "outputs": [
    {
     "name": "stdout",
     "output_type": "stream",
     "text": [
      "<class 'pandas.core.frame.DataFrame'>\n",
      "RangeIndex: 478967 entries, 0 to 478966\n",
      "Data columns (total 6 columns):\n",
      " #   Column                  Non-Null Count   Dtype \n",
      "---  ------                  --------------   ----- \n",
      " 0   Order ID                478967 non-null  int64 \n",
      " 1   User ID                 478967 non-null  int64 \n",
      " 2   Order number            478967 non-null  int64 \n",
      " 3   Order DOW               478967 non-null  int64 \n",
      " 4   Order HOUR of day       478967 non-null  int64 \n",
      " 5   Days Since Prior ORDER  478967 non-null  object\n",
      "dtypes: int64(5), object(1)\n",
      "memory usage: 21.9+ MB\n"
     ]
    }
   ],
   "source": [
    "df_orders.info()"
   ]
  },
  {
   "cell_type": "code",
   "execution_count": 7,
   "id": "11f5fa87",
   "metadata": {},
   "outputs": [
    {
     "name": "stdout",
     "output_type": "stream",
     "text": [
      "<class 'pandas.core.frame.DataFrame'>\n",
      "RangeIndex: 4545007 entries, 0 to 4545006\n",
      "Data columns (total 4 columns):\n",
      " #   Column                Dtype \n",
      "---  ------                ----- \n",
      " 0   Order ID              int64 \n",
      " 1    Product ID           int64 \n",
      " 2      Add To Cart Order  object\n",
      " 3   Reordered             int64 \n",
      "dtypes: int64(3), object(1)\n",
      "memory usage: 138.7+ MB\n"
     ]
    }
   ],
   "source": [
    "df_order_products.info()"
   ]
  },
  {
   "cell_type": "code",
   "execution_count": 8,
   "id": "6346fda6",
   "metadata": {},
   "outputs": [
    {
     "name": "stdout",
     "output_type": "stream",
     "text": [
      "<class 'pandas.core.frame.DataFrame'>\n",
      "RangeIndex: 49694 entries, 0 to 49693\n",
      "Data columns (total 4 columns):\n",
      " #   Column              Non-Null Count  Dtype \n",
      "---  ------              --------------  ----- \n",
      " 0     Product ID        49694 non-null  int64 \n",
      " 1    Product Name       49694 non-null  object\n",
      " 2      Aisle Id         49694 non-null  int64 \n",
      " 3   Department ID       49694 non-null  int64 \n",
      "dtypes: int64(3), object(1)\n",
      "memory usage: 1.5+ MB\n"
     ]
    }
   ],
   "source": [
    "df_products.info()"
   ]
  },
  {
   "cell_type": "markdown",
   "id": "9ecc42c7",
   "metadata": {},
   "source": [
    "### 3.1. Standardizing String values using \"snake case\""
   ]
  },
  {
   "cell_type": "markdown",
   "id": "e009a930",
   "metadata": {},
   "source": [
    "#### 3.1.1 Standardizing Column Labels"
   ]
  },
  {
   "cell_type": "code",
   "execution_count": 9,
   "id": "05669bd8",
   "metadata": {},
   "outputs": [
    {
     "data": {
      "text/plain": [
       "Index(['aisle_id', 'aisle'], dtype='object')"
      ]
     },
     "execution_count": 9,
     "metadata": {},
     "output_type": "execute_result"
    }
   ],
   "source": [
    "# Standardize column labels with snake_case format\n",
    "df_aisles = normalize_columns_headers_format(df_aisles)\n",
    "df_aisles.columns"
   ]
  },
  {
   "cell_type": "code",
   "execution_count": 10,
   "id": "1f98196f",
   "metadata": {},
   "outputs": [
    {
     "data": {
      "text/plain": [
       "Index(['department_id', 'department'], dtype='object')"
      ]
     },
     "execution_count": 10,
     "metadata": {},
     "output_type": "execute_result"
    }
   ],
   "source": [
    "df_departments = normalize_columns_headers_format(df_departments)\n",
    "df_departments.columns"
   ]
  },
  {
   "cell_type": "code",
   "execution_count": 11,
   "id": "a90fb2c0",
   "metadata": {},
   "outputs": [
    {
     "data": {
      "text/plain": [
       "Index(['order_id', 'user_id', 'order_number', 'order_dow', 'order_hour_of_day', 'days_since_prior_order'], dtype='object')"
      ]
     },
     "execution_count": 11,
     "metadata": {},
     "output_type": "execute_result"
    }
   ],
   "source": [
    "df_orders = normalize_columns_headers_format(df_orders)\n",
    "df_orders.columns"
   ]
  },
  {
   "cell_type": "code",
   "execution_count": 12,
   "id": "0b05502b",
   "metadata": {},
   "outputs": [
    {
     "data": {
      "text/plain": [
       "Index(['order_id', 'product_id', 'add_to_cart_order', 'reordered'], dtype='object')"
      ]
     },
     "execution_count": 12,
     "metadata": {},
     "output_type": "execute_result"
    }
   ],
   "source": [
    "df_order_products = normalize_columns_headers_format(df_order_products)\n",
    "df_order_products.columns"
   ]
  },
  {
   "cell_type": "code",
   "execution_count": 13,
   "id": "802df341",
   "metadata": {},
   "outputs": [
    {
     "data": {
      "text/plain": [
       "Index(['product_id', 'product_name', 'aisle_id', 'department_id'], dtype='object')"
      ]
     },
     "execution_count": 13,
     "metadata": {},
     "output_type": "execute_result"
    }
   ],
   "source": [
    "df_products = normalize_columns_headers_format(df_products)\n",
    "df_products.columns"
   ]
  },
  {
   "cell_type": "markdown",
   "id": "0cc7d74b",
   "metadata": {},
   "source": [
    "#### 3.1.2 Standardizing Dataframe String values"
   ]
  },
  {
   "cell_type": "code",
   "execution_count": 14,
   "id": "3482a2aa",
   "metadata": {},
   "outputs": [
    {
     "data": {
      "application/vnd.microsoft.datawrangler.viewer.v0+json": {
       "columns": [
        {
         "name": "index",
         "rawType": "int64",
         "type": "integer"
        },
        {
         "name": "aisle_id",
         "rawType": "int64",
         "type": "integer"
        },
        {
         "name": "aisle",
         "rawType": "object",
         "type": "string"
        }
       ],
       "ref": "bff44fd5-2faa-4c2d-85f5-c48de7d8b694",
       "rows": [
        [
         "0",
         "1",
         "prepared_soups_salads"
        ],
        [
         "1",
         "2",
         "specialty_cheeses"
        ],
        [
         "2",
         "3",
         "energy_granola_bars"
        ],
        [
         "3",
         "4",
         "instant_foods"
        ],
        [
         "4",
         "5",
         "marinades_meat_preparation"
        ],
        [
         "5",
         "6",
         "other"
        ],
        [
         "6",
         "7",
         "packaged_meat"
        ],
        [
         "7",
         "8",
         "bakery_desserts"
        ],
        [
         "8",
         "9",
         "pasta_sauce"
        ],
        [
         "9",
         "10",
         "kitchen_supplies"
        ],
        [
         "10",
         "11",
         "cold_flu_allergy"
        ],
        [
         "11",
         "12",
         "fresh_pasta"
        ],
        [
         "12",
         "13",
         "prepared_meals"
        ],
        [
         "13",
         "14",
         "tofu_meat_alternatives"
        ],
        [
         "14",
         "15",
         "packaged_seafood"
        ],
        [
         "15",
         "16",
         "fresh_herbs"
        ],
        [
         "16",
         "17",
         "baking_ingredients"
        ],
        [
         "17",
         "18",
         "bulk_dried_fruits_vegetables"
        ],
        [
         "18",
         "19",
         "oils_vinegars"
        ],
        [
         "19",
         "20",
         "oral_hygiene"
        ],
        [
         "20",
         "21",
         "packaged_cheese"
        ],
        [
         "21",
         "22",
         "hair_care"
        ],
        [
         "22",
         "23",
         "popcorn_jerky"
        ],
        [
         "23",
         "24",
         "fresh_fruits"
        ],
        [
         "24",
         "25",
         "soap"
        ],
        [
         "25",
         "26",
         "coffee"
        ],
        [
         "26",
         "27",
         "beers_coolers"
        ],
        [
         "27",
         "28",
         "red_wines"
        ],
        [
         "28",
         "29",
         "honeys_syrups_nectars"
        ],
        [
         "29",
         "30",
         "latino_foods"
        ],
        [
         "30",
         "31",
         "refrigerated"
        ],
        [
         "31",
         "32",
         "packaged_produce"
        ],
        [
         "32",
         "33",
         "kosher_foods"
        ],
        [
         "33",
         "34",
         "frozen_meat_seafood"
        ],
        [
         "34",
         "35",
         "poultry_counter"
        ],
        [
         "35",
         "36",
         "butter"
        ],
        [
         "36",
         "37",
         "ice_cream_ice"
        ],
        [
         "37",
         "38",
         "frozen_meals"
        ],
        [
         "38",
         "39",
         "seafood_counter"
        ],
        [
         "39",
         "40",
         "dog_food_care"
        ],
        [
         "40",
         "41",
         "cat_food_care"
        ],
        [
         "41",
         "42",
         "frozen_vegan_vegetarian"
        ],
        [
         "42",
         "43",
         "buns_rolls"
        ],
        [
         "43",
         "44",
         "eye_ear_care"
        ],
        [
         "44",
         "45",
         "candy_chocolate"
        ],
        [
         "45",
         "46",
         "mint_gum"
        ],
        [
         "46",
         "47",
         "vitamins_supplements"
        ],
        [
         "47",
         "48",
         "breakfast_bars_pastries"
        ],
        [
         "48",
         "49",
         "packaged_poultry"
        ],
        [
         "49",
         "50",
         "fruit_vegetable_snacks"
        ]
       ],
       "shape": {
        "columns": 2,
        "rows": 134
       }
      },
      "text/html": [
       "<div>\n",
       "<style scoped>\n",
       "    .dataframe tbody tr th:only-of-type {\n",
       "        vertical-align: middle;\n",
       "    }\n",
       "\n",
       "    .dataframe tbody tr th {\n",
       "        vertical-align: top;\n",
       "    }\n",
       "\n",
       "    .dataframe thead th {\n",
       "        text-align: right;\n",
       "    }\n",
       "</style>\n",
       "<table border=\"1\" class=\"dataframe\">\n",
       "  <thead>\n",
       "    <tr style=\"text-align: right;\">\n",
       "      <th></th>\n",
       "      <th>aisle_id</th>\n",
       "      <th>aisle</th>\n",
       "    </tr>\n",
       "  </thead>\n",
       "  <tbody>\n",
       "    <tr>\n",
       "      <th>0</th>\n",
       "      <td>1</td>\n",
       "      <td>prepared_soups_salads</td>\n",
       "    </tr>\n",
       "    <tr>\n",
       "      <th>1</th>\n",
       "      <td>2</td>\n",
       "      <td>specialty_cheeses</td>\n",
       "    </tr>\n",
       "    <tr>\n",
       "      <th>2</th>\n",
       "      <td>3</td>\n",
       "      <td>energy_granola_bars</td>\n",
       "    </tr>\n",
       "    <tr>\n",
       "      <th>3</th>\n",
       "      <td>4</td>\n",
       "      <td>instant_foods</td>\n",
       "    </tr>\n",
       "    <tr>\n",
       "      <th>4</th>\n",
       "      <td>5</td>\n",
       "      <td>marinades_meat_preparation</td>\n",
       "    </tr>\n",
       "    <tr>\n",
       "      <th>...</th>\n",
       "      <td>...</td>\n",
       "      <td>...</td>\n",
       "    </tr>\n",
       "    <tr>\n",
       "      <th>129</th>\n",
       "      <td>130</td>\n",
       "      <td>hot_cereal_pancake_mixes</td>\n",
       "    </tr>\n",
       "    <tr>\n",
       "      <th>130</th>\n",
       "      <td>131</td>\n",
       "      <td>dry_pasta</td>\n",
       "    </tr>\n",
       "    <tr>\n",
       "      <th>131</th>\n",
       "      <td>132</td>\n",
       "      <td>beauty</td>\n",
       "    </tr>\n",
       "    <tr>\n",
       "      <th>132</th>\n",
       "      <td>133</td>\n",
       "      <td>muscles_joints_pain_relief</td>\n",
       "    </tr>\n",
       "    <tr>\n",
       "      <th>133</th>\n",
       "      <td>134</td>\n",
       "      <td>specialty_wines_champagnes</td>\n",
       "    </tr>\n",
       "  </tbody>\n",
       "</table>\n",
       "<p>134 rows × 2 columns</p>\n",
       "</div>"
      ],
      "text/plain": [
       "     aisle_id                       aisle\n",
       "0           1       prepared_soups_salads\n",
       "1           2           specialty_cheeses\n",
       "2           3         energy_granola_bars\n",
       "3           4               instant_foods\n",
       "4           5  marinades_meat_preparation\n",
       "..        ...                         ...\n",
       "129       130    hot_cereal_pancake_mixes\n",
       "130       131                   dry_pasta\n",
       "131       132                      beauty\n",
       "132       133  muscles_joints_pain_relief\n",
       "133       134  specialty_wines_champagnes\n",
       "\n",
       "[134 rows x 2 columns]"
      ]
     },
     "execution_count": 14,
     "metadata": {},
     "output_type": "execute_result"
    }
   ],
   "source": [
    "# Standardize dataa frame string values with snake_case format\n",
    "df_aisles = normalize_string_format(df_aisles, exclude=['aisle_id'])\n",
    "df_aisles"
   ]
  },
  {
   "cell_type": "code",
   "execution_count": 15,
   "id": "993d7801",
   "metadata": {},
   "outputs": [
    {
     "data": {
      "application/vnd.microsoft.datawrangler.viewer.v0+json": {
       "columns": [
        {
         "name": "index",
         "rawType": "int64",
         "type": "integer"
        },
        {
         "name": "department_id",
         "rawType": "int64",
         "type": "integer"
        },
        {
         "name": "department",
         "rawType": "object",
         "type": "string"
        }
       ],
       "ref": "db3a52b5-6aeb-42bb-8c7a-c1a087db77ab",
       "rows": [
        [
         "0",
         "1",
         "frozen"
        ],
        [
         "1",
         "2",
         "other"
        ],
        [
         "2",
         "3",
         "bakery"
        ],
        [
         "3",
         "4",
         "produce"
        ],
        [
         "4",
         "5",
         "alcohol"
        ],
        [
         "5",
         "6",
         "international"
        ],
        [
         "6",
         "7",
         "beverages"
        ],
        [
         "7",
         "8",
         "pets"
        ],
        [
         "8",
         "9",
         "dry_goods_pasta"
        ],
        [
         "9",
         "10",
         "bulk"
        ],
        [
         "10",
         "11",
         "personal_care"
        ],
        [
         "11",
         "12",
         "meat_seafood"
        ],
        [
         "12",
         "13",
         "pantry"
        ],
        [
         "13",
         "14",
         "breakfast"
        ],
        [
         "14",
         "15",
         "canned_goods"
        ],
        [
         "15",
         "16",
         "dairy_eggs"
        ],
        [
         "16",
         "17",
         "household"
        ],
        [
         "17",
         "18",
         "babies"
        ],
        [
         "18",
         "19",
         "snacks"
        ],
        [
         "19",
         "20",
         "deli"
        ],
        [
         "20",
         "21",
         "missing"
        ]
       ],
       "shape": {
        "columns": 2,
        "rows": 21
       }
      },
      "text/html": [
       "<div>\n",
       "<style scoped>\n",
       "    .dataframe tbody tr th:only-of-type {\n",
       "        vertical-align: middle;\n",
       "    }\n",
       "\n",
       "    .dataframe tbody tr th {\n",
       "        vertical-align: top;\n",
       "    }\n",
       "\n",
       "    .dataframe thead th {\n",
       "        text-align: right;\n",
       "    }\n",
       "</style>\n",
       "<table border=\"1\" class=\"dataframe\">\n",
       "  <thead>\n",
       "    <tr style=\"text-align: right;\">\n",
       "      <th></th>\n",
       "      <th>department_id</th>\n",
       "      <th>department</th>\n",
       "    </tr>\n",
       "  </thead>\n",
       "  <tbody>\n",
       "    <tr>\n",
       "      <th>0</th>\n",
       "      <td>1</td>\n",
       "      <td>frozen</td>\n",
       "    </tr>\n",
       "    <tr>\n",
       "      <th>1</th>\n",
       "      <td>2</td>\n",
       "      <td>other</td>\n",
       "    </tr>\n",
       "    <tr>\n",
       "      <th>2</th>\n",
       "      <td>3</td>\n",
       "      <td>bakery</td>\n",
       "    </tr>\n",
       "    <tr>\n",
       "      <th>3</th>\n",
       "      <td>4</td>\n",
       "      <td>produce</td>\n",
       "    </tr>\n",
       "    <tr>\n",
       "      <th>4</th>\n",
       "      <td>5</td>\n",
       "      <td>alcohol</td>\n",
       "    </tr>\n",
       "    <tr>\n",
       "      <th>5</th>\n",
       "      <td>6</td>\n",
       "      <td>international</td>\n",
       "    </tr>\n",
       "    <tr>\n",
       "      <th>6</th>\n",
       "      <td>7</td>\n",
       "      <td>beverages</td>\n",
       "    </tr>\n",
       "    <tr>\n",
       "      <th>7</th>\n",
       "      <td>8</td>\n",
       "      <td>pets</td>\n",
       "    </tr>\n",
       "    <tr>\n",
       "      <th>8</th>\n",
       "      <td>9</td>\n",
       "      <td>dry_goods_pasta</td>\n",
       "    </tr>\n",
       "    <tr>\n",
       "      <th>9</th>\n",
       "      <td>10</td>\n",
       "      <td>bulk</td>\n",
       "    </tr>\n",
       "    <tr>\n",
       "      <th>10</th>\n",
       "      <td>11</td>\n",
       "      <td>personal_care</td>\n",
       "    </tr>\n",
       "    <tr>\n",
       "      <th>11</th>\n",
       "      <td>12</td>\n",
       "      <td>meat_seafood</td>\n",
       "    </tr>\n",
       "    <tr>\n",
       "      <th>12</th>\n",
       "      <td>13</td>\n",
       "      <td>pantry</td>\n",
       "    </tr>\n",
       "    <tr>\n",
       "      <th>13</th>\n",
       "      <td>14</td>\n",
       "      <td>breakfast</td>\n",
       "    </tr>\n",
       "    <tr>\n",
       "      <th>14</th>\n",
       "      <td>15</td>\n",
       "      <td>canned_goods</td>\n",
       "    </tr>\n",
       "    <tr>\n",
       "      <th>15</th>\n",
       "      <td>16</td>\n",
       "      <td>dairy_eggs</td>\n",
       "    </tr>\n",
       "    <tr>\n",
       "      <th>16</th>\n",
       "      <td>17</td>\n",
       "      <td>household</td>\n",
       "    </tr>\n",
       "    <tr>\n",
       "      <th>17</th>\n",
       "      <td>18</td>\n",
       "      <td>babies</td>\n",
       "    </tr>\n",
       "    <tr>\n",
       "      <th>18</th>\n",
       "      <td>19</td>\n",
       "      <td>snacks</td>\n",
       "    </tr>\n",
       "    <tr>\n",
       "      <th>19</th>\n",
       "      <td>20</td>\n",
       "      <td>deli</td>\n",
       "    </tr>\n",
       "    <tr>\n",
       "      <th>20</th>\n",
       "      <td>21</td>\n",
       "      <td>missing</td>\n",
       "    </tr>\n",
       "  </tbody>\n",
       "</table>\n",
       "</div>"
      ],
      "text/plain": [
       "    department_id       department\n",
       "0               1           frozen\n",
       "1               2            other\n",
       "2               3           bakery\n",
       "3               4          produce\n",
       "4               5          alcohol\n",
       "5               6    international\n",
       "6               7        beverages\n",
       "7               8             pets\n",
       "8               9  dry_goods_pasta\n",
       "9              10             bulk\n",
       "10             11    personal_care\n",
       "11             12     meat_seafood\n",
       "12             13           pantry\n",
       "13             14        breakfast\n",
       "14             15     canned_goods\n",
       "15             16       dairy_eggs\n",
       "16             17        household\n",
       "17             18           babies\n",
       "18             19           snacks\n",
       "19             20             deli\n",
       "20             21          missing"
      ]
     },
     "execution_count": 15,
     "metadata": {},
     "output_type": "execute_result"
    }
   ],
   "source": [
    "df_departments = normalize_string_format(df_departments, exclude=['department_id'])\n",
    "df_departments"
   ]
  },
  {
   "cell_type": "code",
   "execution_count": 16,
   "id": "a6de27e3",
   "metadata": {},
   "outputs": [
    {
     "data": {
      "application/vnd.microsoft.datawrangler.viewer.v0+json": {
       "columns": [
        {
         "name": "index",
         "rawType": "int64",
         "type": "integer"
        },
        {
         "name": "product_id",
         "rawType": "int64",
         "type": "integer"
        },
        {
         "name": "product_name",
         "rawType": "object",
         "type": "string"
        },
        {
         "name": "aisle_id",
         "rawType": "int64",
         "type": "integer"
        },
        {
         "name": "department_id",
         "rawType": "int64",
         "type": "integer"
        }
       ],
       "ref": "e0d0b628-f505-4f88-a546-7ee713aab5a2",
       "rows": [
        [
         "0",
         "1",
         "chocolate_sandwich_cookies",
         "61",
         "19"
        ],
        [
         "1",
         "2",
         "all_seasons_salt",
         "104",
         "13"
        ],
        [
         "2",
         "3",
         "robust_golden_unsweetened_oolong_tea",
         "94",
         "7"
        ],
        [
         "3",
         "4",
         "smart_ones_classic_favorites_mini_rigatoni_with_vodka_cream_sauce",
         "38",
         "1"
        ],
        [
         "4",
         "5",
         "green_chile_anytime_sauce",
         "5",
         "13"
        ],
        [
         "5",
         "6",
         "dry_nose_oil",
         "11",
         "11"
        ],
        [
         "6",
         "7",
         "pure_coconut_water_with_orange",
         "98",
         "7"
        ],
        [
         "7",
         "8",
         "cut_russet_potatoes_steam_n_mash",
         "116",
         "1"
        ],
        [
         "8",
         "9",
         "light_strawberry_blueberry_yogurt",
         "120",
         "16"
        ],
        [
         "9",
         "10",
         "sparkling_orange_juice_prickly_pear_beverage",
         "115",
         "7"
        ],
        [
         "10",
         "11",
         "peach_mango_juice",
         "31",
         "7"
        ],
        [
         "11",
         "12",
         "chocolate_fudge_layer_cake",
         "119",
         "1"
        ],
        [
         "12",
         "13",
         "saline_nasal_mist",
         "11",
         "11"
        ],
        [
         "13",
         "14",
         "fresh_scent_dishwasher_cleaner",
         "74",
         "17"
        ],
        [
         "14",
         "15",
         "overnight_diapers_size_6",
         "56",
         "18"
        ],
        [
         "15",
         "16",
         "mint_chocolate_flavored_syrup",
         "103",
         "19"
        ],
        [
         "16",
         "17",
         "rendered_duck_fat",
         "35",
         "12"
        ],
        [
         "17",
         "18",
         "pizza_for_one_suprema_frozen_pizza",
         "79",
         "1"
        ],
        [
         "18",
         "19",
         "gluten_free_quinoa_three_cheese_mushroom_blend",
         "63",
         "9"
        ],
        [
         "19",
         "20",
         "pomegranate_cranberry_aloe_vera_enrich_drink",
         "98",
         "7"
        ],
        [
         "20",
         "21",
         "small_medium_dental_dog_treats",
         "40",
         "8"
        ],
        [
         "21",
         "22",
         "fresh_breath_oral_rinse_mild_mint",
         "20",
         "11"
        ],
        [
         "22",
         "23",
         "organic_turkey_burgers",
         "49",
         "12"
        ],
        [
         "23",
         "24",
         "tri_vi_sol_vitamins_a_c_and_d_supplement_drops_for_infants",
         "47",
         "11"
        ],
        [
         "24",
         "25",
         "salted_caramel_lean_protein_fiber_bar",
         "3",
         "19"
        ],
        [
         "25",
         "26",
         "fancy_feast_trout_feast_flaked_wet_cat_food",
         "41",
         "8"
        ],
        [
         "26",
         "27",
         "complete_spring_water_foaming_antibacterial_hand_wash",
         "127",
         "11"
        ],
        [
         "27",
         "28",
         "wheat_chex_cereal",
         "121",
         "14"
        ],
        [
         "28",
         "29",
         "fresh_cut_golden_sweet_no_salt_added_whole_kernel_corn",
         "81",
         "15"
        ],
        [
         "29",
         "30",
         "three_cheese_ziti_marinara_with_meatballs",
         "38",
         "1"
        ],
        [
         "30",
         "31",
         "white_pearl_onions",
         "123",
         "4"
        ],
        [
         "31",
         "32",
         "nacho_cheese_white_bean_chips",
         "107",
         "19"
        ],
        [
         "32",
         "33",
         "organic_spaghetti_style_pasta",
         "131",
         "9"
        ],
        [
         "33",
         "34",
         "peanut_butter_cereal",
         "121",
         "14"
        ],
        [
         "34",
         "35",
         "italian_herb_porcini_mushrooms_chicken_sausage",
         "106",
         "12"
        ],
        [
         "35",
         "36",
         "traditional_lasagna_with_meat_sauce_savory_italian_recipes",
         "38",
         "1"
        ],
        [
         "36",
         "37",
         "noodle_soup_mix_with_chicken_broth",
         "69",
         "15"
        ],
        [
         "37",
         "38",
         "",
         "100",
         "21"
        ],
        [
         "38",
         "39",
         "daily_tangerine_citrus_flavored_beverage",
         "64",
         "7"
        ],
        [
         "39",
         "40",
         "beef_hot_links_beef_smoked_sausage_with_chile_peppers",
         "106",
         "12"
        ],
        [
         "40",
         "41",
         "organic_sourdough_einkorn_crackers_rosemary",
         "78",
         "19"
        ],
        [
         "41",
         "42",
         "biotin_1000_mcg",
         "47",
         "11"
        ],
        [
         "42",
         "43",
         "organic_clementines",
         "123",
         "4"
        ],
        [
         "43",
         "44",
         "sparkling_raspberry_seltzer",
         "115",
         "7"
        ],
        [
         "44",
         "45",
         "european_cucumber",
         "83",
         "4"
        ],
        [
         "45",
         "46",
         "raisin_cinnamon_bagels_5_count",
         "58",
         "1"
        ],
        [
         "46",
         "47",
         "onion_flavor_organic_roasted_seaweed_snack",
         "66",
         "6"
        ],
        [
         "47",
         "48",
         "school_glue_washable_no_run",
         "87",
         "17"
        ],
        [
         "48",
         "49",
         "vegetarian_grain_meat_sausages_italian_4_ct",
         "14",
         "20"
        ],
        [
         "49",
         "50",
         "pumpkin_muffin_mix",
         "105",
         "13"
        ]
       ],
       "shape": {
        "columns": 4,
        "rows": 49694
       }
      },
      "text/html": [
       "<div>\n",
       "<style scoped>\n",
       "    .dataframe tbody tr th:only-of-type {\n",
       "        vertical-align: middle;\n",
       "    }\n",
       "\n",
       "    .dataframe tbody tr th {\n",
       "        vertical-align: top;\n",
       "    }\n",
       "\n",
       "    .dataframe thead th {\n",
       "        text-align: right;\n",
       "    }\n",
       "</style>\n",
       "<table border=\"1\" class=\"dataframe\">\n",
       "  <thead>\n",
       "    <tr style=\"text-align: right;\">\n",
       "      <th></th>\n",
       "      <th>product_id</th>\n",
       "      <th>product_name</th>\n",
       "      <th>aisle_id</th>\n",
       "      <th>department_id</th>\n",
       "    </tr>\n",
       "  </thead>\n",
       "  <tbody>\n",
       "    <tr>\n",
       "      <th>0</th>\n",
       "      <td>1</td>\n",
       "      <td>chocolate_sandwich_cookies</td>\n",
       "      <td>61</td>\n",
       "      <td>19</td>\n",
       "    </tr>\n",
       "    <tr>\n",
       "      <th>1</th>\n",
       "      <td>2</td>\n",
       "      <td>all_seasons_salt</td>\n",
       "      <td>104</td>\n",
       "      <td>13</td>\n",
       "    </tr>\n",
       "    <tr>\n",
       "      <th>2</th>\n",
       "      <td>3</td>\n",
       "      <td>robust_golden_unsweetened_oolong_tea</td>\n",
       "      <td>94</td>\n",
       "      <td>7</td>\n",
       "    </tr>\n",
       "    <tr>\n",
       "      <th>3</th>\n",
       "      <td>4</td>\n",
       "      <td>smart_ones_classic_favorites_mini_rigatoni_wit...</td>\n",
       "      <td>38</td>\n",
       "      <td>1</td>\n",
       "    </tr>\n",
       "    <tr>\n",
       "      <th>4</th>\n",
       "      <td>5</td>\n",
       "      <td>green_chile_anytime_sauce</td>\n",
       "      <td>5</td>\n",
       "      <td>13</td>\n",
       "    </tr>\n",
       "    <tr>\n",
       "      <th>...</th>\n",
       "      <td>...</td>\n",
       "      <td>...</td>\n",
       "      <td>...</td>\n",
       "      <td>...</td>\n",
       "    </tr>\n",
       "    <tr>\n",
       "      <th>49689</th>\n",
       "      <td>49690</td>\n",
       "      <td>high_performance_energy_drink</td>\n",
       "      <td>64</td>\n",
       "      <td>7</td>\n",
       "    </tr>\n",
       "    <tr>\n",
       "      <th>49690</th>\n",
       "      <td>49691</td>\n",
       "      <td>original_pancake_waffle_mix</td>\n",
       "      <td>130</td>\n",
       "      <td>14</td>\n",
       "    </tr>\n",
       "    <tr>\n",
       "      <th>49691</th>\n",
       "      <td>49692</td>\n",
       "      <td>organic_instant_oatmeal_light_maple_brown_sugar</td>\n",
       "      <td>130</td>\n",
       "      <td>14</td>\n",
       "    </tr>\n",
       "    <tr>\n",
       "      <th>49692</th>\n",
       "      <td>49693</td>\n",
       "      <td>spring_water_body_wash</td>\n",
       "      <td>127</td>\n",
       "      <td>11</td>\n",
       "    </tr>\n",
       "    <tr>\n",
       "      <th>49693</th>\n",
       "      <td>49694</td>\n",
       "      <td>burrito_steak_cheese</td>\n",
       "      <td>38</td>\n",
       "      <td>1</td>\n",
       "    </tr>\n",
       "  </tbody>\n",
       "</table>\n",
       "<p>49694 rows × 4 columns</p>\n",
       "</div>"
      ],
      "text/plain": [
       "       product_id                                       product_name  aisle_id  department_id\n",
       "0               1                         chocolate_sandwich_cookies        61             19\n",
       "1               2                                   all_seasons_salt       104             13\n",
       "2               3               robust_golden_unsweetened_oolong_tea        94              7\n",
       "3               4  smart_ones_classic_favorites_mini_rigatoni_wit...        38              1\n",
       "4               5                          green_chile_anytime_sauce         5             13\n",
       "...           ...                                                ...       ...            ...\n",
       "49689       49690                      high_performance_energy_drink        64              7\n",
       "49690       49691                        original_pancake_waffle_mix       130             14\n",
       "49691       49692    organic_instant_oatmeal_light_maple_brown_sugar       130             14\n",
       "49692       49693                             spring_water_body_wash       127             11\n",
       "49693       49694                               burrito_steak_cheese        38              1\n",
       "\n",
       "[49694 rows x 4 columns]"
      ]
     },
     "execution_count": 16,
     "metadata": {},
     "output_type": "execute_result"
    }
   ],
   "source": [
    "df_products = normalize_string_format(df_products, include=['product_name'])\n",
    "df_products"
   ]
  },
  {
   "cell_type": "markdown",
   "id": "0f4c8b22",
   "metadata": {},
   "source": [
    "##### `LSPL`\n",
    "\n",
    "**Note:** \n",
    "\n",
    "The column names and string values did not follow a consistent format; they contained spaces and capital letters, making them difficult to manipulate.\n",
    "\n",
    "__Solution__: Column names and string values were standardized using lowercase letters, removing spaces, and applying the snake_case format.   \n",
    "__Impact__: This facilitated data access and manipulation, improving readability and reducing errors in analysis."
   ]
  },
  {
   "cell_type": "markdown",
   "id": "61835131",
   "metadata": {},
   "source": [
    "### 3.2 Explicit duplicates"
   ]
  },
  {
   "cell_type": "code",
   "execution_count": 17,
   "id": "b0c9d50f",
   "metadata": {},
   "outputs": [
    {
     "data": {
      "text/html": [
       "> Explicit duplicates amount Dataframe <i>'df_aisles'</i>: <b>0</b>"
      ],
      "text/plain": [
       "<IPython.core.display.HTML object>"
      ]
     },
     "metadata": {},
     "output_type": "display_data"
    }
   ],
   "source": [
    "# Show explicit duplicates amount\n",
    "display(HTML(f\"> Explicit duplicates amount Dataframe <i>'df_aisles'</i>: <b>{df_aisles.duplicated().sum()}</b>\"))"
   ]
  },
  {
   "cell_type": "code",
   "execution_count": 18,
   "id": "7dca6bf0",
   "metadata": {},
   "outputs": [
    {
     "data": {
      "text/html": [
       "> Explicit duplicates amount Dataframe <i>'df_departments'</i>: <b>0</b>"
      ],
      "text/plain": [
       "<IPython.core.display.HTML object>"
      ]
     },
     "metadata": {},
     "output_type": "display_data"
    }
   ],
   "source": [
    "display(HTML(f\"> Explicit duplicates amount Dataframe <i>'df_departments'</i>: <b>{df_departments.duplicated().sum()}</b>\"))"
   ]
  },
  {
   "cell_type": "code",
   "execution_count": 19,
   "id": "29bf2f49",
   "metadata": {},
   "outputs": [
    {
     "data": {
      "text/html": [
       "> Explicit duplicates amount Dataframe <i>'df_orders'</i>: <b>15</b>"
      ],
      "text/plain": [
       "<IPython.core.display.HTML object>"
      ]
     },
     "metadata": {},
     "output_type": "display_data"
    }
   ],
   "source": [
    "display(HTML(f\"> Explicit duplicates amount Dataframe <i>'df_orders'</i>: <b>{df_orders.duplicated().sum()}</b>\"))"
   ]
  },
  {
   "cell_type": "code",
   "execution_count": 20,
   "id": "315cf4ac",
   "metadata": {},
   "outputs": [
    {
     "name": "stdout",
     "output_type": "stream",
     "text": [
      "<class 'pandas.core.frame.DataFrame'>\n",
      "RangeIndex: 478952 entries, 0 to 478951\n",
      "Data columns (total 6 columns):\n",
      " #   Column                  Non-Null Count   Dtype \n",
      "---  ------                  --------------   ----- \n",
      " 0   order_id                478952 non-null  int64 \n",
      " 1   user_id                 478952 non-null  int64 \n",
      " 2   order_number            478952 non-null  int64 \n",
      " 3   order_dow               478952 non-null  int64 \n",
      " 4   order_hour_of_day       478952 non-null  int64 \n",
      " 5   days_since_prior_order  478952 non-null  object\n",
      "dtypes: int64(5), object(1)\n",
      "memory usage: 21.9+ MB\n"
     ]
    }
   ],
   "source": [
    "# Delete explicit duplicated rows\n",
    "df_orders = df_orders.drop_duplicates().reset_index(drop=True)\n",
    "df_orders.info()"
   ]
  },
  {
   "cell_type": "code",
   "execution_count": 21,
   "id": "65c6df7b",
   "metadata": {},
   "outputs": [
    {
     "data": {
      "text/html": [
       "> Explicit duplicates amount Dataframe <i>'df_order_products'</i>: <b>0</b>"
      ],
      "text/plain": [
       "<IPython.core.display.HTML object>"
      ]
     },
     "metadata": {},
     "output_type": "display_data"
    }
   ],
   "source": [
    "display(HTML(f\"> Explicit duplicates amount Dataframe <i>'df_order_products'</i>: <b>{df_order_products.duplicated().sum()}</b>\"))"
   ]
  },
  {
   "cell_type": "code",
   "execution_count": 22,
   "id": "0b24264b",
   "metadata": {},
   "outputs": [
    {
     "data": {
      "text/html": [
       "> Explicit duplicates amount Dataframe <i>'df_prodcuts'</i>: <b>0</b>"
      ],
      "text/plain": [
       "<IPython.core.display.HTML object>"
      ]
     },
     "metadata": {},
     "output_type": "display_data"
    }
   ],
   "source": [
    "display(HTML(f\"> Explicit duplicates amount Dataframe <i>'df_prodcuts'</i>: <b>{df_products.duplicated().sum()}</b>\"))"
   ]
  },
  {
   "cell_type": "markdown",
   "id": "6ad10fbf",
   "metadata": {},
   "source": [
    "##### `LSPL`\n",
    "\n",
    "**Note:** \n",
    "\n",
    "Duplicate rows were detected in the dataset 'orders'.\n",
    "\n",
    "__Solution__: Explicit duplicates were removed using the drop_duplicates() method.   \n",
    "__Impact__: This prevented duplicates from affecting the analysis results."
   ]
  },
  {
   "cell_type": "markdown",
   "id": "9ac34c63",
   "metadata": {},
   "source": [
    "### 3.3 Missing values"
   ]
  },
  {
   "cell_type": "markdown",
   "id": "c4c13b8e",
   "metadata": {},
   "source": [
    "#### 3.3.1 Missing values check"
   ]
  },
  {
   "cell_type": "code",
   "execution_count": 23,
   "id": "702c85b7",
   "metadata": {},
   "outputs": [
    {
     "data": {
      "text/html": [
       "<h4>Scanning for Non-Standard Missing Values</h4>"
      ],
      "text/plain": [
       "<IPython.core.display.HTML object>"
      ]
     },
     "metadata": {},
     "output_type": "display_data"
    },
    {
     "data": {
      "text/html": [
       "> Missing values in column <i>'aisle'</i>: <b>None</b>"
      ],
      "text/plain": [
       "<IPython.core.display.HTML object>"
      ]
     },
     "metadata": {},
     "output_type": "display_data"
    },
    {
     "name": "stdout",
     "output_type": "stream",
     "text": [
      "\n"
     ]
    }
   ],
   "source": [
    "# Show missing values\n",
    "check_existing_missing_values(df_aisles)"
   ]
  },
  {
   "cell_type": "code",
   "execution_count": 24,
   "id": "24658b2c",
   "metadata": {},
   "outputs": [
    {
     "data": {
      "text/html": [
       "<h4>Scanning for Non-Standard Missing Values</h4>"
      ],
      "text/plain": [
       "<IPython.core.display.HTML object>"
      ]
     },
     "metadata": {},
     "output_type": "display_data"
    },
    {
     "data": {
      "text/html": [
       "> Missing values in column <i>'department'</i>: <b>None</b>"
      ],
      "text/plain": [
       "<IPython.core.display.HTML object>"
      ]
     },
     "metadata": {},
     "output_type": "display_data"
    },
    {
     "name": "stdout",
     "output_type": "stream",
     "text": [
      "\n"
     ]
    }
   ],
   "source": [
    "check_existing_missing_values(df_departments)"
   ]
  },
  {
   "cell_type": "code",
   "execution_count": 25,
   "id": "5f28a8c8",
   "metadata": {},
   "outputs": [
    {
     "data": {
      "text/html": [
       "<h4>Scanning for Non-Standard Missing Values</h4>"
      ],
      "text/plain": [
       "<IPython.core.display.HTML object>"
      ]
     },
     "metadata": {},
     "output_type": "display_data"
    },
    {
     "data": {
      "text/html": [
       "> Missing values in column <i>'days_since_prior_order'</i>: <b>28817</b>"
      ],
      "text/plain": [
       "<IPython.core.display.HTML object>"
      ]
     },
     "metadata": {},
     "output_type": "display_data"
    },
    {
     "data": {
      "text/html": [
       "&emsp;Matched non-standard values: ['']"
      ],
      "text/plain": [
       "<IPython.core.display.HTML object>"
      ]
     },
     "metadata": {},
     "output_type": "display_data"
    },
    {
     "name": "stdout",
     "output_type": "stream",
     "text": [
      "\n"
     ]
    }
   ],
   "source": [
    "check_existing_missing_values(df_orders)"
   ]
  },
  {
   "cell_type": "code",
   "execution_count": 26,
   "id": "2a36a723",
   "metadata": {},
   "outputs": [
    {
     "data": {
      "text/html": [
       "<h4>Scanning for Non-Standard Missing Values</h4>"
      ],
      "text/plain": [
       "<IPython.core.display.HTML object>"
      ]
     },
     "metadata": {},
     "output_type": "display_data"
    },
    {
     "data": {
      "text/html": [
       "> Missing values in column <i>'add_to_cart_order'</i>: <b>836</b>"
      ],
      "text/plain": [
       "<IPython.core.display.HTML object>"
      ]
     },
     "metadata": {},
     "output_type": "display_data"
    },
    {
     "data": {
      "text/html": [
       "&emsp;Matched non-standard values: ['']"
      ],
      "text/plain": [
       "<IPython.core.display.HTML object>"
      ]
     },
     "metadata": {},
     "output_type": "display_data"
    },
    {
     "name": "stdout",
     "output_type": "stream",
     "text": [
      "\n"
     ]
    }
   ],
   "source": [
    "check_existing_missing_values(df_order_products)"
   ]
  },
  {
   "cell_type": "code",
   "execution_count": 27,
   "id": "2deed4ff",
   "metadata": {},
   "outputs": [
    {
     "data": {
      "text/html": [
       "<h4>Scanning for Non-Standard Missing Values</h4>"
      ],
      "text/plain": [
       "<IPython.core.display.HTML object>"
      ]
     },
     "metadata": {},
     "output_type": "display_data"
    },
    {
     "data": {
      "text/html": [
       "> Missing values in column <i>'product_name'</i>: <b>1258</b>"
      ],
      "text/plain": [
       "<IPython.core.display.HTML object>"
      ]
     },
     "metadata": {},
     "output_type": "display_data"
    },
    {
     "data": {
      "text/html": [
       "&emsp;Matched non-standard values: ['']"
      ],
      "text/plain": [
       "<IPython.core.display.HTML object>"
      ]
     },
     "metadata": {},
     "output_type": "display_data"
    },
    {
     "name": "stdout",
     "output_type": "stream",
     "text": [
      "\n"
     ]
    }
   ],
   "source": [
    "check_existing_missing_values(df_products)"
   ]
  },
  {
   "cell_type": "markdown",
   "id": "b06e035d",
   "metadata": {},
   "source": [
    "#### 3.3.2 Replacing missing values (pd.NA)"
   ]
  },
  {
   "cell_type": "code",
   "execution_count": 28,
   "id": "ac29c2bc",
   "metadata": {},
   "outputs": [
    {
     "data": {
      "application/vnd.microsoft.datawrangler.viewer.v0+json": {
       "columns": [
        {
         "name": "index",
         "rawType": "int64",
         "type": "integer"
        },
        {
         "name": "order_id",
         "rawType": "int64",
         "type": "integer"
        },
        {
         "name": "user_id",
         "rawType": "int64",
         "type": "integer"
        },
        {
         "name": "order_number",
         "rawType": "int64",
         "type": "integer"
        },
        {
         "name": "order_dow",
         "rawType": "int64",
         "type": "integer"
        },
        {
         "name": "order_hour_of_day",
         "rawType": "int64",
         "type": "integer"
        },
        {
         "name": "days_since_prior_order",
         "rawType": "object",
         "type": "unknown"
        }
       ],
       "ref": "4f8f10c5-b6ca-4c35-ad6f-c7b83c348cd3",
       "rows": [
        [
         "0",
         "1515936",
         "183418",
         "11",
         "6",
         "13",
         "30.0"
        ],
        [
         "1",
         "1690866",
         "163593",
         "5",
         "5",
         "12",
         "9.0"
        ],
        [
         "2",
         "1454967",
         "39980",
         "4",
         "5",
         "19",
         "2.0"
        ],
        [
         "3",
         "1768857",
         "82516",
         "56",
         "0",
         "20",
         "10.0"
        ],
        [
         "4",
         "3007858",
         "196724",
         "2",
         "4",
         "12",
         "17.0"
        ],
        [
         "5",
         "1843871",
         "20084",
         "5",
         "0",
         "11",
         "15.0"
        ],
        [
         "6",
         "2511640",
         "148233",
         "40",
         "3",
         "8",
         "2.0"
        ],
        [
         "7",
         "2521283",
         "97711",
         "2",
         "0",
         "18",
         "22.0"
        ],
        [
         "8",
         "2266494",
         "34954",
         "40",
         "5",
         "15",
         "4.0"
        ],
        [
         "9",
         "446014",
         "15356",
         "2",
         "4",
         "8",
         "10.0"
        ],
        [
         "10",
         "1162566",
         "43738",
         "33",
         "4",
         "11",
         "2.0"
        ],
        [
         "11",
         "102585",
         "191558",
         "18",
         "6",
         "16",
         "8.0"
        ],
        [
         "12",
         "2276302",
         "190167",
         "21",
         "1",
         "12",
         "2.0"
        ],
        [
         "13",
         "782916",
         "36310",
         "34",
         "5",
         "9",
         "3.0"
        ],
        [
         "14",
         "2843219",
         "74699",
         "4",
         "6",
         "11",
         "30.0"
        ],
        [
         "15",
         "1989200",
         "71810",
         "4",
         "1",
         "9",
         "12.0"
        ],
        [
         "16",
         "3109465",
         "55090",
         "19",
         "3",
         "15",
         "9.0"
        ],
        [
         "17",
         "727519",
         "146663",
         "7",
         "4",
         "22",
         "11.0"
        ],
        [
         "18",
         "556588",
         "6801",
         "63",
         "5",
         "11",
         "7.0"
        ],
        [
         "19",
         "294269",
         "107523",
         "29",
         "2",
         "10",
         "1.0"
        ],
        [
         "20",
         "50934",
         "178510",
         "9",
         "6",
         "9",
         "5.0"
        ],
        [
         "21",
         "3097921",
         "97319",
         "40",
         "4",
         "9",
         "8.0"
        ],
        [
         "22",
         "1546269",
         "182211",
         "12",
         "1",
         "15",
         "6.0"
        ],
        [
         "23",
         "3406282",
         "19356",
         "21",
         "0",
         "0",
         "14.0"
        ],
        [
         "24",
         "3358682",
         "162252",
         "14",
         "5",
         "8",
         "5.0"
        ],
        [
         "25",
         "1895419",
         "169793",
         "2",
         "0",
         "11",
         "8.0"
        ],
        [
         "26",
         "1844247",
         "122558",
         "4",
         "6",
         "18",
         "30.0"
        ],
        [
         "27",
         "457775",
         "61263",
         "24",
         "0",
         "16",
         "7.0"
        ],
        [
         "28",
         "133707",
         "182261",
         "1",
         "3",
         "10",
         null
        ],
        [
         "29",
         "547066",
         "278",
         "38",
         "1",
         "14",
         "4.0"
        ],
        [
         "30",
         "1890318",
         "193501",
         "3",
         "3",
         "15",
         "30.0"
        ],
        [
         "31",
         "1804574",
         "195874",
         "4",
         "1",
         "14",
         "30.0"
        ],
        [
         "32",
         "2744097",
         "5316",
         "27",
         "2",
         "17",
         "8.0"
        ],
        [
         "33",
         "2672948",
         "159620",
         "8",
         "5",
         "16",
         "3.0"
        ],
        [
         "34",
         "1864378",
         "94267",
         "25",
         "0",
         "11",
         "7.0"
        ],
        [
         "35",
         "125325",
         "106853",
         "6",
         "3",
         "19",
         "30.0"
        ],
        [
         "36",
         "3378084",
         "127629",
         "21",
         "1",
         "10",
         "20.0"
        ],
        [
         "37",
         "1559475",
         "94261",
         "7",
         "0",
         "1",
         "8.0"
        ],
        [
         "38",
         "6891",
         "61176",
         "6",
         "6",
         "16",
         "30.0"
        ],
        [
         "39",
         "1673791",
         "50",
         "8",
         "6",
         "14",
         "3.0"
        ],
        [
         "40",
         "1521693",
         "51377",
         "2",
         "4",
         "14",
         "15.0"
        ],
        [
         "41",
         "939348",
         "21335",
         "28",
         "2",
         "15",
         "6.0"
        ],
        [
         "42",
         "3229994",
         "37136",
         "9",
         "6",
         "12",
         "30.0"
        ],
        [
         "43",
         "698527",
         "95296",
         "58",
         "3",
         "14",
         "22.0"
        ],
        [
         "44",
         "1590582",
         "85603",
         "2",
         "1",
         "20",
         "16.0"
        ],
        [
         "45",
         "2057617",
         "88111",
         "8",
         "1",
         "7",
         "6.0"
        ],
        [
         "46",
         "2398578",
         "84825",
         "2",
         "2",
         "17",
         "4.0"
        ],
        [
         "47",
         "80255",
         "11655",
         "17",
         "4",
         "8",
         "30.0"
        ],
        [
         "48",
         "3247802",
         "118480",
         "13",
         "0",
         "11",
         "8.0"
        ],
        [
         "49",
         "2161799",
         "87345",
         "7",
         "0",
         "10",
         "24.0"
        ]
       ],
       "shape": {
        "columns": 6,
        "rows": 478952
       }
      },
      "text/html": [
       "<div>\n",
       "<style scoped>\n",
       "    .dataframe tbody tr th:only-of-type {\n",
       "        vertical-align: middle;\n",
       "    }\n",
       "\n",
       "    .dataframe tbody tr th {\n",
       "        vertical-align: top;\n",
       "    }\n",
       "\n",
       "    .dataframe thead th {\n",
       "        text-align: right;\n",
       "    }\n",
       "</style>\n",
       "<table border=\"1\" class=\"dataframe\">\n",
       "  <thead>\n",
       "    <tr style=\"text-align: right;\">\n",
       "      <th></th>\n",
       "      <th>order_id</th>\n",
       "      <th>user_id</th>\n",
       "      <th>order_number</th>\n",
       "      <th>order_dow</th>\n",
       "      <th>order_hour_of_day</th>\n",
       "      <th>days_since_prior_order</th>\n",
       "    </tr>\n",
       "  </thead>\n",
       "  <tbody>\n",
       "    <tr>\n",
       "      <th>0</th>\n",
       "      <td>1515936</td>\n",
       "      <td>183418</td>\n",
       "      <td>11</td>\n",
       "      <td>6</td>\n",
       "      <td>13</td>\n",
       "      <td>30.0</td>\n",
       "    </tr>\n",
       "    <tr>\n",
       "      <th>1</th>\n",
       "      <td>1690866</td>\n",
       "      <td>163593</td>\n",
       "      <td>5</td>\n",
       "      <td>5</td>\n",
       "      <td>12</td>\n",
       "      <td>9.0</td>\n",
       "    </tr>\n",
       "    <tr>\n",
       "      <th>2</th>\n",
       "      <td>1454967</td>\n",
       "      <td>39980</td>\n",
       "      <td>4</td>\n",
       "      <td>5</td>\n",
       "      <td>19</td>\n",
       "      <td>2.0</td>\n",
       "    </tr>\n",
       "    <tr>\n",
       "      <th>3</th>\n",
       "      <td>1768857</td>\n",
       "      <td>82516</td>\n",
       "      <td>56</td>\n",
       "      <td>0</td>\n",
       "      <td>20</td>\n",
       "      <td>10.0</td>\n",
       "    </tr>\n",
       "    <tr>\n",
       "      <th>4</th>\n",
       "      <td>3007858</td>\n",
       "      <td>196724</td>\n",
       "      <td>2</td>\n",
       "      <td>4</td>\n",
       "      <td>12</td>\n",
       "      <td>17.0</td>\n",
       "    </tr>\n",
       "    <tr>\n",
       "      <th>...</th>\n",
       "      <td>...</td>\n",
       "      <td>...</td>\n",
       "      <td>...</td>\n",
       "      <td>...</td>\n",
       "      <td>...</td>\n",
       "      <td>...</td>\n",
       "    </tr>\n",
       "    <tr>\n",
       "      <th>478947</th>\n",
       "      <td>3210681</td>\n",
       "      <td>5617</td>\n",
       "      <td>5</td>\n",
       "      <td>1</td>\n",
       "      <td>14</td>\n",
       "      <td>7.0</td>\n",
       "    </tr>\n",
       "    <tr>\n",
       "      <th>478948</th>\n",
       "      <td>3270802</td>\n",
       "      <td>112087</td>\n",
       "      <td>2</td>\n",
       "      <td>3</td>\n",
       "      <td>13</td>\n",
       "      <td>6.0</td>\n",
       "    </tr>\n",
       "    <tr>\n",
       "      <th>478949</th>\n",
       "      <td>885349</td>\n",
       "      <td>82944</td>\n",
       "      <td>16</td>\n",
       "      <td>2</td>\n",
       "      <td>11</td>\n",
       "      <td>6.0</td>\n",
       "    </tr>\n",
       "    <tr>\n",
       "      <th>478950</th>\n",
       "      <td>216274</td>\n",
       "      <td>4391</td>\n",
       "      <td>3</td>\n",
       "      <td>3</td>\n",
       "      <td>8</td>\n",
       "      <td>8.0</td>\n",
       "    </tr>\n",
       "    <tr>\n",
       "      <th>478951</th>\n",
       "      <td>2071924</td>\n",
       "      <td>1730</td>\n",
       "      <td>18</td>\n",
       "      <td>1</td>\n",
       "      <td>14</td>\n",
       "      <td>15.0</td>\n",
       "    </tr>\n",
       "  </tbody>\n",
       "</table>\n",
       "<p>478952 rows × 6 columns</p>\n",
       "</div>"
      ],
      "text/plain": [
       "        order_id  user_id  order_number  order_dow  order_hour_of_day days_since_prior_order\n",
       "0        1515936   183418            11          6                 13                   30.0\n",
       "1        1690866   163593             5          5                 12                    9.0\n",
       "2        1454967    39980             4          5                 19                    2.0\n",
       "3        1768857    82516            56          0                 20                   10.0\n",
       "4        3007858   196724             2          4                 12                   17.0\n",
       "...          ...      ...           ...        ...                ...                    ...\n",
       "478947   3210681     5617             5          1                 14                    7.0\n",
       "478948   3270802   112087             2          3                 13                    6.0\n",
       "478949    885349    82944            16          2                 11                    6.0\n",
       "478950    216274     4391             3          3                  8                    8.0\n",
       "478951   2071924     1730            18          1                 14                   15.0\n",
       "\n",
       "[478952 rows x 6 columns]"
      ]
     },
     "execution_count": 28,
     "metadata": {},
     "output_type": "execute_result"
    }
   ],
   "source": [
    "# Replace missing values with pd.NA\n",
    "df_orders = replace_missing_values(df_orders, include=['days_since_prior_order'])\n",
    "df_orders"
   ]
  },
  {
   "cell_type": "code",
   "execution_count": 29,
   "id": "c7fb24e6",
   "metadata": {},
   "outputs": [
    {
     "data": {
      "application/vnd.microsoft.datawrangler.viewer.v0+json": {
       "columns": [
        {
         "name": "index",
         "rawType": "int64",
         "type": "integer"
        },
        {
         "name": "order_id",
         "rawType": "int64",
         "type": "integer"
        },
        {
         "name": "product_id",
         "rawType": "int64",
         "type": "integer"
        },
        {
         "name": "add_to_cart_order",
         "rawType": "object",
         "type": "unknown"
        },
        {
         "name": "reordered",
         "rawType": "int64",
         "type": "integer"
        }
       ],
       "ref": "ad87e9c7-0912-4a1d-8cc6-4eac99d7064a",
       "rows": [
        [
         "0",
         "2141543",
         "11440",
         "17.0",
         "0"
        ],
        [
         "1",
         "567889",
         "1560",
         "1.0",
         "1"
        ],
        [
         "2",
         "2261212",
         "26683",
         "1.0",
         "1"
        ],
        [
         "3",
         "491251",
         "8670",
         "35.0",
         "1"
        ],
        [
         "4",
         "2571142",
         "1940",
         "5.0",
         "1"
        ],
        [
         "5",
         "2456893",
         "21616",
         "4.0",
         "1"
        ],
        [
         "6",
         "644579",
         "12341",
         "5.0",
         "1"
        ],
        [
         "7",
         "2231852",
         "44925",
         "10.0",
         "1"
        ],
        [
         "8",
         "3185766",
         "36259",
         "14.0",
         "1"
        ],
        [
         "9",
         "420019",
         "23315",
         "4.0",
         "1"
        ],
        [
         "10",
         "925051",
         "9421",
         "2.0",
         "1"
        ],
        [
         "11",
         "44064",
         "22963",
         "28.0",
         "0"
        ],
        [
         "12",
         "522547",
         "40571",
         "10.0",
         "1"
        ],
        [
         "13",
         "2475670",
         "48520",
         "3.0",
         "0"
        ],
        [
         "14",
         "1961225",
         "37553",
         "1.0",
         "1"
        ],
        [
         "15",
         "2397389",
         "4321",
         "16.0",
         "1"
        ],
        [
         "16",
         "639939",
         "10017",
         "1.0",
         "1"
        ],
        [
         "17",
         "1721072",
         "24561",
         "8.0",
         "1"
        ],
        [
         "18",
         "89640",
         "46692",
         "7.0",
         "0"
        ],
        [
         "19",
         "2500729",
         "21616",
         "5.0",
         "1"
        ],
        [
         "20",
         "1687771",
         "22963",
         "5.0",
         "1"
        ],
        [
         "21",
         "2905625",
         "26209",
         "2.0",
         "0"
        ],
        [
         "22",
         "1482958",
         "45603",
         "6.0",
         "1"
        ],
        [
         "23",
         "750040",
         "8518",
         "1.0",
         "0"
        ],
        [
         "24",
         "2022887",
         "28169",
         "4.0",
         "0"
        ],
        [
         "25",
         "1046178",
         "26620",
         "2.0",
         "0"
        ],
        [
         "26",
         "623027",
         "13176",
         "3.0",
         "1"
        ],
        [
         "27",
         "2907647",
         "21903",
         "9.0",
         "1"
        ],
        [
         "28",
         "2492383",
         "11005",
         "16.0",
         "0"
        ],
        [
         "29",
         "773308",
         "37029",
         "15.0",
         "0"
        ],
        [
         "30",
         "2070264",
         "21872",
         "9.0",
         "0"
        ],
        [
         "31",
         "60394",
         "25659",
         "4.0",
         "1"
        ],
        [
         "32",
         "1597793",
         "5460",
         "7.0",
         "1"
        ],
        [
         "33",
         "2291457",
         "27104",
         "1.0",
         "1"
        ],
        [
         "34",
         "2966829",
         "31005",
         "22.0",
         "0"
        ],
        [
         "35",
         "1118439",
         "27307",
         "7.0",
         "0"
        ],
        [
         "36",
         "2183879",
         "12576",
         "3.0",
         "1"
        ],
        [
         "37",
         "941691",
         "30391",
         "3.0",
         "0"
        ],
        [
         "38",
         "2343489",
         "19820",
         "17.0",
         "0"
        ],
        [
         "39",
         "217120",
         "28985",
         "4.0",
         "0"
        ],
        [
         "40",
         "631150",
         "23139",
         "9.0",
         "0"
        ],
        [
         "41",
         "2669937",
         "42562",
         "2.0",
         "1"
        ],
        [
         "42",
         "1805081",
         "8590",
         "4.0",
         "0"
        ],
        [
         "43",
         "3075384",
         "28799",
         "1.0",
         "1"
        ],
        [
         "44",
         "1446879",
         "41682",
         "9.0",
         "1"
        ],
        [
         "45",
         "1787676",
         "47672",
         "1.0",
         "1"
        ],
        [
         "46",
         "3283409",
         "920",
         "9.0",
         "1"
        ],
        [
         "47",
         "1270550",
         "40199",
         "5.0",
         "1"
        ],
        [
         "48",
         "1943147",
         "47626",
         "22.0",
         "1"
        ],
        [
         "49",
         "1898003",
         "47766",
         "7.0",
         "1"
        ]
       ],
       "shape": {
        "columns": 4,
        "rows": 4545007
       }
      },
      "text/html": [
       "<div>\n",
       "<style scoped>\n",
       "    .dataframe tbody tr th:only-of-type {\n",
       "        vertical-align: middle;\n",
       "    }\n",
       "\n",
       "    .dataframe tbody tr th {\n",
       "        vertical-align: top;\n",
       "    }\n",
       "\n",
       "    .dataframe thead th {\n",
       "        text-align: right;\n",
       "    }\n",
       "</style>\n",
       "<table border=\"1\" class=\"dataframe\">\n",
       "  <thead>\n",
       "    <tr style=\"text-align: right;\">\n",
       "      <th></th>\n",
       "      <th>order_id</th>\n",
       "      <th>product_id</th>\n",
       "      <th>add_to_cart_order</th>\n",
       "      <th>reordered</th>\n",
       "    </tr>\n",
       "  </thead>\n",
       "  <tbody>\n",
       "    <tr>\n",
       "      <th>0</th>\n",
       "      <td>2141543</td>\n",
       "      <td>11440</td>\n",
       "      <td>17.0</td>\n",
       "      <td>0</td>\n",
       "    </tr>\n",
       "    <tr>\n",
       "      <th>1</th>\n",
       "      <td>567889</td>\n",
       "      <td>1560</td>\n",
       "      <td>1.0</td>\n",
       "      <td>1</td>\n",
       "    </tr>\n",
       "    <tr>\n",
       "      <th>2</th>\n",
       "      <td>2261212</td>\n",
       "      <td>26683</td>\n",
       "      <td>1.0</td>\n",
       "      <td>1</td>\n",
       "    </tr>\n",
       "    <tr>\n",
       "      <th>3</th>\n",
       "      <td>491251</td>\n",
       "      <td>8670</td>\n",
       "      <td>35.0</td>\n",
       "      <td>1</td>\n",
       "    </tr>\n",
       "    <tr>\n",
       "      <th>4</th>\n",
       "      <td>2571142</td>\n",
       "      <td>1940</td>\n",
       "      <td>5.0</td>\n",
       "      <td>1</td>\n",
       "    </tr>\n",
       "    <tr>\n",
       "      <th>...</th>\n",
       "      <td>...</td>\n",
       "      <td>...</td>\n",
       "      <td>...</td>\n",
       "      <td>...</td>\n",
       "    </tr>\n",
       "    <tr>\n",
       "      <th>4545002</th>\n",
       "      <td>577211</td>\n",
       "      <td>15290</td>\n",
       "      <td>12.0</td>\n",
       "      <td>1</td>\n",
       "    </tr>\n",
       "    <tr>\n",
       "      <th>4545003</th>\n",
       "      <td>1219554</td>\n",
       "      <td>21914</td>\n",
       "      <td>9.0</td>\n",
       "      <td>0</td>\n",
       "    </tr>\n",
       "    <tr>\n",
       "      <th>4545004</th>\n",
       "      <td>692640</td>\n",
       "      <td>47766</td>\n",
       "      <td>4.0</td>\n",
       "      <td>1</td>\n",
       "    </tr>\n",
       "    <tr>\n",
       "      <th>4545005</th>\n",
       "      <td>319435</td>\n",
       "      <td>691</td>\n",
       "      <td>8.0</td>\n",
       "      <td>1</td>\n",
       "    </tr>\n",
       "    <tr>\n",
       "      <th>4545006</th>\n",
       "      <td>1398151</td>\n",
       "      <td>28733</td>\n",
       "      <td>9.0</td>\n",
       "      <td>0</td>\n",
       "    </tr>\n",
       "  </tbody>\n",
       "</table>\n",
       "<p>4545007 rows × 4 columns</p>\n",
       "</div>"
      ],
      "text/plain": [
       "         order_id  product_id add_to_cart_order  reordered\n",
       "0         2141543       11440              17.0          0\n",
       "1          567889        1560               1.0          1\n",
       "2         2261212       26683               1.0          1\n",
       "3          491251        8670              35.0          1\n",
       "4         2571142        1940               5.0          1\n",
       "...           ...         ...               ...        ...\n",
       "4545002    577211       15290              12.0          1\n",
       "4545003   1219554       21914               9.0          0\n",
       "4545004    692640       47766               4.0          1\n",
       "4545005    319435         691               8.0          1\n",
       "4545006   1398151       28733               9.0          0\n",
       "\n",
       "[4545007 rows x 4 columns]"
      ]
     },
     "execution_count": 29,
     "metadata": {},
     "output_type": "execute_result"
    }
   ],
   "source": [
    "df_order_products = replace_missing_values(df_order_products, include=['add_to_cart_order'])\n",
    "df_order_products"
   ]
  },
  {
   "cell_type": "code",
   "execution_count": 30,
   "id": "23144269",
   "metadata": {},
   "outputs": [
    {
     "data": {
      "application/vnd.microsoft.datawrangler.viewer.v0+json": {
       "columns": [
        {
         "name": "index",
         "rawType": "int64",
         "type": "integer"
        },
        {
         "name": "product_id",
         "rawType": "int64",
         "type": "integer"
        },
        {
         "name": "product_name",
         "rawType": "object",
         "type": "unknown"
        },
        {
         "name": "aisle_id",
         "rawType": "int64",
         "type": "integer"
        },
        {
         "name": "department_id",
         "rawType": "int64",
         "type": "integer"
        }
       ],
       "ref": "7bcc4574-9556-450b-a07a-7ed681992117",
       "rows": [
        [
         "0",
         "1",
         "chocolate_sandwich_cookies",
         "61",
         "19"
        ],
        [
         "1",
         "2",
         "all_seasons_salt",
         "104",
         "13"
        ],
        [
         "2",
         "3",
         "robust_golden_unsweetened_oolong_tea",
         "94",
         "7"
        ],
        [
         "3",
         "4",
         "smart_ones_classic_favorites_mini_rigatoni_with_vodka_cream_sauce",
         "38",
         "1"
        ],
        [
         "4",
         "5",
         "green_chile_anytime_sauce",
         "5",
         "13"
        ],
        [
         "5",
         "6",
         "dry_nose_oil",
         "11",
         "11"
        ],
        [
         "6",
         "7",
         "pure_coconut_water_with_orange",
         "98",
         "7"
        ],
        [
         "7",
         "8",
         "cut_russet_potatoes_steam_n_mash",
         "116",
         "1"
        ],
        [
         "8",
         "9",
         "light_strawberry_blueberry_yogurt",
         "120",
         "16"
        ],
        [
         "9",
         "10",
         "sparkling_orange_juice_prickly_pear_beverage",
         "115",
         "7"
        ],
        [
         "10",
         "11",
         "peach_mango_juice",
         "31",
         "7"
        ],
        [
         "11",
         "12",
         "chocolate_fudge_layer_cake",
         "119",
         "1"
        ],
        [
         "12",
         "13",
         "saline_nasal_mist",
         "11",
         "11"
        ],
        [
         "13",
         "14",
         "fresh_scent_dishwasher_cleaner",
         "74",
         "17"
        ],
        [
         "14",
         "15",
         "overnight_diapers_size_6",
         "56",
         "18"
        ],
        [
         "15",
         "16",
         "mint_chocolate_flavored_syrup",
         "103",
         "19"
        ],
        [
         "16",
         "17",
         "rendered_duck_fat",
         "35",
         "12"
        ],
        [
         "17",
         "18",
         "pizza_for_one_suprema_frozen_pizza",
         "79",
         "1"
        ],
        [
         "18",
         "19",
         "gluten_free_quinoa_three_cheese_mushroom_blend",
         "63",
         "9"
        ],
        [
         "19",
         "20",
         "pomegranate_cranberry_aloe_vera_enrich_drink",
         "98",
         "7"
        ],
        [
         "20",
         "21",
         "small_medium_dental_dog_treats",
         "40",
         "8"
        ],
        [
         "21",
         "22",
         "fresh_breath_oral_rinse_mild_mint",
         "20",
         "11"
        ],
        [
         "22",
         "23",
         "organic_turkey_burgers",
         "49",
         "12"
        ],
        [
         "23",
         "24",
         "tri_vi_sol_vitamins_a_c_and_d_supplement_drops_for_infants",
         "47",
         "11"
        ],
        [
         "24",
         "25",
         "salted_caramel_lean_protein_fiber_bar",
         "3",
         "19"
        ],
        [
         "25",
         "26",
         "fancy_feast_trout_feast_flaked_wet_cat_food",
         "41",
         "8"
        ],
        [
         "26",
         "27",
         "complete_spring_water_foaming_antibacterial_hand_wash",
         "127",
         "11"
        ],
        [
         "27",
         "28",
         "wheat_chex_cereal",
         "121",
         "14"
        ],
        [
         "28",
         "29",
         "fresh_cut_golden_sweet_no_salt_added_whole_kernel_corn",
         "81",
         "15"
        ],
        [
         "29",
         "30",
         "three_cheese_ziti_marinara_with_meatballs",
         "38",
         "1"
        ],
        [
         "30",
         "31",
         "white_pearl_onions",
         "123",
         "4"
        ],
        [
         "31",
         "32",
         "nacho_cheese_white_bean_chips",
         "107",
         "19"
        ],
        [
         "32",
         "33",
         "organic_spaghetti_style_pasta",
         "131",
         "9"
        ],
        [
         "33",
         "34",
         "peanut_butter_cereal",
         "121",
         "14"
        ],
        [
         "34",
         "35",
         "italian_herb_porcini_mushrooms_chicken_sausage",
         "106",
         "12"
        ],
        [
         "35",
         "36",
         "traditional_lasagna_with_meat_sauce_savory_italian_recipes",
         "38",
         "1"
        ],
        [
         "36",
         "37",
         "noodle_soup_mix_with_chicken_broth",
         "69",
         "15"
        ],
        [
         "37",
         "38",
         null,
         "100",
         "21"
        ],
        [
         "38",
         "39",
         "daily_tangerine_citrus_flavored_beverage",
         "64",
         "7"
        ],
        [
         "39",
         "40",
         "beef_hot_links_beef_smoked_sausage_with_chile_peppers",
         "106",
         "12"
        ],
        [
         "40",
         "41",
         "organic_sourdough_einkorn_crackers_rosemary",
         "78",
         "19"
        ],
        [
         "41",
         "42",
         "biotin_1000_mcg",
         "47",
         "11"
        ],
        [
         "42",
         "43",
         "organic_clementines",
         "123",
         "4"
        ],
        [
         "43",
         "44",
         "sparkling_raspberry_seltzer",
         "115",
         "7"
        ],
        [
         "44",
         "45",
         "european_cucumber",
         "83",
         "4"
        ],
        [
         "45",
         "46",
         "raisin_cinnamon_bagels_5_count",
         "58",
         "1"
        ],
        [
         "46",
         "47",
         "onion_flavor_organic_roasted_seaweed_snack",
         "66",
         "6"
        ],
        [
         "47",
         "48",
         "school_glue_washable_no_run",
         "87",
         "17"
        ],
        [
         "48",
         "49",
         "vegetarian_grain_meat_sausages_italian_4_ct",
         "14",
         "20"
        ],
        [
         "49",
         "50",
         "pumpkin_muffin_mix",
         "105",
         "13"
        ]
       ],
       "shape": {
        "columns": 4,
        "rows": 49694
       }
      },
      "text/html": [
       "<div>\n",
       "<style scoped>\n",
       "    .dataframe tbody tr th:only-of-type {\n",
       "        vertical-align: middle;\n",
       "    }\n",
       "\n",
       "    .dataframe tbody tr th {\n",
       "        vertical-align: top;\n",
       "    }\n",
       "\n",
       "    .dataframe thead th {\n",
       "        text-align: right;\n",
       "    }\n",
       "</style>\n",
       "<table border=\"1\" class=\"dataframe\">\n",
       "  <thead>\n",
       "    <tr style=\"text-align: right;\">\n",
       "      <th></th>\n",
       "      <th>product_id</th>\n",
       "      <th>product_name</th>\n",
       "      <th>aisle_id</th>\n",
       "      <th>department_id</th>\n",
       "    </tr>\n",
       "  </thead>\n",
       "  <tbody>\n",
       "    <tr>\n",
       "      <th>0</th>\n",
       "      <td>1</td>\n",
       "      <td>chocolate_sandwich_cookies</td>\n",
       "      <td>61</td>\n",
       "      <td>19</td>\n",
       "    </tr>\n",
       "    <tr>\n",
       "      <th>1</th>\n",
       "      <td>2</td>\n",
       "      <td>all_seasons_salt</td>\n",
       "      <td>104</td>\n",
       "      <td>13</td>\n",
       "    </tr>\n",
       "    <tr>\n",
       "      <th>2</th>\n",
       "      <td>3</td>\n",
       "      <td>robust_golden_unsweetened_oolong_tea</td>\n",
       "      <td>94</td>\n",
       "      <td>7</td>\n",
       "    </tr>\n",
       "    <tr>\n",
       "      <th>3</th>\n",
       "      <td>4</td>\n",
       "      <td>smart_ones_classic_favorites_mini_rigatoni_wit...</td>\n",
       "      <td>38</td>\n",
       "      <td>1</td>\n",
       "    </tr>\n",
       "    <tr>\n",
       "      <th>4</th>\n",
       "      <td>5</td>\n",
       "      <td>green_chile_anytime_sauce</td>\n",
       "      <td>5</td>\n",
       "      <td>13</td>\n",
       "    </tr>\n",
       "    <tr>\n",
       "      <th>...</th>\n",
       "      <td>...</td>\n",
       "      <td>...</td>\n",
       "      <td>...</td>\n",
       "      <td>...</td>\n",
       "    </tr>\n",
       "    <tr>\n",
       "      <th>49689</th>\n",
       "      <td>49690</td>\n",
       "      <td>high_performance_energy_drink</td>\n",
       "      <td>64</td>\n",
       "      <td>7</td>\n",
       "    </tr>\n",
       "    <tr>\n",
       "      <th>49690</th>\n",
       "      <td>49691</td>\n",
       "      <td>original_pancake_waffle_mix</td>\n",
       "      <td>130</td>\n",
       "      <td>14</td>\n",
       "    </tr>\n",
       "    <tr>\n",
       "      <th>49691</th>\n",
       "      <td>49692</td>\n",
       "      <td>organic_instant_oatmeal_light_maple_brown_sugar</td>\n",
       "      <td>130</td>\n",
       "      <td>14</td>\n",
       "    </tr>\n",
       "    <tr>\n",
       "      <th>49692</th>\n",
       "      <td>49693</td>\n",
       "      <td>spring_water_body_wash</td>\n",
       "      <td>127</td>\n",
       "      <td>11</td>\n",
       "    </tr>\n",
       "    <tr>\n",
       "      <th>49693</th>\n",
       "      <td>49694</td>\n",
       "      <td>burrito_steak_cheese</td>\n",
       "      <td>38</td>\n",
       "      <td>1</td>\n",
       "    </tr>\n",
       "  </tbody>\n",
       "</table>\n",
       "<p>49694 rows × 4 columns</p>\n",
       "</div>"
      ],
      "text/plain": [
       "       product_id                                       product_name  aisle_id  department_id\n",
       "0               1                         chocolate_sandwich_cookies        61             19\n",
       "1               2                                   all_seasons_salt       104             13\n",
       "2               3               robust_golden_unsweetened_oolong_tea        94              7\n",
       "3               4  smart_ones_classic_favorites_mini_rigatoni_wit...        38              1\n",
       "4               5                          green_chile_anytime_sauce         5             13\n",
       "...           ...                                                ...       ...            ...\n",
       "49689       49690                      high_performance_energy_drink        64              7\n",
       "49690       49691                        original_pancake_waffle_mix       130             14\n",
       "49691       49692    organic_instant_oatmeal_light_maple_brown_sugar       130             14\n",
       "49692       49693                             spring_water_body_wash       127             11\n",
       "49693       49694                               burrito_steak_cheese        38              1\n",
       "\n",
       "[49694 rows x 4 columns]"
      ]
     },
     "execution_count": 30,
     "metadata": {},
     "output_type": "execute_result"
    }
   ],
   "source": [
    "df_products = replace_missing_values(df_products, include=['product_name'])\n",
    "df_products"
   ]
  },
  {
   "cell_type": "markdown",
   "id": "c916cd64",
   "metadata": {},
   "source": [
    "#### 3.3.3 Preview missing values"
   ]
  },
  {
   "cell_type": "code",
   "execution_count": 31,
   "id": "d06fa1d4",
   "metadata": {},
   "outputs": [
    {
     "data": {
      "image/png": "[encoded data removed]",
      "text/plain": [
       "<Figure size 1500x700 with 1 Axes>"
      ]
     },
     "metadata": {},
     "output_type": "display_data"
    }
   ],
   "source": [
    "# Show missing values heatmap\n",
    "missing_values_heatmap(df_orders)"
   ]
  },
  {
   "cell_type": "code",
   "execution_count": 32,
   "id": "e0a3ed6a",
   "metadata": {},
   "outputs": [
    {
     "data": {
      "image/png": "[encoded data removed]",
      "text/plain": [
       "<Figure size 1500x700 with 1 Axes>"
      ]
     },
     "metadata": {},
     "output_type": "display_data"
    }
   ],
   "source": [
    "missing_values_heatmap(df_order_products)"
   ]
  },
  {
   "cell_type": "code",
   "execution_count": 33,
   "id": "f937a101",
   "metadata": {},
   "outputs": [
    {
     "data": {
      "image/png": "[encoded data removed]",
      "text/plain": [
       "<Figure size 1500x700 with 1 Axes>"
      ]
     },
     "metadata": {},
     "output_type": "display_data"
    }
   ],
   "source": [
    "missing_values_heatmap(df_products)"
   ]
  },
  {
   "cell_type": "code",
   "execution_count": 34,
   "id": "4a3cc7ad",
   "metadata": {},
   "outputs": [
    {
     "data": {
      "application/vnd.microsoft.datawrangler.viewer.v0+json": {
       "columns": [
        {
         "name": "index",
         "rawType": "int64",
         "type": "integer"
        },
        {
         "name": "order_id",
         "rawType": "int64",
         "type": "integer"
        },
        {
         "name": "user_id",
         "rawType": "int64",
         "type": "integer"
        },
        {
         "name": "order_number",
         "rawType": "int64",
         "type": "integer"
        },
        {
         "name": "order_dow",
         "rawType": "int64",
         "type": "integer"
        },
        {
         "name": "order_hour_of_day",
         "rawType": "int64",
         "type": "integer"
        },
        {
         "name": "days_since_prior_order",
         "rawType": "object",
         "type": "unknown"
        }
       ],
       "ref": "d298e992-6caf-40da-9760-70562daef40a",
       "rows": [
        [
         "28",
         "133707",
         "182261",
         "1",
         "3",
         "10",
         null
        ],
        [
         "96",
         "787445",
         "25685",
         "1",
         "6",
         "18",
         null
        ],
        [
         "100",
         "294410",
         "111449",
         "1",
         "0",
         "19",
         null
        ],
        [
         "103",
         "2869915",
         "123958",
         "1",
         "4",
         "16",
         null
        ],
        [
         "104",
         "2521921",
         "42286",
         "1",
         "3",
         "18",
         null
        ],
        [
         "111",
         "2651928",
         "142920",
         "1",
         "0",
         "14",
         null
        ],
        [
         "118",
         "174214",
         "148907",
         "1",
         "1",
         "8",
         null
        ],
        [
         "147",
         "2439694",
         "99710",
         "1",
         "6",
         "10",
         null
        ],
        [
         "157",
         "1330993",
         "138895",
         "1",
         "4",
         "6",
         null
        ],
        [
         "158",
         "2835610",
         "195350",
         "1",
         "6",
         "19",
         null
        ],
        [
         "284",
         "2463923",
         "37043",
         "1",
         "1",
         "19",
         null
        ],
        [
         "292",
         "1644166",
         "48924",
         "1",
         "1",
         "10",
         null
        ],
        [
         "302",
         "1263637",
         "146988",
         "1",
         "0",
         "8",
         null
        ],
        [
         "316",
         "894917",
         "17307",
         "1",
         "3",
         "8",
         null
        ],
        [
         "336",
         "153664",
         "179149",
         "1",
         "1",
         "10",
         null
        ],
        [
         "348",
         "2609740",
         "93080",
         "1",
         "2",
         "17",
         null
        ],
        [
         "352",
         "1146477",
         "77018",
         "1",
         "5",
         "12",
         null
        ],
        [
         "364",
         "1051086",
         "81845",
         "1",
         "4",
         "8",
         null
        ],
        [
         "371",
         "1043465",
         "92677",
         "1",
         "0",
         "16",
         null
        ],
        [
         "427",
         "1016072",
         "84320",
         "1",
         "0",
         "10",
         null
        ],
        [
         "471",
         "2278953",
         "201306",
         "1",
         "1",
         "22",
         null
        ],
        [
         "557",
         "1633037",
         "71529",
         "1",
         "4",
         "9",
         null
        ],
        [
         "576",
         "18089",
         "102892",
         "1",
         "2",
         "18",
         null
        ],
        [
         "587",
         "83783",
         "117983",
         "1",
         "0",
         "16",
         null
        ],
        [
         "663",
         "878975",
         "181061",
         "1",
         "2",
         "19",
         null
        ],
        [
         "680",
         "535963",
         "183948",
         "1",
         "2",
         "8",
         null
        ],
        [
         "691",
         "2084267",
         "182913",
         "1",
         "3",
         "20",
         null
        ],
        [
         "699",
         "1286515",
         "146013",
         "1",
         "1",
         "19",
         null
        ],
        [
         "707",
         "653017",
         "17618",
         "1",
         "2",
         "21",
         null
        ],
        [
         "799",
         "2450291",
         "180557",
         "1",
         "1",
         "20",
         null
        ],
        [
         "809",
         "3070689",
         "59567",
         "1",
         "5",
         "19",
         null
        ],
        [
         "812",
         "2323908",
         "30130",
         "1",
         "2",
         "17",
         null
        ],
        [
         "831",
         "302650",
         "124770",
         "1",
         "0",
         "12",
         null
        ],
        [
         "832",
         "1793009",
         "172450",
         "1",
         "3",
         "14",
         null
        ],
        [
         "862",
         "91328",
         "186887",
         "1",
         "0",
         "8",
         null
        ],
        [
         "863",
         "2624334",
         "79908",
         "1",
         "3",
         "10",
         null
        ],
        [
         "877",
         "1679956",
         "44159",
         "1",
         "4",
         "15",
         null
        ],
        [
         "900",
         "470746",
         "171896",
         "1",
         "1",
         "5",
         null
        ],
        [
         "907",
         "1187909",
         "8865",
         "1",
         "4",
         "18",
         null
        ],
        [
         "912",
         "3372246",
         "67010",
         "1",
         "3",
         "5",
         null
        ],
        [
         "924",
         "213105",
         "150164",
         "1",
         "6",
         "13",
         null
        ],
        [
         "926",
         "2707174",
         "82870",
         "1",
         "6",
         "14",
         null
        ],
        [
         "935",
         "758277",
         "138282",
         "1",
         "0",
         "18",
         null
        ],
        [
         "948",
         "428117",
         "40618",
         "1",
         "1",
         "8",
         null
        ],
        [
         "960",
         "670424",
         "47438",
         "1",
         "0",
         "16",
         null
        ],
        [
         "972",
         "1016776",
         "132231",
         "1",
         "0",
         "19",
         null
        ],
        [
         "975",
         "3252724",
         "84714",
         "1",
         "3",
         "14",
         null
        ],
        [
         "1017",
         "2293524",
         "85937",
         "1",
         "6",
         "23",
         null
        ],
        [
         "1022",
         "3101431",
         "144351",
         "1",
         "0",
         "10",
         null
        ],
        [
         "1036",
         "226562",
         "139722",
         "1",
         "3",
         "0",
         null
        ]
       ],
       "shape": {
        "columns": 6,
        "rows": 28817
       }
      },
      "text/html": [
       "<div>\n",
       "<style scoped>\n",
       "    .dataframe tbody tr th:only-of-type {\n",
       "        vertical-align: middle;\n",
       "    }\n",
       "\n",
       "    .dataframe tbody tr th {\n",
       "        vertical-align: top;\n",
       "    }\n",
       "\n",
       "    .dataframe thead th {\n",
       "        text-align: right;\n",
       "    }\n",
       "</style>\n",
       "<table border=\"1\" class=\"dataframe\">\n",
       "  <thead>\n",
       "    <tr style=\"text-align: right;\">\n",
       "      <th></th>\n",
       "      <th>order_id</th>\n",
       "      <th>user_id</th>\n",
       "      <th>order_number</th>\n",
       "      <th>order_dow</th>\n",
       "      <th>order_hour_of_day</th>\n",
       "      <th>days_since_prior_order</th>\n",
       "    </tr>\n",
       "  </thead>\n",
       "  <tbody>\n",
       "    <tr>\n",
       "      <th>28</th>\n",
       "      <td>133707</td>\n",
       "      <td>182261</td>\n",
       "      <td>1</td>\n",
       "      <td>3</td>\n",
       "      <td>10</td>\n",
       "      <td>&lt;NA&gt;</td>\n",
       "    </tr>\n",
       "    <tr>\n",
       "      <th>96</th>\n",
       "      <td>787445</td>\n",
       "      <td>25685</td>\n",
       "      <td>1</td>\n",
       "      <td>6</td>\n",
       "      <td>18</td>\n",
       "      <td>&lt;NA&gt;</td>\n",
       "    </tr>\n",
       "    <tr>\n",
       "      <th>100</th>\n",
       "      <td>294410</td>\n",
       "      <td>111449</td>\n",
       "      <td>1</td>\n",
       "      <td>0</td>\n",
       "      <td>19</td>\n",
       "      <td>&lt;NA&gt;</td>\n",
       "    </tr>\n",
       "    <tr>\n",
       "      <th>103</th>\n",
       "      <td>2869915</td>\n",
       "      <td>123958</td>\n",
       "      <td>1</td>\n",
       "      <td>4</td>\n",
       "      <td>16</td>\n",
       "      <td>&lt;NA&gt;</td>\n",
       "    </tr>\n",
       "    <tr>\n",
       "      <th>104</th>\n",
       "      <td>2521921</td>\n",
       "      <td>42286</td>\n",
       "      <td>1</td>\n",
       "      <td>3</td>\n",
       "      <td>18</td>\n",
       "      <td>&lt;NA&gt;</td>\n",
       "    </tr>\n",
       "    <tr>\n",
       "      <th>...</th>\n",
       "      <td>...</td>\n",
       "      <td>...</td>\n",
       "      <td>...</td>\n",
       "      <td>...</td>\n",
       "      <td>...</td>\n",
       "      <td>...</td>\n",
       "    </tr>\n",
       "    <tr>\n",
       "      <th>478880</th>\n",
       "      <td>2589657</td>\n",
       "      <td>205028</td>\n",
       "      <td>1</td>\n",
       "      <td>0</td>\n",
       "      <td>16</td>\n",
       "      <td>&lt;NA&gt;</td>\n",
       "    </tr>\n",
       "    <tr>\n",
       "      <th>478881</th>\n",
       "      <td>2222353</td>\n",
       "      <td>141211</td>\n",
       "      <td>1</td>\n",
       "      <td>2</td>\n",
       "      <td>13</td>\n",
       "      <td>&lt;NA&gt;</td>\n",
       "    </tr>\n",
       "    <tr>\n",
       "      <th>478907</th>\n",
       "      <td>2272807</td>\n",
       "      <td>204154</td>\n",
       "      <td>1</td>\n",
       "      <td>1</td>\n",
       "      <td>15</td>\n",
       "      <td>&lt;NA&gt;</td>\n",
       "    </tr>\n",
       "    <tr>\n",
       "      <th>478911</th>\n",
       "      <td>2499542</td>\n",
       "      <td>68810</td>\n",
       "      <td>1</td>\n",
       "      <td>4</td>\n",
       "      <td>19</td>\n",
       "      <td>&lt;NA&gt;</td>\n",
       "    </tr>\n",
       "    <tr>\n",
       "      <th>478930</th>\n",
       "      <td>1387033</td>\n",
       "      <td>22496</td>\n",
       "      <td>1</td>\n",
       "      <td>5</td>\n",
       "      <td>14</td>\n",
       "      <td>&lt;NA&gt;</td>\n",
       "    </tr>\n",
       "  </tbody>\n",
       "</table>\n",
       "<p>28817 rows × 6 columns</p>\n",
       "</div>"
      ],
      "text/plain": [
       "        order_id  user_id  order_number  order_dow  order_hour_of_day days_since_prior_order\n",
       "28        133707   182261             1          3                 10                   <NA>\n",
       "96        787445    25685             1          6                 18                   <NA>\n",
       "100       294410   111449             1          0                 19                   <NA>\n",
       "103      2869915   123958             1          4                 16                   <NA>\n",
       "104      2521921    42286             1          3                 18                   <NA>\n",
       "...          ...      ...           ...        ...                ...                    ...\n",
       "478880   2589657   205028             1          0                 16                   <NA>\n",
       "478881   2222353   141211             1          2                 13                   <NA>\n",
       "478907   2272807   204154             1          1                 15                   <NA>\n",
       "478911   2499542    68810             1          4                 19                   <NA>\n",
       "478930   1387033    22496             1          5                 14                   <NA>\n",
       "\n",
       "[28817 rows x 6 columns]"
      ]
     },
     "execution_count": 34,
     "metadata": {},
     "output_type": "execute_result"
    }
   ],
   "source": [
    "# Show pd.NA missing values for 'days_since_prior_order' column\n",
    "mask = df_orders['days_since_prior_order'].isna()\n",
    "df_orders.loc[mask, :]"
   ]
  },
  {
   "cell_type": "code",
   "execution_count": 35,
   "id": "165d2326",
   "metadata": {},
   "outputs": [
    {
     "data": {
      "application/vnd.microsoft.datawrangler.viewer.v0+json": {
       "columns": [
        {
         "name": "index",
         "rawType": "int64",
         "type": "integer"
        },
        {
         "name": "order_id",
         "rawType": "int64",
         "type": "integer"
        },
        {
         "name": "product_id",
         "rawType": "int64",
         "type": "integer"
        },
        {
         "name": "add_to_cart_order",
         "rawType": "object",
         "type": "unknown"
        },
        {
         "name": "reordered",
         "rawType": "int64",
         "type": "integer"
        }
       ],
       "ref": "9c0445dc-c1b2-49a0-9d3a-ee3abe386007",
       "rows": [
        [
         "737",
         "2449164",
         "5068",
         null,
         "0"
        ],
        [
         "9926",
         "1968313",
         "43867",
         null,
         "0"
        ],
        [
         "14394",
         "2926893",
         "11688",
         null,
         "0"
        ],
        [
         "16418",
         "1717990",
         "4142",
         null,
         "0"
        ],
        [
         "30114",
         "1959075",
         "42828",
         null,
         "1"
        ],
        [
         "34183",
         "844733",
         "32717",
         null,
         "0"
        ],
        [
         "57981",
         "61355",
         "5322",
         null,
         "0"
        ],
        [
         "58228",
         "936852",
         "31373",
         null,
         "1"
        ],
        [
         "62655",
         "264710",
         "40281",
         null,
         "0"
        ],
        [
         "64336",
         "1717990",
         "39408",
         null,
         "0"
        ],
        [
         "67655",
         "1564093",
         "6139",
         null,
         "0"
        ],
        [
         "69773",
         "129627",
         "31372",
         null,
         "0"
        ],
        [
         "70057",
         "264710",
         "41602",
         null,
         "0"
        ],
        [
         "79239",
         "293169",
         "44628",
         null,
         "0"
        ],
        [
         "86905",
         "2849370",
         "37131",
         null,
         "0"
        ],
        [
         "94722",
         "1386261",
         "41007",
         null,
         "0"
        ],
        [
         "98839",
         "3308010",
         "5438",
         null,
         "1"
        ],
        [
         "102527",
         "903110",
         "41960",
         null,
         "1"
        ],
        [
         "103410",
         "2136777",
         "46886",
         null,
         "1"
        ],
        [
         "110274",
         "3347453",
         "47175",
         null,
         "0"
        ],
        [
         "120294",
         "1888628",
         "5621",
         null,
         "0"
        ],
        [
         "120841",
         "165801",
         "4137",
         null,
         "0"
        ],
        [
         "128360",
         "2449164",
         "14386",
         null,
         "0"
        ],
        [
         "130034",
         "2094761",
         "5194",
         null,
         "1"
        ],
        [
         "137029",
         "3347453",
         "30727",
         null,
         "0"
        ],
        [
         "137628",
         "1038146",
         "42110",
         null,
         "1"
        ],
        [
         "137958",
         "2136777",
         "45106",
         null,
         "0"
        ],
        [
         "144645",
         "2997021",
         "29418",
         null,
         "0"
        ],
        [
         "147722",
         "844733",
         "22151",
         null,
         "0"
        ],
        [
         "153946",
         "844733",
         "35221",
         null,
         "0"
        ],
        [
         "170487",
         "2136777",
         "2635",
         null,
         "1"
        ],
        [
         "177291",
         "813364",
         "13798",
         null,
         "0"
        ],
        [
         "178477",
         "165801",
         "6187",
         null,
         "0"
        ],
        [
         "182090",
         "2256933",
         "13457",
         null,
         "1"
        ],
        [
         "193230",
         "171934",
         "18441",
         null,
         "0"
        ],
        [
         "193574",
         "264710",
         "37912",
         null,
         "0"
        ],
        [
         "193859",
         "2449164",
         "8518",
         null,
         "0"
        ],
        [
         "210094",
         "2409109",
         "26587",
         null,
         "0"
        ],
        [
         "219403",
         "3347453",
         "18782",
         null,
         "0"
        ],
        [
         "227858",
         "813364",
         "31215",
         null,
         "0"
        ],
        [
         "235998",
         "2926893",
         "4792",
         null,
         "0"
        ],
        [
         "236073",
         "936852",
         "29926",
         null,
         "1"
        ],
        [
         "237301",
         "1730767",
         "36316",
         null,
         "1"
        ],
        [
         "238286",
         "1169835",
         "16656",
         null,
         "0"
        ],
        [
         "238630",
         "733526",
         "24097",
         null,
         "1"
        ],
        [
         "238768",
         "844733",
         "4421",
         null,
         "0"
        ],
        [
         "240071",
         "293169",
         "18598",
         null,
         "0"
        ],
        [
         "247893",
         "61355",
         "8594",
         null,
         "0"
        ],
        [
         "250788",
         "903110",
         "2180",
         null,
         "1"
        ],
        [
         "251111",
         "1968313",
         "23995",
         null,
         "1"
        ]
       ],
       "shape": {
        "columns": 4,
        "rows": 836
       }
      },
      "text/html": [
       "<div>\n",
       "<style scoped>\n",
       "    .dataframe tbody tr th:only-of-type {\n",
       "        vertical-align: middle;\n",
       "    }\n",
       "\n",
       "    .dataframe tbody tr th {\n",
       "        vertical-align: top;\n",
       "    }\n",
       "\n",
       "    .dataframe thead th {\n",
       "        text-align: right;\n",
       "    }\n",
       "</style>\n",
       "<table border=\"1\" class=\"dataframe\">\n",
       "  <thead>\n",
       "    <tr style=\"text-align: right;\">\n",
       "      <th></th>\n",
       "      <th>order_id</th>\n",
       "      <th>product_id</th>\n",
       "      <th>add_to_cart_order</th>\n",
       "      <th>reordered</th>\n",
       "    </tr>\n",
       "  </thead>\n",
       "  <tbody>\n",
       "    <tr>\n",
       "      <th>737</th>\n",
       "      <td>2449164</td>\n",
       "      <td>5068</td>\n",
       "      <td>&lt;NA&gt;</td>\n",
       "      <td>0</td>\n",
       "    </tr>\n",
       "    <tr>\n",
       "      <th>9926</th>\n",
       "      <td>1968313</td>\n",
       "      <td>43867</td>\n",
       "      <td>&lt;NA&gt;</td>\n",
       "      <td>0</td>\n",
       "    </tr>\n",
       "    <tr>\n",
       "      <th>14394</th>\n",
       "      <td>2926893</td>\n",
       "      <td>11688</td>\n",
       "      <td>&lt;NA&gt;</td>\n",
       "      <td>0</td>\n",
       "    </tr>\n",
       "    <tr>\n",
       "      <th>16418</th>\n",
       "      <td>1717990</td>\n",
       "      <td>4142</td>\n",
       "      <td>&lt;NA&gt;</td>\n",
       "      <td>0</td>\n",
       "    </tr>\n",
       "    <tr>\n",
       "      <th>30114</th>\n",
       "      <td>1959075</td>\n",
       "      <td>42828</td>\n",
       "      <td>&lt;NA&gt;</td>\n",
       "      <td>1</td>\n",
       "    </tr>\n",
       "    <tr>\n",
       "      <th>...</th>\n",
       "      <td>...</td>\n",
       "      <td>...</td>\n",
       "      <td>...</td>\n",
       "      <td>...</td>\n",
       "    </tr>\n",
       "    <tr>\n",
       "      <th>4505662</th>\n",
       "      <td>1800005</td>\n",
       "      <td>7411</td>\n",
       "      <td>&lt;NA&gt;</td>\n",
       "      <td>0</td>\n",
       "    </tr>\n",
       "    <tr>\n",
       "      <th>4511400</th>\n",
       "      <td>1633337</td>\n",
       "      <td>260</td>\n",
       "      <td>&lt;NA&gt;</td>\n",
       "      <td>0</td>\n",
       "    </tr>\n",
       "    <tr>\n",
       "      <th>4517562</th>\n",
       "      <td>404157</td>\n",
       "      <td>9517</td>\n",
       "      <td>&lt;NA&gt;</td>\n",
       "      <td>0</td>\n",
       "    </tr>\n",
       "    <tr>\n",
       "      <th>4534112</th>\n",
       "      <td>1673227</td>\n",
       "      <td>17835</td>\n",
       "      <td>&lt;NA&gt;</td>\n",
       "      <td>0</td>\n",
       "    </tr>\n",
       "    <tr>\n",
       "      <th>4535739</th>\n",
       "      <td>1832957</td>\n",
       "      <td>17949</td>\n",
       "      <td>&lt;NA&gt;</td>\n",
       "      <td>1</td>\n",
       "    </tr>\n",
       "  </tbody>\n",
       "</table>\n",
       "<p>836 rows × 4 columns</p>\n",
       "</div>"
      ],
      "text/plain": [
       "         order_id  product_id add_to_cart_order  reordered\n",
       "737       2449164        5068              <NA>          0\n",
       "9926      1968313       43867              <NA>          0\n",
       "14394     2926893       11688              <NA>          0\n",
       "16418     1717990        4142              <NA>          0\n",
       "30114     1959075       42828              <NA>          1\n",
       "...           ...         ...               ...        ...\n",
       "4505662   1800005        7411              <NA>          0\n",
       "4511400   1633337         260              <NA>          0\n",
       "4517562    404157        9517              <NA>          0\n",
       "4534112   1673227       17835              <NA>          0\n",
       "4535739   1832957       17949              <NA>          1\n",
       "\n",
       "[836 rows x 4 columns]"
      ]
     },
     "execution_count": 35,
     "metadata": {},
     "output_type": "execute_result"
    }
   ],
   "source": [
    "# Show pd.NA missing values for 'add_to_cart_order' column\n",
    "mask = df_order_products['add_to_cart_order'].isna()\n",
    "df_order_products.loc[mask, :]"
   ]
  },
  {
   "cell_type": "code",
   "execution_count": 36,
   "id": "e5e55652",
   "metadata": {},
   "outputs": [
    {
     "data": {
      "application/vnd.microsoft.datawrangler.viewer.v0+json": {
       "columns": [
        {
         "name": "index",
         "rawType": "int64",
         "type": "integer"
        },
        {
         "name": "product_id",
         "rawType": "int64",
         "type": "integer"
        },
        {
         "name": "product_name",
         "rawType": "object",
         "type": "unknown"
        },
        {
         "name": "aisle_id",
         "rawType": "int64",
         "type": "integer"
        },
        {
         "name": "department_id",
         "rawType": "int64",
         "type": "integer"
        }
       ],
       "ref": "a1f0c9f8-1da0-4c8e-82fb-b4c7b447b747",
       "rows": [
        [
         "37",
         "38",
         null,
         "100",
         "21"
        ],
        [
         "71",
         "72",
         null,
         "100",
         "21"
        ],
        [
         "109",
         "110",
         null,
         "100",
         "21"
        ],
        [
         "296",
         "297",
         null,
         "100",
         "21"
        ],
        [
         "416",
         "417",
         null,
         "100",
         "21"
        ],
        [
         "436",
         "437",
         null,
         "100",
         "21"
        ],
        [
         "439",
         "440",
         null,
         "100",
         "21"
        ],
        [
         "471",
         "472",
         null,
         "100",
         "21"
        ],
        [
         "490",
         "491",
         null,
         "100",
         "21"
        ],
        [
         "555",
         "556",
         null,
         "100",
         "21"
        ],
        [
         "561",
         "562",
         null,
         "100",
         "21"
        ],
        [
         "613",
         "614",
         null,
         "100",
         "21"
        ],
        [
         "623",
         "624",
         null,
         "100",
         "21"
        ],
        [
         "689",
         "690",
         null,
         "100",
         "21"
        ],
        [
         "767",
         "768",
         null,
         "100",
         "21"
        ],
        [
         "803",
         "804",
         null,
         "100",
         "21"
        ],
        [
         "890",
         "891",
         null,
         "100",
         "21"
        ],
        [
         "990",
         "991",
         null,
         "100",
         "21"
        ],
        [
         "1018",
         "1019",
         null,
         "100",
         "21"
        ],
        [
         "1054",
         "1055",
         null,
         "100",
         "21"
        ],
        [
         "1217",
         "1218",
         null,
         "100",
         "21"
        ],
        [
         "1282",
         "1283",
         null,
         "100",
         "21"
        ],
        [
         "1301",
         "1302",
         null,
         "100",
         "21"
        ],
        [
         "1386",
         "1387",
         null,
         "100",
         "21"
        ],
        [
         "1547",
         "1548",
         null,
         "100",
         "21"
        ],
        [
         "1561",
         "1562",
         null,
         "100",
         "21"
        ],
        [
         "1714",
         "1715",
         null,
         "100",
         "21"
        ],
        [
         "1717",
         "1718",
         null,
         "100",
         "21"
        ],
        [
         "1741",
         "1742",
         null,
         "100",
         "21"
        ],
        [
         "1797",
         "1798",
         null,
         "100",
         "21"
        ],
        [
         "1858",
         "1859",
         null,
         "100",
         "21"
        ],
        [
         "1960",
         "1961",
         null,
         "100",
         "21"
        ],
        [
         "2031",
         "2032",
         null,
         "100",
         "21"
        ],
        [
         "2081",
         "2082",
         null,
         "100",
         "21"
        ],
        [
         "2133",
         "2134",
         null,
         "100",
         "21"
        ],
        [
         "2161",
         "2162",
         null,
         "100",
         "21"
        ],
        [
         "2197",
         "2198",
         null,
         "100",
         "21"
        ],
        [
         "2264",
         "2265",
         null,
         "100",
         "21"
        ],
        [
         "2334",
         "2335",
         null,
         "100",
         "21"
        ],
        [
         "2370",
         "2371",
         null,
         "100",
         "21"
        ],
        [
         "2374",
         "2375",
         null,
         "100",
         "21"
        ],
        [
         "2383",
         "2384",
         null,
         "100",
         "21"
        ],
        [
         "2506",
         "2507",
         null,
         "100",
         "21"
        ],
        [
         "2553",
         "2554",
         null,
         "100",
         "21"
        ],
        [
         "2556",
         "2557",
         null,
         "100",
         "21"
        ],
        [
         "2576",
         "2577",
         null,
         "100",
         "21"
        ],
        [
         "2591",
         "2592",
         null,
         "100",
         "21"
        ],
        [
         "2607",
         "2608",
         null,
         "100",
         "21"
        ],
        [
         "2672",
         "2673",
         null,
         "100",
         "21"
        ],
        [
         "2686",
         "2687",
         null,
         "100",
         "21"
        ]
       ],
       "shape": {
        "columns": 4,
        "rows": 1258
       }
      },
      "text/html": [
       "<div>\n",
       "<style scoped>\n",
       "    .dataframe tbody tr th:only-of-type {\n",
       "        vertical-align: middle;\n",
       "    }\n",
       "\n",
       "    .dataframe tbody tr th {\n",
       "        vertical-align: top;\n",
       "    }\n",
       "\n",
       "    .dataframe thead th {\n",
       "        text-align: right;\n",
       "    }\n",
       "</style>\n",
       "<table border=\"1\" class=\"dataframe\">\n",
       "  <thead>\n",
       "    <tr style=\"text-align: right;\">\n",
       "      <th></th>\n",
       "      <th>product_id</th>\n",
       "      <th>product_name</th>\n",
       "      <th>aisle_id</th>\n",
       "      <th>department_id</th>\n",
       "    </tr>\n",
       "  </thead>\n",
       "  <tbody>\n",
       "    <tr>\n",
       "      <th>37</th>\n",
       "      <td>38</td>\n",
       "      <td>&lt;NA&gt;</td>\n",
       "      <td>100</td>\n",
       "      <td>21</td>\n",
       "    </tr>\n",
       "    <tr>\n",
       "      <th>71</th>\n",
       "      <td>72</td>\n",
       "      <td>&lt;NA&gt;</td>\n",
       "      <td>100</td>\n",
       "      <td>21</td>\n",
       "    </tr>\n",
       "    <tr>\n",
       "      <th>109</th>\n",
       "      <td>110</td>\n",
       "      <td>&lt;NA&gt;</td>\n",
       "      <td>100</td>\n",
       "      <td>21</td>\n",
       "    </tr>\n",
       "    <tr>\n",
       "      <th>296</th>\n",
       "      <td>297</td>\n",
       "      <td>&lt;NA&gt;</td>\n",
       "      <td>100</td>\n",
       "      <td>21</td>\n",
       "    </tr>\n",
       "    <tr>\n",
       "      <th>416</th>\n",
       "      <td>417</td>\n",
       "      <td>&lt;NA&gt;</td>\n",
       "      <td>100</td>\n",
       "      <td>21</td>\n",
       "    </tr>\n",
       "    <tr>\n",
       "      <th>...</th>\n",
       "      <td>...</td>\n",
       "      <td>...</td>\n",
       "      <td>...</td>\n",
       "      <td>...</td>\n",
       "    </tr>\n",
       "    <tr>\n",
       "      <th>49552</th>\n",
       "      <td>49553</td>\n",
       "      <td>&lt;NA&gt;</td>\n",
       "      <td>100</td>\n",
       "      <td>21</td>\n",
       "    </tr>\n",
       "    <tr>\n",
       "      <th>49574</th>\n",
       "      <td>49575</td>\n",
       "      <td>&lt;NA&gt;</td>\n",
       "      <td>100</td>\n",
       "      <td>21</td>\n",
       "    </tr>\n",
       "    <tr>\n",
       "      <th>49640</th>\n",
       "      <td>49641</td>\n",
       "      <td>&lt;NA&gt;</td>\n",
       "      <td>100</td>\n",
       "      <td>21</td>\n",
       "    </tr>\n",
       "    <tr>\n",
       "      <th>49663</th>\n",
       "      <td>49664</td>\n",
       "      <td>&lt;NA&gt;</td>\n",
       "      <td>100</td>\n",
       "      <td>21</td>\n",
       "    </tr>\n",
       "    <tr>\n",
       "      <th>49668</th>\n",
       "      <td>49669</td>\n",
       "      <td>&lt;NA&gt;</td>\n",
       "      <td>100</td>\n",
       "      <td>21</td>\n",
       "    </tr>\n",
       "  </tbody>\n",
       "</table>\n",
       "<p>1258 rows × 4 columns</p>\n",
       "</div>"
      ],
      "text/plain": [
       "       product_id product_name  aisle_id  department_id\n",
       "37             38         <NA>       100             21\n",
       "71             72         <NA>       100             21\n",
       "109           110         <NA>       100             21\n",
       "296           297         <NA>       100             21\n",
       "416           417         <NA>       100             21\n",
       "...           ...          ...       ...            ...\n",
       "49552       49553         <NA>       100             21\n",
       "49574       49575         <NA>       100             21\n",
       "49640       49641         <NA>       100             21\n",
       "49663       49664         <NA>       100             21\n",
       "49668       49669         <NA>       100             21\n",
       "\n",
       "[1258 rows x 4 columns]"
      ]
     },
     "execution_count": 36,
     "metadata": {},
     "output_type": "execute_result"
    }
   ],
   "source": [
    "# Show pd.NA missing values for 'product_name' column\n",
    "mask = df_products['product_name'].isna()\n",
    "df_products.loc[mask, :]"
   ]
  },
  {
   "cell_type": "markdown",
   "id": "e959c190",
   "metadata": {},
   "source": [
    "#### 3.3.4  Missing values data imputation"
   ]
  },
  {
   "cell_type": "code",
   "execution_count": 37,
   "id": "eb3a8620",
   "metadata": {},
   "outputs": [
    {
     "data": {
      "application/vnd.microsoft.datawrangler.viewer.v0+json": {
       "columns": [
        {
         "name": "index",
         "rawType": "int64",
         "type": "integer"
        },
        {
         "name": "order_id",
         "rawType": "int64",
         "type": "integer"
        },
        {
         "name": "user_id",
         "rawType": "int64",
         "type": "integer"
        },
        {
         "name": "order_number",
         "rawType": "int64",
         "type": "integer"
        },
        {
         "name": "order_dow",
         "rawType": "int64",
         "type": "integer"
        },
        {
         "name": "order_hour_of_day",
         "rawType": "int64",
         "type": "integer"
        },
        {
         "name": "days_since_prior_order",
         "rawType": "object",
         "type": "unknown"
        }
       ],
       "ref": "9c07c69f-a85d-4c18-93d4-2188b494b769",
       "rows": [
        [
         "0",
         "1515936",
         "183418",
         "11",
         "6",
         "13",
         "30.0"
        ],
        [
         "1",
         "1690866",
         "163593",
         "5",
         "5",
         "12",
         "9.0"
        ],
        [
         "2",
         "1454967",
         "39980",
         "4",
         "5",
         "19",
         "2.0"
        ],
        [
         "3",
         "1768857",
         "82516",
         "56",
         "0",
         "20",
         "10.0"
        ],
        [
         "4",
         "3007858",
         "196724",
         "2",
         "4",
         "12",
         "17.0"
        ],
        [
         "5",
         "1843871",
         "20084",
         "5",
         "0",
         "11",
         "15.0"
        ],
        [
         "6",
         "2511640",
         "148233",
         "40",
         "3",
         "8",
         "2.0"
        ],
        [
         "7",
         "2521283",
         "97711",
         "2",
         "0",
         "18",
         "22.0"
        ],
        [
         "8",
         "2266494",
         "34954",
         "40",
         "5",
         "15",
         "4.0"
        ],
        [
         "9",
         "446014",
         "15356",
         "2",
         "4",
         "8",
         "10.0"
        ],
        [
         "10",
         "1162566",
         "43738",
         "33",
         "4",
         "11",
         "2.0"
        ],
        [
         "11",
         "102585",
         "191558",
         "18",
         "6",
         "16",
         "8.0"
        ],
        [
         "12",
         "2276302",
         "190167",
         "21",
         "1",
         "12",
         "2.0"
        ],
        [
         "13",
         "782916",
         "36310",
         "34",
         "5",
         "9",
         "3.0"
        ],
        [
         "14",
         "2843219",
         "74699",
         "4",
         "6",
         "11",
         "30.0"
        ],
        [
         "15",
         "1989200",
         "71810",
         "4",
         "1",
         "9",
         "12.0"
        ],
        [
         "16",
         "3109465",
         "55090",
         "19",
         "3",
         "15",
         "9.0"
        ],
        [
         "17",
         "727519",
         "146663",
         "7",
         "4",
         "22",
         "11.0"
        ],
        [
         "18",
         "556588",
         "6801",
         "63",
         "5",
         "11",
         "7.0"
        ],
        [
         "19",
         "294269",
         "107523",
         "29",
         "2",
         "10",
         "1.0"
        ],
        [
         "20",
         "50934",
         "178510",
         "9",
         "6",
         "9",
         "5.0"
        ],
        [
         "21",
         "3097921",
         "97319",
         "40",
         "4",
         "9",
         "8.0"
        ],
        [
         "22",
         "1546269",
         "182211",
         "12",
         "1",
         "15",
         "6.0"
        ],
        [
         "23",
         "3406282",
         "19356",
         "21",
         "0",
         "0",
         "14.0"
        ],
        [
         "24",
         "3358682",
         "162252",
         "14",
         "5",
         "8",
         "5.0"
        ],
        [
         "25",
         "1895419",
         "169793",
         "2",
         "0",
         "11",
         "8.0"
        ],
        [
         "26",
         "1844247",
         "122558",
         "4",
         "6",
         "18",
         "30.0"
        ],
        [
         "27",
         "457775",
         "61263",
         "24",
         "0",
         "16",
         "7.0"
        ],
        [
         "28",
         "133707",
         "182261",
         "1",
         "3",
         "10",
         "0"
        ],
        [
         "29",
         "547066",
         "278",
         "38",
         "1",
         "14",
         "4.0"
        ],
        [
         "30",
         "1890318",
         "193501",
         "3",
         "3",
         "15",
         "30.0"
        ],
        [
         "31",
         "1804574",
         "195874",
         "4",
         "1",
         "14",
         "30.0"
        ],
        [
         "32",
         "2744097",
         "5316",
         "27",
         "2",
         "17",
         "8.0"
        ],
        [
         "33",
         "2672948",
         "159620",
         "8",
         "5",
         "16",
         "3.0"
        ],
        [
         "34",
         "1864378",
         "94267",
         "25",
         "0",
         "11",
         "7.0"
        ],
        [
         "35",
         "125325",
         "106853",
         "6",
         "3",
         "19",
         "30.0"
        ],
        [
         "36",
         "3378084",
         "127629",
         "21",
         "1",
         "10",
         "20.0"
        ],
        [
         "37",
         "1559475",
         "94261",
         "7",
         "0",
         "1",
         "8.0"
        ],
        [
         "38",
         "6891",
         "61176",
         "6",
         "6",
         "16",
         "30.0"
        ],
        [
         "39",
         "1673791",
         "50",
         "8",
         "6",
         "14",
         "3.0"
        ],
        [
         "40",
         "1521693",
         "51377",
         "2",
         "4",
         "14",
         "15.0"
        ],
        [
         "41",
         "939348",
         "21335",
         "28",
         "2",
         "15",
         "6.0"
        ],
        [
         "42",
         "3229994",
         "37136",
         "9",
         "6",
         "12",
         "30.0"
        ],
        [
         "43",
         "698527",
         "95296",
         "58",
         "3",
         "14",
         "22.0"
        ],
        [
         "44",
         "1590582",
         "85603",
         "2",
         "1",
         "20",
         "16.0"
        ],
        [
         "45",
         "2057617",
         "88111",
         "8",
         "1",
         "7",
         "6.0"
        ],
        [
         "46",
         "2398578",
         "84825",
         "2",
         "2",
         "17",
         "4.0"
        ],
        [
         "47",
         "80255",
         "11655",
         "17",
         "4",
         "8",
         "30.0"
        ],
        [
         "48",
         "3247802",
         "118480",
         "13",
         "0",
         "11",
         "8.0"
        ],
        [
         "49",
         "2161799",
         "87345",
         "7",
         "0",
         "10",
         "24.0"
        ]
       ],
       "shape": {
        "columns": 6,
        "rows": 478952
       }
      },
      "text/html": [
       "<div>\n",
       "<style scoped>\n",
       "    .dataframe tbody tr th:only-of-type {\n",
       "        vertical-align: middle;\n",
       "    }\n",
       "\n",
       "    .dataframe tbody tr th {\n",
       "        vertical-align: top;\n",
       "    }\n",
       "\n",
       "    .dataframe thead th {\n",
       "        text-align: right;\n",
       "    }\n",
       "</style>\n",
       "<table border=\"1\" class=\"dataframe\">\n",
       "  <thead>\n",
       "    <tr style=\"text-align: right;\">\n",
       "      <th></th>\n",
       "      <th>order_id</th>\n",
       "      <th>user_id</th>\n",
       "      <th>order_number</th>\n",
       "      <th>order_dow</th>\n",
       "      <th>order_hour_of_day</th>\n",
       "      <th>days_since_prior_order</th>\n",
       "    </tr>\n",
       "  </thead>\n",
       "  <tbody>\n",
       "    <tr>\n",
       "      <th>0</th>\n",
       "      <td>1515936</td>\n",
       "      <td>183418</td>\n",
       "      <td>11</td>\n",
       "      <td>6</td>\n",
       "      <td>13</td>\n",
       "      <td>30.0</td>\n",
       "    </tr>\n",
       "    <tr>\n",
       "      <th>1</th>\n",
       "      <td>1690866</td>\n",
       "      <td>163593</td>\n",
       "      <td>5</td>\n",
       "      <td>5</td>\n",
       "      <td>12</td>\n",
       "      <td>9.0</td>\n",
       "    </tr>\n",
       "    <tr>\n",
       "      <th>2</th>\n",
       "      <td>1454967</td>\n",
       "      <td>39980</td>\n",
       "      <td>4</td>\n",
       "      <td>5</td>\n",
       "      <td>19</td>\n",
       "      <td>2.0</td>\n",
       "    </tr>\n",
       "    <tr>\n",
       "      <th>3</th>\n",
       "      <td>1768857</td>\n",
       "      <td>82516</td>\n",
       "      <td>56</td>\n",
       "      <td>0</td>\n",
       "      <td>20</td>\n",
       "      <td>10.0</td>\n",
       "    </tr>\n",
       "    <tr>\n",
       "      <th>4</th>\n",
       "      <td>3007858</td>\n",
       "      <td>196724</td>\n",
       "      <td>2</td>\n",
       "      <td>4</td>\n",
       "      <td>12</td>\n",
       "      <td>17.0</td>\n",
       "    </tr>\n",
       "    <tr>\n",
       "      <th>...</th>\n",
       "      <td>...</td>\n",
       "      <td>...</td>\n",
       "      <td>...</td>\n",
       "      <td>...</td>\n",
       "      <td>...</td>\n",
       "      <td>...</td>\n",
       "    </tr>\n",
       "    <tr>\n",
       "      <th>478947</th>\n",
       "      <td>3210681</td>\n",
       "      <td>5617</td>\n",
       "      <td>5</td>\n",
       "      <td>1</td>\n",
       "      <td>14</td>\n",
       "      <td>7.0</td>\n",
       "    </tr>\n",
       "    <tr>\n",
       "      <th>478948</th>\n",
       "      <td>3270802</td>\n",
       "      <td>112087</td>\n",
       "      <td>2</td>\n",
       "      <td>3</td>\n",
       "      <td>13</td>\n",
       "      <td>6.0</td>\n",
       "    </tr>\n",
       "    <tr>\n",
       "      <th>478949</th>\n",
       "      <td>885349</td>\n",
       "      <td>82944</td>\n",
       "      <td>16</td>\n",
       "      <td>2</td>\n",
       "      <td>11</td>\n",
       "      <td>6.0</td>\n",
       "    </tr>\n",
       "    <tr>\n",
       "      <th>478950</th>\n",
       "      <td>216274</td>\n",
       "      <td>4391</td>\n",
       "      <td>3</td>\n",
       "      <td>3</td>\n",
       "      <td>8</td>\n",
       "      <td>8.0</td>\n",
       "    </tr>\n",
       "    <tr>\n",
       "      <th>478951</th>\n",
       "      <td>2071924</td>\n",
       "      <td>1730</td>\n",
       "      <td>18</td>\n",
       "      <td>1</td>\n",
       "      <td>14</td>\n",
       "      <td>15.0</td>\n",
       "    </tr>\n",
       "  </tbody>\n",
       "</table>\n",
       "<p>478952 rows × 6 columns</p>\n",
       "</div>"
      ],
      "text/plain": [
       "        order_id  user_id  order_number  order_dow  order_hour_of_day days_since_prior_order\n",
       "0        1515936   183418            11          6                 13                   30.0\n",
       "1        1690866   163593             5          5                 12                    9.0\n",
       "2        1454967    39980             4          5                 19                    2.0\n",
       "3        1768857    82516            56          0                 20                   10.0\n",
       "4        3007858   196724             2          4                 12                   17.0\n",
       "...          ...      ...           ...        ...                ...                    ...\n",
       "478947   3210681     5617             5          1                 14                    7.0\n",
       "478948   3270802   112087             2          3                 13                    6.0\n",
       "478949    885349    82944            16          2                 11                    6.0\n",
       "478950    216274     4391             3          3                  8                    8.0\n",
       "478951   2071924     1730            18          1                 14                   15.0\n",
       "\n",
       "[478952 rows x 6 columns]"
      ]
     },
     "execution_count": 37,
     "metadata": {},
     "output_type": "execute_result"
    }
   ],
   "source": [
    "# Handle df_orders pd.NA missing values within 'days_since_prior_order' column\n",
    "df_orders['days_since_prior_order'] = df_orders['days_since_prior_order'].fillna(0)\n",
    "df_orders"
   ]
  },
  {
   "cell_type": "code",
   "execution_count": 38,
   "id": "5042bf94",
   "metadata": {},
   "outputs": [
    {
     "data": {
      "application/vnd.microsoft.datawrangler.viewer.v0+json": {
       "columns": [
        {
         "name": "index",
         "rawType": "int64",
         "type": "integer"
        },
        {
         "name": "order_id",
         "rawType": "int64",
         "type": "integer"
        },
        {
         "name": "product_id",
         "rawType": "int64",
         "type": "integer"
        },
        {
         "name": "add_to_cart_order",
         "rawType": "object",
         "type": "unknown"
        },
        {
         "name": "reordered",
         "rawType": "int64",
         "type": "integer"
        }
       ],
       "ref": "53db91c9-ad0b-43ae-81bf-91bac46d135d",
       "rows": [
        [
         "737",
         "2449164",
         "5068",
         null,
         "0"
        ],
        [
         "9926",
         "1968313",
         "43867",
         null,
         "0"
        ],
        [
         "14394",
         "2926893",
         "11688",
         null,
         "0"
        ],
        [
         "16418",
         "1717990",
         "4142",
         null,
         "0"
        ],
        [
         "30114",
         "1959075",
         "42828",
         null,
         "1"
        ],
        [
         "34183",
         "844733",
         "32717",
         null,
         "0"
        ],
        [
         "57981",
         "61355",
         "5322",
         null,
         "0"
        ],
        [
         "58228",
         "936852",
         "31373",
         null,
         "1"
        ],
        [
         "62655",
         "264710",
         "40281",
         null,
         "0"
        ],
        [
         "64336",
         "1717990",
         "39408",
         null,
         "0"
        ],
        [
         "67655",
         "1564093",
         "6139",
         null,
         "0"
        ],
        [
         "69773",
         "129627",
         "31372",
         null,
         "0"
        ],
        [
         "70057",
         "264710",
         "41602",
         null,
         "0"
        ],
        [
         "79239",
         "293169",
         "44628",
         null,
         "0"
        ],
        [
         "86905",
         "2849370",
         "37131",
         null,
         "0"
        ],
        [
         "94722",
         "1386261",
         "41007",
         null,
         "0"
        ],
        [
         "98839",
         "3308010",
         "5438",
         null,
         "1"
        ],
        [
         "102527",
         "903110",
         "41960",
         null,
         "1"
        ],
        [
         "103410",
         "2136777",
         "46886",
         null,
         "1"
        ],
        [
         "110274",
         "3347453",
         "47175",
         null,
         "0"
        ],
        [
         "120294",
         "1888628",
         "5621",
         null,
         "0"
        ],
        [
         "120841",
         "165801",
         "4137",
         null,
         "0"
        ],
        [
         "128360",
         "2449164",
         "14386",
         null,
         "0"
        ],
        [
         "130034",
         "2094761",
         "5194",
         null,
         "1"
        ],
        [
         "137029",
         "3347453",
         "30727",
         null,
         "0"
        ],
        [
         "137628",
         "1038146",
         "42110",
         null,
         "1"
        ],
        [
         "137958",
         "2136777",
         "45106",
         null,
         "0"
        ],
        [
         "144645",
         "2997021",
         "29418",
         null,
         "0"
        ],
        [
         "147722",
         "844733",
         "22151",
         null,
         "0"
        ],
        [
         "153946",
         "844733",
         "35221",
         null,
         "0"
        ],
        [
         "170487",
         "2136777",
         "2635",
         null,
         "1"
        ],
        [
         "177291",
         "813364",
         "13798",
         null,
         "0"
        ],
        [
         "178477",
         "165801",
         "6187",
         null,
         "0"
        ],
        [
         "182090",
         "2256933",
         "13457",
         null,
         "1"
        ],
        [
         "193230",
         "171934",
         "18441",
         null,
         "0"
        ],
        [
         "193574",
         "264710",
         "37912",
         null,
         "0"
        ],
        [
         "193859",
         "2449164",
         "8518",
         null,
         "0"
        ],
        [
         "210094",
         "2409109",
         "26587",
         null,
         "0"
        ],
        [
         "219403",
         "3347453",
         "18782",
         null,
         "0"
        ],
        [
         "227858",
         "813364",
         "31215",
         null,
         "0"
        ],
        [
         "235998",
         "2926893",
         "4792",
         null,
         "0"
        ],
        [
         "236073",
         "936852",
         "29926",
         null,
         "1"
        ],
        [
         "237301",
         "1730767",
         "36316",
         null,
         "1"
        ],
        [
         "238286",
         "1169835",
         "16656",
         null,
         "0"
        ],
        [
         "238630",
         "733526",
         "24097",
         null,
         "1"
        ],
        [
         "238768",
         "844733",
         "4421",
         null,
         "0"
        ],
        [
         "240071",
         "293169",
         "18598",
         null,
         "0"
        ],
        [
         "247893",
         "61355",
         "8594",
         null,
         "0"
        ],
        [
         "250788",
         "903110",
         "2180",
         null,
         "1"
        ],
        [
         "251111",
         "1968313",
         "23995",
         null,
         "1"
        ]
       ],
       "shape": {
        "columns": 4,
        "rows": 836
       }
      },
      "text/html": [
       "<div>\n",
       "<style scoped>\n",
       "    .dataframe tbody tr th:only-of-type {\n",
       "        vertical-align: middle;\n",
       "    }\n",
       "\n",
       "    .dataframe tbody tr th {\n",
       "        vertical-align: top;\n",
       "    }\n",
       "\n",
       "    .dataframe thead th {\n",
       "        text-align: right;\n",
       "    }\n",
       "</style>\n",
       "<table border=\"1\" class=\"dataframe\">\n",
       "  <thead>\n",
       "    <tr style=\"text-align: right;\">\n",
       "      <th></th>\n",
       "      <th>order_id</th>\n",
       "      <th>product_id</th>\n",
       "      <th>add_to_cart_order</th>\n",
       "      <th>reordered</th>\n",
       "    </tr>\n",
       "  </thead>\n",
       "  <tbody>\n",
       "    <tr>\n",
       "      <th>737</th>\n",
       "      <td>2449164</td>\n",
       "      <td>5068</td>\n",
       "      <td>&lt;NA&gt;</td>\n",
       "      <td>0</td>\n",
       "    </tr>\n",
       "    <tr>\n",
       "      <th>9926</th>\n",
       "      <td>1968313</td>\n",
       "      <td>43867</td>\n",
       "      <td>&lt;NA&gt;</td>\n",
       "      <td>0</td>\n",
       "    </tr>\n",
       "    <tr>\n",
       "      <th>14394</th>\n",
       "      <td>2926893</td>\n",
       "      <td>11688</td>\n",
       "      <td>&lt;NA&gt;</td>\n",
       "      <td>0</td>\n",
       "    </tr>\n",
       "    <tr>\n",
       "      <th>16418</th>\n",
       "      <td>1717990</td>\n",
       "      <td>4142</td>\n",
       "      <td>&lt;NA&gt;</td>\n",
       "      <td>0</td>\n",
       "    </tr>\n",
       "    <tr>\n",
       "      <th>30114</th>\n",
       "      <td>1959075</td>\n",
       "      <td>42828</td>\n",
       "      <td>&lt;NA&gt;</td>\n",
       "      <td>1</td>\n",
       "    </tr>\n",
       "    <tr>\n",
       "      <th>...</th>\n",
       "      <td>...</td>\n",
       "      <td>...</td>\n",
       "      <td>...</td>\n",
       "      <td>...</td>\n",
       "    </tr>\n",
       "    <tr>\n",
       "      <th>4505662</th>\n",
       "      <td>1800005</td>\n",
       "      <td>7411</td>\n",
       "      <td>&lt;NA&gt;</td>\n",
       "      <td>0</td>\n",
       "    </tr>\n",
       "    <tr>\n",
       "      <th>4511400</th>\n",
       "      <td>1633337</td>\n",
       "      <td>260</td>\n",
       "      <td>&lt;NA&gt;</td>\n",
       "      <td>0</td>\n",
       "    </tr>\n",
       "    <tr>\n",
       "      <th>4517562</th>\n",
       "      <td>404157</td>\n",
       "      <td>9517</td>\n",
       "      <td>&lt;NA&gt;</td>\n",
       "      <td>0</td>\n",
       "    </tr>\n",
       "    <tr>\n",
       "      <th>4534112</th>\n",
       "      <td>1673227</td>\n",
       "      <td>17835</td>\n",
       "      <td>&lt;NA&gt;</td>\n",
       "      <td>0</td>\n",
       "    </tr>\n",
       "    <tr>\n",
       "      <th>4535739</th>\n",
       "      <td>1832957</td>\n",
       "      <td>17949</td>\n",
       "      <td>&lt;NA&gt;</td>\n",
       "      <td>1</td>\n",
       "    </tr>\n",
       "  </tbody>\n",
       "</table>\n",
       "<p>836 rows × 4 columns</p>\n",
       "</div>"
      ],
      "text/plain": [
       "         order_id  product_id add_to_cart_order  reordered\n",
       "737       2449164        5068              <NA>          0\n",
       "9926      1968313       43867              <NA>          0\n",
       "14394     2926893       11688              <NA>          0\n",
       "16418     1717990        4142              <NA>          0\n",
       "30114     1959075       42828              <NA>          1\n",
       "...           ...         ...               ...        ...\n",
       "4505662   1800005        7411              <NA>          0\n",
       "4511400   1633337         260              <NA>          0\n",
       "4517562    404157        9517              <NA>          0\n",
       "4534112   1673227       17835              <NA>          0\n",
       "4535739   1832957       17949              <NA>          1\n",
       "\n",
       "[836 rows x 4 columns]"
      ]
     },
     "execution_count": 38,
     "metadata": {},
     "output_type": "execute_result"
    }
   ],
   "source": [
    "# Handle df_order_products pd.NA missing values within 'add_to_cart_order' column\n",
    "df_order_atco = df_order_products.loc[df_order_products['add_to_cart_order'].isna(), :]\n",
    "df_order_atco"
   ]
  },
  {
   "cell_type": "code",
   "execution_count": 39,
   "id": "063ef633",
   "metadata": {},
   "outputs": [
    {
     "data": {
      "application/vnd.microsoft.datawrangler.viewer.v0+json": {
       "columns": [
        {
         "name": "order_id",
         "rawType": "int64",
         "type": "integer"
        },
        {
         "name": "add_to_cart_order",
         "rawType": "int64",
         "type": "integer"
        }
       ],
       "ref": "31e649cb-32b9-40ce-ae2d-c3bcb81baed1",
       "rows": [
        [
         "4",
         "13"
        ],
        [
         "9",
         "15"
        ],
        [
         "11",
         "5"
        ],
        [
         "19",
         "3"
        ],
        [
         "20",
         "8"
        ],
        [
         "31",
         "10"
        ],
        [
         "48",
         "8"
        ],
        [
         "56",
         "10"
        ],
        [
         "61",
         "12"
        ],
        [
         "68",
         "9"
        ],
        [
         "75",
         "16"
        ],
        [
         "80",
         "7"
        ],
        [
         "81",
         "11"
        ],
        [
         "83",
         "14"
        ],
        [
         "99",
         "7"
        ],
        [
         "114",
         "10"
        ],
        [
         "131",
         "18"
        ],
        [
         "142",
         "7"
        ],
        [
         "143",
         "25"
        ],
        [
         "148",
         "14"
        ],
        [
         "178",
         "2"
        ],
        [
         "185",
         "10"
        ],
        [
         "191",
         "5"
        ],
        [
         "195",
         "25"
        ],
        [
         "196",
         "10"
        ],
        [
         "214",
         "9"
        ],
        [
         "225",
         "11"
        ],
        [
         "231",
         "24"
        ],
        [
         "234",
         "10"
        ],
        [
         "239",
         "18"
        ],
        [
         "250",
         "2"
        ],
        [
         "253",
         "3"
        ],
        [
         "258",
         "15"
        ],
        [
         "264",
         "4"
        ],
        [
         "272",
         "20"
        ],
        [
         "278",
         "6"
        ],
        [
         "279",
         "15"
        ],
        [
         "291",
         "8"
        ],
        [
         "306",
         "17"
        ],
        [
         "310",
         "14"
        ],
        [
         "315",
         "38"
        ],
        [
         "323",
         "12"
        ],
        [
         "326",
         "17"
        ],
        [
         "332",
         "6"
        ],
        [
         "334",
         "7"
        ],
        [
         "338",
         "26"
        ],
        [
         "341",
         "1"
        ],
        [
         "348",
         "4"
        ],
        [
         "363",
         "7"
        ],
        [
         "369",
         "4"
        ]
       ],
       "shape": {
        "columns": 1,
        "rows": 450046
       }
      },
      "text/plain": [
       "order_id\n",
       "4          13\n",
       "9          15\n",
       "11          5\n",
       "19          3\n",
       "20          8\n",
       "           ..\n",
       "3421034    17\n",
       "3421053     9\n",
       "3421071     5\n",
       "3421077     4\n",
       "3421079     1\n",
       "Name: add_to_cart_order, Length: 450046, dtype: int64"
      ]
     },
     "execution_count": 39,
     "metadata": {},
     "output_type": "execute_result"
    }
   ],
   "source": [
    "df_order_id_atco_mv = df_order_products.groupby('order_id')['add_to_cart_order'].count()\n",
    "df_order_id_atco_mv"
   ]
  },
  {
   "cell_type": "code",
   "execution_count": 40,
   "id": "b8fe9fbe",
   "metadata": {},
   "outputs": [
    {
     "data": {
      "text/html": [
       "> Aisle id (100): <b>missing</b>"
      ],
      "text/plain": [
       "<IPython.core.display.HTML object>"
      ]
     },
     "metadata": {},
     "output_type": "display_data"
    },
    {
     "data": {
      "text/html": [
       "> Department id (21): <b>missing</b>"
      ],
      "text/plain": [
       "<IPython.core.display.HTML object>"
      ]
     },
     "metadata": {},
     "output_type": "display_data"
    }
   ],
   "source": [
    "# Handle df_products pd.NA missing values within 'product_name' column\n",
    "display(HTML(f\"> Aisle id (100): <b>{df_aisles.iloc[99, 1]}</b>\"))\n",
    "display(HTML(f\"> Department id (21): <b>{df_departments.iloc[20, 1]}</b>\"))"
   ]
  },
  {
   "cell_type": "code",
   "execution_count": 41,
   "id": "d2705dde",
   "metadata": {},
   "outputs": [
    {
     "data": {
      "application/vnd.microsoft.datawrangler.viewer.v0+json": {
       "columns": [
        {
         "name": "index",
         "rawType": "int64",
         "type": "integer"
        },
        {
         "name": "product_id",
         "rawType": "int64",
         "type": "integer"
        },
        {
         "name": "product_name",
         "rawType": "object",
         "type": "string"
        },
        {
         "name": "aisle_id",
         "rawType": "int64",
         "type": "integer"
        },
        {
         "name": "department_id",
         "rawType": "int64",
         "type": "integer"
        }
       ],
       "ref": "02f2dc1c-a6c2-4f5d-8942-18b7c04b36e0",
       "rows": [
        [
         "0",
         "1",
         "chocolate_sandwich_cookies",
         "61",
         "19"
        ],
        [
         "1",
         "2",
         "all_seasons_salt",
         "104",
         "13"
        ],
        [
         "2",
         "3",
         "robust_golden_unsweetened_oolong_tea",
         "94",
         "7"
        ],
        [
         "3",
         "4",
         "smart_ones_classic_favorites_mini_rigatoni_with_vodka_cream_sauce",
         "38",
         "1"
        ],
        [
         "4",
         "5",
         "green_chile_anytime_sauce",
         "5",
         "13"
        ],
        [
         "5",
         "6",
         "dry_nose_oil",
         "11",
         "11"
        ],
        [
         "6",
         "7",
         "pure_coconut_water_with_orange",
         "98",
         "7"
        ],
        [
         "7",
         "8",
         "cut_russet_potatoes_steam_n_mash",
         "116",
         "1"
        ],
        [
         "8",
         "9",
         "light_strawberry_blueberry_yogurt",
         "120",
         "16"
        ],
        [
         "9",
         "10",
         "sparkling_orange_juice_prickly_pear_beverage",
         "115",
         "7"
        ],
        [
         "10",
         "11",
         "peach_mango_juice",
         "31",
         "7"
        ],
        [
         "11",
         "12",
         "chocolate_fudge_layer_cake",
         "119",
         "1"
        ],
        [
         "12",
         "13",
         "saline_nasal_mist",
         "11",
         "11"
        ],
        [
         "13",
         "14",
         "fresh_scent_dishwasher_cleaner",
         "74",
         "17"
        ],
        [
         "14",
         "15",
         "overnight_diapers_size_6",
         "56",
         "18"
        ],
        [
         "15",
         "16",
         "mint_chocolate_flavored_syrup",
         "103",
         "19"
        ],
        [
         "16",
         "17",
         "rendered_duck_fat",
         "35",
         "12"
        ],
        [
         "17",
         "18",
         "pizza_for_one_suprema_frozen_pizza",
         "79",
         "1"
        ],
        [
         "18",
         "19",
         "gluten_free_quinoa_three_cheese_mushroom_blend",
         "63",
         "9"
        ],
        [
         "19",
         "20",
         "pomegranate_cranberry_aloe_vera_enrich_drink",
         "98",
         "7"
        ],
        [
         "20",
         "21",
         "small_medium_dental_dog_treats",
         "40",
         "8"
        ],
        [
         "21",
         "22",
         "fresh_breath_oral_rinse_mild_mint",
         "20",
         "11"
        ],
        [
         "22",
         "23",
         "organic_turkey_burgers",
         "49",
         "12"
        ],
        [
         "23",
         "24",
         "tri_vi_sol_vitamins_a_c_and_d_supplement_drops_for_infants",
         "47",
         "11"
        ],
        [
         "24",
         "25",
         "salted_caramel_lean_protein_fiber_bar",
         "3",
         "19"
        ],
        [
         "25",
         "26",
         "fancy_feast_trout_feast_flaked_wet_cat_food",
         "41",
         "8"
        ],
        [
         "26",
         "27",
         "complete_spring_water_foaming_antibacterial_hand_wash",
         "127",
         "11"
        ],
        [
         "27",
         "28",
         "wheat_chex_cereal",
         "121",
         "14"
        ],
        [
         "28",
         "29",
         "fresh_cut_golden_sweet_no_salt_added_whole_kernel_corn",
         "81",
         "15"
        ],
        [
         "29",
         "30",
         "three_cheese_ziti_marinara_with_meatballs",
         "38",
         "1"
        ],
        [
         "30",
         "31",
         "white_pearl_onions",
         "123",
         "4"
        ],
        [
         "31",
         "32",
         "nacho_cheese_white_bean_chips",
         "107",
         "19"
        ],
        [
         "32",
         "33",
         "organic_spaghetti_style_pasta",
         "131",
         "9"
        ],
        [
         "33",
         "34",
         "peanut_butter_cereal",
         "121",
         "14"
        ],
        [
         "34",
         "35",
         "italian_herb_porcini_mushrooms_chicken_sausage",
         "106",
         "12"
        ],
        [
         "35",
         "36",
         "traditional_lasagna_with_meat_sauce_savory_italian_recipes",
         "38",
         "1"
        ],
        [
         "36",
         "37",
         "noodle_soup_mix_with_chicken_broth",
         "69",
         "15"
        ],
        [
         "37",
         "38",
         "unknown",
         "100",
         "21"
        ],
        [
         "38",
         "39",
         "daily_tangerine_citrus_flavored_beverage",
         "64",
         "7"
        ],
        [
         "39",
         "40",
         "beef_hot_links_beef_smoked_sausage_with_chile_peppers",
         "106",
         "12"
        ],
        [
         "40",
         "41",
         "organic_sourdough_einkorn_crackers_rosemary",
         "78",
         "19"
        ],
        [
         "41",
         "42",
         "biotin_1000_mcg",
         "47",
         "11"
        ],
        [
         "42",
         "43",
         "organic_clementines",
         "123",
         "4"
        ],
        [
         "43",
         "44",
         "sparkling_raspberry_seltzer",
         "115",
         "7"
        ],
        [
         "44",
         "45",
         "european_cucumber",
         "83",
         "4"
        ],
        [
         "45",
         "46",
         "raisin_cinnamon_bagels_5_count",
         "58",
         "1"
        ],
        [
         "46",
         "47",
         "onion_flavor_organic_roasted_seaweed_snack",
         "66",
         "6"
        ],
        [
         "47",
         "48",
         "school_glue_washable_no_run",
         "87",
         "17"
        ],
        [
         "48",
         "49",
         "vegetarian_grain_meat_sausages_italian_4_ct",
         "14",
         "20"
        ],
        [
         "49",
         "50",
         "pumpkin_muffin_mix",
         "105",
         "13"
        ]
       ],
       "shape": {
        "columns": 4,
        "rows": 49694
       }
      },
      "text/html": [
       "<div>\n",
       "<style scoped>\n",
       "    .dataframe tbody tr th:only-of-type {\n",
       "        vertical-align: middle;\n",
       "    }\n",
       "\n",
       "    .dataframe tbody tr th {\n",
       "        vertical-align: top;\n",
       "    }\n",
       "\n",
       "    .dataframe thead th {\n",
       "        text-align: right;\n",
       "    }\n",
       "</style>\n",
       "<table border=\"1\" class=\"dataframe\">\n",
       "  <thead>\n",
       "    <tr style=\"text-align: right;\">\n",
       "      <th></th>\n",
       "      <th>product_id</th>\n",
       "      <th>product_name</th>\n",
       "      <th>aisle_id</th>\n",
       "      <th>department_id</th>\n",
       "    </tr>\n",
       "  </thead>\n",
       "  <tbody>\n",
       "    <tr>\n",
       "      <th>0</th>\n",
       "      <td>1</td>\n",
       "      <td>chocolate_sandwich_cookies</td>\n",
       "      <td>61</td>\n",
       "      <td>19</td>\n",
       "    </tr>\n",
       "    <tr>\n",
       "      <th>1</th>\n",
       "      <td>2</td>\n",
       "      <td>all_seasons_salt</td>\n",
       "      <td>104</td>\n",
       "      <td>13</td>\n",
       "    </tr>\n",
       "    <tr>\n",
       "      <th>2</th>\n",
       "      <td>3</td>\n",
       "      <td>robust_golden_unsweetened_oolong_tea</td>\n",
       "      <td>94</td>\n",
       "      <td>7</td>\n",
       "    </tr>\n",
       "    <tr>\n",
       "      <th>3</th>\n",
       "      <td>4</td>\n",
       "      <td>smart_ones_classic_favorites_mini_rigatoni_wit...</td>\n",
       "      <td>38</td>\n",
       "      <td>1</td>\n",
       "    </tr>\n",
       "    <tr>\n",
       "      <th>4</th>\n",
       "      <td>5</td>\n",
       "      <td>green_chile_anytime_sauce</td>\n",
       "      <td>5</td>\n",
       "      <td>13</td>\n",
       "    </tr>\n",
       "    <tr>\n",
       "      <th>...</th>\n",
       "      <td>...</td>\n",
       "      <td>...</td>\n",
       "      <td>...</td>\n",
       "      <td>...</td>\n",
       "    </tr>\n",
       "    <tr>\n",
       "      <th>49689</th>\n",
       "      <td>49690</td>\n",
       "      <td>high_performance_energy_drink</td>\n",
       "      <td>64</td>\n",
       "      <td>7</td>\n",
       "    </tr>\n",
       "    <tr>\n",
       "      <th>49690</th>\n",
       "      <td>49691</td>\n",
       "      <td>original_pancake_waffle_mix</td>\n",
       "      <td>130</td>\n",
       "      <td>14</td>\n",
       "    </tr>\n",
       "    <tr>\n",
       "      <th>49691</th>\n",
       "      <td>49692</td>\n",
       "      <td>organic_instant_oatmeal_light_maple_brown_sugar</td>\n",
       "      <td>130</td>\n",
       "      <td>14</td>\n",
       "    </tr>\n",
       "    <tr>\n",
       "      <th>49692</th>\n",
       "      <td>49693</td>\n",
       "      <td>spring_water_body_wash</td>\n",
       "      <td>127</td>\n",
       "      <td>11</td>\n",
       "    </tr>\n",
       "    <tr>\n",
       "      <th>49693</th>\n",
       "      <td>49694</td>\n",
       "      <td>burrito_steak_cheese</td>\n",
       "      <td>38</td>\n",
       "      <td>1</td>\n",
       "    </tr>\n",
       "  </tbody>\n",
       "</table>\n",
       "<p>49694 rows × 4 columns</p>\n",
       "</div>"
      ],
      "text/plain": [
       "       product_id                                       product_name  aisle_id  department_id\n",
       "0               1                         chocolate_sandwich_cookies        61             19\n",
       "1               2                                   all_seasons_salt       104             13\n",
       "2               3               robust_golden_unsweetened_oolong_tea        94              7\n",
       "3               4  smart_ones_classic_favorites_mini_rigatoni_wit...        38              1\n",
       "4               5                          green_chile_anytime_sauce         5             13\n",
       "...           ...                                                ...       ...            ...\n",
       "49689       49690                      high_performance_energy_drink        64              7\n",
       "49690       49691                        original_pancake_waffle_mix       130             14\n",
       "49691       49692    organic_instant_oatmeal_light_maple_brown_sugar       130             14\n",
       "49692       49693                             spring_water_body_wash       127             11\n",
       "49693       49694                               burrito_steak_cheese        38              1\n",
       "\n",
       "[49694 rows x 4 columns]"
      ]
     },
     "execution_count": 41,
     "metadata": {},
     "output_type": "execute_result"
    }
   ],
   "source": [
    "df_products['product_name'] = df_products['product_name'].fillna('unknown')\n",
    "df_products"
   ]
  },
  {
   "cell_type": "code",
   "execution_count": 42,
   "id": "1684ac47",
   "metadata": {},
   "outputs": [
    {
     "data": {
      "text/html": [
       "> Missing values in <b>df_orders</b>: <i>0</i>"
      ],
      "text/plain": [
       "<IPython.core.display.HTML object>"
      ]
     },
     "metadata": {},
     "output_type": "display_data"
    }
   ],
   "source": [
    "display(HTML(f\"> Missing values in <b>df_orders</b>: <i>{df_orders['days_since_prior_order'].isna().sum()}</i>\"))"
   ]
  },
  {
   "cell_type": "code",
   "execution_count": 43,
   "id": "afea731b",
   "metadata": {},
   "outputs": [
    {
     "data": {
      "text/html": [
       "> Missing values in <b>df_order_products</b>: <i>836</i>"
      ],
      "text/plain": [
       "<IPython.core.display.HTML object>"
      ]
     },
     "metadata": {},
     "output_type": "display_data"
    }
   ],
   "source": [
    "display(HTML(f\"> Missing values in <b>df_order_products</b>: <i>{df_order_products['add_to_cart_order'].isna().sum()}</i>\"))"
   ]
  },
  {
   "cell_type": "code",
   "execution_count": 44,
   "id": "f178d9a1",
   "metadata": {},
   "outputs": [
    {
     "data": {
      "text/html": [
       "> Missing values in <b>df_products</b>: <i>0</i>"
      ],
      "text/plain": [
       "<IPython.core.display.HTML object>"
      ]
     },
     "metadata": {},
     "output_type": "display_data"
    }
   ],
   "source": [
    "display(HTML(f\"> Missing values in <b>df_products</b>: <i>{df_products['product_name'].isna().sum()}</i>\"))"
   ]
  },
  {
   "cell_type": "markdown",
   "id": "20e36a3f",
   "metadata": {},
   "source": [
    "##### `LSPL`\n",
    "\n",
    "**Note:** \n",
    "\n",
    "1. Missing values in __df_orders__, _days_since_prior_order_ column, in firt time order\n",
    "\n",
    "Missing values in the `days_since_prior_order` column occur exclusively on rows where `order_number == 1`, indicating that these are users’ first recorded purchases. Since there is no previous order to compare against, the number of days since a prior order is undefined. However, representing these cases as `0` is both numerically and semantically appropriate — it marks the starting point of the user’s purchase history.\n",
    "\n",
    "__Solution_: All missing values in `days_since_prior_order` will be filled with `0` to denote the absence of prior orders. This preserves the column as fully numeric and ensures consistency for aggregation or time-based analysis.\n",
    "\n",
    "__Impact__: This imputation enables accurate computation of averages, gaps between orders, and user purchasing frequency without introducing NaN-related issues. It also provides a clean indicator of first-time orders across users.\n",
    "\n",
    "2. Missing values in __df_order_products__, _add_to_cart_order_ column, in large orders (above 64 products)\n",
    "\n",
    "Upon analyzing the df_order_products table, it was discovered that all _order_id's_ with more than 64 products have missing values (`NaN`) in the `add_to_cart_order` column. This column is intended to represent the sequential position in which products were added to the cart. The issue suggests a possible data export limitation or a system bug that fails to assign values beyond the 64th item.\n",
    "\n",
    "__Solution__: Instead of imputing arbitrary values (e.g., 0), which could introduce logical inconsistencies. These missing values will be preserved as `NaN` and handled appropriately during modeling or further analysis.\n",
    "\n",
    "__Impact__: This anomaly affects a small but important subset of the data (orders with unusually large carts). If not handled correctly, it could distort features related to user purchase behavior or product placement in cart sequences. Properly flagging and isolating these cases ensures the integrity of downstream analyses and modeling workflows.\n",
    "\n",
    "3. Missing values in __df_products__, _product_name_ column\n",
    "\n",
    "Rows in the `df_products` DataFrame with missing `product_name` values consistently have `aisle_id = 100` and `department_id = 21`. These IDs correspond to `aisle_name = 'missing'` and `department_name = 'missing'` in their respective reference tables. Since there is no additional metadata or product-related information in any of the related tables, it is not possible to reliably infer the actual product names for these rows.\n",
    "\n",
    "__Solution__: To preserve data integrity and acknowledge the uncertainty, missing values in the `product_name` column will be imputed with the placeholder `unknown`. This approach avoids introducing misleading assumptions while keeping the data usable.\n",
    "\n",
    "__Impact__: These products likely represent unidentified or incorrectly registered items in the original dataset. Treating them as `unknown` ensures they remain traceable throughout analysis and modeling, especially if product-level grouping or filtering is performed."
   ]
  },
  {
   "cell_type": "markdown",
   "id": "33af8b36",
   "metadata": {},
   "source": [
    "### 3.4 Implicit duplicates"
   ]
  },
  {
   "cell_type": "markdown",
   "id": "9db00f22",
   "metadata": {},
   "source": [
    "#### 3.4.1 Implicit duplicates check"
   ]
  },
  {
   "cell_type": "code",
   "execution_count": 45,
   "id": "a4aa4ca1",
   "metadata": {},
   "outputs": [
    {
     "name": "stderr",
     "output_type": "stream",
     "text": [
      "> Scanning for duplicates ...: 100%|██████████| 134/134 [00:00<00:00, 816.58it/s]\n"
     ]
    },
    {
     "data": {
      "text/html": [
       "> <i>Implicit duplicates</i> <b>detected</b>:"
      ],
      "text/plain": [
       "<IPython.core.display.HTML object>"
      ]
     },
     "metadata": {},
     "output_type": "display_data"
    },
    {
     "data": {
      "text/html": [
       "'<b>energy_granola_bars</b>'  ⇨  <i>['granola']</i>"
      ],
      "text/plain": [
       "<IPython.core.display.HTML object>"
      ]
     },
     "metadata": {},
     "output_type": "display_data"
    },
    {
     "data": {
      "text/html": [
       "'<b>other</b>'  ⇨  <i>['other_creams_cheeses']</i>"
      ],
      "text/plain": [
       "<IPython.core.display.HTML object>"
      ]
     },
     "metadata": {},
     "output_type": "display_data"
    },
    {
     "data": {
      "text/html": [
       "'<b>soap</b>'  ⇨  <i>['body_lotions_soap']</i>"
      ],
      "text/plain": [
       "<IPython.core.display.HTML object>"
      ]
     },
     "metadata": {},
     "output_type": "display_data"
    },
    {
     "data": {
      "text/html": [
       "'<b>refrigerated</b>'  ⇨  <i>['refrigerated_pudding_desserts']</i>"
      ],
      "text/plain": [
       "<IPython.core.display.HTML object>"
      ]
     },
     "metadata": {},
     "output_type": "display_data"
    },
    {
     "data": {
      "text/html": [
       "'<b>ice_cream_ice</b>'  ⇨  <i>['ice_cream_toppings', 'cream']</i>"
      ],
      "text/plain": [
       "<IPython.core.display.HTML object>"
      ]
     },
     "metadata": {},
     "output_type": "display_data"
    },
    {
     "data": {
      "text/html": [
       "'<b>preserved_dips_spreads</b>'  ⇨  <i>['spreads']</i>"
      ],
      "text/plain": [
       "<IPython.core.display.HTML object>"
      ]
     },
     "metadata": {},
     "output_type": "display_data"
    },
    {
     "data": {
      "text/html": [
       "'<b>frozen_breads_doughs</b>'  ⇨  <i>['bread']</i>"
      ],
      "text/plain": [
       "<IPython.core.display.HTML object>"
      ]
     },
     "metadata": {},
     "output_type": "display_data"
    },
    {
     "data": {
      "text/html": [
       "'<b>grains_rice_dried_goods</b>'  ⇨  <i>['bulk_grains_rice_dried_goods']</i>"
      ],
      "text/plain": [
       "<IPython.core.display.HTML object>"
      ]
     },
     "metadata": {},
     "output_type": "display_data"
    },
    {
     "data": {
      "text/html": [
       "'<b>cereal</b>'  ⇨  <i>['hot_cereal_pancake_mixes']</i>"
      ],
      "text/plain": [
       "<IPython.core.display.HTML object>"
      ]
     },
     "metadata": {},
     "output_type": "display_data"
    },
    {
     "data": {
      "text/html": [
       "'<b>tortillas_flat_bread</b>'  ⇨  <i>['bread']</i>"
      ],
      "text/plain": [
       "<IPython.core.display.HTML object>"
      ]
     },
     "metadata": {},
     "output_type": "display_data"
    }
   ],
   "source": [
    "# Show implicit duplicates df_aisles\n",
    "find_implicit_duplicates_only(df_aisles, 'aisle', threshold=90)"
   ]
  },
  {
   "cell_type": "code",
   "execution_count": 46,
   "id": "3b845fbe",
   "metadata": {},
   "outputs": [
    {
     "name": "stderr",
     "output_type": "stream",
     "text": [
      "> Scanning for duplicates ...: 100%|██████████| 21/21 [00:00<00:00, 7365.20it/s]\n"
     ]
    },
    {
     "data": {
      "text/html": [
       "> <b>No</b> <i>implicit duplicates</i> found based on the current threshold."
      ],
      "text/plain": [
       "<IPython.core.display.HTML object>"
      ]
     },
     "metadata": {},
     "output_type": "display_data"
    }
   ],
   "source": [
    "# Show implicit duplicates df_departments\n",
    "find_implicit_duplicates_only(df_departments, 'department', threshold=90)"
   ]
  },
  {
   "cell_type": "code",
   "execution_count": 47,
   "id": "cf9c65ed",
   "metadata": {},
   "outputs": [],
   "source": [
    "# Show implicit duplicates df_products (too long to run the analysis)\n",
    "#find_implicit_duplicates_only(df_products, 'product_name', threshold=90)"
   ]
  },
  {
   "cell_type": "markdown",
   "id": "a82bd0b0",
   "metadata": {},
   "source": [
    "#### 3.4.2 Implicit duplicates data imputation"
   ]
  },
  {
   "cell_type": "code",
   "execution_count": 48,
   "id": "1797a4f8",
   "metadata": {},
   "outputs": [],
   "source": [
    "# No need"
   ]
  },
  {
   "cell_type": "markdown",
   "id": "404b7e2b",
   "metadata": {},
   "source": [
    "### 3.5 Casting data types"
   ]
  },
  {
   "cell_type": "markdown",
   "id": "680c7814",
   "metadata": {},
   "source": [
    "#### 3.5.1 Casting to string data type"
   ]
  },
  {
   "cell_type": "code",
   "execution_count": 49,
   "id": "4227bb25",
   "metadata": {},
   "outputs": [
    {
     "data": {
      "text/plain": [
       "string[python]"
      ]
     },
     "execution_count": 49,
     "metadata": {},
     "output_type": "execute_result"
    }
   ],
   "source": [
    "# df_aisles 'aisles' to string\n",
    "df_aisles['aisle'] = df_aisles['aisle'].astype('string')\n",
    "df_aisles['aisle'].dtypes"
   ]
  },
  {
   "cell_type": "code",
   "execution_count": 50,
   "id": "354a1a99",
   "metadata": {},
   "outputs": [
    {
     "data": {
      "text/plain": [
       "string[python]"
      ]
     },
     "execution_count": 50,
     "metadata": {},
     "output_type": "execute_result"
    }
   ],
   "source": [
    "# df_departments 'department' to string\n",
    "df_departments['department'] = df_departments['department'].astype('string')\n",
    "df_departments['department'].dtypes"
   ]
  },
  {
   "cell_type": "code",
   "execution_count": 51,
   "id": "76e3cbc8",
   "metadata": {},
   "outputs": [
    {
     "data": {
      "text/plain": [
       "string[python]"
      ]
     },
     "execution_count": 51,
     "metadata": {},
     "output_type": "execute_result"
    }
   ],
   "source": [
    "# df_products 'product_name' to string\n",
    "df_products['product_name'] = df_products['product_name'].astype('string')\n",
    "df_products['product_name'].dtypes"
   ]
  },
  {
   "cell_type": "markdown",
   "id": "57bf9f3d",
   "metadata": {},
   "source": [
    "#### 3.5.2 Casting to numeric data type"
   ]
  },
  {
   "cell_type": "code",
   "execution_count": 52,
   "id": "7589bc17",
   "metadata": {},
   "outputs": [],
   "source": [
    "# df_orders 'days_since_prior_order' to int\n",
    "find_fail_conversion_to_numeric(df_orders, 'days_since_prior_order')"
   ]
  },
  {
   "cell_type": "code",
   "execution_count": 53,
   "id": "a4b38dc8",
   "metadata": {},
   "outputs": [
    {
     "data": {
      "text/plain": [
       "dtype('int64')"
      ]
     },
     "execution_count": 53,
     "metadata": {},
     "output_type": "execute_result"
    }
   ],
   "source": [
    "df_orders = convert_object_to_numeric(df_orders, type='float', include=['days_since_prior_order'])\n",
    "df_orders['days_since_prior_order'] = df_orders['days_since_prior_order'].astype(int)\n",
    "df_orders['days_since_prior_order'].dtypes"
   ]
  },
  {
   "cell_type": "code",
   "execution_count": 54,
   "id": "385281a4",
   "metadata": {},
   "outputs": [],
   "source": [
    "# df_order_products 'add_to_cart_order' to int\n",
    "find_fail_conversion_to_numeric(df_order_products, 'add_to_cart_order')"
   ]
  },
  {
   "cell_type": "code",
   "execution_count": 55,
   "id": "597d5ebd",
   "metadata": {},
   "outputs": [
    {
     "data": {
      "text/plain": [
       "Int64Dtype()"
      ]
     },
     "execution_count": 55,
     "metadata": {},
     "output_type": "execute_result"
    }
   ],
   "source": [
    "df_orders_products = convert_object_to_numeric(df_order_products, type='float', include=['add_to_cart_order'])\n",
    "df_order_products['add_to_cart_order'] = df_order_products['add_to_cart_order'].astype('Int64')\n",
    "df_order_products['add_to_cart_order'].dtypes"
   ]
  },
  {
   "cell_type": "markdown",
   "id": "9cbe18a0",
   "metadata": {},
   "source": [
    "#### 3.5.3 Casting to category data type"
   ]
  },
  {
   "cell_type": "code",
   "execution_count": 56,
   "id": "e8456f47",
   "metadata": {},
   "outputs": [
    {
     "data": {
      "application/vnd.microsoft.datawrangler.viewer.v0+json": {
       "columns": [
        {
         "name": "index",
         "rawType": "int64",
         "type": "integer"
        },
        {
         "name": "order_id",
         "rawType": "int64",
         "type": "integer"
        },
        {
         "name": "user_id",
         "rawType": "int64",
         "type": "integer"
        },
        {
         "name": "order_number",
         "rawType": "int64",
         "type": "integer"
        },
        {
         "name": "order_dow",
         "rawType": "category",
         "type": "unknown"
        },
        {
         "name": "order_hour_of_day",
         "rawType": "int64",
         "type": "integer"
        },
        {
         "name": "days_since_prior_order",
         "rawType": "int64",
         "type": "integer"
        }
       ],
       "ref": "a485c500-41d7-491e-aad9-f748d85d1464",
       "rows": [
        [
         "0",
         "1515936",
         "183418",
         "11",
         "saturday",
         "13",
         "30"
        ],
        [
         "1",
         "1690866",
         "163593",
         "5",
         "friday",
         "12",
         "9"
        ],
        [
         "2",
         "1454967",
         "39980",
         "4",
         "friday",
         "19",
         "2"
        ],
        [
         "3",
         "1768857",
         "82516",
         "56",
         "sunday",
         "20",
         "10"
        ],
        [
         "4",
         "3007858",
         "196724",
         "2",
         "thursday",
         "12",
         "17"
        ],
        [
         "5",
         "1843871",
         "20084",
         "5",
         "sunday",
         "11",
         "15"
        ],
        [
         "6",
         "2511640",
         "148233",
         "40",
         "wednesday",
         "8",
         "2"
        ],
        [
         "7",
         "2521283",
         "97711",
         "2",
         "sunday",
         "18",
         "22"
        ],
        [
         "8",
         "2266494",
         "34954",
         "40",
         "friday",
         "15",
         "4"
        ],
        [
         "9",
         "446014",
         "15356",
         "2",
         "thursday",
         "8",
         "10"
        ],
        [
         "10",
         "1162566",
         "43738",
         "33",
         "thursday",
         "11",
         "2"
        ],
        [
         "11",
         "102585",
         "191558",
         "18",
         "saturday",
         "16",
         "8"
        ],
        [
         "12",
         "2276302",
         "190167",
         "21",
         "monday",
         "12",
         "2"
        ],
        [
         "13",
         "782916",
         "36310",
         "34",
         "friday",
         "9",
         "3"
        ],
        [
         "14",
         "2843219",
         "74699",
         "4",
         "saturday",
         "11",
         "30"
        ],
        [
         "15",
         "1989200",
         "71810",
         "4",
         "monday",
         "9",
         "12"
        ],
        [
         "16",
         "3109465",
         "55090",
         "19",
         "wednesday",
         "15",
         "9"
        ],
        [
         "17",
         "727519",
         "146663",
         "7",
         "thursday",
         "22",
         "11"
        ],
        [
         "18",
         "556588",
         "6801",
         "63",
         "friday",
         "11",
         "7"
        ],
        [
         "19",
         "294269",
         "107523",
         "29",
         "tuesday",
         "10",
         "1"
        ],
        [
         "20",
         "50934",
         "178510",
         "9",
         "saturday",
         "9",
         "5"
        ],
        [
         "21",
         "3097921",
         "97319",
         "40",
         "thursday",
         "9",
         "8"
        ],
        [
         "22",
         "1546269",
         "182211",
         "12",
         "monday",
         "15",
         "6"
        ],
        [
         "23",
         "3406282",
         "19356",
         "21",
         "sunday",
         "0",
         "14"
        ],
        [
         "24",
         "3358682",
         "162252",
         "14",
         "friday",
         "8",
         "5"
        ],
        [
         "25",
         "1895419",
         "169793",
         "2",
         "sunday",
         "11",
         "8"
        ],
        [
         "26",
         "1844247",
         "122558",
         "4",
         "saturday",
         "18",
         "30"
        ],
        [
         "27",
         "457775",
         "61263",
         "24",
         "sunday",
         "16",
         "7"
        ],
        [
         "28",
         "133707",
         "182261",
         "1",
         "wednesday",
         "10",
         "0"
        ],
        [
         "29",
         "547066",
         "278",
         "38",
         "monday",
         "14",
         "4"
        ],
        [
         "30",
         "1890318",
         "193501",
         "3",
         "wednesday",
         "15",
         "30"
        ],
        [
         "31",
         "1804574",
         "195874",
         "4",
         "monday",
         "14",
         "30"
        ],
        [
         "32",
         "2744097",
         "5316",
         "27",
         "tuesday",
         "17",
         "8"
        ],
        [
         "33",
         "2672948",
         "159620",
         "8",
         "friday",
         "16",
         "3"
        ],
        [
         "34",
         "1864378",
         "94267",
         "25",
         "sunday",
         "11",
         "7"
        ],
        [
         "35",
         "125325",
         "106853",
         "6",
         "wednesday",
         "19",
         "30"
        ],
        [
         "36",
         "3378084",
         "127629",
         "21",
         "monday",
         "10",
         "20"
        ],
        [
         "37",
         "1559475",
         "94261",
         "7",
         "sunday",
         "1",
         "8"
        ],
        [
         "38",
         "6891",
         "61176",
         "6",
         "saturday",
         "16",
         "30"
        ],
        [
         "39",
         "1673791",
         "50",
         "8",
         "saturday",
         "14",
         "3"
        ],
        [
         "40",
         "1521693",
         "51377",
         "2",
         "thursday",
         "14",
         "15"
        ],
        [
         "41",
         "939348",
         "21335",
         "28",
         "tuesday",
         "15",
         "6"
        ],
        [
         "42",
         "3229994",
         "37136",
         "9",
         "saturday",
         "12",
         "30"
        ],
        [
         "43",
         "698527",
         "95296",
         "58",
         "wednesday",
         "14",
         "22"
        ],
        [
         "44",
         "1590582",
         "85603",
         "2",
         "monday",
         "20",
         "16"
        ],
        [
         "45",
         "2057617",
         "88111",
         "8",
         "monday",
         "7",
         "6"
        ],
        [
         "46",
         "2398578",
         "84825",
         "2",
         "tuesday",
         "17",
         "4"
        ],
        [
         "47",
         "80255",
         "11655",
         "17",
         "thursday",
         "8",
         "30"
        ],
        [
         "48",
         "3247802",
         "118480",
         "13",
         "sunday",
         "11",
         "8"
        ],
        [
         "49",
         "2161799",
         "87345",
         "7",
         "sunday",
         "10",
         "24"
        ]
       ],
       "shape": {
        "columns": 6,
        "rows": 478952
       }
      },
      "text/html": [
       "<div>\n",
       "<style scoped>\n",
       "    .dataframe tbody tr th:only-of-type {\n",
       "        vertical-align: middle;\n",
       "    }\n",
       "\n",
       "    .dataframe tbody tr th {\n",
       "        vertical-align: top;\n",
       "    }\n",
       "\n",
       "    .dataframe thead th {\n",
       "        text-align: right;\n",
       "    }\n",
       "</style>\n",
       "<table border=\"1\" class=\"dataframe\">\n",
       "  <thead>\n",
       "    <tr style=\"text-align: right;\">\n",
       "      <th></th>\n",
       "      <th>order_id</th>\n",
       "      <th>user_id</th>\n",
       "      <th>order_number</th>\n",
       "      <th>order_dow</th>\n",
       "      <th>order_hour_of_day</th>\n",
       "      <th>days_since_prior_order</th>\n",
       "    </tr>\n",
       "  </thead>\n",
       "  <tbody>\n",
       "    <tr>\n",
       "      <th>0</th>\n",
       "      <td>1515936</td>\n",
       "      <td>183418</td>\n",
       "      <td>11</td>\n",
       "      <td>saturday</td>\n",
       "      <td>13</td>\n",
       "      <td>30</td>\n",
       "    </tr>\n",
       "    <tr>\n",
       "      <th>1</th>\n",
       "      <td>1690866</td>\n",
       "      <td>163593</td>\n",
       "      <td>5</td>\n",
       "      <td>friday</td>\n",
       "      <td>12</td>\n",
       "      <td>9</td>\n",
       "    </tr>\n",
       "    <tr>\n",
       "      <th>2</th>\n",
       "      <td>1454967</td>\n",
       "      <td>39980</td>\n",
       "      <td>4</td>\n",
       "      <td>friday</td>\n",
       "      <td>19</td>\n",
       "      <td>2</td>\n",
       "    </tr>\n",
       "    <tr>\n",
       "      <th>3</th>\n",
       "      <td>1768857</td>\n",
       "      <td>82516</td>\n",
       "      <td>56</td>\n",
       "      <td>sunday</td>\n",
       "      <td>20</td>\n",
       "      <td>10</td>\n",
       "    </tr>\n",
       "    <tr>\n",
       "      <th>4</th>\n",
       "      <td>3007858</td>\n",
       "      <td>196724</td>\n",
       "      <td>2</td>\n",
       "      <td>thursday</td>\n",
       "      <td>12</td>\n",
       "      <td>17</td>\n",
       "    </tr>\n",
       "    <tr>\n",
       "      <th>...</th>\n",
       "      <td>...</td>\n",
       "      <td>...</td>\n",
       "      <td>...</td>\n",
       "      <td>...</td>\n",
       "      <td>...</td>\n",
       "      <td>...</td>\n",
       "    </tr>\n",
       "    <tr>\n",
       "      <th>478947</th>\n",
       "      <td>3210681</td>\n",
       "      <td>5617</td>\n",
       "      <td>5</td>\n",
       "      <td>monday</td>\n",
       "      <td>14</td>\n",
       "      <td>7</td>\n",
       "    </tr>\n",
       "    <tr>\n",
       "      <th>478948</th>\n",
       "      <td>3270802</td>\n",
       "      <td>112087</td>\n",
       "      <td>2</td>\n",
       "      <td>wednesday</td>\n",
       "      <td>13</td>\n",
       "      <td>6</td>\n",
       "    </tr>\n",
       "    <tr>\n",
       "      <th>478949</th>\n",
       "      <td>885349</td>\n",
       "      <td>82944</td>\n",
       "      <td>16</td>\n",
       "      <td>tuesday</td>\n",
       "      <td>11</td>\n",
       "      <td>6</td>\n",
       "    </tr>\n",
       "    <tr>\n",
       "      <th>478950</th>\n",
       "      <td>216274</td>\n",
       "      <td>4391</td>\n",
       "      <td>3</td>\n",
       "      <td>wednesday</td>\n",
       "      <td>8</td>\n",
       "      <td>8</td>\n",
       "    </tr>\n",
       "    <tr>\n",
       "      <th>478951</th>\n",
       "      <td>2071924</td>\n",
       "      <td>1730</td>\n",
       "      <td>18</td>\n",
       "      <td>monday</td>\n",
       "      <td>14</td>\n",
       "      <td>15</td>\n",
       "    </tr>\n",
       "  </tbody>\n",
       "</table>\n",
       "<p>478952 rows × 6 columns</p>\n",
       "</div>"
      ],
      "text/plain": [
       "        order_id  user_id  order_number  order_dow  order_hour_of_day  days_since_prior_order\n",
       "0        1515936   183418            11   saturday                 13                      30\n",
       "1        1690866   163593             5     friday                 12                       9\n",
       "2        1454967    39980             4     friday                 19                       2\n",
       "3        1768857    82516            56     sunday                 20                      10\n",
       "4        3007858   196724             2   thursday                 12                      17\n",
       "...          ...      ...           ...        ...                ...                     ...\n",
       "478947   3210681     5617             5     monday                 14                       7\n",
       "478948   3270802   112087             2  wednesday                 13                       6\n",
       "478949    885349    82944            16    tuesday                 11                       6\n",
       "478950    216274     4391             3  wednesday                  8                       8\n",
       "478951   2071924     1730            18     monday                 14                      15\n",
       "\n",
       "[478952 rows x 6 columns]"
      ]
     },
     "execution_count": 56,
     "metadata": {},
     "output_type": "execute_result"
    }
   ],
   "source": [
    "# df_orders 'order_dow' to category\n",
    "df_orders = convert_numday_strday(df_orders, ['order_dow'])\n",
    "df_orders['order_dow'] = df_orders['order_dow'].astype('category')\n",
    "df_orders"
   ]
  },
  {
   "cell_type": "code",
   "execution_count": 57,
   "id": "1379136f",
   "metadata": {},
   "outputs": [
    {
     "data": {
      "text/plain": [
       "CategoricalDtype(categories=['friday', 'monday', 'saturday', 'sunday', 'thursday', 'tuesday', 'wednesday'], ordered=False, categories_dtype=object)"
      ]
     },
     "execution_count": 57,
     "metadata": {},
     "output_type": "execute_result"
    }
   ],
   "source": [
    "df_orders['order_dow'].dtypes"
   ]
  },
  {
   "cell_type": "code",
   "execution_count": 58,
   "id": "c7a37aa3",
   "metadata": {},
   "outputs": [
    {
     "data": {
      "text/plain": [
       "CategoricalDtype(categories=[0, 1, 2, 3, 4, 5, 6, 7, 8, 9, 10, 11, 12, 13, 14, 15, 16, 17, 18, 19, 20, 21, 22, 23], ordered=False, categories_dtype=int64)"
      ]
     },
     "execution_count": 58,
     "metadata": {},
     "output_type": "execute_result"
    }
   ],
   "source": [
    "# df_orders 'order_hour_of_day' to category\n",
    "df_orders['order_hour_of_day'] = df_orders['order_hour_of_day'].astype('category')\n",
    "df_orders['order_hour_of_day'].dtypes\n"
   ]
  },
  {
   "cell_type": "code",
   "execution_count": 59,
   "id": "528046c7",
   "metadata": {},
   "outputs": [
    {
     "data": {
      "text/plain": [
       "CategoricalDtype(categories=[  1,   2,   3,   4,   5,   6,   7,   8,   9,  10,\n",
       "                  ...\n",
       "                  125, 126, 127, 128, 129, 130, 131, 132, 133, 134],\n",
       ", ordered=False, categories_dtype=int64)"
      ]
     },
     "execution_count": 59,
     "metadata": {},
     "output_type": "execute_result"
    }
   ],
   "source": [
    "# df_products 'aisle_id' to category\n",
    "df_products['aisle_id'] = df_products['aisle_id'].astype('category')\n",
    "df_products['aisle_id'].dtypes"
   ]
  },
  {
   "cell_type": "code",
   "execution_count": 60,
   "id": "1d133299",
   "metadata": {},
   "outputs": [
    {
     "data": {
      "text/plain": [
       "CategoricalDtype(categories=[1, 2, 3, 4, 5, 6, 7, 8, 9, 10, 11, 12, 13, 14, 15, 16, 17, 18, 19, 20, 21], ordered=False, categories_dtype=int64)"
      ]
     },
     "execution_count": 60,
     "metadata": {},
     "output_type": "execute_result"
    }
   ],
   "source": [
    "# df_products 'department_id' to category\n",
    "df_products['department_id'] = df_products['department_id'].astype('category')\n",
    "df_products['department_id'].dtypes"
   ]
  },
  {
   "cell_type": "markdown",
   "id": "3d18070f",
   "metadata": {},
   "source": [
    "#### 3.5.4 Casting to boolean data type"
   ]
  },
  {
   "cell_type": "code",
   "execution_count": 61,
   "id": "63a80f05",
   "metadata": {},
   "outputs": [
    {
     "data": {
      "text/plain": [
       "BooleanDtype"
      ]
     },
     "execution_count": 61,
     "metadata": {},
     "output_type": "execute_result"
    }
   ],
   "source": [
    "# df_order_products 'reorder' to boolean\n",
    "df_order_products['reordered'] = df_order_products['reordered'].astype('boolean')\n",
    "df_order_products['reordered'].dtypes\n"
   ]
  },
  {
   "cell_type": "markdown",
   "id": "2e05402a",
   "metadata": {},
   "source": [
    "## __4. Final cleaning dataframe review__"
   ]
  },
  {
   "cell_type": "code",
   "execution_count": 62,
   "id": "f65c3ff3",
   "metadata": {},
   "outputs": [
    {
     "name": "stdout",
     "output_type": "stream",
     "text": [
      "<class 'pandas.core.frame.DataFrame'>\n",
      "RangeIndex: 134 entries, 0 to 133\n",
      "Data columns (total 2 columns):\n",
      " #   Column    Non-Null Count  Dtype \n",
      "---  ------    --------------  ----- \n",
      " 0   aisle_id  134 non-null    int64 \n",
      " 1   aisle     134 non-null    string\n",
      "dtypes: int64(1), string(1)\n",
      "memory usage: 2.2 KB\n"
     ]
    }
   ],
   "source": [
    "df_aisles.info()"
   ]
  },
  {
   "cell_type": "code",
   "execution_count": 63,
   "id": "d95c8af7",
   "metadata": {},
   "outputs": [
    {
     "name": "stdout",
     "output_type": "stream",
     "text": [
      "<class 'pandas.core.frame.DataFrame'>\n",
      "RangeIndex: 21 entries, 0 to 20\n",
      "Data columns (total 2 columns):\n",
      " #   Column         Non-Null Count  Dtype \n",
      "---  ------         --------------  ----- \n",
      " 0   department_id  21 non-null     int64 \n",
      " 1   department     21 non-null     string\n",
      "dtypes: int64(1), string(1)\n",
      "memory usage: 464.0 bytes\n"
     ]
    }
   ],
   "source": [
    "df_departments.info()"
   ]
  },
  {
   "cell_type": "code",
   "execution_count": 64,
   "id": "1fc1cf91",
   "metadata": {},
   "outputs": [
    {
     "name": "stdout",
     "output_type": "stream",
     "text": [
      "<class 'pandas.core.frame.DataFrame'>\n",
      "RangeIndex: 478952 entries, 0 to 478951\n",
      "Data columns (total 6 columns):\n",
      " #   Column                  Non-Null Count   Dtype   \n",
      "---  ------                  --------------   -----   \n",
      " 0   order_id                478952 non-null  int64   \n",
      " 1   user_id                 478952 non-null  int64   \n",
      " 2   order_number            478952 non-null  int64   \n",
      " 3   order_dow               478952 non-null  category\n",
      " 4   order_hour_of_day       478952 non-null  category\n",
      " 5   days_since_prior_order  478952 non-null  int64   \n",
      "dtypes: category(2), int64(4)\n",
      "memory usage: 15.5 MB\n"
     ]
    }
   ],
   "source": [
    "df_orders.info()"
   ]
  },
  {
   "cell_type": "code",
   "execution_count": 65,
   "id": "aa3e504f",
   "metadata": {},
   "outputs": [
    {
     "name": "stdout",
     "output_type": "stream",
     "text": [
      "<class 'pandas.core.frame.DataFrame'>\n",
      "RangeIndex: 4545007 entries, 0 to 4545006\n",
      "Data columns (total 4 columns):\n",
      " #   Column             Dtype  \n",
      "---  ------             -----  \n",
      " 0   order_id           int64  \n",
      " 1   product_id         int64  \n",
      " 2   add_to_cart_order  Int64  \n",
      " 3   reordered          boolean\n",
      "dtypes: Int64(1), boolean(1), int64(2)\n",
      "memory usage: 117.0 MB\n"
     ]
    }
   ],
   "source": [
    "df_order_products.info()"
   ]
  },
  {
   "cell_type": "code",
   "execution_count": 66,
   "id": "9609e36c",
   "metadata": {},
   "outputs": [
    {
     "name": "stdout",
     "output_type": "stream",
     "text": [
      "<class 'pandas.core.frame.DataFrame'>\n",
      "RangeIndex: 49694 entries, 0 to 49693\n",
      "Data columns (total 4 columns):\n",
      " #   Column         Non-Null Count  Dtype   \n",
      "---  ------         --------------  -----   \n",
      " 0   product_id     49694 non-null  int64   \n",
      " 1   product_name   49694 non-null  string  \n",
      " 2   aisle_id       49694 non-null  category\n",
      " 3   department_id  49694 non-null  category\n",
      "dtypes: category(2), int64(1), string(1)\n",
      "memory usage: 928.0 KB\n"
     ]
    }
   ],
   "source": [
    "df_products.info()"
   ]
  },
  {
   "cell_type": "markdown",
   "id": "d1c7b3ee",
   "metadata": {},
   "source": [
    "## __5. Generate a new clean Data set .csv file__"
   ]
  },
  {
   "cell_type": "code",
   "execution_count": 67,
   "id": "594c9231",
   "metadata": {},
   "outputs": [],
   "source": [
    "project_root = Path.cwd().parent\n",
    "processed_path = project_root / \"data\" / \"processed\" / \"aisles_clean.csv\"\n",
    "df_aisles.to_csv(processed_path, index=False)"
   ]
  },
  {
   "cell_type": "code",
   "execution_count": 68,
   "id": "3ad5fce3",
   "metadata": {},
   "outputs": [],
   "source": [
    "processed_path = project_root / \"data\" / \"processed\" / \"departments_clean.csv\"\n",
    "df_departments.to_csv(processed_path, index=False)"
   ]
  },
  {
   "cell_type": "code",
   "execution_count": 69,
   "id": "46e822f6",
   "metadata": {},
   "outputs": [],
   "source": [
    "processed_path = project_root / \"data\" / \"processed\" / \"orders_clean.csv\"\n",
    "df_orders.to_csv(processed_path, index=False)"
   ]
  },
  {
   "cell_type": "code",
   "execution_count": 70,
   "id": "30ac08ca",
   "metadata": {},
   "outputs": [],
   "source": [
    "processed_path = project_root / \"data\" / \"processed\" / \"order_products_clean.csv\"\n",
    "df_order_products.to_csv(processed_path, index=False)"
   ]
  },
  {
   "cell_type": "code",
   "execution_count": 71,
   "id": "ba536bcf",
   "metadata": {},
   "outputs": [],
   "source": [
    "processed_path = project_root / \"data\" / \"processed\" / \"products_clean.csv\"\n",
    "df_products.to_csv(processed_path, index=False)"
   ]
  }
 ],
 "metadata": {
  "kernelspec": {
   "display_name": "Win11_Python-Mature-PipVenv-Github-3.10",
   "language": "python",
   "name": "python3"
  },
  "language_info": {
   "codemirror_mode": {
    "name": "ipython",
    "version": 3
   },
   "file_extension": ".py",
   "mimetype": "text/x-python",
   "name": "python",
   "nbconvert_exporter": "python",
   "pygments_lexer": "ipython3",
   "version": "3.10.0"
  }
 },
 "nbformat": 4,
 "nbformat_minor": 5
}
