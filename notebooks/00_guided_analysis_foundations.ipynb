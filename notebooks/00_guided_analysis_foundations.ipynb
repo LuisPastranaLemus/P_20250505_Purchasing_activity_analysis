{
 "cells": [
  {
   "cell_type": "markdown",
   "id": "mhIvmmkW414q",
   "metadata": {
    "id": "mhIvmmkW414q"
   },
   "source": [
    "# # Introduction\n",
    "\n",
    "Instacart is a grocery delivery platform where customers can place an order and have it delivered, similar to Uber Eats and DoorDash.\n",
    "The dataset we've provided has been modified from the original. We reduced the dataset size to make your calculations faster and introduced missing and duplicate values. We were careful to preserve the distributions of the original data when we made the changes.\n",
    "\n",
    "You must complete three steps. For each step, write a brief introduction that clearly reflects how you intend to solve each step, and write explanatory paragraphs that justify your decisions as you elaborate on your solution. Also write a conclusion that summarizes your findings and choices.\n"
   ]
  },
  {
   "cell_type": "markdown",
   "id": "3MbyzpOQZ5Or",
   "metadata": {
    "id": "3MbyzpOQZ5Or"
   },
   "source": [
    "## Data Dictionary\n",
    "\n",
    "There are five tables in the dataset, and you'll need to use all of them for data preprocessing and exploratory data analysis. Below is a data dictionary that lists the columns in each table and describes the data they contain.\n",
    "\n",
    "- `instacart_orders.csv`: Each row corresponds to an order in the Instacart app.\n",
    "    - `'order_id'`: An ID number that uniquely identifies each order.\n",
    "    - `'user_id'`: An ID number that uniquely identifies each customer's account.\n",
    "    - `'order_number'`: The number of times this customer has placed an order.\n",
    "    - `'order_dow'`: The day of the week the order was placed (0 if Sunday).\n",
    "    - `'order_hour_of_day'`: The hour of the day the order was placed.\n",
    "    - `'days_since_prior_order'`: The number of days since this customer placed their previous order.\n",
    "- `products.csv`: Each row corresponds to a unique product that customers can purchase.\n",
    "    - `'product_id'`: ID number that uniquely identifies each product.\n",
    "    - `'product_name'`: Name of the product.\n",
    "    - `'aisle_id'`: ID number that uniquely identifies each grocery aisle category.\n",
    "    - `'department_id'`: ID number that uniquely identifies each grocery department.\n",
    "- `order_products.csv`: Each row corresponds to an item ordered in an order.\n",
    "    - `'order_id'`: ID number that uniquely identifies each order.\n",
    "    - `'product_id'`: ID number that uniquely identifies each product.\n",
    "    - `'add_to_cart_order'`: The sequential order in which each item was added to the cart.\n",
    "    - `'reordered'`: 0 if the customer has never ordered this product before, 1 if they have.\n",
    "- `aisles.csv`\n",
    "    - `'aisle_id'`: ID number that uniquely identifies each grocery aisle category.\n",
    "    - `'aisle'`: Aisle name.\n",
    "- `departments.csv`\n",
    "    - `'department_id'`: ID number that uniquely identifies each grocery department.\n",
    "    - `'department'`: Department name."
   ]
  },
  {
   "cell_type": "markdown",
   "id": "eda9c7b9",
   "metadata": {},
   "source": [
    "#### Exploratory Data Analysis & Key Insights\n",
    "**Dataset:** aisles.csv, departments.csv, instacart_orders.csv, order_products.csv, products.csv   \n",
    "**Author:** Luis Sergio Pastrana Lemus   \n",
    "**Date:** 2025-05-04"
   ]
  },
  {
   "cell_type": "markdown",
   "id": "f92485bc",
   "metadata": {},
   "source": [
    "#### 🎯 Objective\n",
    "\n",
    "Analyze the purchasing behavior of Instacart users to identify repurchase patterns, order frequency, and key products in the purchasing process.\n",
    "\n",
    "Main questions:\n",
    "\n",
    "> Which days and times have the most order activity?\n",
    "\n",
    "> How often do users typically place orders?\n",
    "\n",
    "> How many items do they typically purchase per order?\n",
    "\n",
    "> Which products have the highest repurchase rate?\n",
    "\n",
    "> Which products are typically added to the cart first, and how relevant are they?\n",
    "\n",
    "> Is there a relationship between the order in which a product is added to the cart and the likelihood of it being reordered?\n",
    "\n",
    "> How frequent is repurchase among different user segments?"
   ]
  },
  {
   "cell_type": "markdown",
   "id": "n3Ha_cNSZ8lK",
   "metadata": {
    "id": "n3Ha_cNSZ8lK"
   },
   "source": [
    "# Step 1. Data Description\n",
    "\n",
    "Read the data files (`/datasets/instacart_orders.csv`, `/datasets/products.csv`, `/datasets/aisles.csv`, `/datasets/departments.csv`, and `/datasets/order_products.csv`) with `pd.read_csv()` using the appropriate parameters to read the data correctly. Verify the information for each DataFrame created.\n"
   ]
  },
  {
   "cell_type": "markdown",
   "id": "342bace0",
   "metadata": {},
   "source": [
    "## Solution Plan\n",
    "###### _LSPL_\n",
    "1. Open and visually inspect the CSV files to get a general idea, including whether they have a CSV separator, column names, and column name formats. They are consistent in the number of columns and their titles, as well as recognition of empty values, unusual characters, numeric values ​​such as strings, special characters, etc.\n",
    "2. General review of the dataset, verifying the size, columns, and data types (int, float, string, datetime, etc.). Verify that the number of rows makes sense compared to what is expected.\n",
    "3. Create DataFrames from the CSV files.\n",
    "4. Review the dataframe information, including composition (size), number of null values, and dtypes.\n",
    "5. Document each step and record the transformations performed. This helps maintain traceability and reproducibility."
   ]
  },
  {
   "cell_type": "code",
   "execution_count": 3,
   "id": "fbf1adab",
   "metadata": {
    "id": "fbf1adab"
   },
   "outputs": [],
   "source": [
    "# Import libraries\n",
    "import pandas as pd\n",
    "import numpy as np\n",
    "import matplotlib.pyplot as plt\n",
    "from IPython.display import display\n",
    "\n",
    "# Relative Paths to .csv Files\n",
    "aisles_path = '../data/raw/datasets/aisles.csv'\n",
    "departments_path = '../data/raw/datasets/departments.csv'\n",
    "instacart_orders_path = '../data/raw/datasets/instacart_orders.csv'\n",
    "order_products_path = '../data/raw/datasets/order_products.csv'\n",
    "products_path = '../data/raw/datasets/products.csv'\n",
    "\n",
    "# Function that styles the display of DataFrames in Jupyter Notebook.\n",
    "def zebra_rows(row):\n",
    "    \n",
    "    if row.name % 2 == 0:\n",
    "        return ['background-color: #808080'] * len(row)  # 50% grey\n",
    "    else:\n",
    "        return ['background-color: #595959'] * len(row)  # 35% grey\n",
    "\n",
    "# Function to display unique values ​​from the columns of a DataFrame\n",
    "def columns_unique_values(df):\n",
    "    \n",
    "    for col in df.columns:\n",
    "        print(f\"Columna: {col}\")\n",
    "        print(f\"Unique values: {df[col].unique()} Total unique values: {df[col].nunique()}\")\n",
    "        print(\"-\" * 50, '\\n')\n",
    "\n",
    "# Function for assigning <NA> value to null values ​​in a DataFrame\n",
    "def null_value_apply(df):\n",
    "    \n",
    "    null_values = ['', ' ', '-', 'N/A', 'NA', 'NaN', 'nan', 'NULL', 'null', 'None', None]\n",
    "    \n",
    "    for col in df.columns:\n",
    "        \n",
    "        df[col] = df[col].replace(null_values, pd.NA)\n",
    "                \n",
    "    return df\n",
    "\n",
    "# Function for standardizing String values ​​(snake_case, lower, strip, hyphen removal)\n",
    "def string_std(df):\n",
    "        \n",
    "    for col in df.columns:\n",
    "            \n",
    "        if df[col].dtype == 'object':\n",
    "                \n",
    "            df[col] = df[col].str.replace('-', '_').str.replace(' ', '_').str.lower().str.strip()\n",
    "                \n",
    "    return df\n",
    "\n",
    "pd.set_option('display.max_rows', 25) # Display maximum 25 rows\n",
    "pd.set_option('display.max_columns', 25) # Display maximum 10 columns\n",
    "pd.set_option('display.max_colwidth', 15) # show maximum 50 characters in each column\n",
    "pd.set_option('display.width', 150) # Display up to 150 characters"
   ]
  },
  {
   "cell_type": "code",
   "execution_count": 4,
   "id": "ad36396d",
   "metadata": {
    "id": "ad36396d"
   },
   "outputs": [],
   "source": [
    "# Reading datasets into DataFrames\n",
    "df_aisles = pd.read_csv(aisles_path, sep=';', header='infer', keep_default_na=False)\n",
    "df_departments = pd.read_csv(departments_path, sep=';', header='infer', keep_default_na=False)\n",
    "df_instacart_orders = pd.read_csv(instacart_orders_path, sep=';', header='infer', keep_default_na=False)\n",
    "df_order_products = pd.read_csv(order_products_path, sep=';', header='infer', keep_default_na=False)\n",
    "df_products = pd.read_csv(products_path, sep=';', header='infer', keep_default_na=False)"
   ]
  },
  {
   "cell_type": "markdown",
   "id": "0bf24e3c",
   "metadata": {},
   "source": [
    "##### __Note__\n",
    "###### _LSPL_\n",
    "\n",
    "`header='infer'` was used because a visual inspection of the CSV files identified that the files had column names in the first row position.\n",
    "`keep_default_na=False` was used because we plan to later identify and modify null values ​​and replace them with the null value `pd.NA`, since it handles mixed data types and common operations for identifying and eliminating null values, and also works with strings, integers, and Booleans."
   ]
  },
  {
   "cell_type": "markdown",
   "id": "a5a29e22",
   "metadata": {},
   "source": [
    "##### __Infromacion de los DataFrames__"
   ]
  },
  {
   "cell_type": "code",
   "execution_count": 5,
   "id": "ad6a1efa",
   "metadata": {
    "id": "ad6a1efa"
   },
   "outputs": [
    {
     "name": "stdout",
     "output_type": "stream",
     "text": [
      "*** Aisles DataFrame: \n",
      "\n",
      "<class 'pandas.core.frame.DataFrame'>\n",
      "RangeIndex: 134 entries, 0 to 133\n",
      "Data columns (total 2 columns):\n",
      " #   Column    Non-Null Count  Dtype \n",
      "---  ------    --------------  ----- \n",
      " 0   aisle_id  134 non-null    int64 \n",
      " 1   aisle     134 non-null    object\n",
      "dtypes: int64(1), object(1)\n",
      "memory usage: 2.2+ KB\n",
      "************************************************** \n",
      "\n",
      "*** Departments DataFrame:\n",
      "\n",
      "<class 'pandas.core.frame.DataFrame'>\n",
      "RangeIndex: 21 entries, 0 to 20\n",
      "Data columns (total 2 columns):\n",
      " #   Column         Non-Null Count  Dtype \n",
      "---  ------         --------------  ----- \n",
      " 0   department_id  21 non-null     int64 \n",
      " 1   department     21 non-null     object\n",
      "dtypes: int64(1), object(1)\n",
      "memory usage: 464.0+ bytes\n",
      "************************************************** \n",
      "\n",
      "*** Instacart Orders DataFrame:\n",
      "\n",
      "<class 'pandas.core.frame.DataFrame'>\n",
      "RangeIndex: 478967 entries, 0 to 478966\n",
      "Data columns (total 6 columns):\n",
      " #   Column                  Non-Null Count   Dtype \n",
      "---  ------                  --------------   ----- \n",
      " 0   order_id                478967 non-null  int64 \n",
      " 1   user_id                 478967 non-null  int64 \n",
      " 2   order_number            478967 non-null  int64 \n",
      " 3   order_dow               478967 non-null  int64 \n",
      " 4   order_hour_of_day       478967 non-null  int64 \n",
      " 5   days_since_prior_order  478967 non-null  object\n",
      "dtypes: int64(5), object(1)\n",
      "memory usage: 21.9+ MB\n",
      "************************************************** \n",
      "\n",
      "*** Order Products DataFrame:\n",
      "\n",
      "<class 'pandas.core.frame.DataFrame'>\n",
      "RangeIndex: 4545007 entries, 0 to 4545006\n",
      "Data columns (total 4 columns):\n",
      " #   Column             Dtype \n",
      "---  ------             ----- \n",
      " 0   order_id           int64 \n",
      " 1   product_id         int64 \n",
      " 2   add_to_cart_order  object\n",
      " 3   reordered          int64 \n",
      "dtypes: int64(3), object(1)\n",
      "memory usage: 138.7+ MB\n",
      "************************************************** \n",
      "\n",
      "*** Products DataFrame:\n",
      "\n",
      "<class 'pandas.core.frame.DataFrame'>\n",
      "RangeIndex: 49694 entries, 0 to 49693\n",
      "Data columns (total 4 columns):\n",
      " #   Column         Non-Null Count  Dtype \n",
      "---  ------         --------------  ----- \n",
      " 0   product_id     49694 non-null  int64 \n",
      " 1   product_name   49694 non-null  object\n",
      " 2   aisle_id       49694 non-null  int64 \n",
      " 3   department_id  49694 non-null  int64 \n",
      "dtypes: int64(3), object(1)\n",
      "memory usage: 1.5+ MB\n",
      "************************************************** \n",
      "\n"
     ]
    }
   ],
   "source": [
    "# Display DataFrame information\n",
    "print(\"*** Aisles DataFrame: \\n\")\n",
    "df_aisles.info()\n",
    "print('*' * 50, '\\n')\n",
    "print(\"*** Departments DataFrame:\\n\")\n",
    "df_departments.info()\n",
    "print('*' * 50, '\\n')\n",
    "print(\"*** Instacart Orders DataFrame:\\n\")\n",
    "df_instacart_orders.info()\n",
    "print('*' * 50, '\\n')\n",
    "print(\"*** Order Products DataFrame:\\n\")\n",
    "df_order_products.info()\n",
    "print('*' * 50, '\\n')\n",
    "print(\"*** Products DataFrame:\\n\")\n",
    "df_products.info()\n",
    "print('*' * 50, '\\n')\n"
   ]
  },
  {
   "cell_type": "markdown",
   "id": "389c61a7",
   "metadata": {},
   "source": [
    "##### __Note__\n",
    "###### _LSPL_\n",
    "No processing is required for column names since they are standardized, with lowercase letters, using underscores to separate compound names (snake_case), and do not have spaces at the beginning or end of each column name."
   ]
  },
  {
   "cell_type": "markdown",
   "id": "t75BD19oaR5f",
   "metadata": {
    "id": "t75BD19oaR5f"
   },
   "source": [
    "## Conclusions\n",
    "###### _LSPL_\n",
    "The format and values ​​of the column names do not require modification.\n",
    "\n",
    "For cleaning or preprocessing DataFrame values, the following will be required:\n",
    "\n",
    "- Standardization of the format to snake_case, considering spaces and hyphens between compound strings.\n",
    "- Processing of NULL values\n",
    "- Elimination of duplicate values\n",
    "- Processing of string values ​​to numeric values\n",
    "\n",
    "Most of the DataFrame values ​​can be considered moderately correct, without much difficulty in preprocessing them.\n"
   ]
  },
  {
   "cell_type": "markdown",
   "id": "bc95c2da",
   "metadata": {},
   "source": [
    "#### 🔍Dataset Overview\n",
    "\n",
    "- **Source:** aisles.csv\n",
    "- **Rows:** 134 records\n",
    "- **Columns:** aisle_id, aisle\n",
    "---------------------------------------\n",
    "- **Source:** departments.csv\n",
    "- **Rows:** 21 records\n",
    "- **Columns:** department_id, department\n",
    "---------------------------------------\n",
    "- **Source:** instacart_orders.csv\n",
    "- **Rows:** 478967 records\n",
    "- **Columns:** order_id, user_id, order_number, order_dow, order_hour_of_day, day_since_prior_order\n",
    "---------------------------------------\n",
    "- **Source:** order_products.csv\n",
    "- **Rows:** 134 records\n",
    "- **Columns:** order_id, product_id, add_to_cart_order, reordered\n",
    "---------------------------------------\n",
    "- **Source:** products.csv\n",
    "- **Rows:** 49,694 records\n",
    "- **Columns:** product_id, product_name, aise_id, department_id\n",
    "---------------------------------------\n",
    "Initial checks:\n",
    "- Missing values\n",
    "- Explicit duplicates\n",
    "- Normalization to snake_case format"
   ]
  },
  {
   "cell_type": "markdown",
   "id": "8RJHqxVmaVsF",
   "metadata": {
    "id": "8RJHqxVmaVsF"
   },
   "source": [
    "# Step 2. Data Preprocessing\n",
    "\n",
    "Preprocess the data as follows:\n",
    "\n",
    "- Check and correct the data types (for example, make sure the ID columns are integers).\n",
    "- Identify and complete missing values.\n",
    "- Identify and remove duplicate values.\n",
    "\n",
    "Be sure to explain what types of missing and duplicate values ​​you found, how you completed or removed them, and why you used those methods. Why do you think these missing and duplicate values ​​may have been present in the dataset?"
   ]
  },
  {
   "cell_type": "markdown",
   "id": "p6poABZQaZYb",
   "metadata": {
    "id": "p6poABZQaZYb"
   },
   "source": [
    "## Solution Plan\n",
    "###### _LSPL_\n",
    "1. Missing Value Handling: Identify null values ​​('', ' ', '-', NaN, None, empty cells).\n",
    "\n",
    "2. Analysis and Decision Making: Eliminate rows or columns with many missing values. Replace (with mean, median, zeros, etc.). Keep if meaningful.\n",
    "\n",
    "3. Duplicate Detection: Eliminate duplicate rows with explicit duplicates. Review and correct for implicit duplicates (typos).\n",
    "\n",
    "4. Format Consistency: Ensure date values ​​are in the same format. Standardize categories that are spelled differently (e.g., \"Female,\" \"Female,\" \"Woman\" → \"F\"). Convert data to the correct types (str, datetime, int, etc.).\n",
    "\n",
    "5. Encoding and special character verification: Check for rare characters and hidden spaces.\n",
    "\n",
    "6. Documentation of each step: Record of transformations performed. This helps maintain traceability and reproducibility."
   ]
  },
  {
   "cell_type": "markdown",
   "id": "07357848-dc64-4156-9cc3-01ff4365226d",
   "metadata": {
    "id": "07357848-dc64-4156-9cc3-01ff4365226d"
   },
   "source": [
    "## Find and remove duplicate values ​​(and describe how you made your decisions)."
   ]
  },
  {
   "cell_type": "markdown",
   "id": "cec3e7b2",
   "metadata": {},
   "source": [
    "### `instacart orders` data frame"
   ]
  },
  {
   "cell_type": "code",
   "execution_count": 6,
   "id": "97d765f0",
   "metadata": {},
   "outputs": [
    {
     "name": "stdout",
     "output_type": "stream",
     "text": [
      "*** DataFrame [Instacart Orders], number of explicit duplicate values: \n",
      "\n",
      "Explicit duplicates: 15\n",
      "\n",
      "DataFrame [Instacart Orders], explicit duplicate values: \n",
      "\n"
     ]
    },
    {
     "data": {
      "text/html": [
       "<style type=\"text/css\">\n",
       "#T_20c9e_row0_col0, #T_20c9e_row0_col1, #T_20c9e_row0_col2, #T_20c9e_row0_col3, #T_20c9e_row0_col4, #T_20c9e_row0_col5, #T_20c9e_row3_col0, #T_20c9e_row3_col1, #T_20c9e_row3_col2, #T_20c9e_row3_col3, #T_20c9e_row3_col4, #T_20c9e_row3_col5, #T_20c9e_row5_col0, #T_20c9e_row5_col1, #T_20c9e_row5_col2, #T_20c9e_row5_col3, #T_20c9e_row5_col4, #T_20c9e_row5_col5, #T_20c9e_row7_col0, #T_20c9e_row7_col1, #T_20c9e_row7_col2, #T_20c9e_row7_col3, #T_20c9e_row7_col4, #T_20c9e_row7_col5, #T_20c9e_row8_col0, #T_20c9e_row8_col1, #T_20c9e_row8_col2, #T_20c9e_row8_col3, #T_20c9e_row8_col4, #T_20c9e_row8_col5, #T_20c9e_row12_col0, #T_20c9e_row12_col1, #T_20c9e_row12_col2, #T_20c9e_row12_col3, #T_20c9e_row12_col4, #T_20c9e_row12_col5 {\n",
       "  background-color: #808080;\n",
       "}\n",
       "#T_20c9e_row1_col0, #T_20c9e_row1_col1, #T_20c9e_row1_col2, #T_20c9e_row1_col3, #T_20c9e_row1_col4, #T_20c9e_row1_col5, #T_20c9e_row2_col0, #T_20c9e_row2_col1, #T_20c9e_row2_col2, #T_20c9e_row2_col3, #T_20c9e_row2_col4, #T_20c9e_row2_col5, #T_20c9e_row4_col0, #T_20c9e_row4_col1, #T_20c9e_row4_col2, #T_20c9e_row4_col3, #T_20c9e_row4_col4, #T_20c9e_row4_col5, #T_20c9e_row6_col0, #T_20c9e_row6_col1, #T_20c9e_row6_col2, #T_20c9e_row6_col3, #T_20c9e_row6_col4, #T_20c9e_row6_col5, #T_20c9e_row9_col0, #T_20c9e_row9_col1, #T_20c9e_row9_col2, #T_20c9e_row9_col3, #T_20c9e_row9_col4, #T_20c9e_row9_col5, #T_20c9e_row10_col0, #T_20c9e_row10_col1, #T_20c9e_row10_col2, #T_20c9e_row10_col3, #T_20c9e_row10_col4, #T_20c9e_row10_col5, #T_20c9e_row11_col0, #T_20c9e_row11_col1, #T_20c9e_row11_col2, #T_20c9e_row11_col3, #T_20c9e_row11_col4, #T_20c9e_row11_col5, #T_20c9e_row13_col0, #T_20c9e_row13_col1, #T_20c9e_row13_col2, #T_20c9e_row13_col3, #T_20c9e_row13_col4, #T_20c9e_row13_col5, #T_20c9e_row14_col0, #T_20c9e_row14_col1, #T_20c9e_row14_col2, #T_20c9e_row14_col3, #T_20c9e_row14_col4, #T_20c9e_row14_col5 {\n",
       "  background-color: #595959;\n",
       "}\n",
       "</style>\n",
       "<table id=\"T_20c9e\">\n",
       "  <thead>\n",
       "    <tr>\n",
       "      <th class=\"blank level0\" >&nbsp;</th>\n",
       "      <th id=\"T_20c9e_level0_col0\" class=\"col_heading level0 col0\" >order_id</th>\n",
       "      <th id=\"T_20c9e_level0_col1\" class=\"col_heading level0 col1\" >user_id</th>\n",
       "      <th id=\"T_20c9e_level0_col2\" class=\"col_heading level0 col2\" >order_number</th>\n",
       "      <th id=\"T_20c9e_level0_col3\" class=\"col_heading level0 col3\" >order_dow</th>\n",
       "      <th id=\"T_20c9e_level0_col4\" class=\"col_heading level0 col4\" >order_hour_of_day</th>\n",
       "      <th id=\"T_20c9e_level0_col5\" class=\"col_heading level0 col5\" >days_since_prior_order</th>\n",
       "    </tr>\n",
       "  </thead>\n",
       "  <tbody>\n",
       "    <tr>\n",
       "      <th id=\"T_20c9e_level0_row0\" class=\"row_heading level0 row0\" >145574</th>\n",
       "      <td id=\"T_20c9e_row0_col0\" class=\"data row0 col0\" >794638</td>\n",
       "      <td id=\"T_20c9e_row0_col1\" class=\"data row0 col1\" >50898</td>\n",
       "      <td id=\"T_20c9e_row0_col2\" class=\"data row0 col2\" >24</td>\n",
       "      <td id=\"T_20c9e_row0_col3\" class=\"data row0 col3\" >3</td>\n",
       "      <td id=\"T_20c9e_row0_col4\" class=\"data row0 col4\" >2</td>\n",
       "      <td id=\"T_20c9e_row0_col5\" class=\"data row0 col5\" >2.0</td>\n",
       "    </tr>\n",
       "    <tr>\n",
       "      <th id=\"T_20c9e_level0_row1\" class=\"row_heading level0 row1\" >223105</th>\n",
       "      <td id=\"T_20c9e_row1_col0\" class=\"data row1 col0\" >2160484</td>\n",
       "      <td id=\"T_20c9e_row1_col1\" class=\"data row1 col1\" >107525</td>\n",
       "      <td id=\"T_20c9e_row1_col2\" class=\"data row1 col2\" >16</td>\n",
       "      <td id=\"T_20c9e_row1_col3\" class=\"data row1 col3\" >3</td>\n",
       "      <td id=\"T_20c9e_row1_col4\" class=\"data row1 col4\" >2</td>\n",
       "      <td id=\"T_20c9e_row1_col5\" class=\"data row1 col5\" >30.0</td>\n",
       "    </tr>\n",
       "    <tr>\n",
       "      <th id=\"T_20c9e_level0_row2\" class=\"row_heading level0 row2\" >230807</th>\n",
       "      <td id=\"T_20c9e_row2_col0\" class=\"data row2 col0\" >1918001</td>\n",
       "      <td id=\"T_20c9e_row2_col1\" class=\"data row2 col1\" >188546</td>\n",
       "      <td id=\"T_20c9e_row2_col2\" class=\"data row2 col2\" >14</td>\n",
       "      <td id=\"T_20c9e_row2_col3\" class=\"data row2 col3\" >3</td>\n",
       "      <td id=\"T_20c9e_row2_col4\" class=\"data row2 col4\" >2</td>\n",
       "      <td id=\"T_20c9e_row2_col5\" class=\"data row2 col5\" >16.0</td>\n",
       "    </tr>\n",
       "    <tr>\n",
       "      <th id=\"T_20c9e_level0_row3\" class=\"row_heading level0 row3\" >266232</th>\n",
       "      <td id=\"T_20c9e_row3_col0\" class=\"data row3 col0\" >1782114</td>\n",
       "      <td id=\"T_20c9e_row3_col1\" class=\"data row3 col1\" >106752</td>\n",
       "      <td id=\"T_20c9e_row3_col2\" class=\"data row3 col2\" >1</td>\n",
       "      <td id=\"T_20c9e_row3_col3\" class=\"data row3 col3\" >3</td>\n",
       "      <td id=\"T_20c9e_row3_col4\" class=\"data row3 col4\" >2</td>\n",
       "      <td id=\"T_20c9e_row3_col5\" class=\"data row3 col5\" ></td>\n",
       "    </tr>\n",
       "    <tr>\n",
       "      <th id=\"T_20c9e_level0_row4\" class=\"row_heading level0 row4\" >273805</th>\n",
       "      <td id=\"T_20c9e_row4_col0\" class=\"data row4 col0\" >1112182</td>\n",
       "      <td id=\"T_20c9e_row4_col1\" class=\"data row4 col1\" >202304</td>\n",
       "      <td id=\"T_20c9e_row4_col2\" class=\"data row4 col2\" >84</td>\n",
       "      <td id=\"T_20c9e_row4_col3\" class=\"data row4 col3\" >3</td>\n",
       "      <td id=\"T_20c9e_row4_col4\" class=\"data row4 col4\" >2</td>\n",
       "      <td id=\"T_20c9e_row4_col5\" class=\"data row4 col5\" >6.0</td>\n",
       "    </tr>\n",
       "    <tr>\n",
       "      <th id=\"T_20c9e_level0_row5\" class=\"row_heading level0 row5\" >284038</th>\n",
       "      <td id=\"T_20c9e_row5_col0\" class=\"data row5 col0\" >2845099</td>\n",
       "      <td id=\"T_20c9e_row5_col1\" class=\"data row5 col1\" >31189</td>\n",
       "      <td id=\"T_20c9e_row5_col2\" class=\"data row5 col2\" >11</td>\n",
       "      <td id=\"T_20c9e_row5_col3\" class=\"data row5 col3\" >3</td>\n",
       "      <td id=\"T_20c9e_row5_col4\" class=\"data row5 col4\" >2</td>\n",
       "      <td id=\"T_20c9e_row5_col5\" class=\"data row5 col5\" >7.0</td>\n",
       "    </tr>\n",
       "    <tr>\n",
       "      <th id=\"T_20c9e_level0_row6\" class=\"row_heading level0 row6\" >311713</th>\n",
       "      <td id=\"T_20c9e_row6_col0\" class=\"data row6 col0\" >1021560</td>\n",
       "      <td id=\"T_20c9e_row6_col1\" class=\"data row6 col1\" >53767</td>\n",
       "      <td id=\"T_20c9e_row6_col2\" class=\"data row6 col2\" >3</td>\n",
       "      <td id=\"T_20c9e_row6_col3\" class=\"data row6 col3\" >3</td>\n",
       "      <td id=\"T_20c9e_row6_col4\" class=\"data row6 col4\" >2</td>\n",
       "      <td id=\"T_20c9e_row6_col5\" class=\"data row6 col5\" >9.0</td>\n",
       "    </tr>\n",
       "    <tr>\n",
       "      <th id=\"T_20c9e_level0_row7\" class=\"row_heading level0 row7\" >321100</th>\n",
       "      <td id=\"T_20c9e_row7_col0\" class=\"data row7 col0\" >408114</td>\n",
       "      <td id=\"T_20c9e_row7_col1\" class=\"data row7 col1\" >68324</td>\n",
       "      <td id=\"T_20c9e_row7_col2\" class=\"data row7 col2\" >4</td>\n",
       "      <td id=\"T_20c9e_row7_col3\" class=\"data row7 col3\" >3</td>\n",
       "      <td id=\"T_20c9e_row7_col4\" class=\"data row7 col4\" >2</td>\n",
       "      <td id=\"T_20c9e_row7_col5\" class=\"data row7 col5\" >18.0</td>\n",
       "    </tr>\n",
       "    <tr>\n",
       "      <th id=\"T_20c9e_level0_row8\" class=\"row_heading level0 row8\" >323900</th>\n",
       "      <td id=\"T_20c9e_row8_col0\" class=\"data row8 col0\" >1919531</td>\n",
       "      <td id=\"T_20c9e_row8_col1\" class=\"data row8 col1\" >191501</td>\n",
       "      <td id=\"T_20c9e_row8_col2\" class=\"data row8 col2\" >32</td>\n",
       "      <td id=\"T_20c9e_row8_col3\" class=\"data row8 col3\" >3</td>\n",
       "      <td id=\"T_20c9e_row8_col4\" class=\"data row8 col4\" >2</td>\n",
       "      <td id=\"T_20c9e_row8_col5\" class=\"data row8 col5\" >7.0</td>\n",
       "    </tr>\n",
       "    <tr>\n",
       "      <th id=\"T_20c9e_level0_row9\" class=\"row_heading level0 row9\" >345917</th>\n",
       "      <td id=\"T_20c9e_row9_col0\" class=\"data row9 col0\" >2232988</td>\n",
       "      <td id=\"T_20c9e_row9_col1\" class=\"data row9 col1\" >82565</td>\n",
       "      <td id=\"T_20c9e_row9_col2\" class=\"data row9 col2\" >1</td>\n",
       "      <td id=\"T_20c9e_row9_col3\" class=\"data row9 col3\" >3</td>\n",
       "      <td id=\"T_20c9e_row9_col4\" class=\"data row9 col4\" >2</td>\n",
       "      <td id=\"T_20c9e_row9_col5\" class=\"data row9 col5\" ></td>\n",
       "    </tr>\n",
       "    <tr>\n",
       "      <th id=\"T_20c9e_level0_row10\" class=\"row_heading level0 row10\" >371905</th>\n",
       "      <td id=\"T_20c9e_row10_col0\" class=\"data row10 col0\" >391768</td>\n",
       "      <td id=\"T_20c9e_row10_col1\" class=\"data row10 col1\" >57671</td>\n",
       "      <td id=\"T_20c9e_row10_col2\" class=\"data row10 col2\" >19</td>\n",
       "      <td id=\"T_20c9e_row10_col3\" class=\"data row10 col3\" >3</td>\n",
       "      <td id=\"T_20c9e_row10_col4\" class=\"data row10 col4\" >2</td>\n",
       "      <td id=\"T_20c9e_row10_col5\" class=\"data row10 col5\" >10.0</td>\n",
       "    </tr>\n",
       "    <tr>\n",
       "      <th id=\"T_20c9e_level0_row11\" class=\"row_heading level0 row11\" >394347</th>\n",
       "      <td id=\"T_20c9e_row11_col0\" class=\"data row11 col0\" >467134</td>\n",
       "      <td id=\"T_20c9e_row11_col1\" class=\"data row11 col1\" >63189</td>\n",
       "      <td id=\"T_20c9e_row11_col2\" class=\"data row11 col2\" >21</td>\n",
       "      <td id=\"T_20c9e_row11_col3\" class=\"data row11 col3\" >3</td>\n",
       "      <td id=\"T_20c9e_row11_col4\" class=\"data row11 col4\" >2</td>\n",
       "      <td id=\"T_20c9e_row11_col5\" class=\"data row11 col5\" >2.0</td>\n",
       "    </tr>\n",
       "    <tr>\n",
       "      <th id=\"T_20c9e_level0_row12\" class=\"row_heading level0 row12\" >411408</th>\n",
       "      <td id=\"T_20c9e_row12_col0\" class=\"data row12 col0\" >1286742</td>\n",
       "      <td id=\"T_20c9e_row12_col1\" class=\"data row12 col1\" >183220</td>\n",
       "      <td id=\"T_20c9e_row12_col2\" class=\"data row12 col2\" >48</td>\n",
       "      <td id=\"T_20c9e_row12_col3\" class=\"data row12 col3\" >3</td>\n",
       "      <td id=\"T_20c9e_row12_col4\" class=\"data row12 col4\" >2</td>\n",
       "      <td id=\"T_20c9e_row12_col5\" class=\"data row12 col5\" >4.0</td>\n",
       "    </tr>\n",
       "    <tr>\n",
       "      <th id=\"T_20c9e_level0_row13\" class=\"row_heading level0 row13\" >415163</th>\n",
       "      <td id=\"T_20c9e_row13_col0\" class=\"data row13 col0\" >2282673</td>\n",
       "      <td id=\"T_20c9e_row13_col1\" class=\"data row13 col1\" >86751</td>\n",
       "      <td id=\"T_20c9e_row13_col2\" class=\"data row13 col2\" >49</td>\n",
       "      <td id=\"T_20c9e_row13_col3\" class=\"data row13 col3\" >3</td>\n",
       "      <td id=\"T_20c9e_row13_col4\" class=\"data row13 col4\" >2</td>\n",
       "      <td id=\"T_20c9e_row13_col5\" class=\"data row13 col5\" >2.0</td>\n",
       "    </tr>\n",
       "    <tr>\n",
       "      <th id=\"T_20c9e_level0_row14\" class=\"row_heading level0 row14\" >441599</th>\n",
       "      <td id=\"T_20c9e_row14_col0\" class=\"data row14 col0\" >2125197</td>\n",
       "      <td id=\"T_20c9e_row14_col1\" class=\"data row14 col1\" >14050</td>\n",
       "      <td id=\"T_20c9e_row14_col2\" class=\"data row14 col2\" >48</td>\n",
       "      <td id=\"T_20c9e_row14_col3\" class=\"data row14 col3\" >3</td>\n",
       "      <td id=\"T_20c9e_row14_col4\" class=\"data row14 col4\" >2</td>\n",
       "      <td id=\"T_20c9e_row14_col5\" class=\"data row14 col5\" >3.0</td>\n",
       "    </tr>\n",
       "  </tbody>\n",
       "</table>\n"
      ],
      "text/plain": [
       "<pandas.io.formats.style.Styler at 0x2a3bfc17fa0>"
      ]
     },
     "metadata": {},
     "output_type": "display_data"
    }
   ],
   "source": [
    "# Check for duplicate orders\n",
    "print(\"*** DataFrame [Instacart Orders], number of explicit duplicate values: \\n\")\n",
    "print(f\"Explicit duplicates: {df_instacart_orders.duplicated().sum()}\")\n",
    "print()\n",
    "print(\"DataFrame [Instacart Orders], explicit duplicate values: \\n\")\n",
    "df_view = df_instacart_orders.loc[df_instacart_orders.duplicated()] # keep=False # Show all duplicates, not just unique duplicates\n",
    "display(df_view.style.apply(zebra_rows, axis=1))\n",
    "\n"
   ]
  },
  {
   "cell_type": "markdown",
   "id": "956f1204",
   "metadata": {},
   "source": [
    "Do you have duplicate rows? If so, what do they have in common?\n",
    "###### _LSPL_\n",
    "There are 15 duplicate rows, which are explicit duplicates (the row values ​​for all columns are the same as the other rows).\n",
    "These are orders placed on the 3rd at 2 a.m."
   ]
  },
  {
   "cell_type": "code",
   "execution_count": 7,
   "id": "3307b0ef",
   "metadata": {},
   "outputs": [
    {
     "name": "stdout",
     "output_type": "stream",
     "text": [
      "*** DataFrame [Instacart Orders], orders placed on the 3rd at 2 am: \n",
      "\n"
     ]
    },
    {
     "data": {
      "text/html": [
       "<style type=\"text/css\">\n",
       "#T_36b58_row0_col0, #T_36b58_row0_col1, #T_36b58_row0_col2, #T_36b58_row0_col3, #T_36b58_row0_col4, #T_36b58_row0_col5, #T_36b58_row1_col0, #T_36b58_row1_col1, #T_36b58_row1_col2, #T_36b58_row1_col3, #T_36b58_row1_col4, #T_36b58_row1_col5, #T_36b58_row3_col0, #T_36b58_row3_col1, #T_36b58_row3_col2, #T_36b58_row3_col3, #T_36b58_row3_col4, #T_36b58_row3_col5, #T_36b58_row4_col0, #T_36b58_row4_col1, #T_36b58_row4_col2, #T_36b58_row4_col3, #T_36b58_row4_col4, #T_36b58_row4_col5, #T_36b58_row5_col0, #T_36b58_row5_col1, #T_36b58_row5_col2, #T_36b58_row5_col3, #T_36b58_row5_col4, #T_36b58_row5_col5, #T_36b58_row11_col0, #T_36b58_row11_col1, #T_36b58_row11_col2, #T_36b58_row11_col3, #T_36b58_row11_col4, #T_36b58_row11_col5, #T_36b58_row12_col0, #T_36b58_row12_col1, #T_36b58_row12_col2, #T_36b58_row12_col3, #T_36b58_row12_col4, #T_36b58_row12_col5, #T_36b58_row15_col0, #T_36b58_row15_col1, #T_36b58_row15_col2, #T_36b58_row15_col3, #T_36b58_row15_col4, #T_36b58_row15_col5, #T_36b58_row17_col0, #T_36b58_row17_col1, #T_36b58_row17_col2, #T_36b58_row17_col3, #T_36b58_row17_col4, #T_36b58_row17_col5, #T_36b58_row18_col0, #T_36b58_row18_col1, #T_36b58_row18_col2, #T_36b58_row18_col3, #T_36b58_row18_col4, #T_36b58_row18_col5, #T_36b58_row20_col0, #T_36b58_row20_col1, #T_36b58_row20_col2, #T_36b58_row20_col3, #T_36b58_row20_col4, #T_36b58_row20_col5, #T_36b58_row21_col0, #T_36b58_row21_col1, #T_36b58_row21_col2, #T_36b58_row21_col3, #T_36b58_row21_col4, #T_36b58_row21_col5, #T_36b58_row23_col0, #T_36b58_row23_col1, #T_36b58_row23_col2, #T_36b58_row23_col3, #T_36b58_row23_col4, #T_36b58_row23_col5 {\n",
       "  background-color: #595959;\n",
       "}\n",
       "#T_36b58_row2_col0, #T_36b58_row2_col1, #T_36b58_row2_col2, #T_36b58_row2_col3, #T_36b58_row2_col4, #T_36b58_row2_col5, #T_36b58_row6_col0, #T_36b58_row6_col1, #T_36b58_row6_col2, #T_36b58_row6_col3, #T_36b58_row6_col4, #T_36b58_row6_col5, #T_36b58_row7_col0, #T_36b58_row7_col1, #T_36b58_row7_col2, #T_36b58_row7_col3, #T_36b58_row7_col4, #T_36b58_row7_col5, #T_36b58_row8_col0, #T_36b58_row8_col1, #T_36b58_row8_col2, #T_36b58_row8_col3, #T_36b58_row8_col4, #T_36b58_row8_col5, #T_36b58_row9_col0, #T_36b58_row9_col1, #T_36b58_row9_col2, #T_36b58_row9_col3, #T_36b58_row9_col4, #T_36b58_row9_col5, #T_36b58_row10_col0, #T_36b58_row10_col1, #T_36b58_row10_col2, #T_36b58_row10_col3, #T_36b58_row10_col4, #T_36b58_row10_col5, #T_36b58_row13_col0, #T_36b58_row13_col1, #T_36b58_row13_col2, #T_36b58_row13_col3, #T_36b58_row13_col4, #T_36b58_row13_col5, #T_36b58_row14_col0, #T_36b58_row14_col1, #T_36b58_row14_col2, #T_36b58_row14_col3, #T_36b58_row14_col4, #T_36b58_row14_col5, #T_36b58_row16_col0, #T_36b58_row16_col1, #T_36b58_row16_col2, #T_36b58_row16_col3, #T_36b58_row16_col4, #T_36b58_row16_col5, #T_36b58_row19_col0, #T_36b58_row19_col1, #T_36b58_row19_col2, #T_36b58_row19_col3, #T_36b58_row19_col4, #T_36b58_row19_col5, #T_36b58_row22_col0, #T_36b58_row22_col1, #T_36b58_row22_col2, #T_36b58_row22_col3, #T_36b58_row22_col4, #T_36b58_row22_col5, #T_36b58_row24_col0, #T_36b58_row24_col1, #T_36b58_row24_col2, #T_36b58_row24_col3, #T_36b58_row24_col4, #T_36b58_row24_col5 {\n",
       "  background-color: #808080;\n",
       "}\n",
       "</style>\n",
       "<table id=\"T_36b58\">\n",
       "  <thead>\n",
       "    <tr>\n",
       "      <th class=\"blank level0\" >&nbsp;</th>\n",
       "      <th id=\"T_36b58_level0_col0\" class=\"col_heading level0 col0\" >order_id</th>\n",
       "      <th id=\"T_36b58_level0_col1\" class=\"col_heading level0 col1\" >user_id</th>\n",
       "      <th id=\"T_36b58_level0_col2\" class=\"col_heading level0 col2\" >order_number</th>\n",
       "      <th id=\"T_36b58_level0_col3\" class=\"col_heading level0 col3\" >order_dow</th>\n",
       "      <th id=\"T_36b58_level0_col4\" class=\"col_heading level0 col4\" >order_hour_of_day</th>\n",
       "      <th id=\"T_36b58_level0_col5\" class=\"col_heading level0 col5\" >days_since_prior_order</th>\n",
       "    </tr>\n",
       "  </thead>\n",
       "  <tbody>\n",
       "    <tr>\n",
       "      <th id=\"T_36b58_level0_row0\" class=\"row_heading level0 row0\" >400167</th>\n",
       "      <td id=\"T_36b58_row0_col0\" class=\"data row0 col0\" >774488</td>\n",
       "      <td id=\"T_36b58_row0_col1\" class=\"data row0 col1\" >66195</td>\n",
       "      <td id=\"T_36b58_row0_col2\" class=\"data row0 col2\" >16</td>\n",
       "      <td id=\"T_36b58_row0_col3\" class=\"data row0 col3\" >3</td>\n",
       "      <td id=\"T_36b58_row0_col4\" class=\"data row0 col4\" >2</td>\n",
       "      <td id=\"T_36b58_row0_col5\" class=\"data row0 col5\" >2.0</td>\n",
       "    </tr>\n",
       "    <tr>\n",
       "      <th id=\"T_36b58_level0_row1\" class=\"row_heading level0 row1\" >200059</th>\n",
       "      <td id=\"T_36b58_row1_col0\" class=\"data row1 col0\" >1782114</td>\n",
       "      <td id=\"T_36b58_row1_col1\" class=\"data row1 col1\" >106752</td>\n",
       "      <td id=\"T_36b58_row1_col2\" class=\"data row1 col2\" >1</td>\n",
       "      <td id=\"T_36b58_row1_col3\" class=\"data row1 col3\" >3</td>\n",
       "      <td id=\"T_36b58_row1_col4\" class=\"data row1 col4\" >2</td>\n",
       "      <td id=\"T_36b58_row1_col5\" class=\"data row1 col5\" ></td>\n",
       "    </tr>\n",
       "    <tr>\n",
       "      <th id=\"T_36b58_level0_row2\" class=\"row_heading level0 row2\" >313544</th>\n",
       "      <td id=\"T_36b58_row2_col0\" class=\"data row2 col0\" >2425457</td>\n",
       "      <td id=\"T_36b58_row2_col1\" class=\"data row2 col1\" >152040</td>\n",
       "      <td id=\"T_36b58_row2_col2\" class=\"data row2 col2\" >9</td>\n",
       "      <td id=\"T_36b58_row2_col3\" class=\"data row2 col3\" >3</td>\n",
       "      <td id=\"T_36b58_row2_col4\" class=\"data row2 col4\" >2</td>\n",
       "      <td id=\"T_36b58_row2_col5\" class=\"data row2 col5\" >2.0</td>\n",
       "    </tr>\n",
       "    <tr>\n",
       "      <th id=\"T_36b58_level0_row3\" class=\"row_heading level0 row3\" >459635</th>\n",
       "      <td id=\"T_36b58_row3_col0\" class=\"data row3 col0\" >1680532</td>\n",
       "      <td id=\"T_36b58_row3_col1\" class=\"data row3 col1\" >106435</td>\n",
       "      <td id=\"T_36b58_row3_col2\" class=\"data row3 col2\" >6</td>\n",
       "      <td id=\"T_36b58_row3_col3\" class=\"data row3 col3\" >3</td>\n",
       "      <td id=\"T_36b58_row3_col4\" class=\"data row3 col4\" >2</td>\n",
       "      <td id=\"T_36b58_row3_col5\" class=\"data row3 col5\" >21.0</td>\n",
       "    </tr>\n",
       "    <tr>\n",
       "      <th id=\"T_36b58_level0_row4\" class=\"row_heading level0 row4\" >311713</th>\n",
       "      <td id=\"T_36b58_row4_col0\" class=\"data row4 col0\" >1021560</td>\n",
       "      <td id=\"T_36b58_row4_col1\" class=\"data row4 col1\" >53767</td>\n",
       "      <td id=\"T_36b58_row4_col2\" class=\"data row4 col2\" >3</td>\n",
       "      <td id=\"T_36b58_row4_col3\" class=\"data row4 col3\" >3</td>\n",
       "      <td id=\"T_36b58_row4_col4\" class=\"data row4 col4\" >2</td>\n",
       "      <td id=\"T_36b58_row4_col5\" class=\"data row4 col5\" >9.0</td>\n",
       "    </tr>\n",
       "    <tr>\n",
       "      <th id=\"T_36b58_level0_row5\" class=\"row_heading level0 row5\" >119251</th>\n",
       "      <td id=\"T_36b58_row5_col0\" class=\"data row5 col0\" >408114</td>\n",
       "      <td id=\"T_36b58_row5_col1\" class=\"data row5 col1\" >68324</td>\n",
       "      <td id=\"T_36b58_row5_col2\" class=\"data row5 col2\" >4</td>\n",
       "      <td id=\"T_36b58_row5_col3\" class=\"data row5 col3\" >3</td>\n",
       "      <td id=\"T_36b58_row5_col4\" class=\"data row5 col4\" >2</td>\n",
       "      <td id=\"T_36b58_row5_col5\" class=\"data row5 col5\" >18.0</td>\n",
       "    </tr>\n",
       "    <tr>\n",
       "      <th id=\"T_36b58_level0_row6\" class=\"row_heading level0 row6\" >18420</th>\n",
       "      <td id=\"T_36b58_row6_col0\" class=\"data row6 col0\" >382357</td>\n",
       "      <td id=\"T_36b58_row6_col1\" class=\"data row6 col1\" >120200</td>\n",
       "      <td id=\"T_36b58_row6_col2\" class=\"data row6 col2\" >19</td>\n",
       "      <td id=\"T_36b58_row6_col3\" class=\"data row6 col3\" >3</td>\n",
       "      <td id=\"T_36b58_row6_col4\" class=\"data row6 col4\" >2</td>\n",
       "      <td id=\"T_36b58_row6_col5\" class=\"data row6 col5\" >11.0</td>\n",
       "    </tr>\n",
       "    <tr>\n",
       "      <th id=\"T_36b58_level0_row7\" class=\"row_heading level0 row7\" >244432</th>\n",
       "      <td id=\"T_36b58_row7_col0\" class=\"data row7 col0\" >1395560</td>\n",
       "      <td id=\"T_36b58_row7_col1\" class=\"data row7 col1\" >166923</td>\n",
       "      <td id=\"T_36b58_row7_col2\" class=\"data row7 col2\" >6</td>\n",
       "      <td id=\"T_36b58_row7_col3\" class=\"data row7 col3\" >3</td>\n",
       "      <td id=\"T_36b58_row7_col4\" class=\"data row7 col4\" >2</td>\n",
       "      <td id=\"T_36b58_row7_col5\" class=\"data row7 col5\" >5.0</td>\n",
       "    </tr>\n",
       "    <tr>\n",
       "      <th id=\"T_36b58_level0_row8\" class=\"row_heading level0 row8\" >321100</th>\n",
       "      <td id=\"T_36b58_row8_col0\" class=\"data row8 col0\" >408114</td>\n",
       "      <td id=\"T_36b58_row8_col1\" class=\"data row8 col1\" >68324</td>\n",
       "      <td id=\"T_36b58_row8_col2\" class=\"data row8 col2\" >4</td>\n",
       "      <td id=\"T_36b58_row8_col3\" class=\"data row8 col3\" >3</td>\n",
       "      <td id=\"T_36b58_row8_col4\" class=\"data row8 col4\" >2</td>\n",
       "      <td id=\"T_36b58_row8_col5\" class=\"data row8 col5\" >18.0</td>\n",
       "    </tr>\n",
       "    <tr>\n",
       "      <th id=\"T_36b58_level0_row9\" class=\"row_heading level0 row9\" >458816</th>\n",
       "      <td id=\"T_36b58_row9_col0\" class=\"data row9 col0\" >910166</td>\n",
       "      <td id=\"T_36b58_row9_col1\" class=\"data row9 col1\" >164782</td>\n",
       "      <td id=\"T_36b58_row9_col2\" class=\"data row9 col2\" >18</td>\n",
       "      <td id=\"T_36b58_row9_col3\" class=\"data row9 col3\" >3</td>\n",
       "      <td id=\"T_36b58_row9_col4\" class=\"data row9 col4\" >2</td>\n",
       "      <td id=\"T_36b58_row9_col5\" class=\"data row9 col5\" >4.0</td>\n",
       "    </tr>\n",
       "    <tr>\n",
       "      <th id=\"T_36b58_level0_row10\" class=\"row_heading level0 row10\" >155154</th>\n",
       "      <td id=\"T_36b58_row10_col0\" class=\"data row10 col0\" >449909</td>\n",
       "      <td id=\"T_36b58_row10_col1\" class=\"data row10 col1\" >198005</td>\n",
       "      <td id=\"T_36b58_row10_col2\" class=\"data row10 col2\" >19</td>\n",
       "      <td id=\"T_36b58_row10_col3\" class=\"data row10 col3\" >3</td>\n",
       "      <td id=\"T_36b58_row10_col4\" class=\"data row10 col4\" >2</td>\n",
       "      <td id=\"T_36b58_row10_col5\" class=\"data row10 col5\" >30.0</td>\n",
       "    </tr>\n",
       "    <tr>\n",
       "      <th id=\"T_36b58_level0_row11\" class=\"row_heading level0 row11\" >109947</th>\n",
       "      <td id=\"T_36b58_row11_col0\" class=\"data row11 col0\" >2908154</td>\n",
       "      <td id=\"T_36b58_row11_col1\" class=\"data row11 col1\" >87380</td>\n",
       "      <td id=\"T_36b58_row11_col2\" class=\"data row11 col2\" >2</td>\n",
       "      <td id=\"T_36b58_row11_col3\" class=\"data row11 col3\" >3</td>\n",
       "      <td id=\"T_36b58_row11_col4\" class=\"data row11 col4\" >2</td>\n",
       "      <td id=\"T_36b58_row11_col5\" class=\"data row11 col5\" >12.0</td>\n",
       "    </tr>\n",
       "    <tr>\n",
       "      <th id=\"T_36b58_level0_row12\" class=\"row_heading level0 row12\" >457013</th>\n",
       "      <td id=\"T_36b58_row12_col0\" class=\"data row12 col0\" >3384021</td>\n",
       "      <td id=\"T_36b58_row12_col1\" class=\"data row12 col1\" >14881</td>\n",
       "      <td id=\"T_36b58_row12_col2\" class=\"data row12 col2\" >6</td>\n",
       "      <td id=\"T_36b58_row12_col3\" class=\"data row12 col3\" >3</td>\n",
       "      <td id=\"T_36b58_row12_col4\" class=\"data row12 col4\" >2</td>\n",
       "      <td id=\"T_36b58_row12_col5\" class=\"data row12 col5\" >30.0</td>\n",
       "    </tr>\n",
       "    <tr>\n",
       "      <th id=\"T_36b58_level0_row13\" class=\"row_heading level0 row13\" >250626</th>\n",
       "      <td id=\"T_36b58_row13_col0\" class=\"data row13 col0\" >467134</td>\n",
       "      <td id=\"T_36b58_row13_col1\" class=\"data row13 col1\" >63189</td>\n",
       "      <td id=\"T_36b58_row13_col2\" class=\"data row13 col2\" >21</td>\n",
       "      <td id=\"T_36b58_row13_col3\" class=\"data row13 col3\" >3</td>\n",
       "      <td id=\"T_36b58_row13_col4\" class=\"data row13 col4\" >2</td>\n",
       "      <td id=\"T_36b58_row13_col5\" class=\"data row13 col5\" >2.0</td>\n",
       "    </tr>\n",
       "    <tr>\n",
       "      <th id=\"T_36b58_level0_row14\" class=\"row_heading level0 row14\" >136476</th>\n",
       "      <td id=\"T_36b58_row14_col0\" class=\"data row14 col0\" >3155527</td>\n",
       "      <td id=\"T_36b58_row14_col1\" class=\"data row14 col1\" >131042</td>\n",
       "      <td id=\"T_36b58_row14_col2\" class=\"data row14 col2\" >8</td>\n",
       "      <td id=\"T_36b58_row14_col3\" class=\"data row14 col3\" >3</td>\n",
       "      <td id=\"T_36b58_row14_col4\" class=\"data row14 col4\" >2</td>\n",
       "      <td id=\"T_36b58_row14_col5\" class=\"data row14 col5\" >30.0</td>\n",
       "    </tr>\n",
       "    <tr>\n",
       "      <th id=\"T_36b58_level0_row15\" class=\"row_heading level0 row15\" >120815</th>\n",
       "      <td id=\"T_36b58_row15_col0\" class=\"data row15 col0\" >2438538</td>\n",
       "      <td id=\"T_36b58_row15_col1\" class=\"data row15 col1\" >124608</td>\n",
       "      <td id=\"T_36b58_row15_col2\" class=\"data row15 col2\" >12</td>\n",
       "      <td id=\"T_36b58_row15_col3\" class=\"data row15 col3\" >3</td>\n",
       "      <td id=\"T_36b58_row15_col4\" class=\"data row15 col4\" >2</td>\n",
       "      <td id=\"T_36b58_row15_col5\" class=\"data row15 col5\" >3.0</td>\n",
       "    </tr>\n",
       "    <tr>\n",
       "      <th id=\"T_36b58_level0_row16\" class=\"row_heading level0 row16\" >334384</th>\n",
       "      <td id=\"T_36b58_row16_col0\" class=\"data row16 col0\" >898850</td>\n",
       "      <td id=\"T_36b58_row16_col1\" class=\"data row16 col1\" >14380</td>\n",
       "      <td id=\"T_36b58_row16_col2\" class=\"data row16 col2\" >4</td>\n",
       "      <td id=\"T_36b58_row16_col3\" class=\"data row16 col3\" >3</td>\n",
       "      <td id=\"T_36b58_row16_col4\" class=\"data row16 col4\" >2</td>\n",
       "      <td id=\"T_36b58_row16_col5\" class=\"data row16 col5\" >30.0</td>\n",
       "    </tr>\n",
       "    <tr>\n",
       "      <th id=\"T_36b58_level0_row17\" class=\"row_heading level0 row17\" >178949</th>\n",
       "      <td id=\"T_36b58_row17_col0\" class=\"data row17 col0\" >2677202</td>\n",
       "      <td id=\"T_36b58_row17_col1\" class=\"data row17 col1\" >134700</td>\n",
       "      <td id=\"T_36b58_row17_col2\" class=\"data row17 col2\" >2</td>\n",
       "      <td id=\"T_36b58_row17_col3\" class=\"data row17 col3\" >3</td>\n",
       "      <td id=\"T_36b58_row17_col4\" class=\"data row17 col4\" >2</td>\n",
       "      <td id=\"T_36b58_row17_col5\" class=\"data row17 col5\" >6.0</td>\n",
       "    </tr>\n",
       "    <tr>\n",
       "      <th id=\"T_36b58_level0_row18\" class=\"row_heading level0 row18\" >241805</th>\n",
       "      <td id=\"T_36b58_row18_col0\" class=\"data row18 col0\" >1121635</td>\n",
       "      <td id=\"T_36b58_row18_col1\" class=\"data row18 col1\" >74808</td>\n",
       "      <td id=\"T_36b58_row18_col2\" class=\"data row18 col2\" >16</td>\n",
       "      <td id=\"T_36b58_row18_col3\" class=\"data row18 col3\" >3</td>\n",
       "      <td id=\"T_36b58_row18_col4\" class=\"data row18 col4\" >2</td>\n",
       "      <td id=\"T_36b58_row18_col5\" class=\"data row18 col5\" >30.0</td>\n",
       "    </tr>\n",
       "    <tr>\n",
       "      <th id=\"T_36b58_level0_row19\" class=\"row_heading level0 row19\" >48024</th>\n",
       "      <td id=\"T_36b58_row19_col0\" class=\"data row19 col0\" >1453300</td>\n",
       "      <td id=\"T_36b58_row19_col1\" class=\"data row19 col1\" >69262</td>\n",
       "      <td id=\"T_36b58_row19_col2\" class=\"data row19 col2\" >27</td>\n",
       "      <td id=\"T_36b58_row19_col3\" class=\"data row19 col3\" >3</td>\n",
       "      <td id=\"T_36b58_row19_col4\" class=\"data row19 col4\" >2</td>\n",
       "      <td id=\"T_36b58_row19_col5\" class=\"data row19 col5\" >7.0</td>\n",
       "    </tr>\n",
       "    <tr>\n",
       "      <th id=\"T_36b58_level0_row20\" class=\"row_heading level0 row20\" >241899</th>\n",
       "      <td id=\"T_36b58_row20_col0\" class=\"data row20 col0\" >1958044</td>\n",
       "      <td id=\"T_36b58_row20_col1\" class=\"data row20 col1\" >76767</td>\n",
       "      <td id=\"T_36b58_row20_col2\" class=\"data row20 col2\" >2</td>\n",
       "      <td id=\"T_36b58_row20_col3\" class=\"data row20 col3\" >3</td>\n",
       "      <td id=\"T_36b58_row20_col4\" class=\"data row20 col4\" >2</td>\n",
       "      <td id=\"T_36b58_row20_col5\" class=\"data row20 col5\" >1.0</td>\n",
       "    </tr>\n",
       "    <tr>\n",
       "      <th id=\"T_36b58_level0_row21\" class=\"row_heading level0 row21\" >247867</th>\n",
       "      <td id=\"T_36b58_row21_col0\" class=\"data row21 col0\" >238782</td>\n",
       "      <td id=\"T_36b58_row21_col1\" class=\"data row21 col1\" >196224</td>\n",
       "      <td id=\"T_36b58_row21_col2\" class=\"data row21 col2\" >6</td>\n",
       "      <td id=\"T_36b58_row21_col3\" class=\"data row21 col3\" >3</td>\n",
       "      <td id=\"T_36b58_row21_col4\" class=\"data row21 col4\" >2</td>\n",
       "      <td id=\"T_36b58_row21_col5\" class=\"data row21 col5\" >3.0</td>\n",
       "    </tr>\n",
       "    <tr>\n",
       "      <th id=\"T_36b58_level0_row22\" class=\"row_heading level0 row22\" >4838</th>\n",
       "      <td id=\"T_36b58_row22_col0\" class=\"data row22 col0\" >2766110</td>\n",
       "      <td id=\"T_36b58_row22_col1\" class=\"data row22 col1\" >162084</td>\n",
       "      <td id=\"T_36b58_row22_col2\" class=\"data row22 col2\" >41</td>\n",
       "      <td id=\"T_36b58_row22_col3\" class=\"data row22 col3\" >3</td>\n",
       "      <td id=\"T_36b58_row22_col4\" class=\"data row22 col4\" >2</td>\n",
       "      <td id=\"T_36b58_row22_col5\" class=\"data row22 col5\" >16.0</td>\n",
       "    </tr>\n",
       "    <tr>\n",
       "      <th id=\"T_36b58_level0_row23\" class=\"row_heading level0 row23\" >323723</th>\n",
       "      <td id=\"T_36b58_row23_col0\" class=\"data row23 col0\" >1833869</td>\n",
       "      <td id=\"T_36b58_row23_col1\" class=\"data row23 col1\" >128530</td>\n",
       "      <td id=\"T_36b58_row23_col2\" class=\"data row23 col2\" >14</td>\n",
       "      <td id=\"T_36b58_row23_col3\" class=\"data row23 col3\" >3</td>\n",
       "      <td id=\"T_36b58_row23_col4\" class=\"data row23 col4\" >2</td>\n",
       "      <td id=\"T_36b58_row23_col5\" class=\"data row23 col5\" >17.0</td>\n",
       "    </tr>\n",
       "    <tr>\n",
       "      <th id=\"T_36b58_level0_row24\" class=\"row_heading level0 row24\" >82460</th>\n",
       "      <td id=\"T_36b58_row24_col0\" class=\"data row24 col0\" >1554296</td>\n",
       "      <td id=\"T_36b58_row24_col1\" class=\"data row24 col1\" >39743</td>\n",
       "      <td id=\"T_36b58_row24_col2\" class=\"data row24 col2\" >10</td>\n",
       "      <td id=\"T_36b58_row24_col3\" class=\"data row24 col3\" >3</td>\n",
       "      <td id=\"T_36b58_row24_col4\" class=\"data row24 col4\" >2</td>\n",
       "      <td id=\"T_36b58_row24_col5\" class=\"data row24 col5\" >6.0</td>\n",
       "    </tr>\n",
       "  </tbody>\n",
       "</table>\n"
      ],
      "text/plain": [
       "<pandas.io.formats.style.Styler at 0x2a3c23064a0>"
      ]
     },
     "metadata": {},
     "output_type": "display_data"
    },
    {
     "name": "stdout",
     "output_type": "stream",
     "text": [
      "Total number of rows (orders for day 3 at 2 am): 478967\n"
     ]
    }
   ],
   "source": [
    "# Based on your findings,\n",
    "# Check all orders placed on Wednesday at 2:00 a.m.\n",
    "\n",
    "print(\"*** DataFrame [Instacart Orders], orders placed on the 3rd at 2 am: \\n\")\n",
    "df_view = df_instacart_orders.loc[(df_instacart_orders['order_hour_of_day'] == 2) & (df_instacart_orders['order_dow'] == 3), :]\n",
    "display(df_view.sample(25).style.apply(zebra_rows, axis=1))\n",
    "print(f\"Total number of rows (orders for day 3 at 2 am): {((df_instacart_orders['order_hour_of_day'] == 2) & (df_instacart_orders['order_dow'] == 3)).shape[0]}\")\n"
   ]
  },
  {
   "cell_type": "markdown",
   "id": "249ea5c6",
   "metadata": {},
   "source": [
    "What does this result suggest?"
   ]
  },
  {
   "cell_type": "code",
   "execution_count": 8,
   "id": "55f006c9",
   "metadata": {},
   "outputs": [],
   "source": [
    "# Eliminate explicit duplicate orders\n",
    "df_instacart_orders = df_instacart_orders.drop_duplicates().reset_index(drop=True)"
   ]
  },
  {
   "cell_type": "code",
   "execution_count": 9,
   "id": "6b1832c9",
   "metadata": {},
   "outputs": [
    {
     "name": "stdout",
     "output_type": "stream",
     "text": [
      "*** DataFrame [Instacart Orders], number of explicit duplicate values ​​after explicit duplicate removal: \n",
      "\n",
      "Current explicit duplicates: 0\n"
     ]
    }
   ],
   "source": [
    "# Recheck for duplicate rows\n",
    "print(\"*** DataFrame [Instacart Orders], number of explicit duplicate values ​​after explicit duplicate removal: \\n\")\n",
    "print(f\"Current explicit duplicates: {df_instacart_orders.duplicated().sum()}\")"
   ]
  },
  {
   "cell_type": "code",
   "execution_count": 10,
   "id": "55665e7e",
   "metadata": {},
   "outputs": [
    {
     "name": "stdout",
     "output_type": "stream",
     "text": [
      "*** DataFrame [Instacart Orders], column 'order_id', number of explicit duplicate values:\n",
      "\n",
      "Explicit duplicates: 0\n"
     ]
    }
   ],
   "source": [
    "# Recheck only for duplicate order IDs\n",
    "print(\"*** DataFrame [Instacart Orders], column 'order_id', number of explicit duplicate values:\\n\")\n",
    "print(f\"Explicit duplicates: {df_instacart_orders['order_id'].duplicated().sum()}\")"
   ]
  },
  {
   "cell_type": "markdown",
   "id": "33638996",
   "metadata": {},
   "source": [
    "Briefly describe your findings and what you did with them.\n",
    "###### _LSPL_\n",
    "From 478,967 orders placed on the 3rd at 2 a.m., 15 explicitly duplicate rows were found, which were removed."
   ]
  },
  {
   "cell_type": "markdown",
   "id": "45e6bc46",
   "metadata": {
    "id": "45e6bc46"
   },
   "source": [
    "### `products` data frame"
   ]
  },
  {
   "cell_type": "code",
   "execution_count": 11,
   "id": "5f526b5b-8175-46fa-a0fd-441767d50e64",
   "metadata": {
    "id": "5f526b5b-8175-46fa-a0fd-441767d50e64"
   },
   "outputs": [
    {
     "name": "stdout",
     "output_type": "stream",
     "text": [
      "*** DataFrame [Products], number of explicit duplicate values: \n",
      "\n",
      "Explicit duplicates: 0\n"
     ]
    }
   ],
   "source": [
    "# Check for fully duplicated rows\n",
    "print(\"*** DataFrame [Products], number of explicit duplicate values: \\n\")\n",
    "print(f\"Explicit duplicates: {df_products.duplicated().sum()}\")"
   ]
  },
  {
   "cell_type": "code",
   "execution_count": 12,
   "id": "88daa4f4",
   "metadata": {
    "id": "88daa4f4"
   },
   "outputs": [
    {
     "name": "stdout",
     "output_type": "stream",
     "text": [
      "*** DataFrame [Products], column 'department_id', number of explicit duplicate values: \n",
      "\n",
      "Explicit duplicates: 49673\n",
      "Unique values: [19 13  7  1 11 16 17 18 12  9  8 14 15  4 21  6 20  5  3  2 10], Total unique values: 21\n"
     ]
    }
   ],
   "source": [
    "# Check only for duplicate department IDs\n",
    "print(\"*** DataFrame [Products], column 'department_id', number of explicit duplicate values: \\n\")\n",
    "print(f\"Explicit duplicates: {df_products['department_id'].duplicated().sum()}\")\n",
    "print(f\"Unique values: {df_products['department_id'].unique()}, Total unique values: {df_products['department_id'].nunique()}\")\n"
   ]
  },
  {
   "cell_type": "code",
   "execution_count": 13,
   "id": "c773f0bf",
   "metadata": {
    "id": "c773f0bf"
   },
   "outputs": [
    {
     "name": "stdout",
     "output_type": "stream",
     "text": [
      "*** DataFrame [Products], column 'product_name', number of explicit duplicate values: \n",
      "\n",
      "Explicit duplicates: 1361\n",
      "Unique values: ['CHOCOLATE SANDWICH COOKIES' 'ALL-SEASONS SALT'\n",
      " 'ROBUST GOLDEN UNSWEETENED OOLONG TEA' ... 'ARTISAN BAGUETTE'\n",
      " 'SMARTBLEND HEALTHY METABOLISM DRY CAT FOOD' 'FRESH FOAMING CLEANSER'], Total unique values: 48333\n"
     ]
    }
   ],
   "source": [
    "# Check only for duplicate product names (convert names to uppercase for better comparison)\n",
    "print(\"*** DataFrame [Products], column 'product_name', number of explicit duplicate values: \\n\")\n",
    "print(f\"Explicit duplicates: {df_products['product_name'].str.upper().duplicated().sum()}\")\n",
    "print(f\"Unique values: {df_products['product_name'].str.upper().unique()}, Total unique values: {df_products['product_name'].str.upper().nunique()}\")"
   ]
  },
  {
   "cell_type": "code",
   "execution_count": 18,
   "id": "01efd02e",
   "metadata": {
    "id": "01efd02e"
   },
   "outputs": [
    {
     "name": "stdout",
     "output_type": "stream",
     "text": [
      "*** DataFrame [Products], column 'product_name', explicit duplicate values ​​with no missing values ​​\n",
      "\n",
      "Explicit duplicates (No missing values): 0\n",
      "************************************************** \n",
      "\n",
      "DataFrame [Products], column 'product_name', duplicate values explicit with missing values ​​\n",
      "\n",
      "Explicit duplicates (With missing values): 1257\n",
      "************************************************** \n",
      "\n"
     ]
    }
   ],
   "source": [
    "# Check for duplicate non-missing product names\n",
    "df_products_missing = pd.read_csv(products_path, sep=';', header='infer', keep_default_na=True)\n",
    "df_products_missing['product_name'] = df_products_missing['product_name'].fillna('MISSING')\n",
    "\n",
    "mask1 = df_products_missing['product_name'] != \"MISSING\"\n",
    "mask2 = df_products_missing['product_name'] == \"MISSING\"\n",
    "print(\"*** DataFrame [Products], column 'product_name', explicit duplicate values ​​with no missing values ​​\\n\")\n",
    "print(f\"Explicit duplicates (No missing values): {df_products_missing.loc[mask1, 'product_name'].duplicated().sum()}\")\n",
    "print('*' * 50, '\\n')\n",
    "print(\"DataFrame [Products], column 'product_name', duplicate values explicit with missing values ​​\\n\")\n",
    "print(f\"Explicit duplicates (With missing values): {df_products_missing.loc[mask2, 'product_name'].duplicated().sum()}\")\n",
    "print('*' * 50, '\\n')\n",
    "\n"
   ]
  },
  {
   "cell_type": "markdown",
   "id": "9da8d293",
   "metadata": {
    "id": "9da8d293"
   },
   "source": [
    "Briefly describe your findings and what you did with them.\n",
    "###### _LSPL_\n",
    "The products DataFrame has no explicit duplicate values; however, it has several missing values ​​in the 'product_name' column.\n",
    "These will not be removed since they are only explicit duplicate values ​​in the 'product_name' column; they will be processed later as missing values."
   ]
  },
  {
   "cell_type": "markdown",
   "id": "60f30db1",
   "metadata": {
    "id": "60f30db1"
   },
   "source": [
    "### `departments` data frame"
   ]
  },
  {
   "cell_type": "code",
   "execution_count": 19,
   "id": "fb410ad4-0fbf-4b80-bb09-23fdea79afe3",
   "metadata": {
    "id": "fb410ad4-0fbf-4b80-bb09-23fdea79afe3"
   },
   "outputs": [
    {
     "name": "stdout",
     "output_type": "stream",
     "text": [
      "*** DataFrame [Departments], number of explicit duplicate values: \n",
      "\n",
      "Explicit duplicates: 0\n"
     ]
    }
   ],
   "source": [
    "# Check for fully duplicated rows\n",
    "print(\"*** DataFrame [Departments], number of explicit duplicate values: \\n\")\n",
    "print(f\"Explicit duplicates: {df_departments.duplicated().sum()}\")"
   ]
  },
  {
   "cell_type": "code",
   "execution_count": 20,
   "id": "332b12bb",
   "metadata": {
    "id": "332b12bb"
   },
   "outputs": [
    {
     "name": "stdout",
     "output_type": "stream",
     "text": [
      "*** DataFrame [Departments], column 'department_id', number of explicit duplicate values: \n",
      "\n",
      "Explicit duplicates: 0\n"
     ]
    }
   ],
   "source": [
    "# Check only for duplicate department IDs\n",
    "print(\"*** DataFrame [Departments], column 'department_id', number of explicit duplicate values: \\n\")\n",
    "print(f\"Explicit duplicates: {df_departments['department_id'].duplicated().sum()}\")\n"
   ]
  },
  {
   "cell_type": "markdown",
   "id": "bd30d78e",
   "metadata": {
    "id": "bd30d78e"
   },
   "source": [
    "Briefly describe your findings and what you did with them.\n",
    "###### _LSPL_\n",
    "The departments DataFrame has no explicit duplicate values."
   ]
  },
  {
   "cell_type": "markdown",
   "id": "889349c1",
   "metadata": {
    "id": "889349c1"
   },
   "source": [
    "### `aisles` data frame"
   ]
  },
  {
   "cell_type": "code",
   "execution_count": 21,
   "id": "9da89fb9-4679-40f5-ad0d-c34df753a3f8",
   "metadata": {
    "id": "9da89fb9-4679-40f5-ad0d-c34df753a3f8"
   },
   "outputs": [
    {
     "name": "stdout",
     "output_type": "stream",
     "text": [
      "*** DataFrame [Aisles], number of explicit duplicate values: \n",
      "\n",
      "Explicit duplicates: 0\n"
     ]
    }
   ],
   "source": [
    "# Check for fully duplicated rows\n",
    "print(\"*** DataFrame [Aisles], number of explicit duplicate values: \\n\")\n",
    "print(f\"Explicit duplicates: {df_aisles.duplicated().sum()}\")"
   ]
  },
  {
   "cell_type": "code",
   "execution_count": 22,
   "id": "da7c2822",
   "metadata": {
    "id": "da7c2822"
   },
   "outputs": [
    {
     "name": "stdout",
     "output_type": "stream",
     "text": [
      "*** DataFrame [Aisles], column 'aisle_id' number of explicit duplicate values: \n",
      "\n",
      "Explicit duplicates: 0\n"
     ]
    }
   ],
   "source": [
    "# Check only for duplicate aisle IDs\n",
    "print(\"*** DataFrame [Aisles], column 'aisle_id' number of explicit duplicate values: \\n\")\n",
    "print(f\"Explicit duplicates: {df_aisles['aisle_id'].duplicated().sum()}\")"
   ]
  },
  {
   "cell_type": "markdown",
   "id": "ac63826f",
   "metadata": {
    "id": "ac63826f"
   },
   "source": [
    "Briefly describe your findings and what you did with them.\n",
    "###### _LSPL_\n",
    "The aisles DataFrame has no explicit duplicate values."
   ]
  },
  {
   "cell_type": "markdown",
   "id": "274cd06a",
   "metadata": {
    "id": "274cd06a"
   },
   "source": [
    "### `order_products` data frame"
   ]
  },
  {
   "cell_type": "code",
   "execution_count": 23,
   "id": "52326689-84a8-4b8f-a881-7c68780f62c9",
   "metadata": {
    "id": "52326689-84a8-4b8f-a881-7c68780f62c9"
   },
   "outputs": [
    {
     "name": "stdout",
     "output_type": "stream",
     "text": [
      "*** DataFrame [Order products], number of explicit duplicate values: \n",
      "\n",
      "Explicit duplicates: 0\n"
     ]
    }
   ],
   "source": [
    "# Check for fully duplicated rows\n",
    "print(\"*** DataFrame [Order products], number of explicit duplicate values: \\n\")\n",
    "print(f\"Explicit duplicates: {df_order_products.duplicated().sum()}\")"
   ]
  },
  {
   "cell_type": "code",
   "execution_count": 25,
   "id": "7b861391",
   "metadata": {
    "id": "7b861391"
   },
   "outputs": [
    {
     "name": "stdout",
     "output_type": "stream",
     "text": [
      "*** DataFrame [Order products], column 'add_to_cart_order', number of explicit duplicate values ​​without missing values: \n",
      "\n",
      "Duplicates (No missing values): 4544107\n",
      "************************************************** \n",
      "\n",
      "*** DataFrame [Order products], column 'add_to_cart_order', number of explicit duplicate values ​​with missing values: \n",
      "\n",
      "Duplicates (With missing values): 835\n",
      "************************************************** \n",
      "\n"
     ]
    }
   ],
   "source": [
    "# Check again for any other misleading duplicates\n",
    "df_order_products_missing = pd.read_csv(order_products_path, sep=';', header='infer', keep_default_na=True)\n",
    "df_order_products_missing['add_to_cart_order'] = df_order_products_missing['add_to_cart_order'].fillna('MISSING')\n",
    "\n",
    "mask1 = df_order_products_missing['add_to_cart_order'] != \"MISSING\"\n",
    "mask2 = df_order_products_missing['add_to_cart_order'] == \"MISSING\"\n",
    "print(\"*** DataFrame [Order products], column 'add_to_cart_order', number of explicit duplicate values ​​without missing values: \\n\")\n",
    "print(f\"Duplicates (No missing values): {df_order_products_missing.loc[mask1, 'add_to_cart_order'].duplicated().sum()}\")\n",
    "print('*' * 50, '\\n')\n",
    "print(\"*** DataFrame [Order products], column 'add_to_cart_order', number of explicit duplicate values ​​with missing values: \\n\")\n",
    "print(f\"Duplicates (With missing values): {df_order_products_missing.loc[mask2, 'add_to_cart_order'].duplicated().sum()}\")\n",
    "print('*' * 50, '\\n')"
   ]
  },
  {
   "cell_type": "markdown",
   "id": "0b890492",
   "metadata": {
    "id": "0b890492"
   },
   "source": [
    "Briefly describe your findings and what you did with them.\n",
    "###### _LSPL_\n",
    "The order_products DataFrame has explicit, non-absent duplicate values ​​in the 'add_to_cart_order' column and several missing values ​​in the 'add_to_cart_order' column. Duplicate values ​​are expected for the 'add_to_cart_order' and 'reorder_id' columns, since each order in these two columns can have repeating values. These values ​​represent the order order of each product and whether or not it has been reordered, with unique values ​​('0' or '1'). These values ​​will not be removed, since they are only explicit duplicate values ​​in the 'add_to_cart_order' column. Missing values ​​will be processed later."
   ]
  },
  {
   "cell_type": "markdown",
   "id": "1e46de76",
   "metadata": {
    "id": "1e46de76"
   },
   "source": [
    "## Find and remove missing values\n",
    "\n",
    "When working with duplicate values, we noticed that we also need to investigate missing values:\n",
    "\n",
    "* The `'product_name'` column in the products table.\n",
    "* The `'days_since_prior_order'` column in the orders table.\n",
    "* The `'add_to_cart_order'` column in the order_productos table."
   ]
  },
  {
   "cell_type": "markdown",
   "id": "2eb698ac",
   "metadata": {},
   "source": [
    "##### __Note__\n",
    "###### _LSPL_\n",
    "Since _df = pd.read_csv('path', sep=';', header='infer', `keep_default_na=False`)_ is used, the _NA_ values ​​that are detected by default by pandas are kept as the original text within the DataFrame, so that they can later be processed as `pd.NA`. Since `pd.NA` handles mixed data types and common operations for identifying and eliminating null values, it also works with strings, integers, and booleans."
   ]
  },
  {
   "cell_type": "code",
   "execution_count": 26,
   "id": "ae4a5645",
   "metadata": {},
   "outputs": [
    {
     "name": "stdout",
     "output_type": "stream",
     "text": [
      "*** DataFrame [Aisles], missing values ​​per column: \n",
      "\n",
      "Columna: aisle_id\n",
      "Unique values: [  1   2   3   4   5   6   7   8   9  10  11  12  13  14  15  16  17  18\n",
      "  19  20  21  22  23  24  25  26  27  28  29  30  31  32  33  34  35  36\n",
      "  37  38  39  40  41  42  43  44  45  46  47  48  49  50  51  52  53  54\n",
      "  55  56  57  58  59  60  61  62  63  64  65  66  67  68  69  70  71  72\n",
      "  73  74  75  76  77  78  79  80  81  82  83  84  85  86  87  88  89  90\n",
      "  91  92  93  94  95  96  97  98  99 100 101 102 103 104 105 106 107 108\n",
      " 109 110 111 112 113 114 115 116 117 118 119 120 121 122 123 124 125 126\n",
      " 127 128 129 130 131 132 133 134] Total unique values: 134\n",
      "-------------------------------------------------- \n",
      "\n",
      "Columna: aisle\n",
      "Unique values: ['prepared soups salads' 'specialty cheeses' 'energy granola bars'\n",
      " 'instant foods' 'marinades meat preparation' 'other' 'packaged meat'\n",
      " 'bakery desserts' 'pasta sauce' 'kitchen supplies' 'cold flu allergy'\n",
      " 'fresh pasta' 'prepared meals' 'tofu meat alternatives'\n",
      " 'packaged seafood' 'fresh herbs' 'baking ingredients'\n",
      " 'bulk dried fruits vegetables' 'oils vinegars' 'oral hygiene'\n",
      " 'packaged cheese' 'hair care' 'popcorn jerky' 'fresh fruits' 'soap'\n",
      " 'coffee' 'beers coolers' 'red wines' 'honeys syrups nectars'\n",
      " 'latino foods' 'refrigerated' 'packaged produce' 'kosher foods'\n",
      " 'frozen meat seafood' 'poultry counter' 'butter' 'ice cream ice'\n",
      " 'frozen meals' 'seafood counter' 'dog food care' 'cat food care'\n",
      " 'frozen vegan vegetarian' 'buns rolls' 'eye ear care' 'candy chocolate'\n",
      " 'mint gum' 'vitamins supplements' 'breakfast bars pastries'\n",
      " 'packaged poultry' 'fruit vegetable snacks' 'preserved dips spreads'\n",
      " 'frozen breakfast' 'cream' 'paper goods' 'shave needs' 'diapers wipes'\n",
      " 'granola' 'frozen breads doughs' 'canned meals beans' 'trash bags liners'\n",
      " 'cookies cakes' 'white wines' 'grains rice dried goods'\n",
      " 'energy sports drinks' 'protein meal replacements' 'asian foods'\n",
      " 'fresh dips tapenades' 'bulk grains rice dried goods'\n",
      " 'soup broth bouillon' 'digestion' 'refrigerated pudding desserts'\n",
      " 'condiments' 'facial care' 'dish detergents' 'laundry' 'indian foods'\n",
      " 'soft drinks' 'crackers' 'frozen pizza' 'deodorants'\n",
      " 'canned jarred vegetables' 'baby accessories' 'fresh vegetables' 'milk'\n",
      " 'food storage' 'eggs' 'more household' 'spreads'\n",
      " 'salad dressing toppings' 'cocoa drink mixes' 'soy lactosefree'\n",
      " 'baby food formula' 'breakfast bakery' 'tea' 'canned meat seafood'\n",
      " 'lunch meat' 'baking supplies decor' 'juice nectars'\n",
      " 'canned fruit applesauce' 'missing' 'air fresheners candles'\n",
      " 'baby bath body care' 'ice cream toppings' 'spices seasonings'\n",
      " 'doughs gelatins bake mixes' 'hot dogs bacon sausage' 'chips pretzels'\n",
      " 'other creams cheeses' 'skin care' 'pickled goods olives'\n",
      " 'plates bowls cups flatware' 'bread' 'frozen juice' 'cleaning products'\n",
      " 'water seltzer sparkling water' 'frozen produce' 'nuts seeds dried fruit'\n",
      " 'first aid' 'frozen dessert' 'yogurt' 'cereal' 'meat counter'\n",
      " 'packaged vegetables fruits' 'spirits' 'trail mix snack mix'\n",
      " 'feminine care' 'body lotions soap' 'tortillas flat bread'\n",
      " 'frozen appetizers sides' 'hot cereal pancake mixes' 'dry pasta' 'beauty'\n",
      " 'muscles joints pain relief' 'specialty wines champagnes'] Total unique values: 134\n",
      "-------------------------------------------------- \n",
      "\n",
      "\n",
      "*** DataFrame [Departments], missing values ​​per column: \n",
      "\n",
      "Columna: department_id\n",
      "Unique values: [ 1  2  3  4  5  6  7  8  9 10 11 12 13 14 15 16 17 18 19 20 21] Total unique values: 21\n",
      "-------------------------------------------------- \n",
      "\n",
      "Columna: department\n",
      "Unique values: ['frozen' 'other' 'bakery' 'produce' 'alcohol' 'international' 'beverages'\n",
      " 'pets' 'dry goods pasta' 'bulk' 'personal care' 'meat seafood' 'pantry'\n",
      " 'breakfast' 'canned goods' 'dairy eggs' 'household' 'babies' 'snacks'\n",
      " 'deli' 'missing'] Total unique values: 21\n",
      "-------------------------------------------------- \n",
      "\n",
      "\n",
      "*** DataFrame [Instacart Orders], missing values ​​per column: \n",
      "\n",
      "Columna: order_id\n",
      "Unique values: [1515936 1690866 1454967 ...  885349  216274 2071924] Total unique values: 478952\n",
      "-------------------------------------------------- \n",
      "\n",
      "Columna: user_id\n",
      "Unique values: [183418 163593  39980 ...  29597 161396  34561] Total unique values: 157437\n",
      "-------------------------------------------------- \n",
      "\n",
      "Columna: order_number\n",
      "Unique values: [ 11   5   4  56   2  40  33  18  21  34  19   7  63  29   9  12  14  24\n",
      "   1  38   3  27   8  25   6  28  58  17  13  15  48  26  86  30  16  10\n",
      "  78  23  35  41  39  59  77  53  43  32  99  20  68  94  98  46  72  70\n",
      "  54  37  44  69  49  22  52  60  75  31  47  57  62  67  65  76  81  84\n",
      "  71  80  51  95  36  83  42  87  55  97  50  61  93  91  79  88  45  82\n",
      "  64  74  92  66  89  90 100  96  73  85] Total unique values: 100\n",
      "-------------------------------------------------- \n",
      "\n",
      "Columna: order_dow\n",
      "Unique values: [6 5 0 4 3 1 2] Total unique values: 7\n",
      "-------------------------------------------------- \n",
      "\n",
      "Columna: order_hour_of_day\n",
      "Unique values: [13 12 19 20 11  8 18 15 16  9 22 10  0 14 17  1  7  6  2 21  3 23  5  4] Total unique values: 24\n",
      "-------------------------------------------------- \n",
      "\n",
      "Columna: days_since_prior_order\n",
      "Unique values: ['30.0' '9.0' '2.0' '10.0' '17.0' '15.0' '22.0' '4.0' '8.0' '3.0' '12.0'\n",
      " '11.0' '7.0' '1.0' '5.0' '6.0' '14.0' '' '20.0' '16.0' '24.0' '23.0'\n",
      " '27.0' '13.0' '0.0' '28.0' '21.0' '25.0' '19.0' '18.0' '29.0' '26.0'] Total unique values: 32\n",
      "-------------------------------------------------- \n",
      "\n",
      "\n",
      "*** DataFrame [Order Products], missing values ​​per column: \n",
      "\n",
      "Columna: order_id\n",
      "Unique values: [2141543  567889 2261212 ...  812418 2666881 1461911] Total unique values: 450046\n",
      "-------------------------------------------------- \n",
      "\n",
      "Columna: product_id\n",
      "Unique values: [11440  1560 26683 ... 49153  8182 40024] Total unique values: 45573\n",
      "-------------------------------------------------- \n",
      "\n",
      "Columna: add_to_cart_order\n",
      "Unique values: ['17.0' '1.0' '35.0' '5.0' '4.0' '10.0' '14.0' '2.0' '28.0' '3.0' '16.0'\n",
      " '8.0' '7.0' '6.0' '9.0' '15.0' '22.0' '49.0' '19.0' '13.0' '11.0' '12.0'\n",
      " '18.0' '24.0' '23.0' '45.0' '30.0' '31.0' '29.0' '21.0' '38.0' '20.0'\n",
      " '57.0' '58.0' '26.0' '25.0' '39.0' '34.0' '40.0' '27.0' '' '43.0' '33.0'\n",
      " '42.0' '50.0' '32.0' '36.0' '37.0' '61.0' '46.0' '56.0' '41.0' '44.0'\n",
      " '55.0' '54.0' '47.0' '63.0' '48.0' '60.0' '62.0' '53.0' '59.0' '52.0'\n",
      " '51.0' '64.0'] Total unique values: 65\n",
      "-------------------------------------------------- \n",
      "\n",
      "Columna: reordered\n",
      "Unique values: [0 1] Total unique values: 2\n",
      "-------------------------------------------------- \n",
      "\n",
      "\n",
      "*** DataFrame [Products], missing values ​​per column: \n",
      "\n",
      "Columna: product_id\n",
      "Unique values: [    1     2     3 ... 49692 49693 49694] Total unique values: 49694\n",
      "-------------------------------------------------- \n",
      "\n",
      "Columna: product_name\n",
      "Unique values: ['Chocolate Sandwich Cookies' 'All-Seasons Salt'\n",
      " 'Robust Golden Unsweetened Oolong Tea' ...\n",
      " 'ORGANIC INSTANT OATMEAL LIGHT MAPLE BROWN SUGAR'\n",
      " 'SPRING WATER BODY WASH' 'BURRITO- STEAK & CHEESE'] Total unique values: 48437\n",
      "-------------------------------------------------- \n",
      "\n",
      "Columna: aisle_id\n",
      "Unique values: [ 61 104  94  38   5  11  98 116 120 115  31 119  74  56 103  35  79  63\n",
      "  40  20  49  47   3  41 127 121  81 123 107 131 106  69 100  64  78  83\n",
      "  58  66  87  14 105  22 134  23 111 128  50   9  96  92  89  88 130  26\n",
      "  77  65  12  95  19   7   6  97   2 112  10  51  13  75  70  93  34  62\n",
      "  21  29  45 118   4 108  37 109  91  24  67 132  25 129  46  16  52  17\n",
      "  73 122  42  59 126  33   1   8  82 114 124 117  72 110  85  44  80 101\n",
      "  84  30  27  90  48 133  53  28  68  43 125  57  15  55  36  54 102  60\n",
      "  99  18  39  71 113  86  32  76] Total unique values: 134\n",
      "-------------------------------------------------- \n",
      "\n",
      "Columna: department_id\n",
      "Unique values: [19 13  7  1 11 16 17 18 12  9  8 14 15  4 21  6 20  5  3  2 10] Total unique values: 21\n",
      "-------------------------------------------------- \n",
      "\n"
     ]
    }
   ],
   "source": [
    "# Display DataFrame information for possible null values ​​('', ' ', '-', 'N/A', 'NA', 'NaN', 'nan', 'NULL', 'null', 'None', None)\n",
    "\n",
    "print(\"*** DataFrame [Aisles], missing values ​​per column: \\n\")\n",
    "columns_unique_values(df_aisles)\n",
    "print()\n",
    "print(\"*** DataFrame [Departments], missing values ​​per column: \\n\")\n",
    "columns_unique_values(df_departments)\n",
    "print()\n",
    "print(\"*** DataFrame [Instacart Orders], missing values ​​per column: \\n\")\n",
    "columns_unique_values(df_instacart_orders)\n",
    "print()\n",
    "print(\"*** DataFrame [Order Products], missing values ​​per column: \\n\")\n",
    "columns_unique_values(df_order_products)\n",
    "print()\n",
    "print(\"*** DataFrame [Products], missing values ​​per column: \\n\")\n",
    "columns_unique_values(df_products)"
   ]
  },
  {
   "cell_type": "code",
   "execution_count": 27,
   "id": "d1955612",
   "metadata": {},
   "outputs": [
    {
     "name": "stdout",
     "output_type": "stream",
     "text": [
      "*** DataFrame [Aisle], number of missing values ​​<NA>: \n",
      " aisle_id    0\n",
      "aisle       0\n",
      "dtype: int64\n",
      "************************************************** \n",
      "\n",
      "DataFrame [Departments], number of missing values ​​<NA>: \n",
      " department_id    0\n",
      "department       0\n",
      "dtype: int64\n",
      "************************************************** \n",
      "\n",
      "Data Frame [Instacart orders], number of missing values ​​<NA>:\n",
      " order_id                      0\n",
      "user_id                       0\n",
      "order_number                  0\n",
      "order_dow                     0\n",
      "order_hour_of_day             0\n",
      "days_since_prior_order    28817\n",
      "dtype: int64\n",
      "************************************************** \n",
      "\n",
      "Data Frame [Order products], number of missing values ​​<NA>: \n",
      " order_id               0\n",
      "product_id             0\n",
      "add_to_cart_order    836\n",
      "reordered              0\n",
      "dtype: int64\n",
      "************************************************** \n",
      "\n",
      "Data Frame [Products], number of missing values ​​<NA>: \n",
      " product_id          0\n",
      "product_name     1258\n",
      "aisle_id            0\n",
      "department_id       0\n",
      "dtype: int64\n",
      "************************************************** \n",
      "\n",
      "\n",
      "\n",
      "\n",
      "*** Data Frame [Instacart Orders], missing values ​​properly identified as <NA>: \n",
      "\n",
      "Columna: order_id\n",
      "Unique values: [1515936 1690866 1454967 ...  885349  216274 2071924] Total unique values: 478952\n",
      "-------------------------------------------------- \n",
      "\n",
      "Columna: user_id\n",
      "Unique values: [183418 163593  39980 ...  29597 161396  34561] Total unique values: 157437\n",
      "-------------------------------------------------- \n",
      "\n",
      "Columna: order_number\n",
      "Unique values: [ 11   5   4  56   2  40  33  18  21  34  19   7  63  29   9  12  14  24\n",
      "   1  38   3  27   8  25   6  28  58  17  13  15  48  26  86  30  16  10\n",
      "  78  23  35  41  39  59  77  53  43  32  99  20  68  94  98  46  72  70\n",
      "  54  37  44  69  49  22  52  60  75  31  47  57  62  67  65  76  81  84\n",
      "  71  80  51  95  36  83  42  87  55  97  50  61  93  91  79  88  45  82\n",
      "  64  74  92  66  89  90 100  96  73  85] Total unique values: 100\n",
      "-------------------------------------------------- \n",
      "\n",
      "Columna: order_dow\n",
      "Unique values: [6 5 0 4 3 1 2] Total unique values: 7\n",
      "-------------------------------------------------- \n",
      "\n",
      "Columna: order_hour_of_day\n",
      "Unique values: [13 12 19 20 11  8 18 15 16  9 22 10  0 14 17  1  7  6  2 21  3 23  5  4] Total unique values: 24\n",
      "-------------------------------------------------- \n",
      "\n",
      "Columna: days_since_prior_order\n",
      "Unique values: ['30.0' '9.0' '2.0' '10.0' '17.0' '15.0' '22.0' '4.0' '8.0' '3.0' '12.0'\n",
      " '11.0' '7.0' '1.0' '5.0' '6.0' '14.0' <NA> '20.0' '16.0' '24.0' '23.0'\n",
      " '27.0' '13.0' '0.0' '28.0' '21.0' '25.0' '19.0' '18.0' '29.0' '26.0'] Total unique values: 31\n",
      "-------------------------------------------------- \n",
      "\n",
      "Data Frame [Instacart orders], number of missing values: \n",
      " order_id                      0\n",
      "user_id                       0\n",
      "order_number                  0\n",
      "order_dow                     0\n",
      "order_hour_of_day             0\n",
      "days_since_prior_order    28817\n",
      "dtype: int64\n",
      "************************************************** \n",
      "\n",
      "\n",
      "*** DataFrame [Order Products], missing values ​​properly identified as <NA>: \n",
      "\n",
      "Columna: order_id\n",
      "Unique values: [2141543  567889 2261212 ...  812418 2666881 1461911] Total unique values: 450046\n",
      "-------------------------------------------------- \n",
      "\n",
      "Columna: product_id\n",
      "Unique values: [11440  1560 26683 ... 49153  8182 40024] Total unique values: 45573\n",
      "-------------------------------------------------- \n",
      "\n",
      "Columna: add_to_cart_order\n",
      "Unique values: ['17.0' '1.0' '35.0' '5.0' '4.0' '10.0' '14.0' '2.0' '28.0' '3.0' '16.0'\n",
      " '8.0' '7.0' '6.0' '9.0' '15.0' '22.0' '49.0' '19.0' '13.0' '11.0' '12.0'\n",
      " '18.0' '24.0' '23.0' '45.0' '30.0' '31.0' '29.0' '21.0' '38.0' '20.0'\n",
      " '57.0' '58.0' '26.0' '25.0' '39.0' '34.0' '40.0' '27.0' <NA> '43.0'\n",
      " '33.0' '42.0' '50.0' '32.0' '36.0' '37.0' '61.0' '46.0' '56.0' '41.0'\n",
      " '44.0' '55.0' '54.0' '47.0' '63.0' '48.0' '60.0' '62.0' '53.0' '59.0'\n",
      " '52.0' '51.0' '64.0'] Total unique values: 64\n",
      "-------------------------------------------------- \n",
      "\n",
      "Columna: reordered\n",
      "Unique values: [0 1] Total unique values: 2\n",
      "-------------------------------------------------- \n",
      "\n",
      "\n",
      "Data Frame [Order Products], number of missing values: \n",
      " order_id               0\n",
      "product_id             0\n",
      "add_to_cart_order    836\n",
      "reordered              0\n",
      "dtype: int64\n",
      "************************************************** \n",
      "\n",
      "\n",
      "*** DataFrame [Products], missing values ​​properly identified as <NA>:: \n",
      "\n",
      "Columna: product_id\n",
      "Unique values: [    1     2     3 ... 49692 49693 49694] Total unique values: 49694\n",
      "-------------------------------------------------- \n",
      "\n",
      "Columna: product_name\n",
      "Unique values: ['Chocolate Sandwich Cookies' 'All-Seasons Salt'\n",
      " 'Robust Golden Unsweetened Oolong Tea' ...\n",
      " 'ORGANIC INSTANT OATMEAL LIGHT MAPLE BROWN SUGAR'\n",
      " 'SPRING WATER BODY WASH' 'BURRITO- STEAK & CHEESE'] Total unique values: 48436\n",
      "-------------------------------------------------- \n",
      "\n",
      "Columna: aisle_id\n",
      "Unique values: [ 61 104  94  38   5  11  98 116 120 115  31 119  74  56 103  35  79  63\n",
      "  40  20  49  47   3  41 127 121  81 123 107 131 106  69 100  64  78  83\n",
      "  58  66  87  14 105  22 134  23 111 128  50   9  96  92  89  88 130  26\n",
      "  77  65  12  95  19   7   6  97   2 112  10  51  13  75  70  93  34  62\n",
      "  21  29  45 118   4 108  37 109  91  24  67 132  25 129  46  16  52  17\n",
      "  73 122  42  59 126  33   1   8  82 114 124 117  72 110  85  44  80 101\n",
      "  84  30  27  90  48 133  53  28  68  43 125  57  15  55  36  54 102  60\n",
      "  99  18  39  71 113  86  32  76] Total unique values: 134\n",
      "-------------------------------------------------- \n",
      "\n",
      "Columna: department_id\n",
      "Unique values: [19 13  7  1 11 16 17 18 12  9  8 14 15  4 21  6 20  5  3  2 10] Total unique values: 21\n",
      "-------------------------------------------------- \n",
      "\n",
      "DataFrame [Products], number of missing values: \n",
      " product_id          0\n",
      "product_name     1258\n",
      "aisle_id            0\n",
      "department_id       0\n",
      "dtype: int64\n",
      "************************************************** \n",
      "\n"
     ]
    }
   ],
   "source": [
    "# Identifying and Correcting Null Values ​​in pd.NA\n",
    "\n",
    "# Call the 'def null_value_apply(df)' function to replace missing values ​​with pd.NA.\n",
    "null_value_apply(df_aisles)\n",
    "null_value_apply(df_departments)\n",
    "null_value_apply(df_instacart_orders)\n",
    "null_value_apply(df_order_products)\n",
    "null_value_apply(df_products)\n",
    "\n",
    "# Display the number of missing values ​​in pd:NA format\n",
    "print(\"*** DataFrame [Aisle], number of missing values ​​<NA>: \\n\", df_aisles.isna().sum())\n",
    "print('*' * 50, '\\n')\n",
    "print(\"DataFrame [Departments], number of missing values ​​<NA>: \\n\", df_departments.isna().sum())\n",
    "print('*' * 50, '\\n')\n",
    "print(\"Data Frame [Instacart orders], number of missing values ​​<NA>:\\n\", df_instacart_orders.isna().sum())\n",
    "print('*' * 50, '\\n')\n",
    "print(\"Data Frame [Order products], number of missing values ​​<NA>: \\n\", df_order_products.isna().sum())\n",
    "print('*' * 50, '\\n')\n",
    "print(\"Data Frame [Products], number of missing values ​​<NA>: \\n\", df_products.isna().sum())\n",
    "print('*' * 50, '\\n')\n",
    "print(\"\\n\\n\")\n",
    "\n",
    "print(\"*** Data Frame [Instacart Orders], missing values ​​properly identified as <NA>: \\n\")\n",
    "#Call the function 'def columns_unique_values(df)' to display the unique values ​​of the DataFrame columns\n",
    "columns_unique_values(df_instacart_orders)\n",
    "print(\"Data Frame [Instacart orders], number of missing values: \\n\", df_instacart_orders. isna(). sum())\n",
    "print('*' * 50, '\\n')\n",
    "print()\n",
    "\n",
    "print(\"*** DataFrame [Order Products], missing values ​​properly identified as <NA>: \\n\")\n",
    "# Call the 'def columns_unique_values(df)' function to display the unique values ​​of the DataFrame columns\n",
    "columns_unique_values(df_order_products)\n",
    "print()\n",
    "print(\"Data Frame [Order Products], number of missing values: \\n\", df_order_products. isna(). sum())\n",
    "print('*' * 50, '\\n')\n",
    "print()\n",
    "\n",
    "print(\"*** DataFrame [Products], missing values ​​properly identified as <NA>:: \\n\")\n",
    "# Call the 'def columns_unique_values(df)' function to display the unique values ​​of the DataFrame columns.\n",
    "columns_unique_values(df_products)\n",
    "print(\"DataFrame [Products], number of missing values: \\n\", df_products.isna().sum())\n",
    "print('*' * 50, '\\n')\n"
   ]
  },
  {
   "cell_type": "markdown",
   "id": "5aa2ee9b",
   "metadata": {},
   "source": [
    "##### __Note__\n",
    "###### _LSPL_\n",
    "Missing values ​​in:\n",
    "\n",
    "Data Frame [Instacart orders], column 'days_since_prior_order'\n",
    "\n",
    "Data Frame [Order products], column 'add_to_cart_order'\n",
    "\n",
    "Data Frame [Products], column 'product_name'\n"
   ]
  },
  {
   "cell_type": "markdown",
   "id": "c0aebd78",
   "metadata": {
    "id": "c0aebd78"
   },
   "source": [
    "### `products` data frame"
   ]
  },
  {
   "cell_type": "code",
   "execution_count": 28,
   "id": "fe4a8b0f",
   "metadata": {
    "id": "fe4a8b0f"
   },
   "outputs": [
    {
     "name": "stdout",
     "output_type": "stream",
     "text": [
      "*** DataFrame [Products], column 'product_name', missing values ​​duly identified as <NA>: \n",
      "product_name\n",
      "<NA>                                                                 1258\n",
      "Smart Ones Classic Favorites Mini Rigatoni With Vodka Cream Sauce       1\n",
      "Green Chile Anytime Sauce                                               1\n",
      "Porto                                                                   1\n",
      "Small & Medium Dental Dog Treats                                        1\n",
      "                                                                     ... \n",
      "HIGH PERFORMANCE ENERGY DRINK                                           1\n",
      "ORIGINAL PANCAKE & WAFFLE MIX                                           1\n",
      "ORGANIC INSTANT OATMEAL LIGHT MAPLE BROWN SUGAR                         1\n",
      "SPRING WATER BODY WASH                                                  1\n",
      "Robust Golden Unsweetened Oolong Tea                                    1\n",
      "Name: count, Length: 48437, dtype: int64\n",
      "\n"
     ]
    },
    {
     "data": {
      "text/html": [
       "<style type=\"text/css\">\n",
       "#T_5ce3f_row0_col0, #T_5ce3f_row0_col1, #T_5ce3f_row0_col2, #T_5ce3f_row0_col3, #T_5ce3f_row1_col0, #T_5ce3f_row1_col1, #T_5ce3f_row1_col2, #T_5ce3f_row1_col3, #T_5ce3f_row2_col0, #T_5ce3f_row2_col1, #T_5ce3f_row2_col2, #T_5ce3f_row2_col3, #T_5ce3f_row5_col0, #T_5ce3f_row5_col1, #T_5ce3f_row5_col2, #T_5ce3f_row5_col3, #T_5ce3f_row6_col0, #T_5ce3f_row6_col1, #T_5ce3f_row6_col2, #T_5ce3f_row6_col3, #T_5ce3f_row7_col0, #T_5ce3f_row7_col1, #T_5ce3f_row7_col2, #T_5ce3f_row7_col3, #T_5ce3f_row8_col0, #T_5ce3f_row8_col1, #T_5ce3f_row8_col2, #T_5ce3f_row8_col3, #T_5ce3f_row9_col0, #T_5ce3f_row9_col1, #T_5ce3f_row9_col2, #T_5ce3f_row9_col3, #T_5ce3f_row10_col0, #T_5ce3f_row10_col1, #T_5ce3f_row10_col2, #T_5ce3f_row10_col3, #T_5ce3f_row11_col0, #T_5ce3f_row11_col1, #T_5ce3f_row11_col2, #T_5ce3f_row11_col3, #T_5ce3f_row13_col0, #T_5ce3f_row13_col1, #T_5ce3f_row13_col2, #T_5ce3f_row13_col3, #T_5ce3f_row17_col0, #T_5ce3f_row17_col1, #T_5ce3f_row17_col2, #T_5ce3f_row17_col3, #T_5ce3f_row19_col0, #T_5ce3f_row19_col1, #T_5ce3f_row19_col2, #T_5ce3f_row19_col3, #T_5ce3f_row21_col0, #T_5ce3f_row21_col1, #T_5ce3f_row21_col2, #T_5ce3f_row21_col3, #T_5ce3f_row22_col0, #T_5ce3f_row22_col1, #T_5ce3f_row22_col2, #T_5ce3f_row22_col3, #T_5ce3f_row23_col0, #T_5ce3f_row23_col1, #T_5ce3f_row23_col2, #T_5ce3f_row23_col3 {\n",
       "  background-color: #808080;\n",
       "}\n",
       "#T_5ce3f_row3_col0, #T_5ce3f_row3_col1, #T_5ce3f_row3_col2, #T_5ce3f_row3_col3, #T_5ce3f_row4_col0, #T_5ce3f_row4_col1, #T_5ce3f_row4_col2, #T_5ce3f_row4_col3, #T_5ce3f_row12_col0, #T_5ce3f_row12_col1, #T_5ce3f_row12_col2, #T_5ce3f_row12_col3, #T_5ce3f_row14_col0, #T_5ce3f_row14_col1, #T_5ce3f_row14_col2, #T_5ce3f_row14_col3, #T_5ce3f_row15_col0, #T_5ce3f_row15_col1, #T_5ce3f_row15_col2, #T_5ce3f_row15_col3, #T_5ce3f_row16_col0, #T_5ce3f_row16_col1, #T_5ce3f_row16_col2, #T_5ce3f_row16_col3, #T_5ce3f_row18_col0, #T_5ce3f_row18_col1, #T_5ce3f_row18_col2, #T_5ce3f_row18_col3, #T_5ce3f_row20_col0, #T_5ce3f_row20_col1, #T_5ce3f_row20_col2, #T_5ce3f_row20_col3, #T_5ce3f_row24_col0, #T_5ce3f_row24_col1, #T_5ce3f_row24_col2, #T_5ce3f_row24_col3 {\n",
       "  background-color: #595959;\n",
       "}\n",
       "</style>\n",
       "<table id=\"T_5ce3f\">\n",
       "  <thead>\n",
       "    <tr>\n",
       "      <th class=\"blank level0\" >&nbsp;</th>\n",
       "      <th id=\"T_5ce3f_level0_col0\" class=\"col_heading level0 col0\" >product_id</th>\n",
       "      <th id=\"T_5ce3f_level0_col1\" class=\"col_heading level0 col1\" >product_name</th>\n",
       "      <th id=\"T_5ce3f_level0_col2\" class=\"col_heading level0 col2\" >aisle_id</th>\n",
       "      <th id=\"T_5ce3f_level0_col3\" class=\"col_heading level0 col3\" >department_id</th>\n",
       "    </tr>\n",
       "  </thead>\n",
       "  <tbody>\n",
       "    <tr>\n",
       "      <th id=\"T_5ce3f_level0_row0\" class=\"row_heading level0 row0\" >890</th>\n",
       "      <td id=\"T_5ce3f_row0_col0\" class=\"data row0 col0\" >891</td>\n",
       "      <td id=\"T_5ce3f_row0_col1\" class=\"data row0 col1\" ><NA></td>\n",
       "      <td id=\"T_5ce3f_row0_col2\" class=\"data row0 col2\" >100</td>\n",
       "      <td id=\"T_5ce3f_row0_col3\" class=\"data row0 col3\" >21</td>\n",
       "    </tr>\n",
       "    <tr>\n",
       "      <th id=\"T_5ce3f_level0_row1\" class=\"row_heading level0 row1\" >47388</th>\n",
       "      <td id=\"T_5ce3f_row1_col0\" class=\"data row1 col0\" >47389</td>\n",
       "      <td id=\"T_5ce3f_row1_col1\" class=\"data row1 col1\" ><NA></td>\n",
       "      <td id=\"T_5ce3f_row1_col2\" class=\"data row1 col2\" >100</td>\n",
       "      <td id=\"T_5ce3f_row1_col3\" class=\"data row1 col3\" >21</td>\n",
       "    </tr>\n",
       "    <tr>\n",
       "      <th id=\"T_5ce3f_level0_row2\" class=\"row_heading level0 row2\" >23854</th>\n",
       "      <td id=\"T_5ce3f_row2_col0\" class=\"data row2 col0\" >23855</td>\n",
       "      <td id=\"T_5ce3f_row2_col1\" class=\"data row2 col1\" ><NA></td>\n",
       "      <td id=\"T_5ce3f_row2_col2\" class=\"data row2 col2\" >100</td>\n",
       "      <td id=\"T_5ce3f_row2_col3\" class=\"data row2 col3\" >21</td>\n",
       "    </tr>\n",
       "    <tr>\n",
       "      <th id=\"T_5ce3f_level0_row3\" class=\"row_heading level0 row3\" >25927</th>\n",
       "      <td id=\"T_5ce3f_row3_col0\" class=\"data row3 col0\" >25928</td>\n",
       "      <td id=\"T_5ce3f_row3_col1\" class=\"data row3 col1\" ><NA></td>\n",
       "      <td id=\"T_5ce3f_row3_col2\" class=\"data row3 col2\" >100</td>\n",
       "      <td id=\"T_5ce3f_row3_col3\" class=\"data row3 col3\" >21</td>\n",
       "    </tr>\n",
       "    <tr>\n",
       "      <th id=\"T_5ce3f_level0_row4\" class=\"row_heading level0 row4\" >26227</th>\n",
       "      <td id=\"T_5ce3f_row4_col0\" class=\"data row4 col0\" >26228</td>\n",
       "      <td id=\"T_5ce3f_row4_col1\" class=\"data row4 col1\" ><NA></td>\n",
       "      <td id=\"T_5ce3f_row4_col2\" class=\"data row4 col2\" >100</td>\n",
       "      <td id=\"T_5ce3f_row4_col3\" class=\"data row4 col3\" >21</td>\n",
       "    </tr>\n",
       "    <tr>\n",
       "      <th id=\"T_5ce3f_level0_row5\" class=\"row_heading level0 row5\" >17672</th>\n",
       "      <td id=\"T_5ce3f_row5_col0\" class=\"data row5 col0\" >17673</td>\n",
       "      <td id=\"T_5ce3f_row5_col1\" class=\"data row5 col1\" ><NA></td>\n",
       "      <td id=\"T_5ce3f_row5_col2\" class=\"data row5 col2\" >100</td>\n",
       "      <td id=\"T_5ce3f_row5_col3\" class=\"data row5 col3\" >21</td>\n",
       "    </tr>\n",
       "    <tr>\n",
       "      <th id=\"T_5ce3f_level0_row6\" class=\"row_heading level0 row6\" >10270</th>\n",
       "      <td id=\"T_5ce3f_row6_col0\" class=\"data row6 col0\" >10271</td>\n",
       "      <td id=\"T_5ce3f_row6_col1\" class=\"data row6 col1\" ><NA></td>\n",
       "      <td id=\"T_5ce3f_row6_col2\" class=\"data row6 col2\" >100</td>\n",
       "      <td id=\"T_5ce3f_row6_col3\" class=\"data row6 col3\" >21</td>\n",
       "    </tr>\n",
       "    <tr>\n",
       "      <th id=\"T_5ce3f_level0_row7\" class=\"row_heading level0 row7\" >24408</th>\n",
       "      <td id=\"T_5ce3f_row7_col0\" class=\"data row7 col0\" >24409</td>\n",
       "      <td id=\"T_5ce3f_row7_col1\" class=\"data row7 col1\" ><NA></td>\n",
       "      <td id=\"T_5ce3f_row7_col2\" class=\"data row7 col2\" >100</td>\n",
       "      <td id=\"T_5ce3f_row7_col3\" class=\"data row7 col3\" >21</td>\n",
       "    </tr>\n",
       "    <tr>\n",
       "      <th id=\"T_5ce3f_level0_row8\" class=\"row_heading level0 row8\" >30342</th>\n",
       "      <td id=\"T_5ce3f_row8_col0\" class=\"data row8 col0\" >30343</td>\n",
       "      <td id=\"T_5ce3f_row8_col1\" class=\"data row8 col1\" ><NA></td>\n",
       "      <td id=\"T_5ce3f_row8_col2\" class=\"data row8 col2\" >100</td>\n",
       "      <td id=\"T_5ce3f_row8_col3\" class=\"data row8 col3\" >21</td>\n",
       "    </tr>\n",
       "    <tr>\n",
       "      <th id=\"T_5ce3f_level0_row9\" class=\"row_heading level0 row9\" >16272</th>\n",
       "      <td id=\"T_5ce3f_row9_col0\" class=\"data row9 col0\" >16273</td>\n",
       "      <td id=\"T_5ce3f_row9_col1\" class=\"data row9 col1\" ><NA></td>\n",
       "      <td id=\"T_5ce3f_row9_col2\" class=\"data row9 col2\" >100</td>\n",
       "      <td id=\"T_5ce3f_row9_col3\" class=\"data row9 col3\" >21</td>\n",
       "    </tr>\n",
       "    <tr>\n",
       "      <th id=\"T_5ce3f_level0_row10\" class=\"row_heading level0 row10\" >39738</th>\n",
       "      <td id=\"T_5ce3f_row10_col0\" class=\"data row10 col0\" >39739</td>\n",
       "      <td id=\"T_5ce3f_row10_col1\" class=\"data row10 col1\" ><NA></td>\n",
       "      <td id=\"T_5ce3f_row10_col2\" class=\"data row10 col2\" >100</td>\n",
       "      <td id=\"T_5ce3f_row10_col3\" class=\"data row10 col3\" >21</td>\n",
       "    </tr>\n",
       "    <tr>\n",
       "      <th id=\"T_5ce3f_level0_row11\" class=\"row_heading level0 row11\" >34884</th>\n",
       "      <td id=\"T_5ce3f_row11_col0\" class=\"data row11 col0\" >34885</td>\n",
       "      <td id=\"T_5ce3f_row11_col1\" class=\"data row11 col1\" ><NA></td>\n",
       "      <td id=\"T_5ce3f_row11_col2\" class=\"data row11 col2\" >100</td>\n",
       "      <td id=\"T_5ce3f_row11_col3\" class=\"data row11 col3\" >21</td>\n",
       "    </tr>\n",
       "    <tr>\n",
       "      <th id=\"T_5ce3f_level0_row12\" class=\"row_heading level0 row12\" >23993</th>\n",
       "      <td id=\"T_5ce3f_row12_col0\" class=\"data row12 col0\" >23994</td>\n",
       "      <td id=\"T_5ce3f_row12_col1\" class=\"data row12 col1\" ><NA></td>\n",
       "      <td id=\"T_5ce3f_row12_col2\" class=\"data row12 col2\" >100</td>\n",
       "      <td id=\"T_5ce3f_row12_col3\" class=\"data row12 col3\" >21</td>\n",
       "    </tr>\n",
       "    <tr>\n",
       "      <th id=\"T_5ce3f_level0_row13\" class=\"row_heading level0 row13\" >10562</th>\n",
       "      <td id=\"T_5ce3f_row13_col0\" class=\"data row13 col0\" >10563</td>\n",
       "      <td id=\"T_5ce3f_row13_col1\" class=\"data row13 col1\" ><NA></td>\n",
       "      <td id=\"T_5ce3f_row13_col2\" class=\"data row13 col2\" >100</td>\n",
       "      <td id=\"T_5ce3f_row13_col3\" class=\"data row13 col3\" >21</td>\n",
       "    </tr>\n",
       "    <tr>\n",
       "      <th id=\"T_5ce3f_level0_row14\" class=\"row_heading level0 row14\" >31815</th>\n",
       "      <td id=\"T_5ce3f_row14_col0\" class=\"data row14 col0\" >31816</td>\n",
       "      <td id=\"T_5ce3f_row14_col1\" class=\"data row14 col1\" ><NA></td>\n",
       "      <td id=\"T_5ce3f_row14_col2\" class=\"data row14 col2\" >100</td>\n",
       "      <td id=\"T_5ce3f_row14_col3\" class=\"data row14 col3\" >21</td>\n",
       "    </tr>\n",
       "    <tr>\n",
       "      <th id=\"T_5ce3f_level0_row15\" class=\"row_heading level0 row15\" >21605</th>\n",
       "      <td id=\"T_5ce3f_row15_col0\" class=\"data row15 col0\" >21606</td>\n",
       "      <td id=\"T_5ce3f_row15_col1\" class=\"data row15 col1\" ><NA></td>\n",
       "      <td id=\"T_5ce3f_row15_col2\" class=\"data row15 col2\" >100</td>\n",
       "      <td id=\"T_5ce3f_row15_col3\" class=\"data row15 col3\" >21</td>\n",
       "    </tr>\n",
       "    <tr>\n",
       "      <th id=\"T_5ce3f_level0_row16\" class=\"row_heading level0 row16\" >33441</th>\n",
       "      <td id=\"T_5ce3f_row16_col0\" class=\"data row16 col0\" >33442</td>\n",
       "      <td id=\"T_5ce3f_row16_col1\" class=\"data row16 col1\" ><NA></td>\n",
       "      <td id=\"T_5ce3f_row16_col2\" class=\"data row16 col2\" >100</td>\n",
       "      <td id=\"T_5ce3f_row16_col3\" class=\"data row16 col3\" >21</td>\n",
       "    </tr>\n",
       "    <tr>\n",
       "      <th id=\"T_5ce3f_level0_row17\" class=\"row_heading level0 row17\" >9246</th>\n",
       "      <td id=\"T_5ce3f_row17_col0\" class=\"data row17 col0\" >9247</td>\n",
       "      <td id=\"T_5ce3f_row17_col1\" class=\"data row17 col1\" ><NA></td>\n",
       "      <td id=\"T_5ce3f_row17_col2\" class=\"data row17 col2\" >100</td>\n",
       "      <td id=\"T_5ce3f_row17_col3\" class=\"data row17 col3\" >21</td>\n",
       "    </tr>\n",
       "    <tr>\n",
       "      <th id=\"T_5ce3f_level0_row18\" class=\"row_heading level0 row18\" >6429</th>\n",
       "      <td id=\"T_5ce3f_row18_col0\" class=\"data row18 col0\" >6430</td>\n",
       "      <td id=\"T_5ce3f_row18_col1\" class=\"data row18 col1\" ><NA></td>\n",
       "      <td id=\"T_5ce3f_row18_col2\" class=\"data row18 col2\" >100</td>\n",
       "      <td id=\"T_5ce3f_row18_col3\" class=\"data row18 col3\" >21</td>\n",
       "    </tr>\n",
       "    <tr>\n",
       "      <th id=\"T_5ce3f_level0_row19\" class=\"row_heading level0 row19\" >47322</th>\n",
       "      <td id=\"T_5ce3f_row19_col0\" class=\"data row19 col0\" >47323</td>\n",
       "      <td id=\"T_5ce3f_row19_col1\" class=\"data row19 col1\" ><NA></td>\n",
       "      <td id=\"T_5ce3f_row19_col2\" class=\"data row19 col2\" >100</td>\n",
       "      <td id=\"T_5ce3f_row19_col3\" class=\"data row19 col3\" >21</td>\n",
       "    </tr>\n",
       "    <tr>\n",
       "      <th id=\"T_5ce3f_level0_row20\" class=\"row_heading level0 row20\" >28787</th>\n",
       "      <td id=\"T_5ce3f_row20_col0\" class=\"data row20 col0\" >28788</td>\n",
       "      <td id=\"T_5ce3f_row20_col1\" class=\"data row20 col1\" ><NA></td>\n",
       "      <td id=\"T_5ce3f_row20_col2\" class=\"data row20 col2\" >100</td>\n",
       "      <td id=\"T_5ce3f_row20_col3\" class=\"data row20 col3\" >21</td>\n",
       "    </tr>\n",
       "    <tr>\n",
       "      <th id=\"T_5ce3f_level0_row21\" class=\"row_heading level0 row21\" >36750</th>\n",
       "      <td id=\"T_5ce3f_row21_col0\" class=\"data row21 col0\" >36751</td>\n",
       "      <td id=\"T_5ce3f_row21_col1\" class=\"data row21 col1\" ><NA></td>\n",
       "      <td id=\"T_5ce3f_row21_col2\" class=\"data row21 col2\" >100</td>\n",
       "      <td id=\"T_5ce3f_row21_col3\" class=\"data row21 col3\" >21</td>\n",
       "    </tr>\n",
       "    <tr>\n",
       "      <th id=\"T_5ce3f_level0_row22\" class=\"row_heading level0 row22\" >33264</th>\n",
       "      <td id=\"T_5ce3f_row22_col0\" class=\"data row22 col0\" >33265</td>\n",
       "      <td id=\"T_5ce3f_row22_col1\" class=\"data row22 col1\" ><NA></td>\n",
       "      <td id=\"T_5ce3f_row22_col2\" class=\"data row22 col2\" >100</td>\n",
       "      <td id=\"T_5ce3f_row22_col3\" class=\"data row22 col3\" >21</td>\n",
       "    </tr>\n",
       "    <tr>\n",
       "      <th id=\"T_5ce3f_level0_row23\" class=\"row_heading level0 row23\" >5936</th>\n",
       "      <td id=\"T_5ce3f_row23_col0\" class=\"data row23 col0\" >5937</td>\n",
       "      <td id=\"T_5ce3f_row23_col1\" class=\"data row23 col1\" ><NA></td>\n",
       "      <td id=\"T_5ce3f_row23_col2\" class=\"data row23 col2\" >100</td>\n",
       "      <td id=\"T_5ce3f_row23_col3\" class=\"data row23 col3\" >21</td>\n",
       "    </tr>\n",
       "    <tr>\n",
       "      <th id=\"T_5ce3f_level0_row24\" class=\"row_heading level0 row24\" >10689</th>\n",
       "      <td id=\"T_5ce3f_row24_col0\" class=\"data row24 col0\" >10690</td>\n",
       "      <td id=\"T_5ce3f_row24_col1\" class=\"data row24 col1\" ><NA></td>\n",
       "      <td id=\"T_5ce3f_row24_col2\" class=\"data row24 col2\" >100</td>\n",
       "      <td id=\"T_5ce3f_row24_col3\" class=\"data row24 col3\" >21</td>\n",
       "    </tr>\n",
       "  </tbody>\n",
       "</table>\n"
      ],
      "text/plain": [
       "<pandas.io.formats.style.Styler at 0x2a3c24f7e50>"
      ]
     },
     "metadata": {},
     "output_type": "display_data"
    }
   ],
   "source": [
    "# Find missing values ​​in column 'product_name'\n",
    "print(\"*** DataFrame [Products], column 'product_name', missing values ​​duly identified as <NA>: \")\n",
    "print(df_products['product_name'].value_counts(dropna=False))\n",
    "print()\n",
    "df_view = df_products.loc[df_products['product_name'].isna(), :]\n",
    "display(df_view.sample(25).style.apply(zebra_rows, axis=1))"
   ]
  },
  {
   "cell_type": "markdown",
   "id": "-A6x1AbJhjkp",
   "metadata": {
    "id": "-A6x1AbJhjkp"
   },
   "source": [
    "Briefly describe your findings.\n",
    "###### _LSPL_\n",
    "Based on the search for missing values ​​and the sampling of rows with missing values ​​in the DataFrame [Products], column 'product_name', we confirmed that there are 1258 missing values."
   ]
  },
  {
   "cell_type": "code",
   "execution_count": 30,
   "id": "e96167bc",
   "metadata": {
    "id": "e96167bc"
   },
   "outputs": [
    {
     "name": "stdout",
     "output_type": "stream",
     "text": [
      "There are no rows with null values ​​in column 'aisle_id' other than 100\n"
     ]
    }
   ],
   "source": [
    "# Are all missing product names related to aisle ID 100?\n",
    "df_view = df_products.loc[(df_products['product_name'].isna()) & (df_products['aisle_id'] != 100), :]\n",
    "\n",
    "if len(df_view) != 0:\n",
    "    print(df_view.sample(25).style.apply(zebra_rows, axis=1))\n",
    "else:\n",
    "    print(\"There are no rows with null values ​​in column 'aisle_id' other than 100\")"
   ]
  },
  {
   "cell_type": "markdown",
   "id": "WRpIfXRphpSL",
   "metadata": {
    "id": "WRpIfXRphpSL"
   },
   "source": [
    "Briefly describe your findings.\n",
    "###### _LSPL_\n",
    "Based on the search for missing values ​​and the sampling of rows with missing values ​​in the DataFrame [Products], column 'product_name', we confirmed that there are no missing values ​​outside of aisle 100."
   ]
  },
  {
   "cell_type": "code",
   "execution_count": 31,
   "id": "8fd0a541",
   "metadata": {
    "id": "8fd0a541"
   },
   "outputs": [
    {
     "name": "stdout",
     "output_type": "stream",
     "text": [
      "There are no rows with null values ​​in column 'department_id' other than 21\n"
     ]
    }
   ],
   "source": [
    "# Are all missing product names related to department ID 21?\n",
    "df_view = df_products.loc[(df_products['product_name'].isna()) & (df_products['department_id'] != 21), :]\n",
    "\n",
    "if len(df_view) != 0:\n",
    "    print(df_view.sample(25).style.apply(zebra_rows, axis=1))\n",
    "else:\n",
    "    print(\"There are no rows with null values ​​in column 'department_id' other than 21\")"
   ]
  },
  {
   "cell_type": "markdown",
   "id": "qDpdYn1Fht_I",
   "metadata": {
    "id": "qDpdYn1Fht_I"
   },
   "source": [
    "Briefly describe your findings.\n",
    "###### _LSPL_\n",
    "Based on the search for missing values ​​and the sampling of rows with missing values ​​in the [Products] DataFrame, column 'productname', we confirmed that there are no missing values ​​outside of department 21."
   ]
  },
  {
   "cell_type": "code",
   "execution_count": null,
   "id": "325c3464",
   "metadata": {
    "id": "325c3464"
   },
   "outputs": [],
   "source": [
    "# Use the department and aisle tables to review the data for aisle ID 100 and department ID 21.\n",
    "# LSPL\n",
    "# It was previously displayed in the resulting view from the boolean indexing df_products['product_name'].isna()"
   ]
  },
  {
   "cell_type": "markdown",
   "id": "nqhSTUPhhvEJ",
   "metadata": {
    "id": "nqhSTUPhhvEJ"
   },
   "source": [
    "Briefly describe your findings.\n",
    "###### _LSPL_\n",
    "It appears that Instacart_orders uses department_ID 21 and aisle 100 for products that don't have a name, even though they have a product ID. This could be confirmed with Instacart to determine if these products are relevant, if they could be identified in some way so the name could be corrected, and if those that cannot be identified could be removed. In the meantime, they will be identified with the value 'Unknown'."
   ]
  },
  {
   "cell_type": "code",
   "execution_count": 32,
   "id": "6b295120",
   "metadata": {
    "id": "6b295120"
   },
   "outputs": [
    {
     "name": "stdout",
     "output_type": "stream",
     "text": [
      "*** DataFrame [Products], column 'product_name' missing values ​​replaced with 'Unknown': \n"
     ]
    },
    {
     "data": {
      "application/vnd.microsoft.datawrangler.viewer.v0+json": {
       "columns": [
        {
         "name": "product_name",
         "rawType": "object",
         "type": "string"
        },
        {
         "name": "count",
         "rawType": "int64",
         "type": "integer"
        }
       ],
       "ref": "2cd20bda-95d6-47c2-a658-08459311f029",
       "rows": [
        [
         "Unknown",
         "1258"
        ],
        [
         "Smart Ones Classic Favorites Mini Rigatoni With Vodka Cream Sauce",
         "1"
        ],
        [
         "Green Chile Anytime Sauce",
         "1"
        ],
        [
         "Porto",
         "1"
        ],
        [
         "Small & Medium Dental Dog Treats",
         "1"
        ],
        [
         "Famous Chocolate Wafers",
         "1"
        ],
        [
         "All-Seasons Salt",
         "1"
        ],
        [
         "Pure Coconut Water With Orange",
         "1"
        ],
        [
         "Cut Russet Potatoes Steam N' Mash",
         "1"
        ],
        [
         "Light Strawberry Blueberry Yogurt",
         "1"
        ],
        [
         "Sparkling Orange Juice & Prickly Pear Beverage",
         "1"
        ],
        [
         "Peach Mango Juice",
         "1"
        ],
        [
         "Chocolate Fudge Layer Cake",
         "1"
        ],
        [
         "Saline Nasal Mist",
         "1"
        ],
        [
         "Fresh Scent Dishwasher Cleaner",
         "1"
        ],
        [
         "Overnight Diapers Size 6",
         "1"
        ],
        [
         "Mint Chocolate Flavored Syrup",
         "1"
        ],
        [
         "Rendered Duck Fat",
         "1"
        ],
        [
         "Pizza for One Suprema  Frozen Pizza",
         "1"
        ],
        [
         "Gluten Free Quinoa Three Cheese & Mushroom Blend",
         "1"
        ],
        [
         "Pomegranate Cranberry & Aloe Vera Enrich Drink",
         "1"
        ],
        [
         "Dry Nose Oil",
         "1"
        ],
        [
         "Fresh Breath Oral Rinse Mild Mint",
         "1"
        ],
        [
         "Organic Turkey Burgers",
         "1"
        ],
        [
         "Tri-Vi-Sol® Vitamins A-C-and D Supplement Drops for Infants",
         "1"
        ],
        [
         "Salted Caramel Lean Protein & Fiber Bar",
         "1"
        ],
        [
         "Fancy Feast Trout Feast Flaked Wet Cat Food",
         "1"
        ],
        [
         "Complete Spring Water Foaming Antibacterial Hand Wash",
         "1"
        ],
        [
         "Wheat Chex Cereal",
         "1"
        ],
        [
         "Fresh Cut Golden Sweet No Salt Added Whole Kernel Corn",
         "1"
        ],
        [
         "Three Cheese Ziti- Marinara with Meatballs",
         "1"
        ],
        [
         "White Pearl Onions",
         "1"
        ],
        [
         "Nacho Cheese White Bean Chips",
         "1"
        ],
        [
         "Organic Spaghetti Style Pasta",
         "1"
        ],
        [
         "Peanut Butter Cereal",
         "1"
        ],
        [
         "Italian Herb Porcini Mushrooms Chicken Sausage",
         "1"
        ],
        [
         "Traditional Lasagna with Meat Sauce Savory Italian Recipes",
         "1"
        ],
        [
         "Noodle Soup Mix With Chicken Broth",
         "1"
        ],
        [
         "Daily Tangerine Citrus Flavored Beverage",
         "1"
        ],
        [
         "Beef Hot Links Beef Smoked Sausage With Chile Peppers",
         "1"
        ],
        [
         "Organic Sourdough Einkorn Crackers Rosemary",
         "1"
        ],
        [
         "Biotin 1000 mcg",
         "1"
        ],
        [
         "Organic Clementines",
         "1"
        ],
        [
         "Sparkling Raspberry Seltzer",
         "1"
        ],
        [
         "European Cucumber",
         "1"
        ],
        [
         "Raisin Cinnamon Bagels 5 count",
         "1"
        ],
        [
         "Onion Flavor Organic Roasted Seaweed Snack",
         "1"
        ],
        [
         "School Glue- Washable- No Run",
         "1"
        ],
        [
         "Vegetarian Grain Meat Sausages Italian - 4 CT",
         "1"
        ],
        [
         "Pumpkin Muffin Mix",
         "1"
        ]
       ],
       "shape": {
        "columns": 1,
        "rows": 48437
       }
      },
      "text/plain": [
       "product_name\n",
       "Unknown                                                              1258\n",
       "Smart Ones Classic Favorites Mini Rigatoni With Vodka Cream Sauce       1\n",
       "Green Chile Anytime Sauce                                               1\n",
       "Porto                                                                   1\n",
       "Small & Medium Dental Dog Treats                                        1\n",
       "                                                                     ... \n",
       "HIGH PERFORMANCE ENERGY DRINK                                           1\n",
       "ORIGINAL PANCAKE & WAFFLE MIX                                           1\n",
       "ORGANIC INSTANT OATMEAL LIGHT MAPLE BROWN SUGAR                         1\n",
       "SPRING WATER BODY WASH                                                  1\n",
       "Robust Golden Unsweetened Oolong Tea                                    1\n",
       "Name: count, Length: 48437, dtype: int64"
      ]
     },
     "execution_count": 32,
     "metadata": {},
     "output_type": "execute_result"
    }
   ],
   "source": [
    "# Fill missing product names with 'Unknown'\n",
    "df_products['product_name'] = df_products['product_name'].fillna('Unknown')\n",
    "print(\"*** DataFrame [Products], column 'product_name' missing values ​​replaced with 'Unknown': \")\n",
    "df_products['product_name'].value_counts(dropna=False)"
   ]
  },
  {
   "cell_type": "markdown",
   "id": "fc70e5ad",
   "metadata": {
    "id": "fc70e5ad"
   },
   "source": [
    "Briefly describe your findings and what you did with them.\n",
    "###### _LSPL_\n",
    "\n",
    "1258 missing values ​​were found in the [Products] DataFrame, column 'product_name', which were replaced with 'Unknown'."
   ]
  },
  {
   "cell_type": "markdown",
   "id": "7eb45c86",
   "metadata": {
    "id": "7eb45c86"
   },
   "source": [
    "### `instacart orders` data frame"
   ]
  },
  {
   "cell_type": "code",
   "execution_count": 33,
   "id": "93e41d96",
   "metadata": {
    "id": "93e41d96"
   },
   "outputs": [
    {
     "name": "stdout",
     "output_type": "stream",
     "text": [
      "*** DataFrame [Instacart orders], column 'days_since_prior_order' missing values ​​duly identified as <NA>: \n",
      "days_since_prior_order\n",
      "30.0    51337\n",
      "7.0     44577\n",
      "6.0     33930\n",
      "4.0     31006\n",
      "3.0     30224\n",
      "        ...  \n",
      "24.0     3015\n",
      "27.0     2986\n",
      "25.0     2711\n",
      "29.0     2673\n",
      "26.0     2640\n",
      "Name: count, Length: 32, dtype: int64 \n",
      "\n",
      "Missing values:  28817\n",
      "\n"
     ]
    },
    {
     "data": {
      "text/html": [
       "<style type=\"text/css\">\n",
       "#T_f3a20_row0_col0, #T_f3a20_row0_col1, #T_f3a20_row0_col2, #T_f3a20_row0_col3, #T_f3a20_row0_col4, #T_f3a20_row0_col5, #T_f3a20_row1_col0, #T_f3a20_row1_col1, #T_f3a20_row1_col2, #T_f3a20_row1_col3, #T_f3a20_row1_col4, #T_f3a20_row1_col5, #T_f3a20_row2_col0, #T_f3a20_row2_col1, #T_f3a20_row2_col2, #T_f3a20_row2_col3, #T_f3a20_row2_col4, #T_f3a20_row2_col5, #T_f3a20_row5_col0, #T_f3a20_row5_col1, #T_f3a20_row5_col2, #T_f3a20_row5_col3, #T_f3a20_row5_col4, #T_f3a20_row5_col5, #T_f3a20_row6_col0, #T_f3a20_row6_col1, #T_f3a20_row6_col2, #T_f3a20_row6_col3, #T_f3a20_row6_col4, #T_f3a20_row6_col5, #T_f3a20_row7_col0, #T_f3a20_row7_col1, #T_f3a20_row7_col2, #T_f3a20_row7_col3, #T_f3a20_row7_col4, #T_f3a20_row7_col5, #T_f3a20_row9_col0, #T_f3a20_row9_col1, #T_f3a20_row9_col2, #T_f3a20_row9_col3, #T_f3a20_row9_col4, #T_f3a20_row9_col5, #T_f3a20_row11_col0, #T_f3a20_row11_col1, #T_f3a20_row11_col2, #T_f3a20_row11_col3, #T_f3a20_row11_col4, #T_f3a20_row11_col5, #T_f3a20_row12_col0, #T_f3a20_row12_col1, #T_f3a20_row12_col2, #T_f3a20_row12_col3, #T_f3a20_row12_col4, #T_f3a20_row12_col5, #T_f3a20_row13_col0, #T_f3a20_row13_col1, #T_f3a20_row13_col2, #T_f3a20_row13_col3, #T_f3a20_row13_col4, #T_f3a20_row13_col5, #T_f3a20_row17_col0, #T_f3a20_row17_col1, #T_f3a20_row17_col2, #T_f3a20_row17_col3, #T_f3a20_row17_col4, #T_f3a20_row17_col5, #T_f3a20_row18_col0, #T_f3a20_row18_col1, #T_f3a20_row18_col2, #T_f3a20_row18_col3, #T_f3a20_row18_col4, #T_f3a20_row18_col5, #T_f3a20_row19_col0, #T_f3a20_row19_col1, #T_f3a20_row19_col2, #T_f3a20_row19_col3, #T_f3a20_row19_col4, #T_f3a20_row19_col5, #T_f3a20_row20_col0, #T_f3a20_row20_col1, #T_f3a20_row20_col2, #T_f3a20_row20_col3, #T_f3a20_row20_col4, #T_f3a20_row20_col5, #T_f3a20_row21_col0, #T_f3a20_row21_col1, #T_f3a20_row21_col2, #T_f3a20_row21_col3, #T_f3a20_row21_col4, #T_f3a20_row21_col5, #T_f3a20_row24_col0, #T_f3a20_row24_col1, #T_f3a20_row24_col2, #T_f3a20_row24_col3, #T_f3a20_row24_col4, #T_f3a20_row24_col5 {\n",
       "  background-color: #808080;\n",
       "}\n",
       "#T_f3a20_row3_col0, #T_f3a20_row3_col1, #T_f3a20_row3_col2, #T_f3a20_row3_col3, #T_f3a20_row3_col4, #T_f3a20_row3_col5, #T_f3a20_row4_col0, #T_f3a20_row4_col1, #T_f3a20_row4_col2, #T_f3a20_row4_col3, #T_f3a20_row4_col4, #T_f3a20_row4_col5, #T_f3a20_row8_col0, #T_f3a20_row8_col1, #T_f3a20_row8_col2, #T_f3a20_row8_col3, #T_f3a20_row8_col4, #T_f3a20_row8_col5, #T_f3a20_row10_col0, #T_f3a20_row10_col1, #T_f3a20_row10_col2, #T_f3a20_row10_col3, #T_f3a20_row10_col4, #T_f3a20_row10_col5, #T_f3a20_row14_col0, #T_f3a20_row14_col1, #T_f3a20_row14_col2, #T_f3a20_row14_col3, #T_f3a20_row14_col4, #T_f3a20_row14_col5, #T_f3a20_row15_col0, #T_f3a20_row15_col1, #T_f3a20_row15_col2, #T_f3a20_row15_col3, #T_f3a20_row15_col4, #T_f3a20_row15_col5, #T_f3a20_row16_col0, #T_f3a20_row16_col1, #T_f3a20_row16_col2, #T_f3a20_row16_col3, #T_f3a20_row16_col4, #T_f3a20_row16_col5, #T_f3a20_row22_col0, #T_f3a20_row22_col1, #T_f3a20_row22_col2, #T_f3a20_row22_col3, #T_f3a20_row22_col4, #T_f3a20_row22_col5, #T_f3a20_row23_col0, #T_f3a20_row23_col1, #T_f3a20_row23_col2, #T_f3a20_row23_col3, #T_f3a20_row23_col4, #T_f3a20_row23_col5 {\n",
       "  background-color: #595959;\n",
       "}\n",
       "</style>\n",
       "<table id=\"T_f3a20\">\n",
       "  <thead>\n",
       "    <tr>\n",
       "      <th class=\"blank level0\" >&nbsp;</th>\n",
       "      <th id=\"T_f3a20_level0_col0\" class=\"col_heading level0 col0\" >order_id</th>\n",
       "      <th id=\"T_f3a20_level0_col1\" class=\"col_heading level0 col1\" >user_id</th>\n",
       "      <th id=\"T_f3a20_level0_col2\" class=\"col_heading level0 col2\" >order_number</th>\n",
       "      <th id=\"T_f3a20_level0_col3\" class=\"col_heading level0 col3\" >order_dow</th>\n",
       "      <th id=\"T_f3a20_level0_col4\" class=\"col_heading level0 col4\" >order_hour_of_day</th>\n",
       "      <th id=\"T_f3a20_level0_col5\" class=\"col_heading level0 col5\" >days_since_prior_order</th>\n",
       "    </tr>\n",
       "  </thead>\n",
       "  <tbody>\n",
       "    <tr>\n",
       "      <th id=\"T_f3a20_level0_row0\" class=\"row_heading level0 row0\" >100644</th>\n",
       "      <td id=\"T_f3a20_row0_col0\" class=\"data row0 col0\" >2204416</td>\n",
       "      <td id=\"T_f3a20_row0_col1\" class=\"data row0 col1\" >50853</td>\n",
       "      <td id=\"T_f3a20_row0_col2\" class=\"data row0 col2\" >1</td>\n",
       "      <td id=\"T_f3a20_row0_col3\" class=\"data row0 col3\" >0</td>\n",
       "      <td id=\"T_f3a20_row0_col4\" class=\"data row0 col4\" >15</td>\n",
       "      <td id=\"T_f3a20_row0_col5\" class=\"data row0 col5\" ><NA></td>\n",
       "    </tr>\n",
       "    <tr>\n",
       "      <th id=\"T_f3a20_level0_row1\" class=\"row_heading level0 row1\" >225460</th>\n",
       "      <td id=\"T_f3a20_row1_col0\" class=\"data row1 col0\" >954823</td>\n",
       "      <td id=\"T_f3a20_row1_col1\" class=\"data row1 col1\" >187350</td>\n",
       "      <td id=\"T_f3a20_row1_col2\" class=\"data row1 col2\" >1</td>\n",
       "      <td id=\"T_f3a20_row1_col3\" class=\"data row1 col3\" >2</td>\n",
       "      <td id=\"T_f3a20_row1_col4\" class=\"data row1 col4\" >9</td>\n",
       "      <td id=\"T_f3a20_row1_col5\" class=\"data row1 col5\" ><NA></td>\n",
       "    </tr>\n",
       "    <tr>\n",
       "      <th id=\"T_f3a20_level0_row2\" class=\"row_heading level0 row2\" >40340</th>\n",
       "      <td id=\"T_f3a20_row2_col0\" class=\"data row2 col0\" >1086941</td>\n",
       "      <td id=\"T_f3a20_row2_col1\" class=\"data row2 col1\" >191386</td>\n",
       "      <td id=\"T_f3a20_row2_col2\" class=\"data row2 col2\" >1</td>\n",
       "      <td id=\"T_f3a20_row2_col3\" class=\"data row2 col3\" >1</td>\n",
       "      <td id=\"T_f3a20_row2_col4\" class=\"data row2 col4\" >12</td>\n",
       "      <td id=\"T_f3a20_row2_col5\" class=\"data row2 col5\" ><NA></td>\n",
       "    </tr>\n",
       "    <tr>\n",
       "      <th id=\"T_f3a20_level0_row3\" class=\"row_heading level0 row3\" >275963</th>\n",
       "      <td id=\"T_f3a20_row3_col0\" class=\"data row3 col0\" >19289</td>\n",
       "      <td id=\"T_f3a20_row3_col1\" class=\"data row3 col1\" >191959</td>\n",
       "      <td id=\"T_f3a20_row3_col2\" class=\"data row3 col2\" >1</td>\n",
       "      <td id=\"T_f3a20_row3_col3\" class=\"data row3 col3\" >1</td>\n",
       "      <td id=\"T_f3a20_row3_col4\" class=\"data row3 col4\" >7</td>\n",
       "      <td id=\"T_f3a20_row3_col5\" class=\"data row3 col5\" ><NA></td>\n",
       "    </tr>\n",
       "    <tr>\n",
       "      <th id=\"T_f3a20_level0_row4\" class=\"row_heading level0 row4\" >115193</th>\n",
       "      <td id=\"T_f3a20_row4_col0\" class=\"data row4 col0\" >473471</td>\n",
       "      <td id=\"T_f3a20_row4_col1\" class=\"data row4 col1\" >166226</td>\n",
       "      <td id=\"T_f3a20_row4_col2\" class=\"data row4 col2\" >1</td>\n",
       "      <td id=\"T_f3a20_row4_col3\" class=\"data row4 col3\" >2</td>\n",
       "      <td id=\"T_f3a20_row4_col4\" class=\"data row4 col4\" >9</td>\n",
       "      <td id=\"T_f3a20_row4_col5\" class=\"data row4 col5\" ><NA></td>\n",
       "    </tr>\n",
       "    <tr>\n",
       "      <th id=\"T_f3a20_level0_row5\" class=\"row_heading level0 row5\" >62060</th>\n",
       "      <td id=\"T_f3a20_row5_col0\" class=\"data row5 col0\" >1582941</td>\n",
       "      <td id=\"T_f3a20_row5_col1\" class=\"data row5 col1\" >11231</td>\n",
       "      <td id=\"T_f3a20_row5_col2\" class=\"data row5 col2\" >1</td>\n",
       "      <td id=\"T_f3a20_row5_col3\" class=\"data row5 col3\" >0</td>\n",
       "      <td id=\"T_f3a20_row5_col4\" class=\"data row5 col4\" >22</td>\n",
       "      <td id=\"T_f3a20_row5_col5\" class=\"data row5 col5\" ><NA></td>\n",
       "    </tr>\n",
       "    <tr>\n",
       "      <th id=\"T_f3a20_level0_row6\" class=\"row_heading level0 row6\" >164636</th>\n",
       "      <td id=\"T_f3a20_row6_col0\" class=\"data row6 col0\" >214076</td>\n",
       "      <td id=\"T_f3a20_row6_col1\" class=\"data row6 col1\" >85705</td>\n",
       "      <td id=\"T_f3a20_row6_col2\" class=\"data row6 col2\" >1</td>\n",
       "      <td id=\"T_f3a20_row6_col3\" class=\"data row6 col3\" >2</td>\n",
       "      <td id=\"T_f3a20_row6_col4\" class=\"data row6 col4\" >12</td>\n",
       "      <td id=\"T_f3a20_row6_col5\" class=\"data row6 col5\" ><NA></td>\n",
       "    </tr>\n",
       "    <tr>\n",
       "      <th id=\"T_f3a20_level0_row7\" class=\"row_heading level0 row7\" >437720</th>\n",
       "      <td id=\"T_f3a20_row7_col0\" class=\"data row7 col0\" >2143747</td>\n",
       "      <td id=\"T_f3a20_row7_col1\" class=\"data row7 col1\" >111418</td>\n",
       "      <td id=\"T_f3a20_row7_col2\" class=\"data row7 col2\" >1</td>\n",
       "      <td id=\"T_f3a20_row7_col3\" class=\"data row7 col3\" >6</td>\n",
       "      <td id=\"T_f3a20_row7_col4\" class=\"data row7 col4\" >14</td>\n",
       "      <td id=\"T_f3a20_row7_col5\" class=\"data row7 col5\" ><NA></td>\n",
       "    </tr>\n",
       "    <tr>\n",
       "      <th id=\"T_f3a20_level0_row8\" class=\"row_heading level0 row8\" >5161</th>\n",
       "      <td id=\"T_f3a20_row8_col0\" class=\"data row8 col0\" >765671</td>\n",
       "      <td id=\"T_f3a20_row8_col1\" class=\"data row8 col1\" >181960</td>\n",
       "      <td id=\"T_f3a20_row8_col2\" class=\"data row8 col2\" >1</td>\n",
       "      <td id=\"T_f3a20_row8_col3\" class=\"data row8 col3\" >6</td>\n",
       "      <td id=\"T_f3a20_row8_col4\" class=\"data row8 col4\" >13</td>\n",
       "      <td id=\"T_f3a20_row8_col5\" class=\"data row8 col5\" ><NA></td>\n",
       "    </tr>\n",
       "    <tr>\n",
       "      <th id=\"T_f3a20_level0_row9\" class=\"row_heading level0 row9\" >376168</th>\n",
       "      <td id=\"T_f3a20_row9_col0\" class=\"data row9 col0\" >43869</td>\n",
       "      <td id=\"T_f3a20_row9_col1\" class=\"data row9 col1\" >62480</td>\n",
       "      <td id=\"T_f3a20_row9_col2\" class=\"data row9 col2\" >1</td>\n",
       "      <td id=\"T_f3a20_row9_col3\" class=\"data row9 col3\" >2</td>\n",
       "      <td id=\"T_f3a20_row9_col4\" class=\"data row9 col4\" >20</td>\n",
       "      <td id=\"T_f3a20_row9_col5\" class=\"data row9 col5\" ><NA></td>\n",
       "    </tr>\n",
       "    <tr>\n",
       "      <th id=\"T_f3a20_level0_row10\" class=\"row_heading level0 row10\" >378467</th>\n",
       "      <td id=\"T_f3a20_row10_col0\" class=\"data row10 col0\" >2203783</td>\n",
       "      <td id=\"T_f3a20_row10_col1\" class=\"data row10 col1\" >135122</td>\n",
       "      <td id=\"T_f3a20_row10_col2\" class=\"data row10 col2\" >1</td>\n",
       "      <td id=\"T_f3a20_row10_col3\" class=\"data row10 col3\" >2</td>\n",
       "      <td id=\"T_f3a20_row10_col4\" class=\"data row10 col4\" >12</td>\n",
       "      <td id=\"T_f3a20_row10_col5\" class=\"data row10 col5\" ><NA></td>\n",
       "    </tr>\n",
       "    <tr>\n",
       "      <th id=\"T_f3a20_level0_row11\" class=\"row_heading level0 row11\" >309866</th>\n",
       "      <td id=\"T_f3a20_row11_col0\" class=\"data row11 col0\" >2797422</td>\n",
       "      <td id=\"T_f3a20_row11_col1\" class=\"data row11 col1\" >204036</td>\n",
       "      <td id=\"T_f3a20_row11_col2\" class=\"data row11 col2\" >1</td>\n",
       "      <td id=\"T_f3a20_row11_col3\" class=\"data row11 col3\" >4</td>\n",
       "      <td id=\"T_f3a20_row11_col4\" class=\"data row11 col4\" >19</td>\n",
       "      <td id=\"T_f3a20_row11_col5\" class=\"data row11 col5\" ><NA></td>\n",
       "    </tr>\n",
       "    <tr>\n",
       "      <th id=\"T_f3a20_level0_row12\" class=\"row_heading level0 row12\" >286934</th>\n",
       "      <td id=\"T_f3a20_row12_col0\" class=\"data row12 col0\" >3060011</td>\n",
       "      <td id=\"T_f3a20_row12_col1\" class=\"data row12 col1\" >199687</td>\n",
       "      <td id=\"T_f3a20_row12_col2\" class=\"data row12 col2\" >1</td>\n",
       "      <td id=\"T_f3a20_row12_col3\" class=\"data row12 col3\" >6</td>\n",
       "      <td id=\"T_f3a20_row12_col4\" class=\"data row12 col4\" >9</td>\n",
       "      <td id=\"T_f3a20_row12_col5\" class=\"data row12 col5\" ><NA></td>\n",
       "    </tr>\n",
       "    <tr>\n",
       "      <th id=\"T_f3a20_level0_row13\" class=\"row_heading level0 row13\" >304594</th>\n",
       "      <td id=\"T_f3a20_row13_col0\" class=\"data row13 col0\" >1762887</td>\n",
       "      <td id=\"T_f3a20_row13_col1\" class=\"data row13 col1\" >139441</td>\n",
       "      <td id=\"T_f3a20_row13_col2\" class=\"data row13 col2\" >1</td>\n",
       "      <td id=\"T_f3a20_row13_col3\" class=\"data row13 col3\" >4</td>\n",
       "      <td id=\"T_f3a20_row13_col4\" class=\"data row13 col4\" >16</td>\n",
       "      <td id=\"T_f3a20_row13_col5\" class=\"data row13 col5\" ><NA></td>\n",
       "    </tr>\n",
       "    <tr>\n",
       "      <th id=\"T_f3a20_level0_row14\" class=\"row_heading level0 row14\" >15009</th>\n",
       "      <td id=\"T_f3a20_row14_col0\" class=\"data row14 col0\" >111139</td>\n",
       "      <td id=\"T_f3a20_row14_col1\" class=\"data row14 col1\" >79201</td>\n",
       "      <td id=\"T_f3a20_row14_col2\" class=\"data row14 col2\" >1</td>\n",
       "      <td id=\"T_f3a20_row14_col3\" class=\"data row14 col3\" >1</td>\n",
       "      <td id=\"T_f3a20_row14_col4\" class=\"data row14 col4\" >8</td>\n",
       "      <td id=\"T_f3a20_row14_col5\" class=\"data row14 col5\" ><NA></td>\n",
       "    </tr>\n",
       "    <tr>\n",
       "      <th id=\"T_f3a20_level0_row15\" class=\"row_heading level0 row15\" >476691</th>\n",
       "      <td id=\"T_f3a20_row15_col0\" class=\"data row15 col0\" >1074422</td>\n",
       "      <td id=\"T_f3a20_row15_col1\" class=\"data row15 col1\" >53019</td>\n",
       "      <td id=\"T_f3a20_row15_col2\" class=\"data row15 col2\" >1</td>\n",
       "      <td id=\"T_f3a20_row15_col3\" class=\"data row15 col3\" >1</td>\n",
       "      <td id=\"T_f3a20_row15_col4\" class=\"data row15 col4\" >21</td>\n",
       "      <td id=\"T_f3a20_row15_col5\" class=\"data row15 col5\" ><NA></td>\n",
       "    </tr>\n",
       "    <tr>\n",
       "      <th id=\"T_f3a20_level0_row16\" class=\"row_heading level0 row16\" >180117</th>\n",
       "      <td id=\"T_f3a20_row16_col0\" class=\"data row16 col0\" >2812332</td>\n",
       "      <td id=\"T_f3a20_row16_col1\" class=\"data row16 col1\" >206115</td>\n",
       "      <td id=\"T_f3a20_row16_col2\" class=\"data row16 col2\" >1</td>\n",
       "      <td id=\"T_f3a20_row16_col3\" class=\"data row16 col3\" >0</td>\n",
       "      <td id=\"T_f3a20_row16_col4\" class=\"data row16 col4\" >20</td>\n",
       "      <td id=\"T_f3a20_row16_col5\" class=\"data row16 col5\" ><NA></td>\n",
       "    </tr>\n",
       "    <tr>\n",
       "      <th id=\"T_f3a20_level0_row17\" class=\"row_heading level0 row17\" >60244</th>\n",
       "      <td id=\"T_f3a20_row17_col0\" class=\"data row17 col0\" >2035536</td>\n",
       "      <td id=\"T_f3a20_row17_col1\" class=\"data row17 col1\" >78600</td>\n",
       "      <td id=\"T_f3a20_row17_col2\" class=\"data row17 col2\" >1</td>\n",
       "      <td id=\"T_f3a20_row17_col3\" class=\"data row17 col3\" >2</td>\n",
       "      <td id=\"T_f3a20_row17_col4\" class=\"data row17 col4\" >9</td>\n",
       "      <td id=\"T_f3a20_row17_col5\" class=\"data row17 col5\" ><NA></td>\n",
       "    </tr>\n",
       "    <tr>\n",
       "      <th id=\"T_f3a20_level0_row18\" class=\"row_heading level0 row18\" >64070</th>\n",
       "      <td id=\"T_f3a20_row18_col0\" class=\"data row18 col0\" >528655</td>\n",
       "      <td id=\"T_f3a20_row18_col1\" class=\"data row18 col1\" >15013</td>\n",
       "      <td id=\"T_f3a20_row18_col2\" class=\"data row18 col2\" >1</td>\n",
       "      <td id=\"T_f3a20_row18_col3\" class=\"data row18 col3\" >6</td>\n",
       "      <td id=\"T_f3a20_row18_col4\" class=\"data row18 col4\" >11</td>\n",
       "      <td id=\"T_f3a20_row18_col5\" class=\"data row18 col5\" ><NA></td>\n",
       "    </tr>\n",
       "    <tr>\n",
       "      <th id=\"T_f3a20_level0_row19\" class=\"row_heading level0 row19\" >442732</th>\n",
       "      <td id=\"T_f3a20_row19_col0\" class=\"data row19 col0\" >2380553</td>\n",
       "      <td id=\"T_f3a20_row19_col1\" class=\"data row19 col1\" >50828</td>\n",
       "      <td id=\"T_f3a20_row19_col2\" class=\"data row19 col2\" >1</td>\n",
       "      <td id=\"T_f3a20_row19_col3\" class=\"data row19 col3\" >0</td>\n",
       "      <td id=\"T_f3a20_row19_col4\" class=\"data row19 col4\" >5</td>\n",
       "      <td id=\"T_f3a20_row19_col5\" class=\"data row19 col5\" ><NA></td>\n",
       "    </tr>\n",
       "    <tr>\n",
       "      <th id=\"T_f3a20_level0_row20\" class=\"row_heading level0 row20\" >353020</th>\n",
       "      <td id=\"T_f3a20_row20_col0\" class=\"data row20 col0\" >1160406</td>\n",
       "      <td id=\"T_f3a20_row20_col1\" class=\"data row20 col1\" >69375</td>\n",
       "      <td id=\"T_f3a20_row20_col2\" class=\"data row20 col2\" >1</td>\n",
       "      <td id=\"T_f3a20_row20_col3\" class=\"data row20 col3\" >4</td>\n",
       "      <td id=\"T_f3a20_row20_col4\" class=\"data row20 col4\" >23</td>\n",
       "      <td id=\"T_f3a20_row20_col5\" class=\"data row20 col5\" ><NA></td>\n",
       "    </tr>\n",
       "    <tr>\n",
       "      <th id=\"T_f3a20_level0_row21\" class=\"row_heading level0 row21\" >183468</th>\n",
       "      <td id=\"T_f3a20_row21_col0\" class=\"data row21 col0\" >1256183</td>\n",
       "      <td id=\"T_f3a20_row21_col1\" class=\"data row21 col1\" >40260</td>\n",
       "      <td id=\"T_f3a20_row21_col2\" class=\"data row21 col2\" >1</td>\n",
       "      <td id=\"T_f3a20_row21_col3\" class=\"data row21 col3\" >5</td>\n",
       "      <td id=\"T_f3a20_row21_col4\" class=\"data row21 col4\" >18</td>\n",
       "      <td id=\"T_f3a20_row21_col5\" class=\"data row21 col5\" ><NA></td>\n",
       "    </tr>\n",
       "    <tr>\n",
       "      <th id=\"T_f3a20_level0_row22\" class=\"row_heading level0 row22\" >361203</th>\n",
       "      <td id=\"T_f3a20_row22_col0\" class=\"data row22 col0\" >1409476</td>\n",
       "      <td id=\"T_f3a20_row22_col1\" class=\"data row22 col1\" >30862</td>\n",
       "      <td id=\"T_f3a20_row22_col2\" class=\"data row22 col2\" >1</td>\n",
       "      <td id=\"T_f3a20_row22_col3\" class=\"data row22 col3\" >6</td>\n",
       "      <td id=\"T_f3a20_row22_col4\" class=\"data row22 col4\" >11</td>\n",
       "      <td id=\"T_f3a20_row22_col5\" class=\"data row22 col5\" ><NA></td>\n",
       "    </tr>\n",
       "    <tr>\n",
       "      <th id=\"T_f3a20_level0_row23\" class=\"row_heading level0 row23\" >121399</th>\n",
       "      <td id=\"T_f3a20_row23_col0\" class=\"data row23 col0\" >1029515</td>\n",
       "      <td id=\"T_f3a20_row23_col1\" class=\"data row23 col1\" >97610</td>\n",
       "      <td id=\"T_f3a20_row23_col2\" class=\"data row23 col2\" >1</td>\n",
       "      <td id=\"T_f3a20_row23_col3\" class=\"data row23 col3\" >0</td>\n",
       "      <td id=\"T_f3a20_row23_col4\" class=\"data row23 col4\" >13</td>\n",
       "      <td id=\"T_f3a20_row23_col5\" class=\"data row23 col5\" ><NA></td>\n",
       "    </tr>\n",
       "    <tr>\n",
       "      <th id=\"T_f3a20_level0_row24\" class=\"row_heading level0 row24\" >249802</th>\n",
       "      <td id=\"T_f3a20_row24_col0\" class=\"data row24 col0\" >2051868</td>\n",
       "      <td id=\"T_f3a20_row24_col1\" class=\"data row24 col1\" >128152</td>\n",
       "      <td id=\"T_f3a20_row24_col2\" class=\"data row24 col2\" >1</td>\n",
       "      <td id=\"T_f3a20_row24_col3\" class=\"data row24 col3\" >0</td>\n",
       "      <td id=\"T_f3a20_row24_col4\" class=\"data row24 col4\" >8</td>\n",
       "      <td id=\"T_f3a20_row24_col5\" class=\"data row24 col5\" ><NA></td>\n",
       "    </tr>\n",
       "  </tbody>\n",
       "</table>\n"
      ],
      "text/plain": [
       "<pandas.io.formats.style.Styler at 0x2a3d4c38fa0>"
      ]
     },
     "metadata": {},
     "output_type": "display_data"
    }
   ],
   "source": [
    "# Find missing values\n",
    "print(\"*** DataFrame [Instacart orders], column 'days_since_prior_order' missing values ​​duly identified as <NA>: \")\n",
    "print(df_instacart_orders['days_since_prior_order'].value_counts(dropna=False), \"\\n\")\n",
    "print(\"Missing values: \", df_instacart_orders['days_since_prior_order'].isna().sum())\n",
    "print()\n",
    "df_view = df_instacart_orders.loc[df_instacart_orders['days_since_prior_order'].isna(), :]\n",
    "display(df_view.sample(25).style.apply(zebra_rows, axis=1))"
   ]
  },
  {
   "cell_type": "code",
   "execution_count": 36,
   "id": "166e5a86",
   "metadata": {
    "id": "166e5a86"
   },
   "outputs": [
    {
     "name": "stdout",
     "output_type": "stream",
     "text": [
      "There are missing values ​​other than the first order:  False\n"
     ]
    }
   ],
   "source": [
    "# Are there any missing values ​​other than the customer's first order?\n",
    "\n",
    "# Filter out orders that are not the first order\n",
    "df_orders_wo_first_order = df_instacart_orders.loc[df_instacart_orders['order_number'] != 1, :]\n",
    "# Check for missing values ​​in the 'days_since_prior_order' column\n",
    "null_values = df_orders_wo_first_order['days_since_prior_order'].isna().any()\n",
    "print(\"There are missing values ​​other than the first order: \", null_values)"
   ]
  },
  {
   "cell_type": "markdown",
   "id": "4e23d089",
   "metadata": {
    "id": "4e23d089"
   },
   "source": [
    "Briefly describe your findings and what you did with them.\n",
    "###### _LSPL_\n",
    "28,817 missing values ​​were identified in the 'days_since_prior_order' column. It was identified that the missing values ​​in this column occurred only during the first order number. The values ​​in the 'days_since_prior_order' column can have missing values ​​if it is the first order because the first order has no previous order, but they should not have missing values ​​if it is not the first order. Therefore, these missing values ​​are expected and should not be modified because they comply with business logic."
   ]
  },
  {
   "cell_type": "markdown",
   "id": "69dc9ca4",
   "metadata": {
    "id": "69dc9ca4"
   },
   "source": [
    "### `order_products` data frame"
   ]
  },
  {
   "cell_type": "code",
   "execution_count": 37,
   "id": "b8240253",
   "metadata": {
    "id": "b8240253"
   },
   "outputs": [
    {
     "name": "stdout",
     "output_type": "stream",
     "text": [
      "*** DataFrame [Order products], column 'add_to_cart_order' missing values ​​properly identified as <NA>: \n",
      "add_to_cart_order\n",
      "1.0     450046\n",
      "2.0     428199\n",
      "3.0     401907\n",
      "4.0     372861\n",
      "5.0     341807\n",
      "         ...  \n",
      "60.0       127\n",
      "61.0       114\n",
      "62.0        98\n",
      "63.0        87\n",
      "64.0        75\n",
      "Name: count, Length: 65, dtype: int64 \n",
      "\n",
      "Missing values:  836\n",
      "\n"
     ]
    },
    {
     "data": {
      "text/html": [
       "<style type=\"text/css\">\n",
       "#T_e157d_row0_col0, #T_e157d_row0_col1, #T_e157d_row0_col2, #T_e157d_row0_col3, #T_e157d_row1_col0, #T_e157d_row1_col1, #T_e157d_row1_col2, #T_e157d_row1_col3, #T_e157d_row3_col0, #T_e157d_row3_col1, #T_e157d_row3_col2, #T_e157d_row3_col3, #T_e157d_row5_col0, #T_e157d_row5_col1, #T_e157d_row5_col2, #T_e157d_row5_col3, #T_e157d_row6_col0, #T_e157d_row6_col1, #T_e157d_row6_col2, #T_e157d_row6_col3, #T_e157d_row7_col0, #T_e157d_row7_col1, #T_e157d_row7_col2, #T_e157d_row7_col3, #T_e157d_row10_col0, #T_e157d_row10_col1, #T_e157d_row10_col2, #T_e157d_row10_col3, #T_e157d_row14_col0, #T_e157d_row14_col1, #T_e157d_row14_col2, #T_e157d_row14_col3, #T_e157d_row15_col0, #T_e157d_row15_col1, #T_e157d_row15_col2, #T_e157d_row15_col3, #T_e157d_row16_col0, #T_e157d_row16_col1, #T_e157d_row16_col2, #T_e157d_row16_col3, #T_e157d_row17_col0, #T_e157d_row17_col1, #T_e157d_row17_col2, #T_e157d_row17_col3, #T_e157d_row18_col0, #T_e157d_row18_col1, #T_e157d_row18_col2, #T_e157d_row18_col3, #T_e157d_row19_col0, #T_e157d_row19_col1, #T_e157d_row19_col2, #T_e157d_row19_col3, #T_e157d_row20_col0, #T_e157d_row20_col1, #T_e157d_row20_col2, #T_e157d_row20_col3, #T_e157d_row22_col0, #T_e157d_row22_col1, #T_e157d_row22_col2, #T_e157d_row22_col3, #T_e157d_row23_col0, #T_e157d_row23_col1, #T_e157d_row23_col2, #T_e157d_row23_col3, #T_e157d_row24_col0, #T_e157d_row24_col1, #T_e157d_row24_col2, #T_e157d_row24_col3 {\n",
       "  background-color: #808080;\n",
       "}\n",
       "#T_e157d_row2_col0, #T_e157d_row2_col1, #T_e157d_row2_col2, #T_e157d_row2_col3, #T_e157d_row4_col0, #T_e157d_row4_col1, #T_e157d_row4_col2, #T_e157d_row4_col3, #T_e157d_row8_col0, #T_e157d_row8_col1, #T_e157d_row8_col2, #T_e157d_row8_col3, #T_e157d_row9_col0, #T_e157d_row9_col1, #T_e157d_row9_col2, #T_e157d_row9_col3, #T_e157d_row11_col0, #T_e157d_row11_col1, #T_e157d_row11_col2, #T_e157d_row11_col3, #T_e157d_row12_col0, #T_e157d_row12_col1, #T_e157d_row12_col2, #T_e157d_row12_col3, #T_e157d_row13_col0, #T_e157d_row13_col1, #T_e157d_row13_col2, #T_e157d_row13_col3, #T_e157d_row21_col0, #T_e157d_row21_col1, #T_e157d_row21_col2, #T_e157d_row21_col3 {\n",
       "  background-color: #595959;\n",
       "}\n",
       "</style>\n",
       "<table id=\"T_e157d\">\n",
       "  <thead>\n",
       "    <tr>\n",
       "      <th class=\"blank level0\" >&nbsp;</th>\n",
       "      <th id=\"T_e157d_level0_col0\" class=\"col_heading level0 col0\" >order_id</th>\n",
       "      <th id=\"T_e157d_level0_col1\" class=\"col_heading level0 col1\" >product_id</th>\n",
       "      <th id=\"T_e157d_level0_col2\" class=\"col_heading level0 col2\" >add_to_cart_order</th>\n",
       "      <th id=\"T_e157d_level0_col3\" class=\"col_heading level0 col3\" >reordered</th>\n",
       "    </tr>\n",
       "  </thead>\n",
       "  <tbody>\n",
       "    <tr>\n",
       "      <th id=\"T_e157d_level0_row0\" class=\"row_heading level0 row0\" >954728</th>\n",
       "      <td id=\"T_e157d_row0_col0\" class=\"data row0 col0\" >903110</td>\n",
       "      <td id=\"T_e157d_row0_col1\" class=\"data row0 col1\" >10305</td>\n",
       "      <td id=\"T_e157d_row0_col2\" class=\"data row0 col2\" ><NA></td>\n",
       "      <td id=\"T_e157d_row0_col3\" class=\"data row0 col3\" >1</td>\n",
       "    </tr>\n",
       "    <tr>\n",
       "      <th id=\"T_e157d_level0_row1\" class=\"row_heading level0 row1\" >4431614</th>\n",
       "      <td id=\"T_e157d_row1_col0\" class=\"data row1 col0\" >180546</td>\n",
       "      <td id=\"T_e157d_row1_col1\" class=\"data row1 col1\" >1194</td>\n",
       "      <td id=\"T_e157d_row1_col2\" class=\"data row1 col2\" ><NA></td>\n",
       "      <td id=\"T_e157d_row1_col3\" class=\"data row1 col3\" >0</td>\n",
       "    </tr>\n",
       "    <tr>\n",
       "      <th id=\"T_e157d_level0_row2\" class=\"row_heading level0 row2\" >3863361</th>\n",
       "      <td id=\"T_e157d_row2_col0\" class=\"data row2 col0\" >171934</td>\n",
       "      <td id=\"T_e157d_row2_col1\" class=\"data row2 col1\" >8088</td>\n",
       "      <td id=\"T_e157d_row2_col2\" class=\"data row2 col2\" ><NA></td>\n",
       "      <td id=\"T_e157d_row2_col3\" class=\"data row2 col3\" >0</td>\n",
       "    </tr>\n",
       "    <tr>\n",
       "      <th id=\"T_e157d_level0_row3\" class=\"row_heading level0 row3\" >1420876</th>\n",
       "      <td id=\"T_e157d_row3_col0\" class=\"data row3 col0\" >2094761</td>\n",
       "      <td id=\"T_e157d_row3_col1\" class=\"data row3 col1\" >47862</td>\n",
       "      <td id=\"T_e157d_row3_col2\" class=\"data row3 col2\" ><NA></td>\n",
       "      <td id=\"T_e157d_row3_col3\" class=\"data row3 col3\" >0</td>\n",
       "    </tr>\n",
       "    <tr>\n",
       "      <th id=\"T_e157d_level0_row4\" class=\"row_heading level0 row4\" >381535</th>\n",
       "      <td id=\"T_e157d_row4_col0\" class=\"data row4 col0\" >61355</td>\n",
       "      <td id=\"T_e157d_row4_col1\" class=\"data row4 col1\" >12315</td>\n",
       "      <td id=\"T_e157d_row4_col2\" class=\"data row4 col2\" ><NA></td>\n",
       "      <td id=\"T_e157d_row4_col3\" class=\"data row4 col3\" >0</td>\n",
       "    </tr>\n",
       "    <tr>\n",
       "      <th id=\"T_e157d_level0_row5\" class=\"row_heading level0 row5\" >1044012</th>\n",
       "      <td id=\"T_e157d_row5_col0\" class=\"data row5 col0\" >61355</td>\n",
       "      <td id=\"T_e157d_row5_col1\" class=\"data row5 col1\" >45599</td>\n",
       "      <td id=\"T_e157d_row5_col2\" class=\"data row5 col2\" ><NA></td>\n",
       "      <td id=\"T_e157d_row5_col3\" class=\"data row5 col3\" >0</td>\n",
       "    </tr>\n",
       "    <tr>\n",
       "      <th id=\"T_e157d_level0_row6\" class=\"row_heading level0 row6\" >128360</th>\n",
       "      <td id=\"T_e157d_row6_col0\" class=\"data row6 col0\" >2449164</td>\n",
       "      <td id=\"T_e157d_row6_col1\" class=\"data row6 col1\" >14386</td>\n",
       "      <td id=\"T_e157d_row6_col2\" class=\"data row6 col2\" ><NA></td>\n",
       "      <td id=\"T_e157d_row6_col3\" class=\"data row6 col3\" >0</td>\n",
       "    </tr>\n",
       "    <tr>\n",
       "      <th id=\"T_e157d_level0_row7\" class=\"row_heading level0 row7\" >3883178</th>\n",
       "      <td id=\"T_e157d_row7_col0\" class=\"data row7 col0\" >1717990</td>\n",
       "      <td id=\"T_e157d_row7_col1\" class=\"data row7 col1\" >26209</td>\n",
       "      <td id=\"T_e157d_row7_col2\" class=\"data row7 col2\" ><NA></td>\n",
       "      <td id=\"T_e157d_row7_col3\" class=\"data row7 col3\" >1</td>\n",
       "    </tr>\n",
       "    <tr>\n",
       "      <th id=\"T_e157d_level0_row8\" class=\"row_heading level0 row8\" >618153</th>\n",
       "      <td id=\"T_e157d_row8_col0\" class=\"data row8 col0\" >2721963</td>\n",
       "      <td id=\"T_e157d_row8_col1\" class=\"data row8 col1\" >27900</td>\n",
       "      <td id=\"T_e157d_row8_col2\" class=\"data row8 col2\" ><NA></td>\n",
       "      <td id=\"T_e157d_row8_col3\" class=\"data row8 col3\" >0</td>\n",
       "    </tr>\n",
       "    <tr>\n",
       "      <th id=\"T_e157d_level0_row9\" class=\"row_heading level0 row9\" >642353</th>\n",
       "      <td id=\"T_e157d_row9_col0\" class=\"data row9 col0\" >1673227</td>\n",
       "      <td id=\"T_e157d_row9_col1\" class=\"data row9 col1\" >21230</td>\n",
       "      <td id=\"T_e157d_row9_col2\" class=\"data row9 col2\" ><NA></td>\n",
       "      <td id=\"T_e157d_row9_col3\" class=\"data row9 col3\" >0</td>\n",
       "    </tr>\n",
       "    <tr>\n",
       "      <th id=\"T_e157d_level0_row10\" class=\"row_heading level0 row10\" >3868342</th>\n",
       "      <td id=\"T_e157d_row10_col0\" class=\"data row10 col0\" >813364</td>\n",
       "      <td id=\"T_e157d_row10_col1\" class=\"data row10 col1\" >35851</td>\n",
       "      <td id=\"T_e157d_row10_col2\" class=\"data row10 col2\" ><NA></td>\n",
       "      <td id=\"T_e157d_row10_col3\" class=\"data row10 col3\" >0</td>\n",
       "    </tr>\n",
       "    <tr>\n",
       "      <th id=\"T_e157d_level0_row11\" class=\"row_heading level0 row11\" >944029</th>\n",
       "      <td id=\"T_e157d_row11_col0\" class=\"data row11 col0\" >2136777</td>\n",
       "      <td id=\"T_e157d_row11_col1\" class=\"data row11 col1\" >3717</td>\n",
       "      <td id=\"T_e157d_row11_col2\" class=\"data row11 col2\" ><NA></td>\n",
       "      <td id=\"T_e157d_row11_col3\" class=\"data row11 col3\" >0</td>\n",
       "    </tr>\n",
       "    <tr>\n",
       "      <th id=\"T_e157d_level0_row12\" class=\"row_heading level0 row12\" >1117729</th>\n",
       "      <td id=\"T_e157d_row12_col0\" class=\"data row12 col0\" >264710</td>\n",
       "      <td id=\"T_e157d_row12_col1\" class=\"data row12 col1\" >22736</td>\n",
       "      <td id=\"T_e157d_row12_col2\" class=\"data row12 col2\" ><NA></td>\n",
       "      <td id=\"T_e157d_row12_col3\" class=\"data row12 col3\" >0</td>\n",
       "    </tr>\n",
       "    <tr>\n",
       "      <th id=\"T_e157d_level0_row13\" class=\"row_heading level0 row13\" >1386179</th>\n",
       "      <td id=\"T_e157d_row13_col0\" class=\"data row13 col0\" >61355</td>\n",
       "      <td id=\"T_e157d_row13_col1\" class=\"data row13 col1\" >38294</td>\n",
       "      <td id=\"T_e157d_row13_col2\" class=\"data row13 col2\" ><NA></td>\n",
       "      <td id=\"T_e157d_row13_col3\" class=\"data row13 col3\" >0</td>\n",
       "    </tr>\n",
       "    <tr>\n",
       "      <th id=\"T_e157d_level0_row14\" class=\"row_heading level0 row14\" >1071614</th>\n",
       "      <td id=\"T_e157d_row14_col0\" class=\"data row14 col0\" >1959075</td>\n",
       "      <td id=\"T_e157d_row14_col1\" class=\"data row14 col1\" >18362</td>\n",
       "      <td id=\"T_e157d_row14_col2\" class=\"data row14 col2\" ><NA></td>\n",
       "      <td id=\"T_e157d_row14_col3\" class=\"data row14 col3\" >1</td>\n",
       "    </tr>\n",
       "    <tr>\n",
       "      <th id=\"T_e157d_level0_row15\" class=\"row_heading level0 row15\" >1514664</th>\n",
       "      <td id=\"T_e157d_row15_col0\" class=\"data row15 col0\" >2470674</td>\n",
       "      <td id=\"T_e157d_row15_col1\" class=\"data row15 col1\" >35004</td>\n",
       "      <td id=\"T_e157d_row15_col2\" class=\"data row15 col2\" ><NA></td>\n",
       "      <td id=\"T_e157d_row15_col3\" class=\"data row15 col3\" >0</td>\n",
       "    </tr>\n",
       "    <tr>\n",
       "      <th id=\"T_e157d_level0_row16\" class=\"row_heading level0 row16\" >3776826</th>\n",
       "      <td id=\"T_e157d_row16_col0\" class=\"data row16 col0\" >102236</td>\n",
       "      <td id=\"T_e157d_row16_col1\" class=\"data row16 col1\" >16757</td>\n",
       "      <td id=\"T_e157d_row16_col2\" class=\"data row16 col2\" ><NA></td>\n",
       "      <td id=\"T_e157d_row16_col3\" class=\"data row16 col3\" >0</td>\n",
       "    </tr>\n",
       "    <tr>\n",
       "      <th id=\"T_e157d_level0_row17\" class=\"row_heading level0 row17\" >137628</th>\n",
       "      <td id=\"T_e157d_row17_col0\" class=\"data row17 col0\" >1038146</td>\n",
       "      <td id=\"T_e157d_row17_col1\" class=\"data row17 col1\" >42110</td>\n",
       "      <td id=\"T_e157d_row17_col2\" class=\"data row17 col2\" ><NA></td>\n",
       "      <td id=\"T_e157d_row17_col3\" class=\"data row17 col3\" >1</td>\n",
       "    </tr>\n",
       "    <tr>\n",
       "      <th id=\"T_e157d_level0_row18\" class=\"row_heading level0 row18\" >3692008</th>\n",
       "      <td id=\"T_e157d_row18_col0\" class=\"data row18 col0\" >1959075</td>\n",
       "      <td id=\"T_e157d_row18_col1\" class=\"data row18 col1\" >45842</td>\n",
       "      <td id=\"T_e157d_row18_col2\" class=\"data row18 col2\" ><NA></td>\n",
       "      <td id=\"T_e157d_row18_col3\" class=\"data row18 col3\" >1</td>\n",
       "    </tr>\n",
       "    <tr>\n",
       "      <th id=\"T_e157d_level0_row19\" class=\"row_heading level0 row19\" >2126292</th>\n",
       "      <td id=\"T_e157d_row19_col0\" class=\"data row19 col0\" >1730767</td>\n",
       "      <td id=\"T_e157d_row19_col1\" class=\"data row19 col1\" >24265</td>\n",
       "      <td id=\"T_e157d_row19_col2\" class=\"data row19 col2\" ><NA></td>\n",
       "      <td id=\"T_e157d_row19_col3\" class=\"data row19 col3\" >1</td>\n",
       "    </tr>\n",
       "    <tr>\n",
       "      <th id=\"T_e157d_level0_row20\" class=\"row_heading level0 row20\" >1896630</th>\n",
       "      <td id=\"T_e157d_row20_col0\" class=\"data row20 col0\" >1959075</td>\n",
       "      <td id=\"T_e157d_row20_col1\" class=\"data row20 col1\" >16241</td>\n",
       "      <td id=\"T_e157d_row20_col2\" class=\"data row20 col2\" ><NA></td>\n",
       "      <td id=\"T_e157d_row20_col3\" class=\"data row20 col3\" >1</td>\n",
       "    </tr>\n",
       "    <tr>\n",
       "      <th id=\"T_e157d_level0_row21\" class=\"row_heading level0 row21\" >144645</th>\n",
       "      <td id=\"T_e157d_row21_col0\" class=\"data row21 col0\" >2997021</td>\n",
       "      <td id=\"T_e157d_row21_col1\" class=\"data row21 col1\" >29418</td>\n",
       "      <td id=\"T_e157d_row21_col2\" class=\"data row21 col2\" ><NA></td>\n",
       "      <td id=\"T_e157d_row21_col3\" class=\"data row21 col3\" >0</td>\n",
       "    </tr>\n",
       "    <tr>\n",
       "      <th id=\"T_e157d_level0_row22\" class=\"row_heading level0 row22\" >1546886</th>\n",
       "      <td id=\"T_e157d_row22_col0\" class=\"data row22 col0\" >854647</td>\n",
       "      <td id=\"T_e157d_row22_col1\" class=\"data row22 col1\" >37664</td>\n",
       "      <td id=\"T_e157d_row22_col2\" class=\"data row22 col2\" ><NA></td>\n",
       "      <td id=\"T_e157d_row22_col3\" class=\"data row22 col3\" >0</td>\n",
       "    </tr>\n",
       "    <tr>\n",
       "      <th id=\"T_e157d_level0_row23\" class=\"row_heading level0 row23\" >3719154</th>\n",
       "      <td id=\"T_e157d_row23_col0\" class=\"data row23 col0\" >1968313</td>\n",
       "      <td id=\"T_e157d_row23_col1\" class=\"data row23 col1\" >41593</td>\n",
       "      <td id=\"T_e157d_row23_col2\" class=\"data row23 col2\" ><NA></td>\n",
       "      <td id=\"T_e157d_row23_col3\" class=\"data row23 col3\" >0</td>\n",
       "    </tr>\n",
       "    <tr>\n",
       "      <th id=\"T_e157d_level0_row24\" class=\"row_heading level0 row24\" >392812</th>\n",
       "      <td id=\"T_e157d_row24_col0\" class=\"data row24 col0\" >813364</td>\n",
       "      <td id=\"T_e157d_row24_col1\" class=\"data row24 col1\" >44987</td>\n",
       "      <td id=\"T_e157d_row24_col2\" class=\"data row24 col2\" ><NA></td>\n",
       "      <td id=\"T_e157d_row24_col3\" class=\"data row24 col3\" >1</td>\n",
       "    </tr>\n",
       "  </tbody>\n",
       "</table>\n"
      ],
      "text/plain": [
       "<pandas.io.formats.style.Styler at 0x2a3d4c39db0>"
      ]
     },
     "metadata": {},
     "output_type": "display_data"
    }
   ],
   "source": [
    "# Find missing values\n",
    "print(\"*** DataFrame [Order products], column 'add_to_cart_order' missing values ​​properly identified as <NA>: \")\n",
    "print(df_order_products['add_to_cart_order'].value_counts(dropna=False), \"\\n\")\n",
    "print(\"Missing values: \", df_order_products['add_to_cart_order'].isna().sum())\n",
    "print()\n",
    "df_view = df_order_products.loc[df_order_products['add_to_cart_order'].isna(), :]\n",
    "display(df_view.sample(25).style.apply(zebra_rows, axis=1))"
   ]
  },
  {
   "cell_type": "code",
   "execution_count": 39,
   "id": "9a78e5ee",
   "metadata": {
    "id": "9a78e5ee"
   },
   "outputs": [
    {
     "name": "stdout",
     "output_type": "stream",
     "text": [
      "*** DataFrame [Order products], column 'add_to_cart_order', minimum and maximum values: \n",
      "\n",
      "count    4544171.0\n",
      "mean      8.351669\n",
      "std       7.080368\n",
      "min            1.0\n",
      "25%            3.0\n",
      "50%            6.0\n",
      "75%           11.0\n",
      "max           64.0\n",
      "Name: add_to_cart_order, dtype: Float64\n",
      "\n",
      "Minimum value for column order_id: 4, Maximum value for column order_id: 3421079\n",
      "Minimum value for column product_id: 1, Maximum value for column product_id: 49694\n",
      "Minimum value for column reordered: 0, Maximum value for column reordered: 1\n"
     ]
    }
   ],
   "source": [
    "# What are the minimum and maximum values ​​in this column?\n",
    "print(\"*** DataFrame [Order products], column 'add_to_cart_order', minimum and maximum values: \\n\")\n",
    "print(pd. to_numeric(df_order_products['add_to_cart_order'], errors='coerce'). astype('Float64'). describe(include='all'))\n",
    "\n",
    "print()\n",
    "\n",
    "for column in df_order_products:\n",
    "    \n",
    "    if column != 'add_to_cart_order':\n",
    "        print(f\"Minimum value for column {column}: {df_order_products[column]. min()}, Maximum value for column {column}: {df_order_products[column]. max()}\")"
   ]
  },
  {
   "cell_type": "markdown",
   "id": "-Z2Ja215jW78",
   "metadata": {
    "id": "-Z2Ja215jW78"
   },
   "source": [
    "Briefly describe your findings.\n",
    "###### _LSPL_\n",
    "\n",
    "836 missing values ​​were found in the [Order products] DataFrame, column 'add_to_cart_order'; the minimum values ​​for the columns correspond to the business logic."
   ]
  },
  {
   "cell_type": "code",
   "execution_count": 40,
   "id": "ab9d0c2b",
   "metadata": {
    "id": "ab9d0c2b"
   },
   "outputs": [
    {
     "name": "stdout",
     "output_type": "stream",
     "text": [
      "[2449164 1968313 2926893 1717990 1959075  844733   61355  936852  264710\n",
      " 1564093  129627  293169 2849370 1386261 3308010  903110 2136777 3347453\n",
      " 1888628  165801 2094761 1038146 2997021  813364 2256933  171934 2409109\n",
      " 1730767 1169835  733526  404157 3125735  747668 1800005 1961723  871281\n",
      "  388234 1648217 1477139  102236 1021563 1832957 2721963  678116 1220886\n",
      " 1673227 2999801 1633337 2470674 2625444 1677118 2479011 3383594 1183255\n",
      " 1713430 2652650 1598369 1916118  854647 1302315  888470  180546 2621907\n",
      " 1308785 2729254    9310 2170451 2979697 1625713 1529171]\n"
     ]
    }
   ],
   "source": [
    "# Save all order IDs that have a missing value in 'add_to_cart_order'\n",
    "missing_ordr_ids = df_order_products.loc[df_order_products['add_to_cart_order'].isna(), 'order_id'].unique()\n",
    "print(missing_ordr_ids)"
   ]
  },
  {
   "cell_type": "code",
   "execution_count": 41,
   "id": "54c31695",
   "metadata": {
    "id": "54c31695"
   },
   "outputs": [
    {
     "name": "stdout",
     "output_type": "stream",
     "text": [
      "Do all orders with missing values ​​have more than 64 products? False\n",
      "\n",
      "Product quantities in each order with missing values ​​in column 'add_to_cart_order': \n",
      " order_id\n",
      "9310        1\n",
      "61355      63\n",
      "102236     31\n",
      "129627      5\n",
      "165801      6\n",
      "           ..\n",
      "2999801     6\n",
      "3125735    22\n",
      "3308010    51\n",
      "3347453     7\n",
      "3383594     5\n",
      "Name: product_id, Length: 70, dtype: int64\n",
      "Minimum value of products in each order with missing values ​​in column 'add_to_cart_order':  1\n"
     ]
    }
   ],
   "source": [
    "# Do all orders with missing values ​​have more than 64 products?\n",
    "df_op_na = df_order_products.loc[df_order_products['add_to_cart_order'].isna(), :]\n",
    "\n",
    "print(\"Do all orders with missing values ​​have more than 64 products?\", (df_op_na.groupby('order_id')['product_id'].count() > 64).all())\n",
    "print()\n",
    "\n",
    "# Group all orders with missing data by their order ID.\n",
    "df_oid_na = df_op_na.groupby('order_id')\n",
    "\n",
    "# Count the number of 'product_id's' in each order and check the minimum count.\n",
    "print(\"Product quantities in each order with missing values ​​in column 'add_to_cart_order': \\n\", df_oid_na['product_id'].count())\n",
    "print(\"Minimum value of products in each order with missing values ​​in column 'add_to_cart_order': \", df_oid_na['product_id'].count().min())"
   ]
  },
  {
   "cell_type": "markdown",
   "id": "p9V6pddtjglj",
   "metadata": {
    "id": "p9V6pddtjglj"
   },
   "source": [
    "Briefly describe your findings.\n",
    "###### _LSPL_\n",
    "I can't find any direct business logic between these columns based solely on the information analyzed. Missing values ​​in the 'add_to_cart_order' column could mean that the data wasn't captured correctly, the order was generated differently (automatic reordering), or there was a system error."
   ]
  },
  {
   "cell_type": "code",
   "execution_count": 42,
   "id": "7a987d08",
   "metadata": {
    "id": "7a987d08"
   },
   "outputs": [
    {
     "name": "stdout",
     "output_type": "stream",
     "text": [
      "*** DataFrame [Order products], column 'add_to_cart_order' data type:  int64\n",
      "\n",
      "DataFrame [Order products], column 'add_to_cart_order' unique values: \n",
      " [ 17   1  35   5   4  10  14   2  28   3  16   8   7   6   9  15  22  49\n",
      "  19  13  11  12  18  24  23  45  30  31  29  21  38  20  57  58  26  25\n",
      "  39  34  40  27 999  43  33  42  50  32  36  37  61  46  56  41  44  55\n",
      "  54  47  63  48  60  62  53  59  52  51  64]\n"
     ]
    }
   ],
   "source": [
    "# Replace missing values ​​in column 'add_to_cart? with 999 and converts the column to integer type.\n",
    "df_order_products['add_to_cart_order'] = pd.to_numeric(df_order_products['add_to_cart_order'], errors='coerce').fillna(999).astype('int64')\n",
    "print(\"*** DataFrame [Order products], column 'add_to_cart_order' data type: \", df_order_products['add_to_cart_order'].dtypes)\n",
    "print()\n",
    "print(\"DataFrame [Order products], column 'add_to_cart_order' unique values: \\n\", df_order_products['add_to_cart_order'].unique())"
   ]
  },
  {
   "cell_type": "markdown",
   "id": "fea4bcc7",
   "metadata": {
    "id": "fea4bcc7"
   },
   "source": [
    "Briefly describe your findings and what you did with them.\n",
    "###### _LSPL_\n",
    "836 missing values ​​were identified in the 'add_to_cart_order' column. The number of products with missing values ​​is not directly related to the number of products and the absence of missing values ​​in 'add_to_cart_order'. Whether there are many or few products does not depend on whether 'add_to_cart_order' contains missing values ​​or not. Other external variables could be missing: how was the order placed? By app? By web? By automatic reorder? By assistance?"
   ]
  },
  {
   "cell_type": "markdown",
   "id": "10b8121c",
   "metadata": {},
   "source": [
    "##### __Note__\n",
    "###### _LSPL_\n",
    "Additionally, I'd like to correct the following:\n",
    "\n",
    "Strings with spaces were found in compound names. Please standardize the format to snake_case.\n",
    "- DataFrame [Aisles] column 'aisle'\n",
    "- DataFrame [Departments] column 'departmen'\n",
    "\n",
    "Quantitative values ​​were found as categorical values. Please convert them to numeric values.\n",
    "- DataFrame [Instacart orders] column 'days_since_prior_order'\n",
    "\n",
    "Strings with spaces and '-' were found in compound names. Please standardize the format to snake_case.\n",
    "- DataFrame [Products] column 'product_name'\n"
   ]
  },
  {
   "cell_type": "code",
   "execution_count": 43,
   "id": "b926f3e9",
   "metadata": {},
   "outputs": [
    {
     "data": {
      "text/html": [
       "<style type=\"text/css\">\n",
       "#T_264c1_row0_col0, #T_264c1_row0_col1, #T_264c1_row1_col0, #T_264c1_row1_col1, #T_264c1_row4_col0, #T_264c1_row4_col1, #T_264c1_row6_col0, #T_264c1_row6_col1, #T_264c1_row7_col0, #T_264c1_row7_col1, #T_264c1_row10_col0, #T_264c1_row10_col1, #T_264c1_row11_col0, #T_264c1_row11_col1, #T_264c1_row16_col0, #T_264c1_row16_col1, #T_264c1_row17_col0, #T_264c1_row17_col1, #T_264c1_row20_col0, #T_264c1_row20_col1, #T_264c1_row21_col0, #T_264c1_row21_col1, #T_264c1_row22_col0, #T_264c1_row22_col1, #T_264c1_row23_col0, #T_264c1_row23_col1 {\n",
       "  background-color: #595959;\n",
       "}\n",
       "#T_264c1_row2_col0, #T_264c1_row2_col1, #T_264c1_row3_col0, #T_264c1_row3_col1, #T_264c1_row5_col0, #T_264c1_row5_col1, #T_264c1_row8_col0, #T_264c1_row8_col1, #T_264c1_row9_col0, #T_264c1_row9_col1, #T_264c1_row12_col0, #T_264c1_row12_col1, #T_264c1_row13_col0, #T_264c1_row13_col1, #T_264c1_row14_col0, #T_264c1_row14_col1, #T_264c1_row15_col0, #T_264c1_row15_col1, #T_264c1_row18_col0, #T_264c1_row18_col1, #T_264c1_row19_col0, #T_264c1_row19_col1, #T_264c1_row24_col0, #T_264c1_row24_col1 {\n",
       "  background-color: #808080;\n",
       "}\n",
       "</style>\n",
       "<table id=\"T_264c1\">\n",
       "  <thead>\n",
       "    <tr>\n",
       "      <th class=\"blank level0\" >&nbsp;</th>\n",
       "      <th id=\"T_264c1_level0_col0\" class=\"col_heading level0 col0\" >aisle_id</th>\n",
       "      <th id=\"T_264c1_level0_col1\" class=\"col_heading level0 col1\" >aisle</th>\n",
       "    </tr>\n",
       "  </thead>\n",
       "  <tbody>\n",
       "    <tr>\n",
       "      <th id=\"T_264c1_level0_row0\" class=\"row_heading level0 row0\" >127</th>\n",
       "      <td id=\"T_264c1_row0_col0\" class=\"data row0 col0\" >128</td>\n",
       "      <td id=\"T_264c1_row0_col1\" class=\"data row0 col1\" >tortillas_flat_bread</td>\n",
       "    </tr>\n",
       "    <tr>\n",
       "      <th id=\"T_264c1_level0_row1\" class=\"row_heading level0 row1\" >95</th>\n",
       "      <td id=\"T_264c1_row1_col0\" class=\"data row1 col0\" >96</td>\n",
       "      <td id=\"T_264c1_row1_col1\" class=\"data row1 col1\" >lunch_meat</td>\n",
       "    </tr>\n",
       "    <tr>\n",
       "      <th id=\"T_264c1_level0_row2\" class=\"row_heading level0 row2\" >90</th>\n",
       "      <td id=\"T_264c1_row2_col0\" class=\"data row2 col0\" >91</td>\n",
       "      <td id=\"T_264c1_row2_col1\" class=\"data row2 col1\" >soy_lactosefree</td>\n",
       "    </tr>\n",
       "    <tr>\n",
       "      <th id=\"T_264c1_level0_row3\" class=\"row_heading level0 row3\" >74</th>\n",
       "      <td id=\"T_264c1_row3_col0\" class=\"data row3 col0\" >75</td>\n",
       "      <td id=\"T_264c1_row3_col1\" class=\"data row3 col1\" >laundry</td>\n",
       "    </tr>\n",
       "    <tr>\n",
       "      <th id=\"T_264c1_level0_row4\" class=\"row_heading level0 row4\" >81</th>\n",
       "      <td id=\"T_264c1_row4_col0\" class=\"data row4 col0\" >82</td>\n",
       "      <td id=\"T_264c1_row4_col1\" class=\"data row4 col1\" >baby_accessories</td>\n",
       "    </tr>\n",
       "    <tr>\n",
       "      <th id=\"T_264c1_level0_row5\" class=\"row_heading level0 row5\" >40</th>\n",
       "      <td id=\"T_264c1_row5_col0\" class=\"data row5 col0\" >41</td>\n",
       "      <td id=\"T_264c1_row5_col1\" class=\"data row5 col1\" >cat_food_care</td>\n",
       "    </tr>\n",
       "    <tr>\n",
       "      <th id=\"T_264c1_level0_row6\" class=\"row_heading level0 row6\" >99</th>\n",
       "      <td id=\"T_264c1_row6_col0\" class=\"data row6 col0\" >100</td>\n",
       "      <td id=\"T_264c1_row6_col1\" class=\"data row6 col1\" >missing</td>\n",
       "    </tr>\n",
       "    <tr>\n",
       "      <th id=\"T_264c1_level0_row7\" class=\"row_heading level0 row7\" >1</th>\n",
       "      <td id=\"T_264c1_row7_col0\" class=\"data row7 col0\" >2</td>\n",
       "      <td id=\"T_264c1_row7_col1\" class=\"data row7 col1\" >specialty_cheeses</td>\n",
       "    </tr>\n",
       "    <tr>\n",
       "      <th id=\"T_264c1_level0_row8\" class=\"row_heading level0 row8\" >54</th>\n",
       "      <td id=\"T_264c1_row8_col0\" class=\"data row8 col0\" >55</td>\n",
       "      <td id=\"T_264c1_row8_col1\" class=\"data row8 col1\" >shave_needs</td>\n",
       "    </tr>\n",
       "    <tr>\n",
       "      <th id=\"T_264c1_level0_row9\" class=\"row_heading level0 row9\" >2</th>\n",
       "      <td id=\"T_264c1_row9_col0\" class=\"data row9 col0\" >3</td>\n",
       "      <td id=\"T_264c1_row9_col1\" class=\"data row9 col1\" >energy_granola_bars</td>\n",
       "    </tr>\n",
       "    <tr>\n",
       "      <th id=\"T_264c1_level0_row10\" class=\"row_heading level0 row10\" >29</th>\n",
       "      <td id=\"T_264c1_row10_col0\" class=\"data row10 col0\" >30</td>\n",
       "      <td id=\"T_264c1_row10_col1\" class=\"data row10 col1\" >latino_foods</td>\n",
       "    </tr>\n",
       "    <tr>\n",
       "      <th id=\"T_264c1_level0_row11\" class=\"row_heading level0 row11\" >79</th>\n",
       "      <td id=\"T_264c1_row11_col0\" class=\"data row11 col0\" >80</td>\n",
       "      <td id=\"T_264c1_row11_col1\" class=\"data row11 col1\" >deodorants</td>\n",
       "    </tr>\n",
       "    <tr>\n",
       "      <th id=\"T_264c1_level0_row12\" class=\"row_heading level0 row12\" >98</th>\n",
       "      <td id=\"T_264c1_row12_col0\" class=\"data row12 col0\" >99</td>\n",
       "      <td id=\"T_264c1_row12_col1\" class=\"data row12 col1\" >canned_fruit_applesauce</td>\n",
       "    </tr>\n",
       "    <tr>\n",
       "      <th id=\"T_264c1_level0_row13\" class=\"row_heading level0 row13\" >128</th>\n",
       "      <td id=\"T_264c1_row13_col0\" class=\"data row13 col0\" >129</td>\n",
       "      <td id=\"T_264c1_row13_col1\" class=\"data row13 col1\" >frozen_appetizers_sides</td>\n",
       "    </tr>\n",
       "    <tr>\n",
       "      <th id=\"T_264c1_level0_row14\" class=\"row_heading level0 row14\" >14</th>\n",
       "      <td id=\"T_264c1_row14_col0\" class=\"data row14 col0\" >15</td>\n",
       "      <td id=\"T_264c1_row14_col1\" class=\"data row14 col1\" >packaged_seafood</td>\n",
       "    </tr>\n",
       "    <tr>\n",
       "      <th id=\"T_264c1_level0_row15\" class=\"row_heading level0 row15\" >58</th>\n",
       "      <td id=\"T_264c1_row15_col0\" class=\"data row15 col0\" >59</td>\n",
       "      <td id=\"T_264c1_row15_col1\" class=\"data row15 col1\" >canned_meals_beans</td>\n",
       "    </tr>\n",
       "    <tr>\n",
       "      <th id=\"T_264c1_level0_row16\" class=\"row_heading level0 row16\" >65</th>\n",
       "      <td id=\"T_264c1_row16_col0\" class=\"data row16 col0\" >66</td>\n",
       "      <td id=\"T_264c1_row16_col1\" class=\"data row16 col1\" >asian_foods</td>\n",
       "    </tr>\n",
       "    <tr>\n",
       "      <th id=\"T_264c1_level0_row17\" class=\"row_heading level0 row17\" >67</th>\n",
       "      <td id=\"T_264c1_row17_col0\" class=\"data row17 col0\" >68</td>\n",
       "      <td id=\"T_264c1_row17_col1\" class=\"data row17 col1\" >bulk_grains_rice_dried_goods</td>\n",
       "    </tr>\n",
       "    <tr>\n",
       "      <th id=\"T_264c1_level0_row18\" class=\"row_heading level0 row18\" >36</th>\n",
       "      <td id=\"T_264c1_row18_col0\" class=\"data row18 col0\" >37</td>\n",
       "      <td id=\"T_264c1_row18_col1\" class=\"data row18 col1\" >ice_cream_ice</td>\n",
       "    </tr>\n",
       "    <tr>\n",
       "      <th id=\"T_264c1_level0_row19\" class=\"row_heading level0 row19\" >4</th>\n",
       "      <td id=\"T_264c1_row19_col0\" class=\"data row19 col0\" >5</td>\n",
       "      <td id=\"T_264c1_row19_col1\" class=\"data row19 col1\" >marinades_meat_preparation</td>\n",
       "    </tr>\n",
       "    <tr>\n",
       "      <th id=\"T_264c1_level0_row20\" class=\"row_heading level0 row20\" >37</th>\n",
       "      <td id=\"T_264c1_row20_col0\" class=\"data row20 col0\" >38</td>\n",
       "      <td id=\"T_264c1_row20_col1\" class=\"data row20 col1\" >frozen_meals</td>\n",
       "    </tr>\n",
       "    <tr>\n",
       "      <th id=\"T_264c1_level0_row21\" class=\"row_heading level0 row21\" >27</th>\n",
       "      <td id=\"T_264c1_row21_col0\" class=\"data row21 col0\" >28</td>\n",
       "      <td id=\"T_264c1_row21_col1\" class=\"data row21 col1\" >red_wines</td>\n",
       "    </tr>\n",
       "    <tr>\n",
       "      <th id=\"T_264c1_level0_row22\" class=\"row_heading level0 row22\" >11</th>\n",
       "      <td id=\"T_264c1_row22_col0\" class=\"data row22 col0\" >12</td>\n",
       "      <td id=\"T_264c1_row22_col1\" class=\"data row22 col1\" >fresh_pasta</td>\n",
       "    </tr>\n",
       "    <tr>\n",
       "      <th id=\"T_264c1_level0_row23\" class=\"row_heading level0 row23\" >61</th>\n",
       "      <td id=\"T_264c1_row23_col0\" class=\"data row23 col0\" >62</td>\n",
       "      <td id=\"T_264c1_row23_col1\" class=\"data row23 col1\" >white_wines</td>\n",
       "    </tr>\n",
       "    <tr>\n",
       "      <th id=\"T_264c1_level0_row24\" class=\"row_heading level0 row24\" >120</th>\n",
       "      <td id=\"T_264c1_row24_col0\" class=\"data row24 col0\" >121</td>\n",
       "      <td id=\"T_264c1_row24_col1\" class=\"data row24 col1\" >cereal</td>\n",
       "    </tr>\n",
       "  </tbody>\n",
       "</table>\n"
      ],
      "text/plain": [
       "<pandas.io.formats.style.Styler at 0x2a3d4c47e80>"
      ]
     },
     "metadata": {},
     "output_type": "display_data"
    },
    {
     "name": "stdout",
     "output_type": "stream",
     "text": [
      "\n"
     ]
    },
    {
     "data": {
      "text/html": [
       "<style type=\"text/css\">\n",
       "#T_0f946_row0_col0, #T_0f946_row0_col1, #T_0f946_row2_col0, #T_0f946_row2_col1, #T_0f946_row4_col0, #T_0f946_row4_col1, #T_0f946_row6_col0, #T_0f946_row6_col1, #T_0f946_row8_col0, #T_0f946_row8_col1, #T_0f946_row10_col0, #T_0f946_row10_col1, #T_0f946_row12_col0, #T_0f946_row12_col1, #T_0f946_row14_col0, #T_0f946_row14_col1, #T_0f946_row16_col0, #T_0f946_row16_col1, #T_0f946_row18_col0, #T_0f946_row18_col1, #T_0f946_row20_col0, #T_0f946_row20_col1 {\n",
       "  background-color: #808080;\n",
       "}\n",
       "#T_0f946_row1_col0, #T_0f946_row1_col1, #T_0f946_row3_col0, #T_0f946_row3_col1, #T_0f946_row5_col0, #T_0f946_row5_col1, #T_0f946_row7_col0, #T_0f946_row7_col1, #T_0f946_row9_col0, #T_0f946_row9_col1, #T_0f946_row11_col0, #T_0f946_row11_col1, #T_0f946_row13_col0, #T_0f946_row13_col1, #T_0f946_row15_col0, #T_0f946_row15_col1, #T_0f946_row17_col0, #T_0f946_row17_col1, #T_0f946_row19_col0, #T_0f946_row19_col1 {\n",
       "  background-color: #595959;\n",
       "}\n",
       "</style>\n",
       "<table id=\"T_0f946\">\n",
       "  <thead>\n",
       "    <tr>\n",
       "      <th class=\"blank level0\" >&nbsp;</th>\n",
       "      <th id=\"T_0f946_level0_col0\" class=\"col_heading level0 col0\" >department_id</th>\n",
       "      <th id=\"T_0f946_level0_col1\" class=\"col_heading level0 col1\" >department</th>\n",
       "    </tr>\n",
       "  </thead>\n",
       "  <tbody>\n",
       "    <tr>\n",
       "      <th id=\"T_0f946_level0_row0\" class=\"row_heading level0 row0\" >0</th>\n",
       "      <td id=\"T_0f946_row0_col0\" class=\"data row0 col0\" >1</td>\n",
       "      <td id=\"T_0f946_row0_col1\" class=\"data row0 col1\" >frozen</td>\n",
       "    </tr>\n",
       "    <tr>\n",
       "      <th id=\"T_0f946_level0_row1\" class=\"row_heading level0 row1\" >1</th>\n",
       "      <td id=\"T_0f946_row1_col0\" class=\"data row1 col0\" >2</td>\n",
       "      <td id=\"T_0f946_row1_col1\" class=\"data row1 col1\" >other</td>\n",
       "    </tr>\n",
       "    <tr>\n",
       "      <th id=\"T_0f946_level0_row2\" class=\"row_heading level0 row2\" >2</th>\n",
       "      <td id=\"T_0f946_row2_col0\" class=\"data row2 col0\" >3</td>\n",
       "      <td id=\"T_0f946_row2_col1\" class=\"data row2 col1\" >bakery</td>\n",
       "    </tr>\n",
       "    <tr>\n",
       "      <th id=\"T_0f946_level0_row3\" class=\"row_heading level0 row3\" >3</th>\n",
       "      <td id=\"T_0f946_row3_col0\" class=\"data row3 col0\" >4</td>\n",
       "      <td id=\"T_0f946_row3_col1\" class=\"data row3 col1\" >produce</td>\n",
       "    </tr>\n",
       "    <tr>\n",
       "      <th id=\"T_0f946_level0_row4\" class=\"row_heading level0 row4\" >4</th>\n",
       "      <td id=\"T_0f946_row4_col0\" class=\"data row4 col0\" >5</td>\n",
       "      <td id=\"T_0f946_row4_col1\" class=\"data row4 col1\" >alcohol</td>\n",
       "    </tr>\n",
       "    <tr>\n",
       "      <th id=\"T_0f946_level0_row5\" class=\"row_heading level0 row5\" >5</th>\n",
       "      <td id=\"T_0f946_row5_col0\" class=\"data row5 col0\" >6</td>\n",
       "      <td id=\"T_0f946_row5_col1\" class=\"data row5 col1\" >international</td>\n",
       "    </tr>\n",
       "    <tr>\n",
       "      <th id=\"T_0f946_level0_row6\" class=\"row_heading level0 row6\" >6</th>\n",
       "      <td id=\"T_0f946_row6_col0\" class=\"data row6 col0\" >7</td>\n",
       "      <td id=\"T_0f946_row6_col1\" class=\"data row6 col1\" >beverages</td>\n",
       "    </tr>\n",
       "    <tr>\n",
       "      <th id=\"T_0f946_level0_row7\" class=\"row_heading level0 row7\" >7</th>\n",
       "      <td id=\"T_0f946_row7_col0\" class=\"data row7 col0\" >8</td>\n",
       "      <td id=\"T_0f946_row7_col1\" class=\"data row7 col1\" >pets</td>\n",
       "    </tr>\n",
       "    <tr>\n",
       "      <th id=\"T_0f946_level0_row8\" class=\"row_heading level0 row8\" >8</th>\n",
       "      <td id=\"T_0f946_row8_col0\" class=\"data row8 col0\" >9</td>\n",
       "      <td id=\"T_0f946_row8_col1\" class=\"data row8 col1\" >dry_goods_pasta</td>\n",
       "    </tr>\n",
       "    <tr>\n",
       "      <th id=\"T_0f946_level0_row9\" class=\"row_heading level0 row9\" >9</th>\n",
       "      <td id=\"T_0f946_row9_col0\" class=\"data row9 col0\" >10</td>\n",
       "      <td id=\"T_0f946_row9_col1\" class=\"data row9 col1\" >bulk</td>\n",
       "    </tr>\n",
       "    <tr>\n",
       "      <th id=\"T_0f946_level0_row10\" class=\"row_heading level0 row10\" >10</th>\n",
       "      <td id=\"T_0f946_row10_col0\" class=\"data row10 col0\" >11</td>\n",
       "      <td id=\"T_0f946_row10_col1\" class=\"data row10 col1\" >personal_care</td>\n",
       "    </tr>\n",
       "    <tr>\n",
       "      <th id=\"T_0f946_level0_row11\" class=\"row_heading level0 row11\" >11</th>\n",
       "      <td id=\"T_0f946_row11_col0\" class=\"data row11 col0\" >12</td>\n",
       "      <td id=\"T_0f946_row11_col1\" class=\"data row11 col1\" >meat_seafood</td>\n",
       "    </tr>\n",
       "    <tr>\n",
       "      <th id=\"T_0f946_level0_row12\" class=\"row_heading level0 row12\" >12</th>\n",
       "      <td id=\"T_0f946_row12_col0\" class=\"data row12 col0\" >13</td>\n",
       "      <td id=\"T_0f946_row12_col1\" class=\"data row12 col1\" >pantry</td>\n",
       "    </tr>\n",
       "    <tr>\n",
       "      <th id=\"T_0f946_level0_row13\" class=\"row_heading level0 row13\" >13</th>\n",
       "      <td id=\"T_0f946_row13_col0\" class=\"data row13 col0\" >14</td>\n",
       "      <td id=\"T_0f946_row13_col1\" class=\"data row13 col1\" >breakfast</td>\n",
       "    </tr>\n",
       "    <tr>\n",
       "      <th id=\"T_0f946_level0_row14\" class=\"row_heading level0 row14\" >14</th>\n",
       "      <td id=\"T_0f946_row14_col0\" class=\"data row14 col0\" >15</td>\n",
       "      <td id=\"T_0f946_row14_col1\" class=\"data row14 col1\" >canned_goods</td>\n",
       "    </tr>\n",
       "    <tr>\n",
       "      <th id=\"T_0f946_level0_row15\" class=\"row_heading level0 row15\" >15</th>\n",
       "      <td id=\"T_0f946_row15_col0\" class=\"data row15 col0\" >16</td>\n",
       "      <td id=\"T_0f946_row15_col1\" class=\"data row15 col1\" >dairy_eggs</td>\n",
       "    </tr>\n",
       "    <tr>\n",
       "      <th id=\"T_0f946_level0_row16\" class=\"row_heading level0 row16\" >16</th>\n",
       "      <td id=\"T_0f946_row16_col0\" class=\"data row16 col0\" >17</td>\n",
       "      <td id=\"T_0f946_row16_col1\" class=\"data row16 col1\" >household</td>\n",
       "    </tr>\n",
       "    <tr>\n",
       "      <th id=\"T_0f946_level0_row17\" class=\"row_heading level0 row17\" >17</th>\n",
       "      <td id=\"T_0f946_row17_col0\" class=\"data row17 col0\" >18</td>\n",
       "      <td id=\"T_0f946_row17_col1\" class=\"data row17 col1\" >babies</td>\n",
       "    </tr>\n",
       "    <tr>\n",
       "      <th id=\"T_0f946_level0_row18\" class=\"row_heading level0 row18\" >18</th>\n",
       "      <td id=\"T_0f946_row18_col0\" class=\"data row18 col0\" >19</td>\n",
       "      <td id=\"T_0f946_row18_col1\" class=\"data row18 col1\" >snacks</td>\n",
       "    </tr>\n",
       "    <tr>\n",
       "      <th id=\"T_0f946_level0_row19\" class=\"row_heading level0 row19\" >19</th>\n",
       "      <td id=\"T_0f946_row19_col0\" class=\"data row19 col0\" >20</td>\n",
       "      <td id=\"T_0f946_row19_col1\" class=\"data row19 col1\" >deli</td>\n",
       "    </tr>\n",
       "    <tr>\n",
       "      <th id=\"T_0f946_level0_row20\" class=\"row_heading level0 row20\" >20</th>\n",
       "      <td id=\"T_0f946_row20_col0\" class=\"data row20 col0\" >21</td>\n",
       "      <td id=\"T_0f946_row20_col1\" class=\"data row20 col1\" >missing</td>\n",
       "    </tr>\n",
       "  </tbody>\n",
       "</table>\n"
      ],
      "text/plain": [
       "<pandas.io.formats.style.Styler at 0x2a3d4c38c70>"
      ]
     },
     "metadata": {},
     "output_type": "display_data"
    },
    {
     "name": "stdout",
     "output_type": "stream",
     "text": [
      "\n"
     ]
    },
    {
     "data": {
      "text/html": [
       "<style type=\"text/css\">\n",
       "#T_87c90_row0_col0, #T_87c90_row0_col1, #T_87c90_row0_col2, #T_87c90_row0_col3, #T_87c90_row1_col0, #T_87c90_row1_col1, #T_87c90_row1_col2, #T_87c90_row1_col3, #T_87c90_row4_col0, #T_87c90_row4_col1, #T_87c90_row4_col2, #T_87c90_row4_col3, #T_87c90_row6_col0, #T_87c90_row6_col1, #T_87c90_row6_col2, #T_87c90_row6_col3, #T_87c90_row7_col0, #T_87c90_row7_col1, #T_87c90_row7_col2, #T_87c90_row7_col3, #T_87c90_row9_col0, #T_87c90_row9_col1, #T_87c90_row9_col2, #T_87c90_row9_col3, #T_87c90_row17_col0, #T_87c90_row17_col1, #T_87c90_row17_col2, #T_87c90_row17_col3, #T_87c90_row18_col0, #T_87c90_row18_col1, #T_87c90_row18_col2, #T_87c90_row18_col3, #T_87c90_row19_col0, #T_87c90_row19_col1, #T_87c90_row19_col2, #T_87c90_row19_col3, #T_87c90_row20_col0, #T_87c90_row20_col1, #T_87c90_row20_col2, #T_87c90_row20_col3, #T_87c90_row24_col0, #T_87c90_row24_col1, #T_87c90_row24_col2, #T_87c90_row24_col3 {\n",
       "  background-color: #595959;\n",
       "}\n",
       "#T_87c90_row2_col0, #T_87c90_row2_col1, #T_87c90_row2_col2, #T_87c90_row2_col3, #T_87c90_row3_col0, #T_87c90_row3_col1, #T_87c90_row3_col2, #T_87c90_row3_col3, #T_87c90_row5_col0, #T_87c90_row5_col1, #T_87c90_row5_col2, #T_87c90_row5_col3, #T_87c90_row8_col0, #T_87c90_row8_col1, #T_87c90_row8_col2, #T_87c90_row8_col3, #T_87c90_row10_col0, #T_87c90_row10_col1, #T_87c90_row10_col2, #T_87c90_row10_col3, #T_87c90_row11_col0, #T_87c90_row11_col1, #T_87c90_row11_col2, #T_87c90_row11_col3, #T_87c90_row12_col0, #T_87c90_row12_col1, #T_87c90_row12_col2, #T_87c90_row12_col3, #T_87c90_row13_col0, #T_87c90_row13_col1, #T_87c90_row13_col2, #T_87c90_row13_col3, #T_87c90_row14_col0, #T_87c90_row14_col1, #T_87c90_row14_col2, #T_87c90_row14_col3, #T_87c90_row15_col0, #T_87c90_row15_col1, #T_87c90_row15_col2, #T_87c90_row15_col3, #T_87c90_row16_col0, #T_87c90_row16_col1, #T_87c90_row16_col2, #T_87c90_row16_col3, #T_87c90_row21_col0, #T_87c90_row21_col1, #T_87c90_row21_col2, #T_87c90_row21_col3, #T_87c90_row22_col0, #T_87c90_row22_col1, #T_87c90_row22_col2, #T_87c90_row22_col3, #T_87c90_row23_col0, #T_87c90_row23_col1, #T_87c90_row23_col2, #T_87c90_row23_col3 {\n",
       "  background-color: #808080;\n",
       "}\n",
       "</style>\n",
       "<table id=\"T_87c90\">\n",
       "  <thead>\n",
       "    <tr>\n",
       "      <th class=\"blank level0\" >&nbsp;</th>\n",
       "      <th id=\"T_87c90_level0_col0\" class=\"col_heading level0 col0\" >product_id</th>\n",
       "      <th id=\"T_87c90_level0_col1\" class=\"col_heading level0 col1\" >product_name</th>\n",
       "      <th id=\"T_87c90_level0_col2\" class=\"col_heading level0 col2\" >aisle_id</th>\n",
       "      <th id=\"T_87c90_level0_col3\" class=\"col_heading level0 col3\" >department_id</th>\n",
       "    </tr>\n",
       "  </thead>\n",
       "  <tbody>\n",
       "    <tr>\n",
       "      <th id=\"T_87c90_level0_row0\" class=\"row_heading level0 row0\" >257</th>\n",
       "      <td id=\"T_87c90_row0_col0\" class=\"data row0 col0\" >258</td>\n",
       "      <td id=\"T_87c90_row0_col1\" class=\"data row0 col1\" >vegetable_pot_pie</td>\n",
       "      <td id=\"T_87c90_row0_col2\" class=\"data row0 col2\" >38</td>\n",
       "      <td id=\"T_87c90_row0_col3\" class=\"data row0 col3\" >1</td>\n",
       "    </tr>\n",
       "    <tr>\n",
       "      <th id=\"T_87c90_level0_row1\" class=\"row_heading level0 row1\" >13851</th>\n",
       "      <td id=\"T_87c90_row1_col0\" class=\"data row1 col0\" >13852</td>\n",
       "      <td id=\"T_87c90_row1_col1\" class=\"data row1 col1\" >organic_broccoli_crown</td>\n",
       "      <td id=\"T_87c90_row1_col2\" class=\"data row1 col2\" >83</td>\n",
       "      <td id=\"T_87c90_row1_col3\" class=\"data row1 col3\" >4</td>\n",
       "    </tr>\n",
       "    <tr>\n",
       "      <th id=\"T_87c90_level0_row2\" class=\"row_heading level0 row2\" >32028</th>\n",
       "      <td id=\"T_87c90_row2_col0\" class=\"data row2 col0\" >32029</td>\n",
       "      <td id=\"T_87c90_row2_col1\" class=\"data row2 col1\" >low_sodium_organic_medium_chili</td>\n",
       "      <td id=\"T_87c90_row2_col2\" class=\"data row2 col2\" >59</td>\n",
       "      <td id=\"T_87c90_row2_col3\" class=\"data row2 col3\" >15</td>\n",
       "    </tr>\n",
       "    <tr>\n",
       "      <th id=\"T_87c90_level0_row3\" class=\"row_heading level0 row3\" >29378</th>\n",
       "      <td id=\"T_87c90_row3_col0\" class=\"data row3 col0\" >29379</td>\n",
       "      <td id=\"T_87c90_row3_col1\" class=\"data row3 col1\" >strawberry_cream_cheese_fruit_dip</td>\n",
       "      <td id=\"T_87c90_row3_col2\" class=\"data row3 col2\" >67</td>\n",
       "      <td id=\"T_87c90_row3_col3\" class=\"data row3 col3\" >20</td>\n",
       "    </tr>\n",
       "    <tr>\n",
       "      <th id=\"T_87c90_level0_row4\" class=\"row_heading level0 row4\" >46861</th>\n",
       "      <td id=\"T_87c90_row4_col0\" class=\"data row4 col0\" >46862</td>\n",
       "      <td id=\"T_87c90_row4_col1\" class=\"data row4 col1\" >delicious_din_din_2_(6_months+)_variety_pack</td>\n",
       "      <td id=\"T_87c90_row4_col2\" class=\"data row4 col2\" >92</td>\n",
       "      <td id=\"T_87c90_row4_col3\" class=\"data row4 col3\" >18</td>\n",
       "    </tr>\n",
       "    <tr>\n",
       "      <th id=\"T_87c90_level0_row5\" class=\"row_heading level0 row5\" >23672</th>\n",
       "      <td id=\"T_87c90_row5_col0\" class=\"data row5 col0\" >23673</td>\n",
       "      <td id=\"T_87c90_row5_col1\" class=\"data row5 col1\" >lite_creamy_caesar_dressing</td>\n",
       "      <td id=\"T_87c90_row5_col2\" class=\"data row5 col2\" >89</td>\n",
       "      <td id=\"T_87c90_row5_col3\" class=\"data row5 col3\" >13</td>\n",
       "    </tr>\n",
       "    <tr>\n",
       "      <th id=\"T_87c90_level0_row6\" class=\"row_heading level0 row6\" >32641</th>\n",
       "      <td id=\"T_87c90_row6_col0\" class=\"data row6 col0\" >32642</td>\n",
       "      <td id=\"T_87c90_row6_col1\" class=\"data row6 col1\" >roasted_chicken_breast</td>\n",
       "      <td id=\"T_87c90_row6_col2\" class=\"data row6 col2\" >96</td>\n",
       "      <td id=\"T_87c90_row6_col3\" class=\"data row6 col3\" >20</td>\n",
       "    </tr>\n",
       "    <tr>\n",
       "      <th id=\"T_87c90_level0_row7\" class=\"row_heading level0 row7\" >22435</th>\n",
       "      <td id=\"T_87c90_row7_col0\" class=\"data row7 col0\" >22436</td>\n",
       "      <td id=\"T_87c90_row7_col1\" class=\"data row7 col1\" >light_vegetable_soup</td>\n",
       "      <td id=\"T_87c90_row7_col2\" class=\"data row7 col2\" >69</td>\n",
       "      <td id=\"T_87c90_row7_col3\" class=\"data row7 col3\" >15</td>\n",
       "    </tr>\n",
       "    <tr>\n",
       "      <th id=\"T_87c90_level0_row8\" class=\"row_heading level0 row8\" >34166</th>\n",
       "      <td id=\"T_87c90_row8_col0\" class=\"data row8 col0\" >34167</td>\n",
       "      <td id=\"T_87c90_row8_col1\" class=\"data row8 col1\" >all_natural_gluten_free_chicken_pot_pie</td>\n",
       "      <td id=\"T_87c90_row8_col2\" class=\"data row8 col2\" >38</td>\n",
       "      <td id=\"T_87c90_row8_col3\" class=\"data row8 col3\" >1</td>\n",
       "    </tr>\n",
       "    <tr>\n",
       "      <th id=\"T_87c90_level0_row9\" class=\"row_heading level0 row9\" >25657</th>\n",
       "      <td id=\"T_87c90_row9_col0\" class=\"data row9 col0\" >25658</td>\n",
       "      <td id=\"T_87c90_row9_col1\" class=\"data row9 col1\" >unknown</td>\n",
       "      <td id=\"T_87c90_row9_col2\" class=\"data row9 col2\" >100</td>\n",
       "      <td id=\"T_87c90_row9_col3\" class=\"data row9 col3\" >21</td>\n",
       "    </tr>\n",
       "    <tr>\n",
       "      <th id=\"T_87c90_level0_row10\" class=\"row_heading level0 row10\" >41064</th>\n",
       "      <td id=\"T_87c90_row10_col0\" class=\"data row10 col0\" >41065</td>\n",
       "      <td id=\"T_87c90_row10_col1\" class=\"data row10 col1\" >organic_yellow_squash</td>\n",
       "      <td id=\"T_87c90_row10_col2\" class=\"data row10 col2\" >83</td>\n",
       "      <td id=\"T_87c90_row10_col3\" class=\"data row10 col3\" >4</td>\n",
       "    </tr>\n",
       "    <tr>\n",
       "      <th id=\"T_87c90_level0_row11\" class=\"row_heading level0 row11\" >40494</th>\n",
       "      <td id=\"T_87c90_row11_col0\" class=\"data row11 col0\" >40495</td>\n",
       "      <td id=\"T_87c90_row11_col1\" class=\"data row11 col1\" >honey_nut_tasteeos</td>\n",
       "      <td id=\"T_87c90_row11_col2\" class=\"data row11 col2\" >121</td>\n",
       "      <td id=\"T_87c90_row11_col3\" class=\"data row11 col3\" >14</td>\n",
       "    </tr>\n",
       "    <tr>\n",
       "      <th id=\"T_87c90_level0_row12\" class=\"row_heading level0 row12\" >34434</th>\n",
       "      <td id=\"T_87c90_row12_col0\" class=\"data row12 col0\" >34435</td>\n",
       "      <td id=\"T_87c90_row12_col1\" class=\"data row12 col1\" >unknown</td>\n",
       "      <td id=\"T_87c90_row12_col2\" class=\"data row12 col2\" >100</td>\n",
       "      <td id=\"T_87c90_row12_col3\" class=\"data row12 col3\" >21</td>\n",
       "    </tr>\n",
       "    <tr>\n",
       "      <th id=\"T_87c90_level0_row13\" class=\"row_heading level0 row13\" >36386</th>\n",
       "      <td id=\"T_87c90_row13_col0\" class=\"data row13 col0\" >36387</td>\n",
       "      <td id=\"T_87c90_row13_col1\" class=\"data row13 col1\" >unknown</td>\n",
       "      <td id=\"T_87c90_row13_col2\" class=\"data row13 col2\" >100</td>\n",
       "      <td id=\"T_87c90_row13_col3\" class=\"data row13 col3\" >21</td>\n",
       "    </tr>\n",
       "    <tr>\n",
       "      <th id=\"T_87c90_level0_row14\" class=\"row_heading level0 row14\" >27404</th>\n",
       "      <td id=\"T_87c90_row14_col0\" class=\"data row14 col0\" >27405</td>\n",
       "      <td id=\"T_87c90_row14_col1\" class=\"data row14 col1\" >mexican_mix_granola</td>\n",
       "      <td id=\"T_87c90_row14_col2\" class=\"data row14 col2\" >57</td>\n",
       "      <td id=\"T_87c90_row14_col3\" class=\"data row14 col3\" >14</td>\n",
       "    </tr>\n",
       "    <tr>\n",
       "      <th id=\"T_87c90_level0_row15\" class=\"row_heading level0 row15\" >25512</th>\n",
       "      <td id=\"T_87c90_row15_col0\" class=\"data row15 col0\" >25513</td>\n",
       "      <td id=\"T_87c90_row15_col1\" class=\"data row15 col1\" >boomchickapop_sea_salt_popcorn</td>\n",
       "      <td id=\"T_87c90_row15_col2\" class=\"data row15 col2\" >23</td>\n",
       "      <td id=\"T_87c90_row15_col3\" class=\"data row15 col3\" >19</td>\n",
       "    </tr>\n",
       "    <tr>\n",
       "      <th id=\"T_87c90_level0_row16\" class=\"row_heading level0 row16\" >10308</th>\n",
       "      <td id=\"T_87c90_row16_col0\" class=\"data row16 col0\" >10309</td>\n",
       "      <td id=\"T_87c90_row16_col1\" class=\"data row16 col1\" >low_sodium_condensed_cream_of_mushroom_soup</td>\n",
       "      <td id=\"T_87c90_row16_col2\" class=\"data row16 col2\" >69</td>\n",
       "      <td id=\"T_87c90_row16_col3\" class=\"data row16 col3\" >15</td>\n",
       "    </tr>\n",
       "    <tr>\n",
       "      <th id=\"T_87c90_level0_row17\" class=\"row_heading level0 row17\" >14189</th>\n",
       "      <td id=\"T_87c90_row17_col0\" class=\"data row17 col0\" >14190</td>\n",
       "      <td id=\"T_87c90_row17_col1\" class=\"data row17 col1\" >greek_strawberry_nonfat_yogurt</td>\n",
       "      <td id=\"T_87c90_row17_col2\" class=\"data row17 col2\" >120</td>\n",
       "      <td id=\"T_87c90_row17_col3\" class=\"data row17 col3\" >16</td>\n",
       "    </tr>\n",
       "    <tr>\n",
       "      <th id=\"T_87c90_level0_row18\" class=\"row_heading level0 row18\" >9467</th>\n",
       "      <td id=\"T_87c90_row18_col0\" class=\"data row18 col0\" >9468</td>\n",
       "      <td id=\"T_87c90_row18_col1\" class=\"data row18 col1\" >sugar_muscovado_dk</td>\n",
       "      <td id=\"T_87c90_row18_col2\" class=\"data row18 col2\" >17</td>\n",
       "      <td id=\"T_87c90_row18_col3\" class=\"data row18 col3\" >13</td>\n",
       "    </tr>\n",
       "    <tr>\n",
       "      <th id=\"T_87c90_level0_row19\" class=\"row_heading level0 row19\" >12423</th>\n",
       "      <td id=\"T_87c90_row19_col0\" class=\"data row19 col0\" >12424</td>\n",
       "      <td id=\"T_87c90_row19_col1\" class=\"data row19 col1\" >russian_river_valley_sauvignon_blanc_wine</td>\n",
       "      <td id=\"T_87c90_row19_col2\" class=\"data row19 col2\" >62</td>\n",
       "      <td id=\"T_87c90_row19_col3\" class=\"data row19 col3\" >5</td>\n",
       "    </tr>\n",
       "    <tr>\n",
       "      <th id=\"T_87c90_level0_row20\" class=\"row_heading level0 row20\" >6195</th>\n",
       "      <td id=\"T_87c90_row20_col0\" class=\"data row20 col0\" >6196</td>\n",
       "      <td id=\"T_87c90_row20_col1\" class=\"data row20 col1\" >berries_gomega_premium_fruit_smoothie_blend</td>\n",
       "      <td id=\"T_87c90_row20_col2\" class=\"data row20 col2\" >31</td>\n",
       "      <td id=\"T_87c90_row20_col3\" class=\"data row20 col3\" >7</td>\n",
       "    </tr>\n",
       "    <tr>\n",
       "      <th id=\"T_87c90_level0_row21\" class=\"row_heading level0 row21\" >27334</th>\n",
       "      <td id=\"T_87c90_row21_col0\" class=\"data row21 col0\" >27335</td>\n",
       "      <td id=\"T_87c90_row21_col1\" class=\"data row21 col1\" >earl_grey_black_tea</td>\n",
       "      <td id=\"T_87c90_row21_col2\" class=\"data row21 col2\" >94</td>\n",
       "      <td id=\"T_87c90_row21_col3\" class=\"data row21 col3\" >7</td>\n",
       "    </tr>\n",
       "    <tr>\n",
       "      <th id=\"T_87c90_level0_row22\" class=\"row_heading level0 row22\" >35396</th>\n",
       "      <td id=\"T_87c90_row22_col0\" class=\"data row22 col0\" >35397</td>\n",
       "      <td id=\"T_87c90_row22_col1\" class=\"data row22 col1\" >sauce_for_kung_pao_chicken</td>\n",
       "      <td id=\"T_87c90_row22_col2\" class=\"data row22 col2\" >66</td>\n",
       "      <td id=\"T_87c90_row22_col3\" class=\"data row22 col3\" >6</td>\n",
       "    </tr>\n",
       "    <tr>\n",
       "      <th id=\"T_87c90_level0_row23\" class=\"row_heading level0 row23\" >16146</th>\n",
       "      <td id=\"T_87c90_row23_col0\" class=\"data row23 col0\" >16147</td>\n",
       "      <td id=\"T_87c90_row23_col1\" class=\"data row23 col1\" >sauce_chipotle_tinga_chicken_slow_cook</td>\n",
       "      <td id=\"T_87c90_row23_col2\" class=\"data row23 col2\" >5</td>\n",
       "      <td id=\"T_87c90_row23_col3\" class=\"data row23 col3\" >13</td>\n",
       "    </tr>\n",
       "    <tr>\n",
       "      <th id=\"T_87c90_level0_row24\" class=\"row_heading level0 row24\" >49473</th>\n",
       "      <td id=\"T_87c90_row24_col0\" class=\"data row24 col0\" >49474</td>\n",
       "      <td id=\"T_87c90_row24_col1\" class=\"data row24 col1\" >chick_peas_reduced_sodium_garbanzos</td>\n",
       "      <td id=\"T_87c90_row24_col2\" class=\"data row24 col2\" >59</td>\n",
       "      <td id=\"T_87c90_row24_col3\" class=\"data row24 col3\" >15</td>\n",
       "    </tr>\n",
       "  </tbody>\n",
       "</table>\n"
      ],
      "text/plain": [
       "<pandas.io.formats.style.Styler at 0x2a3d4c45ba0>"
      ]
     },
     "metadata": {},
     "output_type": "display_data"
    },
    {
     "name": "stdout",
     "output_type": "stream",
     "text": [
      "DataFrame [Instacart orders] column 'days_since_prior_order' dtypes:\n",
      " order_id                   int64\n",
      "user_id                    int64\n",
      "order_number               int64\n",
      "order_dow                  int64\n",
      "order_hour_of_day          int64\n",
      "days_since_prior_order    object\n",
      "dtype: object\n",
      "\n",
      "['30.0' '9.0' '2.0' '10.0' '17.0' '15.0' '22.0' '4.0' '8.0' '3.0' '12.0'\n",
      " '11.0' '7.0' '1.0' '5.0' '6.0' '14.0' <NA> '20.0' '16.0' '24.0' '23.0'\n",
      " '27.0' '13.0' '0.0' '28.0' '21.0' '25.0' '19.0' '18.0' '29.0' '26.0']\n",
      "\n",
      "[30  9  2 10 17 15 22  4  8  3 12 11  7  1  5  6 14  0 20 16 24 23 27 13\n",
      " 28 21 25 19 18 29 26]\n"
     ]
    }
   ],
   "source": [
    "# Standardization of string value format for each column of the DataFrames that have dType 'object'\n",
    "# The def string_std(df) function is called to process the string values ​​to apply formatting\n",
    "df_aisles = string_std(df_aisles)\n",
    "df_departments = string_std(df_departments)\n",
    "df_products = string_std(df_products)\n",
    "\n",
    "display(df_aisles.sample(25).style.apply(zebra_rows, axis=1))\n",
    "print()\n",
    "display(df_departments.head(25).style.apply(zebra_rows, axis=1))\n",
    "print()\n",
    "display(df_products.sample(25).style.apply(zebra_rows, axis=1))\n",
    "\n",
    "# Validate if DataFrame [instacart orders] column 'days_since_prior_order' contains numeric values ​​or object\n",
    "print(f\"DataFrame [Instacart orders] column 'days_since_prior_order' dtypes:\\n {df_instacart_orders.dtypes}\\n\")\n",
    "print(df_instacart_orders['days_since_prior_order'].unique())\n",
    "print()\n",
    "df_instacart_orders['days_since_prior_order'] = pd.to_numeric(df_instacart_orders['days_since_prior_order'], errors='coerce')\n",
    "df_instacart_orders['days_since_prior_order'] = df_instacart_orders['days_since_prior_order'].fillna(0)\n",
    "df_instacart_orders['days_since_prior_order'] = df_instacart_orders['days_since_prior_order'].astype('int64')\n",
    "print(df_instacart_orders['days_since_prior_order'].unique())\n"
   ]
  },
  {
   "cell_type": "markdown",
   "id": "RnplPFY1gSrb",
   "metadata": {
    "id": "RnplPFY1gSrb"
   },
   "source": [
    "## Conclusions\n",
    "\n",
    "Write your intermediate conclusions about Step 2 here: Data Preprocessing\n",
    "###### _LSPL_\n",
    "Data cleaning represents a critical stage in any data science or analytics project, as it establishes the foundation upon which all subsequent interpretations and decisions will be made. Managing missing values, ensuring the correct typing of quantitative and categorical data, and eliminating explicit and implicit duplicates are fundamental tasks that allow for building robust and reliable datasets.\n",
    "An analysis based on dirty data generates erroneous results; an analysis based on clean data produces accurate, useful, and defensible conclusions.\n",
    "The quality of the analysis is only as good as the quality of the data on which it is based."
   ]
  },
  {
   "cell_type": "markdown",
   "id": "b885c566",
   "metadata": {},
   "source": [
    "#### 📊 Key exploratory insights"
   ]
  },
  {
   "cell_type": "markdown",
   "id": "UjrOIwTcz3ri",
   "metadata": {
    "id": "UjrOIwTcz3ri"
   },
   "source": [
    "# Step 3. Data Analysis\n",
    "\n",
    "Once the data is processed and ready, perform the following analysis:"
   ]
  },
  {
   "cell_type": "markdown",
   "id": "turkish-kidney",
   "metadata": {
    "id": "turkish-kidney"
   },
   "source": [
    "# [A] Easy (all must be completed to pass)\n",
    "\n",
    "1. Verify that the values ​​in the `'order_hour_of_day'` and `'order_dow'` columns in the orders table are reasonable (i.e., `'order_hour_of_day'` ranges from 0 to 23 and `'order_dow'` ranges from 0 to 6).\n",
    "2. Create a graph showing the number of people placing orders depending on the time of day.\n",
    "3. Create a graph showing which day of the week people shop.\n",
    "4. Create a graph showing the time people wait until they place their next order, and comment on the minimum and maximum values."
   ]
  },
  {
   "cell_type": "markdown",
   "id": "short-capability",
   "metadata": {
    "id": "short-capability"
   },
   "source": [
    "### [A1] Check that the values ​​are sensitive"
   ]
  },
  {
   "cell_type": "code",
   "execution_count": 44,
   "id": "growing-fruit",
   "metadata": {
    "id": "growing-fruit"
   },
   "outputs": [
    {
     "name": "stdout",
     "output_type": "stream",
     "text": [
      "Minimum value of DataFrame [Instacart orders], column 'order_hour_of_day': 0\n",
      "Maximum value of DataFrame [Instacart orders], column 'order_hour_of_day': 23\n",
      "Unique values ​​of DataFrame [Instacart orders], column 'order_hour_of_day': [13 12 19 20 11  8 18 15 16  9 22 10  0 14 17  1  7  6  2 21  3 23  5  4]\n",
      "\n",
      "Minimum value of DataFrame [Instacart orders], column 'order_dow': 0\n",
      "Maximum value of DataFrame [Instacart orders], column 'order_dow': 6\n",
      "Unique values ​​of DataFrame [Instacart orders], column 'order_dow': [6 5 0 4 3 1 2]\n"
     ]
    }
   ],
   "source": [
    "print(f\"Minimum value of DataFrame [Instacart orders], column 'order_hour_of_day': {df_instacart_orders['order_hour_of_day'].min()}\")\n",
    "print(f\"Maximum value of DataFrame [Instacart orders], column 'order_hour_of_day': {df_instacart_orders['order_hour_of_day'].max()}\")\n",
    "print(f\"Unique values ​​of DataFrame [Instacart orders], column 'order_hour_of_day': {df_instacart_orders['order_hour_of_day'].unique()}\")\n",
    "print()\n",
    "print(f\"Minimum value of DataFrame [Instacart orders], column 'order_dow': {df_instacart_orders['order_dow'].min()}\")\n",
    "print(f\"Maximum value of DataFrame [Instacart orders], column 'order_dow': {df_instacart_orders['order_dow'].max()}\")\n",
    "print(f\"Unique values ​​of DataFrame [Instacart orders], column 'order_dow': {df_instacart_orders['order_dow'].unique()}\")"
   ]
  },
  {
   "cell_type": "code",
   "execution_count": 45,
   "id": "accessory-malaysia",
   "metadata": {
    "id": "accessory-malaysia"
   },
   "outputs": [
    {
     "data": {
      "image/png": "[encoded data removed]",
      "text/plain": [
       "<Figure size 1500x500 with 1 Axes>"
      ]
     },
     "metadata": {},
     "output_type": "display_data"
    }
   ],
   "source": [
    "df_orders_by_hour = df_instacart_orders.groupby('order_hour_of_day')['order_id'].count()\n",
    "df_orders_by_hour.plot(kind='bar', \n",
    "                       title='Orders by time of day', \n",
    "                       xlabel=\"Time\", \n",
    "                       ylabel=\"Order quantity\", \n",
    "                       grid=True, \n",
    "                       rot=0, \n",
    "                       figsize=[15, 5], \n",
    "                       color='grey')\n",
    "plt.tight_layout()\n",
    "plt.show()"
   ]
  },
  {
   "cell_type": "code",
   "execution_count": 46,
   "id": "de85d470",
   "metadata": {},
   "outputs": [
    {
     "data": {
      "image/png": "[encoded data removed]",
      "text/plain": [
       "<Figure size 1500x500 with 1 Axes>"
      ]
     },
     "metadata": {},
     "output_type": "display_data"
    }
   ],
   "source": [
    "df_orders_by_day = df_instacart_orders.groupby('order_dow')['order_id'].count()\n",
    "df_orders_by_day.index = ['Sunday', 'Monday', 'Tuesday', 'Wednesday', 'Thursday', 'Friday', 'Saturday']\n",
    "\n",
    "df_orders_by_day.plot(kind='bar', \n",
    "                       title='Orders by day of the week', \n",
    "                       xlabel=\"Day\", \n",
    "                       ylabel=\"Order quantity\", \n",
    "                       grid=True, \n",
    "                       rot=0, \n",
    "                       figsize=[15, 5], \n",
    "                       color='grey')\n",
    "plt.tight_layout()\n",
    "plt.show()"
   ]
  },
  {
   "cell_type": "code",
   "execution_count": 47,
   "id": "3a234bf3",
   "metadata": {},
   "outputs": [
    {
     "data": {
      "image/png": "[encoded data removed]",
      "text/plain": [
       "<Figure size 1500x500 with 1 Axes>"
      ]
     },
     "metadata": {},
     "output_type": "display_data"
    }
   ],
   "source": [
    "\n",
    "df_instacart_orders.hist(column='days_since_prior_order', \n",
    "                         bins=range(0, 32),\n",
    "                         grid=True,\n",
    "                         figsize=[15, 5], \n",
    "                         color='grey')\n",
    "plt.title('Time between orders')\n",
    "plt.xlabel('Days since previous order')\n",
    "plt.ylabel('Number of orders')\n",
    "plt.tight_layout()\n",
    "plt.show()"
   ]
  },
  {
   "cell_type": "markdown",
   "id": "hmR2GNQ6lCsX",
   "metadata": {
    "id": "hmR2GNQ6lCsX"
   },
   "source": [
    "Write your conclusions here\n",
    "###### _LSPL_\n",
    "- To create graphs showing the number of people who place orders depending on the time of day and day of the week they shop.\n",
    "A vertical bar chart was chosen because it allows for identifying user behavior based on time or day.\n",
    "\n",
    "In \"Orders by Time of Day,\" the active hours where the most orders are generated are marked (7:00 AM to 9:00 PM) and the off-peak hours where the number of orders decreases (10:00 PM to 6:00 AM).\n",
    "\n",
    "In \"Orders by Day of the Week,\" it is shown that Sunday through Monday are when the highest number of orders are placed.\n",
    "\n",
    "- To create graphs showing the time people wait until they place their next order, a histogram was chosen because it shows the frequency distribution, such as how many people waited 1 day, 2 days, 3 days, etc.\n",
    "\n",
    "__Note__ for the days of the week chart, according to North American customs, the days of the week begin on Sundays, so the value 0 would be for Sunday.\n"
   ]
  },
  {
   "cell_type": "markdown",
   "id": "a6743a70",
   "metadata": {
    "id": "a6743a70"
   },
   "source": [
    "### [A2] For each hour of the day, how many people place orders?"
   ]
  },
  {
   "cell_type": "code",
   "execution_count": 48,
   "id": "a36cca27",
   "metadata": {
    "id": "a36cca27"
   },
   "outputs": [
    {
     "name": "stdout",
     "output_type": "stream",
     "text": [
      "order_hour_of_day\n",
      "0      3180\n",
      "1      1763\n",
      "2       989\n",
      "3       770\n",
      "4       765\n",
      "5      1371\n",
      "6      4215\n",
      "7     13043\n",
      "8     25024\n",
      "9     35896\n",
      "10    40578\n",
      "11    40032\n",
      "12    38034\n",
      "13    39007\n",
      "14    39631\n",
      "15    39789\n",
      "16    38112\n",
      "17    31930\n",
      "18    25510\n",
      "19    19547\n",
      "20    14624\n",
      "21    11019\n",
      "22     8512\n",
      "23     5611\n",
      "Name: order_id, dtype: int64\n"
     ]
    }
   ],
   "source": [
    "print(df_orders_by_hour)"
   ]
  },
  {
   "cell_type": "markdown",
   "id": "11270eed",
   "metadata": {
    "id": "11270eed"
   },
   "source": [
    "Write your conclusions here\n",
    "###### _LSPL_\n",
    "\n",
    "The time when most orders are generated is 10 am. From 7 am to 9 pm is the regular order generation time (over 10,000 orders). From 10 pm to 6 am is the time with the lowest sales due to people's off work (below 10,000 orders)."
   ]
  },
  {
   "cell_type": "markdown",
   "id": "documented-command",
   "metadata": {
    "id": "documented-command"
   },
   "source": [
    "### [A3] Which day of the week do people buy groceries?"
   ]
  },
  {
   "cell_type": "code",
   "execution_count": 49,
   "id": "chief-digit",
   "metadata": {
    "id": "chief-digit"
   },
   "outputs": [
    {
     "name": "stdout",
     "output_type": "stream",
     "text": [
      "Sunday       84090\n",
      "Monday       82185\n",
      "Tuesday      65833\n",
      "Wednesday    60897\n",
      "Thursday     59810\n",
      "Friday       63488\n",
      "Saturday     62649\n",
      "Name: order_id, dtype: int64\n",
      "\n",
      "The day of the week with the most orders: Sunday\n"
     ]
    }
   ],
   "source": [
    "print(df_orders_by_day)\n",
    "print()\n",
    "print(f\"The day of the week with the most orders: {df_orders_by_day.idxmax()}\")"
   ]
  },
  {
   "cell_type": "markdown",
   "id": "dominant-lightning",
   "metadata": {
    "id": "dominant-lightning"
   },
   "source": [
    "Write your conclusions here\n",
    "###### LSPL\n",
    "\n",
    "Sunday and Monday are the days with the highest order volume, likely a weekly purchasing pattern used to replenish groceries."
   ]
  },
  {
   "cell_type": "markdown",
   "id": "cutting-concert",
   "metadata": {
    "id": "cutting-concert"
   },
   "source": [
    "### [A4] How long do people wait before placing another order? Discuss the minimum and maximum values."
   ]
  },
  {
   "cell_type": "code",
   "execution_count": 50,
   "id": "c231f523",
   "metadata": {
    "id": "c231f523"
   },
   "outputs": [
    {
     "name": "stdout",
     "output_type": "stream",
     "text": [
      "Minimum days to wait: 0\n",
      "Maximum days to wait: 30\n"
     ]
    }
   ],
   "source": [
    "print(f\"Minimum days to wait: {df_instacart_orders['days_since_prior_order'].min()}\")\n",
    "print(f\"Maximum days to wait: {df_instacart_orders['days_since_prior_order'].max()}\")"
   ]
  },
  {
   "cell_type": "markdown",
   "id": "discrete-vertex",
   "metadata": {
    "id": "discrete-vertex"
   },
   "source": [
    "Write your conclusions here\n",
    "###### _LSPL_\n",
    "Minimum value: 0 days, generated by missing values, which indicates that they exist on days when users purchased that same day.\n",
    "\n",
    "Maximum value: probably 30 days → many users schedule their orders monthly."
   ]
  },
  {
   "cell_type": "markdown",
   "id": "tight-staff",
   "metadata": {
    "id": "tight-staff"
   },
   "source": [
    "# [B] Intermediate (all must be completed to pass)\n",
    "\n",
    "1. Is there any difference between the `'order_hour_of_day'` distributions for Wednesdays and Saturdays? Plot bar graphs of `'order_hour_of_day'` for both days in the same figure and describe any differences you observe.\n",
    "2. Graph the distribution for the number of orders placed by customers (i.e., how many customers placed only one order, how many placed two, how many placed three, and so on).\n",
    "3. What are the top 20 most frequently ordered products (show their ID and name)?"
   ]
  },
  {
   "cell_type": "markdown",
   "id": "packed-classic",
   "metadata": {
    "id": "packed-classic"
   },
   "source": [
    "### [B1] Difference between Wednesdays and Saturdays for `'order_hour_of_day'`. Plot bar graphs for both days and describe any differences you see."
   ]
  },
  {
   "cell_type": "code",
   "execution_count": 51,
   "id": "ccefb97e",
   "metadata": {},
   "outputs": [
    {
     "data": {
      "text/html": [
       "<style type=\"text/css\">\n",
       "#T_61d04_row0_col0, #T_61d04_row0_col1, #T_61d04_row0_col2, #T_61d04_row0_col3, #T_61d04_row0_col4, #T_61d04_row0_col5, #T_61d04_row1_col0, #T_61d04_row1_col1, #T_61d04_row1_col2, #T_61d04_row1_col3, #T_61d04_row1_col4, #T_61d04_row1_col5, #T_61d04_row6_col0, #T_61d04_row6_col1, #T_61d04_row6_col2, #T_61d04_row6_col3, #T_61d04_row6_col4, #T_61d04_row6_col5, #T_61d04_row7_col0, #T_61d04_row7_col1, #T_61d04_row7_col2, #T_61d04_row7_col3, #T_61d04_row7_col4, #T_61d04_row7_col5, #T_61d04_row8_col0, #T_61d04_row8_col1, #T_61d04_row8_col2, #T_61d04_row8_col3, #T_61d04_row8_col4, #T_61d04_row8_col5, #T_61d04_row9_col0, #T_61d04_row9_col1, #T_61d04_row9_col2, #T_61d04_row9_col3, #T_61d04_row9_col4, #T_61d04_row9_col5, #T_61d04_row12_col0, #T_61d04_row12_col1, #T_61d04_row12_col2, #T_61d04_row12_col3, #T_61d04_row12_col4, #T_61d04_row12_col5, #T_61d04_row18_col0, #T_61d04_row18_col1, #T_61d04_row18_col2, #T_61d04_row18_col3, #T_61d04_row18_col4, #T_61d04_row18_col5, #T_61d04_row20_col0, #T_61d04_row20_col1, #T_61d04_row20_col2, #T_61d04_row20_col3, #T_61d04_row20_col4, #T_61d04_row20_col5, #T_61d04_row22_col0, #T_61d04_row22_col1, #T_61d04_row22_col2, #T_61d04_row22_col3, #T_61d04_row22_col4, #T_61d04_row22_col5 {\n",
       "  background-color: #808080;\n",
       "}\n",
       "#T_61d04_row2_col0, #T_61d04_row2_col1, #T_61d04_row2_col2, #T_61d04_row2_col3, #T_61d04_row2_col4, #T_61d04_row2_col5, #T_61d04_row3_col0, #T_61d04_row3_col1, #T_61d04_row3_col2, #T_61d04_row3_col3, #T_61d04_row3_col4, #T_61d04_row3_col5, #T_61d04_row4_col0, #T_61d04_row4_col1, #T_61d04_row4_col2, #T_61d04_row4_col3, #T_61d04_row4_col4, #T_61d04_row4_col5, #T_61d04_row5_col0, #T_61d04_row5_col1, #T_61d04_row5_col2, #T_61d04_row5_col3, #T_61d04_row5_col4, #T_61d04_row5_col5, #T_61d04_row10_col0, #T_61d04_row10_col1, #T_61d04_row10_col2, #T_61d04_row10_col3, #T_61d04_row10_col4, #T_61d04_row10_col5, #T_61d04_row11_col0, #T_61d04_row11_col1, #T_61d04_row11_col2, #T_61d04_row11_col3, #T_61d04_row11_col4, #T_61d04_row11_col5, #T_61d04_row13_col0, #T_61d04_row13_col1, #T_61d04_row13_col2, #T_61d04_row13_col3, #T_61d04_row13_col4, #T_61d04_row13_col5, #T_61d04_row14_col0, #T_61d04_row14_col1, #T_61d04_row14_col2, #T_61d04_row14_col3, #T_61d04_row14_col4, #T_61d04_row14_col5, #T_61d04_row15_col0, #T_61d04_row15_col1, #T_61d04_row15_col2, #T_61d04_row15_col3, #T_61d04_row15_col4, #T_61d04_row15_col5, #T_61d04_row16_col0, #T_61d04_row16_col1, #T_61d04_row16_col2, #T_61d04_row16_col3, #T_61d04_row16_col4, #T_61d04_row16_col5, #T_61d04_row17_col0, #T_61d04_row17_col1, #T_61d04_row17_col2, #T_61d04_row17_col3, #T_61d04_row17_col4, #T_61d04_row17_col5, #T_61d04_row19_col0, #T_61d04_row19_col1, #T_61d04_row19_col2, #T_61d04_row19_col3, #T_61d04_row19_col4, #T_61d04_row19_col5, #T_61d04_row21_col0, #T_61d04_row21_col1, #T_61d04_row21_col2, #T_61d04_row21_col3, #T_61d04_row21_col4, #T_61d04_row21_col5, #T_61d04_row23_col0, #T_61d04_row23_col1, #T_61d04_row23_col2, #T_61d04_row23_col3, #T_61d04_row23_col4, #T_61d04_row23_col5, #T_61d04_row24_col0, #T_61d04_row24_col1, #T_61d04_row24_col2, #T_61d04_row24_col3, #T_61d04_row24_col4, #T_61d04_row24_col5 {\n",
       "  background-color: #595959;\n",
       "}\n",
       "</style>\n",
       "<table id=\"T_61d04\">\n",
       "  <thead>\n",
       "    <tr>\n",
       "      <th class=\"blank level0\" >&nbsp;</th>\n",
       "      <th id=\"T_61d04_level0_col0\" class=\"col_heading level0 col0\" >order_id</th>\n",
       "      <th id=\"T_61d04_level0_col1\" class=\"col_heading level0 col1\" >user_id</th>\n",
       "      <th id=\"T_61d04_level0_col2\" class=\"col_heading level0 col2\" >order_number</th>\n",
       "      <th id=\"T_61d04_level0_col3\" class=\"col_heading level0 col3\" >order_dow</th>\n",
       "      <th id=\"T_61d04_level0_col4\" class=\"col_heading level0 col4\" >order_hour_of_day</th>\n",
       "      <th id=\"T_61d04_level0_col5\" class=\"col_heading level0 col5\" >days_since_prior_order</th>\n",
       "    </tr>\n",
       "  </thead>\n",
       "  <tbody>\n",
       "    <tr>\n",
       "      <th id=\"T_61d04_level0_row0\" class=\"row_heading level0 row0\" >92584</th>\n",
       "      <td id=\"T_61d04_row0_col0\" class=\"data row0 col0\" >1204935</td>\n",
       "      <td id=\"T_61d04_row0_col1\" class=\"data row0 col1\" >21574</td>\n",
       "      <td id=\"T_61d04_row0_col2\" class=\"data row0 col2\" >16</td>\n",
       "      <td id=\"T_61d04_row0_col3\" class=\"data row0 col3\" >6</td>\n",
       "      <td id=\"T_61d04_row0_col4\" class=\"data row0 col4\" >12</td>\n",
       "      <td id=\"T_61d04_row0_col5\" class=\"data row0 col5\" >4</td>\n",
       "    </tr>\n",
       "    <tr>\n",
       "      <th id=\"T_61d04_level0_row1\" class=\"row_heading level0 row1\" >263748</th>\n",
       "      <td id=\"T_61d04_row1_col0\" class=\"data row1 col0\" >3112703</td>\n",
       "      <td id=\"T_61d04_row1_col1\" class=\"data row1 col1\" >69821</td>\n",
       "      <td id=\"T_61d04_row1_col2\" class=\"data row1 col2\" >7</td>\n",
       "      <td id=\"T_61d04_row1_col3\" class=\"data row1 col3\" >6</td>\n",
       "      <td id=\"T_61d04_row1_col4\" class=\"data row1 col4\" >17</td>\n",
       "      <td id=\"T_61d04_row1_col5\" class=\"data row1 col5\" >6</td>\n",
       "    </tr>\n",
       "    <tr>\n",
       "      <th id=\"T_61d04_level0_row2\" class=\"row_heading level0 row2\" >289535</th>\n",
       "      <td id=\"T_61d04_row2_col0\" class=\"data row2 col0\" >1454717</td>\n",
       "      <td id=\"T_61d04_row2_col1\" class=\"data row2 col1\" >176066</td>\n",
       "      <td id=\"T_61d04_row2_col2\" class=\"data row2 col2\" >2</td>\n",
       "      <td id=\"T_61d04_row2_col3\" class=\"data row2 col3\" >6</td>\n",
       "      <td id=\"T_61d04_row2_col4\" class=\"data row2 col4\" >7</td>\n",
       "      <td id=\"T_61d04_row2_col5\" class=\"data row2 col5\" >7</td>\n",
       "    </tr>\n",
       "    <tr>\n",
       "      <th id=\"T_61d04_level0_row3\" class=\"row_heading level0 row3\" >340847</th>\n",
       "      <td id=\"T_61d04_row3_col0\" class=\"data row3 col0\" >1939857</td>\n",
       "      <td id=\"T_61d04_row3_col1\" class=\"data row3 col1\" >34257</td>\n",
       "      <td id=\"T_61d04_row3_col2\" class=\"data row3 col2\" >1</td>\n",
       "      <td id=\"T_61d04_row3_col3\" class=\"data row3 col3\" >6</td>\n",
       "      <td id=\"T_61d04_row3_col4\" class=\"data row3 col4\" >16</td>\n",
       "      <td id=\"T_61d04_row3_col5\" class=\"data row3 col5\" >0</td>\n",
       "    </tr>\n",
       "    <tr>\n",
       "      <th id=\"T_61d04_level0_row4\" class=\"row_heading level0 row4\" >381303</th>\n",
       "      <td id=\"T_61d04_row4_col0\" class=\"data row4 col0\" >2519713</td>\n",
       "      <td id=\"T_61d04_row4_col1\" class=\"data row4 col1\" >45196</td>\n",
       "      <td id=\"T_61d04_row4_col2\" class=\"data row4 col2\" >5</td>\n",
       "      <td id=\"T_61d04_row4_col3\" class=\"data row4 col3\" >3</td>\n",
       "      <td id=\"T_61d04_row4_col4\" class=\"data row4 col4\" >0</td>\n",
       "      <td id=\"T_61d04_row4_col5\" class=\"data row4 col5\" >7</td>\n",
       "    </tr>\n",
       "    <tr>\n",
       "      <th id=\"T_61d04_level0_row5\" class=\"row_heading level0 row5\" >24665</th>\n",
       "      <td id=\"T_61d04_row5_col0\" class=\"data row5 col0\" >975324</td>\n",
       "      <td id=\"T_61d04_row5_col1\" class=\"data row5 col1\" >183844</td>\n",
       "      <td id=\"T_61d04_row5_col2\" class=\"data row5 col2\" >42</td>\n",
       "      <td id=\"T_61d04_row5_col3\" class=\"data row5 col3\" >3</td>\n",
       "      <td id=\"T_61d04_row5_col4\" class=\"data row5 col4\" >9</td>\n",
       "      <td id=\"T_61d04_row5_col5\" class=\"data row5 col5\" >1</td>\n",
       "    </tr>\n",
       "    <tr>\n",
       "      <th id=\"T_61d04_level0_row6\" class=\"row_heading level0 row6\" >307668</th>\n",
       "      <td id=\"T_61d04_row6_col0\" class=\"data row6 col0\" >2994533</td>\n",
       "      <td id=\"T_61d04_row6_col1\" class=\"data row6 col1\" >79213</td>\n",
       "      <td id=\"T_61d04_row6_col2\" class=\"data row6 col2\" >34</td>\n",
       "      <td id=\"T_61d04_row6_col3\" class=\"data row6 col3\" >3</td>\n",
       "      <td id=\"T_61d04_row6_col4\" class=\"data row6 col4\" >16</td>\n",
       "      <td id=\"T_61d04_row6_col5\" class=\"data row6 col5\" >3</td>\n",
       "    </tr>\n",
       "    <tr>\n",
       "      <th id=\"T_61d04_level0_row7\" class=\"row_heading level0 row7\" >399208</th>\n",
       "      <td id=\"T_61d04_row7_col0\" class=\"data row7 col0\" >1149701</td>\n",
       "      <td id=\"T_61d04_row7_col1\" class=\"data row7 col1\" >70126</td>\n",
       "      <td id=\"T_61d04_row7_col2\" class=\"data row7 col2\" >11</td>\n",
       "      <td id=\"T_61d04_row7_col3\" class=\"data row7 col3\" >3</td>\n",
       "      <td id=\"T_61d04_row7_col4\" class=\"data row7 col4\" >19</td>\n",
       "      <td id=\"T_61d04_row7_col5\" class=\"data row7 col5\" >6</td>\n",
       "    </tr>\n",
       "    <tr>\n",
       "      <th id=\"T_61d04_level0_row8\" class=\"row_heading level0 row8\" >245694</th>\n",
       "      <td id=\"T_61d04_row8_col0\" class=\"data row8 col0\" >2549199</td>\n",
       "      <td id=\"T_61d04_row8_col1\" class=\"data row8 col1\" >199027</td>\n",
       "      <td id=\"T_61d04_row8_col2\" class=\"data row8 col2\" >9</td>\n",
       "      <td id=\"T_61d04_row8_col3\" class=\"data row8 col3\" >6</td>\n",
       "      <td id=\"T_61d04_row8_col4\" class=\"data row8 col4\" >11</td>\n",
       "      <td id=\"T_61d04_row8_col5\" class=\"data row8 col5\" >13</td>\n",
       "    </tr>\n",
       "    <tr>\n",
       "      <th id=\"T_61d04_level0_row9\" class=\"row_heading level0 row9\" >420918</th>\n",
       "      <td id=\"T_61d04_row9_col0\" class=\"data row9 col0\" >1535714</td>\n",
       "      <td id=\"T_61d04_row9_col1\" class=\"data row9 col1\" >42213</td>\n",
       "      <td id=\"T_61d04_row9_col2\" class=\"data row9 col2\" >7</td>\n",
       "      <td id=\"T_61d04_row9_col3\" class=\"data row9 col3\" >6</td>\n",
       "      <td id=\"T_61d04_row9_col4\" class=\"data row9 col4\" >11</td>\n",
       "      <td id=\"T_61d04_row9_col5\" class=\"data row9 col5\" >6</td>\n",
       "    </tr>\n",
       "    <tr>\n",
       "      <th id=\"T_61d04_level0_row10\" class=\"row_heading level0 row10\" >110667</th>\n",
       "      <td id=\"T_61d04_row10_col0\" class=\"data row10 col0\" >3252778</td>\n",
       "      <td id=\"T_61d04_row10_col1\" class=\"data row10 col1\" >141290</td>\n",
       "      <td id=\"T_61d04_row10_col2\" class=\"data row10 col2\" >97</td>\n",
       "      <td id=\"T_61d04_row10_col3\" class=\"data row10 col3\" >6</td>\n",
       "      <td id=\"T_61d04_row10_col4\" class=\"data row10 col4\" >7</td>\n",
       "      <td id=\"T_61d04_row10_col5\" class=\"data row10 col5\" >2</td>\n",
       "    </tr>\n",
       "    <tr>\n",
       "      <th id=\"T_61d04_level0_row11\" class=\"row_heading level0 row11\" >287783</th>\n",
       "      <td id=\"T_61d04_row11_col0\" class=\"data row11 col0\" >3189551</td>\n",
       "      <td id=\"T_61d04_row11_col1\" class=\"data row11 col1\" >88684</td>\n",
       "      <td id=\"T_61d04_row11_col2\" class=\"data row11 col2\" >23</td>\n",
       "      <td id=\"T_61d04_row11_col3\" class=\"data row11 col3\" >6</td>\n",
       "      <td id=\"T_61d04_row11_col4\" class=\"data row11 col4\" >20</td>\n",
       "      <td id=\"T_61d04_row11_col5\" class=\"data row11 col5\" >30</td>\n",
       "    </tr>\n",
       "    <tr>\n",
       "      <th id=\"T_61d04_level0_row12\" class=\"row_heading level0 row12\" >139838</th>\n",
       "      <td id=\"T_61d04_row12_col0\" class=\"data row12 col0\" >1377872</td>\n",
       "      <td id=\"T_61d04_row12_col1\" class=\"data row12 col1\" >44622</td>\n",
       "      <td id=\"T_61d04_row12_col2\" class=\"data row12 col2\" >7</td>\n",
       "      <td id=\"T_61d04_row12_col3\" class=\"data row12 col3\" >3</td>\n",
       "      <td id=\"T_61d04_row12_col4\" class=\"data row12 col4\" >22</td>\n",
       "      <td id=\"T_61d04_row12_col5\" class=\"data row12 col5\" >22</td>\n",
       "    </tr>\n",
       "    <tr>\n",
       "      <th id=\"T_61d04_level0_row13\" class=\"row_heading level0 row13\" >473779</th>\n",
       "      <td id=\"T_61d04_row13_col0\" class=\"data row13 col0\" >2848483</td>\n",
       "      <td id=\"T_61d04_row13_col1\" class=\"data row13 col1\" >33438</td>\n",
       "      <td id=\"T_61d04_row13_col2\" class=\"data row13 col2\" >11</td>\n",
       "      <td id=\"T_61d04_row13_col3\" class=\"data row13 col3\" >3</td>\n",
       "      <td id=\"T_61d04_row13_col4\" class=\"data row13 col4\" >17</td>\n",
       "      <td id=\"T_61d04_row13_col5\" class=\"data row13 col5\" >6</td>\n",
       "    </tr>\n",
       "    <tr>\n",
       "      <th id=\"T_61d04_level0_row14\" class=\"row_heading level0 row14\" >236855</th>\n",
       "      <td id=\"T_61d04_row14_col0\" class=\"data row14 col0\" >1998966</td>\n",
       "      <td id=\"T_61d04_row14_col1\" class=\"data row14 col1\" >200612</td>\n",
       "      <td id=\"T_61d04_row14_col2\" class=\"data row14 col2\" >4</td>\n",
       "      <td id=\"T_61d04_row14_col3\" class=\"data row14 col3\" >6</td>\n",
       "      <td id=\"T_61d04_row14_col4\" class=\"data row14 col4\" >15</td>\n",
       "      <td id=\"T_61d04_row14_col5\" class=\"data row14 col5\" >30</td>\n",
       "    </tr>\n",
       "    <tr>\n",
       "      <th id=\"T_61d04_level0_row15\" class=\"row_heading level0 row15\" >314979</th>\n",
       "      <td id=\"T_61d04_row15_col0\" class=\"data row15 col0\" >796513</td>\n",
       "      <td id=\"T_61d04_row15_col1\" class=\"data row15 col1\" >100239</td>\n",
       "      <td id=\"T_61d04_row15_col2\" class=\"data row15 col2\" >7</td>\n",
       "      <td id=\"T_61d04_row15_col3\" class=\"data row15 col3\" >6</td>\n",
       "      <td id=\"T_61d04_row15_col4\" class=\"data row15 col4\" >8</td>\n",
       "      <td id=\"T_61d04_row15_col5\" class=\"data row15 col5\" >18</td>\n",
       "    </tr>\n",
       "    <tr>\n",
       "      <th id=\"T_61d04_level0_row16\" class=\"row_heading level0 row16\" >53113</th>\n",
       "      <td id=\"T_61d04_row16_col0\" class=\"data row16 col0\" >1963056</td>\n",
       "      <td id=\"T_61d04_row16_col1\" class=\"data row16 col1\" >76804</td>\n",
       "      <td id=\"T_61d04_row16_col2\" class=\"data row16 col2\" >14</td>\n",
       "      <td id=\"T_61d04_row16_col3\" class=\"data row16 col3\" >3</td>\n",
       "      <td id=\"T_61d04_row16_col4\" class=\"data row16 col4\" >16</td>\n",
       "      <td id=\"T_61d04_row16_col5\" class=\"data row16 col5\" >4</td>\n",
       "    </tr>\n",
       "    <tr>\n",
       "      <th id=\"T_61d04_level0_row17\" class=\"row_heading level0 row17\" >222493</th>\n",
       "      <td id=\"T_61d04_row17_col0\" class=\"data row17 col0\" >1107176</td>\n",
       "      <td id=\"T_61d04_row17_col1\" class=\"data row17 col1\" >46378</td>\n",
       "      <td id=\"T_61d04_row17_col2\" class=\"data row17 col2\" >6</td>\n",
       "      <td id=\"T_61d04_row17_col3\" class=\"data row17 col3\" >6</td>\n",
       "      <td id=\"T_61d04_row17_col4\" class=\"data row17 col4\" >3</td>\n",
       "      <td id=\"T_61d04_row17_col5\" class=\"data row17 col5\" >30</td>\n",
       "    </tr>\n",
       "    <tr>\n",
       "      <th id=\"T_61d04_level0_row18\" class=\"row_heading level0 row18\" >466562</th>\n",
       "      <td id=\"T_61d04_row18_col0\" class=\"data row18 col0\" >2604928</td>\n",
       "      <td id=\"T_61d04_row18_col1\" class=\"data row18 col1\" >108410</td>\n",
       "      <td id=\"T_61d04_row18_col2\" class=\"data row18 col2\" >14</td>\n",
       "      <td id=\"T_61d04_row18_col3\" class=\"data row18 col3\" >6</td>\n",
       "      <td id=\"T_61d04_row18_col4\" class=\"data row18 col4\" >21</td>\n",
       "      <td id=\"T_61d04_row18_col5\" class=\"data row18 col5\" >16</td>\n",
       "    </tr>\n",
       "    <tr>\n",
       "      <th id=\"T_61d04_level0_row19\" class=\"row_heading level0 row19\" >32291</th>\n",
       "      <td id=\"T_61d04_row19_col0\" class=\"data row19 col0\" >3074427</td>\n",
       "      <td id=\"T_61d04_row19_col1\" class=\"data row19 col1\" >41848</td>\n",
       "      <td id=\"T_61d04_row19_col2\" class=\"data row19 col2\" >13</td>\n",
       "      <td id=\"T_61d04_row19_col3\" class=\"data row19 col3\" >3</td>\n",
       "      <td id=\"T_61d04_row19_col4\" class=\"data row19 col4\" >0</td>\n",
       "      <td id=\"T_61d04_row19_col5\" class=\"data row19 col5\" >14</td>\n",
       "    </tr>\n",
       "    <tr>\n",
       "      <th id=\"T_61d04_level0_row20\" class=\"row_heading level0 row20\" >249322</th>\n",
       "      <td id=\"T_61d04_row20_col0\" class=\"data row20 col0\" >493792</td>\n",
       "      <td id=\"T_61d04_row20_col1\" class=\"data row20 col1\" >145967</td>\n",
       "      <td id=\"T_61d04_row20_col2\" class=\"data row20 col2\" >24</td>\n",
       "      <td id=\"T_61d04_row20_col3\" class=\"data row20 col3\" >3</td>\n",
       "      <td id=\"T_61d04_row20_col4\" class=\"data row20 col4\" >12</td>\n",
       "      <td id=\"T_61d04_row20_col5\" class=\"data row20 col5\" >25</td>\n",
       "    </tr>\n",
       "    <tr>\n",
       "      <th id=\"T_61d04_level0_row21\" class=\"row_heading level0 row21\" >280989</th>\n",
       "      <td id=\"T_61d04_row21_col0\" class=\"data row21 col0\" >684348</td>\n",
       "      <td id=\"T_61d04_row21_col1\" class=\"data row21 col1\" >56337</td>\n",
       "      <td id=\"T_61d04_row21_col2\" class=\"data row21 col2\" >43</td>\n",
       "      <td id=\"T_61d04_row21_col3\" class=\"data row21 col3\" >6</td>\n",
       "      <td id=\"T_61d04_row21_col4\" class=\"data row21 col4\" >17</td>\n",
       "      <td id=\"T_61d04_row21_col5\" class=\"data row21 col5\" >2</td>\n",
       "    </tr>\n",
       "    <tr>\n",
       "      <th id=\"T_61d04_level0_row22\" class=\"row_heading level0 row22\" >212758</th>\n",
       "      <td id=\"T_61d04_row22_col0\" class=\"data row22 col0\" >1616892</td>\n",
       "      <td id=\"T_61d04_row22_col1\" class=\"data row22 col1\" >141232</td>\n",
       "      <td id=\"T_61d04_row22_col2\" class=\"data row22 col2\" >7</td>\n",
       "      <td id=\"T_61d04_row22_col3\" class=\"data row22 col3\" >6</td>\n",
       "      <td id=\"T_61d04_row22_col4\" class=\"data row22 col4\" >8</td>\n",
       "      <td id=\"T_61d04_row22_col5\" class=\"data row22 col5\" >30</td>\n",
       "    </tr>\n",
       "    <tr>\n",
       "      <th id=\"T_61d04_level0_row23\" class=\"row_heading level0 row23\" >399395</th>\n",
       "      <td id=\"T_61d04_row23_col0\" class=\"data row23 col0\" >2622</td>\n",
       "      <td id=\"T_61d04_row23_col1\" class=\"data row23 col1\" >125212</td>\n",
       "      <td id=\"T_61d04_row23_col2\" class=\"data row23 col2\" >7</td>\n",
       "      <td id=\"T_61d04_row23_col3\" class=\"data row23 col3\" >3</td>\n",
       "      <td id=\"T_61d04_row23_col4\" class=\"data row23 col4\" >18</td>\n",
       "      <td id=\"T_61d04_row23_col5\" class=\"data row23 col5\" >30</td>\n",
       "    </tr>\n",
       "    <tr>\n",
       "      <th id=\"T_61d04_level0_row24\" class=\"row_heading level0 row24\" >411357</th>\n",
       "      <td id=\"T_61d04_row24_col0\" class=\"data row24 col0\" >2729774</td>\n",
       "      <td id=\"T_61d04_row24_col1\" class=\"data row24 col1\" >96935</td>\n",
       "      <td id=\"T_61d04_row24_col2\" class=\"data row24 col2\" >40</td>\n",
       "      <td id=\"T_61d04_row24_col3\" class=\"data row24 col3\" >3</td>\n",
       "      <td id=\"T_61d04_row24_col4\" class=\"data row24 col4\" >8</td>\n",
       "      <td id=\"T_61d04_row24_col5\" class=\"data row24 col5\" >2</td>\n",
       "    </tr>\n",
       "  </tbody>\n",
       "</table>\n"
      ],
      "text/plain": [
       "<pandas.io.formats.style.Styler at 0x2a3c2758550>"
      ]
     },
     "metadata": {},
     "output_type": "display_data"
    }
   ],
   "source": [
    "df_wnd_sat = df_instacart_orders[df_instacart_orders['order_dow'].isin([3, 6])]\n",
    "display(df_wnd_sat.sample(25).style.apply(zebra_rows, axis=1))"
   ]
  },
  {
   "cell_type": "code",
   "execution_count": 52,
   "id": "d89b8403",
   "metadata": {
    "id": "d89b8403"
   },
   "outputs": [
    {
     "data": {
      "text/html": [
       "<style type=\"text/css\">\n",
       "#T_80fb5_row0_col0, #T_80fb5_row0_col1, #T_80fb5_row2_col0, #T_80fb5_row2_col1, #T_80fb5_row4_col0, #T_80fb5_row4_col1, #T_80fb5_row6_col0, #T_80fb5_row6_col1, #T_80fb5_row8_col0, #T_80fb5_row8_col1, #T_80fb5_row10_col0, #T_80fb5_row10_col1, #T_80fb5_row12_col0, #T_80fb5_row12_col1, #T_80fb5_row14_col0, #T_80fb5_row14_col1, #T_80fb5_row16_col0, #T_80fb5_row16_col1, #T_80fb5_row18_col0, #T_80fb5_row18_col1, #T_80fb5_row20_col0, #T_80fb5_row20_col1, #T_80fb5_row22_col0, #T_80fb5_row22_col1 {\n",
       "  background-color: #808080;\n",
       "}\n",
       "#T_80fb5_row1_col0, #T_80fb5_row1_col1, #T_80fb5_row3_col0, #T_80fb5_row3_col1, #T_80fb5_row5_col0, #T_80fb5_row5_col1, #T_80fb5_row7_col0, #T_80fb5_row7_col1, #T_80fb5_row9_col0, #T_80fb5_row9_col1, #T_80fb5_row11_col0, #T_80fb5_row11_col1, #T_80fb5_row13_col0, #T_80fb5_row13_col1, #T_80fb5_row15_col0, #T_80fb5_row15_col1, #T_80fb5_row17_col0, #T_80fb5_row17_col1, #T_80fb5_row19_col0, #T_80fb5_row19_col1, #T_80fb5_row21_col0, #T_80fb5_row21_col1, #T_80fb5_row23_col0, #T_80fb5_row23_col1 {\n",
       "  background-color: #595959;\n",
       "}\n",
       "</style>\n",
       "<table id=\"T_80fb5\">\n",
       "  <thead>\n",
       "    <tr>\n",
       "      <th class=\"index_name level0\" >order_dow</th>\n",
       "      <th id=\"T_80fb5_level0_col0\" class=\"col_heading level0 col0\" >3</th>\n",
       "      <th id=\"T_80fb5_level0_col1\" class=\"col_heading level0 col1\" >6</th>\n",
       "    </tr>\n",
       "    <tr>\n",
       "      <th class=\"index_name level0\" >order_hour_of_day</th>\n",
       "      <th class=\"blank col0\" >&nbsp;</th>\n",
       "      <th class=\"blank col1\" >&nbsp;</th>\n",
       "    </tr>\n",
       "  </thead>\n",
       "  <tbody>\n",
       "    <tr>\n",
       "      <th id=\"T_80fb5_level0_row0\" class=\"row_heading level0 row0\" >0</th>\n",
       "      <td id=\"T_80fb5_row0_col0\" class=\"data row0 col0\" >373</td>\n",
       "      <td id=\"T_80fb5_row0_col1\" class=\"data row0 col1\" >464</td>\n",
       "    </tr>\n",
       "    <tr>\n",
       "      <th id=\"T_80fb5_level0_row1\" class=\"row_heading level0 row1\" >1</th>\n",
       "      <td id=\"T_80fb5_row1_col0\" class=\"data row1 col0\" >215</td>\n",
       "      <td id=\"T_80fb5_row1_col1\" class=\"data row1 col1\" >254</td>\n",
       "    </tr>\n",
       "    <tr>\n",
       "      <th id=\"T_80fb5_level0_row2\" class=\"row_heading level0 row2\" >2</th>\n",
       "      <td id=\"T_80fb5_row2_col0\" class=\"data row2 col0\" >106</td>\n",
       "      <td id=\"T_80fb5_row2_col1\" class=\"data row2 col1\" >177</td>\n",
       "    </tr>\n",
       "    <tr>\n",
       "      <th id=\"T_80fb5_level0_row3\" class=\"row_heading level0 row3\" >3</th>\n",
       "      <td id=\"T_80fb5_row3_col0\" class=\"data row3 col0\" >101</td>\n",
       "      <td id=\"T_80fb5_row3_col1\" class=\"data row3 col1\" >125</td>\n",
       "    </tr>\n",
       "    <tr>\n",
       "      <th id=\"T_80fb5_level0_row4\" class=\"row_heading level0 row4\" >4</th>\n",
       "      <td id=\"T_80fb5_row4_col0\" class=\"data row4 col0\" >108</td>\n",
       "      <td id=\"T_80fb5_row4_col1\" class=\"data row4 col1\" >118</td>\n",
       "    </tr>\n",
       "    <tr>\n",
       "      <th id=\"T_80fb5_level0_row5\" class=\"row_heading level0 row5\" >5</th>\n",
       "      <td id=\"T_80fb5_row5_col0\" class=\"data row5 col0\" >170</td>\n",
       "      <td id=\"T_80fb5_row5_col1\" class=\"data row5 col1\" >161</td>\n",
       "    </tr>\n",
       "    <tr>\n",
       "      <th id=\"T_80fb5_level0_row6\" class=\"row_heading level0 row6\" >6</th>\n",
       "      <td id=\"T_80fb5_row6_col0\" class=\"data row6 col0\" >643</td>\n",
       "      <td id=\"T_80fb5_row6_col1\" class=\"data row6 col1\" >451</td>\n",
       "    </tr>\n",
       "    <tr>\n",
       "      <th id=\"T_80fb5_level0_row7\" class=\"row_heading level0 row7\" >7</th>\n",
       "      <td id=\"T_80fb5_row7_col0\" class=\"data row7 col0\" >1732</td>\n",
       "      <td id=\"T_80fb5_row7_col1\" class=\"data row7 col1\" >1619</td>\n",
       "    </tr>\n",
       "    <tr>\n",
       "      <th id=\"T_80fb5_level0_row8\" class=\"row_heading level0 row8\" >8</th>\n",
       "      <td id=\"T_80fb5_row8_col0\" class=\"data row8 col0\" >3125</td>\n",
       "      <td id=\"T_80fb5_row8_col1\" class=\"data row8 col1\" >3246</td>\n",
       "    </tr>\n",
       "    <tr>\n",
       "      <th id=\"T_80fb5_level0_row9\" class=\"row_heading level0 row9\" >9</th>\n",
       "      <td id=\"T_80fb5_row9_col0\" class=\"data row9 col0\" >4490</td>\n",
       "      <td id=\"T_80fb5_row9_col1\" class=\"data row9 col1\" >4311</td>\n",
       "    </tr>\n",
       "    <tr>\n",
       "      <th id=\"T_80fb5_level0_row10\" class=\"row_heading level0 row10\" >10</th>\n",
       "      <td id=\"T_80fb5_row10_col0\" class=\"data row10 col0\" >5026</td>\n",
       "      <td id=\"T_80fb5_row10_col1\" class=\"data row10 col1\" >4919</td>\n",
       "    </tr>\n",
       "    <tr>\n",
       "      <th id=\"T_80fb5_level0_row11\" class=\"row_heading level0 row11\" >11</th>\n",
       "      <td id=\"T_80fb5_row11_col0\" class=\"data row11 col0\" >5004</td>\n",
       "      <td id=\"T_80fb5_row11_col1\" class=\"data row11 col1\" >5116</td>\n",
       "    </tr>\n",
       "    <tr>\n",
       "      <th id=\"T_80fb5_level0_row12\" class=\"row_heading level0 row12\" >12</th>\n",
       "      <td id=\"T_80fb5_row12_col0\" class=\"data row12 col0\" >4688</td>\n",
       "      <td id=\"T_80fb5_row12_col1\" class=\"data row12 col1\" >5132</td>\n",
       "    </tr>\n",
       "    <tr>\n",
       "      <th id=\"T_80fb5_level0_row13\" class=\"row_heading level0 row13\" >13</th>\n",
       "      <td id=\"T_80fb5_row13_col0\" class=\"data row13 col0\" >4674</td>\n",
       "      <td id=\"T_80fb5_row13_col1\" class=\"data row13 col1\" >5323</td>\n",
       "    </tr>\n",
       "    <tr>\n",
       "      <th id=\"T_80fb5_level0_row14\" class=\"row_heading level0 row14\" >14</th>\n",
       "      <td id=\"T_80fb5_row14_col0\" class=\"data row14 col0\" >4774</td>\n",
       "      <td id=\"T_80fb5_row14_col1\" class=\"data row14 col1\" >5375</td>\n",
       "    </tr>\n",
       "    <tr>\n",
       "      <th id=\"T_80fb5_level0_row15\" class=\"row_heading level0 row15\" >15</th>\n",
       "      <td id=\"T_80fb5_row15_col0\" class=\"data row15 col0\" >5163</td>\n",
       "      <td id=\"T_80fb5_row15_col1\" class=\"data row15 col1\" >5188</td>\n",
       "    </tr>\n",
       "    <tr>\n",
       "      <th id=\"T_80fb5_level0_row16\" class=\"row_heading level0 row16\" >16</th>\n",
       "      <td id=\"T_80fb5_row16_col0\" class=\"data row16 col0\" >4976</td>\n",
       "      <td id=\"T_80fb5_row16_col1\" class=\"data row16 col1\" >5029</td>\n",
       "    </tr>\n",
       "    <tr>\n",
       "      <th id=\"T_80fb5_level0_row17\" class=\"row_heading level0 row17\" >17</th>\n",
       "      <td id=\"T_80fb5_row17_col0\" class=\"data row17 col0\" >4175</td>\n",
       "      <td id=\"T_80fb5_row17_col1\" class=\"data row17 col1\" >4295</td>\n",
       "    </tr>\n",
       "    <tr>\n",
       "      <th id=\"T_80fb5_level0_row18\" class=\"row_heading level0 row18\" >18</th>\n",
       "      <td id=\"T_80fb5_row18_col0\" class=\"data row18 col0\" >3463</td>\n",
       "      <td id=\"T_80fb5_row18_col1\" class=\"data row18 col1\" >3338</td>\n",
       "    </tr>\n",
       "    <tr>\n",
       "      <th id=\"T_80fb5_level0_row19\" class=\"row_heading level0 row19\" >19</th>\n",
       "      <td id=\"T_80fb5_row19_col0\" class=\"data row19 col0\" >2652</td>\n",
       "      <td id=\"T_80fb5_row19_col1\" class=\"data row19 col1\" >2610</td>\n",
       "    </tr>\n",
       "    <tr>\n",
       "      <th id=\"T_80fb5_level0_row20\" class=\"row_heading level0 row20\" >20</th>\n",
       "      <td id=\"T_80fb5_row20_col0\" class=\"data row20 col0\" >1917</td>\n",
       "      <td id=\"T_80fb5_row20_col1\" class=\"data row20 col1\" >1847</td>\n",
       "    </tr>\n",
       "    <tr>\n",
       "      <th id=\"T_80fb5_level0_row21\" class=\"row_heading level0 row21\" >21</th>\n",
       "      <td id=\"T_80fb5_row21_col0\" class=\"data row21 col0\" >1450</td>\n",
       "      <td id=\"T_80fb5_row21_col1\" class=\"data row21 col1\" >1473</td>\n",
       "    </tr>\n",
       "    <tr>\n",
       "      <th id=\"T_80fb5_level0_row22\" class=\"row_heading level0 row22\" >22</th>\n",
       "      <td id=\"T_80fb5_row22_col0\" class=\"data row22 col0\" >1154</td>\n",
       "      <td id=\"T_80fb5_row22_col1\" class=\"data row22 col1\" >1185</td>\n",
       "    </tr>\n",
       "    <tr>\n",
       "      <th id=\"T_80fb5_level0_row23\" class=\"row_heading level0 row23\" >23</th>\n",
       "      <td id=\"T_80fb5_row23_col0\" class=\"data row23 col0\" >718</td>\n",
       "      <td id=\"T_80fb5_row23_col1\" class=\"data row23 col1\" >893</td>\n",
       "    </tr>\n",
       "  </tbody>\n",
       "</table>\n"
      ],
      "text/plain": [
       "<pandas.io.formats.style.Styler at 0x2a3c4ab5b70>"
      ]
     },
     "metadata": {},
     "output_type": "display_data"
    }
   ],
   "source": [
    "# Filtrar solo miércoles y sábado\n",
    "df_dy_hr = df_wnd_sat.pivot_table(index='order_hour_of_day',\n",
    "                                  columns='order_dow',\n",
    "                                  values='order_id',\n",
    "                                  aggfunc='count')\n",
    "display(df_dy_hr.head(25).style.apply(zebra_rows, axis=1))\n"
   ]
  },
  {
   "cell_type": "code",
   "execution_count": 53,
   "id": "797c90a8",
   "metadata": {
    "id": "797c90a8"
   },
   "outputs": [
    {
     "data": {
      "image/png": "[encoded data removed]",
      "text/plain": [
       "<Figure size 1500x500 with 1 Axes>"
      ]
     },
     "metadata": {},
     "output_type": "display_data"
    }
   ],
   "source": [
    "df_dy_hr.plot(kind='bar',\n",
    "              title='Orders by Hour (Wednesday vs. Saturday)',\n",
    "              xlabel='Hour of day',\n",
    "              ylabel='Number of orders',\n",
    "              grid=True,\n",
    "              rot=0,\n",
    "              figsize=[15, 5],\n",
    "              color=['grey', 'lightgrey'])\n",
    "plt.tight_layout()\n",
    "plt.show()"
   ]
  },
  {
   "cell_type": "markdown",
   "id": "charitable-congo",
   "metadata": {
    "id": "charitable-congo"
   },
   "source": [
    "Write your conclusions here\n",
    "###### _LSPL_\n",
    "\n",
    "There are certain differences in the distribution of orders by hour for Wednesdays and Saturdays.\n",
    "\n",
    "Wednesday:\n",
    "\n",
    "- The time when most orders are generated is 3 pm. From 7 am to 10 pm is the regular order generation time (over 10,000 orders). From 11 pm to 6 am is the time period with the lowest sales due to people's rest hours (below 10,000 orders). You can even see a drop in orders between 12 and 2 pm.\n",
    "\n",
    "- The time when most orders are generated is 2 pm. From 7 am to 10 pm is the regular order generation time (over 10,000 orders). 11 p.m. to 6 a.m. is the period with the lowest sales due to people's off hours (below 10,000 orders). Saturdays don't see any drops in the number of orders during the day."
   ]
  },
  {
   "cell_type": "markdown",
   "id": "e3891143",
   "metadata": {
    "id": "e3891143"
   },
   "source": [
    "### [B2] What is the distribution for the number of orders per customer?"
   ]
  },
  {
   "cell_type": "code",
   "execution_count": 54,
   "id": "d8c26c23",
   "metadata": {
    "id": "d8c26c23"
   },
   "outputs": [
    {
     "name": "stdout",
     "output_type": "stream",
     "text": [
      "Number of orders per user: \n",
      " user_id\n",
      "149605    28\n",
      "193164    26\n",
      "78375     25\n",
      "134511    24\n",
      "148162    24\n",
      "          ..\n",
      "73221      1\n",
      "112002     1\n",
      "82546      1\n",
      "60017      1\n",
      "133649     1\n",
      "Name: count, Length: 157437, dtype: int64\n",
      "\n",
      "Number of customers per order quantity: \n",
      " count\n",
      "1     55357\n",
      "2     36508\n",
      "3     21547\n",
      "4     13498\n",
      "5      8777\n",
      "      ...  \n",
      "23       19\n",
      "24        3\n",
      "25        1\n",
      "26        1\n",
      "28        1\n",
      "Name: count, Length: 27, dtype: int64\n"
     ]
    }
   ],
   "source": [
    "# Count how many orders each user has made\n",
    "user_orders = df_instacart_orders['user_id'].value_counts()\n",
    "print(f\"Number of orders per user: \\n {user_orders}\")\n",
    "print()\n",
    "\n",
    "# Count how many users there are for each order quantity\n",
    "user_per_amount_orders = user_orders.value_counts().sort_index()\n",
    "print(f\"Number of customers per order quantity: \\n {user_per_amount_orders}\")"
   ]
  },
  {
   "cell_type": "code",
   "execution_count": 55,
   "id": "00e69a66",
   "metadata": {
    "id": "00e69a66"
   },
   "outputs": [
    {
     "data": {
      "image/png": "[encoded data removed]",
      "text/plain": [
       "<Figure size 1500x500 with 1 Axes>"
      ]
     },
     "metadata": {},
     "output_type": "display_data"
    }
   ],
   "source": [
    "user_per_amount_orders.plot(\n",
    "    kind='bar',\n",
    "    title='Distribution of the number of orders per customer',\n",
    "    xlabel='Number of orders placed',\n",
    "    ylabel='Number of customers',\n",
    "    grid=True,\n",
    "    figsize=[15,5],\n",
    "    rot=0,\n",
    "    color='grey')\n",
    "plt.tight_layout()\n",
    "plt.show()"
   ]
  },
  {
   "cell_type": "markdown",
   "id": "d2eff7d5",
   "metadata": {
    "id": "d2eff7d5"
   },
   "source": [
    "Write your conclusions here\n",
    "###### _LSPL_\n",
    "You can see the trend in the number of purchases made by most customers: many customers make one-time purchases or make few orders, and few customers make many orders.\n"
   ]
  },
  {
   "cell_type": "markdown",
   "id": "54a0319c",
   "metadata": {
    "id": "54a0319c"
   },
   "source": [
    "### [B3] What are the 20 most popular products (show their ID and name)?"
   ]
  },
  {
   "cell_type": "code",
   "execution_count": 56,
   "id": "exterior-arizona",
   "metadata": {
    "id": "exterior-arizona",
    "scrolled": true
   },
   "outputs": [
    {
     "data": {
      "text/html": [
       "<style type=\"text/css\">\n",
       "#T_d86ff_row0_col0, #T_d86ff_row0_col1, #T_d86ff_row3_col0, #T_d86ff_row3_col1, #T_d86ff_row5_col0, #T_d86ff_row5_col1, #T_d86ff_row8_col0, #T_d86ff_row8_col1, #T_d86ff_row11_col0, #T_d86ff_row11_col1, #T_d86ff_row12_col0, #T_d86ff_row12_col1, #T_d86ff_row17_col0, #T_d86ff_row17_col1, #T_d86ff_row20_col0, #T_d86ff_row20_col1, #T_d86ff_row22_col0, #T_d86ff_row22_col1, #T_d86ff_row24_col0, #T_d86ff_row24_col1 {\n",
       "  background-color: #595959;\n",
       "}\n",
       "#T_d86ff_row1_col0, #T_d86ff_row1_col1, #T_d86ff_row2_col0, #T_d86ff_row2_col1, #T_d86ff_row4_col0, #T_d86ff_row4_col1, #T_d86ff_row6_col0, #T_d86ff_row6_col1, #T_d86ff_row7_col0, #T_d86ff_row7_col1, #T_d86ff_row9_col0, #T_d86ff_row9_col1, #T_d86ff_row10_col0, #T_d86ff_row10_col1, #T_d86ff_row13_col0, #T_d86ff_row13_col1, #T_d86ff_row14_col0, #T_d86ff_row14_col1, #T_d86ff_row15_col0, #T_d86ff_row15_col1, #T_d86ff_row16_col0, #T_d86ff_row16_col1, #T_d86ff_row18_col0, #T_d86ff_row18_col1, #T_d86ff_row19_col0, #T_d86ff_row19_col1, #T_d86ff_row21_col0, #T_d86ff_row21_col1, #T_d86ff_row23_col0, #T_d86ff_row23_col1 {\n",
       "  background-color: #808080;\n",
       "}\n",
       "</style>\n",
       "<table id=\"T_d86ff\">\n",
       "  <thead>\n",
       "    <tr>\n",
       "      <th class=\"blank level0\" >&nbsp;</th>\n",
       "      <th id=\"T_d86ff_level0_col0\" class=\"col_heading level0 col0\" >product_id</th>\n",
       "      <th id=\"T_d86ff_level0_col1\" class=\"col_heading level0 col1\" >order_amounts</th>\n",
       "    </tr>\n",
       "  </thead>\n",
       "  <tbody>\n",
       "    <tr>\n",
       "      <th id=\"T_d86ff_level0_row0\" class=\"row_heading level0 row0\" >12803</th>\n",
       "      <td id=\"T_d86ff_row0_col0\" class=\"data row0 col0\" >6458</td>\n",
       "      <td id=\"T_d86ff_row0_col1\" class=\"data row0 col1\" >35</td>\n",
       "    </tr>\n",
       "    <tr>\n",
       "      <th id=\"T_d86ff_level0_row1\" class=\"row_heading level0 row1\" >11196</th>\n",
       "      <td id=\"T_d86ff_row1_col0\" class=\"data row1 col0\" >1726</td>\n",
       "      <td id=\"T_d86ff_row1_col1\" class=\"data row1 col1\" >43</td>\n",
       "    </tr>\n",
       "    <tr>\n",
       "      <th id=\"T_d86ff_level0_row2\" class=\"row_heading level0 row2\" >36398</th>\n",
       "      <td id=\"T_d86ff_row2_col0\" class=\"data row2 col0\" >30255</td>\n",
       "      <td id=\"T_d86ff_row2_col1\" class=\"data row2 col1\" >3</td>\n",
       "    </tr>\n",
       "    <tr>\n",
       "      <th id=\"T_d86ff_level0_row3\" class=\"row_heading level0 row3\" >37703</th>\n",
       "      <td id=\"T_d86ff_row3_col0\" class=\"data row3 col0\" >40995</td>\n",
       "      <td id=\"T_d86ff_row3_col1\" class=\"data row3 col1\" >2</td>\n",
       "    </tr>\n",
       "    <tr>\n",
       "      <th id=\"T_d86ff_level0_row4\" class=\"row_heading level0 row4\" >17844</th>\n",
       "      <td id=\"T_d86ff_row4_col0\" class=\"data row4 col0\" >4729</td>\n",
       "      <td id=\"T_d86ff_row4_col1\" class=\"data row4 col1\" >18</td>\n",
       "    </tr>\n",
       "    <tr>\n",
       "      <th id=\"T_d86ff_level0_row5\" class=\"row_heading level0 row5\" >41441</th>\n",
       "      <td id=\"T_d86ff_row5_col0\" class=\"data row5 col0\" >47587</td>\n",
       "      <td id=\"T_d86ff_row5_col1\" class=\"data row5 col1\" >1</td>\n",
       "    </tr>\n",
       "    <tr>\n",
       "      <th id=\"T_d86ff_level0_row6\" class=\"row_heading level0 row6\" >11824</th>\n",
       "      <td id=\"T_d86ff_row6_col0\" class=\"data row6 col0\" >3053</td>\n",
       "      <td id=\"T_d86ff_row6_col1\" class=\"data row6 col1\" >40</td>\n",
       "    </tr>\n",
       "    <tr>\n",
       "      <th id=\"T_d86ff_level0_row7\" class=\"row_heading level0 row7\" >30678</th>\n",
       "      <td id=\"T_d86ff_row7_col0\" class=\"data row7 col0\" >38046</td>\n",
       "      <td id=\"T_d86ff_row7_col1\" class=\"data row7 col1\" >5</td>\n",
       "    </tr>\n",
       "    <tr>\n",
       "      <th id=\"T_d86ff_level0_row8\" class=\"row_heading level0 row8\" >31675</th>\n",
       "      <td id=\"T_d86ff_row8_col0\" class=\"data row8 col0\" >13439</td>\n",
       "      <td id=\"T_d86ff_row8_col1\" class=\"data row8 col1\" >4</td>\n",
       "    </tr>\n",
       "    <tr>\n",
       "      <th id=\"T_d86ff_level0_row9\" class=\"row_heading level0 row9\" >7690</th>\n",
       "      <td id=\"T_d86ff_row9_col0\" class=\"data row9 col0\" >17859</td>\n",
       "      <td id=\"T_d86ff_row9_col1\" class=\"data row9 col1\" >78</td>\n",
       "    </tr>\n",
       "    <tr>\n",
       "      <th id=\"T_d86ff_level0_row10\" class=\"row_heading level0 row10\" >25556</th>\n",
       "      <td id=\"T_d86ff_row10_col0\" class=\"data row10 col0\" >41398</td>\n",
       "      <td id=\"T_d86ff_row10_col1\" class=\"data row10 col1\" >8</td>\n",
       "    </tr>\n",
       "    <tr>\n",
       "      <th id=\"T_d86ff_level0_row11\" class=\"row_heading level0 row11\" >23559</th>\n",
       "      <td id=\"T_d86ff_row11_col0\" class=\"data row11 col0\" >10697</td>\n",
       "      <td id=\"T_d86ff_row11_col1\" class=\"data row11 col1\" >10</td>\n",
       "    </tr>\n",
       "    <tr>\n",
       "      <th id=\"T_d86ff_level0_row12\" class=\"row_heading level0 row12\" >10843</th>\n",
       "      <td id=\"T_d86ff_row12_col0\" class=\"data row12 col0\" >24369</td>\n",
       "      <td id=\"T_d86ff_row12_col1\" class=\"data row12 col1\" >46</td>\n",
       "    </tr>\n",
       "    <tr>\n",
       "      <th id=\"T_d86ff_level0_row13\" class=\"row_heading level0 row13\" >10842</th>\n",
       "      <td id=\"T_d86ff_row13_col0\" class=\"data row13 col0\" >11669</td>\n",
       "      <td id=\"T_d86ff_row13_col1\" class=\"data row13 col1\" >46</td>\n",
       "    </tr>\n",
       "    <tr>\n",
       "      <th id=\"T_d86ff_level0_row14\" class=\"row_heading level0 row14\" >41824</th>\n",
       "      <td id=\"T_d86ff_row14_col0\" class=\"data row14 col0\" >5557</td>\n",
       "      <td id=\"T_d86ff_row14_col1\" class=\"data row14 col1\" >1</td>\n",
       "    </tr>\n",
       "    <tr>\n",
       "      <th id=\"T_d86ff_level0_row15\" class=\"row_heading level0 row15\" >10196</th>\n",
       "      <td id=\"T_d86ff_row15_col0\" class=\"data row15 col0\" >39927</td>\n",
       "      <td id=\"T_d86ff_row15_col1\" class=\"data row15 col1\" >51</td>\n",
       "    </tr>\n",
       "    <tr>\n",
       "      <th id=\"T_d86ff_level0_row16\" class=\"row_heading level0 row16\" >11054</th>\n",
       "      <td id=\"T_d86ff_row16_col0\" class=\"data row16 col0\" >15831</td>\n",
       "      <td id=\"T_d86ff_row16_col1\" class=\"data row16 col1\" >44</td>\n",
       "    </tr>\n",
       "    <tr>\n",
       "      <th id=\"T_d86ff_level0_row17\" class=\"row_heading level0 row17\" >9761</th>\n",
       "      <td id=\"T_d86ff_row17_col0\" class=\"data row17 col0\" >24093</td>\n",
       "      <td id=\"T_d86ff_row17_col1\" class=\"data row17 col1\" >54</td>\n",
       "    </tr>\n",
       "    <tr>\n",
       "      <th id=\"T_d86ff_level0_row18\" class=\"row_heading level0 row18\" >19422</th>\n",
       "      <td id=\"T_d86ff_row18_col0\" class=\"data row18 col0\" >48249</td>\n",
       "      <td id=\"T_d86ff_row18_col1\" class=\"data row18 col1\" >15</td>\n",
       "    </tr>\n",
       "    <tr>\n",
       "      <th id=\"T_d86ff_level0_row19\" class=\"row_heading level0 row19\" >29456</th>\n",
       "      <td id=\"T_d86ff_row19_col0\" class=\"data row19 col0\" >23281</td>\n",
       "      <td id=\"T_d86ff_row19_col1\" class=\"data row19 col1\" >5</td>\n",
       "    </tr>\n",
       "    <tr>\n",
       "      <th id=\"T_d86ff_level0_row20\" class=\"row_heading level0 row20\" >829</th>\n",
       "      <td id=\"T_d86ff_row20_col0\" class=\"data row20 col0\" >36127</td>\n",
       "      <td id=\"T_d86ff_row20_col1\" class=\"data row20 col1\" >911</td>\n",
       "    </tr>\n",
       "    <tr>\n",
       "      <th id=\"T_d86ff_level0_row21\" class=\"row_heading level0 row21\" >7234</th>\n",
       "      <td id=\"T_d86ff_row21_col0\" class=\"data row21 col0\" >42455</td>\n",
       "      <td id=\"T_d86ff_row21_col1\" class=\"data row21 col1\" >85</td>\n",
       "    </tr>\n",
       "    <tr>\n",
       "      <th id=\"T_d86ff_level0_row22\" class=\"row_heading level0 row22\" >40565</th>\n",
       "      <td id=\"T_d86ff_row22_col0\" class=\"data row22 col0\" >41049</td>\n",
       "      <td id=\"T_d86ff_row22_col1\" class=\"data row22 col1\" >1</td>\n",
       "    </tr>\n",
       "    <tr>\n",
       "      <th id=\"T_d86ff_level0_row23\" class=\"row_heading level0 row23\" >27324</th>\n",
       "      <td id=\"T_d86ff_row23_col0\" class=\"data row23 col0\" >22731</td>\n",
       "      <td id=\"T_d86ff_row23_col1\" class=\"data row23 col1\" >7</td>\n",
       "    </tr>\n",
       "    <tr>\n",
       "      <th id=\"T_d86ff_level0_row24\" class=\"row_heading level0 row24\" >40453</th>\n",
       "      <td id=\"T_d86ff_row24_col0\" class=\"data row24 col0\" >14822</td>\n",
       "      <td id=\"T_d86ff_row24_col1\" class=\"data row24 col1\" >2</td>\n",
       "    </tr>\n",
       "  </tbody>\n",
       "</table>\n"
      ],
      "text/plain": [
       "<pandas.io.formats.style.Styler at 0x2a3c2827af0>"
      ]
     },
     "metadata": {},
     "output_type": "display_data"
    }
   ],
   "source": [
    "# Count how many times each product was ordered\n",
    "df_most_ordered_products = df_order_products['product_id'].value_counts().reset_index()\n",
    "df_most_ordered_products.columns = ['product_id', 'order_amounts']\n",
    "\n",
    "display(df_most_ordered_products.sample(25).style.apply(zebra_rows, axis=1))"
   ]
  },
  {
   "cell_type": "code",
   "execution_count": 57,
   "id": "universal-facial",
   "metadata": {
    "id": "universal-facial"
   },
   "outputs": [
    {
     "data": {
      "text/html": [
       "<style type=\"text/css\">\n",
       "#T_e9dc4_row0_col0, #T_e9dc4_row0_col1, #T_e9dc4_row0_col2, #T_e9dc4_row0_col3, #T_e9dc4_row0_col4, #T_e9dc4_row1_col0, #T_e9dc4_row1_col1, #T_e9dc4_row1_col2, #T_e9dc4_row1_col3, #T_e9dc4_row1_col4, #T_e9dc4_row12_col0, #T_e9dc4_row12_col1, #T_e9dc4_row12_col2, #T_e9dc4_row12_col3, #T_e9dc4_row12_col4, #T_e9dc4_row15_col0, #T_e9dc4_row15_col1, #T_e9dc4_row15_col2, #T_e9dc4_row15_col3, #T_e9dc4_row15_col4, #T_e9dc4_row16_col0, #T_e9dc4_row16_col1, #T_e9dc4_row16_col2, #T_e9dc4_row16_col3, #T_e9dc4_row16_col4, #T_e9dc4_row17_col0, #T_e9dc4_row17_col1, #T_e9dc4_row17_col2, #T_e9dc4_row17_col3, #T_e9dc4_row17_col4, #T_e9dc4_row20_col0, #T_e9dc4_row20_col1, #T_e9dc4_row20_col2, #T_e9dc4_row20_col3, #T_e9dc4_row20_col4, #T_e9dc4_row21_col0, #T_e9dc4_row21_col1, #T_e9dc4_row21_col2, #T_e9dc4_row21_col3, #T_e9dc4_row21_col4, #T_e9dc4_row22_col0, #T_e9dc4_row22_col1, #T_e9dc4_row22_col2, #T_e9dc4_row22_col3, #T_e9dc4_row22_col4, #T_e9dc4_row23_col0, #T_e9dc4_row23_col1, #T_e9dc4_row23_col2, #T_e9dc4_row23_col3, #T_e9dc4_row23_col4 {\n",
       "  background-color: #808080;\n",
       "}\n",
       "#T_e9dc4_row2_col0, #T_e9dc4_row2_col1, #T_e9dc4_row2_col2, #T_e9dc4_row2_col3, #T_e9dc4_row2_col4, #T_e9dc4_row3_col0, #T_e9dc4_row3_col1, #T_e9dc4_row3_col2, #T_e9dc4_row3_col3, #T_e9dc4_row3_col4, #T_e9dc4_row4_col0, #T_e9dc4_row4_col1, #T_e9dc4_row4_col2, #T_e9dc4_row4_col3, #T_e9dc4_row4_col4, #T_e9dc4_row5_col0, #T_e9dc4_row5_col1, #T_e9dc4_row5_col2, #T_e9dc4_row5_col3, #T_e9dc4_row5_col4, #T_e9dc4_row6_col0, #T_e9dc4_row6_col1, #T_e9dc4_row6_col2, #T_e9dc4_row6_col3, #T_e9dc4_row6_col4, #T_e9dc4_row7_col0, #T_e9dc4_row7_col1, #T_e9dc4_row7_col2, #T_e9dc4_row7_col3, #T_e9dc4_row7_col4, #T_e9dc4_row8_col0, #T_e9dc4_row8_col1, #T_e9dc4_row8_col2, #T_e9dc4_row8_col3, #T_e9dc4_row8_col4, #T_e9dc4_row9_col0, #T_e9dc4_row9_col1, #T_e9dc4_row9_col2, #T_e9dc4_row9_col3, #T_e9dc4_row9_col4, #T_e9dc4_row10_col0, #T_e9dc4_row10_col1, #T_e9dc4_row10_col2, #T_e9dc4_row10_col3, #T_e9dc4_row10_col4, #T_e9dc4_row11_col0, #T_e9dc4_row11_col1, #T_e9dc4_row11_col2, #T_e9dc4_row11_col3, #T_e9dc4_row11_col4, #T_e9dc4_row13_col0, #T_e9dc4_row13_col1, #T_e9dc4_row13_col2, #T_e9dc4_row13_col3, #T_e9dc4_row13_col4, #T_e9dc4_row14_col0, #T_e9dc4_row14_col1, #T_e9dc4_row14_col2, #T_e9dc4_row14_col3, #T_e9dc4_row14_col4, #T_e9dc4_row18_col0, #T_e9dc4_row18_col1, #T_e9dc4_row18_col2, #T_e9dc4_row18_col3, #T_e9dc4_row18_col4, #T_e9dc4_row19_col0, #T_e9dc4_row19_col1, #T_e9dc4_row19_col2, #T_e9dc4_row19_col3, #T_e9dc4_row19_col4, #T_e9dc4_row24_col0, #T_e9dc4_row24_col1, #T_e9dc4_row24_col2, #T_e9dc4_row24_col3, #T_e9dc4_row24_col4 {\n",
       "  background-color: #595959;\n",
       "}\n",
       "</style>\n",
       "<table id=\"T_e9dc4\">\n",
       "  <thead>\n",
       "    <tr>\n",
       "      <th class=\"blank level0\" >&nbsp;</th>\n",
       "      <th id=\"T_e9dc4_level0_col0\" class=\"col_heading level0 col0\" >product_id</th>\n",
       "      <th id=\"T_e9dc4_level0_col1\" class=\"col_heading level0 col1\" >order_amounts</th>\n",
       "      <th id=\"T_e9dc4_level0_col2\" class=\"col_heading level0 col2\" >product_name</th>\n",
       "      <th id=\"T_e9dc4_level0_col3\" class=\"col_heading level0 col3\" >aisle_id</th>\n",
       "      <th id=\"T_e9dc4_level0_col4\" class=\"col_heading level0 col4\" >department_id</th>\n",
       "    </tr>\n",
       "  </thead>\n",
       "  <tbody>\n",
       "    <tr>\n",
       "      <th id=\"T_e9dc4_level0_row0\" class=\"row_heading level0 row0\" >6054</th>\n",
       "      <td id=\"T_e9dc4_row0_col0\" class=\"data row0 col0\" >25773</td>\n",
       "      <td id=\"T_e9dc4_row0_col1\" class=\"data row0 col1\" >110</td>\n",
       "      <td id=\"T_e9dc4_row0_col2\" class=\"data row0 col2\" >#2_coffee_filters</td>\n",
       "      <td id=\"T_e9dc4_row0_col3\" class=\"data row0 col3\" >26</td>\n",
       "      <td id=\"T_e9dc4_row0_col4\" class=\"data row0 col4\" >7</td>\n",
       "    </tr>\n",
       "    <tr>\n",
       "      <th id=\"T_e9dc4_level0_row1\" class=\"row_heading level0 row1\" >5998</th>\n",
       "      <td id=\"T_e9dc4_row1_col0\" class=\"data row1 col0\" >44828</td>\n",
       "      <td id=\"T_e9dc4_row1_col1\" class=\"data row1 col1\" >112</td>\n",
       "      <td id=\"T_e9dc4_row1_col2\" class=\"data row1 col2\" >ranch_dressing_&_dip</td>\n",
       "      <td id=\"T_e9dc4_row1_col3\" class=\"data row1 col3\" >89</td>\n",
       "      <td id=\"T_e9dc4_row1_col4\" class=\"data row1 col4\" >13</td>\n",
       "    </tr>\n",
       "    <tr>\n",
       "      <th id=\"T_e9dc4_level0_row2\" class=\"row_heading level0 row2\" >37427</th>\n",
       "      <td id=\"T_e9dc4_row2_col0\" class=\"data row2 col0\" >15514</td>\n",
       "      <td id=\"T_e9dc4_row2_col1\" class=\"data row2 col1\" >2</td>\n",
       "      <td id=\"T_e9dc4_row2_col2\" class=\"data row2 col2\" >advantage_3_in_1_exfoliating_cleanser</td>\n",
       "      <td id=\"T_e9dc4_row2_col3\" class=\"data row2 col3\" >73</td>\n",
       "      <td id=\"T_e9dc4_row2_col4\" class=\"data row2 col4\" >11</td>\n",
       "    </tr>\n",
       "    <tr>\n",
       "      <th id=\"T_e9dc4_level0_row3\" class=\"row_heading level0 row3\" >12069</th>\n",
       "      <td id=\"T_e9dc4_row3_col0\" class=\"data row3 col0\" >42263</td>\n",
       "      <td id=\"T_e9dc4_row3_col1\" class=\"data row3 col1\" >38</td>\n",
       "      <td id=\"T_e9dc4_row3_col2\" class=\"data row3 col2\" >blonde_ale</td>\n",
       "      <td id=\"T_e9dc4_row3_col3\" class=\"data row3 col3\" >27</td>\n",
       "      <td id=\"T_e9dc4_row3_col4\" class=\"data row3 col4\" >5</td>\n",
       "    </tr>\n",
       "    <tr>\n",
       "      <th id=\"T_e9dc4_level0_row4\" class=\"row_heading level0 row4\" >21627</th>\n",
       "      <td id=\"T_e9dc4_row4_col0\" class=\"data row4 col0\" >41174</td>\n",
       "      <td id=\"T_e9dc4_row4_col1\" class=\"data row4 col1\" >12</td>\n",
       "      <td id=\"T_e9dc4_row4_col2\" class=\"data row4 col2\" >tea_variety_pack</td>\n",
       "      <td id=\"T_e9dc4_row4_col3\" class=\"data row4 col3\" >94</td>\n",
       "      <td id=\"T_e9dc4_row4_col4\" class=\"data row4 col4\" >7</td>\n",
       "    </tr>\n",
       "    <tr>\n",
       "      <th id=\"T_e9dc4_level0_row5\" class=\"row_heading level0 row5\" >24175</th>\n",
       "      <td id=\"T_e9dc4_row5_col0\" class=\"data row5 col0\" >27524</td>\n",
       "      <td id=\"T_e9dc4_row5_col1\" class=\"data row5 col1\" >9</td>\n",
       "      <td id=\"T_e9dc4_row5_col2\" class=\"data row5 col2\" >diced_mangos_in_light_syrup</td>\n",
       "      <td id=\"T_e9dc4_row5_col3\" class=\"data row5 col3\" >99</td>\n",
       "      <td id=\"T_e9dc4_row5_col4\" class=\"data row5 col4\" >15</td>\n",
       "    </tr>\n",
       "    <tr>\n",
       "      <th id=\"T_e9dc4_level0_row6\" class=\"row_heading level0 row6\" >1257</th>\n",
       "      <td id=\"T_e9dc4_row6_col0\" class=\"data row6 col0\" >23291</td>\n",
       "      <td id=\"T_e9dc4_row6_col1\" class=\"data row6 col1\" >626</td>\n",
       "      <td id=\"T_e9dc4_row6_col2\" class=\"data row6 col2\" >coconut_chia_bar</td>\n",
       "      <td id=\"T_e9dc4_row6_col3\" class=\"data row6 col3\" >3</td>\n",
       "      <td id=\"T_e9dc4_row6_col4\" class=\"data row6 col4\" >19</td>\n",
       "    </tr>\n",
       "    <tr>\n",
       "      <th id=\"T_e9dc4_level0_row7\" class=\"row_heading level0 row7\" >26761</th>\n",
       "      <td id=\"T_e9dc4_row7_col0\" class=\"data row7 col0\" >30821</td>\n",
       "      <td id=\"T_e9dc4_row7_col1\" class=\"data row7 col1\" >7</td>\n",
       "      <td id=\"T_e9dc4_row7_col2\" class=\"data row7 col2\" >light_12_grain_bread</td>\n",
       "      <td id=\"T_e9dc4_row7_col3\" class=\"data row7 col3\" >112</td>\n",
       "      <td id=\"T_e9dc4_row7_col4\" class=\"data row7 col4\" >3</td>\n",
       "    </tr>\n",
       "    <tr>\n",
       "      <th id=\"T_e9dc4_level0_row8\" class=\"row_heading level0 row8\" >35181</th>\n",
       "      <td id=\"T_e9dc4_row8_col0\" class=\"data row8 col0\" >9093</td>\n",
       "      <td id=\"T_e9dc4_row8_col1\" class=\"data row8 col1\" >3</td>\n",
       "      <td id=\"T_e9dc4_row8_col2\" class=\"data row8 col2\" >original_flavors_jelly_beans</td>\n",
       "      <td id=\"T_e9dc4_row8_col3\" class=\"data row8 col3\" >45</td>\n",
       "      <td id=\"T_e9dc4_row8_col4\" class=\"data row8 col4\" >19</td>\n",
       "    </tr>\n",
       "    <tr>\n",
       "      <th id=\"T_e9dc4_level0_row9\" class=\"row_heading level0 row9\" >13945</th>\n",
       "      <td id=\"T_e9dc4_row9_col0\" class=\"data row9 col0\" >25307</td>\n",
       "      <td id=\"T_e9dc4_row9_col1\" class=\"data row9 col1\" >30</td>\n",
       "      <td id=\"T_e9dc4_row9_col2\" class=\"data row9 col2\" >tender_white_meat_turkey__pasta__mushrooms_and_celery_in_a_creamy_sauce_turkey_tetrazzini</td>\n",
       "      <td id=\"T_e9dc4_row9_col3\" class=\"data row9 col3\" >38</td>\n",
       "      <td id=\"T_e9dc4_row9_col4\" class=\"data row9 col4\" >1</td>\n",
       "    </tr>\n",
       "    <tr>\n",
       "      <th id=\"T_e9dc4_level0_row10\" class=\"row_heading level0 row10\" >41403</th>\n",
       "      <td id=\"T_e9dc4_row10_col0\" class=\"data row10 col0\" >16311</td>\n",
       "      <td id=\"T_e9dc4_row10_col1\" class=\"data row10 col1\" >1</td>\n",
       "      <td id=\"T_e9dc4_row10_col2\" class=\"data row10 col2\" >tropical_fruit_cups_in_lightly_sweetened_fruit_juices</td>\n",
       "      <td id=\"T_e9dc4_row10_col3\" class=\"data row10 col3\" >99</td>\n",
       "      <td id=\"T_e9dc4_row10_col4\" class=\"data row10 col4\" >15</td>\n",
       "    </tr>\n",
       "    <tr>\n",
       "      <th id=\"T_e9dc4_level0_row11\" class=\"row_heading level0 row11\" >22523</th>\n",
       "      <td id=\"T_e9dc4_row11_col0\" class=\"data row11 col0\" >16600</td>\n",
       "      <td id=\"T_e9dc4_row11_col1\" class=\"data row11 col1\" >11</td>\n",
       "      <td id=\"T_e9dc4_row11_col2\" class=\"data row11 col2\" >with_seasoned_meat_sauce__tomato_sauce_&_real_low_fat_ricotta_cheese_lasagna_italiano</td>\n",
       "      <td id=\"T_e9dc4_row11_col3\" class=\"data row11 col3\" >38</td>\n",
       "      <td id=\"T_e9dc4_row11_col4\" class=\"data row11 col4\" >1</td>\n",
       "    </tr>\n",
       "    <tr>\n",
       "      <th id=\"T_e9dc4_level0_row12\" class=\"row_heading level0 row12\" >1704</th>\n",
       "      <td id=\"T_e9dc4_row12_col0\" class=\"data row12 col0\" >47119</td>\n",
       "      <td id=\"T_e9dc4_row12_col1\" class=\"data row12 col1\" >472</td>\n",
       "      <td id=\"T_e9dc4_row12_col2\" class=\"data row12 col2\" >rice_mac_&_cheese</td>\n",
       "      <td id=\"T_e9dc4_row12_col3\" class=\"data row12 col3\" >38</td>\n",
       "      <td id=\"T_e9dc4_row12_col4\" class=\"data row12 col4\" >1</td>\n",
       "    </tr>\n",
       "    <tr>\n",
       "      <th id=\"T_e9dc4_level0_row13\" class=\"row_heading level0 row13\" >31269</th>\n",
       "      <td id=\"T_e9dc4_row13_col0\" class=\"data row13 col0\" >38520</td>\n",
       "      <td id=\"T_e9dc4_row13_col1\" class=\"data row13 col1\" >4</td>\n",
       "      <td id=\"T_e9dc4_row13_col2\" class=\"data row13 col2\" >millet_rice_bread</td>\n",
       "      <td id=\"T_e9dc4_row13_col3\" class=\"data row13 col3\" >112</td>\n",
       "      <td id=\"T_e9dc4_row13_col4\" class=\"data row13 col4\" >3</td>\n",
       "    </tr>\n",
       "    <tr>\n",
       "      <th id=\"T_e9dc4_level0_row14\" class=\"row_heading level0 row14\" >11433</th>\n",
       "      <td id=\"T_e9dc4_row14_col0\" class=\"data row14 col0\" >20364</td>\n",
       "      <td id=\"T_e9dc4_row14_col1\" class=\"data row14 col1\" >42</td>\n",
       "      <td id=\"T_e9dc4_row14_col2\" class=\"data row14 col2\" >matzo_ball_mix</td>\n",
       "      <td id=\"T_e9dc4_row14_col3\" class=\"data row14 col3\" >33</td>\n",
       "      <td id=\"T_e9dc4_row14_col4\" class=\"data row14 col4\" >6</td>\n",
       "    </tr>\n",
       "    <tr>\n",
       "      <th id=\"T_e9dc4_level0_row15\" class=\"row_heading level0 row15\" >40926</th>\n",
       "      <td id=\"T_e9dc4_row15_col0\" class=\"data row15 col0\" >38221</td>\n",
       "      <td id=\"T_e9dc4_row15_col1\" class=\"data row15 col1\" >1</td>\n",
       "      <td id=\"T_e9dc4_row15_col2\" class=\"data row15 col2\" >organic_high_lignan_flax_oil_cold_pressed_&_unrefined</td>\n",
       "      <td id=\"T_e9dc4_row15_col3\" class=\"data row15 col3\" >47</td>\n",
       "      <td id=\"T_e9dc4_row15_col4\" class=\"data row15 col4\" >11</td>\n",
       "    </tr>\n",
       "    <tr>\n",
       "      <th id=\"T_e9dc4_level0_row16\" class=\"row_heading level0 row16\" >15746</th>\n",
       "      <td id=\"T_e9dc4_row16_col0\" class=\"data row16 col0\" >3783</td>\n",
       "      <td id=\"T_e9dc4_row16_col1\" class=\"data row16 col1\" >23</td>\n",
       "      <td id=\"T_e9dc4_row16_col2\" class=\"data row16 col2\" >dairy_free_cashew_milk_creamy_chocolate_frozen_dessert</td>\n",
       "      <td id=\"T_e9dc4_row16_col3\" class=\"data row16 col3\" >37</td>\n",
       "      <td id=\"T_e9dc4_row16_col4\" class=\"data row16 col4\" >1</td>\n",
       "    </tr>\n",
       "    <tr>\n",
       "      <th id=\"T_e9dc4_level0_row17\" class=\"row_heading level0 row17\" >24686</th>\n",
       "      <td id=\"T_e9dc4_row17_col0\" class=\"data row17 col0\" >32357</td>\n",
       "      <td id=\"T_e9dc4_row17_col1\" class=\"data row17 col1\" >9</td>\n",
       "      <td id=\"T_e9dc4_row17_col2\" class=\"data row17 col2\" >cran_mango_juice</td>\n",
       "      <td id=\"T_e9dc4_row17_col3\" class=\"data row17 col3\" >98</td>\n",
       "      <td id=\"T_e9dc4_row17_col4\" class=\"data row17 col4\" >7</td>\n",
       "    </tr>\n",
       "    <tr>\n",
       "      <th id=\"T_e9dc4_level0_row18\" class=\"row_heading level0 row18\" >40561</th>\n",
       "      <td id=\"T_e9dc4_row18_col0\" class=\"data row18 col0\" >7448</td>\n",
       "      <td id=\"T_e9dc4_row18_col1\" class=\"data row18 col1\" >1</td>\n",
       "      <td id=\"T_e9dc4_row18_col2\" class=\"data row18 col2\" >chardonnay_y_block_santa_barbara</td>\n",
       "      <td id=\"T_e9dc4_row18_col3\" class=\"data row18 col3\" >28</td>\n",
       "      <td id=\"T_e9dc4_row18_col4\" class=\"data row18 col4\" >5</td>\n",
       "    </tr>\n",
       "    <tr>\n",
       "      <th id=\"T_e9dc4_level0_row19\" class=\"row_heading level0 row19\" >17597</th>\n",
       "      <td id=\"T_e9dc4_row19_col0\" class=\"data row19 col0\" >19030</td>\n",
       "      <td id=\"T_e9dc4_row19_col1\" class=\"data row19 col1\" >19</td>\n",
       "      <td id=\"T_e9dc4_row19_col2\" class=\"data row19 col2\" >no_calories_no_caffeine_seltzer_water</td>\n",
       "      <td id=\"T_e9dc4_row19_col3\" class=\"data row19 col3\" >115</td>\n",
       "      <td id=\"T_e9dc4_row19_col4\" class=\"data row19 col4\" >7</td>\n",
       "    </tr>\n",
       "    <tr>\n",
       "      <th id=\"T_e9dc4_level0_row20\" class=\"row_heading level0 row20\" >7424</th>\n",
       "      <td id=\"T_e9dc4_row20_col0\" class=\"data row20 col0\" >12211</td>\n",
       "      <td id=\"T_e9dc4_row20_col1\" class=\"data row20 col1\" >82</td>\n",
       "      <td id=\"T_e9dc4_row20_col2\" class=\"data row20 col2\" >gluten_free_organic_taco_sliders_corn_tortillas</td>\n",
       "      <td id=\"T_e9dc4_row20_col3\" class=\"data row20 col3\" >30</td>\n",
       "      <td id=\"T_e9dc4_row20_col4\" class=\"data row20 col4\" >6</td>\n",
       "    </tr>\n",
       "    <tr>\n",
       "      <th id=\"T_e9dc4_level0_row21\" class=\"row_heading level0 row21\" >43892</th>\n",
       "      <td id=\"T_e9dc4_row21_col0\" class=\"data row21 col0\" >47010</td>\n",
       "      <td id=\"T_e9dc4_row21_col1\" class=\"data row21 col1\" >1</td>\n",
       "      <td id=\"T_e9dc4_row21_col2\" class=\"data row21 col2\" >caramel_puffcorn</td>\n",
       "      <td id=\"T_e9dc4_row21_col3\" class=\"data row21 col3\" >23</td>\n",
       "      <td id=\"T_e9dc4_row21_col4\" class=\"data row21 col4\" >19</td>\n",
       "    </tr>\n",
       "    <tr>\n",
       "      <th id=\"T_e9dc4_level0_row22\" class=\"row_heading level0 row22\" >11550</th>\n",
       "      <td id=\"T_e9dc4_row22_col0\" class=\"data row22 col0\" >25280</td>\n",
       "      <td id=\"T_e9dc4_row22_col1\" class=\"data row22 col1\" >41</td>\n",
       "      <td id=\"T_e9dc4_row22_col2\" class=\"data row22 col2\" >iced_green_tea_organic_super_fruit</td>\n",
       "      <td id=\"T_e9dc4_row22_col3\" class=\"data row22 col3\" >64</td>\n",
       "      <td id=\"T_e9dc4_row22_col4\" class=\"data row22 col4\" >7</td>\n",
       "    </tr>\n",
       "    <tr>\n",
       "      <th id=\"T_e9dc4_level0_row23\" class=\"row_heading level0 row23\" >10220</th>\n",
       "      <td id=\"T_e9dc4_row23_col0\" class=\"data row23 col0\" >12299</td>\n",
       "      <td id=\"T_e9dc4_row23_col1\" class=\"data row23 col1\" >51</td>\n",
       "      <td id=\"T_e9dc4_row23_col2\" class=\"data row23 col2\" >dried_blueberries</td>\n",
       "      <td id=\"T_e9dc4_row23_col3\" class=\"data row23 col3\" >117</td>\n",
       "      <td id=\"T_e9dc4_row23_col4\" class=\"data row23 col4\" >19</td>\n",
       "    </tr>\n",
       "    <tr>\n",
       "      <th id=\"T_e9dc4_level0_row24\" class=\"row_heading level0 row24\" >27029</th>\n",
       "      <td id=\"T_e9dc4_row24_col0\" class=\"data row24 col0\" >46530</td>\n",
       "      <td id=\"T_e9dc4_row24_col1\" class=\"data row24 col1\" >7</td>\n",
       "      <td id=\"T_e9dc4_row24_col2\" class=\"data row24 col2\" >sweet_gefilte_fish</td>\n",
       "      <td id=\"T_e9dc4_row24_col3\" class=\"data row24 col3\" >33</td>\n",
       "      <td id=\"T_e9dc4_row24_col4\" class=\"data row24 col4\" >6</td>\n",
       "    </tr>\n",
       "  </tbody>\n",
       "</table>\n"
      ],
      "text/plain": [
       "<pandas.io.formats.style.Styler at 0x2a3d4c39c30>"
      ]
     },
     "metadata": {},
     "output_type": "display_data"
    }
   ],
   "source": [
    "# Join with the products DataFrame to bring the name\n",
    "df_top_prods = df_most_ordered_products.merge(df_products, on='product_id', how='left')\n",
    "\n",
    "display(df_top_prods.sample(25).style.apply(zebra_rows, axis=1))"
   ]
  },
  {
   "cell_type": "code",
   "execution_count": 58,
   "id": "bbcdd20b",
   "metadata": {
    "id": "bbcdd20b"
   },
   "outputs": [
    {
     "data": {
      "text/html": [
       "<style type=\"text/css\">\n",
       "#T_a01c7_row0_col0, #T_a01c7_row0_col1, #T_a01c7_row0_col2, #T_a01c7_row2_col0, #T_a01c7_row2_col1, #T_a01c7_row2_col2, #T_a01c7_row4_col0, #T_a01c7_row4_col1, #T_a01c7_row4_col2, #T_a01c7_row6_col0, #T_a01c7_row6_col1, #T_a01c7_row6_col2, #T_a01c7_row8_col0, #T_a01c7_row8_col1, #T_a01c7_row8_col2, #T_a01c7_row10_col0, #T_a01c7_row10_col1, #T_a01c7_row10_col2, #T_a01c7_row12_col0, #T_a01c7_row12_col1, #T_a01c7_row12_col2, #T_a01c7_row14_col0, #T_a01c7_row14_col1, #T_a01c7_row14_col2, #T_a01c7_row16_col0, #T_a01c7_row16_col1, #T_a01c7_row16_col2, #T_a01c7_row18_col0, #T_a01c7_row18_col1, #T_a01c7_row18_col2 {\n",
       "  background-color: #808080;\n",
       "}\n",
       "#T_a01c7_row1_col0, #T_a01c7_row1_col1, #T_a01c7_row1_col2, #T_a01c7_row3_col0, #T_a01c7_row3_col1, #T_a01c7_row3_col2, #T_a01c7_row5_col0, #T_a01c7_row5_col1, #T_a01c7_row5_col2, #T_a01c7_row7_col0, #T_a01c7_row7_col1, #T_a01c7_row7_col2, #T_a01c7_row9_col0, #T_a01c7_row9_col1, #T_a01c7_row9_col2, #T_a01c7_row11_col0, #T_a01c7_row11_col1, #T_a01c7_row11_col2, #T_a01c7_row13_col0, #T_a01c7_row13_col1, #T_a01c7_row13_col2, #T_a01c7_row15_col0, #T_a01c7_row15_col1, #T_a01c7_row15_col2, #T_a01c7_row17_col0, #T_a01c7_row17_col1, #T_a01c7_row17_col2, #T_a01c7_row19_col0, #T_a01c7_row19_col1, #T_a01c7_row19_col2 {\n",
       "  background-color: #595959;\n",
       "}\n",
       "</style>\n",
       "<table id=\"T_a01c7\">\n",
       "  <thead>\n",
       "    <tr>\n",
       "      <th class=\"blank level0\" >&nbsp;</th>\n",
       "      <th id=\"T_a01c7_level0_col0\" class=\"col_heading level0 col0\" >product_id</th>\n",
       "      <th id=\"T_a01c7_level0_col1\" class=\"col_heading level0 col1\" >product_name</th>\n",
       "      <th id=\"T_a01c7_level0_col2\" class=\"col_heading level0 col2\" >order_amounts</th>\n",
       "    </tr>\n",
       "  </thead>\n",
       "  <tbody>\n",
       "    <tr>\n",
       "      <th id=\"T_a01c7_level0_row0\" class=\"row_heading level0 row0\" >0</th>\n",
       "      <td id=\"T_a01c7_row0_col0\" class=\"data row0 col0\" >24852</td>\n",
       "      <td id=\"T_a01c7_row0_col1\" class=\"data row0 col1\" >banana</td>\n",
       "      <td id=\"T_a01c7_row0_col2\" class=\"data row0 col2\" >66050</td>\n",
       "    </tr>\n",
       "    <tr>\n",
       "      <th id=\"T_a01c7_level0_row1\" class=\"row_heading level0 row1\" >1</th>\n",
       "      <td id=\"T_a01c7_row1_col0\" class=\"data row1 col0\" >13176</td>\n",
       "      <td id=\"T_a01c7_row1_col1\" class=\"data row1 col1\" >bag_of_organic_bananas</td>\n",
       "      <td id=\"T_a01c7_row1_col2\" class=\"data row1 col2\" >53297</td>\n",
       "    </tr>\n",
       "    <tr>\n",
       "      <th id=\"T_a01c7_level0_row2\" class=\"row_heading level0 row2\" >2</th>\n",
       "      <td id=\"T_a01c7_row2_col0\" class=\"data row2 col0\" >21137</td>\n",
       "      <td id=\"T_a01c7_row2_col1\" class=\"data row2 col1\" >organic_strawberries</td>\n",
       "      <td id=\"T_a01c7_row2_col2\" class=\"data row2 col2\" >37039</td>\n",
       "    </tr>\n",
       "    <tr>\n",
       "      <th id=\"T_a01c7_level0_row3\" class=\"row_heading level0 row3\" >3</th>\n",
       "      <td id=\"T_a01c7_row3_col0\" class=\"data row3 col0\" >21903</td>\n",
       "      <td id=\"T_a01c7_row3_col1\" class=\"data row3 col1\" >organic_baby_spinach</td>\n",
       "      <td id=\"T_a01c7_row3_col2\" class=\"data row3 col2\" >33971</td>\n",
       "    </tr>\n",
       "    <tr>\n",
       "      <th id=\"T_a01c7_level0_row4\" class=\"row_heading level0 row4\" >4</th>\n",
       "      <td id=\"T_a01c7_row4_col0\" class=\"data row4 col0\" >47209</td>\n",
       "      <td id=\"T_a01c7_row4_col1\" class=\"data row4 col1\" >organic_hass_avocado</td>\n",
       "      <td id=\"T_a01c7_row4_col2\" class=\"data row4 col2\" >29773</td>\n",
       "    </tr>\n",
       "    <tr>\n",
       "      <th id=\"T_a01c7_level0_row5\" class=\"row_heading level0 row5\" >5</th>\n",
       "      <td id=\"T_a01c7_row5_col0\" class=\"data row5 col0\" >47766</td>\n",
       "      <td id=\"T_a01c7_row5_col1\" class=\"data row5 col1\" >organic_avocado</td>\n",
       "      <td id=\"T_a01c7_row5_col2\" class=\"data row5 col2\" >24689</td>\n",
       "    </tr>\n",
       "    <tr>\n",
       "      <th id=\"T_a01c7_level0_row6\" class=\"row_heading level0 row6\" >6</th>\n",
       "      <td id=\"T_a01c7_row6_col0\" class=\"data row6 col0\" >47626</td>\n",
       "      <td id=\"T_a01c7_row6_col1\" class=\"data row6 col1\" >large_lemon</td>\n",
       "      <td id=\"T_a01c7_row6_col2\" class=\"data row6 col2\" >21495</td>\n",
       "    </tr>\n",
       "    <tr>\n",
       "      <th id=\"T_a01c7_level0_row7\" class=\"row_heading level0 row7\" >7</th>\n",
       "      <td id=\"T_a01c7_row7_col0\" class=\"data row7 col0\" >16797</td>\n",
       "      <td id=\"T_a01c7_row7_col1\" class=\"data row7 col1\" >strawberries</td>\n",
       "      <td id=\"T_a01c7_row7_col2\" class=\"data row7 col2\" >20018</td>\n",
       "    </tr>\n",
       "    <tr>\n",
       "      <th id=\"T_a01c7_level0_row8\" class=\"row_heading level0 row8\" >8</th>\n",
       "      <td id=\"T_a01c7_row8_col0\" class=\"data row8 col0\" >26209</td>\n",
       "      <td id=\"T_a01c7_row8_col1\" class=\"data row8 col1\" >limes</td>\n",
       "      <td id=\"T_a01c7_row8_col2\" class=\"data row8 col2\" >19690</td>\n",
       "    </tr>\n",
       "    <tr>\n",
       "      <th id=\"T_a01c7_level0_row9\" class=\"row_heading level0 row9\" >9</th>\n",
       "      <td id=\"T_a01c7_row9_col0\" class=\"data row9 col0\" >27845</td>\n",
       "      <td id=\"T_a01c7_row9_col1\" class=\"data row9 col1\" >organic_whole_milk</td>\n",
       "      <td id=\"T_a01c7_row9_col2\" class=\"data row9 col2\" >19600</td>\n",
       "    </tr>\n",
       "    <tr>\n",
       "      <th id=\"T_a01c7_level0_row10\" class=\"row_heading level0 row10\" >10</th>\n",
       "      <td id=\"T_a01c7_row10_col0\" class=\"data row10 col0\" >27966</td>\n",
       "      <td id=\"T_a01c7_row10_col1\" class=\"data row10 col1\" >organic_raspberries</td>\n",
       "      <td id=\"T_a01c7_row10_col2\" class=\"data row10 col2\" >19197</td>\n",
       "    </tr>\n",
       "    <tr>\n",
       "      <th id=\"T_a01c7_level0_row11\" class=\"row_heading level0 row11\" >11</th>\n",
       "      <td id=\"T_a01c7_row11_col0\" class=\"data row11 col0\" >22935</td>\n",
       "      <td id=\"T_a01c7_row11_col1\" class=\"data row11 col1\" >organic_yellow_onion</td>\n",
       "      <td id=\"T_a01c7_row11_col2\" class=\"data row11 col2\" >15898</td>\n",
       "    </tr>\n",
       "    <tr>\n",
       "      <th id=\"T_a01c7_level0_row12\" class=\"row_heading level0 row12\" >12</th>\n",
       "      <td id=\"T_a01c7_row12_col0\" class=\"data row12 col0\" >24964</td>\n",
       "      <td id=\"T_a01c7_row12_col1\" class=\"data row12 col1\" >organic_garlic</td>\n",
       "      <td id=\"T_a01c7_row12_col2\" class=\"data row12 col2\" >15292</td>\n",
       "    </tr>\n",
       "    <tr>\n",
       "      <th id=\"T_a01c7_level0_row13\" class=\"row_heading level0 row13\" >13</th>\n",
       "      <td id=\"T_a01c7_row13_col0\" class=\"data row13 col0\" >45007</td>\n",
       "      <td id=\"T_a01c7_row13_col1\" class=\"data row13 col1\" >organic_zucchini</td>\n",
       "      <td id=\"T_a01c7_row13_col2\" class=\"data row13 col2\" >14584</td>\n",
       "    </tr>\n",
       "    <tr>\n",
       "      <th id=\"T_a01c7_level0_row14\" class=\"row_heading level0 row14\" >14</th>\n",
       "      <td id=\"T_a01c7_row14_col0\" class=\"data row14 col0\" >39275</td>\n",
       "      <td id=\"T_a01c7_row14_col1\" class=\"data row14 col1\" >organic_blueberries</td>\n",
       "      <td id=\"T_a01c7_row14_col2\" class=\"data row14 col2\" >13879</td>\n",
       "    </tr>\n",
       "    <tr>\n",
       "      <th id=\"T_a01c7_level0_row15\" class=\"row_heading level0 row15\" >15</th>\n",
       "      <td id=\"T_a01c7_row15_col0\" class=\"data row15 col0\" >49683</td>\n",
       "      <td id=\"T_a01c7_row15_col1\" class=\"data row15 col1\" >cucumber_kirby</td>\n",
       "      <td id=\"T_a01c7_row15_col2\" class=\"data row15 col2\" >13675</td>\n",
       "    </tr>\n",
       "    <tr>\n",
       "      <th id=\"T_a01c7_level0_row16\" class=\"row_heading level0 row16\" >16</th>\n",
       "      <td id=\"T_a01c7_row16_col0\" class=\"data row16 col0\" >28204</td>\n",
       "      <td id=\"T_a01c7_row16_col1\" class=\"data row16 col1\" >organic_fuji_apple</td>\n",
       "      <td id=\"T_a01c7_row16_col2\" class=\"data row16 col2\" >12544</td>\n",
       "    </tr>\n",
       "    <tr>\n",
       "      <th id=\"T_a01c7_level0_row17\" class=\"row_heading level0 row17\" >17</th>\n",
       "      <td id=\"T_a01c7_row17_col0\" class=\"data row17 col0\" >5876</td>\n",
       "      <td id=\"T_a01c7_row17_col1\" class=\"data row17 col1\" >organic_lemon</td>\n",
       "      <td id=\"T_a01c7_row17_col2\" class=\"data row17 col2\" >12232</td>\n",
       "    </tr>\n",
       "    <tr>\n",
       "      <th id=\"T_a01c7_level0_row18\" class=\"row_heading level0 row18\" >18</th>\n",
       "      <td id=\"T_a01c7_row18_col0\" class=\"data row18 col0\" >8277</td>\n",
       "      <td id=\"T_a01c7_row18_col1\" class=\"data row18 col1\" >apple_honeycrisp_organic</td>\n",
       "      <td id=\"T_a01c7_row18_col2\" class=\"data row18 col2\" >11993</td>\n",
       "    </tr>\n",
       "    <tr>\n",
       "      <th id=\"T_a01c7_level0_row19\" class=\"row_heading level0 row19\" >19</th>\n",
       "      <td id=\"T_a01c7_row19_col0\" class=\"data row19 col0\" >40706</td>\n",
       "      <td id=\"T_a01c7_row19_col1\" class=\"data row19 col1\" >organic_grape_tomatoes</td>\n",
       "      <td id=\"T_a01c7_row19_col2\" class=\"data row19 col2\" >11781</td>\n",
       "    </tr>\n",
       "  </tbody>\n",
       "</table>\n"
      ],
      "text/plain": [
       "<pandas.io.formats.style.Styler at 0x2a3c414b7c0>"
      ]
     },
     "metadata": {},
     "output_type": "display_data"
    }
   ],
   "source": [
    "df_top_twenty = df_top_prods[['product_id', 'product_name', 'order_amounts']]\n",
    "\n",
    "display(df_top_twenty.head(20).style.apply(zebra_rows, axis=1))"
   ]
  },
  {
   "cell_type": "markdown",
   "id": "7df00f47",
   "metadata": {
    "id": "7df00f47"
   },
   "source": [
    "Write your conclusions here\n",
    "###### LSPL\n",
    "The top 20 products are shown, which could be classified as the most commonly used food items."
   ]
  },
  {
   "cell_type": "markdown",
   "id": "gross-theme",
   "metadata": {
    "id": "gross-theme"
   },
   "source": [
    "# [C] Difficult (all must be completed to pass)\n",
    "\n",
    "1. How many items do people typically buy in one order? What is the distribution?\n",
    "2. What are the top 20 items that are most frequently reordered (show their names and product IDs)?\n",
    "3. For each product, what is the reorder rate (number of reorders/total orders)?\n",
    "4. For each customer, what proportion of the products they ordered were previously ordered? Calculate the reorder rate for each user rather than for each product.\n",
    "5. What are the top 20 items that people put first in their carts (show the product IDs, names, and the number of times they were the first item added to the cart)?"
   ]
  },
  {
   "cell_type": "markdown",
   "id": "romantic-deposit",
   "metadata": {
    "id": "romantic-deposit"
   },
   "source": [
    "### [C1] How many items do people typically buy in one order? What's the distribution like?"
   ]
  },
  {
   "cell_type": "code",
   "execution_count": 59,
   "id": "virtual-punch",
   "metadata": {
    "id": "virtual-punch"
   },
   "outputs": [
    {
     "name": "stdout",
     "output_type": "stream",
     "text": [
      "Number of items per order: \n",
      " order_id\n",
      "2898931     1\n",
      "2359082    16\n",
      "556027      2\n",
      "3394614    31\n",
      "2853462    35\n",
      "1219786    24\n",
      "3396418     9\n",
      "154429      7\n",
      "2842886     3\n",
      "1728326     1\n",
      "667584      8\n",
      "3365050     1\n",
      "2542219    32\n",
      "3385010     6\n",
      "1119371     3\n",
      "2883675    12\n",
      "2846366     8\n",
      "1277361     3\n",
      "3144399    45\n",
      "2626091    24\n",
      "1512970    23\n",
      "1807619    31\n",
      "1762162     7\n",
      "2184480     1\n",
      "2545192    19\n",
      "dtype: int64\n"
     ]
    }
   ],
   "source": [
    "items_per_order = df_order_products.groupby('order_id').size()\n",
    "\n",
    "print(\"Number of items per order: \\n\",items_per_order.sample(25))\n"
   ]
  },
  {
   "cell_type": "code",
   "execution_count": 60,
   "id": "sensitive-breathing",
   "metadata": {
    "id": "sensitive-breathing"
   },
   "outputs": [
    {
     "name": "stdout",
     "output_type": "stream",
     "text": [
      "Item statistics per order: \n",
      " count    450046.000000\n",
      "mean         10.098983\n",
      "std           7.540206\n",
      "min           1.000000\n",
      "25%           5.000000\n",
      "50%           8.000000\n",
      "75%          14.000000\n",
      "max         127.000000\n",
      "dtype: float64\n"
     ]
    }
   ],
   "source": [
    "print(\"Item statistics per order: \\n\", items_per_order.describe())\n"
   ]
  },
  {
   "cell_type": "code",
   "execution_count": 61,
   "id": "completed-frank",
   "metadata": {
    "id": "completed-frank"
   },
   "outputs": [
    {
     "data": {
      "image/png": "[encoded data removed]",
      "text/plain": [
       "<Figure size 640x480 with 1 Axes>"
      ]
     },
     "metadata": {},
     "output_type": "display_data"
    },
    {
     "data": {
      "text/plain": [
       "<Figure size 1500x500 with 0 Axes>"
      ]
     },
     "metadata": {},
     "output_type": "display_data"
    }
   ],
   "source": [
    "plt.hist(items_per_order, bins=90, color='grey')\n",
    "plt.title('Distribution of items per order')\n",
    "plt.xlabel('Number of items')\n",
    "plt.ylabel('Number of orders')\n",
    "plt.grid(True)\n",
    "plt.figure(figsize=(15, 5))\n",
    "plt.tight_layout()\n",
    "plt.show()"
   ]
  },
  {
   "cell_type": "markdown",
   "id": "designed-mortality",
   "metadata": {
    "id": "designed-mortality"
   },
   "source": [
    "Write your conclusions here\n",
    "###### LSPL\n",
    "\n",
    "The minimum number of items per order is: 1   \n",
    "The maximum number of items per order is: 127   \n",
    "The average number of items per order is: 10 (The std is low, so the average measurement is reliable)   \n",
    "\n",
    "The fewer items, the greater the number of orders; the more items, the fewer orders. (According to the normal purchasing trend)\n"
   ]
  },
  {
   "cell_type": "markdown",
   "id": "5e6b5537",
   "metadata": {
    "id": "5e6b5537"
   },
   "source": [
    "### [C2] What are the top 20 most frequently reordered items (show their names and product IDs)?"
   ]
  },
  {
   "cell_type": "code",
   "execution_count": 62,
   "id": "9374e55a",
   "metadata": {
    "id": "9374e55a"
   },
   "outputs": [
    {
     "data": {
      "text/html": [
       "<style type=\"text/css\">\n",
       "#T_8afdc_row0_col0, #T_8afdc_row0_col1, #T_8afdc_row0_col2, #T_8afdc_row0_col3, #T_8afdc_row9_col0, #T_8afdc_row9_col1, #T_8afdc_row9_col2, #T_8afdc_row9_col3, #T_8afdc_row10_col0, #T_8afdc_row10_col1, #T_8afdc_row10_col2, #T_8afdc_row10_col3, #T_8afdc_row11_col0, #T_8afdc_row11_col1, #T_8afdc_row11_col2, #T_8afdc_row11_col3, #T_8afdc_row12_col0, #T_8afdc_row12_col1, #T_8afdc_row12_col2, #T_8afdc_row12_col3, #T_8afdc_row13_col0, #T_8afdc_row13_col1, #T_8afdc_row13_col2, #T_8afdc_row13_col3, #T_8afdc_row16_col0, #T_8afdc_row16_col1, #T_8afdc_row16_col2, #T_8afdc_row16_col3, #T_8afdc_row17_col0, #T_8afdc_row17_col1, #T_8afdc_row17_col2, #T_8afdc_row17_col3, #T_8afdc_row18_col0, #T_8afdc_row18_col1, #T_8afdc_row18_col2, #T_8afdc_row18_col3, #T_8afdc_row19_col0, #T_8afdc_row19_col1, #T_8afdc_row19_col2, #T_8afdc_row19_col3, #T_8afdc_row21_col0, #T_8afdc_row21_col1, #T_8afdc_row21_col2, #T_8afdc_row21_col3, #T_8afdc_row24_col0, #T_8afdc_row24_col1, #T_8afdc_row24_col2, #T_8afdc_row24_col3 {\n",
       "  background-color: #595959;\n",
       "}\n",
       "#T_8afdc_row1_col0, #T_8afdc_row1_col1, #T_8afdc_row1_col2, #T_8afdc_row1_col3, #T_8afdc_row2_col0, #T_8afdc_row2_col1, #T_8afdc_row2_col2, #T_8afdc_row2_col3, #T_8afdc_row3_col0, #T_8afdc_row3_col1, #T_8afdc_row3_col2, #T_8afdc_row3_col3, #T_8afdc_row4_col0, #T_8afdc_row4_col1, #T_8afdc_row4_col2, #T_8afdc_row4_col3, #T_8afdc_row5_col0, #T_8afdc_row5_col1, #T_8afdc_row5_col2, #T_8afdc_row5_col3, #T_8afdc_row6_col0, #T_8afdc_row6_col1, #T_8afdc_row6_col2, #T_8afdc_row6_col3, #T_8afdc_row7_col0, #T_8afdc_row7_col1, #T_8afdc_row7_col2, #T_8afdc_row7_col3, #T_8afdc_row8_col0, #T_8afdc_row8_col1, #T_8afdc_row8_col2, #T_8afdc_row8_col3, #T_8afdc_row14_col0, #T_8afdc_row14_col1, #T_8afdc_row14_col2, #T_8afdc_row14_col3, #T_8afdc_row15_col0, #T_8afdc_row15_col1, #T_8afdc_row15_col2, #T_8afdc_row15_col3, #T_8afdc_row20_col0, #T_8afdc_row20_col1, #T_8afdc_row20_col2, #T_8afdc_row20_col3, #T_8afdc_row22_col0, #T_8afdc_row22_col1, #T_8afdc_row22_col2, #T_8afdc_row22_col3, #T_8afdc_row23_col0, #T_8afdc_row23_col1, #T_8afdc_row23_col2, #T_8afdc_row23_col3 {\n",
       "  background-color: #808080;\n",
       "}\n",
       "</style>\n",
       "<table id=\"T_8afdc\">\n",
       "  <thead>\n",
       "    <tr>\n",
       "      <th class=\"blank level0\" >&nbsp;</th>\n",
       "      <th id=\"T_8afdc_level0_col0\" class=\"col_heading level0 col0\" >order_id</th>\n",
       "      <th id=\"T_8afdc_level0_col1\" class=\"col_heading level0 col1\" >product_id</th>\n",
       "      <th id=\"T_8afdc_level0_col2\" class=\"col_heading level0 col2\" >add_to_cart_order</th>\n",
       "      <th id=\"T_8afdc_level0_col3\" class=\"col_heading level0 col3\" >reordered</th>\n",
       "    </tr>\n",
       "  </thead>\n",
       "  <tbody>\n",
       "    <tr>\n",
       "      <th id=\"T_8afdc_level0_row0\" class=\"row_heading level0 row0\" >2833583</th>\n",
       "      <td id=\"T_8afdc_row0_col0\" class=\"data row0 col0\" >299530</td>\n",
       "      <td id=\"T_8afdc_row0_col1\" class=\"data row0 col1\" >43662</td>\n",
       "      <td id=\"T_8afdc_row0_col2\" class=\"data row0 col2\" >2</td>\n",
       "      <td id=\"T_8afdc_row0_col3\" class=\"data row0 col3\" >1</td>\n",
       "    </tr>\n",
       "    <tr>\n",
       "      <th id=\"T_8afdc_level0_row1\" class=\"row_heading level0 row1\" >1828776</th>\n",
       "      <td id=\"T_8afdc_row1_col0\" class=\"data row1 col0\" >3390780</td>\n",
       "      <td id=\"T_8afdc_row1_col1\" class=\"data row1 col1\" >3389</td>\n",
       "      <td id=\"T_8afdc_row1_col2\" class=\"data row1 col2\" >12</td>\n",
       "      <td id=\"T_8afdc_row1_col3\" class=\"data row1 col3\" >1</td>\n",
       "    </tr>\n",
       "    <tr>\n",
       "      <th id=\"T_8afdc_level0_row2\" class=\"row_heading level0 row2\" >3226166</th>\n",
       "      <td id=\"T_8afdc_row2_col0\" class=\"data row2 col0\" >1973992</td>\n",
       "      <td id=\"T_8afdc_row2_col1\" class=\"data row2 col1\" >22017</td>\n",
       "      <td id=\"T_8afdc_row2_col2\" class=\"data row2 col2\" >4</td>\n",
       "      <td id=\"T_8afdc_row2_col3\" class=\"data row2 col3\" >1</td>\n",
       "    </tr>\n",
       "    <tr>\n",
       "      <th id=\"T_8afdc_level0_row3\" class=\"row_heading level0 row3\" >1527438</th>\n",
       "      <td id=\"T_8afdc_row3_col0\" class=\"data row3 col0\" >1638189</td>\n",
       "      <td id=\"T_8afdc_row3_col1\" class=\"data row3 col1\" >45416</td>\n",
       "      <td id=\"T_8afdc_row3_col2\" class=\"data row3 col2\" >24</td>\n",
       "      <td id=\"T_8afdc_row3_col3\" class=\"data row3 col3\" >1</td>\n",
       "    </tr>\n",
       "    <tr>\n",
       "      <th id=\"T_8afdc_level0_row4\" class=\"row_heading level0 row4\" >1031362</th>\n",
       "      <td id=\"T_8afdc_row4_col0\" class=\"data row4 col0\" >3203320</td>\n",
       "      <td id=\"T_8afdc_row4_col1\" class=\"data row4 col1\" >13605</td>\n",
       "      <td id=\"T_8afdc_row4_col2\" class=\"data row4 col2\" >6</td>\n",
       "      <td id=\"T_8afdc_row4_col3\" class=\"data row4 col3\" >1</td>\n",
       "    </tr>\n",
       "    <tr>\n",
       "      <th id=\"T_8afdc_level0_row5\" class=\"row_heading level0 row5\" >3170460</th>\n",
       "      <td id=\"T_8afdc_row5_col0\" class=\"data row5 col0\" >2628072</td>\n",
       "      <td id=\"T_8afdc_row5_col1\" class=\"data row5 col1\" >6000</td>\n",
       "      <td id=\"T_8afdc_row5_col2\" class=\"data row5 col2\" >4</td>\n",
       "      <td id=\"T_8afdc_row5_col3\" class=\"data row5 col3\" >1</td>\n",
       "    </tr>\n",
       "    <tr>\n",
       "      <th id=\"T_8afdc_level0_row6\" class=\"row_heading level0 row6\" >3102294</th>\n",
       "      <td id=\"T_8afdc_row6_col0\" class=\"data row6 col0\" >2335413</td>\n",
       "      <td id=\"T_8afdc_row6_col1\" class=\"data row6 col1\" >41400</td>\n",
       "      <td id=\"T_8afdc_row6_col2\" class=\"data row6 col2\" >1</td>\n",
       "      <td id=\"T_8afdc_row6_col3\" class=\"data row6 col3\" >1</td>\n",
       "    </tr>\n",
       "    <tr>\n",
       "      <th id=\"T_8afdc_level0_row7\" class=\"row_heading level0 row7\" >640922</th>\n",
       "      <td id=\"T_8afdc_row7_col0\" class=\"data row7 col0\" >1361960</td>\n",
       "      <td id=\"T_8afdc_row7_col1\" class=\"data row7 col1\" >31467</td>\n",
       "      <td id=\"T_8afdc_row7_col2\" class=\"data row7 col2\" >14</td>\n",
       "      <td id=\"T_8afdc_row7_col3\" class=\"data row7 col3\" >1</td>\n",
       "    </tr>\n",
       "    <tr>\n",
       "      <th id=\"T_8afdc_level0_row8\" class=\"row_heading level0 row8\" >94072</th>\n",
       "      <td id=\"T_8afdc_row8_col0\" class=\"data row8 col0\" >596022</td>\n",
       "      <td id=\"T_8afdc_row8_col1\" class=\"data row8 col1\" >24013</td>\n",
       "      <td id=\"T_8afdc_row8_col2\" class=\"data row8 col2\" >4</td>\n",
       "      <td id=\"T_8afdc_row8_col3\" class=\"data row8 col3\" >1</td>\n",
       "    </tr>\n",
       "    <tr>\n",
       "      <th id=\"T_8afdc_level0_row9\" class=\"row_heading level0 row9\" >844783</th>\n",
       "      <td id=\"T_8afdc_row9_col0\" class=\"data row9 col0\" >3046554</td>\n",
       "      <td id=\"T_8afdc_row9_col1\" class=\"data row9 col1\" >21497</td>\n",
       "      <td id=\"T_8afdc_row9_col2\" class=\"data row9 col2\" >6</td>\n",
       "      <td id=\"T_8afdc_row9_col3\" class=\"data row9 col3\" >1</td>\n",
       "    </tr>\n",
       "    <tr>\n",
       "      <th id=\"T_8afdc_level0_row10\" class=\"row_heading level0 row10\" >3891309</th>\n",
       "      <td id=\"T_8afdc_row10_col0\" class=\"data row10 col0\" >1483341</td>\n",
       "      <td id=\"T_8afdc_row10_col1\" class=\"data row10 col1\" >16759</td>\n",
       "      <td id=\"T_8afdc_row10_col2\" class=\"data row10 col2\" >11</td>\n",
       "      <td id=\"T_8afdc_row10_col3\" class=\"data row10 col3\" >1</td>\n",
       "    </tr>\n",
       "    <tr>\n",
       "      <th id=\"T_8afdc_level0_row11\" class=\"row_heading level0 row11\" >2814613</th>\n",
       "      <td id=\"T_8afdc_row11_col0\" class=\"data row11 col0\" >976627</td>\n",
       "      <td id=\"T_8afdc_row11_col1\" class=\"data row11 col1\" >27316</td>\n",
       "      <td id=\"T_8afdc_row11_col2\" class=\"data row11 col2\" >4</td>\n",
       "      <td id=\"T_8afdc_row11_col3\" class=\"data row11 col3\" >1</td>\n",
       "    </tr>\n",
       "    <tr>\n",
       "      <th id=\"T_8afdc_level0_row12\" class=\"row_heading level0 row12\" >350217</th>\n",
       "      <td id=\"T_8afdc_row12_col0\" class=\"data row12 col0\" >3290257</td>\n",
       "      <td id=\"T_8afdc_row12_col1\" class=\"data row12 col1\" >32293</td>\n",
       "      <td id=\"T_8afdc_row12_col2\" class=\"data row12 col2\" >12</td>\n",
       "      <td id=\"T_8afdc_row12_col3\" class=\"data row12 col3\" >1</td>\n",
       "    </tr>\n",
       "    <tr>\n",
       "      <th id=\"T_8afdc_level0_row13\" class=\"row_heading level0 row13\" >4260877</th>\n",
       "      <td id=\"T_8afdc_row13_col0\" class=\"data row13 col0\" >1930565</td>\n",
       "      <td id=\"T_8afdc_row13_col1\" class=\"data row13 col1\" >10132</td>\n",
       "      <td id=\"T_8afdc_row13_col2\" class=\"data row13 col2\" >16</td>\n",
       "      <td id=\"T_8afdc_row13_col3\" class=\"data row13 col3\" >1</td>\n",
       "    </tr>\n",
       "    <tr>\n",
       "      <th id=\"T_8afdc_level0_row14\" class=\"row_heading level0 row14\" >2040002</th>\n",
       "      <td id=\"T_8afdc_row14_col0\" class=\"data row14 col0\" >1504879</td>\n",
       "      <td id=\"T_8afdc_row14_col1\" class=\"data row14 col1\" >25330</td>\n",
       "      <td id=\"T_8afdc_row14_col2\" class=\"data row14 col2\" >3</td>\n",
       "      <td id=\"T_8afdc_row14_col3\" class=\"data row14 col3\" >1</td>\n",
       "    </tr>\n",
       "    <tr>\n",
       "      <th id=\"T_8afdc_level0_row15\" class=\"row_heading level0 row15\" >4122780</th>\n",
       "      <td id=\"T_8afdc_row15_col0\" class=\"data row15 col0\" >1546879</td>\n",
       "      <td id=\"T_8afdc_row15_col1\" class=\"data row15 col1\" >45633</td>\n",
       "      <td id=\"T_8afdc_row15_col2\" class=\"data row15 col2\" >6</td>\n",
       "      <td id=\"T_8afdc_row15_col3\" class=\"data row15 col3\" >1</td>\n",
       "    </tr>\n",
       "    <tr>\n",
       "      <th id=\"T_8afdc_level0_row16\" class=\"row_heading level0 row16\" >2341889</th>\n",
       "      <td id=\"T_8afdc_row16_col0\" class=\"data row16 col0\" >642804</td>\n",
       "      <td id=\"T_8afdc_row16_col1\" class=\"data row16 col1\" >41131</td>\n",
       "      <td id=\"T_8afdc_row16_col2\" class=\"data row16 col2\" >10</td>\n",
       "      <td id=\"T_8afdc_row16_col3\" class=\"data row16 col3\" >1</td>\n",
       "    </tr>\n",
       "    <tr>\n",
       "      <th id=\"T_8afdc_level0_row17\" class=\"row_heading level0 row17\" >4292141</th>\n",
       "      <td id=\"T_8afdc_row17_col0\" class=\"data row17 col0\" >990901</td>\n",
       "      <td id=\"T_8afdc_row17_col1\" class=\"data row17 col1\" >15692</td>\n",
       "      <td id=\"T_8afdc_row17_col2\" class=\"data row17 col2\" >1</td>\n",
       "      <td id=\"T_8afdc_row17_col3\" class=\"data row17 col3\" >1</td>\n",
       "    </tr>\n",
       "    <tr>\n",
       "      <th id=\"T_8afdc_level0_row18\" class=\"row_heading level0 row18\" >1491917</th>\n",
       "      <td id=\"T_8afdc_row18_col0\" class=\"data row18 col0\" >3159975</td>\n",
       "      <td id=\"T_8afdc_row18_col1\" class=\"data row18 col1\" >49683</td>\n",
       "      <td id=\"T_8afdc_row18_col2\" class=\"data row18 col2\" >1</td>\n",
       "      <td id=\"T_8afdc_row18_col3\" class=\"data row18 col3\" >1</td>\n",
       "    </tr>\n",
       "    <tr>\n",
       "      <th id=\"T_8afdc_level0_row19\" class=\"row_heading level0 row19\" >2685767</th>\n",
       "      <td id=\"T_8afdc_row19_col0\" class=\"data row19 col0\" >1933497</td>\n",
       "      <td id=\"T_8afdc_row19_col1\" class=\"data row19 col1\" >8174</td>\n",
       "      <td id=\"T_8afdc_row19_col2\" class=\"data row19 col2\" >8</td>\n",
       "      <td id=\"T_8afdc_row19_col3\" class=\"data row19 col3\" >1</td>\n",
       "    </tr>\n",
       "    <tr>\n",
       "      <th id=\"T_8afdc_level0_row20\" class=\"row_heading level0 row20\" >3108582</th>\n",
       "      <td id=\"T_8afdc_row20_col0\" class=\"data row20 col0\" >415021</td>\n",
       "      <td id=\"T_8afdc_row20_col1\" class=\"data row20 col1\" >39928</td>\n",
       "      <td id=\"T_8afdc_row20_col2\" class=\"data row20 col2\" >1</td>\n",
       "      <td id=\"T_8afdc_row20_col3\" class=\"data row20 col3\" >1</td>\n",
       "    </tr>\n",
       "    <tr>\n",
       "      <th id=\"T_8afdc_level0_row21\" class=\"row_heading level0 row21\" >3451551</th>\n",
       "      <td id=\"T_8afdc_row21_col0\" class=\"data row21 col0\" >2872551</td>\n",
       "      <td id=\"T_8afdc_row21_col1\" class=\"data row21 col1\" >32467</td>\n",
       "      <td id=\"T_8afdc_row21_col2\" class=\"data row21 col2\" >4</td>\n",
       "      <td id=\"T_8afdc_row21_col3\" class=\"data row21 col3\" >1</td>\n",
       "    </tr>\n",
       "    <tr>\n",
       "      <th id=\"T_8afdc_level0_row22\" class=\"row_heading level0 row22\" >293798</th>\n",
       "      <td id=\"T_8afdc_row22_col0\" class=\"data row22 col0\" >2093822</td>\n",
       "      <td id=\"T_8afdc_row22_col1\" class=\"data row22 col1\" >8174</td>\n",
       "      <td id=\"T_8afdc_row22_col2\" class=\"data row22 col2\" >10</td>\n",
       "      <td id=\"T_8afdc_row22_col3\" class=\"data row22 col3\" >1</td>\n",
       "    </tr>\n",
       "    <tr>\n",
       "      <th id=\"T_8afdc_level0_row23\" class=\"row_heading level0 row23\" >296702</th>\n",
       "      <td id=\"T_8afdc_row23_col0\" class=\"data row23 col0\" >930065</td>\n",
       "      <td id=\"T_8afdc_row23_col1\" class=\"data row23 col1\" >2326</td>\n",
       "      <td id=\"T_8afdc_row23_col2\" class=\"data row23 col2\" >9</td>\n",
       "      <td id=\"T_8afdc_row23_col3\" class=\"data row23 col3\" >1</td>\n",
       "    </tr>\n",
       "    <tr>\n",
       "      <th id=\"T_8afdc_level0_row24\" class=\"row_heading level0 row24\" >4475099</th>\n",
       "      <td id=\"T_8afdc_row24_col0\" class=\"data row24 col0\" >488234</td>\n",
       "      <td id=\"T_8afdc_row24_col1\" class=\"data row24 col1\" >33120</td>\n",
       "      <td id=\"T_8afdc_row24_col2\" class=\"data row24 col2\" >4</td>\n",
       "      <td id=\"T_8afdc_row24_col3\" class=\"data row24 col3\" >1</td>\n",
       "    </tr>\n",
       "  </tbody>\n",
       "</table>\n"
      ],
      "text/plain": [
       "<pandas.io.formats.style.Styler at 0x2a3c4a48520>"
      ]
     },
     "metadata": {},
     "output_type": "display_data"
    }
   ],
   "source": [
    "df_reordered_products = df_order_products[df_order_products['reordered'] == 1]\n",
    "display(df_reordered_products.sample(25).style.apply(zebra_rows, axis=1))"
   ]
  },
  {
   "cell_type": "code",
   "execution_count": 63,
   "id": "possible-change",
   "metadata": {
    "id": "possible-change",
    "scrolled": true
   },
   "outputs": [
    {
     "name": "stdout",
     "output_type": "stream",
     "text": [
      "Top 20 reordered products:  product_id\n",
      "24852    55763\n",
      "13176    44450\n",
      "21137    28639\n",
      "21903    26233\n",
      "47209    23629\n",
      "47766    18743\n",
      "27845    16251\n",
      "47626    15044\n",
      "27966    14748\n",
      "16797    13945\n",
      "26209    13327\n",
      "22935    11145\n",
      "24964    10411\n",
      "45007    10076\n",
      "49683     9538\n",
      "28204     8989\n",
      "8277      8836\n",
      "39275     8799\n",
      "5876      8412\n",
      "49235     8389\n",
      "Name: count, dtype: int64\n"
     ]
    }
   ],
   "source": [
    "df_top_20_ro = df_reordered_products['product_id'].value_counts().head(20)\n",
    "print(\"Top 20 reordered products: \", df_top_20_ro)"
   ]
  },
  {
   "cell_type": "code",
   "execution_count": 64,
   "id": "professional-surfing",
   "metadata": {
    "id": "professional-surfing",
    "scrolled": true
   },
   "outputs": [
    {
     "name": "stdout",
     "output_type": "stream",
     "text": [
      "    product_id    product_name  reorder_count\n",
      "19       49235  organic_hal...           8389\n",
      "18        5876   organic_lemon           8412\n",
      "17       39275  organic_blu...           8799\n",
      "16        8277  apple_honey...           8836\n",
      "15       28204  organic_fuj...           8989\n",
      "14       49683  cucumber_kirby           9538\n",
      "13       45007  organic_zuc...          10076\n",
      "12       24964  organic_garlic          10411\n",
      "11       22935  organic_yel...          11145\n",
      "10       26209           limes          13327\n",
      "9        16797    strawberries          13945\n",
      "8        27966  organic_ras...          14748\n",
      "7        47626     large_lemon          15044\n",
      "6        27845  organic_who...          16251\n",
      "5        47766  organic_avo...          18743\n",
      "4        47209  organic_has...          23629\n",
      "3        21903  organic_bab...          26233\n",
      "2        21137  organic_str...          28639\n",
      "1        13176  bag_of_orga...          44450\n",
      "0        24852          banana          55763\n"
     ]
    }
   ],
   "source": [
    "# Cross IDs with names\n",
    "df_top_20_names = df_top_20_ro.to_frame(name='reorder_count').merge(df_products[['product_id', 'product_name']],left_index=True,right_on='product_id').reset_index(drop=True)\n",
    "df_top_20_names = df_top_20_names.sort_values(by='reorder_count', ascending=True)\n",
    "print(df_top_20_names[['product_id', 'product_name', 'reorder_count']])"
   ]
  },
  {
   "cell_type": "code",
   "execution_count": 65,
   "id": "48dd3658",
   "metadata": {
    "id": "48dd3658"
   },
   "outputs": [
    {
     "data": {
      "image/png": "[encoded data removed]",
      "text/plain": [
       "<Figure size 640x480 with 1 Axes>"
      ]
     },
     "metadata": {},
     "output_type": "display_data"
    }
   ],
   "source": [
    "plt.barh(y=df_top_20_names['product_name'], width=df_top_20_names['reorder_count'], color='grey')\n",
    "plt.xlabel('Number of reorders')\n",
    "plt.ylabel('Product Name')\n",
    "plt.title('Top 20 Products with the Highest Repurchase Rate')\n",
    "plt.grid(True)\n",
    "plt.Figure(figsize=(15,5))\n",
    "plt.tight_layout()\n",
    "plt.show()"
   ]
  },
  {
   "cell_type": "markdown",
   "id": "80e70c74",
   "metadata": {
    "id": "80e70c74"
   },
   "source": [
    "Write your conclusions here\n",
    "###### LSPL\n",
    "\n",
    "To obtain the 20 products with the highest repurchase rates, information had to be obtained from several datasets, such as the DataFrame [order_products], column 'reordered', which contains information on repurchased products. From this same DataFrame, based on the 'product_id' column, a series was obtained with the total number of repurchases for the product. This series was merged with the DataFrame [products], columns 'product_id' and 'product_name', and then used in a horizontal bar chart to display the top 20 products with the highest purchase rates."
   ]
  },
  {
   "cell_type": "markdown",
   "id": "9d312b14",
   "metadata": {
    "id": "9d312b14"
   },
   "source": [
    "### [C3] For each product, what is the proportion of times it is ordered and what is the proportion of times it is reordered?"
   ]
  },
  {
   "cell_type": "code",
   "execution_count": 66,
   "id": "8ae9f4b1",
   "metadata": {
    "id": "8ae9f4b1"
   },
   "outputs": [
    {
     "name": "stdout",
     "output_type": "stream",
     "text": [
      "Total orders: \n",
      " product_id\n",
      "1        280\n",
      "2         11\n",
      "3         42\n",
      "4         49\n",
      "7          2\n",
      "        ... \n",
      "49690      5\n",
      "49691     72\n",
      "49692     12\n",
      "49693     25\n",
      "49694      9\n",
      "Length: 45573, dtype: int64\n"
     ]
    }
   ],
   "source": [
    "# Total orders by product\n",
    "total_orders = df_order_products.groupby('product_id').size()\n",
    "print(\"Total orders: \\n\", total_orders)"
   ]
  },
  {
   "cell_type": "code",
   "execution_count": 67,
   "id": "103e7fe1",
   "metadata": {
    "id": "103e7fe1"
   },
   "outputs": [
    {
     "name": "stdout",
     "output_type": "stream",
     "text": [
      "Total repurchases by product \n",
      " product_id\n",
      "1        158\n",
      "3         31\n",
      "4         25\n",
      "7          1\n",
      "8          6\n",
      "        ... \n",
      "49690      4\n",
      "49691     31\n",
      "49692      5\n",
      "49693     11\n",
      "49694      3\n",
      "Length: 36228, dtype: int64\n"
     ]
    }
   ],
   "source": [
    "# Total repurchases by product\n",
    "total_reorders = df_order_products[df_order_products['reordered'] == 1].groupby('product_id').size()\n",
    "print(\"Total repurchases by product \\n\", total_reorders)"
   ]
  },
  {
   "cell_type": "code",
   "execution_count": 68,
   "id": "social-individual",
   "metadata": {
    "id": "social-individual"
   },
   "outputs": [
    {
     "name": "stdout",
     "output_type": "stream",
     "text": [
      "\n",
      "\n",
      "Reorder Rate: \n",
      " product_id\n",
      "1        0.564286\n",
      "2        0.000000\n",
      "3        0.738095\n",
      "4        0.510204\n",
      "7        0.500000\n",
      "           ...   \n",
      "49690    0.800000\n",
      "49691    0.430556\n",
      "49692    0.416667\n",
      "49693    0.440000\n",
      "49694    0.333333\n",
      "Length: 45573, dtype: float64\n",
      "\n",
      "Reorder Rate: \n",
      "        product_id  reorder_rate\n",
      "0               1      0.564286\n",
      "1               2      0.000000\n",
      "2               3      0.738095\n",
      "3               4      0.510204\n",
      "4               7      0.500000\n",
      "...           ...           ...\n",
      "45568       49690      0.800000\n",
      "45569       49691      0.430556\n",
      "45570       49692      0.416667\n",
      "45571       49693      0.440000\n",
      "45572       49694      0.333333\n",
      "\n",
      "[45573 rows x 2 columns]\n",
      "\n",
      "Reorder Rate: \n",
      "     product_id  reorder_rate    product_name\n",
      "6            9      0.761905  light_straw...\n",
      "2            3      0.738095  robust_gold...\n",
      "19          25      0.674576  salted_cara...\n",
      "20          26      0.673077  fancy_feast...\n",
      "24          30      0.666667  three_chees...\n",
      "8           11      0.625000  peach_mango...\n",
      "0            1      0.564286  chocolate_s...\n",
      "13          18      0.533333  pizza_for_o...\n",
      "22          28      0.512821  wheat_chex_...\n",
      "3            4      0.510204  smart_ones_...\n",
      "10          13      0.500000  saline_nasa...\n",
      "16          22      0.500000  fresh_breat...\n",
      "4            7      0.500000  pure_coconu...\n",
      "7           10      0.448071  sparkling_o...\n",
      "23          29      0.413793  fresh_cut_g...\n",
      "9           12      0.390244  chocolate_f...\n",
      "17          23      0.380952  organic_tur...\n",
      "21          27      0.360000  complete_sp...\n",
      "5            8      0.315789  cut_russet_...\n",
      "1            2      0.000000  all_seasons...\n",
      "12          17      0.000000  rendered_du...\n",
      "15          21      0.000000  small_&_med...\n",
      "14          19      0.000000  gluten_free...\n",
      "11          14      0.000000  fresh_scent...\n",
      "18          24      0.000000  tri_vi_sol®...\n"
     ]
    }
   ],
   "source": [
    "# Reorder Rate\n",
    "reorder_rate = (total_reorders / total_orders)\n",
    "print()\n",
    "# Product not listed in total_reorders, no value to divide\n",
    "reorder_rate = (total_reorders / total_orders).fillna(0)\n",
    "print()\n",
    "print(\"Reorder Rate: \\n\", reorder_rate)\n",
    "print()\n",
    "# Assigning product_id as a column\n",
    "reorder_rate = reorder_rate.reset_index()\n",
    "reorder_rate.columns = ['product_id', 'reorder_rate']\n",
    "print(\"Reorder Rate: \\n\", reorder_rate)\n",
    "print()\n",
    "\n",
    "# Cross-reference names\n",
    "reorder_rate = reorder_rate.merge(df_products[['product_id', 'product_name']], on='product_id')\n",
    "print(\"Reorder Rate: \\n\", reorder_rate.head(25).sort_values(by='reorder_rate', ascending=False))"
   ]
  },
  {
   "cell_type": "code",
   "execution_count": 69,
   "id": "1e1b10d4",
   "metadata": {},
   "outputs": [
    {
     "data": {
      "image/png": "[encoded data removed]",
      "text/plain": [
       "<Figure size 1500x600 with 1 Axes>"
      ]
     },
     "metadata": {},
     "output_type": "display_data"
    }
   ],
   "source": [
    "reorder_rate.head(50).sort_values(by='reorder_rate', ascending=False).plot(kind='bar', x='product_id', y='reorder_rate', figsize=(15,6), color='grey')\n",
    "plt.title('Repurchase ratio by product')\n",
    "plt.xlabel('Product ID')\n",
    "plt.ylabel('Repurchase rate')\n",
    "plt.grid(True)\n",
    "plt.tight_layout()\n",
    "plt.show()"
   ]
  },
  {
   "cell_type": "markdown",
   "id": "I10dEIAyldcO",
   "metadata": {
    "id": "I10dEIAyldcO"
   },
   "source": [
    "Write your conclusions here\n",
    "###### LSPL\n",
    "\n",
    "The ratio is the relationship between two quantities that shows how much a part represents in relation to the whole.\n",
    "Therefore, to calculate the proportion of orders and reorders for each product, the ratio is given by repurchases/purchases. This gives us the repurchase ratio or rate.\n",
    "To identify the product name and display it alongside the repurchase ratio, the [reorder_rate] DataFrame is merged with the [products] DataFrame, using the anchor column 'product_id'."
   ]
  },
  {
   "cell_type": "markdown",
   "id": "subject-boxing",
   "metadata": {
    "id": "subject-boxing"
   },
   "source": [
    "### [C4] For each customer, what proportion of your products had they already ordered?"
   ]
  },
  {
   "cell_type": "code",
   "execution_count": 70,
   "id": "medical-couple",
   "metadata": {
    "id": "medical-couple",
    "scrolled": true
   },
   "outputs": [
    {
     "data": {
      "text/html": [
       "<style type=\"text/css\">\n",
       "#T_ef774_row0_col0, #T_ef774_row0_col1, #T_ef774_row0_col2, #T_ef774_row0_col3, #T_ef774_row0_col4, #T_ef774_row2_col0, #T_ef774_row2_col1, #T_ef774_row2_col2, #T_ef774_row2_col3, #T_ef774_row2_col4, #T_ef774_row3_col0, #T_ef774_row3_col1, #T_ef774_row3_col2, #T_ef774_row3_col3, #T_ef774_row3_col4, #T_ef774_row4_col0, #T_ef774_row4_col1, #T_ef774_row4_col2, #T_ef774_row4_col3, #T_ef774_row4_col4, #T_ef774_row5_col0, #T_ef774_row5_col1, #T_ef774_row5_col2, #T_ef774_row5_col3, #T_ef774_row5_col4, #T_ef774_row7_col0, #T_ef774_row7_col1, #T_ef774_row7_col2, #T_ef774_row7_col3, #T_ef774_row7_col4, #T_ef774_row9_col0, #T_ef774_row9_col1, #T_ef774_row9_col2, #T_ef774_row9_col3, #T_ef774_row9_col4, #T_ef774_row10_col0, #T_ef774_row10_col1, #T_ef774_row10_col2, #T_ef774_row10_col3, #T_ef774_row10_col4, #T_ef774_row11_col0, #T_ef774_row11_col1, #T_ef774_row11_col2, #T_ef774_row11_col3, #T_ef774_row11_col4, #T_ef774_row14_col0, #T_ef774_row14_col1, #T_ef774_row14_col2, #T_ef774_row14_col3, #T_ef774_row14_col4, #T_ef774_row15_col0, #T_ef774_row15_col1, #T_ef774_row15_col2, #T_ef774_row15_col3, #T_ef774_row15_col4, #T_ef774_row18_col0, #T_ef774_row18_col1, #T_ef774_row18_col2, #T_ef774_row18_col3, #T_ef774_row18_col4, #T_ef774_row20_col0, #T_ef774_row20_col1, #T_ef774_row20_col2, #T_ef774_row20_col3, #T_ef774_row20_col4, #T_ef774_row21_col0, #T_ef774_row21_col1, #T_ef774_row21_col2, #T_ef774_row21_col3, #T_ef774_row21_col4, #T_ef774_row22_col0, #T_ef774_row22_col1, #T_ef774_row22_col2, #T_ef774_row22_col3, #T_ef774_row22_col4, #T_ef774_row23_col0, #T_ef774_row23_col1, #T_ef774_row23_col2, #T_ef774_row23_col3, #T_ef774_row23_col4, #T_ef774_row24_col0, #T_ef774_row24_col1, #T_ef774_row24_col2, #T_ef774_row24_col3, #T_ef774_row24_col4 {\n",
       "  background-color: #595959;\n",
       "}\n",
       "#T_ef774_row1_col0, #T_ef774_row1_col1, #T_ef774_row1_col2, #T_ef774_row1_col3, #T_ef774_row1_col4, #T_ef774_row6_col0, #T_ef774_row6_col1, #T_ef774_row6_col2, #T_ef774_row6_col3, #T_ef774_row6_col4, #T_ef774_row8_col0, #T_ef774_row8_col1, #T_ef774_row8_col2, #T_ef774_row8_col3, #T_ef774_row8_col4, #T_ef774_row12_col0, #T_ef774_row12_col1, #T_ef774_row12_col2, #T_ef774_row12_col3, #T_ef774_row12_col4, #T_ef774_row13_col0, #T_ef774_row13_col1, #T_ef774_row13_col2, #T_ef774_row13_col3, #T_ef774_row13_col4, #T_ef774_row16_col0, #T_ef774_row16_col1, #T_ef774_row16_col2, #T_ef774_row16_col3, #T_ef774_row16_col4, #T_ef774_row17_col0, #T_ef774_row17_col1, #T_ef774_row17_col2, #T_ef774_row17_col3, #T_ef774_row17_col4, #T_ef774_row19_col0, #T_ef774_row19_col1, #T_ef774_row19_col2, #T_ef774_row19_col3, #T_ef774_row19_col4 {\n",
       "  background-color: #808080;\n",
       "}\n",
       "</style>\n",
       "<table id=\"T_ef774\">\n",
       "  <thead>\n",
       "    <tr>\n",
       "      <th class=\"blank level0\" >&nbsp;</th>\n",
       "      <th id=\"T_ef774_level0_col0\" class=\"col_heading level0 col0\" >order_id</th>\n",
       "      <th id=\"T_ef774_level0_col1\" class=\"col_heading level0 col1\" >product_id</th>\n",
       "      <th id=\"T_ef774_level0_col2\" class=\"col_heading level0 col2\" >add_to_cart_order</th>\n",
       "      <th id=\"T_ef774_level0_col3\" class=\"col_heading level0 col3\" >reordered</th>\n",
       "      <th id=\"T_ef774_level0_col4\" class=\"col_heading level0 col4\" >user_id</th>\n",
       "    </tr>\n",
       "  </thead>\n",
       "  <tbody>\n",
       "    <tr>\n",
       "      <th id=\"T_ef774_level0_row0\" class=\"row_heading level0 row0\" >2044401</th>\n",
       "      <td id=\"T_ef774_row0_col0\" class=\"data row0 col0\" >346270</td>\n",
       "      <td id=\"T_ef774_row0_col1\" class=\"data row0 col1\" >47209</td>\n",
       "      <td id=\"T_ef774_row0_col2\" class=\"data row0 col2\" >1</td>\n",
       "      <td id=\"T_ef774_row0_col3\" class=\"data row0 col3\" >1</td>\n",
       "      <td id=\"T_ef774_row0_col4\" class=\"data row0 col4\" >32712</td>\n",
       "    </tr>\n",
       "    <tr>\n",
       "      <th id=\"T_ef774_level0_row1\" class=\"row_heading level0 row1\" >552888</th>\n",
       "      <td id=\"T_ef774_row1_col0\" class=\"data row1 col0\" >1922465</td>\n",
       "      <td id=\"T_ef774_row1_col1\" class=\"data row1 col1\" >34449</td>\n",
       "      <td id=\"T_ef774_row1_col2\" class=\"data row1 col2\" >3</td>\n",
       "      <td id=\"T_ef774_row1_col3\" class=\"data row1 col3\" >1</td>\n",
       "      <td id=\"T_ef774_row1_col4\" class=\"data row1 col4\" >25992</td>\n",
       "    </tr>\n",
       "    <tr>\n",
       "      <th id=\"T_ef774_level0_row2\" class=\"row_heading level0 row2\" >2286425</th>\n",
       "      <td id=\"T_ef774_row2_col0\" class=\"data row2 col0\" >2715387</td>\n",
       "      <td id=\"T_ef774_row2_col1\" class=\"data row2 col1\" >9058</td>\n",
       "      <td id=\"T_ef774_row2_col2\" class=\"data row2 col2\" >19</td>\n",
       "      <td id=\"T_ef774_row2_col3\" class=\"data row2 col3\" >1</td>\n",
       "      <td id=\"T_ef774_row2_col4\" class=\"data row2 col4\" >131946</td>\n",
       "    </tr>\n",
       "    <tr>\n",
       "      <th id=\"T_ef774_level0_row3\" class=\"row_heading level0 row3\" >3775915</th>\n",
       "      <td id=\"T_ef774_row3_col0\" class=\"data row3 col0\" >417184</td>\n",
       "      <td id=\"T_ef774_row3_col1\" class=\"data row3 col1\" >21560</td>\n",
       "      <td id=\"T_ef774_row3_col2\" class=\"data row3 col2\" >2</td>\n",
       "      <td id=\"T_ef774_row3_col3\" class=\"data row3 col3\" >0</td>\n",
       "      <td id=\"T_ef774_row3_col4\" class=\"data row3 col4\" >205543</td>\n",
       "    </tr>\n",
       "    <tr>\n",
       "      <th id=\"T_ef774_level0_row4\" class=\"row_heading level0 row4\" >2138683</th>\n",
       "      <td id=\"T_ef774_row4_col0\" class=\"data row4 col0\" >2276086</td>\n",
       "      <td id=\"T_ef774_row4_col1\" class=\"data row4 col1\" >11497</td>\n",
       "      <td id=\"T_ef774_row4_col2\" class=\"data row4 col2\" >9</td>\n",
       "      <td id=\"T_ef774_row4_col3\" class=\"data row4 col3\" >1</td>\n",
       "      <td id=\"T_ef774_row4_col4\" class=\"data row4 col4\" >144550</td>\n",
       "    </tr>\n",
       "    <tr>\n",
       "      <th id=\"T_ef774_level0_row5\" class=\"row_heading level0 row5\" >2585169</th>\n",
       "      <td id=\"T_ef774_row5_col0\" class=\"data row5 col0\" >856437</td>\n",
       "      <td id=\"T_ef774_row5_col1\" class=\"data row5 col1\" >6615</td>\n",
       "      <td id=\"T_ef774_row5_col2\" class=\"data row5 col2\" >7</td>\n",
       "      <td id=\"T_ef774_row5_col3\" class=\"data row5 col3\" >0</td>\n",
       "      <td id=\"T_ef774_row5_col4\" class=\"data row5 col4\" >96359</td>\n",
       "    </tr>\n",
       "    <tr>\n",
       "      <th id=\"T_ef774_level0_row6\" class=\"row_heading level0 row6\" >4394948</th>\n",
       "      <td id=\"T_ef774_row6_col0\" class=\"data row6 col0\" >3391155</td>\n",
       "      <td id=\"T_ef774_row6_col1\" class=\"data row6 col1\" >17183</td>\n",
       "      <td id=\"T_ef774_row6_col2\" class=\"data row6 col2\" >7</td>\n",
       "      <td id=\"T_ef774_row6_col3\" class=\"data row6 col3\" >1</td>\n",
       "      <td id=\"T_ef774_row6_col4\" class=\"data row6 col4\" >154372</td>\n",
       "    </tr>\n",
       "    <tr>\n",
       "      <th id=\"T_ef774_level0_row7\" class=\"row_heading level0 row7\" >2592011</th>\n",
       "      <td id=\"T_ef774_row7_col0\" class=\"data row7 col0\" >955784</td>\n",
       "      <td id=\"T_ef774_row7_col1\" class=\"data row7 col1\" >43928</td>\n",
       "      <td id=\"T_ef774_row7_col2\" class=\"data row7 col2\" >17</td>\n",
       "      <td id=\"T_ef774_row7_col3\" class=\"data row7 col3\" >0</td>\n",
       "      <td id=\"T_ef774_row7_col4\" class=\"data row7 col4\" >155460</td>\n",
       "    </tr>\n",
       "    <tr>\n",
       "      <th id=\"T_ef774_level0_row8\" class=\"row_heading level0 row8\" >4004828</th>\n",
       "      <td id=\"T_ef774_row8_col0\" class=\"data row8 col0\" >2520451</td>\n",
       "      <td id=\"T_ef774_row8_col1\" class=\"data row8 col1\" >46667</td>\n",
       "      <td id=\"T_ef774_row8_col2\" class=\"data row8 col2\" >2</td>\n",
       "      <td id=\"T_ef774_row8_col3\" class=\"data row8 col3\" >1</td>\n",
       "      <td id=\"T_ef774_row8_col4\" class=\"data row8 col4\" >171841</td>\n",
       "    </tr>\n",
       "    <tr>\n",
       "      <th id=\"T_ef774_level0_row9\" class=\"row_heading level0 row9\" >2285271</th>\n",
       "      <td id=\"T_ef774_row9_col0\" class=\"data row9 col0\" >2849370</td>\n",
       "      <td id=\"T_ef774_row9_col1\" class=\"data row9 col1\" >44359</td>\n",
       "      <td id=\"T_ef774_row9_col2\" class=\"data row9 col2\" >64</td>\n",
       "      <td id=\"T_ef774_row9_col3\" class=\"data row9 col3\" >1</td>\n",
       "      <td id=\"T_ef774_row9_col4\" class=\"data row9 col4\" >133719</td>\n",
       "    </tr>\n",
       "    <tr>\n",
       "      <th id=\"T_ef774_level0_row10\" class=\"row_heading level0 row10\" >1105667</th>\n",
       "      <td id=\"T_ef774_row10_col0\" class=\"data row10 col0\" >2893375</td>\n",
       "      <td id=\"T_ef774_row10_col1\" class=\"data row10 col1\" >27521</td>\n",
       "      <td id=\"T_ef774_row10_col2\" class=\"data row10 col2\" >10</td>\n",
       "      <td id=\"T_ef774_row10_col3\" class=\"data row10 col3\" >0</td>\n",
       "      <td id=\"T_ef774_row10_col4\" class=\"data row10 col4\" >41100</td>\n",
       "    </tr>\n",
       "    <tr>\n",
       "      <th id=\"T_ef774_level0_row11\" class=\"row_heading level0 row11\" >1238073</th>\n",
       "      <td id=\"T_ef774_row11_col0\" class=\"data row11 col0\" >692213</td>\n",
       "      <td id=\"T_ef774_row11_col1\" class=\"data row11 col1\" >9587</td>\n",
       "      <td id=\"T_ef774_row11_col2\" class=\"data row11 col2\" >2</td>\n",
       "      <td id=\"T_ef774_row11_col3\" class=\"data row11 col3\" >1</td>\n",
       "      <td id=\"T_ef774_row11_col4\" class=\"data row11 col4\" >15753</td>\n",
       "    </tr>\n",
       "    <tr>\n",
       "      <th id=\"T_ef774_level0_row12\" class=\"row_heading level0 row12\" >364352</th>\n",
       "      <td id=\"T_ef774_row12_col0\" class=\"data row12 col0\" >2423501</td>\n",
       "      <td id=\"T_ef774_row12_col1\" class=\"data row12 col1\" >34284</td>\n",
       "      <td id=\"T_ef774_row12_col2\" class=\"data row12 col2\" >6</td>\n",
       "      <td id=\"T_ef774_row12_col3\" class=\"data row12 col3\" >0</td>\n",
       "      <td id=\"T_ef774_row12_col4\" class=\"data row12 col4\" >193091</td>\n",
       "    </tr>\n",
       "    <tr>\n",
       "      <th id=\"T_ef774_level0_row13\" class=\"row_heading level0 row13\" >3190228</th>\n",
       "      <td id=\"T_ef774_row13_col0\" class=\"data row13 col0\" >1723497</td>\n",
       "      <td id=\"T_ef774_row13_col1\" class=\"data row13 col1\" >45104</td>\n",
       "      <td id=\"T_ef774_row13_col2\" class=\"data row13 col2\" >14</td>\n",
       "      <td id=\"T_ef774_row13_col3\" class=\"data row13 col3\" >0</td>\n",
       "      <td id=\"T_ef774_row13_col4\" class=\"data row13 col4\" >131862</td>\n",
       "    </tr>\n",
       "    <tr>\n",
       "      <th id=\"T_ef774_level0_row14\" class=\"row_heading level0 row14\" >3993905</th>\n",
       "      <td id=\"T_ef774_row14_col0\" class=\"data row14 col0\" >2420817</td>\n",
       "      <td id=\"T_ef774_row14_col1\" class=\"data row14 col1\" >516</td>\n",
       "      <td id=\"T_ef774_row14_col2\" class=\"data row14 col2\" >18</td>\n",
       "      <td id=\"T_ef774_row14_col3\" class=\"data row14 col3\" >0</td>\n",
       "      <td id=\"T_ef774_row14_col4\" class=\"data row14 col4\" >202561</td>\n",
       "    </tr>\n",
       "    <tr>\n",
       "      <th id=\"T_ef774_level0_row15\" class=\"row_heading level0 row15\" >2993539</th>\n",
       "      <td id=\"T_ef774_row15_col0\" class=\"data row15 col0\" >2951308</td>\n",
       "      <td id=\"T_ef774_row15_col1\" class=\"data row15 col1\" >40630</td>\n",
       "      <td id=\"T_ef774_row15_col2\" class=\"data row15 col2\" >10</td>\n",
       "      <td id=\"T_ef774_row15_col3\" class=\"data row15 col3\" >0</td>\n",
       "      <td id=\"T_ef774_row15_col4\" class=\"data row15 col4\" >21816</td>\n",
       "    </tr>\n",
       "    <tr>\n",
       "      <th id=\"T_ef774_level0_row16\" class=\"row_heading level0 row16\" >1457464</th>\n",
       "      <td id=\"T_ef774_row16_col0\" class=\"data row16 col0\" >868460</td>\n",
       "      <td id=\"T_ef774_row16_col1\" class=\"data row16 col1\" >32299</td>\n",
       "      <td id=\"T_ef774_row16_col2\" class=\"data row16 col2\" >5</td>\n",
       "      <td id=\"T_ef774_row16_col3\" class=\"data row16 col3\" >1</td>\n",
       "      <td id=\"T_ef774_row16_col4\" class=\"data row16 col4\" >83994</td>\n",
       "    </tr>\n",
       "    <tr>\n",
       "      <th id=\"T_ef774_level0_row17\" class=\"row_heading level0 row17\" >3049690</th>\n",
       "      <td id=\"T_ef774_row17_col0\" class=\"data row17 col0\" >45996</td>\n",
       "      <td id=\"T_ef774_row17_col1\" class=\"data row17 col1\" >12779</td>\n",
       "      <td id=\"T_ef774_row17_col2\" class=\"data row17 col2\" >12</td>\n",
       "      <td id=\"T_ef774_row17_col3\" class=\"data row17 col3\" >0</td>\n",
       "      <td id=\"T_ef774_row17_col4\" class=\"data row17 col4\" >199619</td>\n",
       "    </tr>\n",
       "    <tr>\n",
       "      <th id=\"T_ef774_level0_row18\" class=\"row_heading level0 row18\" >3325877</th>\n",
       "      <td id=\"T_ef774_row18_col0\" class=\"data row18 col0\" >1126509</td>\n",
       "      <td id=\"T_ef774_row18_col1\" class=\"data row18 col1\" >13889</td>\n",
       "      <td id=\"T_ef774_row18_col2\" class=\"data row18 col2\" >6</td>\n",
       "      <td id=\"T_ef774_row18_col3\" class=\"data row18 col3\" >1</td>\n",
       "      <td id=\"T_ef774_row18_col4\" class=\"data row18 col4\" >114804</td>\n",
       "    </tr>\n",
       "    <tr>\n",
       "      <th id=\"T_ef774_level0_row19\" class=\"row_heading level0 row19\" >631856</th>\n",
       "      <td id=\"T_ef774_row19_col0\" class=\"data row19 col0\" >2955127</td>\n",
       "      <td id=\"T_ef774_row19_col1\" class=\"data row19 col1\" >30183</td>\n",
       "      <td id=\"T_ef774_row19_col2\" class=\"data row19 col2\" >6</td>\n",
       "      <td id=\"T_ef774_row19_col3\" class=\"data row19 col3\" >1</td>\n",
       "      <td id=\"T_ef774_row19_col4\" class=\"data row19 col4\" >62461</td>\n",
       "    </tr>\n",
       "    <tr>\n",
       "      <th id=\"T_ef774_level0_row20\" class=\"row_heading level0 row20\" >812833</th>\n",
       "      <td id=\"T_ef774_row20_col0\" class=\"data row20 col0\" >902182</td>\n",
       "      <td id=\"T_ef774_row20_col1\" class=\"data row20 col1\" >17398</td>\n",
       "      <td id=\"T_ef774_row20_col2\" class=\"data row20 col2\" >1</td>\n",
       "      <td id=\"T_ef774_row20_col3\" class=\"data row20 col3\" >0</td>\n",
       "      <td id=\"T_ef774_row20_col4\" class=\"data row20 col4\" >1821</td>\n",
       "    </tr>\n",
       "    <tr>\n",
       "      <th id=\"T_ef774_level0_row21\" class=\"row_heading level0 row21\" >4313845</th>\n",
       "      <td id=\"T_ef774_row21_col0\" class=\"data row21 col0\" >2332416</td>\n",
       "      <td id=\"T_ef774_row21_col1\" class=\"data row21 col1\" >47156</td>\n",
       "      <td id=\"T_ef774_row21_col2\" class=\"data row21 col2\" >4</td>\n",
       "      <td id=\"T_ef774_row21_col3\" class=\"data row21 col3\" >1</td>\n",
       "      <td id=\"T_ef774_row21_col4\" class=\"data row21 col4\" >53410</td>\n",
       "    </tr>\n",
       "    <tr>\n",
       "      <th id=\"T_ef774_level0_row22\" class=\"row_heading level0 row22\" >1853163</th>\n",
       "      <td id=\"T_ef774_row22_col0\" class=\"data row22 col0\" >1042598</td>\n",
       "      <td id=\"T_ef774_row22_col1\" class=\"data row22 col1\" >24604</td>\n",
       "      <td id=\"T_ef774_row22_col2\" class=\"data row22 col2\" >11</td>\n",
       "      <td id=\"T_ef774_row22_col3\" class=\"data row22 col3\" >1</td>\n",
       "      <td id=\"T_ef774_row22_col4\" class=\"data row22 col4\" >41134</td>\n",
       "    </tr>\n",
       "    <tr>\n",
       "      <th id=\"T_ef774_level0_row23\" class=\"row_heading level0 row23\" >715777</th>\n",
       "      <td id=\"T_ef774_row23_col0\" class=\"data row23 col0\" >1208475</td>\n",
       "      <td id=\"T_ef774_row23_col1\" class=\"data row23 col1\" >24852</td>\n",
       "      <td id=\"T_ef774_row23_col2\" class=\"data row23 col2\" >3</td>\n",
       "      <td id=\"T_ef774_row23_col3\" class=\"data row23 col3\" >1</td>\n",
       "      <td id=\"T_ef774_row23_col4\" class=\"data row23 col4\" >140352</td>\n",
       "    </tr>\n",
       "    <tr>\n",
       "      <th id=\"T_ef774_level0_row24\" class=\"row_heading level0 row24\" >3402365</th>\n",
       "      <td id=\"T_ef774_row24_col0\" class=\"data row24 col0\" >2315868</td>\n",
       "      <td id=\"T_ef774_row24_col1\" class=\"data row24 col1\" >49333</td>\n",
       "      <td id=\"T_ef774_row24_col2\" class=\"data row24 col2\" >18</td>\n",
       "      <td id=\"T_ef774_row24_col3\" class=\"data row24 col3\" >1</td>\n",
       "      <td id=\"T_ef774_row24_col4\" class=\"data row24 col4\" >100229</td>\n",
       "    </tr>\n",
       "  </tbody>\n",
       "</table>\n"
      ],
      "text/plain": [
       "<pandas.io.formats.style.Styler at 0x2a3c7e336d0>"
      ]
     },
     "metadata": {},
     "output_type": "display_data"
    },
    {
     "name": "stdout",
     "output_type": "stream",
     "text": [
      "\n",
      "user_id\n",
      "6865      11\n",
      "46346      6\n",
      "173989    24\n",
      "152430     5\n",
      "181862     6\n",
      "85291     44\n",
      "191645     8\n",
      "83210     18\n",
      "119634    12\n",
      "153765    10\n",
      "29976     31\n",
      "153805    80\n",
      "163570    26\n",
      "61513     50\n",
      "183249     5\n",
      "43245     18\n",
      "6583      74\n",
      "86758     21\n",
      "155061    77\n",
      "122338     2\n",
      "95512     57\n",
      "135890    49\n",
      "44005     16\n",
      "21435      7\n",
      "20297     19\n",
      "dtype: int64\n",
      "\n",
      "user_id\n",
      "63683     22\n",
      "48645     33\n",
      "59852      9\n",
      "16866     50\n",
      "21750     13\n",
      "166344    13\n",
      "128203    21\n",
      "100023     5\n",
      "161826    17\n",
      "28548      5\n",
      "159836    36\n",
      "127818     4\n",
      "188628    20\n",
      "110068    20\n",
      "178518    16\n",
      "168658     9\n",
      "100441    11\n",
      "106256     5\n",
      "14262     16\n",
      "116235    15\n",
      "70477      7\n",
      "24011      6\n",
      "107757    45\n",
      "90321      6\n",
      "77719      4\n",
      "dtype: int64\n"
     ]
    }
   ],
   "source": [
    "# You have to put together order_products and instacart_orders to know who the user_id is\n",
    "\n",
    "# Match products with orders to have user_id\n",
    "df_order_products_users = df_order_products.merge(df_instacart_orders[['order_id', 'user_id']], on='order_id')\n",
    "display(df_order_products_users.sample(25).style.apply(zebra_rows, axis=1))\n",
    "print()\n",
    "\n",
    "# Total products ordered per user\n",
    "total_user_orders = df_order_products_users.groupby('user_id').size()\n",
    "print(total_user_orders.sample(25))\n",
    "print()\n",
    "\n",
    "# Total products reordered per user\n",
    "total_user_reorders = df_order_products_users[df_order_products_users['reordered'] == 1].groupby('user_id').size()\n",
    "print(total_user_reorders.sample(25))\n"
   ]
  },
  {
   "cell_type": "code",
   "execution_count": 71,
   "id": "8892e4b4",
   "metadata": {
    "id": "8892e4b4"
   },
   "outputs": [
    {
     "name": "stdout",
     "output_type": "stream",
     "text": [
      "Repetition rate per user: \n",
      "     user_id  user_reorder_rate\n",
      "15       22        1.000000   \n",
      "48       68        1.000000   \n",
      "4         7        0.928571   \n",
      "20       29        0.846154   \n",
      "49       69        0.800000   \n",
      "..      ...             ...   \n",
      "3         6        0.000000   \n",
      "21       30        0.000000   \n",
      "24       34        0.000000   \n",
      "38       57        0.000000   \n",
      "46       66        0.000000   \n",
      "\n",
      "[50 rows x 2 columns]\n"
     ]
    }
   ],
   "source": [
    "# Repetition rate per user\n",
    "user_reorder_rate = (total_user_reorders / total_user_orders).fillna(0).reset_index()\n",
    "user_reorder_rate.columns = ['user_id', 'user_reorder_rate']\n",
    "\n",
    "print(\"Repetition rate per user: \\n\", user_reorder_rate.head(50).sort_values(by='user_reorder_rate', ascending=False))"
   ]
  },
  {
   "cell_type": "code",
   "execution_count": 72,
   "id": "c691e484",
   "metadata": {},
   "outputs": [
    {
     "data": {
      "image/png": "[encoded data removed]",
      "text/plain": [
       "<Figure size 1500x600 with 1 Axes>"
      ]
     },
     "metadata": {},
     "output_type": "display_data"
    }
   ],
   "source": [
    "user_reorder_rate.head(50).sort_values(by='user_reorder_rate', ascending=False).plot(kind='bar', x='user_id', y='user_reorder_rate', figsize=(15,6), color='grey')\n",
    "plt.title('Repurchase ratio per user')\n",
    "plt.xlabel('User ID')\n",
    "plt.ylabel('Repurchase rate per user')\n",
    "plt.grid(True)\n",
    "plt.tight_layout()\n",
    "plt.show()"
   ]
  },
  {
   "cell_type": "markdown",
   "id": "BgJSvXDsleXz",
   "metadata": {
    "id": "BgJSvXDsleXz"
   },
   "source": [
    "Write your conclusions here"
   ]
  },
  {
   "cell_type": "markdown",
   "id": "f8f0a299",
   "metadata": {},
   "source": [
    "###### LSPL\n",
    "\n",
    "Pretty much the same considerations as [C3] were applied, but this time for the user."
   ]
  },
  {
   "cell_type": "markdown",
   "id": "92d35137",
   "metadata": {
    "id": "92d35137"
   },
   "source": [
    "### [C5] What are the top 20 items people put first in their carts?"
   ]
  },
  {
   "cell_type": "code",
   "execution_count": 73,
   "id": "0ae57274",
   "metadata": {
    "id": "0ae57274",
    "scrolled": true
   },
   "outputs": [
    {
     "data": {
      "text/html": [
       "<style type=\"text/css\">\n",
       "#T_f3e61_row0_col0, #T_f3e61_row0_col1, #T_f3e61_row0_col2, #T_f3e61_row0_col3, #T_f3e61_row4_col0, #T_f3e61_row4_col1, #T_f3e61_row4_col2, #T_f3e61_row4_col3, #T_f3e61_row5_col0, #T_f3e61_row5_col1, #T_f3e61_row5_col2, #T_f3e61_row5_col3, #T_f3e61_row6_col0, #T_f3e61_row6_col1, #T_f3e61_row6_col2, #T_f3e61_row6_col3, #T_f3e61_row7_col0, #T_f3e61_row7_col1, #T_f3e61_row7_col2, #T_f3e61_row7_col3, #T_f3e61_row12_col0, #T_f3e61_row12_col1, #T_f3e61_row12_col2, #T_f3e61_row12_col3, #T_f3e61_row14_col0, #T_f3e61_row14_col1, #T_f3e61_row14_col2, #T_f3e61_row14_col3, #T_f3e61_row15_col0, #T_f3e61_row15_col1, #T_f3e61_row15_col2, #T_f3e61_row15_col3, #T_f3e61_row17_col0, #T_f3e61_row17_col1, #T_f3e61_row17_col2, #T_f3e61_row17_col3, #T_f3e61_row18_col0, #T_f3e61_row18_col1, #T_f3e61_row18_col2, #T_f3e61_row18_col3, #T_f3e61_row22_col0, #T_f3e61_row22_col1, #T_f3e61_row22_col2, #T_f3e61_row22_col3, #T_f3e61_row24_col0, #T_f3e61_row24_col1, #T_f3e61_row24_col2, #T_f3e61_row24_col3 {\n",
       "  background-color: #595959;\n",
       "}\n",
       "#T_f3e61_row1_col0, #T_f3e61_row1_col1, #T_f3e61_row1_col2, #T_f3e61_row1_col3, #T_f3e61_row2_col0, #T_f3e61_row2_col1, #T_f3e61_row2_col2, #T_f3e61_row2_col3, #T_f3e61_row3_col0, #T_f3e61_row3_col1, #T_f3e61_row3_col2, #T_f3e61_row3_col3, #T_f3e61_row8_col0, #T_f3e61_row8_col1, #T_f3e61_row8_col2, #T_f3e61_row8_col3, #T_f3e61_row9_col0, #T_f3e61_row9_col1, #T_f3e61_row9_col2, #T_f3e61_row9_col3, #T_f3e61_row10_col0, #T_f3e61_row10_col1, #T_f3e61_row10_col2, #T_f3e61_row10_col3, #T_f3e61_row11_col0, #T_f3e61_row11_col1, #T_f3e61_row11_col2, #T_f3e61_row11_col3, #T_f3e61_row13_col0, #T_f3e61_row13_col1, #T_f3e61_row13_col2, #T_f3e61_row13_col3, #T_f3e61_row16_col0, #T_f3e61_row16_col1, #T_f3e61_row16_col2, #T_f3e61_row16_col3, #T_f3e61_row19_col0, #T_f3e61_row19_col1, #T_f3e61_row19_col2, #T_f3e61_row19_col3, #T_f3e61_row20_col0, #T_f3e61_row20_col1, #T_f3e61_row20_col2, #T_f3e61_row20_col3, #T_f3e61_row21_col0, #T_f3e61_row21_col1, #T_f3e61_row21_col2, #T_f3e61_row21_col3, #T_f3e61_row23_col0, #T_f3e61_row23_col1, #T_f3e61_row23_col2, #T_f3e61_row23_col3 {\n",
       "  background-color: #808080;\n",
       "}\n",
       "</style>\n",
       "<table id=\"T_f3e61\">\n",
       "  <thead>\n",
       "    <tr>\n",
       "      <th class=\"blank level0\" >&nbsp;</th>\n",
       "      <th id=\"T_f3e61_level0_col0\" class=\"col_heading level0 col0\" >order_id</th>\n",
       "      <th id=\"T_f3e61_level0_col1\" class=\"col_heading level0 col1\" >product_id</th>\n",
       "      <th id=\"T_f3e61_level0_col2\" class=\"col_heading level0 col2\" >add_to_cart_order</th>\n",
       "      <th id=\"T_f3e61_level0_col3\" class=\"col_heading level0 col3\" >reordered</th>\n",
       "    </tr>\n",
       "  </thead>\n",
       "  <tbody>\n",
       "    <tr>\n",
       "      <th id=\"T_f3e61_level0_row0\" class=\"row_heading level0 row0\" >1</th>\n",
       "      <td id=\"T_f3e61_row0_col0\" class=\"data row0 col0\" >567889</td>\n",
       "      <td id=\"T_f3e61_row0_col1\" class=\"data row0 col1\" >1560</td>\n",
       "      <td id=\"T_f3e61_row0_col2\" class=\"data row0 col2\" >1</td>\n",
       "      <td id=\"T_f3e61_row0_col3\" class=\"data row0 col3\" >1</td>\n",
       "    </tr>\n",
       "    <tr>\n",
       "      <th id=\"T_f3e61_level0_row1\" class=\"row_heading level0 row1\" >2</th>\n",
       "      <td id=\"T_f3e61_row1_col0\" class=\"data row1 col0\" >2261212</td>\n",
       "      <td id=\"T_f3e61_row1_col1\" class=\"data row1 col1\" >26683</td>\n",
       "      <td id=\"T_f3e61_row1_col2\" class=\"data row1 col2\" >1</td>\n",
       "      <td id=\"T_f3e61_row1_col3\" class=\"data row1 col3\" >1</td>\n",
       "    </tr>\n",
       "    <tr>\n",
       "      <th id=\"T_f3e61_level0_row2\" class=\"row_heading level0 row2\" >14</th>\n",
       "      <td id=\"T_f3e61_row2_col0\" class=\"data row2 col0\" >1961225</td>\n",
       "      <td id=\"T_f3e61_row2_col1\" class=\"data row2 col1\" >37553</td>\n",
       "      <td id=\"T_f3e61_row2_col2\" class=\"data row2 col2\" >1</td>\n",
       "      <td id=\"T_f3e61_row2_col3\" class=\"data row2 col3\" >1</td>\n",
       "    </tr>\n",
       "    <tr>\n",
       "      <th id=\"T_f3e61_level0_row3\" class=\"row_heading level0 row3\" >16</th>\n",
       "      <td id=\"T_f3e61_row3_col0\" class=\"data row3 col0\" >639939</td>\n",
       "      <td id=\"T_f3e61_row3_col1\" class=\"data row3 col1\" >10017</td>\n",
       "      <td id=\"T_f3e61_row3_col2\" class=\"data row3 col2\" >1</td>\n",
       "      <td id=\"T_f3e61_row3_col3\" class=\"data row3 col3\" >1</td>\n",
       "    </tr>\n",
       "    <tr>\n",
       "      <th id=\"T_f3e61_level0_row4\" class=\"row_heading level0 row4\" >23</th>\n",
       "      <td id=\"T_f3e61_row4_col0\" class=\"data row4 col0\" >750040</td>\n",
       "      <td id=\"T_f3e61_row4_col1\" class=\"data row4 col1\" >8518</td>\n",
       "      <td id=\"T_f3e61_row4_col2\" class=\"data row4 col2\" >1</td>\n",
       "      <td id=\"T_f3e61_row4_col3\" class=\"data row4 col3\" >0</td>\n",
       "    </tr>\n",
       "    <tr>\n",
       "      <th id=\"T_f3e61_level0_row5\" class=\"row_heading level0 row5\" >33</th>\n",
       "      <td id=\"T_f3e61_row5_col0\" class=\"data row5 col0\" >2291457</td>\n",
       "      <td id=\"T_f3e61_row5_col1\" class=\"data row5 col1\" >27104</td>\n",
       "      <td id=\"T_f3e61_row5_col2\" class=\"data row5 col2\" >1</td>\n",
       "      <td id=\"T_f3e61_row5_col3\" class=\"data row5 col3\" >1</td>\n",
       "    </tr>\n",
       "    <tr>\n",
       "      <th id=\"T_f3e61_level0_row6\" class=\"row_heading level0 row6\" >43</th>\n",
       "      <td id=\"T_f3e61_row6_col0\" class=\"data row6 col0\" >3075384</td>\n",
       "      <td id=\"T_f3e61_row6_col1\" class=\"data row6 col1\" >28799</td>\n",
       "      <td id=\"T_f3e61_row6_col2\" class=\"data row6 col2\" >1</td>\n",
       "      <td id=\"T_f3e61_row6_col3\" class=\"data row6 col3\" >1</td>\n",
       "    </tr>\n",
       "    <tr>\n",
       "      <th id=\"T_f3e61_level0_row7\" class=\"row_heading level0 row7\" >45</th>\n",
       "      <td id=\"T_f3e61_row7_col0\" class=\"data row7 col0\" >1787676</td>\n",
       "      <td id=\"T_f3e61_row7_col1\" class=\"data row7 col1\" >47672</td>\n",
       "      <td id=\"T_f3e61_row7_col2\" class=\"data row7 col2\" >1</td>\n",
       "      <td id=\"T_f3e61_row7_col3\" class=\"data row7 col3\" >1</td>\n",
       "    </tr>\n",
       "    <tr>\n",
       "      <th id=\"T_f3e61_level0_row8\" class=\"row_heading level0 row8\" >54</th>\n",
       "      <td id=\"T_f3e61_row8_col0\" class=\"data row8 col0\" >3266094</td>\n",
       "      <td id=\"T_f3e61_row8_col1\" class=\"data row8 col1\" >12763</td>\n",
       "      <td id=\"T_f3e61_row8_col2\" class=\"data row8 col2\" >1</td>\n",
       "      <td id=\"T_f3e61_row8_col3\" class=\"data row8 col3\" >1</td>\n",
       "    </tr>\n",
       "    <tr>\n",
       "      <th id=\"T_f3e61_level0_row9\" class=\"row_heading level0 row9\" >56</th>\n",
       "      <td id=\"T_f3e61_row9_col0\" class=\"data row9 col0\" >1594605</td>\n",
       "      <td id=\"T_f3e61_row9_col1\" class=\"data row9 col1\" >34217</td>\n",
       "      <td id=\"T_f3e61_row9_col2\" class=\"data row9 col2\" >1</td>\n",
       "      <td id=\"T_f3e61_row9_col3\" class=\"data row9 col3\" >1</td>\n",
       "    </tr>\n",
       "    <tr>\n",
       "      <th id=\"T_f3e61_level0_row10\" class=\"row_heading level0 row10\" >70</th>\n",
       "      <td id=\"T_f3e61_row10_col0\" class=\"data row10 col0\" >450917</td>\n",
       "      <td id=\"T_f3e61_row10_col1\" class=\"data row10 col1\" >21436</td>\n",
       "      <td id=\"T_f3e61_row10_col2\" class=\"data row10 col2\" >1</td>\n",
       "      <td id=\"T_f3e61_row10_col3\" class=\"data row10 col3\" >1</td>\n",
       "    </tr>\n",
       "    <tr>\n",
       "      <th id=\"T_f3e61_level0_row11\" class=\"row_heading level0 row11\" >90</th>\n",
       "      <td id=\"T_f3e61_row11_col0\" class=\"data row11 col0\" >505943</td>\n",
       "      <td id=\"T_f3e61_row11_col1\" class=\"data row11 col1\" >13176</td>\n",
       "      <td id=\"T_f3e61_row11_col2\" class=\"data row11 col2\" >1</td>\n",
       "      <td id=\"T_f3e61_row11_col3\" class=\"data row11 col3\" >1</td>\n",
       "    </tr>\n",
       "    <tr>\n",
       "      <th id=\"T_f3e61_level0_row12\" class=\"row_heading level0 row12\" >93</th>\n",
       "      <td id=\"T_f3e61_row12_col0\" class=\"data row12 col0\" >286653</td>\n",
       "      <td id=\"T_f3e61_row12_col1\" class=\"data row12 col1\" >23115</td>\n",
       "      <td id=\"T_f3e61_row12_col2\" class=\"data row12 col2\" >1</td>\n",
       "      <td id=\"T_f3e61_row12_col3\" class=\"data row12 col3\" >0</td>\n",
       "    </tr>\n",
       "    <tr>\n",
       "      <th id=\"T_f3e61_level0_row13\" class=\"row_heading level0 row13\" >108</th>\n",
       "      <td id=\"T_f3e61_row13_col0\" class=\"data row13 col0\" >2699857</td>\n",
       "      <td id=\"T_f3e61_row13_col1\" class=\"data row13 col1\" >45007</td>\n",
       "      <td id=\"T_f3e61_row13_col2\" class=\"data row13 col2\" >1</td>\n",
       "      <td id=\"T_f3e61_row13_col3\" class=\"data row13 col3\" >1</td>\n",
       "    </tr>\n",
       "    <tr>\n",
       "      <th id=\"T_f3e61_level0_row14\" class=\"row_heading level0 row14\" >109</th>\n",
       "      <td id=\"T_f3e61_row14_col0\" class=\"data row14 col0\" >3176371</td>\n",
       "      <td id=\"T_f3e61_row14_col1\" class=\"data row14 col1\" >24852</td>\n",
       "      <td id=\"T_f3e61_row14_col2\" class=\"data row14 col2\" >1</td>\n",
       "      <td id=\"T_f3e61_row14_col3\" class=\"data row14 col3\" >1</td>\n",
       "    </tr>\n",
       "    <tr>\n",
       "      <th id=\"T_f3e61_level0_row15\" class=\"row_heading level0 row15\" >121</th>\n",
       "      <td id=\"T_f3e61_row15_col0\" class=\"data row15 col0\" >1861131</td>\n",
       "      <td id=\"T_f3e61_row15_col1\" class=\"data row15 col1\" >47766</td>\n",
       "      <td id=\"T_f3e61_row15_col2\" class=\"data row15 col2\" >1</td>\n",
       "      <td id=\"T_f3e61_row15_col3\" class=\"data row15 col3\" >1</td>\n",
       "    </tr>\n",
       "    <tr>\n",
       "      <th id=\"T_f3e61_level0_row16\" class=\"row_heading level0 row16\" >132</th>\n",
       "      <td id=\"T_f3e61_row16_col0\" class=\"data row16 col0\" >558229</td>\n",
       "      <td id=\"T_f3e61_row16_col1\" class=\"data row16 col1\" >8061</td>\n",
       "      <td id=\"T_f3e61_row16_col2\" class=\"data row16 col2\" >1</td>\n",
       "      <td id=\"T_f3e61_row16_col3\" class=\"data row16 col3\" >1</td>\n",
       "    </tr>\n",
       "    <tr>\n",
       "      <th id=\"T_f3e61_level0_row17\" class=\"row_heading level0 row17\" >135</th>\n",
       "      <td id=\"T_f3e61_row17_col0\" class=\"data row17 col0\" >2952692</td>\n",
       "      <td id=\"T_f3e61_row17_col1\" class=\"data row17 col1\" >49247</td>\n",
       "      <td id=\"T_f3e61_row17_col2\" class=\"data row17 col2\" >1</td>\n",
       "      <td id=\"T_f3e61_row17_col3\" class=\"data row17 col3\" >1</td>\n",
       "    </tr>\n",
       "    <tr>\n",
       "      <th id=\"T_f3e61_level0_row18\" class=\"row_heading level0 row18\" >137</th>\n",
       "      <td id=\"T_f3e61_row18_col0\" class=\"data row18 col0\" >2834075</td>\n",
       "      <td id=\"T_f3e61_row18_col1\" class=\"data row18 col1\" >47877</td>\n",
       "      <td id=\"T_f3e61_row18_col2\" class=\"data row18 col2\" >1</td>\n",
       "      <td id=\"T_f3e61_row18_col3\" class=\"data row18 col3\" >1</td>\n",
       "    </tr>\n",
       "    <tr>\n",
       "      <th id=\"T_f3e61_level0_row19\" class=\"row_heading level0 row19\" >138</th>\n",
       "      <td id=\"T_f3e61_row19_col0\" class=\"data row19 col0\" >2645555</td>\n",
       "      <td id=\"T_f3e61_row19_col1\" class=\"data row19 col1\" >389</td>\n",
       "      <td id=\"T_f3e61_row19_col2\" class=\"data row19 col2\" >1</td>\n",
       "      <td id=\"T_f3e61_row19_col3\" class=\"data row19 col3\" >0</td>\n",
       "    </tr>\n",
       "    <tr>\n",
       "      <th id=\"T_f3e61_level0_row20\" class=\"row_heading level0 row20\" >150</th>\n",
       "      <td id=\"T_f3e61_row20_col0\" class=\"data row20 col0\" >2924421</td>\n",
       "      <td id=\"T_f3e61_row20_col1\" class=\"data row20 col1\" >7252</td>\n",
       "      <td id=\"T_f3e61_row20_col2\" class=\"data row20 col2\" >1</td>\n",
       "      <td id=\"T_f3e61_row20_col3\" class=\"data row20 col3\" >1</td>\n",
       "    </tr>\n",
       "    <tr>\n",
       "      <th id=\"T_f3e61_level0_row21\" class=\"row_heading level0 row21\" >164</th>\n",
       "      <td id=\"T_f3e61_row21_col0\" class=\"data row21 col0\" >3186919</td>\n",
       "      <td id=\"T_f3e61_row21_col1\" class=\"data row21 col1\" >14858</td>\n",
       "      <td id=\"T_f3e61_row21_col2\" class=\"data row21 col2\" >1</td>\n",
       "      <td id=\"T_f3e61_row21_col3\" class=\"data row21 col3\" >1</td>\n",
       "    </tr>\n",
       "    <tr>\n",
       "      <th id=\"T_f3e61_level0_row22\" class=\"row_heading level0 row22\" >171</th>\n",
       "      <td id=\"T_f3e61_row22_col0\" class=\"data row22 col0\" >2113624</td>\n",
       "      <td id=\"T_f3e61_row22_col1\" class=\"data row22 col1\" >38456</td>\n",
       "      <td id=\"T_f3e61_row22_col2\" class=\"data row22 col2\" >1</td>\n",
       "      <td id=\"T_f3e61_row22_col3\" class=\"data row22 col3\" >1</td>\n",
       "    </tr>\n",
       "    <tr>\n",
       "      <th id=\"T_f3e61_level0_row23\" class=\"row_heading level0 row23\" >176</th>\n",
       "      <td id=\"T_f3e61_row23_col0\" class=\"data row23 col0\" >782743</td>\n",
       "      <td id=\"T_f3e61_row23_col1\" class=\"data row23 col1\" >24491</td>\n",
       "      <td id=\"T_f3e61_row23_col2\" class=\"data row23 col2\" >1</td>\n",
       "      <td id=\"T_f3e61_row23_col3\" class=\"data row23 col3\" >1</td>\n",
       "    </tr>\n",
       "    <tr>\n",
       "      <th id=\"T_f3e61_level0_row24\" class=\"row_heading level0 row24\" >181</th>\n",
       "      <td id=\"T_f3e61_row24_col0\" class=\"data row24 col0\" >2509656</td>\n",
       "      <td id=\"T_f3e61_row24_col1\" class=\"data row24 col1\" >7898</td>\n",
       "      <td id=\"T_f3e61_row24_col2\" class=\"data row24 col2\" >1</td>\n",
       "      <td id=\"T_f3e61_row24_col3\" class=\"data row24 col3\" >0</td>\n",
       "    </tr>\n",
       "  </tbody>\n",
       "</table>\n"
      ],
      "text/plain": [
       "<pandas.io.formats.style.Styler at 0x2a3d449ace0>"
      ]
     },
     "metadata": {},
     "output_type": "display_data"
    }
   ],
   "source": [
    "# Filter the first products added\n",
    "df_first_products = df_order_products[df_order_products['add_to_cart_order'] == 1]\n",
    "display(df_first_products.head(25).style.apply(zebra_rows, axis=1))"
   ]
  },
  {
   "cell_type": "code",
   "execution_count": 74,
   "id": "forty-netherlands",
   "metadata": {
    "id": "forty-netherlands",
    "scrolled": true
   },
   "outputs": [
    {
     "name": "stdout",
     "output_type": "stream",
     "text": [
      "Quantity of most added products first: \n",
      " product_id\n",
      "24852    15562\n",
      "13176    11026\n",
      "27845     4363\n",
      "21137     3946\n",
      "47209     3390\n",
      "21903     3336\n",
      "47766     3044\n",
      "19660     2336\n",
      "16797     2308\n",
      "27966     2024\n",
      "44632     1914\n",
      "49235     1797\n",
      "47626     1737\n",
      "196       1733\n",
      "38689     1397\n",
      "26209     1370\n",
      "12341     1340\n",
      "5785      1310\n",
      "27086     1309\n",
      "22935     1246\n",
      "Name: count, dtype: int64\n"
     ]
    }
   ],
   "source": [
    "# Count the most added products first\n",
    "top_20_first_added = df_first_products['product_id'].value_counts().head(20)\n",
    "print(\"Quantity of most added products first: \\n\", top_20_first_added )"
   ]
  },
  {
   "cell_type": "code",
   "execution_count": 75,
   "id": "08e41ec2",
   "metadata": {
    "id": "08e41ec2"
   },
   "outputs": [
    {
     "name": "stdout",
     "output_type": "stream",
     "text": [
      "       product_id    product_name  first_added_count\n",
      "24851       24852          banana           15562   \n",
      "13175       13176  bag_of_orga...           11026   \n",
      "27844       27845  organic_who...            4363   \n",
      "21136       21137  organic_str...            3946   \n",
      "47208       47209  organic_has...            3390   \n",
      "21902       21903  organic_bab...            3336   \n",
      "47765       47766  organic_avo...            3044   \n",
      "19659       19660    spring_water            2336   \n",
      "16796       16797    strawberries            2308   \n",
      "27965       27966  organic_ras...            2024   \n",
      "44631       44632  sparkling_w...            1914   \n",
      "49234       49235  organic_hal...            1797   \n",
      "47625       47626     large_lemon            1737   \n",
      "195           196            soda            1733   \n",
      "38688       38689  organic_red...            1397   \n",
      "26208       26209           limes            1370   \n",
      "12340       12341   hass_avocados            1340   \n",
      "5784         5785  organic_red...            1310   \n",
      "27085       27086     half_&_half            1309   \n",
      "22934       22935  organic_yel...            1246   \n"
     ]
    }
   ],
   "source": [
    "# Cross IDs with names\n",
    "top_20_first_added = top_20_first_added.to_frame(name='first_added_count').merge(df_products[['product_id', 'product_name']], \n",
    "                                                                                 left_index=True, right_on='product_id')\n",
    "\n",
    "print(top_20_first_added[['product_id', 'product_name', 'first_added_count']])"
   ]
  },
  {
   "cell_type": "code",
   "execution_count": 76,
   "id": "dc31cadf",
   "metadata": {},
   "outputs": [
    {
     "data": {
      "image/png": "[encoded data removed]",
      "text/plain": [
       "<Figure size 1500x600 with 1 Axes>"
      ]
     },
     "metadata": {},
     "output_type": "display_data"
    }
   ],
   "source": [
    "top_20_first_added[['product_id', 'product_name', 'first_added_count']].sort_values(by='first_added_count', ascending=False).plot(kind='bar', x='product_name', y='first_added_count', figsize=(15,6), color='grey')\n",
    "plt.title('Top 20 products added first')\n",
    "plt.xlabel('Product Name')\n",
    "plt.ylabel('Number of times added first')\n",
    "plt.grid(True)\n",
    "plt.tight_layout()\n",
    "plt.show()"
   ]
  },
  {
   "cell_type": "markdown",
   "id": "28ce9872",
   "metadata": {
    "id": "28ce9872"
   },
   "source": [
    "Write your conclusions here\n",
    "###### LSPL\n",
    "\n",
    "The data indicates that certain products are added much more frequently as the first choice in the shopping cart, with bananas and bags of organic bananas particularly notable, leading by a wide margin.\n",
    "\n",
    "Furthermore, there is a strong preference for organic and fresh products, which may reflect a more health-conscious consumer profile."
   ]
  },
  {
   "cell_type": "markdown",
   "id": "uITbFCEoDosC",
   "metadata": {
    "id": "uITbFCEoDosC"
   },
   "source": [
    "### Conclusion general del proyecto:"
   ]
  },
  {
   "cell_type": "markdown",
   "id": "3512c8f8",
   "metadata": {},
   "source": [
    "##### ✅ Observations\n",
    "\n",
    "- Order analysis by hour and day of the week:\n",
    "\n",
    "The analysis by hour of the day shows that orders are concentrated between 7:00 a.m. and 9:00 p.m., with a peak at 10:00 a.m.\n",
    "\n",
    "By day of the week, users place more orders between Sunday and Monday, indicating a recurring pattern of weekly purchases at the beginning of the week.\n",
    "\n",
    "The histogram of days between orders reveals that many people place orders every 1 to 7 days, reflecting frequent or weekly repurchase behavior.\n",
    "\n",
    "- Distribution of the number of orders per customer:\n",
    "\n",
    "Most customers placed only one order.\n",
    "\n",
    "As the number of orders per user increases, the number of users decreases dramatically.\n",
    "\n",
    "Exceptional cases of users with 25 to 28 orders (highly loyal customers) are undoubtedly a minority.\n",
    "\n",
    "- Products added first to cart:\n",
    "\n",
    "Products such as bananas, organic bananas, and organic whole milk are the most frequently added first to the cart.\n",
    "\n",
    "A strong preference for fresh and organic products is evident.\n",
    "\n",
    "This suggests health-driven consumption patterns or consistent habits.\n",
    "\n",
    "- Items per order:\n",
    "\n",
    "The average number of items per order is 10, with a maximum of 127 and a minimum of 1.\n",
    "\n",
    "Most orders contain between 5 and 14 products, representing standard purchases.\n",
    "\n",
    "- Most reordered products:\n",
    "\n",
    "The product with the highest number of reorders is bananas, followed by multiple organic and fresh products such as strawberries, lemons, and avocados.\n",
    "\n",
    "There is a clear repurchase pattern for basic and healthy items.\n",
    "\n",
    "- Repurchase by product:\n",
    "\n",
    "Products with the highest repurchase rate have more repeat orders.\n",
    "\n",
    "- Most frequently added products at the top of the cart:\n",
    "\n",
    "The items most frequently added to the cart first were identified.\n",
    "\n",
    "Fresh products like bananas and organic milk appear to be purchase drivers.\n",
    "\n",
    "- Reordering vs. Cart Position:\n",
    "\n",
    "Products added first to the cart are more likely to be reordered, indicating their central value in the user's purchasing habits.\n",
    "\n",
    "##### ✅ Conclusions\n",
    "\n",
    "Purchasing behavior is clearly linked to daily and weekly routines: users shop primarily during daytime work hours and on weekends/early weeks.\n",
    "\n",
    "The analysis suggests that the service is frequently used as part of a weekly replenishment routine.\n",
    "\n",
    "Instacart has a user base with the following behavior: many shop once, few become repeat customers.\n",
    "\n",
    "Products added first to the cart can act as purchase triggers for the remaining products.\n",
    "\n",
    "Purchasing behavior is highly influenced by essential and fresh products, which tend to be reordered.\n",
    "\n",
    "Repurchase frequency and order of addition provide signals about customer habits and product importance.\n",
    "\n",
    "\n",
    "##### ✅ Recommendations\n",
    "\n",
    "Take advantage of peak hours (7:00 a.m. to 10:00 a.m.) and high-demand days (Sundays and Mondays) for promotions or recommendations.\n",
    "\n",
    "Consider automatic notifications or reminders 5 to 7 days after the last order to encourage repeat purchases.\n",
    "\n",
    "Segment users based on their purchase frequency (every X days) to design loyalty plans or automate suggested shopping lists.\n",
    "\n",
    "Implement early retention strategies: offers or coupons on the second or third order to increase repeat purchases.\n",
    "\n",
    "Identify users with the potential to become loyal and apply personalized loyalty campaigns to them.\n",
    "\n",
    "Prioritize the most commonly added items in the app/product to accelerate conversion.\n",
    "\n",
    "Use these products as the basis for smart recommendations or initial bundles.\n",
    "\n",
    "Experiment with marketing campaigns focused on \"top-of-cart\" products to increase engagement and average ticket sales.\n",
    "\n",
    "Optimize the repurchase experience by highlighting products with high repeat orders in the interface (e.g., \"your most ordered products\").\n",
    "\n",
    "Prioritize products that appear first in the cart as part of a suggested smart list for new orders.\n",
    "\n",
    "Apply repurchase prediction models, considering both the order in which they were added to the cart and reorder history.\n",
    "\n",
    "Offer selective discounts on products added to the top of the cart to increase the average receipt value."
   ]
  }
 ],
 "metadata": {
  "colab": {
   "provenance": []
  },
  "kernelspec": {
   "display_name": "Win11_Python-Mature-PipVenv-Github-3.10",
   "language": "python",
   "name": "python3"
  },
  "language_info": {
   "codemirror_mode": {
    "name": "ipython",
    "version": 3
   },
   "file_extension": ".py",
   "mimetype": "text/x-python",
   "name": "python",
   "nbconvert_exporter": "python",
   "pygments_lexer": "ipython3",
   "version": "3.10.0"
  },
  "toc": {
   "base_numbering": 1,
   "nav_menu": {},
   "number_sections": true,
   "sideBar": true,
   "skip_h1_title": true,
   "title_cell": "Table of Contents",
   "title_sidebar": "Contents",
   "toc_cell": false,
   "toc_position": {},
   "toc_section_display": true,
   "toc_window_display": false
  }
 },
 "nbformat": 4,
 "nbformat_minor": 5
}
