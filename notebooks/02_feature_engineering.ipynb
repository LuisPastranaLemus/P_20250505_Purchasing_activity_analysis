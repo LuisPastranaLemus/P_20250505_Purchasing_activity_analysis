{
 "cells": [
  {
   "cell_type": "markdown",
   "id": "7849e41b",
   "metadata": {},
   "source": [
    "#### Feature Engineering  \n",
    "\n",
    "Dataset: \n",
    "- _aisles_clean.csv_\n",
    "- _departments_clean.csv_\n",
    "- _orders_clean.csv_\n",
    "- _order_products_clean.csv_\n",
    "- _products_clean_\n",
    "\n",
    "Author: Luis Sergio Pastrana Lemus  \n",
    "Date: 2025-05-05"
   ]
  },
  {
   "cell_type": "markdown",
   "id": "415af0e2",
   "metadata": {},
   "source": [
    "## __1. Libraries__"
   ]
  },
  {
   "cell_type": "code",
   "execution_count": 1,
   "id": "eacf5d9a",
   "metadata": {},
   "outputs": [],
   "source": [
    "from IPython.display import display, HTML\n",
    "import os\n",
    "import pandas as pd\n",
    "from pathlib import Path\n",
    "import sys\n",
    "\n",
    "# Define project root dynamically, gets the current directory from whick the notebook belongs and moves one level upper\n",
    "project_root = Path.cwd().parent\n",
    "\n",
    "# Add src to sys.path if it is not already\n",
    "if str(project_root) not in sys.path:\n",
    "    sys.path.append(str(project_root))\n",
    "\n",
    "# Import function directly (more controlled than import *)\n",
    "from src import *"
   ]
  },
  {
   "cell_type": "markdown",
   "id": "3be37b0b",
   "metadata": {},
   "source": [
    "## __2. Path to Data file__"
   ]
  },
  {
   "cell_type": "code",
   "execution_count": 2,
   "id": "7e7a75e0",
   "metadata": {},
   "outputs": [],
   "source": [
    "# Build route to data file and upload\n",
    "data_file_path = project_root / \"data\" / \"processed\"\n",
    "df_aisles = load_dataset_from_csv(data_file_path, \"aisles_clean.csv\", sep=',', header='infer')\n",
    "df_departments = load_dataset_from_csv(data_file_path, \"departments_clean.csv\", sep=',', header='infer')\n",
    "df_order_products = load_dataset_from_csv(data_file_path, \"order_products_clean.csv\", sep=',', header='infer')\n",
    "df_orders = load_dataset_from_csv(data_file_path, \"orders_clean.csv\", sep=',', header='infer')\n",
    "df_products = load_dataset_from_csv(data_file_path, \"products_clean.csv\", sep=',', header='infer')\n"
   ]
  },
  {
   "cell_type": "code",
   "execution_count": 3,
   "id": "db15faef",
   "metadata": {},
   "outputs": [],
   "source": [
    "# Format notebook output\n",
    "format_notebook()"
   ]
  },
  {
   "cell_type": "markdown",
   "id": "c5bc07b2",
   "metadata": {},
   "source": [
    "## 3 __Casting to data types__"
   ]
  },
  {
   "cell_type": "markdown",
   "id": "2724341b",
   "metadata": {},
   "source": [
    "### 3.1 Casting to string data type"
   ]
  },
  {
   "cell_type": "code",
   "execution_count": 4,
   "id": "9469508d",
   "metadata": {},
   "outputs": [
    {
     "data": {
      "text/plain": [
       "string[python]"
      ]
     },
     "execution_count": 4,
     "metadata": {},
     "output_type": "execute_result"
    }
   ],
   "source": [
    "# df_aisles 'aisles' to string\n",
    "df_aisles['aisle'] = df_aisles['aisle'].astype('string')\n",
    "df_aisles['aisle'].dtypes"
   ]
  },
  {
   "cell_type": "code",
   "execution_count": 5,
   "id": "96eae6a1",
   "metadata": {},
   "outputs": [
    {
     "data": {
      "text/plain": [
       "string[python]"
      ]
     },
     "execution_count": 5,
     "metadata": {},
     "output_type": "execute_result"
    }
   ],
   "source": [
    "# df_departments 'department' to string\n",
    "df_departments['department'] = df_departments['department'].astype('string')\n",
    "df_departments['department'].dtypes"
   ]
  },
  {
   "cell_type": "code",
   "execution_count": 6,
   "id": "015d6a19",
   "metadata": {},
   "outputs": [
    {
     "data": {
      "text/plain": [
       "string[python]"
      ]
     },
     "execution_count": 6,
     "metadata": {},
     "output_type": "execute_result"
    }
   ],
   "source": [
    "# df_products 'product_name' to string\n",
    "df_products['product_name'] = df_products['product_name'].astype('string')\n",
    "df_products['product_name'].dtypes"
   ]
  },
  {
   "cell_type": "markdown",
   "id": "d0a6d354",
   "metadata": {},
   "source": [
    "### 3.2 Casting to numeric data type"
   ]
  },
  {
   "cell_type": "code",
   "execution_count": 7,
   "id": "bfc4e692",
   "metadata": {},
   "outputs": [],
   "source": [
    "# df_order_products 'add_to_cart_order' to int\n",
    "find_fail_conversion_to_numeric(df_order_products, 'add_to_cart_order')"
   ]
  },
  {
   "cell_type": "code",
   "execution_count": 8,
   "id": "e6f1ff48",
   "metadata": {},
   "outputs": [
    {
     "data": {
      "text/plain": [
       "Int64Dtype()"
      ]
     },
     "execution_count": 8,
     "metadata": {},
     "output_type": "execute_result"
    }
   ],
   "source": [
    "df_orders_products = convert_object_to_numeric(df_order_products, type='float', include=['add_to_cart_order'])\n",
    "df_order_products['add_to_cart_order'] = df_order_products['add_to_cart_order'].astype('Int64')\n",
    "df_order_products['add_to_cart_order'].dtypes"
   ]
  },
  {
   "cell_type": "markdown",
   "id": "530de5bc",
   "metadata": {},
   "source": [
    "### 3.3 Casting to category data type"
   ]
  },
  {
   "cell_type": "code",
   "execution_count": 9,
   "id": "f9d47bb1",
   "metadata": {},
   "outputs": [
    {
     "data": {
      "text/html": [
       "ℹ> Column '<i>order_dow</i>' is <b>not numeric</b>. Skipping..."
      ],
      "text/plain": [
       "<IPython.core.display.HTML object>"
      ]
     },
     "metadata": {},
     "output_type": "display_data"
    },
    {
     "data": {
      "application/vnd.microsoft.datawrangler.viewer.v0+json": {
       "columns": [
        {
         "name": "index",
         "rawType": "int64",
         "type": "integer"
        },
        {
         "name": "order_id",
         "rawType": "int64",
         "type": "integer"
        },
        {
         "name": "user_id",
         "rawType": "int64",
         "type": "integer"
        },
        {
         "name": "order_number",
         "rawType": "int64",
         "type": "integer"
        },
        {
         "name": "order_dow",
         "rawType": "category",
         "type": "unknown"
        },
        {
         "name": "order_hour_of_day",
         "rawType": "int64",
         "type": "integer"
        },
        {
         "name": "days_since_prior_order",
         "rawType": "int64",
         "type": "integer"
        }
       ],
       "ref": "cfebb682-9004-45ab-a9c2-0e45199d4e86",
       "rows": [
        [
         "0",
         "1515936",
         "183418",
         "11",
         "saturday",
         "13",
         "30"
        ],
        [
         "1",
         "1690866",
         "163593",
         "5",
         "friday",
         "12",
         "9"
        ],
        [
         "2",
         "1454967",
         "39980",
         "4",
         "friday",
         "19",
         "2"
        ],
        [
         "3",
         "1768857",
         "82516",
         "56",
         "sunday",
         "20",
         "10"
        ],
        [
         "4",
         "3007858",
         "196724",
         "2",
         "thursday",
         "12",
         "17"
        ],
        [
         "5",
         "1843871",
         "20084",
         "5",
         "sunday",
         "11",
         "15"
        ],
        [
         "6",
         "2511640",
         "148233",
         "40",
         "wednesday",
         "8",
         "2"
        ],
        [
         "7",
         "2521283",
         "97711",
         "2",
         "sunday",
         "18",
         "22"
        ],
        [
         "8",
         "2266494",
         "34954",
         "40",
         "friday",
         "15",
         "4"
        ],
        [
         "9",
         "446014",
         "15356",
         "2",
         "thursday",
         "8",
         "10"
        ],
        [
         "10",
         "1162566",
         "43738",
         "33",
         "thursday",
         "11",
         "2"
        ],
        [
         "11",
         "102585",
         "191558",
         "18",
         "saturday",
         "16",
         "8"
        ],
        [
         "12",
         "2276302",
         "190167",
         "21",
         "monday",
         "12",
         "2"
        ],
        [
         "13",
         "782916",
         "36310",
         "34",
         "friday",
         "9",
         "3"
        ],
        [
         "14",
         "2843219",
         "74699",
         "4",
         "saturday",
         "11",
         "30"
        ],
        [
         "15",
         "1989200",
         "71810",
         "4",
         "monday",
         "9",
         "12"
        ],
        [
         "16",
         "3109465",
         "55090",
         "19",
         "wednesday",
         "15",
         "9"
        ],
        [
         "17",
         "727519",
         "146663",
         "7",
         "thursday",
         "22",
         "11"
        ],
        [
         "18",
         "556588",
         "6801",
         "63",
         "friday",
         "11",
         "7"
        ],
        [
         "19",
         "294269",
         "107523",
         "29",
         "tuesday",
         "10",
         "1"
        ],
        [
         "20",
         "50934",
         "178510",
         "9",
         "saturday",
         "9",
         "5"
        ],
        [
         "21",
         "3097921",
         "97319",
         "40",
         "thursday",
         "9",
         "8"
        ],
        [
         "22",
         "1546269",
         "182211",
         "12",
         "monday",
         "15",
         "6"
        ],
        [
         "23",
         "3406282",
         "19356",
         "21",
         "sunday",
         "0",
         "14"
        ],
        [
         "24",
         "3358682",
         "162252",
         "14",
         "friday",
         "8",
         "5"
        ],
        [
         "25",
         "1895419",
         "169793",
         "2",
         "sunday",
         "11",
         "8"
        ],
        [
         "26",
         "1844247",
         "122558",
         "4",
         "saturday",
         "18",
         "30"
        ],
        [
         "27",
         "457775",
         "61263",
         "24",
         "sunday",
         "16",
         "7"
        ],
        [
         "28",
         "133707",
         "182261",
         "1",
         "wednesday",
         "10",
         "0"
        ],
        [
         "29",
         "547066",
         "278",
         "38",
         "monday",
         "14",
         "4"
        ],
        [
         "30",
         "1890318",
         "193501",
         "3",
         "wednesday",
         "15",
         "30"
        ],
        [
         "31",
         "1804574",
         "195874",
         "4",
         "monday",
         "14",
         "30"
        ],
        [
         "32",
         "2744097",
         "5316",
         "27",
         "tuesday",
         "17",
         "8"
        ],
        [
         "33",
         "2672948",
         "159620",
         "8",
         "friday",
         "16",
         "3"
        ],
        [
         "34",
         "1864378",
         "94267",
         "25",
         "sunday",
         "11",
         "7"
        ],
        [
         "35",
         "125325",
         "106853",
         "6",
         "wednesday",
         "19",
         "30"
        ],
        [
         "36",
         "3378084",
         "127629",
         "21",
         "monday",
         "10",
         "20"
        ],
        [
         "37",
         "1559475",
         "94261",
         "7",
         "sunday",
         "1",
         "8"
        ],
        [
         "38",
         "6891",
         "61176",
         "6",
         "saturday",
         "16",
         "30"
        ],
        [
         "39",
         "1673791",
         "50",
         "8",
         "saturday",
         "14",
         "3"
        ],
        [
         "40",
         "1521693",
         "51377",
         "2",
         "thursday",
         "14",
         "15"
        ],
        [
         "41",
         "939348",
         "21335",
         "28",
         "tuesday",
         "15",
         "6"
        ],
        [
         "42",
         "3229994",
         "37136",
         "9",
         "saturday",
         "12",
         "30"
        ],
        [
         "43",
         "698527",
         "95296",
         "58",
         "wednesday",
         "14",
         "22"
        ],
        [
         "44",
         "1590582",
         "85603",
         "2",
         "monday",
         "20",
         "16"
        ],
        [
         "45",
         "2057617",
         "88111",
         "8",
         "monday",
         "7",
         "6"
        ],
        [
         "46",
         "2398578",
         "84825",
         "2",
         "tuesday",
         "17",
         "4"
        ],
        [
         "47",
         "80255",
         "11655",
         "17",
         "thursday",
         "8",
         "30"
        ],
        [
         "48",
         "3247802",
         "118480",
         "13",
         "sunday",
         "11",
         "8"
        ],
        [
         "49",
         "2161799",
         "87345",
         "7",
         "sunday",
         "10",
         "24"
        ]
       ],
       "shape": {
        "columns": 6,
        "rows": 478952
       }
      },
      "text/html": [
       "<div>\n",
       "<style scoped>\n",
       "    .dataframe tbody tr th:only-of-type {\n",
       "        vertical-align: middle;\n",
       "    }\n",
       "\n",
       "    .dataframe tbody tr th {\n",
       "        vertical-align: top;\n",
       "    }\n",
       "\n",
       "    .dataframe thead th {\n",
       "        text-align: right;\n",
       "    }\n",
       "</style>\n",
       "<table border=\"1\" class=\"dataframe\">\n",
       "  <thead>\n",
       "    <tr style=\"text-align: right;\">\n",
       "      <th></th>\n",
       "      <th>order_id</th>\n",
       "      <th>user_id</th>\n",
       "      <th>order_number</th>\n",
       "      <th>order_dow</th>\n",
       "      <th>order_hour_of_day</th>\n",
       "      <th>days_since_prior_order</th>\n",
       "    </tr>\n",
       "  </thead>\n",
       "  <tbody>\n",
       "    <tr>\n",
       "      <th>0</th>\n",
       "      <td>1515936</td>\n",
       "      <td>183418</td>\n",
       "      <td>11</td>\n",
       "      <td>saturday</td>\n",
       "      <td>13</td>\n",
       "      <td>30</td>\n",
       "    </tr>\n",
       "    <tr>\n",
       "      <th>1</th>\n",
       "      <td>1690866</td>\n",
       "      <td>163593</td>\n",
       "      <td>5</td>\n",
       "      <td>friday</td>\n",
       "      <td>12</td>\n",
       "      <td>9</td>\n",
       "    </tr>\n",
       "    <tr>\n",
       "      <th>2</th>\n",
       "      <td>1454967</td>\n",
       "      <td>39980</td>\n",
       "      <td>4</td>\n",
       "      <td>friday</td>\n",
       "      <td>19</td>\n",
       "      <td>2</td>\n",
       "    </tr>\n",
       "    <tr>\n",
       "      <th>3</th>\n",
       "      <td>1768857</td>\n",
       "      <td>82516</td>\n",
       "      <td>56</td>\n",
       "      <td>sunday</td>\n",
       "      <td>20</td>\n",
       "      <td>10</td>\n",
       "    </tr>\n",
       "    <tr>\n",
       "      <th>4</th>\n",
       "      <td>3007858</td>\n",
       "      <td>196724</td>\n",
       "      <td>2</td>\n",
       "      <td>thursday</td>\n",
       "      <td>12</td>\n",
       "      <td>17</td>\n",
       "    </tr>\n",
       "    <tr>\n",
       "      <th>...</th>\n",
       "      <td>...</td>\n",
       "      <td>...</td>\n",
       "      <td>...</td>\n",
       "      <td>...</td>\n",
       "      <td>...</td>\n",
       "      <td>...</td>\n",
       "    </tr>\n",
       "    <tr>\n",
       "      <th>478947</th>\n",
       "      <td>3210681</td>\n",
       "      <td>5617</td>\n",
       "      <td>5</td>\n",
       "      <td>monday</td>\n",
       "      <td>14</td>\n",
       "      <td>7</td>\n",
       "    </tr>\n",
       "    <tr>\n",
       "      <th>478948</th>\n",
       "      <td>3270802</td>\n",
       "      <td>112087</td>\n",
       "      <td>2</td>\n",
       "      <td>wednesday</td>\n",
       "      <td>13</td>\n",
       "      <td>6</td>\n",
       "    </tr>\n",
       "    <tr>\n",
       "      <th>478949</th>\n",
       "      <td>885349</td>\n",
       "      <td>82944</td>\n",
       "      <td>16</td>\n",
       "      <td>tuesday</td>\n",
       "      <td>11</td>\n",
       "      <td>6</td>\n",
       "    </tr>\n",
       "    <tr>\n",
       "      <th>478950</th>\n",
       "      <td>216274</td>\n",
       "      <td>4391</td>\n",
       "      <td>3</td>\n",
       "      <td>wednesday</td>\n",
       "      <td>8</td>\n",
       "      <td>8</td>\n",
       "    </tr>\n",
       "    <tr>\n",
       "      <th>478951</th>\n",
       "      <td>2071924</td>\n",
       "      <td>1730</td>\n",
       "      <td>18</td>\n",
       "      <td>monday</td>\n",
       "      <td>14</td>\n",
       "      <td>15</td>\n",
       "    </tr>\n",
       "  </tbody>\n",
       "</table>\n",
       "<p>478952 rows × 6 columns</p>\n",
       "</div>"
      ],
      "text/plain": [
       "        order_id  user_id  order_number  order_dow  order_hour_of_day  days_since_prior_order\n",
       "0        1515936   183418            11   saturday                 13                      30\n",
       "1        1690866   163593             5     friday                 12                       9\n",
       "2        1454967    39980             4     friday                 19                       2\n",
       "3        1768857    82516            56     sunday                 20                      10\n",
       "4        3007858   196724             2   thursday                 12                      17\n",
       "...          ...      ...           ...        ...                ...                     ...\n",
       "478947   3210681     5617             5     monday                 14                       7\n",
       "478948   3270802   112087             2  wednesday                 13                       6\n",
       "478949    885349    82944            16    tuesday                 11                       6\n",
       "478950    216274     4391             3  wednesday                  8                       8\n",
       "478951   2071924     1730            18     monday                 14                      15\n",
       "\n",
       "[478952 rows x 6 columns]"
      ]
     },
     "execution_count": 9,
     "metadata": {},
     "output_type": "execute_result"
    }
   ],
   "source": [
    "# df_orders 'order_dow' to category\n",
    "df_orders = convert_numday_strday(df_orders, ['order_dow'])\n",
    "df_orders['order_dow'] = df_orders['order_dow'].astype('category')\n",
    "df_orders"
   ]
  },
  {
   "cell_type": "code",
   "execution_count": 10,
   "id": "6302402e",
   "metadata": {},
   "outputs": [
    {
     "data": {
      "text/plain": [
       "CategoricalDtype(categories=['friday', 'monday', 'saturday', 'sunday', 'thursday', 'tuesday', 'wednesday'], ordered=False, categories_dtype=object)"
      ]
     },
     "execution_count": 10,
     "metadata": {},
     "output_type": "execute_result"
    }
   ],
   "source": [
    "df_orders['order_dow'].dtypes"
   ]
  },
  {
   "cell_type": "code",
   "execution_count": 11,
   "id": "463ab0f7",
   "metadata": {},
   "outputs": [
    {
     "data": {
      "text/plain": [
       "CategoricalDtype(categories=[0, 1, 2, 3, 4, 5, 6, 7, 8, 9, 10, 11, 12, 13, 14, 15, 16, 17, 18, 19, 20, 21, 22, 23], ordered=False, categories_dtype=int64)"
      ]
     },
     "execution_count": 11,
     "metadata": {},
     "output_type": "execute_result"
    }
   ],
   "source": [
    "# df_orders 'order_hour_of_day' to category\n",
    "df_orders['order_hour_of_day'] = df_orders['order_hour_of_day'].astype('category')\n",
    "df_orders['order_hour_of_day'].dtypes\n"
   ]
  },
  {
   "cell_type": "code",
   "execution_count": 12,
   "id": "44a3c11d",
   "metadata": {},
   "outputs": [
    {
     "data": {
      "text/plain": [
       "CategoricalDtype(categories=[  1,   2,   3,   4,   5,   6,   7,   8,   9,  10,\n",
       "                  ...\n",
       "                  125, 126, 127, 128, 129, 130, 131, 132, 133, 134],\n",
       ", ordered=False, categories_dtype=int64)"
      ]
     },
     "execution_count": 12,
     "metadata": {},
     "output_type": "execute_result"
    }
   ],
   "source": [
    "# df_products 'aisle_id' to category\n",
    "df_products['aisle_id'] = df_products['aisle_id'].astype('category')\n",
    "df_products['aisle_id'].dtypes"
   ]
  },
  {
   "cell_type": "code",
   "execution_count": 13,
   "id": "7f97d129",
   "metadata": {},
   "outputs": [
    {
     "data": {
      "text/plain": [
       "CategoricalDtype(categories=[1, 2, 3, 4, 5, 6, 7, 8, 9, 10, 11, 12, 13, 14, 15, 16, 17, 18, 19, 20, 21], ordered=False, categories_dtype=int64)"
      ]
     },
     "execution_count": 13,
     "metadata": {},
     "output_type": "execute_result"
    }
   ],
   "source": [
    "# df_products 'department_id' to category\n",
    "df_products['department_id'] = df_products['department_id'].astype('category')\n",
    "df_products['department_id'].dtypes"
   ]
  },
  {
   "cell_type": "markdown",
   "id": "166c6add",
   "metadata": {},
   "source": [
    "## 4. Feature Engineering"
   ]
  },
  {
   "cell_type": "markdown",
   "id": "d97e720a",
   "metadata": {},
   "source": [
    "### 4.1 Order activity variation"
   ]
  },
  {
   "cell_type": "markdown",
   "id": "511db52e",
   "metadata": {},
   "source": [
    "#### 4.1.1 Order activity by day"
   ]
  },
  {
   "cell_type": "code",
   "execution_count": 14,
   "id": "1e4d59ee",
   "metadata": {},
   "outputs": [
    {
     "data": {
      "application/vnd.microsoft.datawrangler.viewer.v0+json": {
       "columns": [
        {
         "name": "index",
         "rawType": "int64",
         "type": "integer"
        },
        {
         "name": "order_id",
         "rawType": "int64",
         "type": "integer"
        },
        {
         "name": "user_id",
         "rawType": "int64",
         "type": "integer"
        },
        {
         "name": "order_number",
         "rawType": "int64",
         "type": "integer"
        },
        {
         "name": "order_dow",
         "rawType": "category",
         "type": "unknown"
        },
        {
         "name": "order_hour_of_day",
         "rawType": "category",
         "type": "unknown"
        },
        {
         "name": "days_since_prior_order",
         "rawType": "int64",
         "type": "integer"
        }
       ],
       "ref": "6e17cfb9-3a87-4940-bdcd-3c8fbf565300",
       "rows": [
        [
         "0",
         "1515936",
         "183418",
         "11",
         "saturday",
         "13",
         "30"
        ],
        [
         "1",
         "1690866",
         "163593",
         "5",
         "friday",
         "12",
         "9"
        ],
        [
         "2",
         "1454967",
         "39980",
         "4",
         "friday",
         "19",
         "2"
        ],
        [
         "3",
         "1768857",
         "82516",
         "56",
         "sunday",
         "20",
         "10"
        ],
        [
         "4",
         "3007858",
         "196724",
         "2",
         "thursday",
         "12",
         "17"
        ],
        [
         "5",
         "1843871",
         "20084",
         "5",
         "sunday",
         "11",
         "15"
        ],
        [
         "6",
         "2511640",
         "148233",
         "40",
         "wednesday",
         "8",
         "2"
        ],
        [
         "7",
         "2521283",
         "97711",
         "2",
         "sunday",
         "18",
         "22"
        ],
        [
         "8",
         "2266494",
         "34954",
         "40",
         "friday",
         "15",
         "4"
        ],
        [
         "9",
         "446014",
         "15356",
         "2",
         "thursday",
         "8",
         "10"
        ],
        [
         "10",
         "1162566",
         "43738",
         "33",
         "thursday",
         "11",
         "2"
        ],
        [
         "11",
         "102585",
         "191558",
         "18",
         "saturday",
         "16",
         "8"
        ],
        [
         "12",
         "2276302",
         "190167",
         "21",
         "monday",
         "12",
         "2"
        ],
        [
         "13",
         "782916",
         "36310",
         "34",
         "friday",
         "9",
         "3"
        ],
        [
         "14",
         "2843219",
         "74699",
         "4",
         "saturday",
         "11",
         "30"
        ],
        [
         "15",
         "1989200",
         "71810",
         "4",
         "monday",
         "9",
         "12"
        ],
        [
         "16",
         "3109465",
         "55090",
         "19",
         "wednesday",
         "15",
         "9"
        ],
        [
         "17",
         "727519",
         "146663",
         "7",
         "thursday",
         "22",
         "11"
        ],
        [
         "18",
         "556588",
         "6801",
         "63",
         "friday",
         "11",
         "7"
        ],
        [
         "19",
         "294269",
         "107523",
         "29",
         "tuesday",
         "10",
         "1"
        ],
        [
         "20",
         "50934",
         "178510",
         "9",
         "saturday",
         "9",
         "5"
        ],
        [
         "21",
         "3097921",
         "97319",
         "40",
         "thursday",
         "9",
         "8"
        ],
        [
         "22",
         "1546269",
         "182211",
         "12",
         "monday",
         "15",
         "6"
        ],
        [
         "23",
         "3406282",
         "19356",
         "21",
         "sunday",
         "0",
         "14"
        ],
        [
         "24",
         "3358682",
         "162252",
         "14",
         "friday",
         "8",
         "5"
        ],
        [
         "25",
         "1895419",
         "169793",
         "2",
         "sunday",
         "11",
         "8"
        ],
        [
         "26",
         "1844247",
         "122558",
         "4",
         "saturday",
         "18",
         "30"
        ],
        [
         "27",
         "457775",
         "61263",
         "24",
         "sunday",
         "16",
         "7"
        ],
        [
         "28",
         "133707",
         "182261",
         "1",
         "wednesday",
         "10",
         "0"
        ],
        [
         "29",
         "547066",
         "278",
         "38",
         "monday",
         "14",
         "4"
        ],
        [
         "30",
         "1890318",
         "193501",
         "3",
         "wednesday",
         "15",
         "30"
        ],
        [
         "31",
         "1804574",
         "195874",
         "4",
         "monday",
         "14",
         "30"
        ],
        [
         "32",
         "2744097",
         "5316",
         "27",
         "tuesday",
         "17",
         "8"
        ],
        [
         "33",
         "2672948",
         "159620",
         "8",
         "friday",
         "16",
         "3"
        ],
        [
         "34",
         "1864378",
         "94267",
         "25",
         "sunday",
         "11",
         "7"
        ],
        [
         "35",
         "125325",
         "106853",
         "6",
         "wednesday",
         "19",
         "30"
        ],
        [
         "36",
         "3378084",
         "127629",
         "21",
         "monday",
         "10",
         "20"
        ],
        [
         "37",
         "1559475",
         "94261",
         "7",
         "sunday",
         "1",
         "8"
        ],
        [
         "38",
         "6891",
         "61176",
         "6",
         "saturday",
         "16",
         "30"
        ],
        [
         "39",
         "1673791",
         "50",
         "8",
         "saturday",
         "14",
         "3"
        ],
        [
         "40",
         "1521693",
         "51377",
         "2",
         "thursday",
         "14",
         "15"
        ],
        [
         "41",
         "939348",
         "21335",
         "28",
         "tuesday",
         "15",
         "6"
        ],
        [
         "42",
         "3229994",
         "37136",
         "9",
         "saturday",
         "12",
         "30"
        ],
        [
         "43",
         "698527",
         "95296",
         "58",
         "wednesday",
         "14",
         "22"
        ],
        [
         "44",
         "1590582",
         "85603",
         "2",
         "monday",
         "20",
         "16"
        ],
        [
         "45",
         "2057617",
         "88111",
         "8",
         "monday",
         "7",
         "6"
        ],
        [
         "46",
         "2398578",
         "84825",
         "2",
         "tuesday",
         "17",
         "4"
        ],
        [
         "47",
         "80255",
         "11655",
         "17",
         "thursday",
         "8",
         "30"
        ],
        [
         "48",
         "3247802",
         "118480",
         "13",
         "sunday",
         "11",
         "8"
        ],
        [
         "49",
         "2161799",
         "87345",
         "7",
         "sunday",
         "10",
         "24"
        ]
       ],
       "shape": {
        "columns": 6,
        "rows": 478952
       }
      },
      "text/html": [
       "<div>\n",
       "<style scoped>\n",
       "    .dataframe tbody tr th:only-of-type {\n",
       "        vertical-align: middle;\n",
       "    }\n",
       "\n",
       "    .dataframe tbody tr th {\n",
       "        vertical-align: top;\n",
       "    }\n",
       "\n",
       "    .dataframe thead th {\n",
       "        text-align: right;\n",
       "    }\n",
       "</style>\n",
       "<table border=\"1\" class=\"dataframe\">\n",
       "  <thead>\n",
       "    <tr style=\"text-align: right;\">\n",
       "      <th></th>\n",
       "      <th>order_id</th>\n",
       "      <th>user_id</th>\n",
       "      <th>order_number</th>\n",
       "      <th>order_dow</th>\n",
       "      <th>order_hour_of_day</th>\n",
       "      <th>days_since_prior_order</th>\n",
       "    </tr>\n",
       "  </thead>\n",
       "  <tbody>\n",
       "    <tr>\n",
       "      <th>0</th>\n",
       "      <td>1515936</td>\n",
       "      <td>183418</td>\n",
       "      <td>11</td>\n",
       "      <td>saturday</td>\n",
       "      <td>13</td>\n",
       "      <td>30</td>\n",
       "    </tr>\n",
       "    <tr>\n",
       "      <th>1</th>\n",
       "      <td>1690866</td>\n",
       "      <td>163593</td>\n",
       "      <td>5</td>\n",
       "      <td>friday</td>\n",
       "      <td>12</td>\n",
       "      <td>9</td>\n",
       "    </tr>\n",
       "    <tr>\n",
       "      <th>2</th>\n",
       "      <td>1454967</td>\n",
       "      <td>39980</td>\n",
       "      <td>4</td>\n",
       "      <td>friday</td>\n",
       "      <td>19</td>\n",
       "      <td>2</td>\n",
       "    </tr>\n",
       "    <tr>\n",
       "      <th>3</th>\n",
       "      <td>1768857</td>\n",
       "      <td>82516</td>\n",
       "      <td>56</td>\n",
       "      <td>sunday</td>\n",
       "      <td>20</td>\n",
       "      <td>10</td>\n",
       "    </tr>\n",
       "    <tr>\n",
       "      <th>4</th>\n",
       "      <td>3007858</td>\n",
       "      <td>196724</td>\n",
       "      <td>2</td>\n",
       "      <td>thursday</td>\n",
       "      <td>12</td>\n",
       "      <td>17</td>\n",
       "    </tr>\n",
       "    <tr>\n",
       "      <th>...</th>\n",
       "      <td>...</td>\n",
       "      <td>...</td>\n",
       "      <td>...</td>\n",
       "      <td>...</td>\n",
       "      <td>...</td>\n",
       "      <td>...</td>\n",
       "    </tr>\n",
       "    <tr>\n",
       "      <th>478947</th>\n",
       "      <td>3210681</td>\n",
       "      <td>5617</td>\n",
       "      <td>5</td>\n",
       "      <td>monday</td>\n",
       "      <td>14</td>\n",
       "      <td>7</td>\n",
       "    </tr>\n",
       "    <tr>\n",
       "      <th>478948</th>\n",
       "      <td>3270802</td>\n",
       "      <td>112087</td>\n",
       "      <td>2</td>\n",
       "      <td>wednesday</td>\n",
       "      <td>13</td>\n",
       "      <td>6</td>\n",
       "    </tr>\n",
       "    <tr>\n",
       "      <th>478949</th>\n",
       "      <td>885349</td>\n",
       "      <td>82944</td>\n",
       "      <td>16</td>\n",
       "      <td>tuesday</td>\n",
       "      <td>11</td>\n",
       "      <td>6</td>\n",
       "    </tr>\n",
       "    <tr>\n",
       "      <th>478950</th>\n",
       "      <td>216274</td>\n",
       "      <td>4391</td>\n",
       "      <td>3</td>\n",
       "      <td>wednesday</td>\n",
       "      <td>8</td>\n",
       "      <td>8</td>\n",
       "    </tr>\n",
       "    <tr>\n",
       "      <th>478951</th>\n",
       "      <td>2071924</td>\n",
       "      <td>1730</td>\n",
       "      <td>18</td>\n",
       "      <td>monday</td>\n",
       "      <td>14</td>\n",
       "      <td>15</td>\n",
       "    </tr>\n",
       "  </tbody>\n",
       "</table>\n",
       "<p>478952 rows × 6 columns</p>\n",
       "</div>"
      ],
      "text/plain": [
       "        order_id  user_id  order_number  order_dow order_hour_of_day  days_since_prior_order\n",
       "0        1515936   183418            11   saturday                13                      30\n",
       "1        1690866   163593             5     friday                12                       9\n",
       "2        1454967    39980             4     friday                19                       2\n",
       "3        1768857    82516            56     sunday                20                      10\n",
       "4        3007858   196724             2   thursday                12                      17\n",
       "...          ...      ...           ...        ...               ...                     ...\n",
       "478947   3210681     5617             5     monday                14                       7\n",
       "478948   3270802   112087             2  wednesday                13                       6\n",
       "478949    885349    82944            16    tuesday                11                       6\n",
       "478950    216274     4391             3  wednesday                 8                       8\n",
       "478951   2071924     1730            18     monday                14                      15\n",
       "\n",
       "[478952 rows x 6 columns]"
      ]
     },
     "execution_count": 14,
     "metadata": {},
     "output_type": "execute_result"
    }
   ],
   "source": [
    "df_orders"
   ]
  },
  {
   "cell_type": "code",
   "execution_count": 17,
   "id": "e6140c8b",
   "metadata": {},
   "outputs": [
    {
     "data": {
      "application/vnd.microsoft.datawrangler.viewer.v0+json": {
       "columns": [
        {
         "name": "index",
         "rawType": "int64",
         "type": "integer"
        },
        {
         "name": "order_dow",
         "rawType": "category",
         "type": "unknown"
        },
        {
         "name": "order_id",
         "rawType": "int64",
         "type": "integer"
        }
       ],
       "ref": "960fef1a-6a07-435a-9fb3-c556765600db",
       "rows": [
        [
         "0",
         "friday",
         "63488"
        ],
        [
         "1",
         "monday",
         "82185"
        ],
        [
         "2",
         "saturday",
         "62649"
        ],
        [
         "3",
         "sunday",
         "84090"
        ],
        [
         "4",
         "thursday",
         "59810"
        ],
        [
         "5",
         "tuesday",
         "65833"
        ],
        [
         "6",
         "wednesday",
         "60897"
        ]
       ],
       "shape": {
        "columns": 2,
        "rows": 7
       }
      },
      "text/html": [
       "<div>\n",
       "<style scoped>\n",
       "    .dataframe tbody tr th:only-of-type {\n",
       "        vertical-align: middle;\n",
       "    }\n",
       "\n",
       "    .dataframe tbody tr th {\n",
       "        vertical-align: top;\n",
       "    }\n",
       "\n",
       "    .dataframe thead th {\n",
       "        text-align: right;\n",
       "    }\n",
       "</style>\n",
       "<table border=\"1\" class=\"dataframe\">\n",
       "  <thead>\n",
       "    <tr style=\"text-align: right;\">\n",
       "      <th></th>\n",
       "      <th>order_dow</th>\n",
       "      <th>order_id</th>\n",
       "    </tr>\n",
       "  </thead>\n",
       "  <tbody>\n",
       "    <tr>\n",
       "      <th>0</th>\n",
       "      <td>friday</td>\n",
       "      <td>63488</td>\n",
       "    </tr>\n",
       "    <tr>\n",
       "      <th>1</th>\n",
       "      <td>monday</td>\n",
       "      <td>82185</td>\n",
       "    </tr>\n",
       "    <tr>\n",
       "      <th>2</th>\n",
       "      <td>saturday</td>\n",
       "      <td>62649</td>\n",
       "    </tr>\n",
       "    <tr>\n",
       "      <th>3</th>\n",
       "      <td>sunday</td>\n",
       "      <td>84090</td>\n",
       "    </tr>\n",
       "    <tr>\n",
       "      <th>4</th>\n",
       "      <td>thursday</td>\n",
       "      <td>59810</td>\n",
       "    </tr>\n",
       "    <tr>\n",
       "      <th>5</th>\n",
       "      <td>tuesday</td>\n",
       "      <td>65833</td>\n",
       "    </tr>\n",
       "    <tr>\n",
       "      <th>6</th>\n",
       "      <td>wednesday</td>\n",
       "      <td>60897</td>\n",
       "    </tr>\n",
       "  </tbody>\n",
       "</table>\n",
       "</div>"
      ],
      "text/plain": [
       "   order_dow  order_id\n",
       "0     friday     63488\n",
       "1     monday     82185\n",
       "2   saturday     62649\n",
       "3     sunday     84090\n",
       "4   thursday     59810\n",
       "5    tuesday     65833\n",
       "6  wednesday     60897"
      ]
     },
     "execution_count": 17,
     "metadata": {},
     "output_type": "execute_result"
    }
   ],
   "source": [
    "# Days with most order activity\n",
    "pivot_orders_activity_day = pd.pivot_table(df_orders, index='order_dow', values='order_id', aggfunc='count', observed=True)\n",
    "pivot_orders_activity_day = pivot_orders_activity_day.reset_index()\n",
    "pivot_orders_activity_day\n"
   ]
  },
  {
   "cell_type": "code",
   "execution_count": 20,
   "id": "e6606df2",
   "metadata": {},
   "outputs": [],
   "source": [
    "project_root = Path.cwd().parent\n",
    "processed_path = project_root / \"data\" / \"processed\" / \"order_activity\" / \"orders_activity_day.csv\"\n",
    "\n",
    "pivot_orders_activity_day.to_csv(processed_path, index=False)"
   ]
  },
  {
   "cell_type": "markdown",
   "id": "f0faba31",
   "metadata": {},
   "source": [
    "#### 4.1.2 Order activity by time"
   ]
  },
  {
   "cell_type": "code",
   "execution_count": 19,
   "id": "45d2894e",
   "metadata": {},
   "outputs": [
    {
     "data": {
      "application/vnd.microsoft.datawrangler.viewer.v0+json": {
       "columns": [
        {
         "name": "index",
         "rawType": "int64",
         "type": "integer"
        },
        {
         "name": "order_hour_of_day",
         "rawType": "category",
         "type": "unknown"
        },
        {
         "name": "order_id",
         "rawType": "int64",
         "type": "integer"
        }
       ],
       "ref": "8bbd6c0e-8ea1-4c38-bb9a-5574ad171ef5",
       "rows": [
        [
         "0",
         "0",
         "3180"
        ],
        [
         "1",
         "1",
         "1763"
        ],
        [
         "2",
         "2",
         "989"
        ],
        [
         "3",
         "3",
         "770"
        ],
        [
         "4",
         "4",
         "765"
        ],
        [
         "5",
         "5",
         "1371"
        ],
        [
         "6",
         "6",
         "4215"
        ],
        [
         "7",
         "7",
         "13043"
        ],
        [
         "8",
         "8",
         "25024"
        ],
        [
         "9",
         "9",
         "35896"
        ],
        [
         "10",
         "10",
         "40578"
        ],
        [
         "11",
         "11",
         "40032"
        ],
        [
         "12",
         "12",
         "38034"
        ],
        [
         "13",
         "13",
         "39007"
        ],
        [
         "14",
         "14",
         "39631"
        ],
        [
         "15",
         "15",
         "39789"
        ],
        [
         "16",
         "16",
         "38112"
        ],
        [
         "17",
         "17",
         "31930"
        ],
        [
         "18",
         "18",
         "25510"
        ],
        [
         "19",
         "19",
         "19547"
        ],
        [
         "20",
         "20",
         "14624"
        ],
        [
         "21",
         "21",
         "11019"
        ],
        [
         "22",
         "22",
         "8512"
        ],
        [
         "23",
         "23",
         "5611"
        ]
       ],
       "shape": {
        "columns": 2,
        "rows": 24
       }
      },
      "text/html": [
       "<div>\n",
       "<style scoped>\n",
       "    .dataframe tbody tr th:only-of-type {\n",
       "        vertical-align: middle;\n",
       "    }\n",
       "\n",
       "    .dataframe tbody tr th {\n",
       "        vertical-align: top;\n",
       "    }\n",
       "\n",
       "    .dataframe thead th {\n",
       "        text-align: right;\n",
       "    }\n",
       "</style>\n",
       "<table border=\"1\" class=\"dataframe\">\n",
       "  <thead>\n",
       "    <tr style=\"text-align: right;\">\n",
       "      <th></th>\n",
       "      <th>order_hour_of_day</th>\n",
       "      <th>order_id</th>\n",
       "    </tr>\n",
       "  </thead>\n",
       "  <tbody>\n",
       "    <tr>\n",
       "      <th>0</th>\n",
       "      <td>0</td>\n",
       "      <td>3180</td>\n",
       "    </tr>\n",
       "    <tr>\n",
       "      <th>1</th>\n",
       "      <td>1</td>\n",
       "      <td>1763</td>\n",
       "    </tr>\n",
       "    <tr>\n",
       "      <th>2</th>\n",
       "      <td>2</td>\n",
       "      <td>989</td>\n",
       "    </tr>\n",
       "    <tr>\n",
       "      <th>3</th>\n",
       "      <td>3</td>\n",
       "      <td>770</td>\n",
       "    </tr>\n",
       "    <tr>\n",
       "      <th>4</th>\n",
       "      <td>4</td>\n",
       "      <td>765</td>\n",
       "    </tr>\n",
       "    <tr>\n",
       "      <th>5</th>\n",
       "      <td>5</td>\n",
       "      <td>1371</td>\n",
       "    </tr>\n",
       "    <tr>\n",
       "      <th>6</th>\n",
       "      <td>6</td>\n",
       "      <td>4215</td>\n",
       "    </tr>\n",
       "    <tr>\n",
       "      <th>7</th>\n",
       "      <td>7</td>\n",
       "      <td>13043</td>\n",
       "    </tr>\n",
       "    <tr>\n",
       "      <th>8</th>\n",
       "      <td>8</td>\n",
       "      <td>25024</td>\n",
       "    </tr>\n",
       "    <tr>\n",
       "      <th>9</th>\n",
       "      <td>9</td>\n",
       "      <td>35896</td>\n",
       "    </tr>\n",
       "    <tr>\n",
       "      <th>10</th>\n",
       "      <td>10</td>\n",
       "      <td>40578</td>\n",
       "    </tr>\n",
       "    <tr>\n",
       "      <th>11</th>\n",
       "      <td>11</td>\n",
       "      <td>40032</td>\n",
       "    </tr>\n",
       "    <tr>\n",
       "      <th>12</th>\n",
       "      <td>12</td>\n",
       "      <td>38034</td>\n",
       "    </tr>\n",
       "    <tr>\n",
       "      <th>13</th>\n",
       "      <td>13</td>\n",
       "      <td>39007</td>\n",
       "    </tr>\n",
       "    <tr>\n",
       "      <th>14</th>\n",
       "      <td>14</td>\n",
       "      <td>39631</td>\n",
       "    </tr>\n",
       "    <tr>\n",
       "      <th>15</th>\n",
       "      <td>15</td>\n",
       "      <td>39789</td>\n",
       "    </tr>\n",
       "    <tr>\n",
       "      <th>16</th>\n",
       "      <td>16</td>\n",
       "      <td>38112</td>\n",
       "    </tr>\n",
       "    <tr>\n",
       "      <th>17</th>\n",
       "      <td>17</td>\n",
       "      <td>31930</td>\n",
       "    </tr>\n",
       "    <tr>\n",
       "      <th>18</th>\n",
       "      <td>18</td>\n",
       "      <td>25510</td>\n",
       "    </tr>\n",
       "    <tr>\n",
       "      <th>19</th>\n",
       "      <td>19</td>\n",
       "      <td>19547</td>\n",
       "    </tr>\n",
       "    <tr>\n",
       "      <th>20</th>\n",
       "      <td>20</td>\n",
       "      <td>14624</td>\n",
       "    </tr>\n",
       "    <tr>\n",
       "      <th>21</th>\n",
       "      <td>21</td>\n",
       "      <td>11019</td>\n",
       "    </tr>\n",
       "    <tr>\n",
       "      <th>22</th>\n",
       "      <td>22</td>\n",
       "      <td>8512</td>\n",
       "    </tr>\n",
       "    <tr>\n",
       "      <th>23</th>\n",
       "      <td>23</td>\n",
       "      <td>5611</td>\n",
       "    </tr>\n",
       "  </tbody>\n",
       "</table>\n",
       "</div>"
      ],
      "text/plain": [
       "   order_hour_of_day  order_id\n",
       "0                  0      3180\n",
       "1                  1      1763\n",
       "2                  2       989\n",
       "3                  3       770\n",
       "4                  4       765\n",
       "5                  5      1371\n",
       "6                  6      4215\n",
       "7                  7     13043\n",
       "8                  8     25024\n",
       "9                  9     35896\n",
       "10                10     40578\n",
       "11                11     40032\n",
       "12                12     38034\n",
       "13                13     39007\n",
       "14                14     39631\n",
       "15                15     39789\n",
       "16                16     38112\n",
       "17                17     31930\n",
       "18                18     25510\n",
       "19                19     19547\n",
       "20                20     14624\n",
       "21                21     11019\n",
       "22                22      8512\n",
       "23                23      5611"
      ]
     },
     "execution_count": 19,
     "metadata": {},
     "output_type": "execute_result"
    }
   ],
   "source": [
    "# Hours with most order activity\n",
    "pivot_orders_activity_time = pd.pivot_table(df_orders, index='order_hour_of_day', values='order_id', aggfunc='count', observed=True)\n",
    "pivot_orders_activity_time = pivot_orders_activity_time.reset_index()\n",
    "pivot_orders_activity_time"
   ]
  },
  {
   "cell_type": "code",
   "execution_count": 21,
   "id": "b3f1de39",
   "metadata": {},
   "outputs": [],
   "source": [
    "project_root = Path.cwd().parent\n",
    "processed_path = project_root / \"data\" / \"processed\" / \"order_activity\" / \"orders_activity_time.csv\"\n",
    "\n",
    "pivot_orders_activity_time.to_csv(processed_path, index=False)"
   ]
  },
  {
   "cell_type": "markdown",
   "id": "903e4be8",
   "metadata": {},
   "source": [
    "#### 4.1.3 Order activity frequency"
   ]
  },
  {
   "cell_type": "code",
   "execution_count": 22,
   "id": "4fe7a4ee",
   "metadata": {},
   "outputs": [
    {
     "data": {
      "application/vnd.microsoft.datawrangler.viewer.v0+json": {
       "columns": [
        {
         "name": "user_id",
         "rawType": "int64",
         "type": "integer"
        },
        {
         "name": "avg_frequency_order",
         "rawType": "float64",
         "type": "float"
        }
       ],
       "ref": "837dc630-e130-4709-947b-5375598c9fd0",
       "rows": [
        [
         "2",
         "4.0"
        ],
        [
         "4",
         "24.5"
        ],
        [
         "5",
         "19.0"
        ],
        [
         "6",
         "11.0"
        ],
        [
         "7",
         "4.0"
        ],
        [
         "10",
         "30.0"
        ],
        [
         "11",
         "19.0"
        ],
        [
         "12",
         "14.0"
        ],
        [
         "13",
         "4.333333333333333"
        ],
        [
         "14",
         "18.25"
        ],
        [
         "15",
         "6.0"
        ],
        [
         "16",
         "20.666666666666668"
        ],
        [
         "17",
         "5.0"
        ],
        [
         "19",
         "11.0"
        ],
        [
         "20",
         "0.0"
        ],
        [
         "21",
         "7.666666666666667"
        ],
        [
         "22",
         "17.5"
        ],
        [
         "23",
         "30.0"
        ],
        [
         "24",
         "24.0"
        ],
        [
         "25",
         "30.0"
        ],
        [
         "26",
         "7.5"
        ],
        [
         "27",
         "4.2"
        ],
        [
         "28",
         "12.6"
        ],
        [
         "29",
         "13.0"
        ],
        [
         "30",
         "11.0"
        ],
        [
         "31",
         "5.0"
        ],
        [
         "32",
         "30.0"
        ],
        [
         "33",
         "30.0"
        ],
        [
         "34",
         "0.0"
        ],
        [
         "35",
         "21.5"
        ],
        [
         "36",
         "7.857142857142857"
        ],
        [
         "37",
         "9.0"
        ],
        [
         "38",
         "22.0"
        ],
        [
         "40",
         "5.333333333333333"
        ],
        [
         "42",
         "13.0"
        ],
        [
         "43",
         "7.0"
        ],
        [
         "46",
         "7.0"
        ],
        [
         "47",
         "5.0"
        ],
        [
         "50",
         "5.0"
        ],
        [
         "51",
         "16.0"
        ],
        [
         "52",
         "8.0"
        ],
        [
         "54",
         "2.6363636363636362"
        ],
        [
         "55",
         "30.0"
        ],
        [
         "56",
         "2.5"
        ],
        [
         "57",
         "5.0"
        ],
        [
         "58",
         "11.0"
        ],
        [
         "59",
         "24.333333333333332"
        ],
        [
         "60",
         "29.0"
        ],
        [
         "61",
         "14.0"
        ],
        [
         "62",
         "4.0"
        ]
       ],
       "shape": {
        "columns": 1,
        "rows": 157437
       }
      },
      "text/html": [
       "<div>\n",
       "<style scoped>\n",
       "    .dataframe tbody tr th:only-of-type {\n",
       "        vertical-align: middle;\n",
       "    }\n",
       "\n",
       "    .dataframe tbody tr th {\n",
       "        vertical-align: top;\n",
       "    }\n",
       "\n",
       "    .dataframe thead th {\n",
       "        text-align: right;\n",
       "    }\n",
       "</style>\n",
       "<table border=\"1\" class=\"dataframe\">\n",
       "  <thead>\n",
       "    <tr style=\"text-align: right;\">\n",
       "      <th></th>\n",
       "      <th>avg_frequency_order</th>\n",
       "    </tr>\n",
       "    <tr>\n",
       "      <th>user_id</th>\n",
       "      <th></th>\n",
       "    </tr>\n",
       "  </thead>\n",
       "  <tbody>\n",
       "    <tr>\n",
       "      <th>2</th>\n",
       "      <td>4.000000</td>\n",
       "    </tr>\n",
       "    <tr>\n",
       "      <th>4</th>\n",
       "      <td>24.500000</td>\n",
       "    </tr>\n",
       "    <tr>\n",
       "      <th>5</th>\n",
       "      <td>19.000000</td>\n",
       "    </tr>\n",
       "    <tr>\n",
       "      <th>6</th>\n",
       "      <td>11.000000</td>\n",
       "    </tr>\n",
       "    <tr>\n",
       "      <th>7</th>\n",
       "      <td>4.000000</td>\n",
       "    </tr>\n",
       "    <tr>\n",
       "      <th>...</th>\n",
       "      <td>...</td>\n",
       "    </tr>\n",
       "    <tr>\n",
       "      <th>206203</th>\n",
       "      <td>30.000000</td>\n",
       "    </tr>\n",
       "    <tr>\n",
       "      <th>206206</th>\n",
       "      <td>5.000000</td>\n",
       "    </tr>\n",
       "    <tr>\n",
       "      <th>206207</th>\n",
       "      <td>9.400000</td>\n",
       "    </tr>\n",
       "    <tr>\n",
       "      <th>206208</th>\n",
       "      <td>5.888889</td>\n",
       "    </tr>\n",
       "    <tr>\n",
       "      <th>206209</th>\n",
       "      <td>18.500000</td>\n",
       "    </tr>\n",
       "  </tbody>\n",
       "</table>\n",
       "<p>157437 rows × 1 columns</p>\n",
       "</div>"
      ],
      "text/plain": [
       "         avg_frequency_order\n",
       "user_id                     \n",
       "2                   4.000000\n",
       "4                  24.500000\n",
       "5                  19.000000\n",
       "6                  11.000000\n",
       "7                   4.000000\n",
       "...                      ...\n",
       "206203             30.000000\n",
       "206206              5.000000\n",
       "206207              9.400000\n",
       "206208              5.888889\n",
       "206209             18.500000\n",
       "\n",
       "[157437 rows x 1 columns]"
      ]
     },
     "execution_count": 22,
     "metadata": {},
     "output_type": "execute_result"
    }
   ],
   "source": [
    "# Tipical order frequency\n",
    "df_orders_filtered = df_orders.loc[(df_orders['days_since_prior_order'] > 0)]\n",
    "pivot_orders_activity_frequency = pd.pivot_table(df_orders, index=['user_id'], values='days_since_prior_order', aggfunc='mean')\n",
    "pivot_orders_activity_frequency = pivot_orders_activity_frequency.rename(columns={'days_since_prior_order': 'avg_frequency_order'})\n",
    "pivot_orders_activity_frequency"
   ]
  },
  {
   "cell_type": "code",
   "execution_count": 23,
   "id": "f178a4b3",
   "metadata": {},
   "outputs": [],
   "source": [
    "project_root = Path.cwd().parent\n",
    "processed_path = project_root / \"data\" / \"processed\" / \"order_activity\" / \"orders_activity_frequency.csv\"\n",
    "\n",
    "pivot_orders_activity_frequency.to_csv(processed_path, index=False)"
   ]
  },
  {
   "cell_type": "markdown",
   "id": "bc2de2ee",
   "metadata": {},
   "source": [
    "### 4.2 Product variation"
   ]
  },
  {
   "cell_type": "code",
   "execution_count": 24,
   "id": "bbe10151",
   "metadata": {},
   "outputs": [
    {
     "data": {
      "application/vnd.microsoft.datawrangler.viewer.v0+json": {
       "columns": [
        {
         "name": "index",
         "rawType": "int64",
         "type": "integer"
        },
        {
         "name": "order_id",
         "rawType": "int64",
         "type": "integer"
        },
        {
         "name": "product_id",
         "rawType": "int64",
         "type": "integer"
        },
        {
         "name": "add_to_cart_order",
         "rawType": "Int64",
         "type": "integer"
        },
        {
         "name": "reordered",
         "rawType": "bool",
         "type": "boolean"
        }
       ],
       "ref": "eacd5208-5ddb-439d-8ce6-b48d99a1c49b",
       "rows": [
        [
         "0",
         "2141543",
         "11440",
         "17",
         "False"
        ],
        [
         "1",
         "567889",
         "1560",
         "1",
         "True"
        ],
        [
         "2",
         "2261212",
         "26683",
         "1",
         "True"
        ],
        [
         "3",
         "491251",
         "8670",
         "35",
         "True"
        ],
        [
         "4",
         "2571142",
         "1940",
         "5",
         "True"
        ],
        [
         "5",
         "2456893",
         "21616",
         "4",
         "True"
        ],
        [
         "6",
         "644579",
         "12341",
         "5",
         "True"
        ],
        [
         "7",
         "2231852",
         "44925",
         "10",
         "True"
        ],
        [
         "8",
         "3185766",
         "36259",
         "14",
         "True"
        ],
        [
         "9",
         "420019",
         "23315",
         "4",
         "True"
        ],
        [
         "10",
         "925051",
         "9421",
         "2",
         "True"
        ],
        [
         "11",
         "44064",
         "22963",
         "28",
         "False"
        ],
        [
         "12",
         "522547",
         "40571",
         "10",
         "True"
        ],
        [
         "13",
         "2475670",
         "48520",
         "3",
         "False"
        ],
        [
         "14",
         "1961225",
         "37553",
         "1",
         "True"
        ],
        [
         "15",
         "2397389",
         "4321",
         "16",
         "True"
        ],
        [
         "16",
         "639939",
         "10017",
         "1",
         "True"
        ],
        [
         "17",
         "1721072",
         "24561",
         "8",
         "True"
        ],
        [
         "18",
         "89640",
         "46692",
         "7",
         "False"
        ],
        [
         "19",
         "2500729",
         "21616",
         "5",
         "True"
        ],
        [
         "20",
         "1687771",
         "22963",
         "5",
         "True"
        ],
        [
         "21",
         "2905625",
         "26209",
         "2",
         "False"
        ],
        [
         "22",
         "1482958",
         "45603",
         "6",
         "True"
        ],
        [
         "23",
         "750040",
         "8518",
         "1",
         "False"
        ],
        [
         "24",
         "2022887",
         "28169",
         "4",
         "False"
        ],
        [
         "25",
         "1046178",
         "26620",
         "2",
         "False"
        ],
        [
         "26",
         "623027",
         "13176",
         "3",
         "True"
        ],
        [
         "27",
         "2907647",
         "21903",
         "9",
         "True"
        ],
        [
         "28",
         "2492383",
         "11005",
         "16",
         "False"
        ],
        [
         "29",
         "773308",
         "37029",
         "15",
         "False"
        ],
        [
         "30",
         "2070264",
         "21872",
         "9",
         "False"
        ],
        [
         "31",
         "60394",
         "25659",
         "4",
         "True"
        ],
        [
         "32",
         "1597793",
         "5460",
         "7",
         "True"
        ],
        [
         "33",
         "2291457",
         "27104",
         "1",
         "True"
        ],
        [
         "34",
         "2966829",
         "31005",
         "22",
         "False"
        ],
        [
         "35",
         "1118439",
         "27307",
         "7",
         "False"
        ],
        [
         "36",
         "2183879",
         "12576",
         "3",
         "True"
        ],
        [
         "37",
         "941691",
         "30391",
         "3",
         "False"
        ],
        [
         "38",
         "2343489",
         "19820",
         "17",
         "False"
        ],
        [
         "39",
         "217120",
         "28985",
         "4",
         "False"
        ],
        [
         "40",
         "631150",
         "23139",
         "9",
         "False"
        ],
        [
         "41",
         "2669937",
         "42562",
         "2",
         "True"
        ],
        [
         "42",
         "1805081",
         "8590",
         "4",
         "False"
        ],
        [
         "43",
         "3075384",
         "28799",
         "1",
         "True"
        ],
        [
         "44",
         "1446879",
         "41682",
         "9",
         "True"
        ],
        [
         "45",
         "1787676",
         "47672",
         "1",
         "True"
        ],
        [
         "46",
         "3283409",
         "920",
         "9",
         "True"
        ],
        [
         "47",
         "1270550",
         "40199",
         "5",
         "True"
        ],
        [
         "48",
         "1943147",
         "47626",
         "22",
         "True"
        ],
        [
         "49",
         "1898003",
         "47766",
         "7",
         "True"
        ]
       ],
       "shape": {
        "columns": 4,
        "rows": 4545007
       }
      },
      "text/html": [
       "<div>\n",
       "<style scoped>\n",
       "    .dataframe tbody tr th:only-of-type {\n",
       "        vertical-align: middle;\n",
       "    }\n",
       "\n",
       "    .dataframe tbody tr th {\n",
       "        vertical-align: top;\n",
       "    }\n",
       "\n",
       "    .dataframe thead th {\n",
       "        text-align: right;\n",
       "    }\n",
       "</style>\n",
       "<table border=\"1\" class=\"dataframe\">\n",
       "  <thead>\n",
       "    <tr style=\"text-align: right;\">\n",
       "      <th></th>\n",
       "      <th>order_id</th>\n",
       "      <th>product_id</th>\n",
       "      <th>add_to_cart_order</th>\n",
       "      <th>reordered</th>\n",
       "    </tr>\n",
       "  </thead>\n",
       "  <tbody>\n",
       "    <tr>\n",
       "      <th>0</th>\n",
       "      <td>2141543</td>\n",
       "      <td>11440</td>\n",
       "      <td>17</td>\n",
       "      <td>False</td>\n",
       "    </tr>\n",
       "    <tr>\n",
       "      <th>1</th>\n",
       "      <td>567889</td>\n",
       "      <td>1560</td>\n",
       "      <td>1</td>\n",
       "      <td>True</td>\n",
       "    </tr>\n",
       "    <tr>\n",
       "      <th>2</th>\n",
       "      <td>2261212</td>\n",
       "      <td>26683</td>\n",
       "      <td>1</td>\n",
       "      <td>True</td>\n",
       "    </tr>\n",
       "    <tr>\n",
       "      <th>3</th>\n",
       "      <td>491251</td>\n",
       "      <td>8670</td>\n",
       "      <td>35</td>\n",
       "      <td>True</td>\n",
       "    </tr>\n",
       "    <tr>\n",
       "      <th>4</th>\n",
       "      <td>2571142</td>\n",
       "      <td>1940</td>\n",
       "      <td>5</td>\n",
       "      <td>True</td>\n",
       "    </tr>\n",
       "    <tr>\n",
       "      <th>...</th>\n",
       "      <td>...</td>\n",
       "      <td>...</td>\n",
       "      <td>...</td>\n",
       "      <td>...</td>\n",
       "    </tr>\n",
       "    <tr>\n",
       "      <th>4545002</th>\n",
       "      <td>577211</td>\n",
       "      <td>15290</td>\n",
       "      <td>12</td>\n",
       "      <td>True</td>\n",
       "    </tr>\n",
       "    <tr>\n",
       "      <th>4545003</th>\n",
       "      <td>1219554</td>\n",
       "      <td>21914</td>\n",
       "      <td>9</td>\n",
       "      <td>False</td>\n",
       "    </tr>\n",
       "    <tr>\n",
       "      <th>4545004</th>\n",
       "      <td>692640</td>\n",
       "      <td>47766</td>\n",
       "      <td>4</td>\n",
       "      <td>True</td>\n",
       "    </tr>\n",
       "    <tr>\n",
       "      <th>4545005</th>\n",
       "      <td>319435</td>\n",
       "      <td>691</td>\n",
       "      <td>8</td>\n",
       "      <td>True</td>\n",
       "    </tr>\n",
       "    <tr>\n",
       "      <th>4545006</th>\n",
       "      <td>1398151</td>\n",
       "      <td>28733</td>\n",
       "      <td>9</td>\n",
       "      <td>False</td>\n",
       "    </tr>\n",
       "  </tbody>\n",
       "</table>\n",
       "<p>4545007 rows × 4 columns</p>\n",
       "</div>"
      ],
      "text/plain": [
       "         order_id  product_id  add_to_cart_order  reordered\n",
       "0         2141543       11440                 17      False\n",
       "1          567889        1560                  1       True\n",
       "2         2261212       26683                  1       True\n",
       "3          491251        8670                 35       True\n",
       "4         2571142        1940                  5       True\n",
       "...           ...         ...                ...        ...\n",
       "4545002    577211       15290                 12       True\n",
       "4545003   1219554       21914                  9      False\n",
       "4545004    692640       47766                  4       True\n",
       "4545005    319435         691                  8       True\n",
       "4545006   1398151       28733                  9      False\n",
       "\n",
       "[4545007 rows x 4 columns]"
      ]
     },
     "execution_count": 24,
     "metadata": {},
     "output_type": "execute_result"
    }
   ],
   "source": [
    "df_order_products"
   ]
  },
  {
   "cell_type": "markdown",
   "id": "fc0b155f",
   "metadata": {},
   "source": [
    "#### 4.2.1 Product purchasing quantity"
   ]
  },
  {
   "cell_type": "code",
   "execution_count": 27,
   "id": "b6222baa",
   "metadata": {},
   "outputs": [
    {
     "data": {
      "application/vnd.microsoft.datawrangler.viewer.v0+json": {
       "columns": [
        {
         "name": "index",
         "rawType": "int64",
         "type": "integer"
        },
        {
         "name": "order_id",
         "rawType": "int64",
         "type": "integer"
        },
        {
         "name": "total_products",
         "rawType": "int64",
         "type": "integer"
        }
       ],
       "ref": "2b40c3c6-95f1-409a-98d9-3abfb831b9b6",
       "rows": [
        [
         "0",
         "4",
         "13"
        ],
        [
         "1",
         "9",
         "15"
        ],
        [
         "2",
         "11",
         "5"
        ],
        [
         "3",
         "19",
         "3"
        ],
        [
         "4",
         "20",
         "8"
        ],
        [
         "5",
         "31",
         "10"
        ],
        [
         "6",
         "48",
         "8"
        ],
        [
         "7",
         "56",
         "10"
        ],
        [
         "8",
         "61",
         "12"
        ],
        [
         "9",
         "68",
         "9"
        ],
        [
         "10",
         "75",
         "16"
        ],
        [
         "11",
         "80",
         "7"
        ],
        [
         "12",
         "81",
         "11"
        ],
        [
         "13",
         "83",
         "14"
        ],
        [
         "14",
         "99",
         "7"
        ],
        [
         "15",
         "114",
         "10"
        ],
        [
         "16",
         "131",
         "18"
        ],
        [
         "17",
         "142",
         "7"
        ],
        [
         "18",
         "143",
         "25"
        ],
        [
         "19",
         "148",
         "14"
        ],
        [
         "20",
         "178",
         "2"
        ],
        [
         "21",
         "185",
         "10"
        ],
        [
         "22",
         "191",
         "5"
        ],
        [
         "23",
         "195",
         "25"
        ],
        [
         "24",
         "196",
         "10"
        ],
        [
         "25",
         "214",
         "9"
        ],
        [
         "26",
         "225",
         "11"
        ],
        [
         "27",
         "231",
         "24"
        ],
        [
         "28",
         "234",
         "10"
        ],
        [
         "29",
         "239",
         "18"
        ],
        [
         "30",
         "250",
         "2"
        ],
        [
         "31",
         "253",
         "3"
        ],
        [
         "32",
         "258",
         "15"
        ],
        [
         "33",
         "264",
         "4"
        ],
        [
         "34",
         "272",
         "20"
        ],
        [
         "35",
         "278",
         "6"
        ],
        [
         "36",
         "279",
         "15"
        ],
        [
         "37",
         "291",
         "8"
        ],
        [
         "38",
         "306",
         "17"
        ],
        [
         "39",
         "310",
         "14"
        ],
        [
         "40",
         "315",
         "38"
        ],
        [
         "41",
         "323",
         "12"
        ],
        [
         "42",
         "326",
         "17"
        ],
        [
         "43",
         "332",
         "6"
        ],
        [
         "44",
         "334",
         "7"
        ],
        [
         "45",
         "338",
         "26"
        ],
        [
         "46",
         "341",
         "1"
        ],
        [
         "47",
         "348",
         "4"
        ],
        [
         "48",
         "363",
         "7"
        ],
        [
         "49",
         "369",
         "4"
        ]
       ],
       "shape": {
        "columns": 2,
        "rows": 450046
       }
      },
      "text/html": [
       "<div>\n",
       "<style scoped>\n",
       "    .dataframe tbody tr th:only-of-type {\n",
       "        vertical-align: middle;\n",
       "    }\n",
       "\n",
       "    .dataframe tbody tr th {\n",
       "        vertical-align: top;\n",
       "    }\n",
       "\n",
       "    .dataframe thead th {\n",
       "        text-align: right;\n",
       "    }\n",
       "</style>\n",
       "<table border=\"1\" class=\"dataframe\">\n",
       "  <thead>\n",
       "    <tr style=\"text-align: right;\">\n",
       "      <th></th>\n",
       "      <th>order_id</th>\n",
       "      <th>total_products</th>\n",
       "    </tr>\n",
       "  </thead>\n",
       "  <tbody>\n",
       "    <tr>\n",
       "      <th>0</th>\n",
       "      <td>4</td>\n",
       "      <td>13</td>\n",
       "    </tr>\n",
       "    <tr>\n",
       "      <th>1</th>\n",
       "      <td>9</td>\n",
       "      <td>15</td>\n",
       "    </tr>\n",
       "    <tr>\n",
       "      <th>2</th>\n",
       "      <td>11</td>\n",
       "      <td>5</td>\n",
       "    </tr>\n",
       "    <tr>\n",
       "      <th>3</th>\n",
       "      <td>19</td>\n",
       "      <td>3</td>\n",
       "    </tr>\n",
       "    <tr>\n",
       "      <th>4</th>\n",
       "      <td>20</td>\n",
       "      <td>8</td>\n",
       "    </tr>\n",
       "    <tr>\n",
       "      <th>...</th>\n",
       "      <td>...</td>\n",
       "      <td>...</td>\n",
       "    </tr>\n",
       "    <tr>\n",
       "      <th>450041</th>\n",
       "      <td>3421034</td>\n",
       "      <td>17</td>\n",
       "    </tr>\n",
       "    <tr>\n",
       "      <th>450042</th>\n",
       "      <td>3421053</td>\n",
       "      <td>9</td>\n",
       "    </tr>\n",
       "    <tr>\n",
       "      <th>450043</th>\n",
       "      <td>3421071</td>\n",
       "      <td>5</td>\n",
       "    </tr>\n",
       "    <tr>\n",
       "      <th>450044</th>\n",
       "      <td>3421077</td>\n",
       "      <td>4</td>\n",
       "    </tr>\n",
       "    <tr>\n",
       "      <th>450045</th>\n",
       "      <td>3421079</td>\n",
       "      <td>1</td>\n",
       "    </tr>\n",
       "  </tbody>\n",
       "</table>\n",
       "<p>450046 rows × 2 columns</p>\n",
       "</div>"
      ],
      "text/plain": [
       "        order_id  total_products\n",
       "0              4              13\n",
       "1              9              15\n",
       "2             11               5\n",
       "3             19               3\n",
       "4             20               8\n",
       "...          ...             ...\n",
       "450041   3421034              17\n",
       "450042   3421053               9\n",
       "450043   3421071               5\n",
       "450044   3421077               4\n",
       "450045   3421079               1\n",
       "\n",
       "[450046 rows x 2 columns]"
      ]
     },
     "execution_count": 27,
     "metadata": {},
     "output_type": "execute_result"
    }
   ],
   "source": [
    "# Number of products within an order\n",
    "pivot_product_purchase_quantity = pd.pivot_table(df_order_products, index='order_id', values='product_id', aggfunc='count')\n",
    "pivot_product_purchase_quantity = pivot_product_purchase_quantity.rename(columns={'product_id': 'total_products'})\n",
    "pivot_product_purchase_quantity = pivot_product_purchase_quantity.reset_index()\n",
    "pivot_product_purchase_quantity"
   ]
  },
  {
   "cell_type": "code",
   "execution_count": 28,
   "id": "c864812c",
   "metadata": {},
   "outputs": [],
   "source": [
    "project_root = Path.cwd().parent\n",
    "processed_path = project_root / \"data\" / \"processed\" / \"product_activity\" / \"product_purchase_quantity.csv\"\n",
    "\n",
    "pivot_product_purchase_quantity.to_csv(processed_path, index=False)"
   ]
  },
  {
   "cell_type": "markdown",
   "id": "a8217773",
   "metadata": {},
   "source": [
    "#### 4.2.2 Product repurchase rate"
   ]
  },
  {
   "cell_type": "code",
   "execution_count": 29,
   "id": "18ce3701",
   "metadata": {},
   "outputs": [
    {
     "data": {
      "application/vnd.microsoft.datawrangler.viewer.v0+json": {
       "columns": [
        {
         "name": "product_id",
         "rawType": "int64",
         "type": "integer"
        },
        {
         "name": "times_reordered",
         "rawType": "int64",
         "type": "integer"
        },
        {
         "name": "total_orders",
         "rawType": "int64",
         "type": "integer"
        }
       ],
       "ref": "55098ff2-57cb-48a8-b71e-3b343c77539d",
       "rows": [
        [
         "1",
         "158",
         "280"
        ],
        [
         "2",
         "0",
         "11"
        ],
        [
         "3",
         "31",
         "42"
        ],
        [
         "4",
         "25",
         "49"
        ],
        [
         "7",
         "1",
         "2"
        ],
        [
         "8",
         "6",
         "19"
        ],
        [
         "9",
         "16",
         "21"
        ],
        [
         "10",
         "151",
         "337"
        ],
        [
         "11",
         "10",
         "16"
        ],
        [
         "12",
         "16",
         "41"
        ],
        [
         "13",
         "1",
         "2"
        ],
        [
         "14",
         "0",
         "3"
        ],
        [
         "17",
         "0",
         "1"
        ],
        [
         "18",
         "8",
         "15"
        ],
        [
         "19",
         "0",
         "1"
        ],
        [
         "21",
         "0",
         "1"
        ],
        [
         "22",
         "3",
         "6"
        ],
        [
         "23",
         "56",
         "147"
        ],
        [
         "24",
         "0",
         "2"
        ],
        [
         "25",
         "199",
         "295"
        ],
        [
         "26",
         "35",
         "52"
        ],
        [
         "27",
         "9",
         "25"
        ],
        [
         "28",
         "60",
         "117"
        ],
        [
         "29",
         "12",
         "29"
        ],
        [
         "30",
         "2",
         "3"
        ],
        [
         "31",
         "2",
         "10"
        ],
        [
         "32",
         "43",
         "68"
        ],
        [
         "33",
         "3",
         "5"
        ],
        [
         "34",
         "543",
         "917"
        ],
        [
         "35",
         "13",
         "43"
        ],
        [
         "36",
         "4",
         "25"
        ],
        [
         "37",
         "50",
         "110"
        ],
        [
         "38",
         "0",
         "3"
        ],
        [
         "39",
         "0",
         "1"
        ],
        [
         "40",
         "7",
         "15"
        ],
        [
         "41",
         "4",
         "6"
        ],
        [
         "43",
         "5",
         "29"
        ],
        [
         "44",
         "32",
         "59"
        ],
        [
         "45",
         "1677",
         "2594"
        ],
        [
         "46",
         "16",
         "24"
        ],
        [
         "47",
         "22",
         "42"
        ],
        [
         "48",
         "0",
         "1"
        ],
        [
         "49",
         "172",
         "303"
        ],
        [
         "50",
         "12",
         "43"
        ],
        [
         "51",
         "0",
         "1"
        ],
        [
         "52",
         "0",
         "2"
        ],
        [
         "53",
         "7",
         "25"
        ],
        [
         "54",
         "96",
         "159"
        ],
        [
         "55",
         "0",
         "6"
        ],
        [
         "56",
         "0",
         "4"
        ]
       ],
       "shape": {
        "columns": 2,
        "rows": 45573
       }
      },
      "text/html": [
       "<div>\n",
       "<style scoped>\n",
       "    .dataframe tbody tr th:only-of-type {\n",
       "        vertical-align: middle;\n",
       "    }\n",
       "\n",
       "    .dataframe tbody tr th {\n",
       "        vertical-align: top;\n",
       "    }\n",
       "\n",
       "    .dataframe thead th {\n",
       "        text-align: right;\n",
       "    }\n",
       "</style>\n",
       "<table border=\"1\" class=\"dataframe\">\n",
       "  <thead>\n",
       "    <tr style=\"text-align: right;\">\n",
       "      <th></th>\n",
       "      <th>times_reordered</th>\n",
       "      <th>total_orders</th>\n",
       "    </tr>\n",
       "    <tr>\n",
       "      <th>product_id</th>\n",
       "      <th></th>\n",
       "      <th></th>\n",
       "    </tr>\n",
       "  </thead>\n",
       "  <tbody>\n",
       "    <tr>\n",
       "      <th>1</th>\n",
       "      <td>158</td>\n",
       "      <td>280</td>\n",
       "    </tr>\n",
       "    <tr>\n",
       "      <th>2</th>\n",
       "      <td>0</td>\n",
       "      <td>11</td>\n",
       "    </tr>\n",
       "    <tr>\n",
       "      <th>3</th>\n",
       "      <td>31</td>\n",
       "      <td>42</td>\n",
       "    </tr>\n",
       "    <tr>\n",
       "      <th>4</th>\n",
       "      <td>25</td>\n",
       "      <td>49</td>\n",
       "    </tr>\n",
       "    <tr>\n",
       "      <th>7</th>\n",
       "      <td>1</td>\n",
       "      <td>2</td>\n",
       "    </tr>\n",
       "    <tr>\n",
       "      <th>...</th>\n",
       "      <td>...</td>\n",
       "      <td>...</td>\n",
       "    </tr>\n",
       "    <tr>\n",
       "      <th>49690</th>\n",
       "      <td>4</td>\n",
       "      <td>5</td>\n",
       "    </tr>\n",
       "    <tr>\n",
       "      <th>49691</th>\n",
       "      <td>31</td>\n",
       "      <td>72</td>\n",
       "    </tr>\n",
       "    <tr>\n",
       "      <th>49692</th>\n",
       "      <td>5</td>\n",
       "      <td>12</td>\n",
       "    </tr>\n",
       "    <tr>\n",
       "      <th>49693</th>\n",
       "      <td>11</td>\n",
       "      <td>25</td>\n",
       "    </tr>\n",
       "    <tr>\n",
       "      <th>49694</th>\n",
       "      <td>3</td>\n",
       "      <td>9</td>\n",
       "    </tr>\n",
       "  </tbody>\n",
       "</table>\n",
       "<p>45573 rows × 2 columns</p>\n",
       "</div>"
      ],
      "text/plain": [
       "            times_reordered  total_orders\n",
       "product_id                               \n",
       "1                       158           280\n",
       "2                         0            11\n",
       "3                        31            42\n",
       "4                        25            49\n",
       "7                         1             2\n",
       "...                     ...           ...\n",
       "49690                     4             5\n",
       "49691                    31            72\n",
       "49692                     5            12\n",
       "49693                    11            25\n",
       "49694                     3             9\n",
       "\n",
       "[45573 rows x 2 columns]"
      ]
     },
     "execution_count": 29,
     "metadata": {},
     "output_type": "execute_result"
    }
   ],
   "source": [
    "# Products with highest repurchase rate\n",
    "pivot_product_repurchase = pd.pivot_table(df_order_products, index='product_id', values='reordered', aggfunc=['sum', 'count'])\n",
    "pivot_product_repurchase.columns = ['times_reordered', 'total_orders']\n",
    "pivot_product_repurchase"
   ]
  },
  {
   "cell_type": "code",
   "execution_count": 30,
   "id": "8b8a5697",
   "metadata": {},
   "outputs": [
    {
     "data": {
      "application/vnd.microsoft.datawrangler.viewer.v0+json": {
       "columns": [
        {
         "name": "product_id",
         "rawType": "int64",
         "type": "integer"
        },
        {
         "name": "times_reordered",
         "rawType": "int64",
         "type": "integer"
        },
        {
         "name": "total_orders",
         "rawType": "int64",
         "type": "integer"
        },
        {
         "name": "repurchase_rate",
         "rawType": "float64",
         "type": "float"
        }
       ],
       "ref": "1da082eb-4c15-492b-876b-a1171e0e0b10",
       "rows": [
        [
         "1",
         "158",
         "280",
         "0.5642857142857143"
        ],
        [
         "2",
         "0",
         "11",
         "0.0"
        ],
        [
         "3",
         "31",
         "42",
         "0.7380952380952381"
        ],
        [
         "4",
         "25",
         "49",
         "0.5102040816326531"
        ],
        [
         "7",
         "1",
         "2",
         "0.5"
        ],
        [
         "8",
         "6",
         "19",
         "0.3157894736842105"
        ],
        [
         "9",
         "16",
         "21",
         "0.7619047619047619"
        ],
        [
         "10",
         "151",
         "337",
         "0.44807121661721067"
        ],
        [
         "11",
         "10",
         "16",
         "0.625"
        ],
        [
         "12",
         "16",
         "41",
         "0.3902439024390244"
        ],
        [
         "13",
         "1",
         "2",
         "0.5"
        ],
        [
         "14",
         "0",
         "3",
         "0.0"
        ],
        [
         "17",
         "0",
         "1",
         "0.0"
        ],
        [
         "18",
         "8",
         "15",
         "0.5333333333333333"
        ],
        [
         "19",
         "0",
         "1",
         "0.0"
        ],
        [
         "21",
         "0",
         "1",
         "0.0"
        ],
        [
         "22",
         "3",
         "6",
         "0.5"
        ],
        [
         "23",
         "56",
         "147",
         "0.38095238095238093"
        ],
        [
         "24",
         "0",
         "2",
         "0.0"
        ],
        [
         "25",
         "199",
         "295",
         "0.6745762711864407"
        ],
        [
         "26",
         "35",
         "52",
         "0.6730769230769231"
        ],
        [
         "27",
         "9",
         "25",
         "0.36"
        ],
        [
         "28",
         "60",
         "117",
         "0.5128205128205128"
        ],
        [
         "29",
         "12",
         "29",
         "0.41379310344827586"
        ],
        [
         "30",
         "2",
         "3",
         "0.6666666666666666"
        ],
        [
         "31",
         "2",
         "10",
         "0.2"
        ],
        [
         "32",
         "43",
         "68",
         "0.6323529411764706"
        ],
        [
         "33",
         "3",
         "5",
         "0.6"
        ],
        [
         "34",
         "543",
         "917",
         "0.5921483097055616"
        ],
        [
         "35",
         "13",
         "43",
         "0.3023255813953488"
        ],
        [
         "36",
         "4",
         "25",
         "0.16"
        ],
        [
         "37",
         "50",
         "110",
         "0.45454545454545453"
        ],
        [
         "38",
         "0",
         "3",
         "0.0"
        ],
        [
         "39",
         "0",
         "1",
         "0.0"
        ],
        [
         "40",
         "7",
         "15",
         "0.4666666666666667"
        ],
        [
         "41",
         "4",
         "6",
         "0.6666666666666666"
        ],
        [
         "43",
         "5",
         "29",
         "0.1724137931034483"
        ],
        [
         "44",
         "32",
         "59",
         "0.5423728813559322"
        ],
        [
         "45",
         "1677",
         "2594",
         "0.6464919043947571"
        ],
        [
         "46",
         "16",
         "24",
         "0.6666666666666666"
        ],
        [
         "47",
         "22",
         "42",
         "0.5238095238095238"
        ],
        [
         "48",
         "0",
         "1",
         "0.0"
        ],
        [
         "49",
         "172",
         "303",
         "0.5676567656765676"
        ],
        [
         "50",
         "12",
         "43",
         "0.27906976744186046"
        ],
        [
         "51",
         "0",
         "1",
         "0.0"
        ],
        [
         "52",
         "0",
         "2",
         "0.0"
        ],
        [
         "53",
         "7",
         "25",
         "0.28"
        ],
        [
         "54",
         "96",
         "159",
         "0.6037735849056604"
        ],
        [
         "55",
         "0",
         "6",
         "0.0"
        ],
        [
         "56",
         "0",
         "4",
         "0.0"
        ]
       ],
       "shape": {
        "columns": 3,
        "rows": 45573
       }
      },
      "text/html": [
       "<div>\n",
       "<style scoped>\n",
       "    .dataframe tbody tr th:only-of-type {\n",
       "        vertical-align: middle;\n",
       "    }\n",
       "\n",
       "    .dataframe tbody tr th {\n",
       "        vertical-align: top;\n",
       "    }\n",
       "\n",
       "    .dataframe thead th {\n",
       "        text-align: right;\n",
       "    }\n",
       "</style>\n",
       "<table border=\"1\" class=\"dataframe\">\n",
       "  <thead>\n",
       "    <tr style=\"text-align: right;\">\n",
       "      <th></th>\n",
       "      <th>times_reordered</th>\n",
       "      <th>total_orders</th>\n",
       "      <th>repurchase_rate</th>\n",
       "    </tr>\n",
       "    <tr>\n",
       "      <th>product_id</th>\n",
       "      <th></th>\n",
       "      <th></th>\n",
       "      <th></th>\n",
       "    </tr>\n",
       "  </thead>\n",
       "  <tbody>\n",
       "    <tr>\n",
       "      <th>1</th>\n",
       "      <td>158</td>\n",
       "      <td>280</td>\n",
       "      <td>0.564286</td>\n",
       "    </tr>\n",
       "    <tr>\n",
       "      <th>2</th>\n",
       "      <td>0</td>\n",
       "      <td>11</td>\n",
       "      <td>0.000000</td>\n",
       "    </tr>\n",
       "    <tr>\n",
       "      <th>3</th>\n",
       "      <td>31</td>\n",
       "      <td>42</td>\n",
       "      <td>0.738095</td>\n",
       "    </tr>\n",
       "    <tr>\n",
       "      <th>4</th>\n",
       "      <td>25</td>\n",
       "      <td>49</td>\n",
       "      <td>0.510204</td>\n",
       "    </tr>\n",
       "    <tr>\n",
       "      <th>7</th>\n",
       "      <td>1</td>\n",
       "      <td>2</td>\n",
       "      <td>0.500000</td>\n",
       "    </tr>\n",
       "    <tr>\n",
       "      <th>...</th>\n",
       "      <td>...</td>\n",
       "      <td>...</td>\n",
       "      <td>...</td>\n",
       "    </tr>\n",
       "    <tr>\n",
       "      <th>49690</th>\n",
       "      <td>4</td>\n",
       "      <td>5</td>\n",
       "      <td>0.800000</td>\n",
       "    </tr>\n",
       "    <tr>\n",
       "      <th>49691</th>\n",
       "      <td>31</td>\n",
       "      <td>72</td>\n",
       "      <td>0.430556</td>\n",
       "    </tr>\n",
       "    <tr>\n",
       "      <th>49692</th>\n",
       "      <td>5</td>\n",
       "      <td>12</td>\n",
       "      <td>0.416667</td>\n",
       "    </tr>\n",
       "    <tr>\n",
       "      <th>49693</th>\n",
       "      <td>11</td>\n",
       "      <td>25</td>\n",
       "      <td>0.440000</td>\n",
       "    </tr>\n",
       "    <tr>\n",
       "      <th>49694</th>\n",
       "      <td>3</td>\n",
       "      <td>9</td>\n",
       "      <td>0.333333</td>\n",
       "    </tr>\n",
       "  </tbody>\n",
       "</table>\n",
       "<p>45573 rows × 3 columns</p>\n",
       "</div>"
      ],
      "text/plain": [
       "            times_reordered  total_orders  repurchase_rate\n",
       "product_id                                                \n",
       "1                       158           280         0.564286\n",
       "2                         0            11         0.000000\n",
       "3                        31            42         0.738095\n",
       "4                        25            49         0.510204\n",
       "7                         1             2         0.500000\n",
       "...                     ...           ...              ...\n",
       "49690                     4             5         0.800000\n",
       "49691                    31            72         0.430556\n",
       "49692                     5            12         0.416667\n",
       "49693                    11            25         0.440000\n",
       "49694                     3             9         0.333333\n",
       "\n",
       "[45573 rows x 3 columns]"
      ]
     },
     "execution_count": 30,
     "metadata": {},
     "output_type": "execute_result"
    }
   ],
   "source": [
    "pivot_product_repurchase['repurchase_rate'] = (pivot_product_repurchase['times_reordered'] / pivot_product_repurchase['total_orders'])\n",
    "pivot_product_repurchase"
   ]
  },
  {
   "cell_type": "code",
   "execution_count": 31,
   "id": "8098c26b",
   "metadata": {},
   "outputs": [
    {
     "data": {
      "application/vnd.microsoft.datawrangler.viewer.v0+json": {
       "columns": [
        {
         "name": "index",
         "rawType": "int64",
         "type": "integer"
        },
        {
         "name": "product_id",
         "rawType": "int64",
         "type": "integer"
        },
        {
         "name": "times_reordered",
         "rawType": "int64",
         "type": "integer"
        },
        {
         "name": "total_orders",
         "rawType": "int64",
         "type": "integer"
        },
        {
         "name": "repurchase_rate",
         "rawType": "float64",
         "type": "float"
        }
       ],
       "ref": "e25c6769-5ea8-41d4-a52a-56d84bd82e71",
       "rows": [
        [
         "0",
         "1",
         "158",
         "280",
         "0.5642857142857143"
        ],
        [
         "1",
         "2",
         "0",
         "11",
         "0.0"
        ],
        [
         "2",
         "3",
         "31",
         "42",
         "0.7380952380952381"
        ],
        [
         "3",
         "4",
         "25",
         "49",
         "0.5102040816326531"
        ],
        [
         "4",
         "7",
         "1",
         "2",
         "0.5"
        ],
        [
         "5",
         "8",
         "6",
         "19",
         "0.3157894736842105"
        ],
        [
         "6",
         "9",
         "16",
         "21",
         "0.7619047619047619"
        ],
        [
         "7",
         "10",
         "151",
         "337",
         "0.44807121661721067"
        ],
        [
         "8",
         "11",
         "10",
         "16",
         "0.625"
        ],
        [
         "9",
         "12",
         "16",
         "41",
         "0.3902439024390244"
        ],
        [
         "10",
         "13",
         "1",
         "2",
         "0.5"
        ],
        [
         "11",
         "14",
         "0",
         "3",
         "0.0"
        ],
        [
         "12",
         "17",
         "0",
         "1",
         "0.0"
        ],
        [
         "13",
         "18",
         "8",
         "15",
         "0.5333333333333333"
        ],
        [
         "14",
         "19",
         "0",
         "1",
         "0.0"
        ],
        [
         "15",
         "21",
         "0",
         "1",
         "0.0"
        ],
        [
         "16",
         "22",
         "3",
         "6",
         "0.5"
        ],
        [
         "17",
         "23",
         "56",
         "147",
         "0.38095238095238093"
        ],
        [
         "18",
         "24",
         "0",
         "2",
         "0.0"
        ],
        [
         "19",
         "25",
         "199",
         "295",
         "0.6745762711864407"
        ],
        [
         "20",
         "26",
         "35",
         "52",
         "0.6730769230769231"
        ],
        [
         "21",
         "27",
         "9",
         "25",
         "0.36"
        ],
        [
         "22",
         "28",
         "60",
         "117",
         "0.5128205128205128"
        ],
        [
         "23",
         "29",
         "12",
         "29",
         "0.41379310344827586"
        ],
        [
         "24",
         "30",
         "2",
         "3",
         "0.6666666666666666"
        ],
        [
         "25",
         "31",
         "2",
         "10",
         "0.2"
        ],
        [
         "26",
         "32",
         "43",
         "68",
         "0.6323529411764706"
        ],
        [
         "27",
         "33",
         "3",
         "5",
         "0.6"
        ],
        [
         "28",
         "34",
         "543",
         "917",
         "0.5921483097055616"
        ],
        [
         "29",
         "35",
         "13",
         "43",
         "0.3023255813953488"
        ],
        [
         "30",
         "36",
         "4",
         "25",
         "0.16"
        ],
        [
         "31",
         "37",
         "50",
         "110",
         "0.45454545454545453"
        ],
        [
         "32",
         "38",
         "0",
         "3",
         "0.0"
        ],
        [
         "33",
         "39",
         "0",
         "1",
         "0.0"
        ],
        [
         "34",
         "40",
         "7",
         "15",
         "0.4666666666666667"
        ],
        [
         "35",
         "41",
         "4",
         "6",
         "0.6666666666666666"
        ],
        [
         "36",
         "43",
         "5",
         "29",
         "0.1724137931034483"
        ],
        [
         "37",
         "44",
         "32",
         "59",
         "0.5423728813559322"
        ],
        [
         "38",
         "45",
         "1677",
         "2594",
         "0.6464919043947571"
        ],
        [
         "39",
         "46",
         "16",
         "24",
         "0.6666666666666666"
        ],
        [
         "40",
         "47",
         "22",
         "42",
         "0.5238095238095238"
        ],
        [
         "41",
         "48",
         "0",
         "1",
         "0.0"
        ],
        [
         "42",
         "49",
         "172",
         "303",
         "0.5676567656765676"
        ],
        [
         "43",
         "50",
         "12",
         "43",
         "0.27906976744186046"
        ],
        [
         "44",
         "51",
         "0",
         "1",
         "0.0"
        ],
        [
         "45",
         "52",
         "0",
         "2",
         "0.0"
        ],
        [
         "46",
         "53",
         "7",
         "25",
         "0.28"
        ],
        [
         "47",
         "54",
         "96",
         "159",
         "0.6037735849056604"
        ],
        [
         "48",
         "55",
         "0",
         "6",
         "0.0"
        ],
        [
         "49",
         "56",
         "0",
         "4",
         "0.0"
        ]
       ],
       "shape": {
        "columns": 4,
        "rows": 45573
       }
      },
      "text/html": [
       "<div>\n",
       "<style scoped>\n",
       "    .dataframe tbody tr th:only-of-type {\n",
       "        vertical-align: middle;\n",
       "    }\n",
       "\n",
       "    .dataframe tbody tr th {\n",
       "        vertical-align: top;\n",
       "    }\n",
       "\n",
       "    .dataframe thead th {\n",
       "        text-align: right;\n",
       "    }\n",
       "</style>\n",
       "<table border=\"1\" class=\"dataframe\">\n",
       "  <thead>\n",
       "    <tr style=\"text-align: right;\">\n",
       "      <th></th>\n",
       "      <th>product_id</th>\n",
       "      <th>times_reordered</th>\n",
       "      <th>total_orders</th>\n",
       "      <th>repurchase_rate</th>\n",
       "    </tr>\n",
       "  </thead>\n",
       "  <tbody>\n",
       "    <tr>\n",
       "      <th>0</th>\n",
       "      <td>1</td>\n",
       "      <td>158</td>\n",
       "      <td>280</td>\n",
       "      <td>0.564286</td>\n",
       "    </tr>\n",
       "    <tr>\n",
       "      <th>1</th>\n",
       "      <td>2</td>\n",
       "      <td>0</td>\n",
       "      <td>11</td>\n",
       "      <td>0.000000</td>\n",
       "    </tr>\n",
       "    <tr>\n",
       "      <th>2</th>\n",
       "      <td>3</td>\n",
       "      <td>31</td>\n",
       "      <td>42</td>\n",
       "      <td>0.738095</td>\n",
       "    </tr>\n",
       "    <tr>\n",
       "      <th>3</th>\n",
       "      <td>4</td>\n",
       "      <td>25</td>\n",
       "      <td>49</td>\n",
       "      <td>0.510204</td>\n",
       "    </tr>\n",
       "    <tr>\n",
       "      <th>4</th>\n",
       "      <td>7</td>\n",
       "      <td>1</td>\n",
       "      <td>2</td>\n",
       "      <td>0.500000</td>\n",
       "    </tr>\n",
       "    <tr>\n",
       "      <th>...</th>\n",
       "      <td>...</td>\n",
       "      <td>...</td>\n",
       "      <td>...</td>\n",
       "      <td>...</td>\n",
       "    </tr>\n",
       "    <tr>\n",
       "      <th>45568</th>\n",
       "      <td>49690</td>\n",
       "      <td>4</td>\n",
       "      <td>5</td>\n",
       "      <td>0.800000</td>\n",
       "    </tr>\n",
       "    <tr>\n",
       "      <th>45569</th>\n",
       "      <td>49691</td>\n",
       "      <td>31</td>\n",
       "      <td>72</td>\n",
       "      <td>0.430556</td>\n",
       "    </tr>\n",
       "    <tr>\n",
       "      <th>45570</th>\n",
       "      <td>49692</td>\n",
       "      <td>5</td>\n",
       "      <td>12</td>\n",
       "      <td>0.416667</td>\n",
       "    </tr>\n",
       "    <tr>\n",
       "      <th>45571</th>\n",
       "      <td>49693</td>\n",
       "      <td>11</td>\n",
       "      <td>25</td>\n",
       "      <td>0.440000</td>\n",
       "    </tr>\n",
       "    <tr>\n",
       "      <th>45572</th>\n",
       "      <td>49694</td>\n",
       "      <td>3</td>\n",
       "      <td>9</td>\n",
       "      <td>0.333333</td>\n",
       "    </tr>\n",
       "  </tbody>\n",
       "</table>\n",
       "<p>45573 rows × 4 columns</p>\n",
       "</div>"
      ],
      "text/plain": [
       "       product_id  times_reordered  total_orders  repurchase_rate\n",
       "0               1              158           280         0.564286\n",
       "1               2                0            11         0.000000\n",
       "2               3               31            42         0.738095\n",
       "3               4               25            49         0.510204\n",
       "4               7                1             2         0.500000\n",
       "...           ...              ...           ...              ...\n",
       "45568       49690                4             5         0.800000\n",
       "45569       49691               31            72         0.430556\n",
       "45570       49692                5            12         0.416667\n",
       "45571       49693               11            25         0.440000\n",
       "45572       49694                3             9         0.333333\n",
       "\n",
       "[45573 rows x 4 columns]"
      ]
     },
     "execution_count": 31,
     "metadata": {},
     "output_type": "execute_result"
    }
   ],
   "source": [
    "pivot_product_repurchase = pivot_product_repurchase.reset_index()\n",
    "pivot_product_repurchase"
   ]
  },
  {
   "cell_type": "code",
   "execution_count": 32,
   "id": "0196f56f",
   "metadata": {},
   "outputs": [
    {
     "data": {
      "application/vnd.microsoft.datawrangler.viewer.v0+json": {
       "columns": [
        {
         "name": "index",
         "rawType": "int64",
         "type": "integer"
        },
        {
         "name": "product_id",
         "rawType": "int64",
         "type": "integer"
        },
        {
         "name": "times_reordered",
         "rawType": "int64",
         "type": "integer"
        },
        {
         "name": "total_orders",
         "rawType": "int64",
         "type": "integer"
        },
        {
         "name": "repurchase_rate",
         "rawType": "float64",
         "type": "float"
        },
        {
         "name": "product_name",
         "rawType": "string",
         "type": "string"
        }
       ],
       "ref": "370e4958-37cc-4410-92b1-7431c9bf8038",
       "rows": [
        [
         "0",
         "1",
         "158",
         "280",
         "0.5642857142857143",
         "chocolate_sandwich_cookies"
        ],
        [
         "1",
         "2",
         "0",
         "11",
         "0.0",
         "all_seasons_salt"
        ],
        [
         "2",
         "3",
         "31",
         "42",
         "0.7380952380952381",
         "robust_golden_unsweetened_oolong_tea"
        ],
        [
         "3",
         "4",
         "25",
         "49",
         "0.5102040816326531",
         "smart_ones_classic_favorites_mini_rigatoni_with_vodka_cream_sauce"
        ],
        [
         "4",
         "7",
         "1",
         "2",
         "0.5",
         "pure_coconut_water_with_orange"
        ],
        [
         "5",
         "8",
         "6",
         "19",
         "0.3157894736842105",
         "cut_russet_potatoes_steam_n_mash"
        ],
        [
         "6",
         "9",
         "16",
         "21",
         "0.7619047619047619",
         "light_strawberry_blueberry_yogurt"
        ],
        [
         "7",
         "10",
         "151",
         "337",
         "0.44807121661721067",
         "sparkling_orange_juice_prickly_pear_beverage"
        ],
        [
         "8",
         "11",
         "10",
         "16",
         "0.625",
         "peach_mango_juice"
        ],
        [
         "9",
         "12",
         "16",
         "41",
         "0.3902439024390244",
         "chocolate_fudge_layer_cake"
        ],
        [
         "10",
         "13",
         "1",
         "2",
         "0.5",
         "saline_nasal_mist"
        ],
        [
         "11",
         "14",
         "0",
         "3",
         "0.0",
         "fresh_scent_dishwasher_cleaner"
        ],
        [
         "12",
         "17",
         "0",
         "1",
         "0.0",
         "rendered_duck_fat"
        ],
        [
         "13",
         "18",
         "8",
         "15",
         "0.5333333333333333",
         "pizza_for_one_suprema_frozen_pizza"
        ],
        [
         "14",
         "19",
         "0",
         "1",
         "0.0",
         "gluten_free_quinoa_three_cheese_mushroom_blend"
        ],
        [
         "15",
         "21",
         "0",
         "1",
         "0.0",
         "small_medium_dental_dog_treats"
        ],
        [
         "16",
         "22",
         "3",
         "6",
         "0.5",
         "fresh_breath_oral_rinse_mild_mint"
        ],
        [
         "17",
         "23",
         "56",
         "147",
         "0.38095238095238093",
         "organic_turkey_burgers"
        ],
        [
         "18",
         "24",
         "0",
         "2",
         "0.0",
         "tri_vi_sol_vitamins_a_c_and_d_supplement_drops_for_infants"
        ],
        [
         "19",
         "25",
         "199",
         "295",
         "0.6745762711864407",
         "salted_caramel_lean_protein_fiber_bar"
        ],
        [
         "20",
         "26",
         "35",
         "52",
         "0.6730769230769231",
         "fancy_feast_trout_feast_flaked_wet_cat_food"
        ],
        [
         "21",
         "27",
         "9",
         "25",
         "0.36",
         "complete_spring_water_foaming_antibacterial_hand_wash"
        ],
        [
         "22",
         "28",
         "60",
         "117",
         "0.5128205128205128",
         "wheat_chex_cereal"
        ],
        [
         "23",
         "29",
         "12",
         "29",
         "0.41379310344827586",
         "fresh_cut_golden_sweet_no_salt_added_whole_kernel_corn"
        ],
        [
         "24",
         "30",
         "2",
         "3",
         "0.6666666666666666",
         "three_cheese_ziti_marinara_with_meatballs"
        ],
        [
         "25",
         "31",
         "2",
         "10",
         "0.2",
         "white_pearl_onions"
        ],
        [
         "26",
         "32",
         "43",
         "68",
         "0.6323529411764706",
         "nacho_cheese_white_bean_chips"
        ],
        [
         "27",
         "33",
         "3",
         "5",
         "0.6",
         "organic_spaghetti_style_pasta"
        ],
        [
         "28",
         "34",
         "543",
         "917",
         "0.5921483097055616",
         "peanut_butter_cereal"
        ],
        [
         "29",
         "35",
         "13",
         "43",
         "0.3023255813953488",
         "italian_herb_porcini_mushrooms_chicken_sausage"
        ],
        [
         "30",
         "36",
         "4",
         "25",
         "0.16",
         "traditional_lasagna_with_meat_sauce_savory_italian_recipes"
        ],
        [
         "31",
         "37",
         "50",
         "110",
         "0.45454545454545453",
         "noodle_soup_mix_with_chicken_broth"
        ],
        [
         "32",
         "38",
         "0",
         "3",
         "0.0",
         "unknown"
        ],
        [
         "33",
         "39",
         "0",
         "1",
         "0.0",
         "daily_tangerine_citrus_flavored_beverage"
        ],
        [
         "34",
         "40",
         "7",
         "15",
         "0.4666666666666667",
         "beef_hot_links_beef_smoked_sausage_with_chile_peppers"
        ],
        [
         "35",
         "41",
         "4",
         "6",
         "0.6666666666666666",
         "organic_sourdough_einkorn_crackers_rosemary"
        ],
        [
         "36",
         "43",
         "5",
         "29",
         "0.1724137931034483",
         "organic_clementines"
        ],
        [
         "37",
         "44",
         "32",
         "59",
         "0.5423728813559322",
         "sparkling_raspberry_seltzer"
        ],
        [
         "38",
         "45",
         "1677",
         "2594",
         "0.6464919043947571",
         "european_cucumber"
        ],
        [
         "39",
         "46",
         "16",
         "24",
         "0.6666666666666666",
         "raisin_cinnamon_bagels_5_count"
        ],
        [
         "40",
         "47",
         "22",
         "42",
         "0.5238095238095238",
         "onion_flavor_organic_roasted_seaweed_snack"
        ],
        [
         "41",
         "48",
         "0",
         "1",
         "0.0",
         "school_glue_washable_no_run"
        ],
        [
         "42",
         "49",
         "172",
         "303",
         "0.5676567656765676",
         "vegetarian_grain_meat_sausages_italian_4_ct"
        ],
        [
         "43",
         "50",
         "12",
         "43",
         "0.27906976744186046",
         "pumpkin_muffin_mix"
        ],
        [
         "44",
         "51",
         "0",
         "1",
         "0.0",
         "sa_extra_hold_mousse_hair_styling"
        ],
        [
         "45",
         "52",
         "0",
         "2",
         "0.0",
         "mirabelle_brut_rose"
        ],
        [
         "46",
         "53",
         "7",
         "25",
         "0.28",
         "whole_leaf_pure_aloe_with_lemon_juice"
        ],
        [
         "47",
         "54",
         "96",
         "159",
         "0.6037735849056604",
         "24_7_performance_cat_litter"
        ],
        [
         "48",
         "55",
         "0",
         "6",
         "0.0",
         "lasting_color_shampoo"
        ],
        [
         "49",
         "56",
         "0",
         "4",
         "0.0",
         "healthy_pop_butter_popcorn"
        ]
       ],
       "shape": {
        "columns": 5,
        "rows": 45573
       }
      },
      "text/html": [
       "<div>\n",
       "<style scoped>\n",
       "    .dataframe tbody tr th:only-of-type {\n",
       "        vertical-align: middle;\n",
       "    }\n",
       "\n",
       "    .dataframe tbody tr th {\n",
       "        vertical-align: top;\n",
       "    }\n",
       "\n",
       "    .dataframe thead th {\n",
       "        text-align: right;\n",
       "    }\n",
       "</style>\n",
       "<table border=\"1\" class=\"dataframe\">\n",
       "  <thead>\n",
       "    <tr style=\"text-align: right;\">\n",
       "      <th></th>\n",
       "      <th>product_id</th>\n",
       "      <th>times_reordered</th>\n",
       "      <th>total_orders</th>\n",
       "      <th>repurchase_rate</th>\n",
       "      <th>product_name</th>\n",
       "    </tr>\n",
       "  </thead>\n",
       "  <tbody>\n",
       "    <tr>\n",
       "      <th>0</th>\n",
       "      <td>1</td>\n",
       "      <td>158</td>\n",
       "      <td>280</td>\n",
       "      <td>0.564286</td>\n",
       "      <td>chocolate_sandwich_cookies</td>\n",
       "    </tr>\n",
       "    <tr>\n",
       "      <th>1</th>\n",
       "      <td>2</td>\n",
       "      <td>0</td>\n",
       "      <td>11</td>\n",
       "      <td>0.000000</td>\n",
       "      <td>all_seasons_salt</td>\n",
       "    </tr>\n",
       "    <tr>\n",
       "      <th>2</th>\n",
       "      <td>3</td>\n",
       "      <td>31</td>\n",
       "      <td>42</td>\n",
       "      <td>0.738095</td>\n",
       "      <td>robust_golden_unsweetened_oolong_tea</td>\n",
       "    </tr>\n",
       "    <tr>\n",
       "      <th>3</th>\n",
       "      <td>4</td>\n",
       "      <td>25</td>\n",
       "      <td>49</td>\n",
       "      <td>0.510204</td>\n",
       "      <td>smart_ones_classic_favorites_mini_rigatoni_wit...</td>\n",
       "    </tr>\n",
       "    <tr>\n",
       "      <th>4</th>\n",
       "      <td>7</td>\n",
       "      <td>1</td>\n",
       "      <td>2</td>\n",
       "      <td>0.500000</td>\n",
       "      <td>pure_coconut_water_with_orange</td>\n",
       "    </tr>\n",
       "    <tr>\n",
       "      <th>...</th>\n",
       "      <td>...</td>\n",
       "      <td>...</td>\n",
       "      <td>...</td>\n",
       "      <td>...</td>\n",
       "      <td>...</td>\n",
       "    </tr>\n",
       "    <tr>\n",
       "      <th>45568</th>\n",
       "      <td>49690</td>\n",
       "      <td>4</td>\n",
       "      <td>5</td>\n",
       "      <td>0.800000</td>\n",
       "      <td>high_performance_energy_drink</td>\n",
       "    </tr>\n",
       "    <tr>\n",
       "      <th>45569</th>\n",
       "      <td>49691</td>\n",
       "      <td>31</td>\n",
       "      <td>72</td>\n",
       "      <td>0.430556</td>\n",
       "      <td>original_pancake_waffle_mix</td>\n",
       "    </tr>\n",
       "    <tr>\n",
       "      <th>45570</th>\n",
       "      <td>49692</td>\n",
       "      <td>5</td>\n",
       "      <td>12</td>\n",
       "      <td>0.416667</td>\n",
       "      <td>organic_instant_oatmeal_light_maple_brown_sugar</td>\n",
       "    </tr>\n",
       "    <tr>\n",
       "      <th>45571</th>\n",
       "      <td>49693</td>\n",
       "      <td>11</td>\n",
       "      <td>25</td>\n",
       "      <td>0.440000</td>\n",
       "      <td>spring_water_body_wash</td>\n",
       "    </tr>\n",
       "    <tr>\n",
       "      <th>45572</th>\n",
       "      <td>49694</td>\n",
       "      <td>3</td>\n",
       "      <td>9</td>\n",
       "      <td>0.333333</td>\n",
       "      <td>burrito_steak_cheese</td>\n",
       "    </tr>\n",
       "  </tbody>\n",
       "</table>\n",
       "<p>45573 rows × 5 columns</p>\n",
       "</div>"
      ],
      "text/plain": [
       "       product_id  times_reordered  total_orders  repurchase_rate                                       product_name\n",
       "0               1              158           280         0.564286                         chocolate_sandwich_cookies\n",
       "1               2                0            11         0.000000                                   all_seasons_salt\n",
       "2               3               31            42         0.738095               robust_golden_unsweetened_oolong_tea\n",
       "3               4               25            49         0.510204  smart_ones_classic_favorites_mini_rigatoni_wit...\n",
       "4               7                1             2         0.500000                     pure_coconut_water_with_orange\n",
       "...           ...              ...           ...              ...                                                ...\n",
       "45568       49690                4             5         0.800000                      high_performance_energy_drink\n",
       "45569       49691               31            72         0.430556                        original_pancake_waffle_mix\n",
       "45570       49692                5            12         0.416667    organic_instant_oatmeal_light_maple_brown_sugar\n",
       "45571       49693               11            25         0.440000                             spring_water_body_wash\n",
       "45572       49694                3             9         0.333333                               burrito_steak_cheese\n",
       "\n",
       "[45573 rows x 5 columns]"
      ]
     },
     "execution_count": 32,
     "metadata": {},
     "output_type": "execute_result"
    }
   ],
   "source": [
    "pivot_product_repurchase = pivot_product_repurchase.merge(df_products[['product_id', 'product_name']], on='product_id', how='left')\n",
    "pivot_product_repurchase"
   ]
  },
  {
   "cell_type": "code",
   "execution_count": 33,
   "id": "2bc219fc",
   "metadata": {},
   "outputs": [
    {
     "data": {
      "application/vnd.microsoft.datawrangler.viewer.v0+json": {
       "columns": [
        {
         "name": "index",
         "rawType": "int64",
         "type": "integer"
        },
        {
         "name": "product_id",
         "rawType": "int64",
         "type": "integer"
        },
        {
         "name": "times_reordered",
         "rawType": "int64",
         "type": "integer"
        },
        {
         "name": "total_orders",
         "rawType": "int64",
         "type": "integer"
        },
        {
         "name": "repurchase_rate",
         "rawType": "float64",
         "type": "float"
        },
        {
         "name": "product_name",
         "rawType": "string",
         "type": "string"
        }
       ],
       "ref": "e34f0a24-1531-451f-9019-24d717f8a176",
       "rows": [
        [
         "41269",
         "45035",
         "17",
         "17",
         "1.0",
         "coffee_flavor_yogurt"
        ],
        [
         "35935",
         "39210",
         "16",
         "16",
         "1.0",
         "super_premium_chocolate_ice_cream"
        ],
        [
         "40400",
         "44086",
         "16",
         "16",
         "1.0",
         "natural_fat_free_cheddar_shredded_cheese"
        ],
        [
         "40224",
         "43895",
         "14",
         "14",
         "1.0",
         "sugar_land_sweet_tea"
        ],
        [
         "1523",
         "1673",
         "13",
         "13",
         "1.0",
         "free_ride_hibiscus_brew_craft_brewed_kombucha"
        ],
        [
         "42174",
         "46015",
         "12",
         "12",
         "1.0",
         "100_colombia_supremo_medium"
        ],
        [
         "9538",
         "10463",
         "11",
         "11",
         "1.0",
         "sonic_energy_refreshed"
        ],
        [
         "9863",
         "10813",
         "11",
         "11",
         "1.0",
         "jumbo_ranch_sunflower_seeds"
        ],
        [
         "34875",
         "38041",
         "11",
         "11",
         "1.0",
         "orange_sparkling_water_beverage"
        ],
        [
         "5964",
         "6530",
         "10",
         "10",
         "1.0",
         "organic_popped_corn_simply_salted"
        ],
        [
         "6136",
         "6723",
         "10",
         "10",
         "1.0",
         "palmiers_petite"
        ],
        [
         "14782",
         "16175",
         "10",
         "10",
         "1.0",
         "greek_tirmisu"
        ],
        [
         "34789",
         "37943",
         "10",
         "10",
         "1.0",
         "black_cherry_seltzer"
        ],
        [
         "36693",
         "40038",
         "10",
         "10",
         "1.0",
         "pure_black_cherry_juice"
        ],
        [
         "3076",
         "3367",
         "9",
         "9",
         "1.0",
         "peppermint_mint_roll"
        ],
        [
         "5876",
         "6433",
         "9",
         "9",
         "1.0",
         "raw_veggie_wrappers"
        ],
        [
         "7688",
         "8429",
         "9",
         "9",
         "1.0",
         "oysters_smoked_fancy_in_cottonseed_oil"
        ],
        [
         "8655",
         "9479",
         "9",
         "9",
         "1.0",
         "ham_swiss_sandwich"
        ],
        [
         "14381",
         "15737",
         "9",
         "9",
         "1.0",
         "cheese_pure_goat_milk_plain_chef_s_chevre"
        ],
        [
         "17223",
         "18807",
         "9",
         "9",
         "1.0",
         "seltzer_cherry_pomegranate"
        ]
       ],
       "shape": {
        "columns": 5,
        "rows": 20
       }
      },
      "text/html": [
       "<div>\n",
       "<style scoped>\n",
       "    .dataframe tbody tr th:only-of-type {\n",
       "        vertical-align: middle;\n",
       "    }\n",
       "\n",
       "    .dataframe tbody tr th {\n",
       "        vertical-align: top;\n",
       "    }\n",
       "\n",
       "    .dataframe thead th {\n",
       "        text-align: right;\n",
       "    }\n",
       "</style>\n",
       "<table border=\"1\" class=\"dataframe\">\n",
       "  <thead>\n",
       "    <tr style=\"text-align: right;\">\n",
       "      <th></th>\n",
       "      <th>product_id</th>\n",
       "      <th>times_reordered</th>\n",
       "      <th>total_orders</th>\n",
       "      <th>repurchase_rate</th>\n",
       "      <th>product_name</th>\n",
       "    </tr>\n",
       "  </thead>\n",
       "  <tbody>\n",
       "    <tr>\n",
       "      <th>41269</th>\n",
       "      <td>45035</td>\n",
       "      <td>17</td>\n",
       "      <td>17</td>\n",
       "      <td>1.0</td>\n",
       "      <td>coffee_flavor_yogurt</td>\n",
       "    </tr>\n",
       "    <tr>\n",
       "      <th>35935</th>\n",
       "      <td>39210</td>\n",
       "      <td>16</td>\n",
       "      <td>16</td>\n",
       "      <td>1.0</td>\n",
       "      <td>super_premium_chocolate_ice_cream</td>\n",
       "    </tr>\n",
       "    <tr>\n",
       "      <th>40400</th>\n",
       "      <td>44086</td>\n",
       "      <td>16</td>\n",
       "      <td>16</td>\n",
       "      <td>1.0</td>\n",
       "      <td>natural_fat_free_cheddar_shredded_cheese</td>\n",
       "    </tr>\n",
       "    <tr>\n",
       "      <th>40224</th>\n",
       "      <td>43895</td>\n",
       "      <td>14</td>\n",
       "      <td>14</td>\n",
       "      <td>1.0</td>\n",
       "      <td>sugar_land_sweet_tea</td>\n",
       "    </tr>\n",
       "    <tr>\n",
       "      <th>1523</th>\n",
       "      <td>1673</td>\n",
       "      <td>13</td>\n",
       "      <td>13</td>\n",
       "      <td>1.0</td>\n",
       "      <td>free_ride_hibiscus_brew_craft_brewed_kombucha</td>\n",
       "    </tr>\n",
       "    <tr>\n",
       "      <th>42174</th>\n",
       "      <td>46015</td>\n",
       "      <td>12</td>\n",
       "      <td>12</td>\n",
       "      <td>1.0</td>\n",
       "      <td>100_colombia_supremo_medium</td>\n",
       "    </tr>\n",
       "    <tr>\n",
       "      <th>9538</th>\n",
       "      <td>10463</td>\n",
       "      <td>11</td>\n",
       "      <td>11</td>\n",
       "      <td>1.0</td>\n",
       "      <td>sonic_energy_refreshed</td>\n",
       "    </tr>\n",
       "    <tr>\n",
       "      <th>9863</th>\n",
       "      <td>10813</td>\n",
       "      <td>11</td>\n",
       "      <td>11</td>\n",
       "      <td>1.0</td>\n",
       "      <td>jumbo_ranch_sunflower_seeds</td>\n",
       "    </tr>\n",
       "    <tr>\n",
       "      <th>34875</th>\n",
       "      <td>38041</td>\n",
       "      <td>11</td>\n",
       "      <td>11</td>\n",
       "      <td>1.0</td>\n",
       "      <td>orange_sparkling_water_beverage</td>\n",
       "    </tr>\n",
       "    <tr>\n",
       "      <th>5964</th>\n",
       "      <td>6530</td>\n",
       "      <td>10</td>\n",
       "      <td>10</td>\n",
       "      <td>1.0</td>\n",
       "      <td>organic_popped_corn_simply_salted</td>\n",
       "    </tr>\n",
       "    <tr>\n",
       "      <th>6136</th>\n",
       "      <td>6723</td>\n",
       "      <td>10</td>\n",
       "      <td>10</td>\n",
       "      <td>1.0</td>\n",
       "      <td>palmiers_petite</td>\n",
       "    </tr>\n",
       "    <tr>\n",
       "      <th>14782</th>\n",
       "      <td>16175</td>\n",
       "      <td>10</td>\n",
       "      <td>10</td>\n",
       "      <td>1.0</td>\n",
       "      <td>greek_tirmisu</td>\n",
       "    </tr>\n",
       "    <tr>\n",
       "      <th>34789</th>\n",
       "      <td>37943</td>\n",
       "      <td>10</td>\n",
       "      <td>10</td>\n",
       "      <td>1.0</td>\n",
       "      <td>black_cherry_seltzer</td>\n",
       "    </tr>\n",
       "    <tr>\n",
       "      <th>36693</th>\n",
       "      <td>40038</td>\n",
       "      <td>10</td>\n",
       "      <td>10</td>\n",
       "      <td>1.0</td>\n",
       "      <td>pure_black_cherry_juice</td>\n",
       "    </tr>\n",
       "    <tr>\n",
       "      <th>3076</th>\n",
       "      <td>3367</td>\n",
       "      <td>9</td>\n",
       "      <td>9</td>\n",
       "      <td>1.0</td>\n",
       "      <td>peppermint_mint_roll</td>\n",
       "    </tr>\n",
       "    <tr>\n",
       "      <th>5876</th>\n",
       "      <td>6433</td>\n",
       "      <td>9</td>\n",
       "      <td>9</td>\n",
       "      <td>1.0</td>\n",
       "      <td>raw_veggie_wrappers</td>\n",
       "    </tr>\n",
       "    <tr>\n",
       "      <th>7688</th>\n",
       "      <td>8429</td>\n",
       "      <td>9</td>\n",
       "      <td>9</td>\n",
       "      <td>1.0</td>\n",
       "      <td>oysters_smoked_fancy_in_cottonseed_oil</td>\n",
       "    </tr>\n",
       "    <tr>\n",
       "      <th>8655</th>\n",
       "      <td>9479</td>\n",
       "      <td>9</td>\n",
       "      <td>9</td>\n",
       "      <td>1.0</td>\n",
       "      <td>ham_swiss_sandwich</td>\n",
       "    </tr>\n",
       "    <tr>\n",
       "      <th>14381</th>\n",
       "      <td>15737</td>\n",
       "      <td>9</td>\n",
       "      <td>9</td>\n",
       "      <td>1.0</td>\n",
       "      <td>cheese_pure_goat_milk_plain_chef_s_chevre</td>\n",
       "    </tr>\n",
       "    <tr>\n",
       "      <th>17223</th>\n",
       "      <td>18807</td>\n",
       "      <td>9</td>\n",
       "      <td>9</td>\n",
       "      <td>1.0</td>\n",
       "      <td>seltzer_cherry_pomegranate</td>\n",
       "    </tr>\n",
       "  </tbody>\n",
       "</table>\n",
       "</div>"
      ],
      "text/plain": [
       "       product_id  times_reordered  total_orders  repurchase_rate                                   product_name\n",
       "41269       45035               17            17              1.0                           coffee_flavor_yogurt\n",
       "35935       39210               16            16              1.0              super_premium_chocolate_ice_cream\n",
       "40400       44086               16            16              1.0       natural_fat_free_cheddar_shredded_cheese\n",
       "40224       43895               14            14              1.0                           sugar_land_sweet_tea\n",
       "1523         1673               13            13              1.0  free_ride_hibiscus_brew_craft_brewed_kombucha\n",
       "42174       46015               12            12              1.0                    100_colombia_supremo_medium\n",
       "9538        10463               11            11              1.0                         sonic_energy_refreshed\n",
       "9863        10813               11            11              1.0                    jumbo_ranch_sunflower_seeds\n",
       "34875       38041               11            11              1.0                orange_sparkling_water_beverage\n",
       "5964         6530               10            10              1.0              organic_popped_corn_simply_salted\n",
       "6136         6723               10            10              1.0                                palmiers_petite\n",
       "14782       16175               10            10              1.0                                  greek_tirmisu\n",
       "34789       37943               10            10              1.0                           black_cherry_seltzer\n",
       "36693       40038               10            10              1.0                        pure_black_cherry_juice\n",
       "3076         3367                9             9              1.0                           peppermint_mint_roll\n",
       "5876         6433                9             9              1.0                            raw_veggie_wrappers\n",
       "7688         8429                9             9              1.0         oysters_smoked_fancy_in_cottonseed_oil\n",
       "8655         9479                9             9              1.0                             ham_swiss_sandwich\n",
       "14381       15737                9             9              1.0      cheese_pure_goat_milk_plain_chef_s_chevre\n",
       "17223       18807                9             9              1.0                     seltzer_cherry_pomegranate"
      ]
     },
     "execution_count": 33,
     "metadata": {},
     "output_type": "execute_result"
    }
   ],
   "source": [
    "pivot_product_repurchase.sort_values(by=['repurchase_rate', 'times_reordered'], ascending=[False, False]).head(20)"
   ]
  },
  {
   "cell_type": "code",
   "execution_count": 34,
   "id": "3f3e5d55",
   "metadata": {},
   "outputs": [],
   "source": [
    "project_root = Path.cwd().parent\n",
    "processed_path = project_root / \"data\" / \"processed\" / \"product_activity\" / \"product_repurchase.csv\"\n",
    "\n",
    "pivot_product_repurchase.to_csv(processed_path, index=False)"
   ]
  },
  {
   "cell_type": "markdown",
   "id": "f1f5a95f",
   "metadata": {},
   "source": [
    "#### 4.2.3 Product preference and relevance"
   ]
  },
  {
   "cell_type": "code",
   "execution_count": 35,
   "id": "a2265c2f",
   "metadata": {},
   "outputs": [
    {
     "data": {
      "application/vnd.microsoft.datawrangler.viewer.v0+json": {
       "columns": [
        {
         "name": "index",
         "rawType": "int64",
         "type": "integer"
        },
        {
         "name": "product_id",
         "rawType": "int64",
         "type": "integer"
        },
        {
         "name": "first_add_count",
         "rawType": "int64",
         "type": "integer"
        }
       ],
       "ref": "28fd6587-c590-460d-a4cf-2f0276471c7a",
       "rows": [
        [
         "13414",
         "24852",
         "15562"
        ],
        [
         "7127",
         "13176",
         "11026"
        ],
        [
         "15028",
         "27845",
         "4363"
        ],
        [
         "11384",
         "21137",
         "3946"
        ],
        [
         "25439",
         "47209",
         "3390"
        ],
        [
         "11786",
         "21903",
         "3336"
        ],
        [
         "25732",
         "47766",
         "3044"
        ],
        [
         "10622",
         "19660",
         "2336"
        ],
        [
         "9050",
         "16797",
         "2308"
        ],
        [
         "15102",
         "27966",
         "2024"
        ],
        [
         "24024",
         "44632",
         "1914"
        ],
        [
         "26519",
         "49235",
         "1797"
        ],
        [
         "25658",
         "47626",
         "1737"
        ],
        [
         "115",
         "196",
         "1733"
        ],
        [
         "20853",
         "38689",
         "1397"
        ],
        [
         "14158",
         "26209",
         "1370"
        ],
        [
         "6660",
         "12341",
         "1340"
        ],
        [
         "3153",
         "5785",
         "1310"
        ],
        [
         "14639",
         "27086",
         "1309"
        ],
        [
         "12349",
         "22935",
         "1246"
        ],
        [
         "23335",
         "43352",
         "1246"
        ],
        [
         "4499",
         "8277",
         "1200"
        ],
        [
         "21175",
         "39275",
         "1185"
        ],
        [
         "15212",
         "28204",
         "1183"
        ],
        [
         "17917",
         "33198",
         "1175"
        ],
        [
         "2279",
         "4210",
         "1166"
        ],
        [
         "19397",
         "35951",
         "1146"
        ],
        [
         "13406",
         "24838",
         "1127"
        ],
        [
         "26752",
         "49683",
         "1078"
        ],
        [
         "12911",
         "23909",
         "1057"
        ],
        [
         "15619",
         "28985",
         "1052"
        ],
        [
         "6247",
         "11520",
         "1045"
        ],
        [
         "13476",
         "24964",
         "1035"
        ],
        [
         "24267",
         "45066",
         "997"
        ],
        [
         "3211",
         "5876",
         "985"
        ],
        [
         "2135",
         "3957",
         "975"
        ],
        [
         "2990",
         "5479",
         "972"
        ],
        [
         "2664",
         "4920",
         "948"
        ],
        [
         "24236",
         "45007",
         "941"
        ],
        [
         "3375",
         "6184",
         "932"
        ],
        [
         "10309",
         "19057",
         "924"
        ],
        [
         "2760",
         "5077",
         "913"
        ],
        [
         "2497",
         "4605",
         "879"
        ],
        [
         "13980",
         "25890",
         "848"
        ],
        [
         "20284",
         "37646",
         "841"
        ],
        [
         "19004",
         "35221",
         "838"
        ],
        [
         "11641",
         "21616",
         "808"
        ],
        [
         "23231",
         "43154",
         "804"
        ],
        [
         "806",
         "1463",
         "799"
        ],
        [
         "25405",
         "47144",
         "795"
        ]
       ],
       "shape": {
        "columns": 2,
        "rows": 26760
       }
      },
      "text/html": [
       "<div>\n",
       "<style scoped>\n",
       "    .dataframe tbody tr th:only-of-type {\n",
       "        vertical-align: middle;\n",
       "    }\n",
       "\n",
       "    .dataframe tbody tr th {\n",
       "        vertical-align: top;\n",
       "    }\n",
       "\n",
       "    .dataframe thead th {\n",
       "        text-align: right;\n",
       "    }\n",
       "</style>\n",
       "<table border=\"1\" class=\"dataframe\">\n",
       "  <thead>\n",
       "    <tr style=\"text-align: right;\">\n",
       "      <th></th>\n",
       "      <th>product_id</th>\n",
       "      <th>first_add_count</th>\n",
       "    </tr>\n",
       "  </thead>\n",
       "  <tbody>\n",
       "    <tr>\n",
       "      <th>13414</th>\n",
       "      <td>24852</td>\n",
       "      <td>15562</td>\n",
       "    </tr>\n",
       "    <tr>\n",
       "      <th>7127</th>\n",
       "      <td>13176</td>\n",
       "      <td>11026</td>\n",
       "    </tr>\n",
       "    <tr>\n",
       "      <th>15028</th>\n",
       "      <td>27845</td>\n",
       "      <td>4363</td>\n",
       "    </tr>\n",
       "    <tr>\n",
       "      <th>11384</th>\n",
       "      <td>21137</td>\n",
       "      <td>3946</td>\n",
       "    </tr>\n",
       "    <tr>\n",
       "      <th>25439</th>\n",
       "      <td>47209</td>\n",
       "      <td>3390</td>\n",
       "    </tr>\n",
       "    <tr>\n",
       "      <th>...</th>\n",
       "      <td>...</td>\n",
       "      <td>...</td>\n",
       "    </tr>\n",
       "    <tr>\n",
       "      <th>26</th>\n",
       "      <td>43</td>\n",
       "      <td>1</td>\n",
       "    </tr>\n",
       "    <tr>\n",
       "      <th>25</th>\n",
       "      <td>41</td>\n",
       "      <td>1</td>\n",
       "    </tr>\n",
       "    <tr>\n",
       "      <th>20</th>\n",
       "      <td>33</td>\n",
       "      <td>1</td>\n",
       "    </tr>\n",
       "    <tr>\n",
       "      <th>11804</th>\n",
       "      <td>21942</td>\n",
       "      <td>1</td>\n",
       "    </tr>\n",
       "    <tr>\n",
       "      <th>11800</th>\n",
       "      <td>21935</td>\n",
       "      <td>1</td>\n",
       "    </tr>\n",
       "  </tbody>\n",
       "</table>\n",
       "<p>26760 rows × 2 columns</p>\n",
       "</div>"
      ],
      "text/plain": [
       "       product_id  first_add_count\n",
       "13414       24852            15562\n",
       "7127        13176            11026\n",
       "15028       27845             4363\n",
       "11384       21137             3946\n",
       "25439       47209             3390\n",
       "...           ...              ...\n",
       "26             43                1\n",
       "25             41                1\n",
       "20             33                1\n",
       "11804       21942                1\n",
       "11800       21935                1\n",
       "\n",
       "[26760 rows x 2 columns]"
      ]
     },
     "execution_count": 35,
     "metadata": {},
     "output_type": "execute_result"
    }
   ],
   "source": [
    "# Products typically added to the cart first\n",
    "product_preference = (df_order_products[df_order_products['add_to_cart_order'] == 1].groupby('product_id').size()\n",
    "                      .reset_index(name='first_add_count').sort_values(by='first_add_count', ascending=False))\n",
    "product_preference"
   ]
  },
  {
   "cell_type": "code",
   "execution_count": 36,
   "id": "f5bc4616",
   "metadata": {},
   "outputs": [
    {
     "data": {
      "application/vnd.microsoft.datawrangler.viewer.v0+json": {
       "columns": [
        {
         "name": "index",
         "rawType": "int64",
         "type": "integer"
        },
        {
         "name": "product_id",
         "rawType": "int64",
         "type": "integer"
        },
        {
         "name": "first_add_count",
         "rawType": "int64",
         "type": "integer"
        },
        {
         "name": "product_name",
         "rawType": "string",
         "type": "string"
        }
       ],
       "ref": "c9c96823-0679-4ac2-b11a-04f02e192bbc",
       "rows": [
        [
         "0",
         "24852",
         "15562",
         "banana"
        ],
        [
         "1",
         "13176",
         "11026",
         "bag_of_organic_bananas"
        ],
        [
         "2",
         "27845",
         "4363",
         "organic_whole_milk"
        ],
        [
         "3",
         "21137",
         "3946",
         "organic_strawberries"
        ],
        [
         "4",
         "47209",
         "3390",
         "organic_hass_avocado"
        ],
        [
         "5",
         "21903",
         "3336",
         "organic_baby_spinach"
        ],
        [
         "6",
         "47766",
         "3044",
         "organic_avocado"
        ],
        [
         "7",
         "19660",
         "2336",
         "spring_water"
        ],
        [
         "8",
         "16797",
         "2308",
         "strawberries"
        ],
        [
         "9",
         "27966",
         "2024",
         "organic_raspberries"
        ],
        [
         "10",
         "44632",
         "1914",
         "sparkling_water_grapefruit"
        ],
        [
         "11",
         "49235",
         "1797",
         "organic_half_half"
        ],
        [
         "12",
         "47626",
         "1737",
         "large_lemon"
        ],
        [
         "13",
         "196",
         "1733",
         "soda"
        ],
        [
         "14",
         "38689",
         "1397",
         "organic_reduced_fat_milk"
        ],
        [
         "15",
         "26209",
         "1370",
         "limes"
        ],
        [
         "16",
         "12341",
         "1340",
         "hass_avocados"
        ],
        [
         "17",
         "5785",
         "1310",
         "organic_reduced_fat_2_milk"
        ],
        [
         "18",
         "27086",
         "1309",
         "half_half"
        ],
        [
         "19",
         "22935",
         "1246",
         "organic_yellow_onion"
        ],
        [
         "20",
         "43352",
         "1246",
         "raspberries"
        ],
        [
         "21",
         "8277",
         "1200",
         "apple_honeycrisp_organic"
        ],
        [
         "22",
         "39275",
         "1185",
         "organic_blueberries"
        ],
        [
         "23",
         "28204",
         "1183",
         "organic_fuji_apple"
        ],
        [
         "24",
         "33198",
         "1175",
         "sparkling_natural_mineral_water"
        ],
        [
         "25",
         "4210",
         "1166",
         "whole_milk"
        ],
        [
         "26",
         "35951",
         "1146",
         "organic_unsweetened_almond_milk"
        ],
        [
         "27",
         "24838",
         "1127",
         "unsweetened_almondmilk"
        ],
        [
         "28",
         "49683",
         "1078",
         "cucumber_kirby"
        ],
        [
         "29",
         "23909",
         "1057",
         "2_reduced_fat_milk"
        ],
        [
         "30",
         "28985",
         "1052",
         "michigan_organic_kale"
        ],
        [
         "31",
         "11520",
         "1045",
         "large_alfresco_eggs"
        ],
        [
         "32",
         "24964",
         "1035",
         "organic_garlic"
        ],
        [
         "33",
         "45066",
         "997",
         "honeycrisp_apple"
        ],
        [
         "34",
         "5876",
         "985",
         "organic_lemon"
        ],
        [
         "35",
         "3957",
         "975",
         "100_raw_coconut_water"
        ],
        [
         "36",
         "5479",
         "972",
         "italian_sparkling_mineral_water"
        ],
        [
         "37",
         "4920",
         "948",
         "seedless_red_grapes"
        ],
        [
         "38",
         "45007",
         "941",
         "organic_zucchini"
        ],
        [
         "39",
         "6184",
         "932",
         "clementines"
        ],
        [
         "40",
         "19057",
         "924",
         "organic_large_extra_fancy_fuji_apple"
        ],
        [
         "41",
         "5077",
         "913",
         "100_whole_wheat_bread"
        ],
        [
         "42",
         "4605",
         "879",
         "yellow_onions"
        ],
        [
         "43",
         "25890",
         "848",
         "boneless_skinless_chicken_breasts"
        ],
        [
         "44",
         "37646",
         "841",
         "organic_gala_apples"
        ],
        [
         "45",
         "35221",
         "838",
         "lime_sparkling_water"
        ],
        [
         "46",
         "21616",
         "808",
         "organic_baby_arugula"
        ],
        [
         "47",
         "43154",
         "804",
         "sparkling_mineral_water"
        ],
        [
         "48",
         "1463",
         "799",
         "organic_milk"
        ],
        [
         "49",
         "47144",
         "795",
         "unsweetened_original_almond_breeze_almond_milk"
        ]
       ],
       "shape": {
        "columns": 3,
        "rows": 26760
       }
      },
      "text/html": [
       "<div>\n",
       "<style scoped>\n",
       "    .dataframe tbody tr th:only-of-type {\n",
       "        vertical-align: middle;\n",
       "    }\n",
       "\n",
       "    .dataframe tbody tr th {\n",
       "        vertical-align: top;\n",
       "    }\n",
       "\n",
       "    .dataframe thead th {\n",
       "        text-align: right;\n",
       "    }\n",
       "</style>\n",
       "<table border=\"1\" class=\"dataframe\">\n",
       "  <thead>\n",
       "    <tr style=\"text-align: right;\">\n",
       "      <th></th>\n",
       "      <th>product_id</th>\n",
       "      <th>first_add_count</th>\n",
       "      <th>product_name</th>\n",
       "    </tr>\n",
       "  </thead>\n",
       "  <tbody>\n",
       "    <tr>\n",
       "      <th>0</th>\n",
       "      <td>24852</td>\n",
       "      <td>15562</td>\n",
       "      <td>banana</td>\n",
       "    </tr>\n",
       "    <tr>\n",
       "      <th>1</th>\n",
       "      <td>13176</td>\n",
       "      <td>11026</td>\n",
       "      <td>bag_of_organic_bananas</td>\n",
       "    </tr>\n",
       "    <tr>\n",
       "      <th>2</th>\n",
       "      <td>27845</td>\n",
       "      <td>4363</td>\n",
       "      <td>organic_whole_milk</td>\n",
       "    </tr>\n",
       "    <tr>\n",
       "      <th>3</th>\n",
       "      <td>21137</td>\n",
       "      <td>3946</td>\n",
       "      <td>organic_strawberries</td>\n",
       "    </tr>\n",
       "    <tr>\n",
       "      <th>4</th>\n",
       "      <td>47209</td>\n",
       "      <td>3390</td>\n",
       "      <td>organic_hass_avocado</td>\n",
       "    </tr>\n",
       "    <tr>\n",
       "      <th>...</th>\n",
       "      <td>...</td>\n",
       "      <td>...</td>\n",
       "      <td>...</td>\n",
       "    </tr>\n",
       "    <tr>\n",
       "      <th>26755</th>\n",
       "      <td>43</td>\n",
       "      <td>1</td>\n",
       "      <td>organic_clementines</td>\n",
       "    </tr>\n",
       "    <tr>\n",
       "      <th>26756</th>\n",
       "      <td>41</td>\n",
       "      <td>1</td>\n",
       "      <td>organic_sourdough_einkorn_crackers_rosemary</td>\n",
       "    </tr>\n",
       "    <tr>\n",
       "      <th>26757</th>\n",
       "      <td>33</td>\n",
       "      <td>1</td>\n",
       "      <td>organic_spaghetti_style_pasta</td>\n",
       "    </tr>\n",
       "    <tr>\n",
       "      <th>26758</th>\n",
       "      <td>21942</td>\n",
       "      <td>1</td>\n",
       "      <td>dry_roasted_edamame_berry_blend</td>\n",
       "    </tr>\n",
       "    <tr>\n",
       "      <th>26759</th>\n",
       "      <td>21935</td>\n",
       "      <td>1</td>\n",
       "      <td>the_original_almond_biscuits</td>\n",
       "    </tr>\n",
       "  </tbody>\n",
       "</table>\n",
       "<p>26760 rows × 3 columns</p>\n",
       "</div>"
      ],
      "text/plain": [
       "       product_id  first_add_count                                 product_name\n",
       "0           24852            15562                                       banana\n",
       "1           13176            11026                       bag_of_organic_bananas\n",
       "2           27845             4363                           organic_whole_milk\n",
       "3           21137             3946                         organic_strawberries\n",
       "4           47209             3390                         organic_hass_avocado\n",
       "...           ...              ...                                          ...\n",
       "26755          43                1                          organic_clementines\n",
       "26756          41                1  organic_sourdough_einkorn_crackers_rosemary\n",
       "26757          33                1                organic_spaghetti_style_pasta\n",
       "26758       21942                1              dry_roasted_edamame_berry_blend\n",
       "26759       21935                1                 the_original_almond_biscuits\n",
       "\n",
       "[26760 rows x 3 columns]"
      ]
     },
     "execution_count": 36,
     "metadata": {},
     "output_type": "execute_result"
    }
   ],
   "source": [
    "product_preference = product_preference.merge(df_products[['product_id', 'product_name']], on='product_id', how='left')\n",
    "product_preference\n"
   ]
  },
  {
   "cell_type": "code",
   "execution_count": 37,
   "id": "506e292a",
   "metadata": {},
   "outputs": [
    {
     "data": {
      "application/vnd.microsoft.datawrangler.viewer.v0+json": {
       "columns": [
        {
         "name": "index",
         "rawType": "int64",
         "type": "integer"
        },
        {
         "name": "product_id",
         "rawType": "int64",
         "type": "integer"
        },
        {
         "name": "first_add_count",
         "rawType": "int64",
         "type": "integer"
        },
        {
         "name": "product_name",
         "rawType": "string",
         "type": "string"
        },
        {
         "name": "total_orders",
         "rawType": "int64",
         "type": "integer"
        },
        {
         "name": "first_add_rate",
         "rawType": "float64",
         "type": "float"
        }
       ],
       "ref": "46950a45-6fdc-487b-8530-6be31dbcedbe",
       "rows": [
        [
         "0",
         "24852",
         "15562",
         "banana",
         "66050",
         "0.2356093868281605"
        ],
        [
         "1",
         "13176",
         "11026",
         "bag_of_organic_bananas",
         "53297",
         "0.20687843593448035"
        ],
        [
         "2",
         "27845",
         "4363",
         "organic_whole_milk",
         "19600",
         "0.22260204081632654"
        ],
        [
         "3",
         "21137",
         "3946",
         "organic_strawberries",
         "37039",
         "0.10653635357326062"
        ],
        [
         "4",
         "47209",
         "3390",
         "organic_hass_avocado",
         "29773",
         "0.11386155241326033"
        ],
        [
         "5",
         "21903",
         "3336",
         "organic_baby_spinach",
         "33971",
         "0.09820140708251156"
        ],
        [
         "6",
         "47766",
         "3044",
         "organic_avocado",
         "24689",
         "0.12329377455547005"
        ],
        [
         "7",
         "19660",
         "2336",
         "spring_water",
         "7675",
         "0.3043648208469055"
        ],
        [
         "8",
         "16797",
         "2308",
         "strawberries",
         "20018",
         "0.11529623338994904"
        ],
        [
         "9",
         "27966",
         "2024",
         "organic_raspberries",
         "19197",
         "0.10543314059488462"
        ],
        [
         "10",
         "44632",
         "1914",
         "sparkling_water_grapefruit",
         "10577",
         "0.18095868393684408"
        ],
        [
         "11",
         "49235",
         "1797",
         "organic_half_half",
         "10752",
         "0.16713169642857142"
        ],
        [
         "12",
         "47626",
         "1737",
         "large_lemon",
         "21495",
         "0.08080949057920446"
        ],
        [
         "13",
         "196",
         "1733",
         "soda",
         "5043",
         "0.3436446559587547"
        ],
        [
         "14",
         "38689",
         "1397",
         "organic_reduced_fat_milk",
         "5032",
         "0.27762321144674085"
        ],
        [
         "15",
         "26209",
         "1370",
         "limes",
         "19690",
         "0.06957846622651091"
        ],
        [
         "16",
         "12341",
         "1340",
         "hass_avocados",
         "7112",
         "0.18841394825646793"
        ],
        [
         "17",
         "5785",
         "1310",
         "organic_reduced_fat_2_milk",
         "6635",
         "0.1974378296910324"
        ],
        [
         "18",
         "27086",
         "1309",
         "half_half",
         "9588",
         "0.13652482269503546"
        ],
        [
         "19",
         "22935",
         "1246",
         "organic_yellow_onion",
         "15898",
         "0.07837463831928544"
        ],
        [
         "20",
         "43352",
         "1246",
         "raspberries",
         "8056",
         "0.15466732869910627"
        ],
        [
         "21",
         "8277",
         "1200",
         "apple_honeycrisp_organic",
         "11993",
         "0.10005836738097224"
        ],
        [
         "22",
         "39275",
         "1185",
         "organic_blueberries",
         "13879",
         "0.08538079112327977"
        ],
        [
         "23",
         "28204",
         "1183",
         "organic_fuji_apple",
         "12544",
         "0.09430803571428571"
        ],
        [
         "24",
         "33198",
         "1175",
         "sparkling_natural_mineral_water",
         "5941",
         "0.19777815182629188"
        ],
        [
         "25",
         "4210",
         "1166",
         "whole_milk",
         "5070",
         "0.22998027613412228"
        ],
        [
         "26",
         "35951",
         "1146",
         "organic_unsweetened_almond_milk",
         "8145",
         "0.1406998158379374"
        ],
        [
         "27",
         "24838",
         "1127",
         "unsweetened_almondmilk",
         "6958",
         "0.1619718309859155"
        ],
        [
         "28",
         "49683",
         "1078",
         "cucumber_kirby",
         "13675",
         "0.07882998171846435"
        ],
        [
         "29",
         "23909",
         "1057",
         "2_reduced_fat_milk",
         "5137",
         "0.20576211796768543"
        ],
        [
         "30",
         "28985",
         "1052",
         "michigan_organic_kale",
         "9469",
         "0.11109937691414089"
        ],
        [
         "31",
         "11520",
         "1045",
         "large_alfresco_eggs",
         "5730",
         "0.1823734729493892"
        ],
        [
         "32",
         "24964",
         "1035",
         "organic_garlic",
         "15292",
         "0.06768244833900078"
        ],
        [
         "33",
         "45066",
         "997",
         "honeycrisp_apple",
         "11089",
         "0.08990891874830914"
        ],
        [
         "34",
         "5876",
         "985",
         "organic_lemon",
         "12232",
         "0.08052648790058863"
        ],
        [
         "35",
         "3957",
         "975",
         "100_raw_coconut_water",
         "5291",
         "0.18427518427518427"
        ],
        [
         "36",
         "5479",
         "972",
         "italian_sparkling_mineral_water",
         "4301",
         "0.22599395489421065"
        ],
        [
         "37",
         "4920",
         "948",
         "seedless_red_grapes",
         "11755",
         "0.08064653339004679"
        ],
        [
         "38",
         "45007",
         "941",
         "organic_zucchini",
         "14584",
         "0.06452276467361492"
        ],
        [
         "39",
         "6184",
         "932",
         "clementines",
         "4331",
         "0.2151927961209882"
        ],
        [
         "40",
         "19057",
         "924",
         "organic_large_extra_fancy_fuji_apple",
         "10651",
         "0.08675241761336963"
        ],
        [
         "41",
         "5077",
         "913",
         "100_whole_wheat_bread",
         "8429",
         "0.10831652627832483"
        ],
        [
         "42",
         "4605",
         "879",
         "yellow_onions",
         "10400",
         "0.08451923076923076"
        ],
        [
         "43",
         "25890",
         "848",
         "boneless_skinless_chicken_breasts",
         "7149",
         "0.11861798852986431"
        ],
        [
         "44",
         "37646",
         "841",
         "organic_gala_apples",
         "10215",
         "0.08232990699951052"
        ],
        [
         "45",
         "35221",
         "838",
         "lime_sparkling_water",
         "6533",
         "0.12827185060462268"
        ],
        [
         "46",
         "21616",
         "808",
         "organic_baby_arugula",
         "10172",
         "0.0794337396775462"
        ],
        [
         "47",
         "43154",
         "804",
         "sparkling_mineral_water",
         "2563",
         "0.31369488880218493"
        ],
        [
         "48",
         "1463",
         "799",
         "organic_milk",
         "3841",
         "0.20801874511845875"
        ],
        [
         "49",
         "47144",
         "795",
         "unsweetened_original_almond_breeze_almond_milk",
         "4958",
         "0.16034691407825735"
        ]
       ],
       "shape": {
        "columns": 5,
        "rows": 26760
       }
      },
      "text/html": [
       "<div>\n",
       "<style scoped>\n",
       "    .dataframe tbody tr th:only-of-type {\n",
       "        vertical-align: middle;\n",
       "    }\n",
       "\n",
       "    .dataframe tbody tr th {\n",
       "        vertical-align: top;\n",
       "    }\n",
       "\n",
       "    .dataframe thead th {\n",
       "        text-align: right;\n",
       "    }\n",
       "</style>\n",
       "<table border=\"1\" class=\"dataframe\">\n",
       "  <thead>\n",
       "    <tr style=\"text-align: right;\">\n",
       "      <th></th>\n",
       "      <th>product_id</th>\n",
       "      <th>first_add_count</th>\n",
       "      <th>product_name</th>\n",
       "      <th>total_orders</th>\n",
       "      <th>first_add_rate</th>\n",
       "    </tr>\n",
       "  </thead>\n",
       "  <tbody>\n",
       "    <tr>\n",
       "      <th>0</th>\n",
       "      <td>24852</td>\n",
       "      <td>15562</td>\n",
       "      <td>banana</td>\n",
       "      <td>66050</td>\n",
       "      <td>0.235609</td>\n",
       "    </tr>\n",
       "    <tr>\n",
       "      <th>1</th>\n",
       "      <td>13176</td>\n",
       "      <td>11026</td>\n",
       "      <td>bag_of_organic_bananas</td>\n",
       "      <td>53297</td>\n",
       "      <td>0.206878</td>\n",
       "    </tr>\n",
       "    <tr>\n",
       "      <th>2</th>\n",
       "      <td>27845</td>\n",
       "      <td>4363</td>\n",
       "      <td>organic_whole_milk</td>\n",
       "      <td>19600</td>\n",
       "      <td>0.222602</td>\n",
       "    </tr>\n",
       "    <tr>\n",
       "      <th>3</th>\n",
       "      <td>21137</td>\n",
       "      <td>3946</td>\n",
       "      <td>organic_strawberries</td>\n",
       "      <td>37039</td>\n",
       "      <td>0.106536</td>\n",
       "    </tr>\n",
       "    <tr>\n",
       "      <th>4</th>\n",
       "      <td>47209</td>\n",
       "      <td>3390</td>\n",
       "      <td>organic_hass_avocado</td>\n",
       "      <td>29773</td>\n",
       "      <td>0.113862</td>\n",
       "    </tr>\n",
       "    <tr>\n",
       "      <th>...</th>\n",
       "      <td>...</td>\n",
       "      <td>...</td>\n",
       "      <td>...</td>\n",
       "      <td>...</td>\n",
       "      <td>...</td>\n",
       "    </tr>\n",
       "    <tr>\n",
       "      <th>26755</th>\n",
       "      <td>43</td>\n",
       "      <td>1</td>\n",
       "      <td>organic_clementines</td>\n",
       "      <td>29</td>\n",
       "      <td>0.034483</td>\n",
       "    </tr>\n",
       "    <tr>\n",
       "      <th>26756</th>\n",
       "      <td>41</td>\n",
       "      <td>1</td>\n",
       "      <td>organic_sourdough_einkorn_crackers_rosemary</td>\n",
       "      <td>6</td>\n",
       "      <td>0.166667</td>\n",
       "    </tr>\n",
       "    <tr>\n",
       "      <th>26757</th>\n",
       "      <td>33</td>\n",
       "      <td>1</td>\n",
       "      <td>organic_spaghetti_style_pasta</td>\n",
       "      <td>5</td>\n",
       "      <td>0.200000</td>\n",
       "    </tr>\n",
       "    <tr>\n",
       "      <th>26758</th>\n",
       "      <td>21942</td>\n",
       "      <td>1</td>\n",
       "      <td>dry_roasted_edamame_berry_blend</td>\n",
       "      <td>1</td>\n",
       "      <td>1.000000</td>\n",
       "    </tr>\n",
       "    <tr>\n",
       "      <th>26759</th>\n",
       "      <td>21935</td>\n",
       "      <td>1</td>\n",
       "      <td>the_original_almond_biscuits</td>\n",
       "      <td>35</td>\n",
       "      <td>0.028571</td>\n",
       "    </tr>\n",
       "  </tbody>\n",
       "</table>\n",
       "<p>26760 rows × 5 columns</p>\n",
       "</div>"
      ],
      "text/plain": [
       "       product_id  first_add_count                                 product_name  total_orders  first_add_rate\n",
       "0           24852            15562                                       banana         66050        0.235609\n",
       "1           13176            11026                       bag_of_organic_bananas         53297        0.206878\n",
       "2           27845             4363                           organic_whole_milk         19600        0.222602\n",
       "3           21137             3946                         organic_strawberries         37039        0.106536\n",
       "4           47209             3390                         organic_hass_avocado         29773        0.113862\n",
       "...           ...              ...                                          ...           ...             ...\n",
       "26755          43                1                          organic_clementines            29        0.034483\n",
       "26756          41                1  organic_sourdough_einkorn_crackers_rosemary             6        0.166667\n",
       "26757          33                1                organic_spaghetti_style_pasta             5        0.200000\n",
       "26758       21942                1              dry_roasted_edamame_berry_blend             1        1.000000\n",
       "26759       21935                1                 the_original_almond_biscuits            35        0.028571\n",
       "\n",
       "[26760 rows x 5 columns]"
      ]
     },
     "execution_count": 37,
     "metadata": {},
     "output_type": "execute_result"
    }
   ],
   "source": [
    "# Products typically added to the cart first relevance\n",
    "total_orders = df_order_products.groupby('product_id').size().reset_index(name='total_orders')\n",
    "product_preference = product_preference.merge(total_orders, on='product_id')\n",
    "product_preference['first_add_rate'] = (product_preference['first_add_count'] / product_preference['total_orders'])\n",
    "product_preference\n"
   ]
  },
  {
   "cell_type": "code",
   "execution_count": 38,
   "id": "1ebde8a6",
   "metadata": {},
   "outputs": [],
   "source": [
    "project_root = Path.cwd().parent\n",
    "processed_path = project_root / \"data\" / \"processed\" / \"product_activity\" / \"product_preference.csv\"\n",
    "\n",
    "product_preference.to_csv(processed_path, index=False)"
   ]
  },
  {
   "cell_type": "markdown",
   "id": "2ace6f24",
   "metadata": {},
   "source": [
    "#### 4.2.4 Product relationship between the order in which a product is added to the cart and the likelihood of it being reordered"
   ]
  },
  {
   "cell_type": "code",
   "execution_count": 39,
   "id": "ecbc4f65",
   "metadata": {},
   "outputs": [
    {
     "data": {
      "application/vnd.microsoft.datawrangler.viewer.v0+json": {
       "columns": [
        {
         "name": "index",
         "rawType": "int64",
         "type": "integer"
        },
        {
         "name": "add_to_cart_order",
         "rawType": "Int64",
         "type": "integer"
        },
        {
         "name": "reordered",
         "rawType": "bool",
         "type": "boolean"
        }
       ],
       "ref": "7301912b-c2d0-4e5f-8811-da95e0f8b1a7",
       "rows": [
        [
         "0",
         "17",
         "False"
        ],
        [
         "1",
         "1",
         "True"
        ],
        [
         "2",
         "1",
         "True"
        ],
        [
         "3",
         "35",
         "True"
        ],
        [
         "4",
         "5",
         "True"
        ],
        [
         "5",
         "4",
         "True"
        ],
        [
         "6",
         "5",
         "True"
        ],
        [
         "7",
         "10",
         "True"
        ],
        [
         "8",
         "14",
         "True"
        ],
        [
         "9",
         "4",
         "True"
        ],
        [
         "10",
         "2",
         "True"
        ],
        [
         "11",
         "28",
         "False"
        ],
        [
         "12",
         "10",
         "True"
        ],
        [
         "13",
         "3",
         "False"
        ],
        [
         "14",
         "1",
         "True"
        ],
        [
         "15",
         "16",
         "True"
        ],
        [
         "16",
         "1",
         "True"
        ],
        [
         "17",
         "8",
         "True"
        ],
        [
         "18",
         "7",
         "False"
        ],
        [
         "19",
         "5",
         "True"
        ],
        [
         "20",
         "5",
         "True"
        ],
        [
         "21",
         "2",
         "False"
        ],
        [
         "22",
         "6",
         "True"
        ],
        [
         "23",
         "1",
         "False"
        ],
        [
         "24",
         "4",
         "False"
        ],
        [
         "25",
         "2",
         "False"
        ],
        [
         "26",
         "3",
         "True"
        ],
        [
         "27",
         "9",
         "True"
        ],
        [
         "28",
         "16",
         "False"
        ],
        [
         "29",
         "15",
         "False"
        ],
        [
         "30",
         "9",
         "False"
        ],
        [
         "31",
         "4",
         "True"
        ],
        [
         "32",
         "7",
         "True"
        ],
        [
         "33",
         "1",
         "True"
        ],
        [
         "34",
         "22",
         "False"
        ],
        [
         "35",
         "7",
         "False"
        ],
        [
         "36",
         "3",
         "True"
        ],
        [
         "37",
         "3",
         "False"
        ],
        [
         "38",
         "17",
         "False"
        ],
        [
         "39",
         "4",
         "False"
        ],
        [
         "40",
         "9",
         "False"
        ],
        [
         "41",
         "2",
         "True"
        ],
        [
         "42",
         "4",
         "False"
        ],
        [
         "43",
         "1",
         "True"
        ],
        [
         "44",
         "9",
         "True"
        ],
        [
         "45",
         "1",
         "True"
        ],
        [
         "46",
         "9",
         "True"
        ],
        [
         "47",
         "5",
         "True"
        ],
        [
         "48",
         "22",
         "True"
        ],
        [
         "49",
         "7",
         "True"
        ]
       ],
       "shape": {
        "columns": 2,
        "rows": 4545007
       }
      },
      "text/html": [
       "<div>\n",
       "<style scoped>\n",
       "    .dataframe tbody tr th:only-of-type {\n",
       "        vertical-align: middle;\n",
       "    }\n",
       "\n",
       "    .dataframe tbody tr th {\n",
       "        vertical-align: top;\n",
       "    }\n",
       "\n",
       "    .dataframe thead th {\n",
       "        text-align: right;\n",
       "    }\n",
       "</style>\n",
       "<table border=\"1\" class=\"dataframe\">\n",
       "  <thead>\n",
       "    <tr style=\"text-align: right;\">\n",
       "      <th></th>\n",
       "      <th>add_to_cart_order</th>\n",
       "      <th>reordered</th>\n",
       "    </tr>\n",
       "  </thead>\n",
       "  <tbody>\n",
       "    <tr>\n",
       "      <th>0</th>\n",
       "      <td>17</td>\n",
       "      <td>False</td>\n",
       "    </tr>\n",
       "    <tr>\n",
       "      <th>1</th>\n",
       "      <td>1</td>\n",
       "      <td>True</td>\n",
       "    </tr>\n",
       "    <tr>\n",
       "      <th>2</th>\n",
       "      <td>1</td>\n",
       "      <td>True</td>\n",
       "    </tr>\n",
       "    <tr>\n",
       "      <th>3</th>\n",
       "      <td>35</td>\n",
       "      <td>True</td>\n",
       "    </tr>\n",
       "    <tr>\n",
       "      <th>4</th>\n",
       "      <td>5</td>\n",
       "      <td>True</td>\n",
       "    </tr>\n",
       "    <tr>\n",
       "      <th>...</th>\n",
       "      <td>...</td>\n",
       "      <td>...</td>\n",
       "    </tr>\n",
       "    <tr>\n",
       "      <th>4545002</th>\n",
       "      <td>12</td>\n",
       "      <td>True</td>\n",
       "    </tr>\n",
       "    <tr>\n",
       "      <th>4545003</th>\n",
       "      <td>9</td>\n",
       "      <td>False</td>\n",
       "    </tr>\n",
       "    <tr>\n",
       "      <th>4545004</th>\n",
       "      <td>4</td>\n",
       "      <td>True</td>\n",
       "    </tr>\n",
       "    <tr>\n",
       "      <th>4545005</th>\n",
       "      <td>8</td>\n",
       "      <td>True</td>\n",
       "    </tr>\n",
       "    <tr>\n",
       "      <th>4545006</th>\n",
       "      <td>9</td>\n",
       "      <td>False</td>\n",
       "    </tr>\n",
       "  </tbody>\n",
       "</table>\n",
       "<p>4545007 rows × 2 columns</p>\n",
       "</div>"
      ],
      "text/plain": [
       "         add_to_cart_order  reordered\n",
       "0                       17      False\n",
       "1                        1       True\n",
       "2                        1       True\n",
       "3                       35       True\n",
       "4                        5       True\n",
       "...                    ...        ...\n",
       "4545002                 12       True\n",
       "4545003                  9      False\n",
       "4545004                  4       True\n",
       "4545005                  8       True\n",
       "4545006                  9      False\n",
       "\n",
       "[4545007 rows x 2 columns]"
      ]
     },
     "execution_count": 39,
     "metadata": {},
     "output_type": "execute_result"
    }
   ],
   "source": [
    "# Relationship between the order in which a product is added to the cart and the likelihood of it being reordered\n",
    "df_cart_order_reorder = df_order_products[['add_to_cart_order', 'reordered']].copy()\n",
    "df_cart_order_reorder"
   ]
  },
  {
   "cell_type": "code",
   "execution_count": 40,
   "id": "70b1b730",
   "metadata": {},
   "outputs": [
    {
     "data": {
      "application/vnd.microsoft.datawrangler.viewer.v0+json": {
       "columns": [
        {
         "name": "index",
         "rawType": "int64",
         "type": "integer"
        },
        {
         "name": "add_to_cart_order",
         "rawType": "Int64",
         "type": "integer"
        },
        {
         "name": "reorder_rate",
         "rawType": "float64",
         "type": "float"
        },
        {
         "name": "product_count",
         "rawType": "int64",
         "type": "integer"
        }
       ],
       "ref": "0eed31b6-b3c5-4671-9bcc-f254952beb3a",
       "rows": [
        [
         "0",
         "1",
         "0.6786195188936242",
         "450046"
        ],
        [
         "1",
         "2",
         "0.6770590309645749",
         "428199"
        ],
        [
         "2",
         "3",
         "0.6589857852687313",
         "401907"
        ],
        [
         "3",
         "4",
         "0.6375110295793875",
         "372861"
        ],
        [
         "4",
         "5",
         "0.617482965533181",
         "341807"
        ],
        [
         "5",
         "6",
         "0.6023350673155116",
         "309884"
        ],
        [
         "6",
         "7",
         "0.5867117683851811",
         "278186"
        ],
        [
         "7",
         "8",
         "0.5743398392652124",
         "247364"
        ],
        [
         "8",
         "9",
         "0.5628150348451959",
         "218825"
        ],
        [
         "9",
         "10",
         "0.5522961627900954",
         "193083"
        ],
        [
         "10",
         "11",
         "0.5417199046133011",
         "169835"
        ],
        [
         "11",
         "12",
         "0.531965013484665",
         "149429"
        ],
        [
         "12",
         "13",
         "0.5232561693024678",
         "130890"
        ],
        [
         "13",
         "14",
         "0.5177414701948546",
         "114393"
        ],
        [
         "14",
         "15",
         "0.5094024279180552",
         "99921"
        ],
        [
         "15",
         "16",
         "0.5043164230438522",
         "87225"
        ],
        [
         "16",
         "17",
         "0.495551742344245",
         "75760"
        ],
        [
         "17",
         "18",
         "0.4916816204872411",
         "65758"
        ],
        [
         "18",
         "19",
         "0.48679688595876",
         "57032"
        ],
        [
         "19",
         "20",
         "0.4829016592472683",
         "49420"
        ],
        [
         "20",
         "21",
         "0.4794954160707168",
         "42649"
        ],
        [
         "21",
         "22",
         "0.47433014548508573",
         "36911"
        ],
        [
         "22",
         "23",
         "0.4681125255382681",
         "31815"
        ],
        [
         "23",
         "24",
         "0.4613952469609024",
         "27393"
        ],
        [
         "24",
         "25",
         "0.46011462534493736",
         "23555"
        ],
        [
         "25",
         "26",
         "0.4590789669360036",
         "20173"
        ],
        [
         "26",
         "27",
         "0.44841886988076723",
         "17361"
        ],
        [
         "27",
         "28",
         "0.4458833791853989",
         "14903"
        ],
        [
         "28",
         "29",
         "0.4354535484881717",
         "12766"
        ],
        [
         "29",
         "30",
         "0.43783933008189935",
         "10867"
        ],
        [
         "30",
         "31",
         "0.42912747324035033",
         "9249"
        ],
        [
         "31",
         "32",
         "0.4279762656230274",
         "7921"
        ],
        [
         "32",
         "33",
         "0.42118518518518516",
         "6750"
        ],
        [
         "33",
         "34",
         "0.42404732904123893",
         "5747"
        ],
        [
         "34",
         "35",
         "0.4163606691146471",
         "4902"
        ],
        [
         "35",
         "36",
         "0.4248102466793169",
         "4216"
        ],
        [
         "36",
         "37",
         "0.40644805731606504",
         "3629"
        ],
        [
         "37",
         "38",
         "0.4136494713232938",
         "3121"
        ],
        [
         "38",
         "39",
         "0.41685563114134544",
         "2646"
        ],
        [
         "39",
         "40",
         "0.41648303217276333",
         "2269"
        ],
        [
         "40",
         "41",
         "0.4286452947259566",
         "1934"
        ],
        [
         "41",
         "42",
         "0.4151057401812689",
         "1655"
        ],
        [
         "42",
         "43",
         "0.4125528913963329",
         "1418"
        ],
        [
         "43",
         "44",
         "0.40737704918032785",
         "1220"
        ],
        [
         "44",
         "45",
         "0.41626794258373206",
         "1045"
        ],
        [
         "45",
         "46",
         "0.4117647058823529",
         "901"
        ],
        [
         "46",
         "47",
         "0.41612483745123535",
         "769"
        ],
        [
         "47",
         "48",
         "0.3918918918918919",
         "666"
        ],
        [
         "48",
         "49",
         "0.4149305555555556",
         "576"
        ],
        [
         "49",
         "50",
         "0.4117647058823529",
         "493"
        ]
       ],
       "shape": {
        "columns": 3,
        "rows": 64
       }
      },
      "text/html": [
       "<div>\n",
       "<style scoped>\n",
       "    .dataframe tbody tr th:only-of-type {\n",
       "        vertical-align: middle;\n",
       "    }\n",
       "\n",
       "    .dataframe tbody tr th {\n",
       "        vertical-align: top;\n",
       "    }\n",
       "\n",
       "    .dataframe thead th {\n",
       "        text-align: right;\n",
       "    }\n",
       "</style>\n",
       "<table border=\"1\" class=\"dataframe\">\n",
       "  <thead>\n",
       "    <tr style=\"text-align: right;\">\n",
       "      <th></th>\n",
       "      <th>add_to_cart_order</th>\n",
       "      <th>reorder_rate</th>\n",
       "      <th>product_count</th>\n",
       "    </tr>\n",
       "  </thead>\n",
       "  <tbody>\n",
       "    <tr>\n",
       "      <th>0</th>\n",
       "      <td>1</td>\n",
       "      <td>0.678620</td>\n",
       "      <td>450046</td>\n",
       "    </tr>\n",
       "    <tr>\n",
       "      <th>1</th>\n",
       "      <td>2</td>\n",
       "      <td>0.677059</td>\n",
       "      <td>428199</td>\n",
       "    </tr>\n",
       "    <tr>\n",
       "      <th>2</th>\n",
       "      <td>3</td>\n",
       "      <td>0.658986</td>\n",
       "      <td>401907</td>\n",
       "    </tr>\n",
       "    <tr>\n",
       "      <th>3</th>\n",
       "      <td>4</td>\n",
       "      <td>0.637511</td>\n",
       "      <td>372861</td>\n",
       "    </tr>\n",
       "    <tr>\n",
       "      <th>4</th>\n",
       "      <td>5</td>\n",
       "      <td>0.617483</td>\n",
       "      <td>341807</td>\n",
       "    </tr>\n",
       "    <tr>\n",
       "      <th>...</th>\n",
       "      <td>...</td>\n",
       "      <td>...</td>\n",
       "      <td>...</td>\n",
       "    </tr>\n",
       "    <tr>\n",
       "      <th>59</th>\n",
       "      <td>60</td>\n",
       "      <td>0.472441</td>\n",
       "      <td>127</td>\n",
       "    </tr>\n",
       "    <tr>\n",
       "      <th>60</th>\n",
       "      <td>61</td>\n",
       "      <td>0.359649</td>\n",
       "      <td>114</td>\n",
       "    </tr>\n",
       "    <tr>\n",
       "      <th>61</th>\n",
       "      <td>62</td>\n",
       "      <td>0.448980</td>\n",
       "      <td>98</td>\n",
       "    </tr>\n",
       "    <tr>\n",
       "      <th>62</th>\n",
       "      <td>63</td>\n",
       "      <td>0.471264</td>\n",
       "      <td>87</td>\n",
       "    </tr>\n",
       "    <tr>\n",
       "      <th>63</th>\n",
       "      <td>64</td>\n",
       "      <td>0.466667</td>\n",
       "      <td>75</td>\n",
       "    </tr>\n",
       "  </tbody>\n",
       "</table>\n",
       "<p>64 rows × 3 columns</p>\n",
       "</div>"
      ],
      "text/plain": [
       "    add_to_cart_order  reorder_rate  product_count\n",
       "0                   1      0.678620         450046\n",
       "1                   2      0.677059         428199\n",
       "2                   3      0.658986         401907\n",
       "3                   4      0.637511         372861\n",
       "4                   5      0.617483         341807\n",
       "..                ...           ...            ...\n",
       "59                 60      0.472441            127\n",
       "60                 61      0.359649            114\n",
       "61                 62      0.448980             98\n",
       "62                 63      0.471264             87\n",
       "63                 64      0.466667             75\n",
       "\n",
       "[64 rows x 3 columns]"
      ]
     },
     "execution_count": 40,
     "metadata": {},
     "output_type": "execute_result"
    }
   ],
   "source": [
    "reorder_rate_by_position = (df_cart_order_reorder.groupby('add_to_cart_order')['reordered'].agg(['mean', 'count']).reset_index()\n",
    "                            .rename(columns={'mean': 'reorder_rate', 'count': 'product_count'}))\n",
    "reorder_rate_by_position"
   ]
  },
  {
   "cell_type": "code",
   "execution_count": 41,
   "id": "54aab89f",
   "metadata": {},
   "outputs": [],
   "source": [
    "project_root = Path.cwd().parent\n",
    "processed_path = project_root / \"data\" / \"processed\" / \"product_activity\" / \"product_reorder_rate_by_position.csv\"\n",
    "\n",
    "reorder_rate_by_position.to_csv(processed_path, index=False)"
   ]
  },
  {
   "cell_type": "markdown",
   "id": "c4e07d27",
   "metadata": {},
   "source": [
    "#### 4.2.5 Product repurchase frequency among different user segments"
   ]
  },
  {
   "cell_type": "code",
   "execution_count": 42,
   "id": "85b64f0f",
   "metadata": {},
   "outputs": [
    {
     "data": {
      "application/vnd.microsoft.datawrangler.viewer.v0+json": {
       "columns": [
        {
         "name": "index",
         "rawType": "int64",
         "type": "integer"
        },
        {
         "name": "order_id",
         "rawType": "int64",
         "type": "integer"
        },
        {
         "name": "product_id",
         "rawType": "int64",
         "type": "integer"
        },
        {
         "name": "add_to_cart_order",
         "rawType": "Int64",
         "type": "integer"
        },
        {
         "name": "reordered",
         "rawType": "bool",
         "type": "boolean"
        },
        {
         "name": "user_id",
         "rawType": "int64",
         "type": "integer"
        }
       ],
       "ref": "64c2ae85-9786-4223-baf3-056defce554b",
       "rows": [
        [
         "0",
         "2141543",
         "11440",
         "17",
         "False",
         "58454"
        ],
        [
         "1",
         "567889",
         "1560",
         "1",
         "True",
         "129474"
        ],
        [
         "2",
         "2261212",
         "26683",
         "1",
         "True",
         "47476"
        ],
        [
         "3",
         "491251",
         "8670",
         "35",
         "True",
         "134505"
        ],
        [
         "4",
         "2571142",
         "1940",
         "5",
         "True",
         "155995"
        ],
        [
         "5",
         "2456893",
         "21616",
         "4",
         "True",
         "170975"
        ],
        [
         "6",
         "644579",
         "12341",
         "5",
         "True",
         "8763"
        ],
        [
         "7",
         "2231852",
         "44925",
         "10",
         "True",
         "52863"
        ],
        [
         "8",
         "3185766",
         "36259",
         "14",
         "True",
         "63414"
        ],
        [
         "9",
         "420019",
         "23315",
         "4",
         "True",
         "203673"
        ],
        [
         "10",
         "925051",
         "9421",
         "2",
         "True",
         "195318"
        ],
        [
         "11",
         "44064",
         "22963",
         "28",
         "False",
         "156100"
        ],
        [
         "12",
         "522547",
         "40571",
         "10",
         "True",
         "136896"
        ],
        [
         "13",
         "2475670",
         "48520",
         "3",
         "False",
         "14028"
        ],
        [
         "14",
         "1961225",
         "37553",
         "1",
         "True",
         "10506"
        ],
        [
         "15",
         "2397389",
         "4321",
         "16",
         "True",
         "204253"
        ],
        [
         "16",
         "639939",
         "10017",
         "1",
         "True",
         "10604"
        ],
        [
         "17",
         "1721072",
         "24561",
         "8",
         "True",
         "28168"
        ],
        [
         "18",
         "89640",
         "46692",
         "7",
         "False",
         "7205"
        ],
        [
         "19",
         "2500729",
         "21616",
         "5",
         "True",
         "11250"
        ],
        [
         "20",
         "1687771",
         "22963",
         "5",
         "True",
         "107632"
        ],
        [
         "21",
         "2905625",
         "26209",
         "2",
         "False",
         "153943"
        ],
        [
         "22",
         "1482958",
         "45603",
         "6",
         "True",
         "205754"
        ],
        [
         "23",
         "750040",
         "8518",
         "1",
         "False",
         "126687"
        ],
        [
         "24",
         "2022887",
         "28169",
         "4",
         "False",
         "181114"
        ],
        [
         "25",
         "1046178",
         "26620",
         "2",
         "False",
         "51253"
        ],
        [
         "26",
         "623027",
         "13176",
         "3",
         "True",
         "1542"
        ],
        [
         "27",
         "2907647",
         "21903",
         "9",
         "True",
         "1759"
        ],
        [
         "28",
         "2492383",
         "11005",
         "16",
         "False",
         "132473"
        ],
        [
         "29",
         "773308",
         "37029",
         "15",
         "False",
         "186338"
        ],
        [
         "30",
         "2070264",
         "21872",
         "9",
         "False",
         "34854"
        ],
        [
         "31",
         "60394",
         "25659",
         "4",
         "True",
         "129240"
        ],
        [
         "32",
         "1597793",
         "5460",
         "7",
         "True",
         "169183"
        ],
        [
         "33",
         "2291457",
         "27104",
         "1",
         "True",
         "51584"
        ],
        [
         "34",
         "2966829",
         "31005",
         "22",
         "False",
         "55651"
        ],
        [
         "35",
         "1118439",
         "27307",
         "7",
         "False",
         "197568"
        ],
        [
         "36",
         "2183879",
         "12576",
         "3",
         "True",
         "123619"
        ],
        [
         "37",
         "941691",
         "30391",
         "3",
         "False",
         "32096"
        ],
        [
         "38",
         "2343489",
         "19820",
         "17",
         "False",
         "194241"
        ],
        [
         "39",
         "217120",
         "28985",
         "4",
         "False",
         "193151"
        ],
        [
         "40",
         "631150",
         "23139",
         "9",
         "False",
         "187115"
        ],
        [
         "41",
         "2669937",
         "42562",
         "2",
         "True",
         "113401"
        ],
        [
         "42",
         "1805081",
         "8590",
         "4",
         "False",
         "129447"
        ],
        [
         "43",
         "3075384",
         "28799",
         "1",
         "True",
         "198159"
        ],
        [
         "44",
         "1446879",
         "41682",
         "9",
         "True",
         "69885"
        ],
        [
         "45",
         "1787676",
         "47672",
         "1",
         "True",
         "39931"
        ],
        [
         "46",
         "3283409",
         "920",
         "9",
         "True",
         "168959"
        ],
        [
         "47",
         "1270550",
         "40199",
         "5",
         "True",
         "70930"
        ],
        [
         "48",
         "1943147",
         "47626",
         "22",
         "True",
         "137378"
        ],
        [
         "49",
         "1898003",
         "47766",
         "7",
         "True",
         "127170"
        ]
       ],
       "shape": {
        "columns": 5,
        "rows": 4545007
       }
      },
      "text/html": [
       "<div>\n",
       "<style scoped>\n",
       "    .dataframe tbody tr th:only-of-type {\n",
       "        vertical-align: middle;\n",
       "    }\n",
       "\n",
       "    .dataframe tbody tr th {\n",
       "        vertical-align: top;\n",
       "    }\n",
       "\n",
       "    .dataframe thead th {\n",
       "        text-align: right;\n",
       "    }\n",
       "</style>\n",
       "<table border=\"1\" class=\"dataframe\">\n",
       "  <thead>\n",
       "    <tr style=\"text-align: right;\">\n",
       "      <th></th>\n",
       "      <th>order_id</th>\n",
       "      <th>product_id</th>\n",
       "      <th>add_to_cart_order</th>\n",
       "      <th>reordered</th>\n",
       "      <th>user_id</th>\n",
       "    </tr>\n",
       "  </thead>\n",
       "  <tbody>\n",
       "    <tr>\n",
       "      <th>0</th>\n",
       "      <td>2141543</td>\n",
       "      <td>11440</td>\n",
       "      <td>17</td>\n",
       "      <td>False</td>\n",
       "      <td>58454</td>\n",
       "    </tr>\n",
       "    <tr>\n",
       "      <th>1</th>\n",
       "      <td>567889</td>\n",
       "      <td>1560</td>\n",
       "      <td>1</td>\n",
       "      <td>True</td>\n",
       "      <td>129474</td>\n",
       "    </tr>\n",
       "    <tr>\n",
       "      <th>2</th>\n",
       "      <td>2261212</td>\n",
       "      <td>26683</td>\n",
       "      <td>1</td>\n",
       "      <td>True</td>\n",
       "      <td>47476</td>\n",
       "    </tr>\n",
       "    <tr>\n",
       "      <th>3</th>\n",
       "      <td>491251</td>\n",
       "      <td>8670</td>\n",
       "      <td>35</td>\n",
       "      <td>True</td>\n",
       "      <td>134505</td>\n",
       "    </tr>\n",
       "    <tr>\n",
       "      <th>4</th>\n",
       "      <td>2571142</td>\n",
       "      <td>1940</td>\n",
       "      <td>5</td>\n",
       "      <td>True</td>\n",
       "      <td>155995</td>\n",
       "    </tr>\n",
       "    <tr>\n",
       "      <th>...</th>\n",
       "      <td>...</td>\n",
       "      <td>...</td>\n",
       "      <td>...</td>\n",
       "      <td>...</td>\n",
       "      <td>...</td>\n",
       "    </tr>\n",
       "    <tr>\n",
       "      <th>4545002</th>\n",
       "      <td>577211</td>\n",
       "      <td>15290</td>\n",
       "      <td>12</td>\n",
       "      <td>True</td>\n",
       "      <td>76414</td>\n",
       "    </tr>\n",
       "    <tr>\n",
       "      <th>4545003</th>\n",
       "      <td>1219554</td>\n",
       "      <td>21914</td>\n",
       "      <td>9</td>\n",
       "      <td>False</td>\n",
       "      <td>163902</td>\n",
       "    </tr>\n",
       "    <tr>\n",
       "      <th>4545004</th>\n",
       "      <td>692640</td>\n",
       "      <td>47766</td>\n",
       "      <td>4</td>\n",
       "      <td>True</td>\n",
       "      <td>597</td>\n",
       "    </tr>\n",
       "    <tr>\n",
       "      <th>4545005</th>\n",
       "      <td>319435</td>\n",
       "      <td>691</td>\n",
       "      <td>8</td>\n",
       "      <td>True</td>\n",
       "      <td>7124</td>\n",
       "    </tr>\n",
       "    <tr>\n",
       "      <th>4545006</th>\n",
       "      <td>1398151</td>\n",
       "      <td>28733</td>\n",
       "      <td>9</td>\n",
       "      <td>False</td>\n",
       "      <td>85144</td>\n",
       "    </tr>\n",
       "  </tbody>\n",
       "</table>\n",
       "<p>4545007 rows × 5 columns</p>\n",
       "</div>"
      ],
      "text/plain": [
       "         order_id  product_id  add_to_cart_order  reordered  user_id\n",
       "0         2141543       11440                 17      False    58454\n",
       "1          567889        1560                  1       True   129474\n",
       "2         2261212       26683                  1       True    47476\n",
       "3          491251        8670                 35       True   134505\n",
       "4         2571142        1940                  5       True   155995\n",
       "...           ...         ...                ...        ...      ...\n",
       "4545002    577211       15290                 12       True    76414\n",
       "4545003   1219554       21914                  9      False   163902\n",
       "4545004    692640       47766                  4       True      597\n",
       "4545005    319435         691                  8       True     7124\n",
       "4545006   1398151       28733                  9      False    85144\n",
       "\n",
       "[4545007 rows x 5 columns]"
      ]
     },
     "execution_count": 42,
     "metadata": {},
     "output_type": "execute_result"
    }
   ],
   "source": [
    "# Repurchase frequency among different user segments\n",
    "df_op_user = df_order_products.merge(df_orders[['order_id', 'user_id']], on='order_id', how='left')\n",
    "df_op_user"
   ]
  },
  {
   "cell_type": "code",
   "execution_count": 43,
   "id": "14b628ba",
   "metadata": {},
   "outputs": [
    {
     "data": {
      "application/vnd.microsoft.datawrangler.viewer.v0+json": {
       "columns": [
        {
         "name": "user_id",
         "rawType": "int64",
         "type": "integer"
        },
        {
         "name": "total_reorders",
         "rawType": "int64",
         "type": "integer"
        },
        {
         "name": "total_products",
         "rawType": "int64",
         "type": "integer"
        },
        {
         "name": "repurchase_rate",
         "rawType": "float64",
         "type": "float"
        }
       ],
       "ref": "514fc4e3-47a9-47a4-8865-452e9ac4447f",
       "rows": [
        [
         "2",
         "1",
         "26",
         "0.038461538461538464"
        ],
        [
         "4",
         "0",
         "2",
         "0.0"
        ],
        [
         "5",
         "8",
         "12",
         "0.6666666666666666"
        ],
        [
         "6",
         "0",
         "4",
         "0.0"
        ],
        [
         "7",
         "13",
         "14",
         "0.9285714285714286"
        ],
        [
         "11",
         "3",
         "15",
         "0.2"
        ],
        [
         "12",
         "3",
         "12",
         "0.25"
        ],
        [
         "13",
         "13",
         "23",
         "0.5652173913043478"
        ],
        [
         "14",
         "22",
         "61",
         "0.36065573770491804"
        ],
        [
         "15",
         "7",
         "13",
         "0.5384615384615384"
        ],
        [
         "16",
         "17",
         "32",
         "0.53125"
        ],
        [
         "17",
         "38",
         "53",
         "0.7169811320754716"
        ],
        [
         "19",
         "14",
         "48",
         "0.2916666666666667"
        ],
        [
         "20",
         "0",
         "4",
         "0.0"
        ],
        [
         "21",
         "8",
         "20",
         "0.4"
        ],
        [
         "22",
         "6",
         "6",
         "1.0"
        ],
        [
         "24",
         "1",
         "2",
         "0.5"
        ],
        [
         "26",
         "7",
         "16",
         "0.4375"
        ],
        [
         "27",
         "56",
         "85",
         "0.6588235294117647"
        ],
        [
         "28",
         "22",
         "44",
         "0.5"
        ],
        [
         "29",
         "11",
         "13",
         "0.8461538461538461"
        ],
        [
         "30",
         "0",
         "3",
         "0.0"
        ],
        [
         "31",
         "28",
         "92",
         "0.30434782608695654"
        ],
        [
         "33",
         "8",
         "17",
         "0.47058823529411764"
        ],
        [
         "34",
         "0",
         "1",
         "0.0"
        ],
        [
         "35",
         "16",
         "33",
         "0.48484848484848486"
        ],
        [
         "36",
         "20",
         "30",
         "0.6666666666666666"
        ],
        [
         "37",
         "4",
         "14",
         "0.2857142857142857"
        ],
        [
         "38",
         "10",
         "19",
         "0.5263157894736842"
        ],
        [
         "40",
         "15",
         "36",
         "0.4166666666666667"
        ],
        [
         "42",
         "1",
         "7",
         "0.14285714285714285"
        ],
        [
         "43",
         "12",
         "33",
         "0.36363636363636365"
        ],
        [
         "46",
         "7",
         "10",
         "0.7"
        ],
        [
         "47",
         "2",
         "6",
         "0.3333333333333333"
        ],
        [
         "50",
         "51",
         "72",
         "0.7083333333333334"
        ],
        [
         "52",
         "5",
         "10",
         "0.5"
        ],
        [
         "54",
         "51",
         "83",
         "0.6144578313253012"
        ],
        [
         "56",
         "13",
         "27",
         "0.48148148148148145"
        ],
        [
         "57",
         "0",
         "3",
         "0.0"
        ],
        [
         "58",
         "5",
         "9",
         "0.5555555555555556"
        ],
        [
         "59",
         "8",
         "20",
         "0.4"
        ],
        [
         "60",
         "8",
         "15",
         "0.5333333333333333"
        ],
        [
         "61",
         "3",
         "12",
         "0.25"
        ],
        [
         "62",
         "4",
         "9",
         "0.4444444444444444"
        ],
        [
         "63",
         "25",
         "34",
         "0.7352941176470589"
        ],
        [
         "65",
         "6",
         "14",
         "0.42857142857142855"
        ],
        [
         "66",
         "0",
         "1",
         "0.0"
        ],
        [
         "67",
         "9",
         "17",
         "0.5294117647058824"
        ],
        [
         "68",
         "4",
         "4",
         "1.0"
        ],
        [
         "69",
         "4",
         "5",
         "0.8"
        ]
       ],
       "shape": {
        "columns": 3,
        "rows": 149626
       }
      },
      "text/html": [
       "<div>\n",
       "<style scoped>\n",
       "    .dataframe tbody tr th:only-of-type {\n",
       "        vertical-align: middle;\n",
       "    }\n",
       "\n",
       "    .dataframe tbody tr th {\n",
       "        vertical-align: top;\n",
       "    }\n",
       "\n",
       "    .dataframe thead th {\n",
       "        text-align: right;\n",
       "    }\n",
       "</style>\n",
       "<table border=\"1\" class=\"dataframe\">\n",
       "  <thead>\n",
       "    <tr style=\"text-align: right;\">\n",
       "      <th></th>\n",
       "      <th>total_reorders</th>\n",
       "      <th>total_products</th>\n",
       "      <th>repurchase_rate</th>\n",
       "    </tr>\n",
       "    <tr>\n",
       "      <th>user_id</th>\n",
       "      <th></th>\n",
       "      <th></th>\n",
       "      <th></th>\n",
       "    </tr>\n",
       "  </thead>\n",
       "  <tbody>\n",
       "    <tr>\n",
       "      <th>2</th>\n",
       "      <td>1</td>\n",
       "      <td>26</td>\n",
       "      <td>0.038462</td>\n",
       "    </tr>\n",
       "    <tr>\n",
       "      <th>4</th>\n",
       "      <td>0</td>\n",
       "      <td>2</td>\n",
       "      <td>0.000000</td>\n",
       "    </tr>\n",
       "    <tr>\n",
       "      <th>5</th>\n",
       "      <td>8</td>\n",
       "      <td>12</td>\n",
       "      <td>0.666667</td>\n",
       "    </tr>\n",
       "    <tr>\n",
       "      <th>6</th>\n",
       "      <td>0</td>\n",
       "      <td>4</td>\n",
       "      <td>0.000000</td>\n",
       "    </tr>\n",
       "    <tr>\n",
       "      <th>7</th>\n",
       "      <td>13</td>\n",
       "      <td>14</td>\n",
       "      <td>0.928571</td>\n",
       "    </tr>\n",
       "    <tr>\n",
       "      <th>...</th>\n",
       "      <td>...</td>\n",
       "      <td>...</td>\n",
       "      <td>...</td>\n",
       "    </tr>\n",
       "    <tr>\n",
       "      <th>206203</th>\n",
       "      <td>6</td>\n",
       "      <td>27</td>\n",
       "      <td>0.222222</td>\n",
       "    </tr>\n",
       "    <tr>\n",
       "      <th>206206</th>\n",
       "      <td>15</td>\n",
       "      <td>21</td>\n",
       "      <td>0.714286</td>\n",
       "    </tr>\n",
       "    <tr>\n",
       "      <th>206207</th>\n",
       "      <td>41</td>\n",
       "      <td>46</td>\n",
       "      <td>0.891304</td>\n",
       "    </tr>\n",
       "    <tr>\n",
       "      <th>206208</th>\n",
       "      <td>87</td>\n",
       "      <td>125</td>\n",
       "      <td>0.696000</td>\n",
       "    </tr>\n",
       "    <tr>\n",
       "      <th>206209</th>\n",
       "      <td>8</td>\n",
       "      <td>25</td>\n",
       "      <td>0.320000</td>\n",
       "    </tr>\n",
       "  </tbody>\n",
       "</table>\n",
       "<p>149626 rows × 3 columns</p>\n",
       "</div>"
      ],
      "text/plain": [
       "         total_reorders  total_products  repurchase_rate\n",
       "user_id                                                 \n",
       "2                     1              26         0.038462\n",
       "4                     0               2         0.000000\n",
       "5                     8              12         0.666667\n",
       "6                     0               4         0.000000\n",
       "7                    13              14         0.928571\n",
       "...                 ...             ...              ...\n",
       "206203                6              27         0.222222\n",
       "206206               15              21         0.714286\n",
       "206207               41              46         0.891304\n",
       "206208               87             125         0.696000\n",
       "206209                8              25         0.320000\n",
       "\n",
       "[149626 rows x 3 columns]"
      ]
     },
     "execution_count": 43,
     "metadata": {},
     "output_type": "execute_result"
    }
   ],
   "source": [
    "user_repurchase_rate = (df_op_user.groupby('user_id')['reordered'].agg(['sum', 'count'])  # sum = total reorders, count = total products\n",
    "                       .rename(columns={'sum': 'total_reorders', 'count': 'total_products'}))\n",
    "\n",
    "user_repurchase_rate['repurchase_rate'] = (user_repurchase_rate['total_reorders'] / user_repurchase_rate['total_products'])\n",
    "user_repurchase_rate"
   ]
  },
  {
   "cell_type": "code",
   "execution_count": 44,
   "id": "2f451548",
   "metadata": {},
   "outputs": [
    {
     "data": {
      "application/vnd.microsoft.datawrangler.viewer.v0+json": {
       "columns": [
        {
         "name": "user_id",
         "rawType": "int64",
         "type": "integer"
        },
        {
         "name": "total_reorders",
         "rawType": "int64",
         "type": "integer"
        },
        {
         "name": "total_products",
         "rawType": "int64",
         "type": "integer"
        },
        {
         "name": "repurchase_rate",
         "rawType": "float64",
         "type": "float"
        },
        {
         "name": "repurchase_segment",
         "rawType": "object",
         "type": "string"
        }
       ],
       "ref": "e1ebf33e-a9ae-4f82-9564-1dfd9ab1a818",
       "rows": [
        [
         "2",
         "1",
         "26",
         "0.038461538461538464",
         "Low"
        ],
        [
         "4",
         "0",
         "2",
         "0.0",
         "Low"
        ],
        [
         "5",
         "8",
         "12",
         "0.6666666666666666",
         "High"
        ],
        [
         "6",
         "0",
         "4",
         "0.0",
         "Low"
        ],
        [
         "7",
         "13",
         "14",
         "0.9285714285714286",
         "Very High"
        ],
        [
         "11",
         "3",
         "15",
         "0.2",
         "Low"
        ],
        [
         "12",
         "3",
         "12",
         "0.25",
         "Low"
        ],
        [
         "13",
         "13",
         "23",
         "0.5652173913043478",
         "High"
        ],
        [
         "14",
         "22",
         "61",
         "0.36065573770491804",
         "Moderate"
        ],
        [
         "15",
         "7",
         "13",
         "0.5384615384615384",
         "High"
        ],
        [
         "16",
         "17",
         "32",
         "0.53125",
         "High"
        ],
        [
         "17",
         "38",
         "53",
         "0.7169811320754716",
         "High"
        ],
        [
         "19",
         "14",
         "48",
         "0.2916666666666667",
         "Moderate"
        ],
        [
         "20",
         "0",
         "4",
         "0.0",
         "Low"
        ],
        [
         "21",
         "8",
         "20",
         "0.4",
         "Moderate"
        ],
        [
         "22",
         "6",
         "6",
         "1.0",
         "Very High"
        ],
        [
         "24",
         "1",
         "2",
         "0.5",
         "Moderate"
        ],
        [
         "26",
         "7",
         "16",
         "0.4375",
         "Moderate"
        ],
        [
         "27",
         "56",
         "85",
         "0.6588235294117647",
         "High"
        ],
        [
         "28",
         "22",
         "44",
         "0.5",
         "Moderate"
        ],
        [
         "29",
         "11",
         "13",
         "0.8461538461538461",
         "Very High"
        ],
        [
         "30",
         "0",
         "3",
         "0.0",
         "Low"
        ],
        [
         "31",
         "28",
         "92",
         "0.30434782608695654",
         "Moderate"
        ],
        [
         "33",
         "8",
         "17",
         "0.47058823529411764",
         "Moderate"
        ],
        [
         "34",
         "0",
         "1",
         "0.0",
         "Low"
        ],
        [
         "35",
         "16",
         "33",
         "0.48484848484848486",
         "Moderate"
        ],
        [
         "36",
         "20",
         "30",
         "0.6666666666666666",
         "High"
        ],
        [
         "37",
         "4",
         "14",
         "0.2857142857142857",
         "Moderate"
        ],
        [
         "38",
         "10",
         "19",
         "0.5263157894736842",
         "High"
        ],
        [
         "40",
         "15",
         "36",
         "0.4166666666666667",
         "Moderate"
        ],
        [
         "42",
         "1",
         "7",
         "0.14285714285714285",
         "Low"
        ],
        [
         "43",
         "12",
         "33",
         "0.36363636363636365",
         "Moderate"
        ],
        [
         "46",
         "7",
         "10",
         "0.7",
         "High"
        ],
        [
         "47",
         "2",
         "6",
         "0.3333333333333333",
         "Moderate"
        ],
        [
         "50",
         "51",
         "72",
         "0.7083333333333334",
         "High"
        ],
        [
         "52",
         "5",
         "10",
         "0.5",
         "Moderate"
        ],
        [
         "54",
         "51",
         "83",
         "0.6144578313253012",
         "High"
        ],
        [
         "56",
         "13",
         "27",
         "0.48148148148148145",
         "Moderate"
        ],
        [
         "57",
         "0",
         "3",
         "0.0",
         "Low"
        ],
        [
         "58",
         "5",
         "9",
         "0.5555555555555556",
         "High"
        ],
        [
         "59",
         "8",
         "20",
         "0.4",
         "Moderate"
        ],
        [
         "60",
         "8",
         "15",
         "0.5333333333333333",
         "High"
        ],
        [
         "61",
         "3",
         "12",
         "0.25",
         "Low"
        ],
        [
         "62",
         "4",
         "9",
         "0.4444444444444444",
         "Moderate"
        ],
        [
         "63",
         "25",
         "34",
         "0.7352941176470589",
         "High"
        ],
        [
         "65",
         "6",
         "14",
         "0.42857142857142855",
         "Moderate"
        ],
        [
         "66",
         "0",
         "1",
         "0.0",
         "Low"
        ],
        [
         "67",
         "9",
         "17",
         "0.5294117647058824",
         "High"
        ],
        [
         "68",
         "4",
         "4",
         "1.0",
         "Very High"
        ],
        [
         "69",
         "4",
         "5",
         "0.8",
         "Very High"
        ]
       ],
       "shape": {
        "columns": 4,
        "rows": 149626
       }
      },
      "text/html": [
       "<div>\n",
       "<style scoped>\n",
       "    .dataframe tbody tr th:only-of-type {\n",
       "        vertical-align: middle;\n",
       "    }\n",
       "\n",
       "    .dataframe tbody tr th {\n",
       "        vertical-align: top;\n",
       "    }\n",
       "\n",
       "    .dataframe thead th {\n",
       "        text-align: right;\n",
       "    }\n",
       "</style>\n",
       "<table border=\"1\" class=\"dataframe\">\n",
       "  <thead>\n",
       "    <tr style=\"text-align: right;\">\n",
       "      <th></th>\n",
       "      <th>total_reorders</th>\n",
       "      <th>total_products</th>\n",
       "      <th>repurchase_rate</th>\n",
       "      <th>repurchase_segment</th>\n",
       "    </tr>\n",
       "    <tr>\n",
       "      <th>user_id</th>\n",
       "      <th></th>\n",
       "      <th></th>\n",
       "      <th></th>\n",
       "      <th></th>\n",
       "    </tr>\n",
       "  </thead>\n",
       "  <tbody>\n",
       "    <tr>\n",
       "      <th>2</th>\n",
       "      <td>1</td>\n",
       "      <td>26</td>\n",
       "      <td>0.038462</td>\n",
       "      <td>Low</td>\n",
       "    </tr>\n",
       "    <tr>\n",
       "      <th>4</th>\n",
       "      <td>0</td>\n",
       "      <td>2</td>\n",
       "      <td>0.000000</td>\n",
       "      <td>Low</td>\n",
       "    </tr>\n",
       "    <tr>\n",
       "      <th>5</th>\n",
       "      <td>8</td>\n",
       "      <td>12</td>\n",
       "      <td>0.666667</td>\n",
       "      <td>High</td>\n",
       "    </tr>\n",
       "    <tr>\n",
       "      <th>6</th>\n",
       "      <td>0</td>\n",
       "      <td>4</td>\n",
       "      <td>0.000000</td>\n",
       "      <td>Low</td>\n",
       "    </tr>\n",
       "    <tr>\n",
       "      <th>7</th>\n",
       "      <td>13</td>\n",
       "      <td>14</td>\n",
       "      <td>0.928571</td>\n",
       "      <td>Very High</td>\n",
       "    </tr>\n",
       "    <tr>\n",
       "      <th>...</th>\n",
       "      <td>...</td>\n",
       "      <td>...</td>\n",
       "      <td>...</td>\n",
       "      <td>...</td>\n",
       "    </tr>\n",
       "    <tr>\n",
       "      <th>206203</th>\n",
       "      <td>6</td>\n",
       "      <td>27</td>\n",
       "      <td>0.222222</td>\n",
       "      <td>Low</td>\n",
       "    </tr>\n",
       "    <tr>\n",
       "      <th>206206</th>\n",
       "      <td>15</td>\n",
       "      <td>21</td>\n",
       "      <td>0.714286</td>\n",
       "      <td>High</td>\n",
       "    </tr>\n",
       "    <tr>\n",
       "      <th>206207</th>\n",
       "      <td>41</td>\n",
       "      <td>46</td>\n",
       "      <td>0.891304</td>\n",
       "      <td>Very High</td>\n",
       "    </tr>\n",
       "    <tr>\n",
       "      <th>206208</th>\n",
       "      <td>87</td>\n",
       "      <td>125</td>\n",
       "      <td>0.696000</td>\n",
       "      <td>High</td>\n",
       "    </tr>\n",
       "    <tr>\n",
       "      <th>206209</th>\n",
       "      <td>8</td>\n",
       "      <td>25</td>\n",
       "      <td>0.320000</td>\n",
       "      <td>Moderate</td>\n",
       "    </tr>\n",
       "  </tbody>\n",
       "</table>\n",
       "<p>149626 rows × 4 columns</p>\n",
       "</div>"
      ],
      "text/plain": [
       "         total_reorders  total_products  repurchase_rate repurchase_segment\n",
       "user_id                                                                    \n",
       "2                     1              26         0.038462                Low\n",
       "4                     0               2         0.000000                Low\n",
       "5                     8              12         0.666667               High\n",
       "6                     0               4         0.000000                Low\n",
       "7                    13              14         0.928571          Very High\n",
       "...                 ...             ...              ...                ...\n",
       "206203                6              27         0.222222                Low\n",
       "206206               15              21         0.714286               High\n",
       "206207               41              46         0.891304          Very High\n",
       "206208               87             125         0.696000               High\n",
       "206209                8              25         0.320000           Moderate\n",
       "\n",
       "[149626 rows x 4 columns]"
      ]
     },
     "execution_count": 44,
     "metadata": {},
     "output_type": "execute_result"
    }
   ],
   "source": [
    "def label_segment(rate):\n",
    "    if rate <= 0.25:\n",
    "        return 'Low'\n",
    "    elif rate <= 0.5:\n",
    "        return 'Moderate'\n",
    "    elif rate <= 0.75:\n",
    "        return 'High'\n",
    "    else:\n",
    "        return 'Very High'\n",
    "\n",
    "user_repurchase_rate['repurchase_segment'] = user_repurchase_rate['repurchase_rate'].apply(label_segment)\n",
    "user_repurchase_rate"
   ]
  },
  {
   "cell_type": "code",
   "execution_count": 45,
   "id": "5a5b5e20",
   "metadata": {},
   "outputs": [],
   "source": [
    "project_root = Path.cwd().parent\n",
    "processed_path = project_root / \"data\" / \"processed\" / \"product_activity\" / \"product_user_segment_repurchase_rate.csv\"\n",
    "\n",
    "user_repurchase_rate.to_csv(processed_path, index=False)"
   ]
  }
 ],
 "metadata": {
  "kernelspec": {
   "display_name": "Win11_Python-Mature-PipVenv-Github-3.10",
   "language": "python",
   "name": "python3"
  },
  "language_info": {
   "codemirror_mode": {
    "name": "ipython",
    "version": 3
   },
   "file_extension": ".py",
   "mimetype": "text/x-python",
   "name": "python",
   "nbconvert_exporter": "python",
   "pygments_lexer": "ipython3",
   "version": "3.10.0"
  }
 },
 "nbformat": 4,
 "nbformat_minor": 5
}
