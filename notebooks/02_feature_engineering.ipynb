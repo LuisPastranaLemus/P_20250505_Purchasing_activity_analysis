{
 "cells": [
  {
   "cell_type": "markdown",
   "id": "7849e41b",
   "metadata": {},
   "source": [
    "#### Feature Engineering  \n",
    "Dataset: _music_clean_   \n",
    "Author: Luis Sergio Pastrana Lemus  \n",
    "Date: 2025-04-23"
   ]
  },
  {
   "cell_type": "markdown",
   "id": "415af0e2",
   "metadata": {},
   "source": [
    "## __1. Libraries__"
   ]
  },
  {
   "cell_type": "code",
   "execution_count": 1,
   "id": "eacf5d9a",
   "metadata": {},
   "outputs": [],
   "source": [
    "from IPython.display import display, HTML\n",
    "import os\n",
    "import pandas as pd\n",
    "from pathlib import Path\n",
    "import sys\n",
    "\n",
    "# Define project root dynamically, gets the current directory from whick the notebook belongs and moves one level upper\n",
    "project_root = Path.cwd().parent\n",
    "\n",
    "# Add src to sys.path if it is not already\n",
    "if str(project_root) not in sys.path:\n",
    "    sys.path.append(str(project_root))\n",
    "\n",
    "# Import function directly (more controlled than import *)\n",
    "from src import *"
   ]
  },
  {
   "cell_type": "markdown",
   "id": "3be37b0b",
   "metadata": {},
   "source": [
    "## __2. Path to Data file__"
   ]
  },
  {
   "cell_type": "code",
   "execution_count": 2,
   "id": "7e7a75e0",
   "metadata": {},
   "outputs": [],
   "source": [
    "# Build route to data file and upload\n",
    "data_file_path = project_root / \"data\" / \"processed\"\n",
    "df_music = load_dataset_from_csv(data_file_path, \"music_clean.csv\", sep=',', header='infer', keep_default_na=False)\n"
   ]
  },
  {
   "cell_type": "code",
   "execution_count": 3,
   "id": "db15faef",
   "metadata": {},
   "outputs": [],
   "source": [
    "# Format notebook output\n",
    "format_notebook()"
   ]
  },
  {
   "cell_type": "markdown",
   "id": "c5bc07b2",
   "metadata": {},
   "source": [
    "## 3 __Casting to data types__"
   ]
  },
  {
   "cell_type": "markdown",
   "id": "2724341b",
   "metadata": {},
   "source": [
    "### 3.1 Casting to category data type"
   ]
  },
  {
   "cell_type": "code",
   "execution_count": 4,
   "id": "9469508d",
   "metadata": {},
   "outputs": [],
   "source": [
    "# Casting to category dtype\n",
    "df_music['genre'] = df_music['genre'].astype('category')\n",
    "df_music['city'] = df_music['city'].astype('category')\n",
    "df_music['day'] = df_music['day'].astype('category')"
   ]
  },
  {
   "cell_type": "code",
   "execution_count": 5,
   "id": "96eae6a1",
   "metadata": {},
   "outputs": [
    {
     "data": {
      "text/html": [
       "> Data types after imputation:\n"
      ],
      "text/plain": [
       "<IPython.core.display.HTML object>"
      ]
     },
     "metadata": {},
     "output_type": "display_data"
    },
    {
     "name": "stdout",
     "output_type": "stream",
     "text": [
      "genre    category\n",
      "city     category\n",
      "day      category\n",
      "dtype: object\n"
     ]
    }
   ],
   "source": [
    "# Checking dtypes after imputation\n",
    "display(HTML(f\"> Data types after imputation:\\n\"))\n",
    "print(df_music.loc[:, ['genre', 'city', 'day']].dtypes)"
   ]
  },
  {
   "cell_type": "markdown",
   "id": "d0a6d354",
   "metadata": {},
   "source": [
    "### 3.1 Casting to datetime data type"
   ]
  },
  {
   "cell_type": "code",
   "execution_count": 6,
   "id": "2c1ef923",
   "metadata": {},
   "outputs": [
    {
     "data": {
      "text/plain": [
       "datetime.time"
      ]
     },
     "execution_count": 6,
     "metadata": {},
     "output_type": "execute_result"
    }
   ],
   "source": [
    "df_music = normalize_datetime(df_music, include=[\"time\"], frmt=\"%H:%M:%S\")\n",
    "\n",
    "type(df_music['time'].iloc[0])"
   ]
  },
  {
   "cell_type": "code",
   "execution_count": 7,
   "id": "b9854511",
   "metadata": {},
   "outputs": [
    {
     "data": {
      "application/vnd.microsoft.datawrangler.viewer.v0+json": {
       "columns": [
        {
         "name": "index",
         "rawType": "int64",
         "type": "integer"
        },
        {
         "name": "userid",
         "rawType": "object",
         "type": "string"
        },
        {
         "name": "track",
         "rawType": "object",
         "type": "string"
        },
        {
         "name": "artist",
         "rawType": "object",
         "type": "string"
        },
        {
         "name": "genre",
         "rawType": "category",
         "type": "unknown"
        },
        {
         "name": "city",
         "rawType": "category",
         "type": "unknown"
        },
        {
         "name": "time",
         "rawType": "object",
         "type": "unknown"
        },
        {
         "name": "day",
         "rawType": "category",
         "type": "unknown"
        },
        {
         "name": "hour",
         "rawType": "int64",
         "type": "integer"
        }
       ],
       "ref": "e38ea085-20bd-42e7-8229-f1dc0c7f7601",
       "rows": [
        [
         "0",
         "FFB692EC",
         "kamigata_to_boots",
         "the_mass_missile",
         "rock",
         "shelbyville",
         "20:28:33",
         "wednesday",
         "20"
        ],
        [
         "1",
         "55204538",
         "delayed_because_of_accident",
         "andreas_rönnberg",
         "rock",
         "springfield",
         "14:07:09",
         "friday",
         "14"
        ],
        [
         "2",
         "20EC38",
         "funiculì_funiculà",
         "mario_lanza",
         "pop",
         "shelbyville",
         "20:58:07",
         "wednesday",
         "20"
        ],
        [
         "3",
         "A3DD03C9",
         "dragons_in_the_sunset",
         "fire_ice",
         "folk",
         "shelbyville",
         "08:37:09",
         "monday",
         "8"
        ],
        [
         "4",
         "E2DC1FAE",
         "soul_people",
         "space_echo",
         "dance",
         "springfield",
         "08:34:34",
         "monday",
         "8"
        ],
        [
         "5",
         "842029A1",
         "chains",
         "obladaet",
         "rusrap",
         "shelbyville",
         "13:09:41",
         "friday",
         "13"
        ],
        [
         "6",
         "4CB90AA5",
         "true",
         "roman_messer",
         "dance",
         "springfield",
         "13:00:07",
         "wednesday",
         "13"
        ],
        [
         "7",
         "F03E1C1F",
         "feeling_this_way",
         "polina_griffith",
         "dance",
         "springfield",
         "20:47:49",
         "wednesday",
         "20"
        ],
        [
         "8",
         "8FA1D3BE",
         "l_estate",
         "julia_dalia",
         "ruspop",
         "springfield",
         "09:17:40",
         "friday",
         "9"
        ],
        [
         "9",
         "E772D5C0",
         "pessimist",
         "unknown",
         "dance",
         "shelbyville",
         "21:20:49",
         "wednesday",
         "21"
        ],
        [
         "10",
         "BC5A3A29",
         "gool_la_mita",
         "shireen_abdul_wahab",
         "world",
         "springfield",
         "14:08:42",
         "monday",
         "14"
        ],
        [
         "11",
         "8B5192C0",
         "is_there_anybody_out_there_panoramic_paralysis_mix",
         "pink_floyd_floydhead",
         "electronic",
         "springfield",
         "13:47:49",
         "monday",
         "13"
        ],
        [
         "12",
         "FF3FD2BD",
         "truth",
         "bamboo",
         "pop",
         "springfield",
         "09:19:49",
         "monday",
         "9"
        ],
        [
         "13",
         "CC782B0F",
         "after_school_special",
         "detroit_grand_pubahs",
         "dance",
         "springfield",
         "20:04:12",
         "friday",
         "20"
        ],
        [
         "14",
         "94EB25C2",
         "make_love_whenever_you_can",
         "arabesque",
         "pop",
         "shelbyville",
         "13:22:08",
         "wednesday",
         "13"
        ],
        [
         "15",
         "81D05C7D",
         "slaves_of_fear",
         "health",
         "alternative",
         "shelbyville",
         "20:54:48",
         "monday",
         "20"
        ],
        [
         "16",
         "39DE290E",
         "hallo_hallo",
         "die_klima_hawaiians",
         "folk",
         "shelbyville",
         "14:36:47",
         "monday",
         "14"
        ],
        [
         "17",
         "58AE138A",
         "pat_a_cake",
         "mother_goose_club",
         "children",
         "shelbyville",
         "20:04:56",
         "monday",
         "20"
        ],
        [
         "18",
         "772F5B59",
         "sweetback",
         "the_fabulous_three",
         "rnb",
         "springfield",
         "13:56:42",
         "wednesday",
         "13"
        ],
        [
         "19",
         "201CF2A8",
         "ya_ll_in_trouble",
         "lil_tee_chill_tank_young_buck_brother_mohammed_and_tara",
         "hiphop",
         "springfield",
         "08:46:03",
         "monday",
         "8"
        ],
        [
         "20",
         "44B8E869",
         "nanovirus",
         "exotype",
         "rock",
         "springfield",
         "21:36:40",
         "monday",
         "21"
        ],
        [
         "21",
         "B8E29C9C",
         "the_drunken_scotsman",
         "ménage_à_moi",
         "folk",
         "shelbyville",
         "20:20:49",
         "wednesday",
         "20"
        ],
        [
         "22",
         "A729591B",
         "gavotte",
         "hachidai_nakamura",
         "jazz",
         "springfield",
         "13:56:00",
         "monday",
         "13"
        ],
        [
         "23",
         "8BA8855",
         "a_universal_weakness",
         "lowercase_noises",
         "postrock",
         "shelbyville",
         "21:17:25",
         "wednesday",
         "21"
        ],
        [
         "24",
         "A4504035",
         "cradle_in_bethlehem",
         "nat_king_cole",
         "jazz",
         "shelbyville",
         "09:23:01",
         "wednesday",
         "9"
        ],
        [
         "25",
         "982219FD",
         "we_not_speak_americano",
         "genio_band",
         "pop",
         "shelbyville",
         "20:03:03",
         "monday",
         "20"
        ],
        [
         "26",
         "9CC6AA46",
         "mucho_corazón",
         "buena_vista_social_club",
         "latin",
         "springfield",
         "14:06:22",
         "monday",
         "14"
        ],
        [
         "27",
         "D8D698A9",
         "romantici",
         "viola_valentino",
         "pop",
         "springfield",
         "08:23:21",
         "wednesday",
         "8"
        ],
        [
         "28",
         "5661F63E",
         "purcell_dido_and_aeneas_act_3_see_the_flags_destruction_s_our_delight_the_wit_ches_dance",
         "teresa_shaw",
         "classical",
         "shelbyville",
         "08:33:58",
         "wednesday",
         "8"
        ],
        [
         "29",
         "EBA5A8B2",
         "päivän_nousu_nostajani",
         "värttina_",
         "world",
         "shelbyville",
         "08:00:31",
         "friday",
         "8"
        ],
        [
         "30",
         "F6A44469",
         "veritas_universalis",
         "devathorn",
         "metal",
         "shelbyville",
         "20:19:42",
         "friday",
         "20"
        ],
        [
         "31",
         "84AFC19A",
         "carry_on",
         "young_rising_sons",
         "alternative",
         "shelbyville",
         "20:24:51",
         "monday",
         "20"
        ],
        [
         "32",
         "809CAFB1",
         "break_me_down",
         "steve_angello",
         "dance",
         "springfield",
         "14:42:31",
         "monday",
         "14"
        ],
        [
         "33",
         "B416A40F",
         "maybe",
         "maria_michelle",
         "ruspop",
         "springfield",
         "14:49:21",
         "friday",
         "14"
        ],
        [
         "34",
         "FCDF1C8E",
         "nasebanaru",
         "zen",
         "reggae",
         "springfield",
         "20:19:36",
         "wednesday",
         "20"
        ],
        [
         "35",
         "C800FA98",
         "body_talk",
         "ratt",
         "rock",
         "springfield",
         "08:45:16",
         "monday",
         "8"
        ],
        [
         "36",
         "14FBD1E5",
         "solteras",
         "beauty_brain",
         "dance",
         "shelbyville",
         "20:33:11",
         "friday",
         "20"
        ],
        [
         "37",
         "2CF53316",
         "chicago_new_york",
         "the_aislers_set",
         "alternative",
         "shelbyville",
         "20:29:00",
         "wednesday",
         "20"
        ],
        [
         "38",
         "77979A66",
         "sci_fi",
         "unknown",
         "rusrap",
         "shelbyville",
         "08:45:43",
         "monday",
         "8"
        ],
        [
         "39",
         "9202C4F4",
         "good_morning_sunshine",
         "brick",
         "rnb",
         "shelbyville",
         "21:54:19",
         "monday",
         "21"
        ],
        [
         "40",
         "F9AD83A7",
         "fancy",
         "grey_killer",
         "triphop",
         "springfield",
         "14:53:39",
         "friday",
         "14"
        ],
        [
         "41",
         "9A22399C",
         "sweet_october",
         "ministers_of_music",
         "dance",
         "springfield",
         "20:32:33",
         "friday",
         "20"
        ],
        [
         "42",
         "CD0BE030",
         "falling_for_me",
         "benson_taylor",
         "pop",
         "springfield",
         "09:21:00",
         "friday",
         "9"
        ],
        [
         "43",
         "E6072F55",
         "sos",
         "peter_cetera",
         "pop",
         "springfield",
         "20:10:04",
         "wednesday",
         "20"
        ],
        [
         "44",
         "825997A5",
         "glorious_feeling",
         "joelistics",
         "hiphop",
         "springfield",
         "21:46:34",
         "friday",
         "21"
        ],
        [
         "45",
         "A1749681",
         "downfall",
         "the_voss",
         "dance",
         "shelbyville",
         "20:07:58",
         "monday",
         "20"
        ],
        [
         "46",
         "8D0DCE83",
         "little_bitty_pretty_one",
         "thurston_harris",
         "blues",
         "springfield",
         "09:41:14",
         "friday",
         "9"
        ],
        [
         "47",
         "2A35001B",
         "can_you_feel_the_love_tonight",
         "disney_peaceful_piano",
         "instrumental",
         "shelbyville",
         "21:51:37",
         "friday",
         "21"
        ],
        [
         "48",
         "3DBEB447",
         "entrance",
         "sun_electric",
         "dance",
         "springfield",
         "08:36:27",
         "monday",
         "8"
        ],
        [
         "49",
         "107EBCED",
         "lightbulbs",
         "the_uchpochmack",
         "rusrock",
         "springfield",
         "21:02:57",
         "wednesday",
         "21"
        ]
       ],
       "shape": {
        "columns": 8,
        "rows": 59991
       }
      },
      "text/html": [
       "<div>\n",
       "<style scoped>\n",
       "    .dataframe tbody tr th:only-of-type {\n",
       "        vertical-align: middle;\n",
       "    }\n",
       "\n",
       "    .dataframe tbody tr th {\n",
       "        vertical-align: top;\n",
       "    }\n",
       "\n",
       "    .dataframe thead th {\n",
       "        text-align: right;\n",
       "    }\n",
       "</style>\n",
       "<table border=\"1\" class=\"dataframe\">\n",
       "  <thead>\n",
       "    <tr style=\"text-align: right;\">\n",
       "      <th></th>\n",
       "      <th>userid</th>\n",
       "      <th>track</th>\n",
       "      <th>artist</th>\n",
       "      <th>genre</th>\n",
       "      <th>city</th>\n",
       "      <th>time</th>\n",
       "      <th>day</th>\n",
       "      <th>hour</th>\n",
       "    </tr>\n",
       "  </thead>\n",
       "  <tbody>\n",
       "    <tr>\n",
       "      <th>0</th>\n",
       "      <td>FFB692EC</td>\n",
       "      <td>kamigata_to_boots</td>\n",
       "      <td>the_mass_missile</td>\n",
       "      <td>rock</td>\n",
       "      <td>shelbyville</td>\n",
       "      <td>20:28:33</td>\n",
       "      <td>wednesday</td>\n",
       "      <td>20</td>\n",
       "    </tr>\n",
       "    <tr>\n",
       "      <th>1</th>\n",
       "      <td>55204538</td>\n",
       "      <td>delayed_because_of_accident</td>\n",
       "      <td>andreas_rönnberg</td>\n",
       "      <td>rock</td>\n",
       "      <td>springfield</td>\n",
       "      <td>14:07:09</td>\n",
       "      <td>friday</td>\n",
       "      <td>14</td>\n",
       "    </tr>\n",
       "    <tr>\n",
       "      <th>2</th>\n",
       "      <td>20EC38</td>\n",
       "      <td>funiculì_funiculà</td>\n",
       "      <td>mario_lanza</td>\n",
       "      <td>pop</td>\n",
       "      <td>shelbyville</td>\n",
       "      <td>20:58:07</td>\n",
       "      <td>wednesday</td>\n",
       "      <td>20</td>\n",
       "    </tr>\n",
       "    <tr>\n",
       "      <th>3</th>\n",
       "      <td>A3DD03C9</td>\n",
       "      <td>dragons_in_the_sunset</td>\n",
       "      <td>fire_ice</td>\n",
       "      <td>folk</td>\n",
       "      <td>shelbyville</td>\n",
       "      <td>08:37:09</td>\n",
       "      <td>monday</td>\n",
       "      <td>8</td>\n",
       "    </tr>\n",
       "    <tr>\n",
       "      <th>4</th>\n",
       "      <td>E2DC1FAE</td>\n",
       "      <td>soul_people</td>\n",
       "      <td>space_echo</td>\n",
       "      <td>dance</td>\n",
       "      <td>springfield</td>\n",
       "      <td>08:34:34</td>\n",
       "      <td>monday</td>\n",
       "      <td>8</td>\n",
       "    </tr>\n",
       "    <tr>\n",
       "      <th>...</th>\n",
       "      <td>...</td>\n",
       "      <td>...</td>\n",
       "      <td>...</td>\n",
       "      <td>...</td>\n",
       "      <td>...</td>\n",
       "      <td>...</td>\n",
       "      <td>...</td>\n",
       "      <td>...</td>\n",
       "    </tr>\n",
       "    <tr>\n",
       "      <th>59986</th>\n",
       "      <td>729CBB09</td>\n",
       "      <td>my_name</td>\n",
       "      <td>mclean</td>\n",
       "      <td>rnb</td>\n",
       "      <td>springfield</td>\n",
       "      <td>13:32:28</td>\n",
       "      <td>wednesday</td>\n",
       "      <td>13</td>\n",
       "    </tr>\n",
       "    <tr>\n",
       "      <th>59987</th>\n",
       "      <td>D08D4A55</td>\n",
       "      <td>maybe_one_day_feat_black_spade_</td>\n",
       "      <td>blu_exile</td>\n",
       "      <td>hiphop</td>\n",
       "      <td>shelbyville</td>\n",
       "      <td>10:00:00</td>\n",
       "      <td>monday</td>\n",
       "      <td>10</td>\n",
       "    </tr>\n",
       "    <tr>\n",
       "      <th>59988</th>\n",
       "      <td>C5E3A0D5</td>\n",
       "      <td>jalopiina</td>\n",
       "      <td>unknown</td>\n",
       "      <td>industrial</td>\n",
       "      <td>springfield</td>\n",
       "      <td>20:09:26</td>\n",
       "      <td>friday</td>\n",
       "      <td>20</td>\n",
       "    </tr>\n",
       "    <tr>\n",
       "      <th>59989</th>\n",
       "      <td>321D0506</td>\n",
       "      <td>freight_train</td>\n",
       "      <td>chas_mcdevitt</td>\n",
       "      <td>rock</td>\n",
       "      <td>springfield</td>\n",
       "      <td>21:43:59</td>\n",
       "      <td>friday</td>\n",
       "      <td>21</td>\n",
       "    </tr>\n",
       "    <tr>\n",
       "      <th>59990</th>\n",
       "      <td>3A64EF84</td>\n",
       "      <td>tell_me_sweet_little_lies</td>\n",
       "      <td>monica_lopez</td>\n",
       "      <td>country</td>\n",
       "      <td>springfield</td>\n",
       "      <td>21:59:46</td>\n",
       "      <td>friday</td>\n",
       "      <td>21</td>\n",
       "    </tr>\n",
       "  </tbody>\n",
       "</table>\n",
       "<p>59991 rows × 8 columns</p>\n",
       "</div>"
      ],
      "text/plain": [
       "         userid                            track            artist       genre         city      time        day  hour\n",
       "0      FFB692EC                kamigata_to_boots  the_mass_missile        rock  shelbyville  20:28:33  wednesday    20\n",
       "1      55204538      delayed_because_of_accident  andreas_rönnberg        rock  springfield  14:07:09     friday    14\n",
       "2        20EC38                funiculì_funiculà       mario_lanza         pop  shelbyville  20:58:07  wednesday    20\n",
       "3      A3DD03C9            dragons_in_the_sunset          fire_ice        folk  shelbyville  08:37:09     monday     8\n",
       "4      E2DC1FAE                      soul_people        space_echo       dance  springfield  08:34:34     monday     8\n",
       "...         ...                              ...               ...         ...          ...       ...        ...   ...\n",
       "59986  729CBB09                          my_name            mclean         rnb  springfield  13:32:28  wednesday    13\n",
       "59987  D08D4A55  maybe_one_day_feat_black_spade_         blu_exile      hiphop  shelbyville  10:00:00     monday    10\n",
       "59988  C5E3A0D5                        jalopiina           unknown  industrial  springfield  20:09:26     friday    20\n",
       "59989  321D0506                    freight_train     chas_mcdevitt        rock  springfield  21:43:59     friday    21\n",
       "59990  3A64EF84        tell_me_sweet_little_lies      monica_lopez     country  springfield  21:59:46     friday    21\n",
       "\n",
       "[59991 rows x 8 columns]"
      ]
     },
     "execution_count": 7,
     "metadata": {},
     "output_type": "execute_result"
    }
   ],
   "source": [
    "df_music['hour'] = df_music['time'].apply(lambda x: x.hour if pd.notnull(x) else None)\n",
    "df_music"
   ]
  },
  {
   "cell_type": "code",
   "execution_count": 8,
   "id": "bfc4e692",
   "metadata": {},
   "outputs": [
    {
     "data": {
      "text/html": [
       "> Data types after imputation:\n"
      ],
      "text/plain": [
       "<IPython.core.display.HTML object>"
      ]
     },
     "metadata": {},
     "output_type": "display_data"
    },
    {
     "name": "stdout",
     "output_type": "stream",
     "text": [
      "hour    category\n",
      "dtype: object\n"
     ]
    }
   ],
   "source": [
    "df_music['hour'] = df_music['hour'].astype('category')\n",
    "# Checking dtypes after imputation\n",
    "display(HTML(f\"> Data types after imputation:\\n\"))\n",
    "print(df_music.loc[:, ['hour']].dtypes)"
   ]
  },
  {
   "cell_type": "markdown",
   "id": "166c6add",
   "metadata": {},
   "source": [
    "## 3. Feature Engineering"
   ]
  },
  {
   "cell_type": "markdown",
   "id": "d97e720a",
   "metadata": {},
   "source": [
    "### 3.1 User activity variation by day and city"
   ]
  },
  {
   "cell_type": "markdown",
   "id": "511db52e",
   "metadata": {},
   "source": [
    "#### 3.1.1 User activity variation by city"
   ]
  },
  {
   "cell_type": "code",
   "execution_count": 9,
   "id": "1e4d59ee",
   "metadata": {},
   "outputs": [
    {
     "data": {
      "application/vnd.microsoft.datawrangler.viewer.v0+json": {
       "columns": [
        {
         "name": "index",
         "rawType": "int64",
         "type": "integer"
        },
        {
         "name": "userid",
         "rawType": "object",
         "type": "string"
        },
        {
         "name": "track",
         "rawType": "object",
         "type": "string"
        },
        {
         "name": "artist",
         "rawType": "object",
         "type": "string"
        },
        {
         "name": "genre",
         "rawType": "category",
         "type": "unknown"
        },
        {
         "name": "city",
         "rawType": "category",
         "type": "unknown"
        },
        {
         "name": "time",
         "rawType": "object",
         "type": "unknown"
        },
        {
         "name": "day",
         "rawType": "category",
         "type": "unknown"
        },
        {
         "name": "hour",
         "rawType": "category",
         "type": "unknown"
        }
       ],
       "ref": "1d228993-aec8-4b66-b65b-bb914ef66287",
       "rows": [
        [
         "0",
         "FFB692EC",
         "kamigata_to_boots",
         "the_mass_missile",
         "rock",
         "shelbyville",
         "20:28:33",
         "wednesday",
         "20"
        ],
        [
         "1",
         "55204538",
         "delayed_because_of_accident",
         "andreas_rönnberg",
         "rock",
         "springfield",
         "14:07:09",
         "friday",
         "14"
        ],
        [
         "2",
         "20EC38",
         "funiculì_funiculà",
         "mario_lanza",
         "pop",
         "shelbyville",
         "20:58:07",
         "wednesday",
         "20"
        ],
        [
         "3",
         "A3DD03C9",
         "dragons_in_the_sunset",
         "fire_ice",
         "folk",
         "shelbyville",
         "08:37:09",
         "monday",
         "8"
        ],
        [
         "4",
         "E2DC1FAE",
         "soul_people",
         "space_echo",
         "dance",
         "springfield",
         "08:34:34",
         "monday",
         "8"
        ],
        [
         "5",
         "842029A1",
         "chains",
         "obladaet",
         "rusrap",
         "shelbyville",
         "13:09:41",
         "friday",
         "13"
        ],
        [
         "6",
         "4CB90AA5",
         "true",
         "roman_messer",
         "dance",
         "springfield",
         "13:00:07",
         "wednesday",
         "13"
        ],
        [
         "7",
         "F03E1C1F",
         "feeling_this_way",
         "polina_griffith",
         "dance",
         "springfield",
         "20:47:49",
         "wednesday",
         "20"
        ],
        [
         "8",
         "8FA1D3BE",
         "l_estate",
         "julia_dalia",
         "ruspop",
         "springfield",
         "09:17:40",
         "friday",
         "9"
        ],
        [
         "9",
         "E772D5C0",
         "pessimist",
         "unknown",
         "dance",
         "shelbyville",
         "21:20:49",
         "wednesday",
         "21"
        ],
        [
         "10",
         "BC5A3A29",
         "gool_la_mita",
         "shireen_abdul_wahab",
         "world",
         "springfield",
         "14:08:42",
         "monday",
         "14"
        ],
        [
         "11",
         "8B5192C0",
         "is_there_anybody_out_there_panoramic_paralysis_mix",
         "pink_floyd_floydhead",
         "electronic",
         "springfield",
         "13:47:49",
         "monday",
         "13"
        ],
        [
         "12",
         "FF3FD2BD",
         "truth",
         "bamboo",
         "pop",
         "springfield",
         "09:19:49",
         "monday",
         "9"
        ],
        [
         "13",
         "CC782B0F",
         "after_school_special",
         "detroit_grand_pubahs",
         "dance",
         "springfield",
         "20:04:12",
         "friday",
         "20"
        ],
        [
         "14",
         "94EB25C2",
         "make_love_whenever_you_can",
         "arabesque",
         "pop",
         "shelbyville",
         "13:22:08",
         "wednesday",
         "13"
        ],
        [
         "15",
         "81D05C7D",
         "slaves_of_fear",
         "health",
         "alternative",
         "shelbyville",
         "20:54:48",
         "monday",
         "20"
        ],
        [
         "16",
         "39DE290E",
         "hallo_hallo",
         "die_klima_hawaiians",
         "folk",
         "shelbyville",
         "14:36:47",
         "monday",
         "14"
        ],
        [
         "17",
         "58AE138A",
         "pat_a_cake",
         "mother_goose_club",
         "children",
         "shelbyville",
         "20:04:56",
         "monday",
         "20"
        ],
        [
         "18",
         "772F5B59",
         "sweetback",
         "the_fabulous_three",
         "rnb",
         "springfield",
         "13:56:42",
         "wednesday",
         "13"
        ],
        [
         "19",
         "201CF2A8",
         "ya_ll_in_trouble",
         "lil_tee_chill_tank_young_buck_brother_mohammed_and_tara",
         "hiphop",
         "springfield",
         "08:46:03",
         "monday",
         "8"
        ],
        [
         "20",
         "44B8E869",
         "nanovirus",
         "exotype",
         "rock",
         "springfield",
         "21:36:40",
         "monday",
         "21"
        ],
        [
         "21",
         "B8E29C9C",
         "the_drunken_scotsman",
         "ménage_à_moi",
         "folk",
         "shelbyville",
         "20:20:49",
         "wednesday",
         "20"
        ],
        [
         "22",
         "A729591B",
         "gavotte",
         "hachidai_nakamura",
         "jazz",
         "springfield",
         "13:56:00",
         "monday",
         "13"
        ],
        [
         "23",
         "8BA8855",
         "a_universal_weakness",
         "lowercase_noises",
         "postrock",
         "shelbyville",
         "21:17:25",
         "wednesday",
         "21"
        ],
        [
         "24",
         "A4504035",
         "cradle_in_bethlehem",
         "nat_king_cole",
         "jazz",
         "shelbyville",
         "09:23:01",
         "wednesday",
         "9"
        ],
        [
         "25",
         "982219FD",
         "we_not_speak_americano",
         "genio_band",
         "pop",
         "shelbyville",
         "20:03:03",
         "monday",
         "20"
        ],
        [
         "26",
         "9CC6AA46",
         "mucho_corazón",
         "buena_vista_social_club",
         "latin",
         "springfield",
         "14:06:22",
         "monday",
         "14"
        ],
        [
         "27",
         "D8D698A9",
         "romantici",
         "viola_valentino",
         "pop",
         "springfield",
         "08:23:21",
         "wednesday",
         "8"
        ],
        [
         "28",
         "5661F63E",
         "purcell_dido_and_aeneas_act_3_see_the_flags_destruction_s_our_delight_the_wit_ches_dance",
         "teresa_shaw",
         "classical",
         "shelbyville",
         "08:33:58",
         "wednesday",
         "8"
        ],
        [
         "29",
         "EBA5A8B2",
         "päivän_nousu_nostajani",
         "värttina_",
         "world",
         "shelbyville",
         "08:00:31",
         "friday",
         "8"
        ],
        [
         "30",
         "F6A44469",
         "veritas_universalis",
         "devathorn",
         "metal",
         "shelbyville",
         "20:19:42",
         "friday",
         "20"
        ],
        [
         "31",
         "84AFC19A",
         "carry_on",
         "young_rising_sons",
         "alternative",
         "shelbyville",
         "20:24:51",
         "monday",
         "20"
        ],
        [
         "32",
         "809CAFB1",
         "break_me_down",
         "steve_angello",
         "dance",
         "springfield",
         "14:42:31",
         "monday",
         "14"
        ],
        [
         "33",
         "B416A40F",
         "maybe",
         "maria_michelle",
         "ruspop",
         "springfield",
         "14:49:21",
         "friday",
         "14"
        ],
        [
         "34",
         "FCDF1C8E",
         "nasebanaru",
         "zen",
         "reggae",
         "springfield",
         "20:19:36",
         "wednesday",
         "20"
        ],
        [
         "35",
         "C800FA98",
         "body_talk",
         "ratt",
         "rock",
         "springfield",
         "08:45:16",
         "monday",
         "8"
        ],
        [
         "36",
         "14FBD1E5",
         "solteras",
         "beauty_brain",
         "dance",
         "shelbyville",
         "20:33:11",
         "friday",
         "20"
        ],
        [
         "37",
         "2CF53316",
         "chicago_new_york",
         "the_aislers_set",
         "alternative",
         "shelbyville",
         "20:29:00",
         "wednesday",
         "20"
        ],
        [
         "38",
         "77979A66",
         "sci_fi",
         "unknown",
         "rusrap",
         "shelbyville",
         "08:45:43",
         "monday",
         "8"
        ],
        [
         "39",
         "9202C4F4",
         "good_morning_sunshine",
         "brick",
         "rnb",
         "shelbyville",
         "21:54:19",
         "monday",
         "21"
        ],
        [
         "40",
         "F9AD83A7",
         "fancy",
         "grey_killer",
         "triphop",
         "springfield",
         "14:53:39",
         "friday",
         "14"
        ],
        [
         "41",
         "9A22399C",
         "sweet_october",
         "ministers_of_music",
         "dance",
         "springfield",
         "20:32:33",
         "friday",
         "20"
        ],
        [
         "42",
         "CD0BE030",
         "falling_for_me",
         "benson_taylor",
         "pop",
         "springfield",
         "09:21:00",
         "friday",
         "9"
        ],
        [
         "43",
         "E6072F55",
         "sos",
         "peter_cetera",
         "pop",
         "springfield",
         "20:10:04",
         "wednesday",
         "20"
        ],
        [
         "44",
         "825997A5",
         "glorious_feeling",
         "joelistics",
         "hiphop",
         "springfield",
         "21:46:34",
         "friday",
         "21"
        ],
        [
         "45",
         "A1749681",
         "downfall",
         "the_voss",
         "dance",
         "shelbyville",
         "20:07:58",
         "monday",
         "20"
        ],
        [
         "46",
         "8D0DCE83",
         "little_bitty_pretty_one",
         "thurston_harris",
         "blues",
         "springfield",
         "09:41:14",
         "friday",
         "9"
        ],
        [
         "47",
         "2A35001B",
         "can_you_feel_the_love_tonight",
         "disney_peaceful_piano",
         "instrumental",
         "shelbyville",
         "21:51:37",
         "friday",
         "21"
        ],
        [
         "48",
         "3DBEB447",
         "entrance",
         "sun_electric",
         "dance",
         "springfield",
         "08:36:27",
         "monday",
         "8"
        ],
        [
         "49",
         "107EBCED",
         "lightbulbs",
         "the_uchpochmack",
         "rusrock",
         "springfield",
         "21:02:57",
         "wednesday",
         "21"
        ]
       ],
       "shape": {
        "columns": 8,
        "rows": 59991
       }
      },
      "text/html": [
       "<div>\n",
       "<style scoped>\n",
       "    .dataframe tbody tr th:only-of-type {\n",
       "        vertical-align: middle;\n",
       "    }\n",
       "\n",
       "    .dataframe tbody tr th {\n",
       "        vertical-align: top;\n",
       "    }\n",
       "\n",
       "    .dataframe thead th {\n",
       "        text-align: right;\n",
       "    }\n",
       "</style>\n",
       "<table border=\"1\" class=\"dataframe\">\n",
       "  <thead>\n",
       "    <tr style=\"text-align: right;\">\n",
       "      <th></th>\n",
       "      <th>userid</th>\n",
       "      <th>track</th>\n",
       "      <th>artist</th>\n",
       "      <th>genre</th>\n",
       "      <th>city</th>\n",
       "      <th>time</th>\n",
       "      <th>day</th>\n",
       "      <th>hour</th>\n",
       "    </tr>\n",
       "  </thead>\n",
       "  <tbody>\n",
       "    <tr>\n",
       "      <th>0</th>\n",
       "      <td>FFB692EC</td>\n",
       "      <td>kamigata_to_boots</td>\n",
       "      <td>the_mass_missile</td>\n",
       "      <td>rock</td>\n",
       "      <td>shelbyville</td>\n",
       "      <td>20:28:33</td>\n",
       "      <td>wednesday</td>\n",
       "      <td>20</td>\n",
       "    </tr>\n",
       "    <tr>\n",
       "      <th>1</th>\n",
       "      <td>55204538</td>\n",
       "      <td>delayed_because_of_accident</td>\n",
       "      <td>andreas_rönnberg</td>\n",
       "      <td>rock</td>\n",
       "      <td>springfield</td>\n",
       "      <td>14:07:09</td>\n",
       "      <td>friday</td>\n",
       "      <td>14</td>\n",
       "    </tr>\n",
       "    <tr>\n",
       "      <th>2</th>\n",
       "      <td>20EC38</td>\n",
       "      <td>funiculì_funiculà</td>\n",
       "      <td>mario_lanza</td>\n",
       "      <td>pop</td>\n",
       "      <td>shelbyville</td>\n",
       "      <td>20:58:07</td>\n",
       "      <td>wednesday</td>\n",
       "      <td>20</td>\n",
       "    </tr>\n",
       "    <tr>\n",
       "      <th>3</th>\n",
       "      <td>A3DD03C9</td>\n",
       "      <td>dragons_in_the_sunset</td>\n",
       "      <td>fire_ice</td>\n",
       "      <td>folk</td>\n",
       "      <td>shelbyville</td>\n",
       "      <td>08:37:09</td>\n",
       "      <td>monday</td>\n",
       "      <td>8</td>\n",
       "    </tr>\n",
       "    <tr>\n",
       "      <th>4</th>\n",
       "      <td>E2DC1FAE</td>\n",
       "      <td>soul_people</td>\n",
       "      <td>space_echo</td>\n",
       "      <td>dance</td>\n",
       "      <td>springfield</td>\n",
       "      <td>08:34:34</td>\n",
       "      <td>monday</td>\n",
       "      <td>8</td>\n",
       "    </tr>\n",
       "    <tr>\n",
       "      <th>...</th>\n",
       "      <td>...</td>\n",
       "      <td>...</td>\n",
       "      <td>...</td>\n",
       "      <td>...</td>\n",
       "      <td>...</td>\n",
       "      <td>...</td>\n",
       "      <td>...</td>\n",
       "      <td>...</td>\n",
       "    </tr>\n",
       "    <tr>\n",
       "      <th>59986</th>\n",
       "      <td>729CBB09</td>\n",
       "      <td>my_name</td>\n",
       "      <td>mclean</td>\n",
       "      <td>rnb</td>\n",
       "      <td>springfield</td>\n",
       "      <td>13:32:28</td>\n",
       "      <td>wednesday</td>\n",
       "      <td>13</td>\n",
       "    </tr>\n",
       "    <tr>\n",
       "      <th>59987</th>\n",
       "      <td>D08D4A55</td>\n",
       "      <td>maybe_one_day_feat_black_spade_</td>\n",
       "      <td>blu_exile</td>\n",
       "      <td>hiphop</td>\n",
       "      <td>shelbyville</td>\n",
       "      <td>10:00:00</td>\n",
       "      <td>monday</td>\n",
       "      <td>10</td>\n",
       "    </tr>\n",
       "    <tr>\n",
       "      <th>59988</th>\n",
       "      <td>C5E3A0D5</td>\n",
       "      <td>jalopiina</td>\n",
       "      <td>unknown</td>\n",
       "      <td>industrial</td>\n",
       "      <td>springfield</td>\n",
       "      <td>20:09:26</td>\n",
       "      <td>friday</td>\n",
       "      <td>20</td>\n",
       "    </tr>\n",
       "    <tr>\n",
       "      <th>59989</th>\n",
       "      <td>321D0506</td>\n",
       "      <td>freight_train</td>\n",
       "      <td>chas_mcdevitt</td>\n",
       "      <td>rock</td>\n",
       "      <td>springfield</td>\n",
       "      <td>21:43:59</td>\n",
       "      <td>friday</td>\n",
       "      <td>21</td>\n",
       "    </tr>\n",
       "    <tr>\n",
       "      <th>59990</th>\n",
       "      <td>3A64EF84</td>\n",
       "      <td>tell_me_sweet_little_lies</td>\n",
       "      <td>monica_lopez</td>\n",
       "      <td>country</td>\n",
       "      <td>springfield</td>\n",
       "      <td>21:59:46</td>\n",
       "      <td>friday</td>\n",
       "      <td>21</td>\n",
       "    </tr>\n",
       "  </tbody>\n",
       "</table>\n",
       "<p>59991 rows × 8 columns</p>\n",
       "</div>"
      ],
      "text/plain": [
       "         userid                            track            artist       genre         city      time        day hour\n",
       "0      FFB692EC                kamigata_to_boots  the_mass_missile        rock  shelbyville  20:28:33  wednesday   20\n",
       "1      55204538      delayed_because_of_accident  andreas_rönnberg        rock  springfield  14:07:09     friday   14\n",
       "2        20EC38                funiculì_funiculà       mario_lanza         pop  shelbyville  20:58:07  wednesday   20\n",
       "3      A3DD03C9            dragons_in_the_sunset          fire_ice        folk  shelbyville  08:37:09     monday    8\n",
       "4      E2DC1FAE                      soul_people        space_echo       dance  springfield  08:34:34     monday    8\n",
       "...         ...                              ...               ...         ...          ...       ...        ...  ...\n",
       "59986  729CBB09                          my_name            mclean         rnb  springfield  13:32:28  wednesday   13\n",
       "59987  D08D4A55  maybe_one_day_feat_black_spade_         blu_exile      hiphop  shelbyville  10:00:00     monday   10\n",
       "59988  C5E3A0D5                        jalopiina           unknown  industrial  springfield  20:09:26     friday   20\n",
       "59989  321D0506                    freight_train     chas_mcdevitt        rock  springfield  21:43:59     friday   21\n",
       "59990  3A64EF84        tell_me_sweet_little_lies      monica_lopez     country  springfield  21:59:46     friday   21\n",
       "\n",
       "[59991 rows x 8 columns]"
      ]
     },
     "execution_count": 9,
     "metadata": {},
     "output_type": "execute_result"
    }
   ],
   "source": [
    "df_music"
   ]
  },
  {
   "cell_type": "code",
   "execution_count": 10,
   "id": "e6140c8b",
   "metadata": {},
   "outputs": [
    {
     "data": {
      "application/vnd.microsoft.datawrangler.viewer.v0+json": {
       "columns": [
        {
         "name": "city",
         "rawType": "category",
         "type": "unknown"
        },
        {
         "name": "('track', 'count')",
         "rawType": "int64",
         "type": "integer"
        },
        {
         "name": "('track', 'nunique')",
         "rawType": "int64",
         "type": "integer"
        },
        {
         "name": "('userid', 'nunique')",
         "rawType": "int64",
         "type": "integer"
        }
       ],
       "ref": "451150e5-a5b2-4ea4-860a-8dc1bc82c93e",
       "rows": [
        [
         "shelbyville",
         "18118",
         "14406",
         "12293"
        ],
        [
         "springfield",
         "41873",
         "29208",
         "29069"
        ]
       ],
       "shape": {
        "columns": 3,
        "rows": 2
       }
      },
      "text/html": [
       "<div>\n",
       "<style scoped>\n",
       "    .dataframe tbody tr th:only-of-type {\n",
       "        vertical-align: middle;\n",
       "    }\n",
       "\n",
       "    .dataframe tbody tr th {\n",
       "        vertical-align: top;\n",
       "    }\n",
       "\n",
       "    .dataframe thead tr th {\n",
       "        text-align: left;\n",
       "    }\n",
       "\n",
       "    .dataframe thead tr:last-of-type th {\n",
       "        text-align: right;\n",
       "    }\n",
       "</style>\n",
       "<table border=\"1\" class=\"dataframe\">\n",
       "  <thead>\n",
       "    <tr>\n",
       "      <th></th>\n",
       "      <th colspan=\"2\" halign=\"left\">track</th>\n",
       "      <th>userid</th>\n",
       "    </tr>\n",
       "    <tr>\n",
       "      <th></th>\n",
       "      <th>count</th>\n",
       "      <th>nunique</th>\n",
       "      <th>nunique</th>\n",
       "    </tr>\n",
       "    <tr>\n",
       "      <th>city</th>\n",
       "      <th></th>\n",
       "      <th></th>\n",
       "      <th></th>\n",
       "    </tr>\n",
       "  </thead>\n",
       "  <tbody>\n",
       "    <tr>\n",
       "      <th>shelbyville</th>\n",
       "      <td>18118</td>\n",
       "      <td>14406</td>\n",
       "      <td>12293</td>\n",
       "    </tr>\n",
       "    <tr>\n",
       "      <th>springfield</th>\n",
       "      <td>41873</td>\n",
       "      <td>29208</td>\n",
       "      <td>29069</td>\n",
       "    </tr>\n",
       "  </tbody>\n",
       "</table>\n",
       "</div>"
      ],
      "text/plain": [
       "             track          userid\n",
       "             count nunique nunique\n",
       "city                              \n",
       "shelbyville  18118   14406   12293\n",
       "springfield  41873   29208   29069"
      ]
     },
     "execution_count": 10,
     "metadata": {},
     "output_type": "execute_result"
    }
   ],
   "source": [
    "df_music_city = pd.pivot_table(df_music, index='city', values=['userid', 'track'], aggfunc={'userid': pd.Series.nunique, 'track': [pd.Series.nunique, 'count']}, observed=False)\n",
    "df_music_city\n"
   ]
  },
  {
   "cell_type": "code",
   "execution_count": 11,
   "id": "e6606df2",
   "metadata": {},
   "outputs": [
    {
     "data": {
      "application/vnd.microsoft.datawrangler.viewer.v0+json": {
       "columns": [
        {
         "name": "city",
         "rawType": "category",
         "type": "unknown"
        },
        {
         "name": "total_tracks",
         "rawType": "int64",
         "type": "integer"
        },
        {
         "name": "tracks",
         "rawType": "int64",
         "type": "integer"
        },
        {
         "name": "users",
         "rawType": "int64",
         "type": "integer"
        }
       ],
       "ref": "799afce4-ff8e-4194-becb-ad02ae674e89",
       "rows": [
        [
         "shelbyville",
         "18118",
         "14406",
         "12293"
        ],
        [
         "springfield",
         "41873",
         "29208",
         "29069"
        ]
       ],
       "shape": {
        "columns": 3,
        "rows": 2
       }
      },
      "text/html": [
       "<div>\n",
       "<style scoped>\n",
       "    .dataframe tbody tr th:only-of-type {\n",
       "        vertical-align: middle;\n",
       "    }\n",
       "\n",
       "    .dataframe tbody tr th {\n",
       "        vertical-align: top;\n",
       "    }\n",
       "\n",
       "    .dataframe thead th {\n",
       "        text-align: right;\n",
       "    }\n",
       "</style>\n",
       "<table border=\"1\" class=\"dataframe\">\n",
       "  <thead>\n",
       "    <tr style=\"text-align: right;\">\n",
       "      <th></th>\n",
       "      <th>total_tracks</th>\n",
       "      <th>tracks</th>\n",
       "      <th>users</th>\n",
       "    </tr>\n",
       "    <tr>\n",
       "      <th>city</th>\n",
       "      <th></th>\n",
       "      <th></th>\n",
       "      <th></th>\n",
       "    </tr>\n",
       "  </thead>\n",
       "  <tbody>\n",
       "    <tr>\n",
       "      <th>shelbyville</th>\n",
       "      <td>18118</td>\n",
       "      <td>14406</td>\n",
       "      <td>12293</td>\n",
       "    </tr>\n",
       "    <tr>\n",
       "      <th>springfield</th>\n",
       "      <td>41873</td>\n",
       "      <td>29208</td>\n",
       "      <td>29069</td>\n",
       "    </tr>\n",
       "  </tbody>\n",
       "</table>\n",
       "</div>"
      ],
      "text/plain": [
       "             total_tracks  tracks  users\n",
       "city                                    \n",
       "shelbyville         18118   14406  12293\n",
       "springfield         41873   29208  29069"
      ]
     },
     "execution_count": 11,
     "metadata": {},
     "output_type": "execute_result"
    }
   ],
   "source": [
    "df_music_city.columns = df_music_city.columns = ['total_tracks', 'tracks', 'users']\n",
    "df_music_city\n"
   ]
  },
  {
   "cell_type": "code",
   "execution_count": 12,
   "id": "4bf106f6",
   "metadata": {},
   "outputs": [],
   "source": [
    "project_root = Path.cwd().parent\n",
    "processed_path = project_root / \"data\" / \"processed\" / \"music_activity_city.csv\"\n",
    "df_music_city.to_csv(processed_path)\n"
   ]
  },
  {
   "cell_type": "markdown",
   "id": "f0faba31",
   "metadata": {},
   "source": [
    "#### 3.1.2 User activity variation by day"
   ]
  },
  {
   "cell_type": "code",
   "execution_count": 13,
   "id": "45d2894e",
   "metadata": {},
   "outputs": [
    {
     "data": {
      "application/vnd.microsoft.datawrangler.viewer.v0+json": {
       "columns": [
        {
         "name": "day",
         "rawType": "category",
         "type": "unknown"
        },
        {
         "name": "('track', 'count')",
         "rawType": "int64",
         "type": "integer"
        },
        {
         "name": "('track', 'nunique')",
         "rawType": "int64",
         "type": "integer"
        },
        {
         "name": "('userid', 'nunique')",
         "rawType": "int64",
         "type": "integer"
        }
       ],
       "ref": "8cc8b175-92b9-4014-9d93-90962bc00146",
       "rows": [
        [
         "friday",
         "21475",
         "17141",
         "16473"
        ],
        [
         "monday",
         "20799",
         "16570",
         "15925"
        ],
        [
         "wednesday",
         "17717",
         "14370",
         "13490"
        ]
       ],
       "shape": {
        "columns": 3,
        "rows": 3
       }
      },
      "text/html": [
       "<div>\n",
       "<style scoped>\n",
       "    .dataframe tbody tr th:only-of-type {\n",
       "        vertical-align: middle;\n",
       "    }\n",
       "\n",
       "    .dataframe tbody tr th {\n",
       "        vertical-align: top;\n",
       "    }\n",
       "\n",
       "    .dataframe thead tr th {\n",
       "        text-align: left;\n",
       "    }\n",
       "\n",
       "    .dataframe thead tr:last-of-type th {\n",
       "        text-align: right;\n",
       "    }\n",
       "</style>\n",
       "<table border=\"1\" class=\"dataframe\">\n",
       "  <thead>\n",
       "    <tr>\n",
       "      <th></th>\n",
       "      <th colspan=\"2\" halign=\"left\">track</th>\n",
       "      <th>userid</th>\n",
       "    </tr>\n",
       "    <tr>\n",
       "      <th></th>\n",
       "      <th>count</th>\n",
       "      <th>nunique</th>\n",
       "      <th>nunique</th>\n",
       "    </tr>\n",
       "    <tr>\n",
       "      <th>day</th>\n",
       "      <th></th>\n",
       "      <th></th>\n",
       "      <th></th>\n",
       "    </tr>\n",
       "  </thead>\n",
       "  <tbody>\n",
       "    <tr>\n",
       "      <th>friday</th>\n",
       "      <td>21475</td>\n",
       "      <td>17141</td>\n",
       "      <td>16473</td>\n",
       "    </tr>\n",
       "    <tr>\n",
       "      <th>monday</th>\n",
       "      <td>20799</td>\n",
       "      <td>16570</td>\n",
       "      <td>15925</td>\n",
       "    </tr>\n",
       "    <tr>\n",
       "      <th>wednesday</th>\n",
       "      <td>17717</td>\n",
       "      <td>14370</td>\n",
       "      <td>13490</td>\n",
       "    </tr>\n",
       "  </tbody>\n",
       "</table>\n",
       "</div>"
      ],
      "text/plain": [
       "           track          userid\n",
       "           count nunique nunique\n",
       "day                             \n",
       "friday     21475   17141   16473\n",
       "monday     20799   16570   15925\n",
       "wednesday  17717   14370   13490"
      ]
     },
     "execution_count": 13,
     "metadata": {},
     "output_type": "execute_result"
    }
   ],
   "source": [
    "df_music_day = pd.pivot_table(df_music, index='day', values=['userid', 'track'], aggfunc={'userid': pd.Series.nunique, 'track': [pd.Series.nunique, 'count']}, observed=False)\n",
    "df_music_day"
   ]
  },
  {
   "cell_type": "code",
   "execution_count": 14,
   "id": "b3f1de39",
   "metadata": {},
   "outputs": [
    {
     "data": {
      "application/vnd.microsoft.datawrangler.viewer.v0+json": {
       "columns": [
        {
         "name": "day",
         "rawType": "category",
         "type": "unknown"
        },
        {
         "name": "total_tracks",
         "rawType": "int64",
         "type": "integer"
        },
        {
         "name": "tracks",
         "rawType": "int64",
         "type": "integer"
        },
        {
         "name": "users",
         "rawType": "int64",
         "type": "integer"
        }
       ],
       "ref": "6f4d2448-da28-4de9-80f5-0222656eebb3",
       "rows": [
        [
         "friday",
         "21475",
         "17141",
         "16473"
        ],
        [
         "monday",
         "20799",
         "16570",
         "15925"
        ],
        [
         "wednesday",
         "17717",
         "14370",
         "13490"
        ]
       ],
       "shape": {
        "columns": 3,
        "rows": 3
       }
      },
      "text/html": [
       "<div>\n",
       "<style scoped>\n",
       "    .dataframe tbody tr th:only-of-type {\n",
       "        vertical-align: middle;\n",
       "    }\n",
       "\n",
       "    .dataframe tbody tr th {\n",
       "        vertical-align: top;\n",
       "    }\n",
       "\n",
       "    .dataframe thead th {\n",
       "        text-align: right;\n",
       "    }\n",
       "</style>\n",
       "<table border=\"1\" class=\"dataframe\">\n",
       "  <thead>\n",
       "    <tr style=\"text-align: right;\">\n",
       "      <th></th>\n",
       "      <th>total_tracks</th>\n",
       "      <th>tracks</th>\n",
       "      <th>users</th>\n",
       "    </tr>\n",
       "    <tr>\n",
       "      <th>day</th>\n",
       "      <th></th>\n",
       "      <th></th>\n",
       "      <th></th>\n",
       "    </tr>\n",
       "  </thead>\n",
       "  <tbody>\n",
       "    <tr>\n",
       "      <th>friday</th>\n",
       "      <td>21475</td>\n",
       "      <td>17141</td>\n",
       "      <td>16473</td>\n",
       "    </tr>\n",
       "    <tr>\n",
       "      <th>monday</th>\n",
       "      <td>20799</td>\n",
       "      <td>16570</td>\n",
       "      <td>15925</td>\n",
       "    </tr>\n",
       "    <tr>\n",
       "      <th>wednesday</th>\n",
       "      <td>17717</td>\n",
       "      <td>14370</td>\n",
       "      <td>13490</td>\n",
       "    </tr>\n",
       "  </tbody>\n",
       "</table>\n",
       "</div>"
      ],
      "text/plain": [
       "           total_tracks  tracks  users\n",
       "day                                   \n",
       "friday            21475   17141  16473\n",
       "monday            20799   16570  15925\n",
       "wednesday         17717   14370  13490"
      ]
     },
     "execution_count": 14,
     "metadata": {},
     "output_type": "execute_result"
    }
   ],
   "source": [
    "df_music_day.columns = ['total_tracks', 'tracks', 'users']\n",
    "df_music_day"
   ]
  },
  {
   "cell_type": "code",
   "execution_count": 16,
   "id": "f0bd5a23",
   "metadata": {},
   "outputs": [],
   "source": [
    "project_root = Path.cwd().parent\n",
    "processed_path = project_root / \"data\" / \"processed\" / \"music_activity_day.csv\"\n",
    "\n",
    "df_music_day.to_csv(processed_path)"
   ]
  },
  {
   "cell_type": "markdown",
   "id": "903e4be8",
   "metadata": {},
   "source": [
    "#### 3.1.3 User activity variation by city and day"
   ]
  },
  {
   "cell_type": "code",
   "execution_count": 17,
   "id": "4fe7a4ee",
   "metadata": {},
   "outputs": [
    {
     "data": {
      "application/vnd.microsoft.datawrangler.viewer.v0+json": {
       "columns": [
        {
         "name": "('city', 'day')",
         "rawType": "object",
         "type": "unknown"
        },
        {
         "name": "('track', 'count')",
         "rawType": "int64",
         "type": "integer"
        },
        {
         "name": "('track', 'nunique')",
         "rawType": "int64",
         "type": "integer"
        },
        {
         "name": "('userid', 'nunique')",
         "rawType": "int64",
         "type": "integer"
        }
       ],
       "ref": "e8d46b43-23ef-45d1-a016-5abcbf994f33",
       "rows": [
        [
         "('shelbyville', 'friday')",
         "5786",
         "5208",
         "4447"
        ],
        [
         "('shelbyville', 'monday')",
         "5462",
         "4896",
         "4186"
        ],
        [
         "('shelbyville', 'wednesday')",
         "6870",
         "6055",
         "5177"
        ],
        [
         "('springfield', 'friday')",
         "15689",
         "12908",
         "12030"
        ],
        [
         "('springfield', 'monday')",
         "15337",
         "12593",
         "11747"
        ],
        [
         "('springfield', 'wednesday')",
         "10847",
         "9236",
         "8314"
        ]
       ],
       "shape": {
        "columns": 3,
        "rows": 6
       }
      },
      "text/html": [
       "<div>\n",
       "<style scoped>\n",
       "    .dataframe tbody tr th:only-of-type {\n",
       "        vertical-align: middle;\n",
       "    }\n",
       "\n",
       "    .dataframe tbody tr th {\n",
       "        vertical-align: top;\n",
       "    }\n",
       "\n",
       "    .dataframe thead tr th {\n",
       "        text-align: left;\n",
       "    }\n",
       "\n",
       "    .dataframe thead tr:last-of-type th {\n",
       "        text-align: right;\n",
       "    }\n",
       "</style>\n",
       "<table border=\"1\" class=\"dataframe\">\n",
       "  <thead>\n",
       "    <tr>\n",
       "      <th></th>\n",
       "      <th></th>\n",
       "      <th colspan=\"2\" halign=\"left\">track</th>\n",
       "      <th>userid</th>\n",
       "    </tr>\n",
       "    <tr>\n",
       "      <th></th>\n",
       "      <th></th>\n",
       "      <th>count</th>\n",
       "      <th>nunique</th>\n",
       "      <th>nunique</th>\n",
       "    </tr>\n",
       "    <tr>\n",
       "      <th>city</th>\n",
       "      <th>day</th>\n",
       "      <th></th>\n",
       "      <th></th>\n",
       "      <th></th>\n",
       "    </tr>\n",
       "  </thead>\n",
       "  <tbody>\n",
       "    <tr>\n",
       "      <th rowspan=\"3\" valign=\"top\">shelbyville</th>\n",
       "      <th>friday</th>\n",
       "      <td>5786</td>\n",
       "      <td>5208</td>\n",
       "      <td>4447</td>\n",
       "    </tr>\n",
       "    <tr>\n",
       "      <th>monday</th>\n",
       "      <td>5462</td>\n",
       "      <td>4896</td>\n",
       "      <td>4186</td>\n",
       "    </tr>\n",
       "    <tr>\n",
       "      <th>wednesday</th>\n",
       "      <td>6870</td>\n",
       "      <td>6055</td>\n",
       "      <td>5177</td>\n",
       "    </tr>\n",
       "    <tr>\n",
       "      <th rowspan=\"3\" valign=\"top\">springfield</th>\n",
       "      <th>friday</th>\n",
       "      <td>15689</td>\n",
       "      <td>12908</td>\n",
       "      <td>12030</td>\n",
       "    </tr>\n",
       "    <tr>\n",
       "      <th>monday</th>\n",
       "      <td>15337</td>\n",
       "      <td>12593</td>\n",
       "      <td>11747</td>\n",
       "    </tr>\n",
       "    <tr>\n",
       "      <th>wednesday</th>\n",
       "      <td>10847</td>\n",
       "      <td>9236</td>\n",
       "      <td>8314</td>\n",
       "    </tr>\n",
       "  </tbody>\n",
       "</table>\n",
       "</div>"
      ],
      "text/plain": [
       "                       track          userid\n",
       "                       count nunique nunique\n",
       "city        day                             \n",
       "shelbyville friday      5786    5208    4447\n",
       "            monday      5462    4896    4186\n",
       "            wednesday   6870    6055    5177\n",
       "springfield friday     15689   12908   12030\n",
       "            monday     15337   12593   11747\n",
       "            wednesday  10847    9236    8314"
      ]
     },
     "execution_count": 17,
     "metadata": {},
     "output_type": "execute_result"
    }
   ],
   "source": [
    "df_music_city_day = pd.pivot_table(df_music, index=['city', 'day'], values=['userid', 'track'], aggfunc={'userid': pd.Series.nunique, 'track': [pd.Series.nunique, 'count']}, observed=False)\n",
    "df_music_city_day"
   ]
  },
  {
   "cell_type": "code",
   "execution_count": 18,
   "id": "e00f0ccd",
   "metadata": {},
   "outputs": [
    {
     "data": {
      "application/vnd.microsoft.datawrangler.viewer.v0+json": {
       "columns": [
        {
         "name": "index",
         "rawType": "int64",
         "type": "integer"
        },
        {
         "name": "('city', '')",
         "rawType": "category",
         "type": "unknown"
        },
        {
         "name": "('day', '')",
         "rawType": "category",
         "type": "unknown"
        },
        {
         "name": "('track', 'count')",
         "rawType": "int64",
         "type": "integer"
        },
        {
         "name": "('track', 'nunique')",
         "rawType": "int64",
         "type": "integer"
        },
        {
         "name": "('userid', 'nunique')",
         "rawType": "int64",
         "type": "integer"
        }
       ],
       "ref": "7624a1f6-49a9-47d9-8439-7454465ac2fd",
       "rows": [
        [
         "0",
         "shelbyville",
         "friday",
         "5786",
         "5208",
         "4447"
        ],
        [
         "1",
         "shelbyville",
         "monday",
         "5462",
         "4896",
         "4186"
        ],
        [
         "2",
         "shelbyville",
         "wednesday",
         "6870",
         "6055",
         "5177"
        ],
        [
         "3",
         "springfield",
         "friday",
         "15689",
         "12908",
         "12030"
        ],
        [
         "4",
         "springfield",
         "monday",
         "15337",
         "12593",
         "11747"
        ],
        [
         "5",
         "springfield",
         "wednesday",
         "10847",
         "9236",
         "8314"
        ]
       ],
       "shape": {
        "columns": 5,
        "rows": 6
       }
      },
      "text/html": [
       "<div>\n",
       "<style scoped>\n",
       "    .dataframe tbody tr th:only-of-type {\n",
       "        vertical-align: middle;\n",
       "    }\n",
       "\n",
       "    .dataframe tbody tr th {\n",
       "        vertical-align: top;\n",
       "    }\n",
       "\n",
       "    .dataframe thead tr th {\n",
       "        text-align: left;\n",
       "    }\n",
       "</style>\n",
       "<table border=\"1\" class=\"dataframe\">\n",
       "  <thead>\n",
       "    <tr>\n",
       "      <th></th>\n",
       "      <th>city</th>\n",
       "      <th>day</th>\n",
       "      <th colspan=\"2\" halign=\"left\">track</th>\n",
       "      <th>userid</th>\n",
       "    </tr>\n",
       "    <tr>\n",
       "      <th></th>\n",
       "      <th></th>\n",
       "      <th></th>\n",
       "      <th>count</th>\n",
       "      <th>nunique</th>\n",
       "      <th>nunique</th>\n",
       "    </tr>\n",
       "  </thead>\n",
       "  <tbody>\n",
       "    <tr>\n",
       "      <th>0</th>\n",
       "      <td>shelbyville</td>\n",
       "      <td>friday</td>\n",
       "      <td>5786</td>\n",
       "      <td>5208</td>\n",
       "      <td>4447</td>\n",
       "    </tr>\n",
       "    <tr>\n",
       "      <th>1</th>\n",
       "      <td>shelbyville</td>\n",
       "      <td>monday</td>\n",
       "      <td>5462</td>\n",
       "      <td>4896</td>\n",
       "      <td>4186</td>\n",
       "    </tr>\n",
       "    <tr>\n",
       "      <th>2</th>\n",
       "      <td>shelbyville</td>\n",
       "      <td>wednesday</td>\n",
       "      <td>6870</td>\n",
       "      <td>6055</td>\n",
       "      <td>5177</td>\n",
       "    </tr>\n",
       "    <tr>\n",
       "      <th>3</th>\n",
       "      <td>springfield</td>\n",
       "      <td>friday</td>\n",
       "      <td>15689</td>\n",
       "      <td>12908</td>\n",
       "      <td>12030</td>\n",
       "    </tr>\n",
       "    <tr>\n",
       "      <th>4</th>\n",
       "      <td>springfield</td>\n",
       "      <td>monday</td>\n",
       "      <td>15337</td>\n",
       "      <td>12593</td>\n",
       "      <td>11747</td>\n",
       "    </tr>\n",
       "    <tr>\n",
       "      <th>5</th>\n",
       "      <td>springfield</td>\n",
       "      <td>wednesday</td>\n",
       "      <td>10847</td>\n",
       "      <td>9236</td>\n",
       "      <td>8314</td>\n",
       "    </tr>\n",
       "  </tbody>\n",
       "</table>\n",
       "</div>"
      ],
      "text/plain": [
       "          city        day  track          userid\n",
       "                           count nunique nunique\n",
       "0  shelbyville     friday   5786    5208    4447\n",
       "1  shelbyville     monday   5462    4896    4186\n",
       "2  shelbyville  wednesday   6870    6055    5177\n",
       "3  springfield     friday  15689   12908   12030\n",
       "4  springfield     monday  15337   12593   11747\n",
       "5  springfield  wednesday  10847    9236    8314"
      ]
     },
     "execution_count": 18,
     "metadata": {},
     "output_type": "execute_result"
    }
   ],
   "source": [
    "df_music_city_day = df_music_city_day.reset_index()\n",
    "df_music_city_day"
   ]
  },
  {
   "cell_type": "code",
   "execution_count": 19,
   "id": "7b962ab2",
   "metadata": {},
   "outputs": [
    {
     "data": {
      "application/vnd.microsoft.datawrangler.viewer.v0+json": {
       "columns": [
        {
         "name": "index",
         "rawType": "int64",
         "type": "integer"
        },
        {
         "name": "city",
         "rawType": "category",
         "type": "unknown"
        },
        {
         "name": "day",
         "rawType": "category",
         "type": "unknown"
        },
        {
         "name": "total_tracks",
         "rawType": "int64",
         "type": "integer"
        },
        {
         "name": "tracks",
         "rawType": "int64",
         "type": "integer"
        },
        {
         "name": "users",
         "rawType": "int64",
         "type": "integer"
        }
       ],
       "ref": "b478e2e0-b1f1-4794-86ad-1e59be0f9df6",
       "rows": [
        [
         "0",
         "shelbyville",
         "friday",
         "5786",
         "5208",
         "4447"
        ],
        [
         "1",
         "shelbyville",
         "monday",
         "5462",
         "4896",
         "4186"
        ],
        [
         "2",
         "shelbyville",
         "wednesday",
         "6870",
         "6055",
         "5177"
        ],
        [
         "3",
         "springfield",
         "friday",
         "15689",
         "12908",
         "12030"
        ],
        [
         "4",
         "springfield",
         "monday",
         "15337",
         "12593",
         "11747"
        ],
        [
         "5",
         "springfield",
         "wednesday",
         "10847",
         "9236",
         "8314"
        ]
       ],
       "shape": {
        "columns": 5,
        "rows": 6
       }
      },
      "text/html": [
       "<div>\n",
       "<style scoped>\n",
       "    .dataframe tbody tr th:only-of-type {\n",
       "        vertical-align: middle;\n",
       "    }\n",
       "\n",
       "    .dataframe tbody tr th {\n",
       "        vertical-align: top;\n",
       "    }\n",
       "\n",
       "    .dataframe thead th {\n",
       "        text-align: right;\n",
       "    }\n",
       "</style>\n",
       "<table border=\"1\" class=\"dataframe\">\n",
       "  <thead>\n",
       "    <tr style=\"text-align: right;\">\n",
       "      <th></th>\n",
       "      <th>city</th>\n",
       "      <th>day</th>\n",
       "      <th>total_tracks</th>\n",
       "      <th>tracks</th>\n",
       "      <th>users</th>\n",
       "    </tr>\n",
       "  </thead>\n",
       "  <tbody>\n",
       "    <tr>\n",
       "      <th>0</th>\n",
       "      <td>shelbyville</td>\n",
       "      <td>friday</td>\n",
       "      <td>5786</td>\n",
       "      <td>5208</td>\n",
       "      <td>4447</td>\n",
       "    </tr>\n",
       "    <tr>\n",
       "      <th>1</th>\n",
       "      <td>shelbyville</td>\n",
       "      <td>monday</td>\n",
       "      <td>5462</td>\n",
       "      <td>4896</td>\n",
       "      <td>4186</td>\n",
       "    </tr>\n",
       "    <tr>\n",
       "      <th>2</th>\n",
       "      <td>shelbyville</td>\n",
       "      <td>wednesday</td>\n",
       "      <td>6870</td>\n",
       "      <td>6055</td>\n",
       "      <td>5177</td>\n",
       "    </tr>\n",
       "    <tr>\n",
       "      <th>3</th>\n",
       "      <td>springfield</td>\n",
       "      <td>friday</td>\n",
       "      <td>15689</td>\n",
       "      <td>12908</td>\n",
       "      <td>12030</td>\n",
       "    </tr>\n",
       "    <tr>\n",
       "      <th>4</th>\n",
       "      <td>springfield</td>\n",
       "      <td>monday</td>\n",
       "      <td>15337</td>\n",
       "      <td>12593</td>\n",
       "      <td>11747</td>\n",
       "    </tr>\n",
       "    <tr>\n",
       "      <th>5</th>\n",
       "      <td>springfield</td>\n",
       "      <td>wednesday</td>\n",
       "      <td>10847</td>\n",
       "      <td>9236</td>\n",
       "      <td>8314</td>\n",
       "    </tr>\n",
       "  </tbody>\n",
       "</table>\n",
       "</div>"
      ],
      "text/plain": [
       "          city        day  total_tracks  tracks  users\n",
       "0  shelbyville     friday          5786    5208   4447\n",
       "1  shelbyville     monday          5462    4896   4186\n",
       "2  shelbyville  wednesday          6870    6055   5177\n",
       "3  springfield     friday         15689   12908  12030\n",
       "4  springfield     monday         15337   12593  11747\n",
       "5  springfield  wednesday         10847    9236   8314"
      ]
     },
     "execution_count": 19,
     "metadata": {},
     "output_type": "execute_result"
    }
   ],
   "source": [
    "df_music_city_day.columns = ['city', 'day', 'total_tracks', 'tracks', 'users']\n",
    "df_music_city_day"
   ]
  },
  {
   "cell_type": "code",
   "execution_count": 21,
   "id": "f178a4b3",
   "metadata": {},
   "outputs": [],
   "source": [
    "project_root = Path.cwd().parent\n",
    "processed_path = project_root / \"data\" / \"processed\" / \"music_activity_city_day.csv\"\n",
    "\n",
    "df_music_city_day.to_csv(processed_path, index=False)"
   ]
  },
  {
   "cell_type": "markdown",
   "id": "fafcb7b6",
   "metadata": {},
   "source": [
    "### 3.2 User activity variation by time, day and city"
   ]
  },
  {
   "cell_type": "markdown",
   "id": "9266c2db",
   "metadata": {},
   "source": [
    "#### 3.2.1 User activity variation by time and city"
   ]
  },
  {
   "cell_type": "code",
   "execution_count": 22,
   "id": "3d1b477a",
   "metadata": {},
   "outputs": [
    {
     "data": {
      "application/vnd.microsoft.datawrangler.viewer.v0+json": {
       "columns": [
        {
         "name": "('city', 'hour')",
         "rawType": "object",
         "type": "unknown"
        },
        {
         "name": "('track', 'count')",
         "rawType": "int64",
         "type": "integer"
        },
        {
         "name": "('track', 'nunique')",
         "rawType": "int64",
         "type": "integer"
        },
        {
         "name": "('userid', 'nunique')",
         "rawType": "int64",
         "type": "integer"
        }
       ],
       "ref": "b557dce9-7451-4b7f-9507-fc9881b2bc4f",
       "rows": [
        [
         "('shelbyville', np.int64(8))",
         "2553",
         "2335",
         "2030"
        ],
        [
         "('shelbyville', np.int64(9))",
         "2661",
         "2435",
         "2111"
        ],
        [
         "('shelbyville', np.int64(10))",
         "41",
         "41",
         "41"
        ],
        [
         "('shelbyville', np.int64(13))",
         "3120",
         "2912",
         "2522"
        ],
        [
         "('shelbyville', np.int64(14))",
         "3341",
         "3066",
         "2706"
        ],
        [
         "('shelbyville', np.int64(15))",
         "48",
         "48",
         "47"
        ],
        [
         "('shelbyville', np.int64(20))",
         "3223",
         "2996",
         "2576"
        ],
        [
         "('shelbyville', np.int64(21))",
         "3074",
         "2848",
         "2402"
        ],
        [
         "('shelbyville', np.int64(22))",
         "57",
         "57",
         "56"
        ],
        [
         "('springfield', np.int64(8))",
         "6690",
         "5718",
         "5264"
        ],
        [
         "('springfield', np.int64(9))",
         "6642",
         "5779",
         "5384"
        ],
        [
         "('springfield', np.int64(10))",
         "122",
         "122",
         "120"
        ],
        [
         "('springfield', np.int64(13))",
         "6981",
         "6181",
         "5640"
        ],
        [
         "('springfield', np.int64(14))",
         "7194",
         "6308",
         "5853"
        ],
        [
         "('springfield', np.int64(15))",
         "126",
         "126",
         "119"
        ],
        [
         "('springfield', np.int64(20))",
         "7394",
         "6466",
         "5848"
        ],
        [
         "('springfield', np.int64(21))",
         "6612",
         "5760",
         "5177"
        ],
        [
         "('springfield', np.int64(22))",
         "112",
         "111",
         "104"
        ]
       ],
       "shape": {
        "columns": 3,
        "rows": 18
       }
      },
      "text/html": [
       "<div>\n",
       "<style scoped>\n",
       "    .dataframe tbody tr th:only-of-type {\n",
       "        vertical-align: middle;\n",
       "    }\n",
       "\n",
       "    .dataframe tbody tr th {\n",
       "        vertical-align: top;\n",
       "    }\n",
       "\n",
       "    .dataframe thead tr th {\n",
       "        text-align: left;\n",
       "    }\n",
       "\n",
       "    .dataframe thead tr:last-of-type th {\n",
       "        text-align: right;\n",
       "    }\n",
       "</style>\n",
       "<table border=\"1\" class=\"dataframe\">\n",
       "  <thead>\n",
       "    <tr>\n",
       "      <th></th>\n",
       "      <th></th>\n",
       "      <th colspan=\"2\" halign=\"left\">track</th>\n",
       "      <th>userid</th>\n",
       "    </tr>\n",
       "    <tr>\n",
       "      <th></th>\n",
       "      <th></th>\n",
       "      <th>count</th>\n",
       "      <th>nunique</th>\n",
       "      <th>nunique</th>\n",
       "    </tr>\n",
       "    <tr>\n",
       "      <th>city</th>\n",
       "      <th>hour</th>\n",
       "      <th></th>\n",
       "      <th></th>\n",
       "      <th></th>\n",
       "    </tr>\n",
       "  </thead>\n",
       "  <tbody>\n",
       "    <tr>\n",
       "      <th rowspan=\"9\" valign=\"top\">shelbyville</th>\n",
       "      <th>8</th>\n",
       "      <td>2553</td>\n",
       "      <td>2335</td>\n",
       "      <td>2030</td>\n",
       "    </tr>\n",
       "    <tr>\n",
       "      <th>9</th>\n",
       "      <td>2661</td>\n",
       "      <td>2435</td>\n",
       "      <td>2111</td>\n",
       "    </tr>\n",
       "    <tr>\n",
       "      <th>10</th>\n",
       "      <td>41</td>\n",
       "      <td>41</td>\n",
       "      <td>41</td>\n",
       "    </tr>\n",
       "    <tr>\n",
       "      <th>13</th>\n",
       "      <td>3120</td>\n",
       "      <td>2912</td>\n",
       "      <td>2522</td>\n",
       "    </tr>\n",
       "    <tr>\n",
       "      <th>14</th>\n",
       "      <td>3341</td>\n",
       "      <td>3066</td>\n",
       "      <td>2706</td>\n",
       "    </tr>\n",
       "    <tr>\n",
       "      <th>15</th>\n",
       "      <td>48</td>\n",
       "      <td>48</td>\n",
       "      <td>47</td>\n",
       "    </tr>\n",
       "    <tr>\n",
       "      <th>20</th>\n",
       "      <td>3223</td>\n",
       "      <td>2996</td>\n",
       "      <td>2576</td>\n",
       "    </tr>\n",
       "    <tr>\n",
       "      <th>21</th>\n",
       "      <td>3074</td>\n",
       "      <td>2848</td>\n",
       "      <td>2402</td>\n",
       "    </tr>\n",
       "    <tr>\n",
       "      <th>22</th>\n",
       "      <td>57</td>\n",
       "      <td>57</td>\n",
       "      <td>56</td>\n",
       "    </tr>\n",
       "    <tr>\n",
       "      <th rowspan=\"9\" valign=\"top\">springfield</th>\n",
       "      <th>8</th>\n",
       "      <td>6690</td>\n",
       "      <td>5718</td>\n",
       "      <td>5264</td>\n",
       "    </tr>\n",
       "    <tr>\n",
       "      <th>9</th>\n",
       "      <td>6642</td>\n",
       "      <td>5779</td>\n",
       "      <td>5384</td>\n",
       "    </tr>\n",
       "    <tr>\n",
       "      <th>10</th>\n",
       "      <td>122</td>\n",
       "      <td>122</td>\n",
       "      <td>120</td>\n",
       "    </tr>\n",
       "    <tr>\n",
       "      <th>13</th>\n",
       "      <td>6981</td>\n",
       "      <td>6181</td>\n",
       "      <td>5640</td>\n",
       "    </tr>\n",
       "    <tr>\n",
       "      <th>14</th>\n",
       "      <td>7194</td>\n",
       "      <td>6308</td>\n",
       "      <td>5853</td>\n",
       "    </tr>\n",
       "    <tr>\n",
       "      <th>15</th>\n",
       "      <td>126</td>\n",
       "      <td>126</td>\n",
       "      <td>119</td>\n",
       "    </tr>\n",
       "    <tr>\n",
       "      <th>20</th>\n",
       "      <td>7394</td>\n",
       "      <td>6466</td>\n",
       "      <td>5848</td>\n",
       "    </tr>\n",
       "    <tr>\n",
       "      <th>21</th>\n",
       "      <td>6612</td>\n",
       "      <td>5760</td>\n",
       "      <td>5177</td>\n",
       "    </tr>\n",
       "    <tr>\n",
       "      <th>22</th>\n",
       "      <td>112</td>\n",
       "      <td>111</td>\n",
       "      <td>104</td>\n",
       "    </tr>\n",
       "  </tbody>\n",
       "</table>\n",
       "</div>"
      ],
      "text/plain": [
       "                 track          userid\n",
       "                 count nunique nunique\n",
       "city        hour                      \n",
       "shelbyville 8     2553    2335    2030\n",
       "            9     2661    2435    2111\n",
       "            10      41      41      41\n",
       "            13    3120    2912    2522\n",
       "            14    3341    3066    2706\n",
       "            15      48      48      47\n",
       "            20    3223    2996    2576\n",
       "            21    3074    2848    2402\n",
       "            22      57      57      56\n",
       "springfield 8     6690    5718    5264\n",
       "            9     6642    5779    5384\n",
       "            10     122     122     120\n",
       "            13    6981    6181    5640\n",
       "            14    7194    6308    5853\n",
       "            15     126     126     119\n",
       "            20    7394    6466    5848\n",
       "            21    6612    5760    5177\n",
       "            22     112     111     104"
      ]
     },
     "execution_count": 22,
     "metadata": {},
     "output_type": "execute_result"
    }
   ],
   "source": [
    "df_music_time_city = pd.pivot_table(df_music, index=['city', 'hour'], values=['userid', 'track'], aggfunc={'userid': pd.Series.nunique, 'track': [pd.Series.nunique, 'count']}, observed=False)\n",
    "df_music_time_city"
   ]
  },
  {
   "cell_type": "code",
   "execution_count": 23,
   "id": "37bbe85f",
   "metadata": {},
   "outputs": [
    {
     "data": {
      "application/vnd.microsoft.datawrangler.viewer.v0+json": {
       "columns": [
        {
         "name": "index",
         "rawType": "int64",
         "type": "integer"
        },
        {
         "name": "('city', '')",
         "rawType": "category",
         "type": "unknown"
        },
        {
         "name": "('hour', '')",
         "rawType": "category",
         "type": "unknown"
        },
        {
         "name": "('track', 'count')",
         "rawType": "int64",
         "type": "integer"
        },
        {
         "name": "('track', 'nunique')",
         "rawType": "int64",
         "type": "integer"
        },
        {
         "name": "('userid', 'nunique')",
         "rawType": "int64",
         "type": "integer"
        }
       ],
       "ref": "98d8f1d7-56a4-4a29-9025-90f192e42992",
       "rows": [
        [
         "0",
         "shelbyville",
         "8",
         "2553",
         "2335",
         "2030"
        ],
        [
         "1",
         "shelbyville",
         "9",
         "2661",
         "2435",
         "2111"
        ],
        [
         "2",
         "shelbyville",
         "10",
         "41",
         "41",
         "41"
        ],
        [
         "3",
         "shelbyville",
         "13",
         "3120",
         "2912",
         "2522"
        ],
        [
         "4",
         "shelbyville",
         "14",
         "3341",
         "3066",
         "2706"
        ],
        [
         "5",
         "shelbyville",
         "15",
         "48",
         "48",
         "47"
        ],
        [
         "6",
         "shelbyville",
         "20",
         "3223",
         "2996",
         "2576"
        ],
        [
         "7",
         "shelbyville",
         "21",
         "3074",
         "2848",
         "2402"
        ],
        [
         "8",
         "shelbyville",
         "22",
         "57",
         "57",
         "56"
        ],
        [
         "9",
         "springfield",
         "8",
         "6690",
         "5718",
         "5264"
        ],
        [
         "10",
         "springfield",
         "9",
         "6642",
         "5779",
         "5384"
        ],
        [
         "11",
         "springfield",
         "10",
         "122",
         "122",
         "120"
        ],
        [
         "12",
         "springfield",
         "13",
         "6981",
         "6181",
         "5640"
        ],
        [
         "13",
         "springfield",
         "14",
         "7194",
         "6308",
         "5853"
        ],
        [
         "14",
         "springfield",
         "15",
         "126",
         "126",
         "119"
        ],
        [
         "15",
         "springfield",
         "20",
         "7394",
         "6466",
         "5848"
        ],
        [
         "16",
         "springfield",
         "21",
         "6612",
         "5760",
         "5177"
        ],
        [
         "17",
         "springfield",
         "22",
         "112",
         "111",
         "104"
        ]
       ],
       "shape": {
        "columns": 5,
        "rows": 18
       }
      },
      "text/html": [
       "<div>\n",
       "<style scoped>\n",
       "    .dataframe tbody tr th:only-of-type {\n",
       "        vertical-align: middle;\n",
       "    }\n",
       "\n",
       "    .dataframe tbody tr th {\n",
       "        vertical-align: top;\n",
       "    }\n",
       "\n",
       "    .dataframe thead tr th {\n",
       "        text-align: left;\n",
       "    }\n",
       "</style>\n",
       "<table border=\"1\" class=\"dataframe\">\n",
       "  <thead>\n",
       "    <tr>\n",
       "      <th></th>\n",
       "      <th>city</th>\n",
       "      <th>hour</th>\n",
       "      <th colspan=\"2\" halign=\"left\">track</th>\n",
       "      <th>userid</th>\n",
       "    </tr>\n",
       "    <tr>\n",
       "      <th></th>\n",
       "      <th></th>\n",
       "      <th></th>\n",
       "      <th>count</th>\n",
       "      <th>nunique</th>\n",
       "      <th>nunique</th>\n",
       "    </tr>\n",
       "  </thead>\n",
       "  <tbody>\n",
       "    <tr>\n",
       "      <th>0</th>\n",
       "      <td>shelbyville</td>\n",
       "      <td>8</td>\n",
       "      <td>2553</td>\n",
       "      <td>2335</td>\n",
       "      <td>2030</td>\n",
       "    </tr>\n",
       "    <tr>\n",
       "      <th>1</th>\n",
       "      <td>shelbyville</td>\n",
       "      <td>9</td>\n",
       "      <td>2661</td>\n",
       "      <td>2435</td>\n",
       "      <td>2111</td>\n",
       "    </tr>\n",
       "    <tr>\n",
       "      <th>2</th>\n",
       "      <td>shelbyville</td>\n",
       "      <td>10</td>\n",
       "      <td>41</td>\n",
       "      <td>41</td>\n",
       "      <td>41</td>\n",
       "    </tr>\n",
       "    <tr>\n",
       "      <th>3</th>\n",
       "      <td>shelbyville</td>\n",
       "      <td>13</td>\n",
       "      <td>3120</td>\n",
       "      <td>2912</td>\n",
       "      <td>2522</td>\n",
       "    </tr>\n",
       "    <tr>\n",
       "      <th>4</th>\n",
       "      <td>shelbyville</td>\n",
       "      <td>14</td>\n",
       "      <td>3341</td>\n",
       "      <td>3066</td>\n",
       "      <td>2706</td>\n",
       "    </tr>\n",
       "    <tr>\n",
       "      <th>5</th>\n",
       "      <td>shelbyville</td>\n",
       "      <td>15</td>\n",
       "      <td>48</td>\n",
       "      <td>48</td>\n",
       "      <td>47</td>\n",
       "    </tr>\n",
       "    <tr>\n",
       "      <th>6</th>\n",
       "      <td>shelbyville</td>\n",
       "      <td>20</td>\n",
       "      <td>3223</td>\n",
       "      <td>2996</td>\n",
       "      <td>2576</td>\n",
       "    </tr>\n",
       "    <tr>\n",
       "      <th>7</th>\n",
       "      <td>shelbyville</td>\n",
       "      <td>21</td>\n",
       "      <td>3074</td>\n",
       "      <td>2848</td>\n",
       "      <td>2402</td>\n",
       "    </tr>\n",
       "    <tr>\n",
       "      <th>8</th>\n",
       "      <td>shelbyville</td>\n",
       "      <td>22</td>\n",
       "      <td>57</td>\n",
       "      <td>57</td>\n",
       "      <td>56</td>\n",
       "    </tr>\n",
       "    <tr>\n",
       "      <th>9</th>\n",
       "      <td>springfield</td>\n",
       "      <td>8</td>\n",
       "      <td>6690</td>\n",
       "      <td>5718</td>\n",
       "      <td>5264</td>\n",
       "    </tr>\n",
       "    <tr>\n",
       "      <th>10</th>\n",
       "      <td>springfield</td>\n",
       "      <td>9</td>\n",
       "      <td>6642</td>\n",
       "      <td>5779</td>\n",
       "      <td>5384</td>\n",
       "    </tr>\n",
       "    <tr>\n",
       "      <th>11</th>\n",
       "      <td>springfield</td>\n",
       "      <td>10</td>\n",
       "      <td>122</td>\n",
       "      <td>122</td>\n",
       "      <td>120</td>\n",
       "    </tr>\n",
       "    <tr>\n",
       "      <th>12</th>\n",
       "      <td>springfield</td>\n",
       "      <td>13</td>\n",
       "      <td>6981</td>\n",
       "      <td>6181</td>\n",
       "      <td>5640</td>\n",
       "    </tr>\n",
       "    <tr>\n",
       "      <th>13</th>\n",
       "      <td>springfield</td>\n",
       "      <td>14</td>\n",
       "      <td>7194</td>\n",
       "      <td>6308</td>\n",
       "      <td>5853</td>\n",
       "    </tr>\n",
       "    <tr>\n",
       "      <th>14</th>\n",
       "      <td>springfield</td>\n",
       "      <td>15</td>\n",
       "      <td>126</td>\n",
       "      <td>126</td>\n",
       "      <td>119</td>\n",
       "    </tr>\n",
       "    <tr>\n",
       "      <th>15</th>\n",
       "      <td>springfield</td>\n",
       "      <td>20</td>\n",
       "      <td>7394</td>\n",
       "      <td>6466</td>\n",
       "      <td>5848</td>\n",
       "    </tr>\n",
       "    <tr>\n",
       "      <th>16</th>\n",
       "      <td>springfield</td>\n",
       "      <td>21</td>\n",
       "      <td>6612</td>\n",
       "      <td>5760</td>\n",
       "      <td>5177</td>\n",
       "    </tr>\n",
       "    <tr>\n",
       "      <th>17</th>\n",
       "      <td>springfield</td>\n",
       "      <td>22</td>\n",
       "      <td>112</td>\n",
       "      <td>111</td>\n",
       "      <td>104</td>\n",
       "    </tr>\n",
       "  </tbody>\n",
       "</table>\n",
       "</div>"
      ],
      "text/plain": [
       "           city hour track          userid\n",
       "                     count nunique nunique\n",
       "0   shelbyville    8  2553    2335    2030\n",
       "1   shelbyville    9  2661    2435    2111\n",
       "2   shelbyville   10    41      41      41\n",
       "3   shelbyville   13  3120    2912    2522\n",
       "4   shelbyville   14  3341    3066    2706\n",
       "5   shelbyville   15    48      48      47\n",
       "6   shelbyville   20  3223    2996    2576\n",
       "7   shelbyville   21  3074    2848    2402\n",
       "8   shelbyville   22    57      57      56\n",
       "9   springfield    8  6690    5718    5264\n",
       "10  springfield    9  6642    5779    5384\n",
       "11  springfield   10   122     122     120\n",
       "12  springfield   13  6981    6181    5640\n",
       "13  springfield   14  7194    6308    5853\n",
       "14  springfield   15   126     126     119\n",
       "15  springfield   20  7394    6466    5848\n",
       "16  springfield   21  6612    5760    5177\n",
       "17  springfield   22   112     111     104"
      ]
     },
     "execution_count": 23,
     "metadata": {},
     "output_type": "execute_result"
    }
   ],
   "source": [
    "df_music_time_city = df_music_time_city.reset_index()\n",
    "df_music_time_city"
   ]
  },
  {
   "cell_type": "code",
   "execution_count": 24,
   "id": "33f9b87d",
   "metadata": {},
   "outputs": [
    {
     "data": {
      "application/vnd.microsoft.datawrangler.viewer.v0+json": {
       "columns": [
        {
         "name": "index",
         "rawType": "int64",
         "type": "integer"
        },
        {
         "name": "city",
         "rawType": "category",
         "type": "unknown"
        },
        {
         "name": "hour",
         "rawType": "category",
         "type": "unknown"
        },
        {
         "name": "total_tracks",
         "rawType": "int64",
         "type": "integer"
        },
        {
         "name": "tracks",
         "rawType": "int64",
         "type": "integer"
        },
        {
         "name": "users",
         "rawType": "int64",
         "type": "integer"
        }
       ],
       "ref": "3a9685dd-def9-4914-ac33-10ddef7b69f4",
       "rows": [
        [
         "0",
         "shelbyville",
         "8",
         "2553",
         "2335",
         "2030"
        ],
        [
         "1",
         "shelbyville",
         "9",
         "2661",
         "2435",
         "2111"
        ],
        [
         "2",
         "shelbyville",
         "10",
         "41",
         "41",
         "41"
        ],
        [
         "3",
         "shelbyville",
         "13",
         "3120",
         "2912",
         "2522"
        ],
        [
         "4",
         "shelbyville",
         "14",
         "3341",
         "3066",
         "2706"
        ],
        [
         "5",
         "shelbyville",
         "15",
         "48",
         "48",
         "47"
        ],
        [
         "6",
         "shelbyville",
         "20",
         "3223",
         "2996",
         "2576"
        ],
        [
         "7",
         "shelbyville",
         "21",
         "3074",
         "2848",
         "2402"
        ],
        [
         "8",
         "shelbyville",
         "22",
         "57",
         "57",
         "56"
        ],
        [
         "9",
         "springfield",
         "8",
         "6690",
         "5718",
         "5264"
        ],
        [
         "10",
         "springfield",
         "9",
         "6642",
         "5779",
         "5384"
        ],
        [
         "11",
         "springfield",
         "10",
         "122",
         "122",
         "120"
        ],
        [
         "12",
         "springfield",
         "13",
         "6981",
         "6181",
         "5640"
        ],
        [
         "13",
         "springfield",
         "14",
         "7194",
         "6308",
         "5853"
        ],
        [
         "14",
         "springfield",
         "15",
         "126",
         "126",
         "119"
        ],
        [
         "15",
         "springfield",
         "20",
         "7394",
         "6466",
         "5848"
        ],
        [
         "16",
         "springfield",
         "21",
         "6612",
         "5760",
         "5177"
        ],
        [
         "17",
         "springfield",
         "22",
         "112",
         "111",
         "104"
        ]
       ],
       "shape": {
        "columns": 5,
        "rows": 18
       }
      },
      "text/html": [
       "<div>\n",
       "<style scoped>\n",
       "    .dataframe tbody tr th:only-of-type {\n",
       "        vertical-align: middle;\n",
       "    }\n",
       "\n",
       "    .dataframe tbody tr th {\n",
       "        vertical-align: top;\n",
       "    }\n",
       "\n",
       "    .dataframe thead th {\n",
       "        text-align: right;\n",
       "    }\n",
       "</style>\n",
       "<table border=\"1\" class=\"dataframe\">\n",
       "  <thead>\n",
       "    <tr style=\"text-align: right;\">\n",
       "      <th></th>\n",
       "      <th>city</th>\n",
       "      <th>hour</th>\n",
       "      <th>total_tracks</th>\n",
       "      <th>tracks</th>\n",
       "      <th>users</th>\n",
       "    </tr>\n",
       "  </thead>\n",
       "  <tbody>\n",
       "    <tr>\n",
       "      <th>0</th>\n",
       "      <td>shelbyville</td>\n",
       "      <td>8</td>\n",
       "      <td>2553</td>\n",
       "      <td>2335</td>\n",
       "      <td>2030</td>\n",
       "    </tr>\n",
       "    <tr>\n",
       "      <th>1</th>\n",
       "      <td>shelbyville</td>\n",
       "      <td>9</td>\n",
       "      <td>2661</td>\n",
       "      <td>2435</td>\n",
       "      <td>2111</td>\n",
       "    </tr>\n",
       "    <tr>\n",
       "      <th>2</th>\n",
       "      <td>shelbyville</td>\n",
       "      <td>10</td>\n",
       "      <td>41</td>\n",
       "      <td>41</td>\n",
       "      <td>41</td>\n",
       "    </tr>\n",
       "    <tr>\n",
       "      <th>3</th>\n",
       "      <td>shelbyville</td>\n",
       "      <td>13</td>\n",
       "      <td>3120</td>\n",
       "      <td>2912</td>\n",
       "      <td>2522</td>\n",
       "    </tr>\n",
       "    <tr>\n",
       "      <th>4</th>\n",
       "      <td>shelbyville</td>\n",
       "      <td>14</td>\n",
       "      <td>3341</td>\n",
       "      <td>3066</td>\n",
       "      <td>2706</td>\n",
       "    </tr>\n",
       "    <tr>\n",
       "      <th>5</th>\n",
       "      <td>shelbyville</td>\n",
       "      <td>15</td>\n",
       "      <td>48</td>\n",
       "      <td>48</td>\n",
       "      <td>47</td>\n",
       "    </tr>\n",
       "    <tr>\n",
       "      <th>6</th>\n",
       "      <td>shelbyville</td>\n",
       "      <td>20</td>\n",
       "      <td>3223</td>\n",
       "      <td>2996</td>\n",
       "      <td>2576</td>\n",
       "    </tr>\n",
       "    <tr>\n",
       "      <th>7</th>\n",
       "      <td>shelbyville</td>\n",
       "      <td>21</td>\n",
       "      <td>3074</td>\n",
       "      <td>2848</td>\n",
       "      <td>2402</td>\n",
       "    </tr>\n",
       "    <tr>\n",
       "      <th>8</th>\n",
       "      <td>shelbyville</td>\n",
       "      <td>22</td>\n",
       "      <td>57</td>\n",
       "      <td>57</td>\n",
       "      <td>56</td>\n",
       "    </tr>\n",
       "    <tr>\n",
       "      <th>9</th>\n",
       "      <td>springfield</td>\n",
       "      <td>8</td>\n",
       "      <td>6690</td>\n",
       "      <td>5718</td>\n",
       "      <td>5264</td>\n",
       "    </tr>\n",
       "    <tr>\n",
       "      <th>10</th>\n",
       "      <td>springfield</td>\n",
       "      <td>9</td>\n",
       "      <td>6642</td>\n",
       "      <td>5779</td>\n",
       "      <td>5384</td>\n",
       "    </tr>\n",
       "    <tr>\n",
       "      <th>11</th>\n",
       "      <td>springfield</td>\n",
       "      <td>10</td>\n",
       "      <td>122</td>\n",
       "      <td>122</td>\n",
       "      <td>120</td>\n",
       "    </tr>\n",
       "    <tr>\n",
       "      <th>12</th>\n",
       "      <td>springfield</td>\n",
       "      <td>13</td>\n",
       "      <td>6981</td>\n",
       "      <td>6181</td>\n",
       "      <td>5640</td>\n",
       "    </tr>\n",
       "    <tr>\n",
       "      <th>13</th>\n",
       "      <td>springfield</td>\n",
       "      <td>14</td>\n",
       "      <td>7194</td>\n",
       "      <td>6308</td>\n",
       "      <td>5853</td>\n",
       "    </tr>\n",
       "    <tr>\n",
       "      <th>14</th>\n",
       "      <td>springfield</td>\n",
       "      <td>15</td>\n",
       "      <td>126</td>\n",
       "      <td>126</td>\n",
       "      <td>119</td>\n",
       "    </tr>\n",
       "    <tr>\n",
       "      <th>15</th>\n",
       "      <td>springfield</td>\n",
       "      <td>20</td>\n",
       "      <td>7394</td>\n",
       "      <td>6466</td>\n",
       "      <td>5848</td>\n",
       "    </tr>\n",
       "    <tr>\n",
       "      <th>16</th>\n",
       "      <td>springfield</td>\n",
       "      <td>21</td>\n",
       "      <td>6612</td>\n",
       "      <td>5760</td>\n",
       "      <td>5177</td>\n",
       "    </tr>\n",
       "    <tr>\n",
       "      <th>17</th>\n",
       "      <td>springfield</td>\n",
       "      <td>22</td>\n",
       "      <td>112</td>\n",
       "      <td>111</td>\n",
       "      <td>104</td>\n",
       "    </tr>\n",
       "  </tbody>\n",
       "</table>\n",
       "</div>"
      ],
      "text/plain": [
       "           city hour  total_tracks  tracks  users\n",
       "0   shelbyville    8          2553    2335   2030\n",
       "1   shelbyville    9          2661    2435   2111\n",
       "2   shelbyville   10            41      41     41\n",
       "3   shelbyville   13          3120    2912   2522\n",
       "4   shelbyville   14          3341    3066   2706\n",
       "5   shelbyville   15            48      48     47\n",
       "6   shelbyville   20          3223    2996   2576\n",
       "7   shelbyville   21          3074    2848   2402\n",
       "8   shelbyville   22            57      57     56\n",
       "9   springfield    8          6690    5718   5264\n",
       "10  springfield    9          6642    5779   5384\n",
       "11  springfield   10           122     122    120\n",
       "12  springfield   13          6981    6181   5640\n",
       "13  springfield   14          7194    6308   5853\n",
       "14  springfield   15           126     126    119\n",
       "15  springfield   20          7394    6466   5848\n",
       "16  springfield   21          6612    5760   5177\n",
       "17  springfield   22           112     111    104"
      ]
     },
     "execution_count": 24,
     "metadata": {},
     "output_type": "execute_result"
    }
   ],
   "source": [
    "df_music_time_city.columns = ['city', 'hour', 'total_tracks', 'tracks', 'users']\n",
    "df_music_time_city"
   ]
  },
  {
   "cell_type": "code",
   "execution_count": 25,
   "id": "03ff36d3",
   "metadata": {},
   "outputs": [],
   "source": [
    "project_root = Path.cwd().parent\n",
    "processed_path = project_root / \"data\" / \"processed\" / \"music_activity_time_city.csv\"\n",
    "\n",
    "df_music_time_city.to_csv(processed_path, index=False)"
   ]
  },
  {
   "cell_type": "markdown",
   "id": "f427b360",
   "metadata": {},
   "source": [
    "#### 3.2.2 User activity variation by time and day"
   ]
  },
  {
   "cell_type": "code",
   "execution_count": 26,
   "id": "41b9a9c0",
   "metadata": {},
   "outputs": [
    {
     "data": {
      "application/vnd.microsoft.datawrangler.viewer.v0+json": {
       "columns": [
        {
         "name": "('day', 'hour')",
         "rawType": "object",
         "type": "unknown"
        },
        {
         "name": "('track', 'count')",
         "rawType": "int64",
         "type": "integer"
        },
        {
         "name": "('track', 'nunique')",
         "rawType": "int64",
         "type": "integer"
        },
        {
         "name": "('userid', 'nunique')",
         "rawType": "int64",
         "type": "integer"
        }
       ],
       "ref": "d521f3e9-8fda-4382-a189-db39bd259e6b",
       "rows": [
        [
         "('friday', np.int64(8))",
         "3508",
         "3170",
         "2886"
        ],
        [
         "('friday', np.int64(9))",
         "3523",
         "3230",
         "2947"
        ],
        [
         "('friday', np.int64(10))",
         "70",
         "70",
         "70"
        ],
        [
         "('friday', np.int64(13))",
         "3456",
         "3212",
         "2943"
        ],
        [
         "('friday', np.int64(14))",
         "3639",
         "3333",
         "3077"
        ],
        [
         "('friday', np.int64(15))",
         "64",
         "64",
         "61"
        ],
        [
         "('friday', np.int64(20))",
         "3701",
         "3394",
         "3042"
        ],
        [
         "('friday', np.int64(21))",
         "3451",
         "3161",
         "2796"
        ],
        [
         "('friday', np.int64(22))",
         "63",
         "63",
         "57"
        ],
        [
         "('monday', np.int64(8))",
         "3326",
         "3000",
         "2810"
        ],
        [
         "('monday', np.int64(9))",
         "3275",
         "2988",
         "2779"
        ],
        [
         "('monday', np.int64(10))",
         "50",
         "50",
         "49"
        ],
        [
         "('monday', np.int64(13))",
         "3431",
         "3210",
         "2845"
        ],
        [
         "('monday', np.int64(14))",
         "3605",
         "3276",
         "3004"
        ],
        [
         "('monday', np.int64(15))",
         "61",
         "61",
         "58"
        ],
        [
         "('monday', np.int64(20))",
         "3698",
         "3406",
         "3016"
        ],
        [
         "('monday', np.int64(21))",
         "3293",
         "3025",
         "2664"
        ],
        [
         "('monday', np.int64(22))",
         "60",
         "59",
         "57"
        ],
        [
         "('wednesday', np.int64(8))",
         "2409",
         "2242",
         "2022"
        ],
        [
         "('wednesday', np.int64(9))",
         "2505",
         "2312",
         "2110"
        ],
        [
         "('wednesday', np.int64(10))",
         "43",
         "43",
         "42"
        ],
        [
         "('wednesday', np.int64(13))",
         "3214",
         "2998",
         "2649"
        ],
        [
         "('wednesday', np.int64(14))",
         "3291",
         "3045",
         "2789"
        ],
        [
         "('wednesday', np.int64(15))",
         "49",
         "49",
         "49"
        ],
        [
         "('wednesday', np.int64(20))",
         "3218",
         "2989",
         "2649"
        ],
        [
         "('wednesday', np.int64(21))",
         "2942",
         "2711",
         "2346"
        ],
        [
         "('wednesday', np.int64(22))",
         "46",
         "46",
         "46"
        ]
       ],
       "shape": {
        "columns": 3,
        "rows": 27
       }
      },
      "text/html": [
       "<div>\n",
       "<style scoped>\n",
       "    .dataframe tbody tr th:only-of-type {\n",
       "        vertical-align: middle;\n",
       "    }\n",
       "\n",
       "    .dataframe tbody tr th {\n",
       "        vertical-align: top;\n",
       "    }\n",
       "\n",
       "    .dataframe thead tr th {\n",
       "        text-align: left;\n",
       "    }\n",
       "\n",
       "    .dataframe thead tr:last-of-type th {\n",
       "        text-align: right;\n",
       "    }\n",
       "</style>\n",
       "<table border=\"1\" class=\"dataframe\">\n",
       "  <thead>\n",
       "    <tr>\n",
       "      <th></th>\n",
       "      <th></th>\n",
       "      <th colspan=\"2\" halign=\"left\">track</th>\n",
       "      <th>userid</th>\n",
       "    </tr>\n",
       "    <tr>\n",
       "      <th></th>\n",
       "      <th></th>\n",
       "      <th>count</th>\n",
       "      <th>nunique</th>\n",
       "      <th>nunique</th>\n",
       "    </tr>\n",
       "    <tr>\n",
       "      <th>day</th>\n",
       "      <th>hour</th>\n",
       "      <th></th>\n",
       "      <th></th>\n",
       "      <th></th>\n",
       "    </tr>\n",
       "  </thead>\n",
       "  <tbody>\n",
       "    <tr>\n",
       "      <th rowspan=\"5\" valign=\"top\">friday</th>\n",
       "      <th>8</th>\n",
       "      <td>3508</td>\n",
       "      <td>3170</td>\n",
       "      <td>2886</td>\n",
       "    </tr>\n",
       "    <tr>\n",
       "      <th>9</th>\n",
       "      <td>3523</td>\n",
       "      <td>3230</td>\n",
       "      <td>2947</td>\n",
       "    </tr>\n",
       "    <tr>\n",
       "      <th>10</th>\n",
       "      <td>70</td>\n",
       "      <td>70</td>\n",
       "      <td>70</td>\n",
       "    </tr>\n",
       "    <tr>\n",
       "      <th>13</th>\n",
       "      <td>3456</td>\n",
       "      <td>3212</td>\n",
       "      <td>2943</td>\n",
       "    </tr>\n",
       "    <tr>\n",
       "      <th>14</th>\n",
       "      <td>3639</td>\n",
       "      <td>3333</td>\n",
       "      <td>3077</td>\n",
       "    </tr>\n",
       "    <tr>\n",
       "      <th>...</th>\n",
       "      <th>...</th>\n",
       "      <td>...</td>\n",
       "      <td>...</td>\n",
       "      <td>...</td>\n",
       "    </tr>\n",
       "    <tr>\n",
       "      <th rowspan=\"5\" valign=\"top\">wednesday</th>\n",
       "      <th>14</th>\n",
       "      <td>3291</td>\n",
       "      <td>3045</td>\n",
       "      <td>2789</td>\n",
       "    </tr>\n",
       "    <tr>\n",
       "      <th>15</th>\n",
       "      <td>49</td>\n",
       "      <td>49</td>\n",
       "      <td>49</td>\n",
       "    </tr>\n",
       "    <tr>\n",
       "      <th>20</th>\n",
       "      <td>3218</td>\n",
       "      <td>2989</td>\n",
       "      <td>2649</td>\n",
       "    </tr>\n",
       "    <tr>\n",
       "      <th>21</th>\n",
       "      <td>2942</td>\n",
       "      <td>2711</td>\n",
       "      <td>2346</td>\n",
       "    </tr>\n",
       "    <tr>\n",
       "      <th>22</th>\n",
       "      <td>46</td>\n",
       "      <td>46</td>\n",
       "      <td>46</td>\n",
       "    </tr>\n",
       "  </tbody>\n",
       "</table>\n",
       "<p>27 rows × 3 columns</p>\n",
       "</div>"
      ],
      "text/plain": [
       "               track          userid\n",
       "               count nunique nunique\n",
       "day       hour                      \n",
       "friday    8     3508    3170    2886\n",
       "          9     3523    3230    2947\n",
       "          10      70      70      70\n",
       "          13    3456    3212    2943\n",
       "          14    3639    3333    3077\n",
       "...              ...     ...     ...\n",
       "wednesday 14    3291    3045    2789\n",
       "          15      49      49      49\n",
       "          20    3218    2989    2649\n",
       "          21    2942    2711    2346\n",
       "          22      46      46      46\n",
       "\n",
       "[27 rows x 3 columns]"
      ]
     },
     "execution_count": 26,
     "metadata": {},
     "output_type": "execute_result"
    }
   ],
   "source": [
    "df_music_time_day = pd.pivot_table(df_music, index=['day', 'hour'], values=['userid', 'track'], aggfunc={'userid': pd.Series.nunique, 'track': [pd.Series.nunique, 'count']}, observed=False)\n",
    "df_music_time_day"
   ]
  },
  {
   "cell_type": "code",
   "execution_count": 27,
   "id": "0bc8002f",
   "metadata": {},
   "outputs": [
    {
     "data": {
      "application/vnd.microsoft.datawrangler.viewer.v0+json": {
       "columns": [
        {
         "name": "index",
         "rawType": "int64",
         "type": "integer"
        },
        {
         "name": "('day', '')",
         "rawType": "category",
         "type": "unknown"
        },
        {
         "name": "('hour', '')",
         "rawType": "category",
         "type": "unknown"
        },
        {
         "name": "('track', 'count')",
         "rawType": "int64",
         "type": "integer"
        },
        {
         "name": "('track', 'nunique')",
         "rawType": "int64",
         "type": "integer"
        },
        {
         "name": "('userid', 'nunique')",
         "rawType": "int64",
         "type": "integer"
        }
       ],
       "ref": "acf50a59-8096-4016-a4a2-842f87dff0ae",
       "rows": [
        [
         "0",
         "friday",
         "8",
         "3508",
         "3170",
         "2886"
        ],
        [
         "1",
         "friday",
         "9",
         "3523",
         "3230",
         "2947"
        ],
        [
         "2",
         "friday",
         "10",
         "70",
         "70",
         "70"
        ],
        [
         "3",
         "friday",
         "13",
         "3456",
         "3212",
         "2943"
        ],
        [
         "4",
         "friday",
         "14",
         "3639",
         "3333",
         "3077"
        ],
        [
         "5",
         "friday",
         "15",
         "64",
         "64",
         "61"
        ],
        [
         "6",
         "friday",
         "20",
         "3701",
         "3394",
         "3042"
        ],
        [
         "7",
         "friday",
         "21",
         "3451",
         "3161",
         "2796"
        ],
        [
         "8",
         "friday",
         "22",
         "63",
         "63",
         "57"
        ],
        [
         "9",
         "monday",
         "8",
         "3326",
         "3000",
         "2810"
        ],
        [
         "10",
         "monday",
         "9",
         "3275",
         "2988",
         "2779"
        ],
        [
         "11",
         "monday",
         "10",
         "50",
         "50",
         "49"
        ],
        [
         "12",
         "monday",
         "13",
         "3431",
         "3210",
         "2845"
        ],
        [
         "13",
         "monday",
         "14",
         "3605",
         "3276",
         "3004"
        ],
        [
         "14",
         "monday",
         "15",
         "61",
         "61",
         "58"
        ],
        [
         "15",
         "monday",
         "20",
         "3698",
         "3406",
         "3016"
        ],
        [
         "16",
         "monday",
         "21",
         "3293",
         "3025",
         "2664"
        ],
        [
         "17",
         "monday",
         "22",
         "60",
         "59",
         "57"
        ],
        [
         "18",
         "wednesday",
         "8",
         "2409",
         "2242",
         "2022"
        ],
        [
         "19",
         "wednesday",
         "9",
         "2505",
         "2312",
         "2110"
        ],
        [
         "20",
         "wednesday",
         "10",
         "43",
         "43",
         "42"
        ],
        [
         "21",
         "wednesday",
         "13",
         "3214",
         "2998",
         "2649"
        ],
        [
         "22",
         "wednesday",
         "14",
         "3291",
         "3045",
         "2789"
        ],
        [
         "23",
         "wednesday",
         "15",
         "49",
         "49",
         "49"
        ],
        [
         "24",
         "wednesday",
         "20",
         "3218",
         "2989",
         "2649"
        ],
        [
         "25",
         "wednesday",
         "21",
         "2942",
         "2711",
         "2346"
        ],
        [
         "26",
         "wednesday",
         "22",
         "46",
         "46",
         "46"
        ]
       ],
       "shape": {
        "columns": 5,
        "rows": 27
       }
      },
      "text/html": [
       "<div>\n",
       "<style scoped>\n",
       "    .dataframe tbody tr th:only-of-type {\n",
       "        vertical-align: middle;\n",
       "    }\n",
       "\n",
       "    .dataframe tbody tr th {\n",
       "        vertical-align: top;\n",
       "    }\n",
       "\n",
       "    .dataframe thead tr th {\n",
       "        text-align: left;\n",
       "    }\n",
       "</style>\n",
       "<table border=\"1\" class=\"dataframe\">\n",
       "  <thead>\n",
       "    <tr>\n",
       "      <th></th>\n",
       "      <th>day</th>\n",
       "      <th>hour</th>\n",
       "      <th colspan=\"2\" halign=\"left\">track</th>\n",
       "      <th>userid</th>\n",
       "    </tr>\n",
       "    <tr>\n",
       "      <th></th>\n",
       "      <th></th>\n",
       "      <th></th>\n",
       "      <th>count</th>\n",
       "      <th>nunique</th>\n",
       "      <th>nunique</th>\n",
       "    </tr>\n",
       "  </thead>\n",
       "  <tbody>\n",
       "    <tr>\n",
       "      <th>0</th>\n",
       "      <td>friday</td>\n",
       "      <td>8</td>\n",
       "      <td>3508</td>\n",
       "      <td>3170</td>\n",
       "      <td>2886</td>\n",
       "    </tr>\n",
       "    <tr>\n",
       "      <th>1</th>\n",
       "      <td>friday</td>\n",
       "      <td>9</td>\n",
       "      <td>3523</td>\n",
       "      <td>3230</td>\n",
       "      <td>2947</td>\n",
       "    </tr>\n",
       "    <tr>\n",
       "      <th>2</th>\n",
       "      <td>friday</td>\n",
       "      <td>10</td>\n",
       "      <td>70</td>\n",
       "      <td>70</td>\n",
       "      <td>70</td>\n",
       "    </tr>\n",
       "    <tr>\n",
       "      <th>3</th>\n",
       "      <td>friday</td>\n",
       "      <td>13</td>\n",
       "      <td>3456</td>\n",
       "      <td>3212</td>\n",
       "      <td>2943</td>\n",
       "    </tr>\n",
       "    <tr>\n",
       "      <th>4</th>\n",
       "      <td>friday</td>\n",
       "      <td>14</td>\n",
       "      <td>3639</td>\n",
       "      <td>3333</td>\n",
       "      <td>3077</td>\n",
       "    </tr>\n",
       "    <tr>\n",
       "      <th>...</th>\n",
       "      <td>...</td>\n",
       "      <td>...</td>\n",
       "      <td>...</td>\n",
       "      <td>...</td>\n",
       "      <td>...</td>\n",
       "    </tr>\n",
       "    <tr>\n",
       "      <th>22</th>\n",
       "      <td>wednesday</td>\n",
       "      <td>14</td>\n",
       "      <td>3291</td>\n",
       "      <td>3045</td>\n",
       "      <td>2789</td>\n",
       "    </tr>\n",
       "    <tr>\n",
       "      <th>23</th>\n",
       "      <td>wednesday</td>\n",
       "      <td>15</td>\n",
       "      <td>49</td>\n",
       "      <td>49</td>\n",
       "      <td>49</td>\n",
       "    </tr>\n",
       "    <tr>\n",
       "      <th>24</th>\n",
       "      <td>wednesday</td>\n",
       "      <td>20</td>\n",
       "      <td>3218</td>\n",
       "      <td>2989</td>\n",
       "      <td>2649</td>\n",
       "    </tr>\n",
       "    <tr>\n",
       "      <th>25</th>\n",
       "      <td>wednesday</td>\n",
       "      <td>21</td>\n",
       "      <td>2942</td>\n",
       "      <td>2711</td>\n",
       "      <td>2346</td>\n",
       "    </tr>\n",
       "    <tr>\n",
       "      <th>26</th>\n",
       "      <td>wednesday</td>\n",
       "      <td>22</td>\n",
       "      <td>46</td>\n",
       "      <td>46</td>\n",
       "      <td>46</td>\n",
       "    </tr>\n",
       "  </tbody>\n",
       "</table>\n",
       "<p>27 rows × 5 columns</p>\n",
       "</div>"
      ],
      "text/plain": [
       "          day hour track          userid\n",
       "                   count nunique nunique\n",
       "0      friday    8  3508    3170    2886\n",
       "1      friday    9  3523    3230    2947\n",
       "2      friday   10    70      70      70\n",
       "3      friday   13  3456    3212    2943\n",
       "4      friday   14  3639    3333    3077\n",
       "..        ...  ...   ...     ...     ...\n",
       "22  wednesday   14  3291    3045    2789\n",
       "23  wednesday   15    49      49      49\n",
       "24  wednesday   20  3218    2989    2649\n",
       "25  wednesday   21  2942    2711    2346\n",
       "26  wednesday   22    46      46      46\n",
       "\n",
       "[27 rows x 5 columns]"
      ]
     },
     "execution_count": 27,
     "metadata": {},
     "output_type": "execute_result"
    }
   ],
   "source": [
    "df_music_time_day = df_music_time_day.reset_index()\n",
    "df_music_time_day"
   ]
  },
  {
   "cell_type": "code",
   "execution_count": 28,
   "id": "166c6a29",
   "metadata": {},
   "outputs": [
    {
     "data": {
      "application/vnd.microsoft.datawrangler.viewer.v0+json": {
       "columns": [
        {
         "name": "index",
         "rawType": "int64",
         "type": "integer"
        },
        {
         "name": "day",
         "rawType": "category",
         "type": "unknown"
        },
        {
         "name": "hour",
         "rawType": "category",
         "type": "unknown"
        },
        {
         "name": "total_tracks",
         "rawType": "int64",
         "type": "integer"
        },
        {
         "name": "tracks",
         "rawType": "int64",
         "type": "integer"
        },
        {
         "name": "users",
         "rawType": "int64",
         "type": "integer"
        }
       ],
       "ref": "91334c8a-fafe-4018-8079-40b422b1259e",
       "rows": [
        [
         "0",
         "friday",
         "8",
         "3508",
         "3170",
         "2886"
        ],
        [
         "1",
         "friday",
         "9",
         "3523",
         "3230",
         "2947"
        ],
        [
         "2",
         "friday",
         "10",
         "70",
         "70",
         "70"
        ],
        [
         "3",
         "friday",
         "13",
         "3456",
         "3212",
         "2943"
        ],
        [
         "4",
         "friday",
         "14",
         "3639",
         "3333",
         "3077"
        ],
        [
         "5",
         "friday",
         "15",
         "64",
         "64",
         "61"
        ],
        [
         "6",
         "friday",
         "20",
         "3701",
         "3394",
         "3042"
        ],
        [
         "7",
         "friday",
         "21",
         "3451",
         "3161",
         "2796"
        ],
        [
         "8",
         "friday",
         "22",
         "63",
         "63",
         "57"
        ],
        [
         "9",
         "monday",
         "8",
         "3326",
         "3000",
         "2810"
        ],
        [
         "10",
         "monday",
         "9",
         "3275",
         "2988",
         "2779"
        ],
        [
         "11",
         "monday",
         "10",
         "50",
         "50",
         "49"
        ],
        [
         "12",
         "monday",
         "13",
         "3431",
         "3210",
         "2845"
        ],
        [
         "13",
         "monday",
         "14",
         "3605",
         "3276",
         "3004"
        ],
        [
         "14",
         "monday",
         "15",
         "61",
         "61",
         "58"
        ],
        [
         "15",
         "monday",
         "20",
         "3698",
         "3406",
         "3016"
        ],
        [
         "16",
         "monday",
         "21",
         "3293",
         "3025",
         "2664"
        ],
        [
         "17",
         "monday",
         "22",
         "60",
         "59",
         "57"
        ],
        [
         "18",
         "wednesday",
         "8",
         "2409",
         "2242",
         "2022"
        ],
        [
         "19",
         "wednesday",
         "9",
         "2505",
         "2312",
         "2110"
        ],
        [
         "20",
         "wednesday",
         "10",
         "43",
         "43",
         "42"
        ],
        [
         "21",
         "wednesday",
         "13",
         "3214",
         "2998",
         "2649"
        ],
        [
         "22",
         "wednesday",
         "14",
         "3291",
         "3045",
         "2789"
        ],
        [
         "23",
         "wednesday",
         "15",
         "49",
         "49",
         "49"
        ],
        [
         "24",
         "wednesday",
         "20",
         "3218",
         "2989",
         "2649"
        ],
        [
         "25",
         "wednesday",
         "21",
         "2942",
         "2711",
         "2346"
        ],
        [
         "26",
         "wednesday",
         "22",
         "46",
         "46",
         "46"
        ]
       ],
       "shape": {
        "columns": 5,
        "rows": 27
       }
      },
      "text/html": [
       "<div>\n",
       "<style scoped>\n",
       "    .dataframe tbody tr th:only-of-type {\n",
       "        vertical-align: middle;\n",
       "    }\n",
       "\n",
       "    .dataframe tbody tr th {\n",
       "        vertical-align: top;\n",
       "    }\n",
       "\n",
       "    .dataframe thead th {\n",
       "        text-align: right;\n",
       "    }\n",
       "</style>\n",
       "<table border=\"1\" class=\"dataframe\">\n",
       "  <thead>\n",
       "    <tr style=\"text-align: right;\">\n",
       "      <th></th>\n",
       "      <th>day</th>\n",
       "      <th>hour</th>\n",
       "      <th>total_tracks</th>\n",
       "      <th>tracks</th>\n",
       "      <th>users</th>\n",
       "    </tr>\n",
       "  </thead>\n",
       "  <tbody>\n",
       "    <tr>\n",
       "      <th>0</th>\n",
       "      <td>friday</td>\n",
       "      <td>8</td>\n",
       "      <td>3508</td>\n",
       "      <td>3170</td>\n",
       "      <td>2886</td>\n",
       "    </tr>\n",
       "    <tr>\n",
       "      <th>1</th>\n",
       "      <td>friday</td>\n",
       "      <td>9</td>\n",
       "      <td>3523</td>\n",
       "      <td>3230</td>\n",
       "      <td>2947</td>\n",
       "    </tr>\n",
       "    <tr>\n",
       "      <th>2</th>\n",
       "      <td>friday</td>\n",
       "      <td>10</td>\n",
       "      <td>70</td>\n",
       "      <td>70</td>\n",
       "      <td>70</td>\n",
       "    </tr>\n",
       "    <tr>\n",
       "      <th>3</th>\n",
       "      <td>friday</td>\n",
       "      <td>13</td>\n",
       "      <td>3456</td>\n",
       "      <td>3212</td>\n",
       "      <td>2943</td>\n",
       "    </tr>\n",
       "    <tr>\n",
       "      <th>4</th>\n",
       "      <td>friday</td>\n",
       "      <td>14</td>\n",
       "      <td>3639</td>\n",
       "      <td>3333</td>\n",
       "      <td>3077</td>\n",
       "    </tr>\n",
       "    <tr>\n",
       "      <th>...</th>\n",
       "      <td>...</td>\n",
       "      <td>...</td>\n",
       "      <td>...</td>\n",
       "      <td>...</td>\n",
       "      <td>...</td>\n",
       "    </tr>\n",
       "    <tr>\n",
       "      <th>22</th>\n",
       "      <td>wednesday</td>\n",
       "      <td>14</td>\n",
       "      <td>3291</td>\n",
       "      <td>3045</td>\n",
       "      <td>2789</td>\n",
       "    </tr>\n",
       "    <tr>\n",
       "      <th>23</th>\n",
       "      <td>wednesday</td>\n",
       "      <td>15</td>\n",
       "      <td>49</td>\n",
       "      <td>49</td>\n",
       "      <td>49</td>\n",
       "    </tr>\n",
       "    <tr>\n",
       "      <th>24</th>\n",
       "      <td>wednesday</td>\n",
       "      <td>20</td>\n",
       "      <td>3218</td>\n",
       "      <td>2989</td>\n",
       "      <td>2649</td>\n",
       "    </tr>\n",
       "    <tr>\n",
       "      <th>25</th>\n",
       "      <td>wednesday</td>\n",
       "      <td>21</td>\n",
       "      <td>2942</td>\n",
       "      <td>2711</td>\n",
       "      <td>2346</td>\n",
       "    </tr>\n",
       "    <tr>\n",
       "      <th>26</th>\n",
       "      <td>wednesday</td>\n",
       "      <td>22</td>\n",
       "      <td>46</td>\n",
       "      <td>46</td>\n",
       "      <td>46</td>\n",
       "    </tr>\n",
       "  </tbody>\n",
       "</table>\n",
       "<p>27 rows × 5 columns</p>\n",
       "</div>"
      ],
      "text/plain": [
       "          day hour  total_tracks  tracks  users\n",
       "0      friday    8          3508    3170   2886\n",
       "1      friday    9          3523    3230   2947\n",
       "2      friday   10            70      70     70\n",
       "3      friday   13          3456    3212   2943\n",
       "4      friday   14          3639    3333   3077\n",
       "..        ...  ...           ...     ...    ...\n",
       "22  wednesday   14          3291    3045   2789\n",
       "23  wednesday   15            49      49     49\n",
       "24  wednesday   20          3218    2989   2649\n",
       "25  wednesday   21          2942    2711   2346\n",
       "26  wednesday   22            46      46     46\n",
       "\n",
       "[27 rows x 5 columns]"
      ]
     },
     "execution_count": 28,
     "metadata": {},
     "output_type": "execute_result"
    }
   ],
   "source": [
    "df_music_time_day.columns = ['day', 'hour', 'total_tracks', 'tracks', 'users']\n",
    "df_music_time_day"
   ]
  },
  {
   "cell_type": "code",
   "execution_count": 29,
   "id": "eb27aaee",
   "metadata": {},
   "outputs": [],
   "source": [
    "project_root = Path.cwd().parent\n",
    "processed_path = project_root / \"data\" / \"processed\" / \"music_activity_time_day.csv\"\n",
    "\n",
    "df_music_time_day.to_csv(processed_path, index=False)"
   ]
  },
  {
   "cell_type": "markdown",
   "id": "d099eed2",
   "metadata": {},
   "source": [
    "#### 3.2.3 User activity variation by time, city and day"
   ]
  },
  {
   "cell_type": "code",
   "execution_count": 30,
   "id": "86fddc50",
   "metadata": {},
   "outputs": [
    {
     "data": {
      "application/vnd.microsoft.datawrangler.viewer.v0+json": {
       "columns": [
        {
         "name": "('city', 'day', 'hour')",
         "rawType": "object",
         "type": "unknown"
        },
        {
         "name": "('track', 'count')",
         "rawType": "int64",
         "type": "integer"
        },
        {
         "name": "('track', 'nunique')",
         "rawType": "int64",
         "type": "integer"
        },
        {
         "name": "('userid', 'nunique')",
         "rawType": "int64",
         "type": "integer"
        }
       ],
       "ref": "5064386c-8ab3-40b3-ac30-0a2fab758068",
       "rows": [
        [
         "('shelbyville', 'friday', np.int64(8))",
         "832",
         "809",
         "689"
        ],
        [
         "('shelbyville', 'friday', np.int64(9))",
         "848",
         "823",
         "730"
        ],
        [
         "('shelbyville', 'friday', np.int64(10))",
         "18",
         "18",
         "18"
        ],
        [
         "('shelbyville', 'friday', np.int64(13))",
         "1020",
         "987",
         "853"
        ],
        [
         "('shelbyville', 'friday', np.int64(14))",
         "1033",
         "990",
         "871"
        ],
        [
         "('shelbyville', 'friday', np.int64(15))",
         "16",
         "16",
         "16"
        ],
        [
         "('shelbyville', 'friday', np.int64(20))",
         "1002",
         "974",
         "839"
        ],
        [
         "('shelbyville', 'friday', np.int64(21))",
         "1000",
         "964",
         "806"
        ],
        [
         "('shelbyville', 'friday', np.int64(22))",
         "17",
         "17",
         "17"
        ],
        [
         "('shelbyville', 'monday', np.int64(8))",
         "750",
         "717",
         "644"
        ],
        [
         "('shelbyville', 'monday', np.int64(9))",
         "800",
         "762",
         "655"
        ],
        [
         "('shelbyville', 'monday', np.int64(10))",
         "10",
         "10",
         "10"
        ],
        [
         "('shelbyville', 'monday', np.int64(13))",
         "911",
         "886",
         "770"
        ],
        [
         "('shelbyville', 'monday', np.int64(14))",
         "1036",
         "985",
         "867"
        ],
        [
         "('shelbyville', 'monday', np.int64(15))",
         "21",
         "21",
         "20"
        ],
        [
         "('shelbyville', 'monday', np.int64(20))",
         "990",
         "966",
         "827"
        ],
        [
         "('shelbyville', 'monday', np.int64(21))",
         "926",
         "897",
         "768"
        ],
        [
         "('shelbyville', 'monday', np.int64(22))",
         "18",
         "18",
         "17"
        ],
        [
         "('shelbyville', 'wednesday', np.int64(8))",
         "971",
         "929",
         "816"
        ],
        [
         "('shelbyville', 'wednesday', np.int64(9))",
         "1013",
         "969",
         "838"
        ],
        [
         "('shelbyville', 'wednesday', np.int64(10))",
         "13",
         "13",
         "13"
        ],
        [
         "('shelbyville', 'wednesday', np.int64(13))",
         "1189",
         "1148",
         "986"
        ],
        [
         "('shelbyville', 'wednesday', np.int64(14))",
         "1272",
         "1220",
         "1074"
        ],
        [
         "('shelbyville', 'wednesday', np.int64(15))",
         "11",
         "11",
         "11"
        ],
        [
         "('shelbyville', 'wednesday', np.int64(20))",
         "1231",
         "1185",
         "1007"
        ],
        [
         "('shelbyville', 'wednesday', np.int64(21))",
         "1148",
         "1106",
         "920"
        ],
        [
         "('shelbyville', 'wednesday', np.int64(22))",
         "22",
         "22",
         "22"
        ],
        [
         "('springfield', 'friday', np.int64(8))",
         "2676",
         "2429",
         "2197"
        ],
        [
         "('springfield', 'friday', np.int64(9))",
         "2675",
         "2469",
         "2217"
        ],
        [
         "('springfield', 'friday', np.int64(10))",
         "52",
         "52",
         "52"
        ],
        [
         "('springfield', 'friday', np.int64(13))",
         "2436",
         "2290",
         "2090"
        ],
        [
         "('springfield', 'friday', np.int64(14))",
         "2606",
         "2442",
         "2206"
        ],
        [
         "('springfield', 'friday', np.int64(15))",
         "48",
         "48",
         "45"
        ],
        [
         "('springfield', 'friday', np.int64(20))",
         "2699",
         "2502",
         "2203"
        ],
        [
         "('springfield', 'friday', np.int64(21))",
         "2451",
         "2276",
         "1990"
        ],
        [
         "('springfield', 'friday', np.int64(22))",
         "46",
         "46",
         "40"
        ],
        [
         "('springfield', 'monday', np.int64(8))",
         "2576",
         "2360",
         "2166"
        ],
        [
         "('springfield', 'monday', np.int64(9))",
         "2475",
         "2291",
         "2124"
        ],
        [
         "('springfield', 'monday', np.int64(10))",
         "40",
         "40",
         "39"
        ],
        [
         "('springfield', 'monday', np.int64(13))",
         "2520",
         "2372",
         "2075"
        ],
        [
         "('springfield', 'monday', np.int64(14))",
         "2569",
         "2392",
         "2137"
        ],
        [
         "('springfield', 'monday', np.int64(15))",
         "40",
         "40",
         "38"
        ],
        [
         "('springfield', 'monday', np.int64(20))",
         "2708",
         "2521",
         "2189"
        ],
        [
         "('springfield', 'monday', np.int64(21))",
         "2367",
         "2208",
         "1896"
        ],
        [
         "('springfield', 'monday', np.int64(22))",
         "42",
         "41",
         "40"
        ],
        [
         "('springfield', 'wednesday', np.int64(8))",
         "1438",
         "1372",
         "1206"
        ],
        [
         "('springfield', 'wednesday', np.int64(9))",
         "1492",
         "1407",
         "1272"
        ],
        [
         "('springfield', 'wednesday', np.int64(10))",
         "30",
         "30",
         "29"
        ],
        [
         "('springfield', 'wednesday', np.int64(13))",
         "2025",
         "1929",
         "1663"
        ],
        [
         "('springfield', 'wednesday', np.int64(14))",
         "2019",
         "1903",
         "1715"
        ]
       ],
       "shape": {
        "columns": 3,
        "rows": 54
       }
      },
      "text/html": [
       "<div>\n",
       "<style scoped>\n",
       "    .dataframe tbody tr th:only-of-type {\n",
       "        vertical-align: middle;\n",
       "    }\n",
       "\n",
       "    .dataframe tbody tr th {\n",
       "        vertical-align: top;\n",
       "    }\n",
       "\n",
       "    .dataframe thead tr th {\n",
       "        text-align: left;\n",
       "    }\n",
       "\n",
       "    .dataframe thead tr:last-of-type th {\n",
       "        text-align: right;\n",
       "    }\n",
       "</style>\n",
       "<table border=\"1\" class=\"dataframe\">\n",
       "  <thead>\n",
       "    <tr>\n",
       "      <th></th>\n",
       "      <th></th>\n",
       "      <th></th>\n",
       "      <th colspan=\"2\" halign=\"left\">track</th>\n",
       "      <th>userid</th>\n",
       "    </tr>\n",
       "    <tr>\n",
       "      <th></th>\n",
       "      <th></th>\n",
       "      <th></th>\n",
       "      <th>count</th>\n",
       "      <th>nunique</th>\n",
       "      <th>nunique</th>\n",
       "    </tr>\n",
       "    <tr>\n",
       "      <th>city</th>\n",
       "      <th>day</th>\n",
       "      <th>hour</th>\n",
       "      <th></th>\n",
       "      <th></th>\n",
       "      <th></th>\n",
       "    </tr>\n",
       "  </thead>\n",
       "  <tbody>\n",
       "    <tr>\n",
       "      <th rowspan=\"5\" valign=\"top\">shelbyville</th>\n",
       "      <th rowspan=\"5\" valign=\"top\">friday</th>\n",
       "      <th>8</th>\n",
       "      <td>832</td>\n",
       "      <td>809</td>\n",
       "      <td>689</td>\n",
       "    </tr>\n",
       "    <tr>\n",
       "      <th>9</th>\n",
       "      <td>848</td>\n",
       "      <td>823</td>\n",
       "      <td>730</td>\n",
       "    </tr>\n",
       "    <tr>\n",
       "      <th>10</th>\n",
       "      <td>18</td>\n",
       "      <td>18</td>\n",
       "      <td>18</td>\n",
       "    </tr>\n",
       "    <tr>\n",
       "      <th>13</th>\n",
       "      <td>1020</td>\n",
       "      <td>987</td>\n",
       "      <td>853</td>\n",
       "    </tr>\n",
       "    <tr>\n",
       "      <th>14</th>\n",
       "      <td>1033</td>\n",
       "      <td>990</td>\n",
       "      <td>871</td>\n",
       "    </tr>\n",
       "    <tr>\n",
       "      <th>...</th>\n",
       "      <th>...</th>\n",
       "      <th>...</th>\n",
       "      <td>...</td>\n",
       "      <td>...</td>\n",
       "      <td>...</td>\n",
       "    </tr>\n",
       "    <tr>\n",
       "      <th rowspan=\"5\" valign=\"top\">springfield</th>\n",
       "      <th rowspan=\"5\" valign=\"top\">wednesday</th>\n",
       "      <th>14</th>\n",
       "      <td>2019</td>\n",
       "      <td>1903</td>\n",
       "      <td>1715</td>\n",
       "    </tr>\n",
       "    <tr>\n",
       "      <th>15</th>\n",
       "      <td>38</td>\n",
       "      <td>38</td>\n",
       "      <td>38</td>\n",
       "    </tr>\n",
       "    <tr>\n",
       "      <th>20</th>\n",
       "      <td>1987</td>\n",
       "      <td>1885</td>\n",
       "      <td>1642</td>\n",
       "    </tr>\n",
       "    <tr>\n",
       "      <th>21</th>\n",
       "      <td>1794</td>\n",
       "      <td>1676</td>\n",
       "      <td>1426</td>\n",
       "    </tr>\n",
       "    <tr>\n",
       "      <th>22</th>\n",
       "      <td>24</td>\n",
       "      <td>24</td>\n",
       "      <td>24</td>\n",
       "    </tr>\n",
       "  </tbody>\n",
       "</table>\n",
       "<p>54 rows × 3 columns</p>\n",
       "</div>"
      ],
      "text/plain": [
       "                           track          userid\n",
       "                           count nunique nunique\n",
       "city        day       hour                      \n",
       "shelbyville friday    8      832     809     689\n",
       "                      9      848     823     730\n",
       "                      10      18      18      18\n",
       "                      13    1020     987     853\n",
       "                      14    1033     990     871\n",
       "...                          ...     ...     ...\n",
       "springfield wednesday 14    2019    1903    1715\n",
       "                      15      38      38      38\n",
       "                      20    1987    1885    1642\n",
       "                      21    1794    1676    1426\n",
       "                      22      24      24      24\n",
       "\n",
       "[54 rows x 3 columns]"
      ]
     },
     "execution_count": 30,
     "metadata": {},
     "output_type": "execute_result"
    }
   ],
   "source": [
    "df_music_time_city_day = pd.pivot_table(df_music, index=['city', 'day', 'hour'], values=['userid', 'track'], aggfunc={'userid': pd.Series.nunique, 'track': [pd.Series.nunique, 'count']}, observed=False)\n",
    "df_music_time_city_day"
   ]
  },
  {
   "cell_type": "code",
   "execution_count": 31,
   "id": "8342c2a5",
   "metadata": {},
   "outputs": [
    {
     "data": {
      "application/vnd.microsoft.datawrangler.viewer.v0+json": {
       "columns": [
        {
         "name": "index",
         "rawType": "int64",
         "type": "integer"
        },
        {
         "name": "('city', '')",
         "rawType": "category",
         "type": "unknown"
        },
        {
         "name": "('day', '')",
         "rawType": "category",
         "type": "unknown"
        },
        {
         "name": "('hour', '')",
         "rawType": "category",
         "type": "unknown"
        },
        {
         "name": "('track', 'count')",
         "rawType": "int64",
         "type": "integer"
        },
        {
         "name": "('track', 'nunique')",
         "rawType": "int64",
         "type": "integer"
        },
        {
         "name": "('userid', 'nunique')",
         "rawType": "int64",
         "type": "integer"
        }
       ],
       "ref": "6b3ce17b-5372-497a-8823-73a9d122da02",
       "rows": [
        [
         "0",
         "shelbyville",
         "friday",
         "8",
         "832",
         "809",
         "689"
        ],
        [
         "1",
         "shelbyville",
         "friday",
         "9",
         "848",
         "823",
         "730"
        ],
        [
         "2",
         "shelbyville",
         "friday",
         "10",
         "18",
         "18",
         "18"
        ],
        [
         "3",
         "shelbyville",
         "friday",
         "13",
         "1020",
         "987",
         "853"
        ],
        [
         "4",
         "shelbyville",
         "friday",
         "14",
         "1033",
         "990",
         "871"
        ],
        [
         "5",
         "shelbyville",
         "friday",
         "15",
         "16",
         "16",
         "16"
        ],
        [
         "6",
         "shelbyville",
         "friday",
         "20",
         "1002",
         "974",
         "839"
        ],
        [
         "7",
         "shelbyville",
         "friday",
         "21",
         "1000",
         "964",
         "806"
        ],
        [
         "8",
         "shelbyville",
         "friday",
         "22",
         "17",
         "17",
         "17"
        ],
        [
         "9",
         "shelbyville",
         "monday",
         "8",
         "750",
         "717",
         "644"
        ],
        [
         "10",
         "shelbyville",
         "monday",
         "9",
         "800",
         "762",
         "655"
        ],
        [
         "11",
         "shelbyville",
         "monday",
         "10",
         "10",
         "10",
         "10"
        ],
        [
         "12",
         "shelbyville",
         "monday",
         "13",
         "911",
         "886",
         "770"
        ],
        [
         "13",
         "shelbyville",
         "monday",
         "14",
         "1036",
         "985",
         "867"
        ],
        [
         "14",
         "shelbyville",
         "monday",
         "15",
         "21",
         "21",
         "20"
        ],
        [
         "15",
         "shelbyville",
         "monday",
         "20",
         "990",
         "966",
         "827"
        ],
        [
         "16",
         "shelbyville",
         "monday",
         "21",
         "926",
         "897",
         "768"
        ],
        [
         "17",
         "shelbyville",
         "monday",
         "22",
         "18",
         "18",
         "17"
        ],
        [
         "18",
         "shelbyville",
         "wednesday",
         "8",
         "971",
         "929",
         "816"
        ],
        [
         "19",
         "shelbyville",
         "wednesday",
         "9",
         "1013",
         "969",
         "838"
        ],
        [
         "20",
         "shelbyville",
         "wednesday",
         "10",
         "13",
         "13",
         "13"
        ],
        [
         "21",
         "shelbyville",
         "wednesday",
         "13",
         "1189",
         "1148",
         "986"
        ],
        [
         "22",
         "shelbyville",
         "wednesday",
         "14",
         "1272",
         "1220",
         "1074"
        ],
        [
         "23",
         "shelbyville",
         "wednesday",
         "15",
         "11",
         "11",
         "11"
        ],
        [
         "24",
         "shelbyville",
         "wednesday",
         "20",
         "1231",
         "1185",
         "1007"
        ],
        [
         "25",
         "shelbyville",
         "wednesday",
         "21",
         "1148",
         "1106",
         "920"
        ],
        [
         "26",
         "shelbyville",
         "wednesday",
         "22",
         "22",
         "22",
         "22"
        ],
        [
         "27",
         "springfield",
         "friday",
         "8",
         "2676",
         "2429",
         "2197"
        ],
        [
         "28",
         "springfield",
         "friday",
         "9",
         "2675",
         "2469",
         "2217"
        ],
        [
         "29",
         "springfield",
         "friday",
         "10",
         "52",
         "52",
         "52"
        ],
        [
         "30",
         "springfield",
         "friday",
         "13",
         "2436",
         "2290",
         "2090"
        ],
        [
         "31",
         "springfield",
         "friday",
         "14",
         "2606",
         "2442",
         "2206"
        ],
        [
         "32",
         "springfield",
         "friday",
         "15",
         "48",
         "48",
         "45"
        ],
        [
         "33",
         "springfield",
         "friday",
         "20",
         "2699",
         "2502",
         "2203"
        ],
        [
         "34",
         "springfield",
         "friday",
         "21",
         "2451",
         "2276",
         "1990"
        ],
        [
         "35",
         "springfield",
         "friday",
         "22",
         "46",
         "46",
         "40"
        ],
        [
         "36",
         "springfield",
         "monday",
         "8",
         "2576",
         "2360",
         "2166"
        ],
        [
         "37",
         "springfield",
         "monday",
         "9",
         "2475",
         "2291",
         "2124"
        ],
        [
         "38",
         "springfield",
         "monday",
         "10",
         "40",
         "40",
         "39"
        ],
        [
         "39",
         "springfield",
         "monday",
         "13",
         "2520",
         "2372",
         "2075"
        ],
        [
         "40",
         "springfield",
         "monday",
         "14",
         "2569",
         "2392",
         "2137"
        ],
        [
         "41",
         "springfield",
         "monday",
         "15",
         "40",
         "40",
         "38"
        ],
        [
         "42",
         "springfield",
         "monday",
         "20",
         "2708",
         "2521",
         "2189"
        ],
        [
         "43",
         "springfield",
         "monday",
         "21",
         "2367",
         "2208",
         "1896"
        ],
        [
         "44",
         "springfield",
         "monday",
         "22",
         "42",
         "41",
         "40"
        ],
        [
         "45",
         "springfield",
         "wednesday",
         "8",
         "1438",
         "1372",
         "1206"
        ],
        [
         "46",
         "springfield",
         "wednesday",
         "9",
         "1492",
         "1407",
         "1272"
        ],
        [
         "47",
         "springfield",
         "wednesday",
         "10",
         "30",
         "30",
         "29"
        ],
        [
         "48",
         "springfield",
         "wednesday",
         "13",
         "2025",
         "1929",
         "1663"
        ],
        [
         "49",
         "springfield",
         "wednesday",
         "14",
         "2019",
         "1903",
         "1715"
        ]
       ],
       "shape": {
        "columns": 6,
        "rows": 54
       }
      },
      "text/html": [
       "<div>\n",
       "<style scoped>\n",
       "    .dataframe tbody tr th:only-of-type {\n",
       "        vertical-align: middle;\n",
       "    }\n",
       "\n",
       "    .dataframe tbody tr th {\n",
       "        vertical-align: top;\n",
       "    }\n",
       "\n",
       "    .dataframe thead tr th {\n",
       "        text-align: left;\n",
       "    }\n",
       "</style>\n",
       "<table border=\"1\" class=\"dataframe\">\n",
       "  <thead>\n",
       "    <tr>\n",
       "      <th></th>\n",
       "      <th>city</th>\n",
       "      <th>day</th>\n",
       "      <th>hour</th>\n",
       "      <th colspan=\"2\" halign=\"left\">track</th>\n",
       "      <th>userid</th>\n",
       "    </tr>\n",
       "    <tr>\n",
       "      <th></th>\n",
       "      <th></th>\n",
       "      <th></th>\n",
       "      <th></th>\n",
       "      <th>count</th>\n",
       "      <th>nunique</th>\n",
       "      <th>nunique</th>\n",
       "    </tr>\n",
       "  </thead>\n",
       "  <tbody>\n",
       "    <tr>\n",
       "      <th>0</th>\n",
       "      <td>shelbyville</td>\n",
       "      <td>friday</td>\n",
       "      <td>8</td>\n",
       "      <td>832</td>\n",
       "      <td>809</td>\n",
       "      <td>689</td>\n",
       "    </tr>\n",
       "    <tr>\n",
       "      <th>1</th>\n",
       "      <td>shelbyville</td>\n",
       "      <td>friday</td>\n",
       "      <td>9</td>\n",
       "      <td>848</td>\n",
       "      <td>823</td>\n",
       "      <td>730</td>\n",
       "    </tr>\n",
       "    <tr>\n",
       "      <th>2</th>\n",
       "      <td>shelbyville</td>\n",
       "      <td>friday</td>\n",
       "      <td>10</td>\n",
       "      <td>18</td>\n",
       "      <td>18</td>\n",
       "      <td>18</td>\n",
       "    </tr>\n",
       "    <tr>\n",
       "      <th>3</th>\n",
       "      <td>shelbyville</td>\n",
       "      <td>friday</td>\n",
       "      <td>13</td>\n",
       "      <td>1020</td>\n",
       "      <td>987</td>\n",
       "      <td>853</td>\n",
       "    </tr>\n",
       "    <tr>\n",
       "      <th>4</th>\n",
       "      <td>shelbyville</td>\n",
       "      <td>friday</td>\n",
       "      <td>14</td>\n",
       "      <td>1033</td>\n",
       "      <td>990</td>\n",
       "      <td>871</td>\n",
       "    </tr>\n",
       "    <tr>\n",
       "      <th>...</th>\n",
       "      <td>...</td>\n",
       "      <td>...</td>\n",
       "      <td>...</td>\n",
       "      <td>...</td>\n",
       "      <td>...</td>\n",
       "      <td>...</td>\n",
       "    </tr>\n",
       "    <tr>\n",
       "      <th>49</th>\n",
       "      <td>springfield</td>\n",
       "      <td>wednesday</td>\n",
       "      <td>14</td>\n",
       "      <td>2019</td>\n",
       "      <td>1903</td>\n",
       "      <td>1715</td>\n",
       "    </tr>\n",
       "    <tr>\n",
       "      <th>50</th>\n",
       "      <td>springfield</td>\n",
       "      <td>wednesday</td>\n",
       "      <td>15</td>\n",
       "      <td>38</td>\n",
       "      <td>38</td>\n",
       "      <td>38</td>\n",
       "    </tr>\n",
       "    <tr>\n",
       "      <th>51</th>\n",
       "      <td>springfield</td>\n",
       "      <td>wednesday</td>\n",
       "      <td>20</td>\n",
       "      <td>1987</td>\n",
       "      <td>1885</td>\n",
       "      <td>1642</td>\n",
       "    </tr>\n",
       "    <tr>\n",
       "      <th>52</th>\n",
       "      <td>springfield</td>\n",
       "      <td>wednesday</td>\n",
       "      <td>21</td>\n",
       "      <td>1794</td>\n",
       "      <td>1676</td>\n",
       "      <td>1426</td>\n",
       "    </tr>\n",
       "    <tr>\n",
       "      <th>53</th>\n",
       "      <td>springfield</td>\n",
       "      <td>wednesday</td>\n",
       "      <td>22</td>\n",
       "      <td>24</td>\n",
       "      <td>24</td>\n",
       "      <td>24</td>\n",
       "    </tr>\n",
       "  </tbody>\n",
       "</table>\n",
       "<p>54 rows × 6 columns</p>\n",
       "</div>"
      ],
      "text/plain": [
       "           city        day hour track          userid\n",
       "                                count nunique nunique\n",
       "0   shelbyville     friday    8   832     809     689\n",
       "1   shelbyville     friday    9   848     823     730\n",
       "2   shelbyville     friday   10    18      18      18\n",
       "3   shelbyville     friday   13  1020     987     853\n",
       "4   shelbyville     friday   14  1033     990     871\n",
       "..          ...        ...  ...   ...     ...     ...\n",
       "49  springfield  wednesday   14  2019    1903    1715\n",
       "50  springfield  wednesday   15    38      38      38\n",
       "51  springfield  wednesday   20  1987    1885    1642\n",
       "52  springfield  wednesday   21  1794    1676    1426\n",
       "53  springfield  wednesday   22    24      24      24\n",
       "\n",
       "[54 rows x 6 columns]"
      ]
     },
     "execution_count": 31,
     "metadata": {},
     "output_type": "execute_result"
    }
   ],
   "source": [
    "df_music_time_city_day = df_music_time_city_day.reset_index()\n",
    "df_music_time_city_day"
   ]
  },
  {
   "cell_type": "code",
   "execution_count": 32,
   "id": "f745a010",
   "metadata": {},
   "outputs": [
    {
     "data": {
      "application/vnd.microsoft.datawrangler.viewer.v0+json": {
       "columns": [
        {
         "name": "index",
         "rawType": "int64",
         "type": "integer"
        },
        {
         "name": "city",
         "rawType": "category",
         "type": "unknown"
        },
        {
         "name": "day",
         "rawType": "category",
         "type": "unknown"
        },
        {
         "name": "hour",
         "rawType": "category",
         "type": "unknown"
        },
        {
         "name": "total_tracks",
         "rawType": "int64",
         "type": "integer"
        },
        {
         "name": "tracks",
         "rawType": "int64",
         "type": "integer"
        },
        {
         "name": "users",
         "rawType": "int64",
         "type": "integer"
        }
       ],
       "ref": "3106d3bc-6169-4ed4-adad-2cb9011aa4c4",
       "rows": [
        [
         "0",
         "shelbyville",
         "friday",
         "8",
         "832",
         "809",
         "689"
        ],
        [
         "1",
         "shelbyville",
         "friday",
         "9",
         "848",
         "823",
         "730"
        ],
        [
         "2",
         "shelbyville",
         "friday",
         "10",
         "18",
         "18",
         "18"
        ],
        [
         "3",
         "shelbyville",
         "friday",
         "13",
         "1020",
         "987",
         "853"
        ],
        [
         "4",
         "shelbyville",
         "friday",
         "14",
         "1033",
         "990",
         "871"
        ],
        [
         "5",
         "shelbyville",
         "friday",
         "15",
         "16",
         "16",
         "16"
        ],
        [
         "6",
         "shelbyville",
         "friday",
         "20",
         "1002",
         "974",
         "839"
        ],
        [
         "7",
         "shelbyville",
         "friday",
         "21",
         "1000",
         "964",
         "806"
        ],
        [
         "8",
         "shelbyville",
         "friday",
         "22",
         "17",
         "17",
         "17"
        ],
        [
         "9",
         "shelbyville",
         "monday",
         "8",
         "750",
         "717",
         "644"
        ],
        [
         "10",
         "shelbyville",
         "monday",
         "9",
         "800",
         "762",
         "655"
        ],
        [
         "11",
         "shelbyville",
         "monday",
         "10",
         "10",
         "10",
         "10"
        ],
        [
         "12",
         "shelbyville",
         "monday",
         "13",
         "911",
         "886",
         "770"
        ],
        [
         "13",
         "shelbyville",
         "monday",
         "14",
         "1036",
         "985",
         "867"
        ],
        [
         "14",
         "shelbyville",
         "monday",
         "15",
         "21",
         "21",
         "20"
        ],
        [
         "15",
         "shelbyville",
         "monday",
         "20",
         "990",
         "966",
         "827"
        ],
        [
         "16",
         "shelbyville",
         "monday",
         "21",
         "926",
         "897",
         "768"
        ],
        [
         "17",
         "shelbyville",
         "monday",
         "22",
         "18",
         "18",
         "17"
        ],
        [
         "18",
         "shelbyville",
         "wednesday",
         "8",
         "971",
         "929",
         "816"
        ],
        [
         "19",
         "shelbyville",
         "wednesday",
         "9",
         "1013",
         "969",
         "838"
        ],
        [
         "20",
         "shelbyville",
         "wednesday",
         "10",
         "13",
         "13",
         "13"
        ],
        [
         "21",
         "shelbyville",
         "wednesday",
         "13",
         "1189",
         "1148",
         "986"
        ],
        [
         "22",
         "shelbyville",
         "wednesday",
         "14",
         "1272",
         "1220",
         "1074"
        ],
        [
         "23",
         "shelbyville",
         "wednesday",
         "15",
         "11",
         "11",
         "11"
        ],
        [
         "24",
         "shelbyville",
         "wednesday",
         "20",
         "1231",
         "1185",
         "1007"
        ],
        [
         "25",
         "shelbyville",
         "wednesday",
         "21",
         "1148",
         "1106",
         "920"
        ],
        [
         "26",
         "shelbyville",
         "wednesday",
         "22",
         "22",
         "22",
         "22"
        ],
        [
         "27",
         "springfield",
         "friday",
         "8",
         "2676",
         "2429",
         "2197"
        ],
        [
         "28",
         "springfield",
         "friday",
         "9",
         "2675",
         "2469",
         "2217"
        ],
        [
         "29",
         "springfield",
         "friday",
         "10",
         "52",
         "52",
         "52"
        ],
        [
         "30",
         "springfield",
         "friday",
         "13",
         "2436",
         "2290",
         "2090"
        ],
        [
         "31",
         "springfield",
         "friday",
         "14",
         "2606",
         "2442",
         "2206"
        ],
        [
         "32",
         "springfield",
         "friday",
         "15",
         "48",
         "48",
         "45"
        ],
        [
         "33",
         "springfield",
         "friday",
         "20",
         "2699",
         "2502",
         "2203"
        ],
        [
         "34",
         "springfield",
         "friday",
         "21",
         "2451",
         "2276",
         "1990"
        ],
        [
         "35",
         "springfield",
         "friday",
         "22",
         "46",
         "46",
         "40"
        ],
        [
         "36",
         "springfield",
         "monday",
         "8",
         "2576",
         "2360",
         "2166"
        ],
        [
         "37",
         "springfield",
         "monday",
         "9",
         "2475",
         "2291",
         "2124"
        ],
        [
         "38",
         "springfield",
         "monday",
         "10",
         "40",
         "40",
         "39"
        ],
        [
         "39",
         "springfield",
         "monday",
         "13",
         "2520",
         "2372",
         "2075"
        ],
        [
         "40",
         "springfield",
         "monday",
         "14",
         "2569",
         "2392",
         "2137"
        ],
        [
         "41",
         "springfield",
         "monday",
         "15",
         "40",
         "40",
         "38"
        ],
        [
         "42",
         "springfield",
         "monday",
         "20",
         "2708",
         "2521",
         "2189"
        ],
        [
         "43",
         "springfield",
         "monday",
         "21",
         "2367",
         "2208",
         "1896"
        ],
        [
         "44",
         "springfield",
         "monday",
         "22",
         "42",
         "41",
         "40"
        ],
        [
         "45",
         "springfield",
         "wednesday",
         "8",
         "1438",
         "1372",
         "1206"
        ],
        [
         "46",
         "springfield",
         "wednesday",
         "9",
         "1492",
         "1407",
         "1272"
        ],
        [
         "47",
         "springfield",
         "wednesday",
         "10",
         "30",
         "30",
         "29"
        ],
        [
         "48",
         "springfield",
         "wednesday",
         "13",
         "2025",
         "1929",
         "1663"
        ],
        [
         "49",
         "springfield",
         "wednesday",
         "14",
         "2019",
         "1903",
         "1715"
        ]
       ],
       "shape": {
        "columns": 6,
        "rows": 54
       }
      },
      "text/html": [
       "<div>\n",
       "<style scoped>\n",
       "    .dataframe tbody tr th:only-of-type {\n",
       "        vertical-align: middle;\n",
       "    }\n",
       "\n",
       "    .dataframe tbody tr th {\n",
       "        vertical-align: top;\n",
       "    }\n",
       "\n",
       "    .dataframe thead th {\n",
       "        text-align: right;\n",
       "    }\n",
       "</style>\n",
       "<table border=\"1\" class=\"dataframe\">\n",
       "  <thead>\n",
       "    <tr style=\"text-align: right;\">\n",
       "      <th></th>\n",
       "      <th>city</th>\n",
       "      <th>day</th>\n",
       "      <th>hour</th>\n",
       "      <th>total_tracks</th>\n",
       "      <th>tracks</th>\n",
       "      <th>users</th>\n",
       "    </tr>\n",
       "  </thead>\n",
       "  <tbody>\n",
       "    <tr>\n",
       "      <th>0</th>\n",
       "      <td>shelbyville</td>\n",
       "      <td>friday</td>\n",
       "      <td>8</td>\n",
       "      <td>832</td>\n",
       "      <td>809</td>\n",
       "      <td>689</td>\n",
       "    </tr>\n",
       "    <tr>\n",
       "      <th>1</th>\n",
       "      <td>shelbyville</td>\n",
       "      <td>friday</td>\n",
       "      <td>9</td>\n",
       "      <td>848</td>\n",
       "      <td>823</td>\n",
       "      <td>730</td>\n",
       "    </tr>\n",
       "    <tr>\n",
       "      <th>2</th>\n",
       "      <td>shelbyville</td>\n",
       "      <td>friday</td>\n",
       "      <td>10</td>\n",
       "      <td>18</td>\n",
       "      <td>18</td>\n",
       "      <td>18</td>\n",
       "    </tr>\n",
       "    <tr>\n",
       "      <th>3</th>\n",
       "      <td>shelbyville</td>\n",
       "      <td>friday</td>\n",
       "      <td>13</td>\n",
       "      <td>1020</td>\n",
       "      <td>987</td>\n",
       "      <td>853</td>\n",
       "    </tr>\n",
       "    <tr>\n",
       "      <th>4</th>\n",
       "      <td>shelbyville</td>\n",
       "      <td>friday</td>\n",
       "      <td>14</td>\n",
       "      <td>1033</td>\n",
       "      <td>990</td>\n",
       "      <td>871</td>\n",
       "    </tr>\n",
       "    <tr>\n",
       "      <th>...</th>\n",
       "      <td>...</td>\n",
       "      <td>...</td>\n",
       "      <td>...</td>\n",
       "      <td>...</td>\n",
       "      <td>...</td>\n",
       "      <td>...</td>\n",
       "    </tr>\n",
       "    <tr>\n",
       "      <th>49</th>\n",
       "      <td>springfield</td>\n",
       "      <td>wednesday</td>\n",
       "      <td>14</td>\n",
       "      <td>2019</td>\n",
       "      <td>1903</td>\n",
       "      <td>1715</td>\n",
       "    </tr>\n",
       "    <tr>\n",
       "      <th>50</th>\n",
       "      <td>springfield</td>\n",
       "      <td>wednesday</td>\n",
       "      <td>15</td>\n",
       "      <td>38</td>\n",
       "      <td>38</td>\n",
       "      <td>38</td>\n",
       "    </tr>\n",
       "    <tr>\n",
       "      <th>51</th>\n",
       "      <td>springfield</td>\n",
       "      <td>wednesday</td>\n",
       "      <td>20</td>\n",
       "      <td>1987</td>\n",
       "      <td>1885</td>\n",
       "      <td>1642</td>\n",
       "    </tr>\n",
       "    <tr>\n",
       "      <th>52</th>\n",
       "      <td>springfield</td>\n",
       "      <td>wednesday</td>\n",
       "      <td>21</td>\n",
       "      <td>1794</td>\n",
       "      <td>1676</td>\n",
       "      <td>1426</td>\n",
       "    </tr>\n",
       "    <tr>\n",
       "      <th>53</th>\n",
       "      <td>springfield</td>\n",
       "      <td>wednesday</td>\n",
       "      <td>22</td>\n",
       "      <td>24</td>\n",
       "      <td>24</td>\n",
       "      <td>24</td>\n",
       "    </tr>\n",
       "  </tbody>\n",
       "</table>\n",
       "<p>54 rows × 6 columns</p>\n",
       "</div>"
      ],
      "text/plain": [
       "           city        day hour  total_tracks  tracks  users\n",
       "0   shelbyville     friday    8           832     809    689\n",
       "1   shelbyville     friday    9           848     823    730\n",
       "2   shelbyville     friday   10            18      18     18\n",
       "3   shelbyville     friday   13          1020     987    853\n",
       "4   shelbyville     friday   14          1033     990    871\n",
       "..          ...        ...  ...           ...     ...    ...\n",
       "49  springfield  wednesday   14          2019    1903   1715\n",
       "50  springfield  wednesday   15            38      38     38\n",
       "51  springfield  wednesday   20          1987    1885   1642\n",
       "52  springfield  wednesday   21          1794    1676   1426\n",
       "53  springfield  wednesday   22            24      24     24\n",
       "\n",
       "[54 rows x 6 columns]"
      ]
     },
     "execution_count": 32,
     "metadata": {},
     "output_type": "execute_result"
    }
   ],
   "source": [
    "df_music_time_city_day.columns = ['city', 'day', 'hour', 'total_tracks', 'tracks', 'users']\n",
    "df_music_time_city_day"
   ]
  },
  {
   "cell_type": "code",
   "execution_count": 33,
   "id": "f734e195",
   "metadata": {},
   "outputs": [],
   "source": [
    "project_root = Path.cwd().parent\n",
    "processed_path = project_root / \"data\" / \"processed\" / \"music_activity_time_city_day.csv\"\n",
    "\n",
    "df_music_time_city_day.to_csv(processed_path, index=False)"
   ]
  }
 ],
 "metadata": {
  "kernelspec": {
   "display_name": "Win11_Python-Mature-PipVenv-Github-3.10",
   "language": "python",
   "name": "python3"
  },
  "language_info": {
   "codemirror_mode": {
    "name": "ipython",
    "version": 3
   },
   "file_extension": ".py",
   "mimetype": "text/x-python",
   "name": "python",
   "nbconvert_exporter": "python",
   "pygments_lexer": "ipython3",
   "version": "3.10.0"
  }
 },
 "nbformat": 4,
 "nbformat_minor": 5
}
